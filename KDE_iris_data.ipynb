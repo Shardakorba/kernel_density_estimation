{
 "cells": [
  {
   "cell_type": "markdown",
   "id": "dde14229-6650-4c4b-8556-cf8b84e5991e",
   "metadata": {},
   "source": [
    "### Importing Libraries"
   ]
  },
  {
   "cell_type": "code",
   "execution_count": 9,
   "id": "73c9539c-0bf6-4941-9f11-2ff74e1210fe",
   "metadata": {},
   "outputs": [],
   "source": [
    "import numpy as np\n",
    "import matplotlib.pyplot as plt\n",
    "import matplotlib.cm as cm\n",
    "from sklearn import datasets"
   ]
  },
  {
   "cell_type": "markdown",
   "id": "673f5a6e-4e09-45b1-a72a-d71facff4cec",
   "metadata": {},
   "source": [
    "### Dataset\n",
    "- Here we used an iris dataset. The size of the dataset is $150\\times4$. The data was importedd from sklearn dataset where the data was stored as a dictionary with multiple keys. like -['data', 'target', 'frame', 'target_names', 'DESCR', 'feature_names', 'filename', 'data_module].\n",
    "- Here for implementation, we used only two keys: ' data' and  'target'. Where the dimension of data is $150\\times 4$ and target dimension is $150\\times1$. The target array has three classes for prediction.\n",
    "- Then we shuffle both data and target maining their order. After that we split the data into two parts: training data with dimension $100\\times4$ and test data with dimension $50\\times4$."
   ]
  },
  {
   "cell_type": "code",
   "execution_count": 11,
   "id": "f8d23aef-28b2-4c5f-b642-a349e6e02f74",
   "metadata": {},
   "outputs": [],
   "source": [
    "iris = datasets.load_iris()"
   ]
  },
  {
   "cell_type": "code",
   "execution_count": 12,
   "id": "c14ec48e-7c8a-4023-bf54-05d37c76a909",
   "metadata": {},
   "outputs": [
    {
     "data": {
      "text/plain": [
       "sklearn.utils._bunch.Bunch"
      ]
     },
     "execution_count": 12,
     "metadata": {},
     "output_type": "execute_result"
    }
   ],
   "source": [
    "type(iris)"
   ]
  },
  {
   "cell_type": "code",
   "execution_count": 13,
   "id": "e1cfba53-f6f2-48b3-8006-ab1f8b62c31b",
   "metadata": {},
   "outputs": [
    {
     "data": {
      "text/plain": [
       "dict_keys(['data', 'target', 'frame', 'target_names', 'DESCR', 'feature_names', 'filename', 'data_module'])"
      ]
     },
     "execution_count": 13,
     "metadata": {},
     "output_type": "execute_result"
    }
   ],
   "source": [
    "iris.keys()"
   ]
  },
  {
   "cell_type": "code",
   "execution_count": 18,
   "id": "96b2e6d0-9672-468c-8bdc-f570922be649",
   "metadata": {},
   "outputs": [],
   "source": [
    "data=iris[\"data\"]"
   ]
  },
  {
   "cell_type": "code",
   "execution_count": 20,
   "id": "5a185cbd-c878-4fbd-9bf4-f51e5fe47ca6",
   "metadata": {},
   "outputs": [],
   "source": [
    "target=iris[\"target\"]"
   ]
  },
  {
   "cell_type": "code",
   "execution_count": 22,
   "id": "7d5fe630-1490-42f3-9cec-c75a7a94ce5a",
   "metadata": {},
   "outputs": [
    {
     "data": {
      "text/plain": [
       "(150, 4)"
      ]
     },
     "execution_count": 22,
     "metadata": {},
     "output_type": "execute_result"
    }
   ],
   "source": [
    "data.shape"
   ]
  },
  {
   "cell_type": "code",
   "execution_count": 24,
   "id": "8200a98d-94a2-4330-abfd-9a383ac3113e",
   "metadata": {},
   "outputs": [
    {
     "data": {
      "text/plain": [
       "numpy.ndarray"
      ]
     },
     "execution_count": 24,
     "metadata": {},
     "output_type": "execute_result"
    }
   ],
   "source": [
    "type(data)"
   ]
  },
  {
   "cell_type": "code",
   "execution_count": 26,
   "id": "5f57b041-885d-4737-9436-2129dee346b9",
   "metadata": {},
   "outputs": [
    {
     "data": {
      "text/plain": [
       "array([[5.1, 3.5, 1.4, 0.2],\n",
       "       [4.9, 3. , 1.4, 0.2],\n",
       "       [4.7, 3.2, 1.3, 0.2],\n",
       "       [4.6, 3.1, 1.5, 0.2],\n",
       "       [5. , 3.6, 1.4, 0.2],\n",
       "       [5.4, 3.9, 1.7, 0.4],\n",
       "       [4.6, 3.4, 1.4, 0.3],\n",
       "       [5. , 3.4, 1.5, 0.2],\n",
       "       [4.4, 2.9, 1.4, 0.2],\n",
       "       [4.9, 3.1, 1.5, 0.1]])"
      ]
     },
     "execution_count": 26,
     "metadata": {},
     "output_type": "execute_result"
    }
   ],
   "source": [
    "data[:10]"
   ]
  },
  {
   "cell_type": "code",
   "execution_count": 28,
   "id": "26d2b3f9-ac87-465e-9a39-3f98498a9106",
   "metadata": {},
   "outputs": [
    {
     "data": {
      "text/plain": [
       "(150,)"
      ]
     },
     "execution_count": 28,
     "metadata": {},
     "output_type": "execute_result"
    }
   ],
   "source": [
    "target.shape"
   ]
  },
  {
   "cell_type": "code",
   "execution_count": 30,
   "id": "b92aa93e-07e5-4b03-9225-32ab6080d07e",
   "metadata": {},
   "outputs": [
    {
     "data": {
      "text/plain": [
       "array([0, 0, 0, 0, 0, 0, 0, 0, 0, 0, 0, 0, 0, 0, 0, 0, 0, 0, 0, 0, 0, 0,\n",
       "       0, 0, 0, 0, 0, 0, 0, 0, 0, 0, 0, 0, 0, 0, 0, 0, 0, 0, 0, 0, 0, 0,\n",
       "       0, 0, 0, 0, 0, 0, 1, 1, 1, 1, 1, 1, 1, 1, 1, 1, 1, 1, 1, 1, 1, 1,\n",
       "       1, 1, 1, 1, 1, 1, 1, 1, 1, 1, 1, 1, 1, 1, 1, 1, 1, 1, 1, 1, 1, 1,\n",
       "       1, 1, 1, 1, 1, 1, 1, 1, 1, 1, 1, 1, 2, 2, 2, 2, 2, 2, 2, 2, 2, 2,\n",
       "       2, 2, 2, 2, 2, 2, 2, 2, 2, 2, 2, 2, 2, 2, 2, 2, 2, 2, 2, 2, 2, 2,\n",
       "       2, 2, 2, 2, 2, 2, 2, 2, 2, 2, 2, 2, 2, 2, 2, 2, 2, 2])"
      ]
     },
     "execution_count": 30,
     "metadata": {},
     "output_type": "execute_result"
    }
   ],
   "source": [
    "target"
   ]
  },
  {
   "cell_type": "code",
   "execution_count": 32,
   "id": "6bf68c2f-228a-4996-b8fb-ebff1e47f61b",
   "metadata": {},
   "outputs": [],
   "source": [
    "np.random.seed(42)\n",
    "shuffle=np.random.permutation(150)\n",
    "data=data[shuffle]\n",
    "target=target[shuffle]"
   ]
  },
  {
   "cell_type": "code",
   "execution_count": 34,
   "id": "4a61014e-dfe2-4a4a-8474-703b7908ee8c",
   "metadata": {},
   "outputs": [
    {
     "data": {
      "text/plain": [
       "array([[6.1, 2.8, 4.7, 1.2],\n",
       "       [5.7, 3.8, 1.7, 0.3],\n",
       "       [7.7, 2.6, 6.9, 2.3],\n",
       "       [6. , 2.9, 4.5, 1.5],\n",
       "       [6.8, 2.8, 4.8, 1.4],\n",
       "       [5.4, 3.4, 1.5, 0.4],\n",
       "       [5.6, 2.9, 3.6, 1.3],\n",
       "       [6.9, 3.1, 5.1, 2.3],\n",
       "       [6.2, 2.2, 4.5, 1.5],\n",
       "       [5.8, 2.7, 3.9, 1.2]])"
      ]
     },
     "execution_count": 34,
     "metadata": {},
     "output_type": "execute_result"
    }
   ],
   "source": [
    "data[:10]"
   ]
  },
  {
   "cell_type": "code",
   "execution_count": 36,
   "id": "2d998211-c1cf-48bc-af99-e329c5fbcd9b",
   "metadata": {},
   "outputs": [
    {
     "data": {
      "text/plain": [
       "array([1, 0, 2, 1, 1, 0, 1, 2, 1, 1, 2, 0, 0, 0, 0, 1, 2, 1, 1, 2, 0, 2,\n",
       "       0, 2, 2, 2, 2, 2, 0, 0, 0, 0, 1, 0, 0, 2, 1, 0, 0, 0, 2, 1, 1, 0,\n",
       "       0, 1, 2, 2, 1, 2, 1, 2, 1, 0, 2, 1, 0, 0, 0, 1, 2, 0, 0, 0, 1, 0,\n",
       "       1, 2, 0, 1, 2, 0, 2, 2, 1, 1, 2, 1, 0, 1, 2, 0, 0, 1, 1, 0, 2, 0,\n",
       "       0, 1, 1, 2, 1, 2, 2, 1, 0, 0, 2, 2, 0, 0, 0, 1, 2, 0, 2, 2, 0, 1,\n",
       "       1, 2, 1, 2, 0, 2, 1, 2, 1, 1, 1, 0, 1, 1, 0, 1, 2, 2, 0, 1, 2, 2,\n",
       "       0, 2, 0, 1, 2, 2, 1, 2, 1, 1, 2, 2, 0, 1, 2, 0, 1, 2])"
      ]
     },
     "execution_count": 36,
     "metadata": {},
     "output_type": "execute_result"
    }
   ],
   "source": [
    "target"
   ]
  },
  {
   "cell_type": "code",
   "execution_count": 38,
   "id": "54355c11-4e54-480a-8d03-813abe5c6ae2",
   "metadata": {},
   "outputs": [],
   "source": [
    "data_train=data[:100]"
   ]
  },
  {
   "cell_type": "code",
   "execution_count": 40,
   "id": "a82bed88-69cb-466e-8b5d-6c6b650a3aa0",
   "metadata": {},
   "outputs": [
    {
     "data": {
      "text/plain": [
       "(100, 4)"
      ]
     },
     "execution_count": 40,
     "metadata": {},
     "output_type": "execute_result"
    }
   ],
   "source": [
    "data_train.shape"
   ]
  },
  {
   "cell_type": "code",
   "execution_count": 42,
   "id": "7564b19d-5a57-4c33-be91-67d8b05555e1",
   "metadata": {},
   "outputs": [],
   "source": [
    "data_test=data[100:]"
   ]
  },
  {
   "cell_type": "code",
   "execution_count": 44,
   "id": "37d40bc2-f8d8-483f-af79-ca26eb8648ec",
   "metadata": {},
   "outputs": [
    {
     "data": {
      "text/plain": [
       "(50, 4)"
      ]
     },
     "execution_count": 44,
     "metadata": {},
     "output_type": "execute_result"
    }
   ],
   "source": [
    "data_test.shape"
   ]
  },
  {
   "cell_type": "code",
   "execution_count": 46,
   "id": "a2f34f3b-3efd-45d7-9e81-865f77cb5699",
   "metadata": {},
   "outputs": [],
   "source": [
    "target_train=target[:100]"
   ]
  },
  {
   "cell_type": "code",
   "execution_count": 48,
   "id": "6e417d44-8559-4368-9e17-a76fbad83d52",
   "metadata": {},
   "outputs": [],
   "source": [
    "target_test=target[100:]"
   ]
  },
  {
   "cell_type": "markdown",
   "id": "8ec4041c-7193-456c-a5fb-3b5a164bd7ec",
   "metadata": {},
   "source": [
    "### Kernel Density Function\n",
    "At this point we designed our kernel function. We used multidimensional gaussian like $4$-dimensional Gaussian Kernel function which is expressed mathematically as: \n",
    "$$\n",
    "K(x) = {2\\pi}^{-\\frac{d}{2}} {det(H)}^{-\\frac{1}{2}} e^{-\\frac{1}{2} {x^T} {H^{-1}}x}\n",
    "$$\n",
    "where $d$ can be a size of train data, column in multi-dimensional case and $H$ is an identitiy mstrix of dimension $4$. We calculate the Kernel density at some point $x$ using the formula:\n",
    "$$\n",
    "f(x) = {\\frac{1}{n}}{\\sum_{i=1}^{n}K(x-x_{i})}\n",
    "$$\n",
    "Where $x_{i}$ denotes the $i$-th data point of the training data which is used to calculate the density at point any point $x$. We can put each test data as an argument to this function to obtain densities at the test data points. Note that in the multi-dimensional case $x$ and $x_i$ are both vectors of dimension $4$. In general if we are dealing with an $n$-dimentional data, then $x$ and $x_i$ would be vectors of dimnesion $n$ and the bandwidth or covariance matrix $H$ has to be of dimension $n\\times n$."
   ]
  },
  {
   "cell_type": "code",
   "execution_count": 8,
   "id": "d9899409-3ea2-406f-8197-49de0e02cb51",
   "metadata": {},
   "outputs": [],
   "source": [
    "def k(H, x, d):\n",
    "    H_inv=np.linalg.inv(H)\n",
    "    xt=np.matrix.transpose(x)\n",
    "    y_1=np.matmul(xt,H_inv)\n",
    "    y=np.matmul(y_1,x)\n",
    "    exponent=np.exp(-0.5*y)\n",
    "    t_1=1/np.sqrt(np.linalg.det(H))\n",
    "    t_2=(2*np.pi)**(-d/2)\n",
    "    t=t_1*t_2*exponent\n",
    "    return t"
   ]
  },
  {
   "cell_type": "code",
   "execution_count": 314,
   "id": "fd90d5cd-5aa0-4a8b-b63c-4f3c22ca509c",
   "metadata": {},
   "outputs": [],
   "source": [
    "def density_gen(data_test, data_train):\n",
    "    density_list=[]\n",
    "    for j in range(len(data_test)):\n",
    "        s=0\n",
    "        for i in range(len(data_train)):\n",
    "            xi=data_train[i]\n",
    "            dif=data_test[j]-xi \n",
    "            s=s+k(np.identity(data_train.shape[1]), dif, data_train.shape[1])\n",
    "        density_list.append(s/len(data_train))\n",
    "    return np.array(density_list)"
   ]
  },
  {
   "cell_type": "code",
   "execution_count": 316,
   "id": "1715ddb6-1219-4517-a01a-fbc62dffab1b",
   "metadata": {},
   "outputs": [],
   "source": [
    "density_list=density_gen(data_test,data_train)"
   ]
  },
  {
   "cell_type": "code",
   "execution_count": 318,
   "id": "95025297-5dfc-4538-813e-16c2b1e22214",
   "metadata": {},
   "outputs": [
    {
     "data": {
      "text/plain": [
       "(50,)"
      ]
     },
     "execution_count": 318,
     "metadata": {},
     "output_type": "execute_result"
    }
   ],
   "source": [
    "density_list.shape"
   ]
  },
  {
   "cell_type": "markdown",
   "id": "e9f97ee0-b415-4d71-b735-8c1767688172",
   "metadata": {},
   "source": [
    "### Classification\n",
    " - We have three target values in our data. We partitioned our training data as per these target values or classes.\n",
    " - We used the three class-wise partitions of the training data to claculate three separate density distribitions for each test data point.\n",
    " - For each test data point we identify the density distribution of the target class for which that test data point exhibits maximum density value.\n",
    " - The identified target class is predicted as the target of that test data point\n",
    " - We than compare the predicted taget value with the original target values to observe that our model produces an accuracy of $92$ percent."
   ]
  },
  {
   "cell_type": "code",
   "execution_count": 320,
   "id": "18ab50f0-49e7-4293-b81f-07df3cac7e0e",
   "metadata": {},
   "outputs": [],
   "source": [
    "def get_class_data(class_index,data,target):\n",
    "    class_data=[]\n",
    "    for i in range(len(target)):\n",
    "        if target[i]==class_index:\n",
    "            class_data.append(data[i])\n",
    "    return np.array(class_data)"
   ]
  },
  {
   "cell_type": "code",
   "execution_count": 322,
   "id": "ccb4f9cb-de8f-487d-9d0b-4f9f7b06c4b2",
   "metadata": {},
   "outputs": [],
   "source": [
    "class0_data_train=get_class_data(0,data_train,target_train)"
   ]
  },
  {
   "cell_type": "code",
   "execution_count": 324,
   "id": "a50086e0-b251-4f2e-959e-4752040317cc",
   "metadata": {},
   "outputs": [],
   "source": [
    "class1_data_train=get_class_data(1,data_train,target_train)"
   ]
  },
  {
   "cell_type": "code",
   "execution_count": 326,
   "id": "eb8dea4a-4696-41f0-84d9-e16b435dae9d",
   "metadata": {},
   "outputs": [],
   "source": [
    "class2_data_train=get_class_data(2,data_train,target_train)"
   ]
  },
  {
   "cell_type": "code",
   "execution_count": 301,
   "id": "ebdfcdce-3ae6-4d91-b61c-a5f0b3cf72df",
   "metadata": {},
   "outputs": [],
   "source": [
    "class_0_density_list=density_gen(data_test,class0_data_train)"
   ]
  },
  {
   "cell_type": "code",
   "execution_count": 303,
   "id": "efd4e661-e1cb-4271-8267-8cdbbcfb92f8",
   "metadata": {},
   "outputs": [],
   "source": [
    "class_1_density_list=density_gen(data_test,class1_data_train)"
   ]
  },
  {
   "cell_type": "code",
   "execution_count": 305,
   "id": "c950fbe3-47e7-4dbc-9af5-6c2697b5fbed",
   "metadata": {},
   "outputs": [],
   "source": [
    "class_2_density_list=density_gen(data_test,class2_data_train)"
   ]
  },
  {
   "cell_type": "code",
   "execution_count": 359,
   "id": "2d9d431f-b4b4-4223-b49b-c91090e8b7d7",
   "metadata": {},
   "outputs": [
    {
     "data": {
      "text/plain": [
       "0.0003690785932502478"
      ]
     },
     "execution_count": 359,
     "metadata": {},
     "output_type": "execute_result"
    }
   ],
   "source": [
    "class_0_density_list[25]"
   ]
  },
  {
   "cell_type": "code",
   "execution_count": 361,
   "id": "3221781a-8935-4852-b4ee-554e9e6f19f2",
   "metadata": {},
   "outputs": [
    {
     "data": {
      "text/plain": [
       "0.017838473830496422"
      ]
     },
     "execution_count": 361,
     "metadata": {},
     "output_type": "execute_result"
    }
   ],
   "source": [
    "class_1_density_list[25]"
   ]
  },
  {
   "cell_type": "code",
   "execution_count": 363,
   "id": "404180a7-e53a-476c-9541-14e15102e6a3",
   "metadata": {},
   "outputs": [
    {
     "data": {
      "text/plain": [
       "0.005764137208793522"
      ]
     },
     "execution_count": 363,
     "metadata": {},
     "output_type": "execute_result"
    }
   ],
   "source": [
    "class_2_density_list[25]"
   ]
  },
  {
   "cell_type": "code",
   "execution_count": 365,
   "id": "6480ac2b-8f40-4c5e-92f5-ccd6c5a6c6e4",
   "metadata": {},
   "outputs": [
    {
     "data": {
      "text/plain": [
       "1"
      ]
     },
     "execution_count": 365,
     "metadata": {},
     "output_type": "execute_result"
    }
   ],
   "source": [
    "target_test[25]"
   ]
  },
  {
   "cell_type": "code",
   "execution_count": 373,
   "id": "2258c93b-8daf-48f4-b54a-6f36eb3781c2",
   "metadata": {},
   "outputs": [],
   "source": [
    "predicted_classes=[]\n",
    "for i in range(len(data_test)):\n",
    "    predicted_class=np.argmax(np.array([class_0_density_list[i],class_1_density_list[i],class_2_density_list[i]]))\n",
    "    predicted_classes.append(predicted_class)"
   ]
  },
  {
   "cell_type": "code",
   "execution_count": 385,
   "id": "378766a5-7996-45f0-b6c5-e241c02e3044",
   "metadata": {},
   "outputs": [
    {
     "data": {
      "text/plain": [
       "0.92"
      ]
     },
     "execution_count": 385,
     "metadata": {},
     "output_type": "execute_result"
    }
   ],
   "source": [
    "np.sum(np.array(predicted_classes)==target_test)/len(target_test)"
   ]
  },
  {
   "cell_type": "code",
   "execution_count": null,
   "id": "a0d0367f-245a-41f4-aacd-215a7c7ca3c9",
   "metadata": {},
   "outputs": [],
   "source": []
  }
 ],
 "metadata": {
  "kernelspec": {
   "display_name": "Python 3 (ipykernel)",
   "language": "python",
   "name": "python3"
  },
  "language_info": {
   "codemirror_mode": {
    "name": "ipython",
    "version": 3
   },
   "file_extension": ".py",
   "mimetype": "text/x-python",
   "name": "python",
   "nbconvert_exporter": "python",
   "pygments_lexer": "ipython3",
   "version": "3.11.7"
  }
 },
 "nbformat": 4,
 "nbformat_minor": 5
}

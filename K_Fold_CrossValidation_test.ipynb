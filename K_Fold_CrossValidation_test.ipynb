{
  "cells": [
    {
      "cell_type": "markdown",
      "source": [
        "**Importing all necessary library**"
      ],
      "metadata": {
        "id": "NnzKaQMDW3u8"
      }
    },
    {
      "cell_type": "code",
      "source": [
        "import numpy as np\n",
        "from tqdm.notebook import tqdm\n",
        "from sklearn.preprocessing import StandardScaler\n",
        "from sklearn.decomposition import PCA\n",
        "import matplotlib.pyplot as plt\n",
        "from sklearn.neighbors import KNeighborsClassifier\n",
        "from sklearn.metrics import confusion_matrix\n",
        "from sklearn.metrics import accuracy_score\n",
        "from sklearn.metrics import balanced_accuracy_score\n",
        "from sklearn.metrics import f1_score\n",
        "from imblearn.metrics import geometric_mean_score\n",
        "from sklearn.metrics import cohen_kappa_score\n",
        "from imblearn.over_sampling import SMOTE\n",
        "from collections import Counter"
      ],
      "metadata": {
        "id": "OtUEwli_W5dB"
      },
      "execution_count": null,
      "outputs": []
    },
    {
      "cell_type": "markdown",
      "source": [
        "- Here we used a mammography data, which have 6 different input feature and one target. In the target feature it has two classes, '-1' which stand for the majority class and '1' which stand for the minority class, hence the data is imbalanced. The type of the target data is string, where the type of feature variable is integer, so for that reason we have to preprocess the our data.\n",
        "-**Preprocessing:**\n",
        "\n",
        "1.   First we will split the file into lines and then right strip for every line.\n",
        "2.   Then we store the feature and target values  separately into some list."
      ],
      "metadata": {
        "id": "6V2Cm03-Xhtn"
      }
    },
    {
      "cell_type": "code",
      "execution_count": null,
      "metadata": {
        "id": "1LdaXL6U4Ln8"
      },
      "outputs": [],
      "source": [
        "with open('/content/drive/MyDrive/mammography_data.txt') as f:\n",
        "  lines = [line.rstrip('\\n')for line in f]"
      ]
    },
    {
      "cell_type": "code",
      "execution_count": null,
      "metadata": {
        "id": "NWMFzBiw5bzH"
      },
      "outputs": [],
      "source": [
        "data_list=[]\n",
        "for i in range(len(lines)):\n",
        "    l= lines[i].split(',')\n",
        "    a=[float(i) for i in l[:-1]]\n",
        "    data_list.append(a)\n",
        "data= np.array(data_list)"
      ]
    },
    {
      "cell_type": "code",
      "source": [
        "data.shape"
      ],
      "metadata": {
        "colab": {
          "base_uri": "https://localhost:8080/"
        },
        "id": "_V8nOVRyt0rv",
        "outputId": "ca968b93-82f8-46ac-f1ac-89108bb9c3a8"
      },
      "execution_count": null,
      "outputs": [
        {
          "output_type": "execute_result",
          "data": {
            "text/plain": [
              "(11183, 6)"
            ]
          },
          "metadata": {},
          "execution_count": 4
        }
      ]
    },
    {
      "cell_type": "code",
      "execution_count": null,
      "metadata": {
        "id": "_XLvvDErO_Sj"
      },
      "outputs": [],
      "source": [
        "labels_string=[]\n",
        "for i in range(len(lines)):\n",
        "  labels_string.append(lines[i].split(',')[-1])"
      ]
    },
    {
      "cell_type": "code",
      "execution_count": null,
      "metadata": {
        "id": "ZFVQ9DvEQh8O"
      },
      "outputs": [],
      "source": [
        "labels=[]\n",
        "for i in range(len(labels_string)):\n",
        "  if labels_string[i]==np.unique(labels_string)[0]:\n",
        "    labels.append(-1)\n",
        "  else:\n",
        "    labels.append(1)\n",
        "labels=np.array(labels)"
      ]
    },
    {
      "cell_type": "markdown",
      "source": [
        "### **K-fold :**\n",
        "Here we break down our input feature and target class, into 'k' number of folds separately, such that each folds have (k-1) training data and there should be a single test data in each fold.\n",
        "\\\n",
        "After that, we take the first fold (input feature,target class) from k-folds and we split that into traning data and test data, Then by looking the target unique values,we split the training data into majority which is for '-1' class and minority class which is for '1'.\n"
      ],
      "metadata": {
        "id": "Xe8d-As8d2GE"
      }
    },
    {
      "cell_type": "code",
      "source": [
        "def get_folds(data,labels,k):\n",
        "  np.random.seed(42)\n",
        "  shuffle=np.random.permutation(len(data))\n",
        "  data=data[shuffle]\n",
        "  labels=labels[shuffle]\n",
        "\n",
        "  block_length=int(len(data)/k)\n",
        "  data_folds=[]\n",
        "  label_folds=[]\n",
        "  for i in range(k):\n",
        "    if i==(k-1):\n",
        "      data_fold=data[i*block_length:]\n",
        "      data_folds.append(data_fold)\n",
        "      label_fold=labels[i*block_length:]\n",
        "      label_folds.append(label_fold)\n",
        "    else:\n",
        "      data_fold=data[i*block_length:block_length*(i+1)]\n",
        "      data_folds.append(data_fold)\n",
        "      label_fold=labels[i*block_length:block_length*(i+1)]\n",
        "      label_folds.append(label_fold)\n",
        "  return np.array(data_folds,dtype=object),np.array(label_folds,dtype=object)"
      ],
      "metadata": {
        "id": "NjaH302V4x4I"
      },
      "execution_count": null,
      "outputs": []
    },
    {
      "cell_type": "code",
      "source": [
        "def divide_data_into_k_folds(data,labels,k):\n",
        "  data_folds_array,label_folds_array=get_folds(data,labels,k)\n",
        "  all_data_folds_list=[]\n",
        "  all_labels_folds_list=[]\n",
        "  for i in range(k):\n",
        "    data_fold_k=[np.concatenate(data_folds_array[np.where(np.array(list(range(k)))!=i)[0]]), data_folds_array[i]]\n",
        "    all_data_folds_list.append(data_fold_k)\n",
        "\n",
        "    label_fold_k=[np.concatenate(label_folds_array[np.where(np.array(list(range(k)))!=i)[0]]), label_folds_array[i]]\n",
        "    all_labels_folds_list.append(label_fold_k)\n",
        "\n",
        "  return all_data_folds_list, all_labels_folds_list"
      ],
      "metadata": {
        "id": "QKriXh37qcAU"
      },
      "execution_count": null,
      "outputs": []
    },
    {
      "cell_type": "code",
      "source": [
        "all_data_folds_list, all_labels_folds_list=divide_data_into_k_folds(data,labels,3)"
      ],
      "metadata": {
        "id": "VG2u0lk15M6_"
      },
      "execution_count": null,
      "outputs": []
    },
    {
      "cell_type": "code",
      "source": [
        "X_train,X_test=all_data_folds_list[0][0],all_data_folds_list[0][1]"
      ],
      "metadata": {
        "id": "oXUKt99frcUq"
      },
      "execution_count": null,
      "outputs": []
    },
    {
      "cell_type": "code",
      "source": [
        "X_train.shape"
      ],
      "metadata": {
        "colab": {
          "base_uri": "https://localhost:8080/"
        },
        "id": "gk_jILn3MoLV",
        "outputId": "eed8c907-b2a9-4b95-f75a-e40263a914a8"
      },
      "execution_count": null,
      "outputs": [
        {
          "output_type": "execute_result",
          "data": {
            "text/plain": [
              "(7456, 6)"
            ]
          },
          "metadata": {},
          "execution_count": 11
        }
      ]
    },
    {
      "cell_type": "code",
      "source": [
        "y_train,y_test=all_labels_folds_list[0][0],all_labels_folds_list[0][1]"
      ],
      "metadata": {
        "id": "EcM3g_D4vigw"
      },
      "execution_count": null,
      "outputs": []
    },
    {
      "cell_type": "code",
      "source": [
        "y_train.shape"
      ],
      "metadata": {
        "colab": {
          "base_uri": "https://localhost:8080/"
        },
        "id": "52y9l777vpMz",
        "outputId": "dbbdefd4-583f-4286-8288-626a8af316a9"
      },
      "execution_count": null,
      "outputs": [
        {
          "output_type": "execute_result",
          "data": {
            "text/plain": [
              "(7456,)"
            ]
          },
          "metadata": {},
          "execution_count": 13
        }
      ]
    },
    {
      "cell_type": "code",
      "source": [
        "np.unique(y_train, return_counts=True)"
      ],
      "metadata": {
        "colab": {
          "base_uri": "https://localhost:8080/"
        },
        "id": "_9rrEUt_vsA3",
        "outputId": "09f917d8-38cf-4e85-fdd9-2c6f3c3b7ce4"
      },
      "execution_count": null,
      "outputs": [
        {
          "output_type": "execute_result",
          "data": {
            "text/plain": [
              "(array([-1,  1]), array([7280,  176]))"
            ]
          },
          "metadata": {},
          "execution_count": 14
        }
      ]
    },
    {
      "cell_type": "code",
      "source": [
        "X_train_minority=[]\n",
        "for i in np.where(y_train==1):\n",
        "    a=X_train[i]\n",
        "    X_train_minority.append(a)"
      ],
      "metadata": {
        "id": "kFa5Zrep4wuX"
      },
      "execution_count": null,
      "outputs": []
    },
    {
      "cell_type": "code",
      "source": [
        "X_train_minority_class=np.array(X_train_minority[0])"
      ],
      "metadata": {
        "id": "SEOJIfQC4zOr"
      },
      "execution_count": null,
      "outputs": []
    },
    {
      "cell_type": "code",
      "source": [
        "X_train_minority_class.shape"
      ],
      "metadata": {
        "colab": {
          "base_uri": "https://localhost:8080/"
        },
        "id": "tOdKPpn16a1U",
        "outputId": "ae0d96ed-5f6f-4133-d19c-9cf57c9283fd"
      },
      "execution_count": null,
      "outputs": [
        {
          "output_type": "execute_result",
          "data": {
            "text/plain": [
              "(176, 6)"
            ]
          },
          "metadata": {},
          "execution_count": 17
        }
      ]
    },
    {
      "cell_type": "code",
      "source": [
        "X_train_majority=[]\n",
        "for i in np.where(y_train==-1):\n",
        "    a=X_train[i]\n",
        "    X_train_majority.append(a)"
      ],
      "metadata": {
        "id": "umA21H6klRck"
      },
      "execution_count": null,
      "outputs": []
    },
    {
      "cell_type": "code",
      "source": [
        "X_train_majority_class=np.array(X_train_majority[0])"
      ],
      "metadata": {
        "id": "b1mhuC5alXgn"
      },
      "execution_count": null,
      "outputs": []
    },
    {
      "cell_type": "code",
      "source": [
        "X_train_majority_class.shape"
      ],
      "metadata": {
        "colab": {
          "base_uri": "https://localhost:8080/"
        },
        "id": "ceuago-dlXSU",
        "outputId": "9463370f-f851-46a7-e31d-e28f93ee8225"
      },
      "execution_count": null,
      "outputs": [
        {
          "output_type": "execute_result",
          "data": {
            "text/plain": [
              "(7280, 6)"
            ]
          },
          "metadata": {},
          "execution_count": 20
        }
      ]
    },
    {
      "cell_type": "markdown",
      "source": [
        "### **Dimensionality Reduction : PCA**\n",
        "Here we standardize the training data, then we do PCA for the standardized data. later we visualize the pca plot for majority and minority class."
      ],
      "metadata": {
        "id": "KZt60lY0VXXc"
      }
    },
    {
      "cell_type": "code",
      "source": [
        "scaler=StandardScaler()\n",
        "scaler.fit(X_train)\n",
        "scaled_X_train=scaler.transform(X_train)\n",
        "n_components=2\n",
        "pca=PCA(n_components=n_components)\n",
        "X_train_pca=pca.fit_transform(scaled_X_train)"
      ],
      "metadata": {
        "id": "5eiuSt1kRjCl"
      },
      "execution_count": null,
      "outputs": []
    },
    {
      "cell_type": "code",
      "source": [
        "plt.figure(figsize=((8,6)))\n",
        "color_list=['r','b']\n",
        "counter=0\n",
        "for i in np.unique(y_train):\n",
        "  plt.scatter(X_train_pca[:,0][np.where(y_train==i)],X_train_pca[:,1][np.where(y_train==i)],s=10,c=color_list[counter])\n",
        "  counter=counter+1\n",
        "plt.legend(['Majority','Minority'],fontsize=10)\n",
        "plt.xlabel(\"Principal Component 1\",fontsize=12)\n",
        "plt.ylabel(\"Principal Component 2\",fontsize=12)\n",
        "plt.title(\"PCA plot of majority class + minority class\",fontsize=14)\n",
        "plt.show()"
      ],
      "metadata": {
        "colab": {
          "base_uri": "https://localhost:8080/",
          "height": 569
        },
        "id": "OHp5kt7US1Cq",
        "outputId": "5bc9d575-da9e-40a1-de25-f97013ba22bd"
      },
      "execution_count": null,
      "outputs": [
        {
          "output_type": "display_data",
          "data": {
            "text/plain": [
              "<Figure size 800x600 with 1 Axes>"
            ],
            "image/png": "[encoded data removed]"
          },
          "metadata": {}
        }
      ]
    },
    {
      "cell_type": "markdown",
      "source": [
        " ### **Kernel Density Function :**\n",
        "At this point we designed our kernel function. We used multidimensional gaussian Kernel function which is expressed mathematically as:\n",
        "$$\n",
        "K(x) = {2\\pi}^{-\\frac{d}{2}} {det(H)}^{-\\frac{1}{2}} e^{-\\frac{1}{2} {x^T} {H^{-1}}x}\n",
        "$$\n",
        "where $d$ is a number of input feature and $H$ is an identitiy matrix of dimension $d$. We calculate the Kernel density at some point $x$ using the formula:\n",
        "$$\n",
        "f(x) = {\\frac{1}{n}}{\\sum_{i=1}^{n}K(x-x_{i})}\n",
        "$$\n",
        "Where $x_{i}$ denotes the $i$-th data point of the minority class which belongs to the training data which is used to calculate the density at point any point $x$. We can put each test data as an argument to this function to obtain densities at the test data points. Note that in the multi-dimensional case $x$ and $x_i$ are both vectors of dimension $d$."
      ],
      "metadata": {
        "id": "8Q6cCh0bZuaC"
      }
    },
    {
      "cell_type": "code",
      "source": [
        "def k(H,x,d):\n",
        "  H_inv = np.linalg.inv(H)\n",
        "  x_tras=np.matrix.transpose(x)\n",
        "  h= np.linalg.det(H)\n",
        "  m=np.matmul(x_tras,H_inv)\n",
        "  m1=np.matmul(m,x)\n",
        "  e=np.exp(-0.5*m1)\n",
        "  n=2*(np.pi)**(-d/2)\n",
        "  v=n*(h)**(-1/2)*(e)\n",
        "  return v"
      ],
      "metadata": {
        "id": "V6TRdMaR7IpZ"
      },
      "execution_count": null,
      "outputs": []
    },
    {
      "cell_type": "code",
      "source": [
        "def density_gen(X, X_minority):\n",
        "    density_list=[]\n",
        "    for j in range(len(X)):\n",
        "        s=0\n",
        "        for i in range(len(X_minority)):\n",
        "            xi=X_minority[i]\n",
        "            dif=X[j]-xi\n",
        "            s=s+k(np.identity(X_minority.shape[1]), dif, X_minority.shape[1])\n",
        "        density_list.append(s/len(X_minority))\n",
        "    return np.array(density_list)"
      ],
      "metadata": {
        "id": "6-JHxW0w_txa"
      },
      "execution_count": null,
      "outputs": []
    },
    {
      "cell_type": "code",
      "source": [
        "unique_labels,counts=np.unique(y_train, return_counts=True)"
      ],
      "metadata": {
        "id": "Y1q3S94WHY9A"
      },
      "execution_count": null,
      "outputs": []
    },
    {
      "cell_type": "markdown",
      "source": [
        "### **Metropolis hastings** :\n",
        "\" Metropolis hasting is technique of generating random samples from the any probability distribution. we can use this for the oversampling of data .\"\n",
        "\\\n",
        "**Steps of metropolis hastings:**\n",
        "1. First we take the initial guess $x_t$, which is random data points for the minority class.\n",
        "2. Then we find the candidate value $ x_{t+1}$  of $x_t$, such that it's Normal Distributed from point $x_t$ with $\\sigma^2$.\n",
        "3. After this we check the acceptance probability $α$ which is a ratio of kernel density of candidate value $ x_{t+1}$ and Kernel density of initial guess which is $x_t$.\n",
        "$α=\\frac{f(x_{x+1})}{f(x_t)}$\n",
        "4. So there are few condition about accepting the $α$ values:\n",
        "\n",
        "*   We take uniform distribution in interval between $(0,1)$, if the Uniform value is smaller than the $α$ which means the Kernel density of candidate value is higher during the finding of $α$, so there is maximum likelihood of accepting the $α$, and it store the $α$ values into a some sample list, otherwise if uniform distribution value is greater than the  $α$ which means the kernel density of initial guess ($x_t$) is higher so,there is maximum likelihood of rejecting the $α$ hence the value wont store into the sample list it will remains the same."
      ],
      "metadata": {
        "id": "L78tfSGIidXZ"
      }
    },
    {
      "cell_type": "code",
      "source": [
        "def metropolis_hastings(target_density, X_minority, size=100):\n",
        "    np.random.seed(43)\n",
        "    burnin_size = 10000\n",
        "    size += burnin_size\n",
        "    x0 =X_minority[np.random.choice(list(range(len(X_train_minority_class))),1)]\n",
        "    xt = x0\n",
        "    samples = []\n",
        "    for i in tqdm(range(size)):\n",
        "        xt_candidate = np.array([np.random.multivariate_normal(xt[0], 0.2*np.eye(X_minority.shape[1]))])\n",
        "        accept_odds = (target_density(xt_candidate,X_minority))/(target_density(xt,X_minority))\n",
        "        if np.random.uniform(0, 1) < accept_odds:\n",
        "            xt = xt_candidate\n",
        "        samples.append(xt)\n",
        "    samples = np.array(samples[burnin_size:])\n",
        "    samples = np.reshape(samples, [samples.shape[0], X_minority.shape[1]])\n",
        "    return samples"
      ],
      "metadata": {
        "id": "xAtMImTBBUyb"
      },
      "execution_count": null,
      "outputs": []
    },
    {
      "cell_type": "code",
      "source": [
        "synthetic_minority_data=metropolis_hastings(density_gen, X_train_minority_class, size=counts[0]-counts[1])"
      ],
      "metadata": {
        "colab": {
          "base_uri": "https://localhost:8080/",
          "height": 49,
          "referenced_widgets": [
            "6d6990b96c224590ae97f06914e1d4ce",
            "ecbeb3c445bc469ab3f0c3aad733bf3a",
            "b263597b35e746d8aeeba1c1f4cba6a4",
            "db5097dacc564e98af14ef63c51278e1",
            "b13768b494e54544b5f7839215259a05",
            "362fd4548fc34655a22b0adbe3b7c0b7",
            "b9534904064c4a66b73289a76e453df4",
            "b585b678c92143cbabbc9c220deceb77",
            "af03e039c1234c7e9a7dc98dd1986a84",
            "c94036679beb4eef960f9b103f253394",
            "ade00cb9fc474bf7b9bc055f43431ac8"
          ]
        },
        "id": "tJTiChraDblU",
        "outputId": "34ea4850-4645-4ff5-a227-9f240c583285"
      },
      "execution_count": null,
      "outputs": [
        {
          "output_type": "display_data",
          "data": {
            "text/plain": [
              "  0%|          | 0/17104 [00:00<?, ?it/s]"
            ],
            "application/vnd.jupyter.widget-view+json": {
              "version_major": 2,
              "version_minor": 0,
              "model_id": "6d6990b96c224590ae97f06914e1d4ce"
            }
          },
          "metadata": {}
        }
      ]
    },
    {
      "cell_type": "code",
      "source": [
        "synthetic_minority_data.shape"
      ],
      "metadata": {
        "colab": {
          "base_uri": "https://localhost:8080/"
        },
        "id": "oeU5PnbOGVDK",
        "outputId": "44655358-ae02-4547-cc94-bcc107d836cd"
      },
      "execution_count": null,
      "outputs": [
        {
          "output_type": "execute_result",
          "data": {
            "text/plain": [
              "(7104, 6)"
            ]
          },
          "metadata": {},
          "execution_count": 28
        }
      ]
    },
    {
      "cell_type": "code",
      "source": [
        "balanced_minority=np.concatenate([X_train_minority_class, synthetic_minority_data])"
      ],
      "metadata": {
        "id": "8Hw8ZDeoZg3S"
      },
      "execution_count": null,
      "outputs": []
    },
    {
      "cell_type": "code",
      "source": [
        "balanced_data=np.concatenate([X_train_majority_class,balanced_minority])"
      ],
      "metadata": {
        "id": "UrdCjYCTlAZC"
      },
      "execution_count": null,
      "outputs": []
    },
    {
      "cell_type": "code",
      "source": [
        "balanced_labels_for_classification=np.concatenate([np.zeros(len(X_train_majority_class))-1,np.ones(len(balanced_minority))])"
      ],
      "metadata": {
        "id": "dITXInUSzHMq"
      },
      "execution_count": null,
      "outputs": []
    },
    {
      "cell_type": "code",
      "source": [
        "balanced_data.shape"
      ],
      "metadata": {
        "colab": {
          "base_uri": "https://localhost:8080/"
        },
        "id": "zAYzFw2YzU-N",
        "outputId": "aaa68a57-5954-4d11-a64c-4893964df81a"
      },
      "execution_count": null,
      "outputs": [
        {
          "output_type": "execute_result",
          "data": {
            "text/plain": [
              "(14560, 6)"
            ]
          },
          "metadata": {},
          "execution_count": 32
        }
      ]
    },
    {
      "cell_type": "code",
      "source": [
        "balanced_labels_for_classification.shape"
      ],
      "metadata": {
        "colab": {
          "base_uri": "https://localhost:8080/"
        },
        "id": "qEACzIJlzXYF",
        "outputId": "17c1438a-152f-41fc-d256-b6f0e885186b"
      },
      "execution_count": null,
      "outputs": [
        {
          "output_type": "execute_result",
          "data": {
            "text/plain": [
              "(14560,)"
            ]
          },
          "metadata": {},
          "execution_count": 33
        }
      ]
    },
    {
      "cell_type": "code",
      "source": [
        "balanced_labels_for_PCA=np.concatenate([np.zeros(len(X_train_majority_class))+0,np.zeros(len(X_train_minority_class))+1,np.zeros(len(synthetic_minority_data))+2])"
      ],
      "metadata": {
        "id": "DY7UvN8uqqsU"
      },
      "execution_count": null,
      "outputs": []
    },
    {
      "cell_type": "code",
      "source": [
        "np.unique(balanced_labels_for_PCA)"
      ],
      "metadata": {
        "colab": {
          "base_uri": "https://localhost:8080/"
        },
        "id": "ROK8y3VerK3W",
        "outputId": "f5802cb3-4a97-4e94-f97d-c5f0aa49f19a"
      },
      "execution_count": null,
      "outputs": [
        {
          "output_type": "execute_result",
          "data": {
            "text/plain": [
              "array([0., 1., 2.])"
            ]
          },
          "metadata": {},
          "execution_count": 35
        }
      ]
    },
    {
      "cell_type": "code",
      "source": [
        "scaler = StandardScaler()\n",
        "scaler.fit(balanced_data)\n",
        "scaled_balanced_data = scaler.transform(balanced_data)\n",
        "pca = PCA(n_components =2)\n",
        "data_pca=pca.fit_transform(scaled_balanced_data)"
      ],
      "metadata": {
        "id": "eC_YgjrSl2Lx"
      },
      "execution_count": null,
      "outputs": []
    },
    {
      "cell_type": "code",
      "source": [
        "plt.figure(figsize=(8,6))\n",
        "color_list=[\"r\",\"b\",\"y\"]\n",
        "legend_list=[\"Majority\", \"Minority\", \"Synthetic minority\"]\n",
        "\n",
        "for i in range(len(np.unique(balanced_labels_for_PCA))):\n",
        "    plt.scatter(data_pca[:,0][np.where(balanced_labels_for_PCA==i)],data_pca[:,1][np.where(balanced_labels_for_PCA==i)], s=10, c=color_list[i])\n",
        "plt.legend(legend_list, fontsize=10, loc='center right')\n",
        "plt.xlabel(\"Principal Component 1\",fontsize=12)\n",
        "plt.ylabel(\"Principlal Component 2 \",fontsize=12)\n",
        "plt.title(\"PCA plot of majority class + minority class + senthetic minority class\",fontsize=14)"
      ],
      "metadata": {
        "colab": {
          "base_uri": "https://localhost:8080/",
          "height": 586
        },
        "id": "fwd6zE-ZaAJl",
        "outputId": "a478da28-4b4a-41cd-eb83-b28decd07465"
      },
      "execution_count": null,
      "outputs": [
        {
          "output_type": "execute_result",
          "data": {
            "text/plain": [
              "Text(0.5, 1.0, 'PCA plot of majority class + minority class + senthetic minority class')"
            ]
          },
          "metadata": {},
          "execution_count": 37
        },
        {
          "output_type": "display_data",
          "data": {
            "text/plain": [
              "<Figure size 800x600 with 1 Axes>"
            ],
            "image/png": "[encoded data removed]"
          },
          "metadata": {}
        }
      ]
    },
    {
      "cell_type": "code",
      "source": [
        "clf = KNeighborsClassifier(n_neighbors=5)\n",
        "clf.fit(X_train, y_train)\n",
        "y_pred=clf.predict(X_test)\n",
        "print(confusion_matrix(y_test, y_pred))\n",
        "print(accuracy_score(y_test, y_pred))\n",
        "print(balanced_accuracy_score(y_test, y_pred))\n",
        "print(f1_score(y_test, y_pred))\n",
        "print(cohen_kappa_score(y_test, y_pred))"
      ],
      "metadata": {
        "id": "tvtkv2YWmrKW",
        "colab": {
          "base_uri": "https://localhost:8080/"
        },
        "outputId": "275a5327-0c7d-461f-d501-5bd518d14bef"
      },
      "execution_count": null,
      "outputs": [
        {
          "output_type": "stream",
          "name": "stdout",
          "text": [
            "[[3633   10]\n",
            " [  39   45]]\n",
            "0.9868526965387712\n",
            "0.766484647660876\n",
            "0.6474820143884892\n",
            "0.6410803183094771\n"
          ]
        }
      ]
    },
    {
      "cell_type": "code",
      "source": [
        "clf = KNeighborsClassifier(n_neighbors=5)\n",
        "clf.fit(balanced_data, balanced_labels_for_classification)\n",
        "y_pred=clf.predict(X_test)\n",
        "print(confusion_matrix(y_test, y_pred))\n",
        "print(accuracy_score(y_test, y_pred))\n",
        "print(balanced_accuracy_score(y_test, y_pred))\n",
        "print(f1_score(y_test, y_pred))\n",
        "print(cohen_kappa_score(y_test, y_pred))"
      ],
      "metadata": {
        "colab": {
          "base_uri": "https://localhost:8080/"
        },
        "id": "M9-x9YA90WET",
        "outputId": "1ccd7566-e949-4410-d876-91807ad37f3a"
      },
      "execution_count": null,
      "outputs": [
        {
          "output_type": "stream",
          "name": "stdout",
          "text": [
            "[[3601   42]\n",
            " [  25   59]]\n",
            "0.982023074859136\n",
            "0.8454259963661556\n",
            "0.6378378378378379\n",
            "0.628700409054209\n"
          ]
        }
      ]
    },
    {
      "cell_type": "code",
      "source": [
        "!pip install smote_variants"
      ],
      "metadata": {
        "id": "1zlCLUWz8MtI"
      },
      "execution_count": null,
      "outputs": []
    },
    {
      "cell_type": "markdown",
      "source": [
        "### **SMOTE :**\n",
        "This is also a oversampling method, it oversamples the minority calss and make it equal to the majority class.\n",
        "\\\n",
        "**Steps of generating a synthetic data:**\n",
        "\n",
        "\n",
        "- First we find the $k$ nearest neighbour for the minority calss, then we\n",
        "generate the data points in between this $k$ nearest data points using formula:\\\n",
        "$x_i'= x_i +λ(x_j-x_i)$\n",
        "\\\n",
        "So here the $x_i'$ is the new generated point, where $λ$ is factor which range between $(0,1)$.\n",
        "\n",
        "\n"
      ],
      "metadata": {
        "id": "g2pRYTnKO4lr"
      }
    },
    {
      "cell_type": "code",
      "source": [
        "import smote_variants as sv\n",
        "\n",
        "oversampler_SMOTE=sv.SMOTE()\n",
        "oversampler_polynome_fit = sv.polynom_fit_SMOTE_star()\n",
        "oversampler_ProWSyn= sv.ProWSyn()\n",
        "oversampler_SMOTE_IPF= sv.SMOTE_IPF()\n",
        "oversampler_Lee= sv.Lee()\n"
      ],
      "metadata": {
        "id": "e4sJh-w2WqkO"
      },
      "execution_count": null,
      "outputs": []
    },
    {
      "cell_type": "code",
      "source": [
        "oversampler_object_list = [oversampler_SMOTE,oversampler_polynome_fit,oversampler_ProWSyn, oversampler_Lee, metropolis_hastings]"
      ],
      "metadata": {
        "id": "aeShC0gEyimZ"
      },
      "execution_count": null,
      "outputs": []
    },
    {
      "cell_type": "code",
      "source": [
        "oversampler_name_list = ['SMOTE','polynome_fit_SMOTE','ProWSyn', 'Lee', 'Metropolis_hastings']"
      ],
      "metadata": {
        "id": "ByjAhF6bP2Yo"
      },
      "execution_count": null,
      "outputs": []
    },
    {
      "cell_type": "code",
      "source": [
        "def get_imb_oversampling(X_train,y_train,X_test,y_test,oversampler_index,classifier,print_score=True,visualize=True):\n",
        "  ## MH is in the end of the list oversampler_object_list\n",
        "  if oversampler_index!=len(oversampler_object_list)-1:\n",
        "    X_samp, y_samp = oversampler_object_list[oversampler_index].sample(X_train, y_train)\n",
        "\n",
        "  else:\n",
        "    X_train_minority=[]\n",
        "    for i in np.where(y_train==1):\n",
        "      a=X_train[i]\n",
        "      X_train_minority.append(a)\n",
        "\n",
        "    X_train_majority=[]\n",
        "    for i in np.where(y_train==-1):\n",
        "      a=X_train[i]\n",
        "      X_train_majority.append(a)\n",
        "\n",
        "    unique_labels,counts=np.unique(y_train, return_counts=True)\n",
        "\n",
        "    synthetic_minority_data = metropolis_hastings(density_gen, X_train_minority_class, size=counts[0]-counts[1])\n",
        "    balanced_minority=np.concatenate([X_train_minority_class, synthetic_minority_data])\n",
        "    balanced_data=np.concatenate([X_train_majority_class,balanced_minority])\n",
        "    balanced_labels_for_classification=np.concatenate([np.zeros(len(X_train_majority_class))-1,np.ones(len(balanced_minority))])\n",
        "    X_samp=balanced_data\n",
        "    y_samp=balanced_labels_for_classification\n",
        "\n",
        "  classifier.fit(X_samp,y_samp)\n",
        "  y_pred=classifier.predict(X_test)\n",
        "  cm=confusion_matrix(y_test, y_pred)\n",
        "  acc=accuracy_score(y_test, y_pred)\n",
        "  b_acc=balanced_accuracy_score(y_test, y_pred)\n",
        "  gm=geometric_mean_score(y_test, y_pred)\n",
        "  f1=f1_score(y_test, y_pred)\n",
        "  ck=cohen_kappa_score(y_test, y_pred)\n",
        "\n",
        "  if visualize==True:\n",
        "    scaler = StandardScaler()\n",
        "    scaler.fit(X_samp)\n",
        "    scaled_X_samp = scaler.transform(X_samp)\n",
        "    pca = PCA(n_components =2)\n",
        "    X_samp_pca=pca.fit_transform(scaled_X_samp)\n",
        "\n",
        "    plt.figure(figsize=(8,6))\n",
        "    color=[\"r\",\"b\"]\n",
        "    color_counter=0\n",
        "    for i in [-1,1]:\n",
        "      plt.scatter(X_samp_pca[:,0][np.where(y_samp==i)],X_samp_pca[:,1][np.where(y_samp==i)], s=10, c=color[color_counter])\n",
        "      color_counter=color_counter+1\n",
        "    plt.legend(['Majority','Manority'],fontsize=10, loc='lower right')\n",
        "    plt.xlabel(\"Principal Component 1\",fontsize=12)\n",
        "    plt.ylabel(\"Principlal Component 2 \",fontsize=12)\n",
        "    plt.title(\"PCA plot of majority class + minority class using\"+\"\"+ oversampler_name_list[oversampler_index]+\"technique\",fontsize=14)\n",
        "\n",
        "\n",
        "  if print_score==True:\n",
        "    print('confusion matrix:',cm)\n",
        "    print('accuracy:', acc)\n",
        "    print('balanced accuracy:', b_acc)\n",
        "    print('g-mean:', gm)\n",
        "    print('f1-score:', f1)\n",
        "    print('cohen_kappa:', ck)\n",
        "\n",
        "\n",
        "  return [cm, acc,b_acc,gm, f1, ck]"
      ],
      "metadata": {
        "id": "Cq7Wk6I12WeO"
      },
      "execution_count": null,
      "outputs": []
    },
    {
      "cell_type": "code",
      "source": [
        "clf=KNeighborsClassifier(n_neighbors=5)"
      ],
      "metadata": {
        "id": "W1_D8If4PXrF"
      },
      "execution_count": null,
      "outputs": []
    },
    {
      "cell_type": "code",
      "source": [
        "results_all_folds=[]\n",
        "for i in range(len(all_data_folds_list)):\n",
        "  X_train,X_test=all_data_folds_list[i][0],all_data_folds_list[i][1]\n",
        "  y_train,y_test=all_labels_folds_list[i][0],all_labels_folds_list[i][1]\n",
        "  results_single_fold=get_imb_oversampling(X_train,y_train,X_test,y_test,3,clf, print_score=False, visualize=False)\n",
        "  results_all_folds.append(results_single_fold)"
      ],
      "metadata": {
        "colab": {
          "base_uri": "https://localhost:8080/"
        },
        "id": "01QLZbDTKqAM",
        "outputId": "736412e1-55d9-4753-e7f7-334beecd95fc",
        "collapsed": true
      },
      "execution_count": null,
      "outputs": [
        {
          "output_type": "stream",
          "name": "stderr",
          "text": [
            "2024-07-30 07:03:52,462:INFO:Lee: Running sampling via ('Lee', \"{'proportion': 1.0, 'n_neighbors': 5, 'nn_params': {}, 'rejection_level': 0.5, 'n_jobs': 1, 'ss_params': {'n_dim': 2, 'simplex_sampling': 'random', 'within_simplex_sampling': 'random', 'gaussian_component': {}}, 'random_state': None, 'class_name': 'Lee'}\")\n",
            "INFO:smote_variants:Lee: Running sampling via ('Lee', \"{'proportion': 1.0, 'n_neighbors': 5, 'nn_params': {}, 'rejection_level': 0.5, 'n_jobs': 1, 'ss_params': {'n_dim': 2, 'simplex_sampling': 'random', 'within_simplex_sampling': 'random', 'gaussian_component': {}}, 'random_state': None, 'class_name': 'Lee'}\")\n",
            "2024-07-30 07:03:52,474:INFO:NearestNeighborsWithMetricTensor: NN fitting with metric minkowski\n",
            "INFO:smote_variants:NearestNeighborsWithMetricTensor: NN fitting with metric minkowski\n",
            "2024-07-30 07:03:52,494:INFO:NearestNeighborsWithMetricTensor: NN fitting with metric minkowski\n",
            "INFO:smote_variants:NearestNeighborsWithMetricTensor: NN fitting with metric minkowski\n",
            "2024-07-30 07:03:52,508:INFO:NearestNeighborsWithMetricTensor: kneighbors query minkowski\n",
            "INFO:smote_variants:NearestNeighborsWithMetricTensor: kneighbors query minkowski\n",
            "2024-07-30 07:03:52,529:INFO:Lee: simplex sampling with n_dim 2\n",
            "INFO:smote_variants:Lee: simplex sampling with n_dim 2\n",
            "2024-07-30 07:03:52,547:INFO:NearestNeighborsWithMetricTensor: kneighbors query minkowski\n",
            "INFO:smote_variants:NearestNeighborsWithMetricTensor: kneighbors query minkowski\n",
            "2024-07-30 07:03:52,733:INFO:Lee: simplex sampling with n_dim 2\n",
            "INFO:smote_variants:Lee: simplex sampling with n_dim 2\n",
            "2024-07-30 07:03:52,741:INFO:NearestNeighborsWithMetricTensor: kneighbors query minkowski\n",
            "INFO:smote_variants:NearestNeighborsWithMetricTensor: kneighbors query minkowski\n",
            "2024-07-30 07:03:52,801:INFO:Lee: simplex sampling with n_dim 2\n",
            "INFO:smote_variants:Lee: simplex sampling with n_dim 2\n",
            "2024-07-30 07:03:52,807:INFO:NearestNeighborsWithMetricTensor: kneighbors query minkowski\n",
            "INFO:smote_variants:NearestNeighborsWithMetricTensor: kneighbors query minkowski\n",
            "2024-07-30 07:03:52,841:INFO:Lee: simplex sampling with n_dim 2\n",
            "INFO:smote_variants:Lee: simplex sampling with n_dim 2\n",
            "2024-07-30 07:03:52,852:INFO:NearestNeighborsWithMetricTensor: kneighbors query minkowski\n",
            "INFO:smote_variants:NearestNeighborsWithMetricTensor: kneighbors query minkowski\n",
            "2024-07-30 07:03:52,865:INFO:Lee: simplex sampling with n_dim 2\n",
            "INFO:smote_variants:Lee: simplex sampling with n_dim 2\n",
            "2024-07-30 07:03:52,871:INFO:NearestNeighborsWithMetricTensor: kneighbors query minkowski\n",
            "INFO:smote_variants:NearestNeighborsWithMetricTensor: kneighbors query minkowski\n",
            "2024-07-30 07:03:52,885:INFO:Lee: simplex sampling with n_dim 2\n",
            "INFO:smote_variants:Lee: simplex sampling with n_dim 2\n",
            "2024-07-30 07:03:52,896:INFO:NearestNeighborsWithMetricTensor: kneighbors query minkowski\n",
            "INFO:smote_variants:NearestNeighborsWithMetricTensor: kneighbors query minkowski\n",
            "2024-07-30 07:03:52,907:INFO:Lee: simplex sampling with n_dim 2\n",
            "INFO:smote_variants:Lee: simplex sampling with n_dim 2\n",
            "2024-07-30 07:03:52,912:INFO:NearestNeighborsWithMetricTensor: kneighbors query minkowski\n",
            "INFO:smote_variants:NearestNeighborsWithMetricTensor: kneighbors query minkowski\n",
            "2024-07-30 07:03:52,919:INFO:Lee: simplex sampling with n_dim 2\n",
            "INFO:smote_variants:Lee: simplex sampling with n_dim 2\n",
            "2024-07-30 07:03:52,925:INFO:NearestNeighborsWithMetricTensor: kneighbors query minkowski\n",
            "INFO:smote_variants:NearestNeighborsWithMetricTensor: kneighbors query minkowski\n",
            "2024-07-30 07:03:53,509:INFO:Lee: Running sampling via ('Lee', \"{'proportion': 1.0, 'n_neighbors': 5, 'nn_params': {}, 'rejection_level': 0.5, 'n_jobs': 1, 'ss_params': {'n_dim': 2, 'simplex_sampling': 'random', 'within_simplex_sampling': 'random', 'gaussian_component': {}}, 'random_state': None, 'class_name': 'Lee'}\")\n",
            "INFO:smote_variants:Lee: Running sampling via ('Lee', \"{'proportion': 1.0, 'n_neighbors': 5, 'nn_params': {}, 'rejection_level': 0.5, 'n_jobs': 1, 'ss_params': {'n_dim': 2, 'simplex_sampling': 'random', 'within_simplex_sampling': 'random', 'gaussian_component': {}}, 'random_state': None, 'class_name': 'Lee'}\")\n",
            "2024-07-30 07:03:53,516:INFO:NearestNeighborsWithMetricTensor: NN fitting with metric minkowski\n",
            "INFO:smote_variants:NearestNeighborsWithMetricTensor: NN fitting with metric minkowski\n",
            "2024-07-30 07:03:53,536:INFO:NearestNeighborsWithMetricTensor: NN fitting with metric minkowski\n",
            "INFO:smote_variants:NearestNeighborsWithMetricTensor: NN fitting with metric minkowski\n",
            "2024-07-30 07:03:53,545:INFO:NearestNeighborsWithMetricTensor: kneighbors query minkowski\n",
            "INFO:smote_variants:NearestNeighborsWithMetricTensor: kneighbors query minkowski\n",
            "2024-07-30 07:03:53,556:INFO:Lee: simplex sampling with n_dim 2\n",
            "INFO:smote_variants:Lee: simplex sampling with n_dim 2\n",
            "2024-07-30 07:03:53,570:INFO:NearestNeighborsWithMetricTensor: kneighbors query minkowski\n",
            "INFO:smote_variants:NearestNeighborsWithMetricTensor: kneighbors query minkowski\n",
            "2024-07-30 07:03:53,702:INFO:Lee: simplex sampling with n_dim 2\n",
            "INFO:smote_variants:Lee: simplex sampling with n_dim 2\n",
            "2024-07-30 07:03:53,711:INFO:NearestNeighborsWithMetricTensor: kneighbors query minkowski\n",
            "INFO:smote_variants:NearestNeighborsWithMetricTensor: kneighbors query minkowski\n",
            "2024-07-30 07:03:53,752:INFO:Lee: simplex sampling with n_dim 2\n",
            "INFO:smote_variants:Lee: simplex sampling with n_dim 2\n",
            "2024-07-30 07:03:53,757:INFO:NearestNeighborsWithMetricTensor: kneighbors query minkowski\n",
            "INFO:smote_variants:NearestNeighborsWithMetricTensor: kneighbors query minkowski\n",
            "2024-07-30 07:03:53,778:INFO:Lee: simplex sampling with n_dim 2\n",
            "INFO:smote_variants:Lee: simplex sampling with n_dim 2\n",
            "2024-07-30 07:03:53,786:INFO:NearestNeighborsWithMetricTensor: kneighbors query minkowski\n",
            "INFO:smote_variants:NearestNeighborsWithMetricTensor: kneighbors query minkowski\n",
            "2024-07-30 07:03:53,795:INFO:Lee: simplex sampling with n_dim 2\n",
            "INFO:smote_variants:Lee: simplex sampling with n_dim 2\n",
            "2024-07-30 07:03:53,802:INFO:NearestNeighborsWithMetricTensor: kneighbors query minkowski\n",
            "INFO:smote_variants:NearestNeighborsWithMetricTensor: kneighbors query minkowski\n",
            "2024-07-30 07:03:53,809:INFO:Lee: simplex sampling with n_dim 2\n",
            "INFO:smote_variants:Lee: simplex sampling with n_dim 2\n",
            "2024-07-30 07:03:53,813:INFO:NearestNeighborsWithMetricTensor: kneighbors query minkowski\n",
            "INFO:smote_variants:NearestNeighborsWithMetricTensor: kneighbors query minkowski\n",
            "2024-07-30 07:03:54,435:INFO:Lee: Running sampling via ('Lee', \"{'proportion': 1.0, 'n_neighbors': 5, 'nn_params': {}, 'rejection_level': 0.5, 'n_jobs': 1, 'ss_params': {'n_dim': 2, 'simplex_sampling': 'random', 'within_simplex_sampling': 'random', 'gaussian_component': {}}, 'random_state': None, 'class_name': 'Lee'}\")\n",
            "INFO:smote_variants:Lee: Running sampling via ('Lee', \"{'proportion': 1.0, 'n_neighbors': 5, 'nn_params': {}, 'rejection_level': 0.5, 'n_jobs': 1, 'ss_params': {'n_dim': 2, 'simplex_sampling': 'random', 'within_simplex_sampling': 'random', 'gaussian_component': {}}, 'random_state': None, 'class_name': 'Lee'}\")\n",
            "2024-07-30 07:03:54,441:INFO:NearestNeighborsWithMetricTensor: NN fitting with metric minkowski\n",
            "INFO:smote_variants:NearestNeighborsWithMetricTensor: NN fitting with metric minkowski\n",
            "2024-07-30 07:03:54,454:INFO:NearestNeighborsWithMetricTensor: NN fitting with metric minkowski\n",
            "INFO:smote_variants:NearestNeighborsWithMetricTensor: NN fitting with metric minkowski\n",
            "2024-07-30 07:03:54,461:INFO:NearestNeighborsWithMetricTensor: kneighbors query minkowski\n",
            "INFO:smote_variants:NearestNeighborsWithMetricTensor: kneighbors query minkowski\n",
            "2024-07-30 07:03:54,470:INFO:Lee: simplex sampling with n_dim 2\n",
            "INFO:smote_variants:Lee: simplex sampling with n_dim 2\n",
            "2024-07-30 07:03:54,492:INFO:NearestNeighborsWithMetricTensor: kneighbors query minkowski\n",
            "INFO:smote_variants:NearestNeighborsWithMetricTensor: kneighbors query minkowski\n",
            "2024-07-30 07:03:54,601:INFO:Lee: simplex sampling with n_dim 2\n",
            "INFO:smote_variants:Lee: simplex sampling with n_dim 2\n",
            "2024-07-30 07:03:54,616:INFO:NearestNeighborsWithMetricTensor: kneighbors query minkowski\n",
            "INFO:smote_variants:NearestNeighborsWithMetricTensor: kneighbors query minkowski\n",
            "2024-07-30 07:03:54,674:INFO:Lee: simplex sampling with n_dim 2\n",
            "INFO:smote_variants:Lee: simplex sampling with n_dim 2\n",
            "2024-07-30 07:03:54,680:INFO:NearestNeighborsWithMetricTensor: kneighbors query minkowski\n",
            "INFO:smote_variants:NearestNeighborsWithMetricTensor: kneighbors query minkowski\n",
            "2024-07-30 07:03:54,699:INFO:Lee: simplex sampling with n_dim 2\n",
            "INFO:smote_variants:Lee: simplex sampling with n_dim 2\n",
            "2024-07-30 07:03:54,706:INFO:NearestNeighborsWithMetricTensor: kneighbors query minkowski\n",
            "INFO:smote_variants:NearestNeighborsWithMetricTensor: kneighbors query minkowski\n",
            "2024-07-30 07:03:54,718:INFO:Lee: simplex sampling with n_dim 2\n",
            "INFO:smote_variants:Lee: simplex sampling with n_dim 2\n",
            "2024-07-30 07:03:54,725:INFO:NearestNeighborsWithMetricTensor: kneighbors query minkowski\n",
            "INFO:smote_variants:NearestNeighborsWithMetricTensor: kneighbors query minkowski\n",
            "2024-07-30 07:03:54,735:INFO:Lee: simplex sampling with n_dim 2\n",
            "INFO:smote_variants:Lee: simplex sampling with n_dim 2\n",
            "2024-07-30 07:03:54,740:INFO:NearestNeighborsWithMetricTensor: kneighbors query minkowski\n",
            "INFO:smote_variants:NearestNeighborsWithMetricTensor: kneighbors query minkowski\n"
          ]
        }
      ]
    },
    {
      "cell_type": "code",
      "source": [
        "def calc_avg_performance(performance_index):\n",
        "  s=0\n",
        "  for result in results_all_folds:\n",
        "    s=s+result[performance_index]\n",
        "  avg=s/len(results_all_folds)\n",
        "\n",
        "  s=0\n",
        "  for result in results_all_folds:\n",
        "    s=s+(result[performance_index]-avg)**2\n",
        "  std=np.sqrt(s/len(results_all_folds))\n",
        "  return avg, std"
      ],
      "metadata": {
        "id": "A4swalknOoVF"
      },
      "execution_count": null,
      "outputs": []
    },
    {
      "cell_type": "code",
      "source": [
        "calc_avg_performance(3)"
      ],
      "metadata": {
        "colab": {
          "base_uri": "https://localhost:8080/"
        },
        "id": "xNXSUTShPXEy",
        "outputId": "d8b069e5-281a-4b79-b7ac-c241ec80ace3"
      },
      "execution_count": null,
      "outputs": [
        {
          "output_type": "execute_result",
          "data": {
            "text/plain": [
              "(0.8540311134093485, 0.019393601376626258)"
            ]
          },
          "metadata": {},
          "execution_count": 48
        }
      ]
    }
  ],
  "metadata": {
    "colab": {
      "provenance": []
    },
    "kernelspec": {
      "display_name": "Python 3",
      "name": "python3"
    },
    "language_info": {
      "name": "python"
    },
    "widgets": {
      "application/vnd.jupyter.widget-state+json": {
        "6d6990b96c224590ae97f06914e1d4ce": {
          "model_module": "@jupyter-widgets/controls",
          "model_name": "HBoxModel",
          "model_module_version": "1.5.0",
          "state": {
            "_dom_classes": [],
            "_model_module": "@jupyter-widgets/controls",
            "_model_module_version": "1.5.0",
            "_model_name": "HBoxModel",
            "_view_count": null,
            "_view_module": "@jupyter-widgets/controls",
            "_view_module_version": "1.5.0",
            "_view_name": "HBoxView",
            "box_style": "",
            "children": [
              "IPY_MODEL_ecbeb3c445bc469ab3f0c3aad733bf3a",
              "IPY_MODEL_b263597b35e746d8aeeba1c1f4cba6a4",
              "IPY_MODEL_db5097dacc564e98af14ef63c51278e1"
            ],
            "layout": "IPY_MODEL_b13768b494e54544b5f7839215259a05"
          }
        },
        "ecbeb3c445bc469ab3f0c3aad733bf3a": {
          "model_module": "@jupyter-widgets/controls",
          "model_name": "HTMLModel",
          "model_module_version": "1.5.0",
          "state": {
            "_dom_classes": [],
            "_model_module": "@jupyter-widgets/controls",
            "_model_module_version": "1.5.0",
            "_model_name": "HTMLModel",
            "_view_count": null,
            "_view_module": "@jupyter-widgets/controls",
            "_view_module_version": "1.5.0",
            "_view_name": "HTMLView",
            "description": "",
            "description_tooltip": null,
            "layout": "IPY_MODEL_362fd4548fc34655a22b0adbe3b7c0b7",
            "placeholder": "​",
            "style": "IPY_MODEL_b9534904064c4a66b73289a76e453df4",
            "value": "100%"
          }
        },
        "b263597b35e746d8aeeba1c1f4cba6a4": {
          "model_module": "@jupyter-widgets/controls",
          "model_name": "FloatProgressModel",
          "model_module_version": "1.5.0",
          "state": {
            "_dom_classes": [],
            "_model_module": "@jupyter-widgets/controls",
            "_model_module_version": "1.5.0",
            "_model_name": "FloatProgressModel",
            "_view_count": null,
            "_view_module": "@jupyter-widgets/controls",
            "_view_module_version": "1.5.0",
            "_view_name": "ProgressView",
            "bar_style": "success",
            "description": "",
            "description_tooltip": null,
            "layout": "IPY_MODEL_b585b678c92143cbabbc9c220deceb77",
            "max": 17104,
            "min": 0,
            "orientation": "horizontal",
            "style": "IPY_MODEL_af03e039c1234c7e9a7dc98dd1986a84",
            "value": 17104
          }
        },
        "db5097dacc564e98af14ef63c51278e1": {
          "model_module": "@jupyter-widgets/controls",
          "model_name": "HTMLModel",
          "model_module_version": "1.5.0",
          "state": {
            "_dom_classes": [],
            "_model_module": "@jupyter-widgets/controls",
            "_model_module_version": "1.5.0",
            "_model_name": "HTMLModel",
            "_view_count": null,
            "_view_module": "@jupyter-widgets/controls",
            "_view_module_version": "1.5.0",
            "_view_name": "HTMLView",
            "description": "",
            "description_tooltip": null,
            "layout": "IPY_MODEL_c94036679beb4eef960f9b103f253394",
            "placeholder": "​",
            "style": "IPY_MODEL_ade00cb9fc474bf7b9bc055f43431ac8",
            "value": " 17104/17104 [07:41&lt;00:00, 20.78it/s]"
          }
        },
        "b13768b494e54544b5f7839215259a05": {
          "model_module": "@jupyter-widgets/base",
          "model_name": "LayoutModel",
          "model_module_version": "1.2.0",
          "state": {
            "_model_module": "@jupyter-widgets/base",
            "_model_module_version": "1.2.0",
            "_model_name": "LayoutModel",
            "_view_count": null,
            "_view_module": "@jupyter-widgets/base",
            "_view_module_version": "1.2.0",
            "_view_name": "LayoutView",
            "align_content": null,
            "align_items": null,
            "align_self": null,
            "border": null,
            "bottom": null,
            "display": null,
            "flex": null,
            "flex_flow": null,
            "grid_area": null,
            "grid_auto_columns": null,
            "grid_auto_flow": null,
            "grid_auto_rows": null,
            "grid_column": null,
            "grid_gap": null,
            "grid_row": null,
            "grid_template_areas": null,
            "grid_template_columns": null,
            "grid_template_rows": null,
            "height": null,
            "justify_content": null,
            "justify_items": null,
            "left": null,
            "margin": null,
            "max_height": null,
            "max_width": null,
            "min_height": null,
            "min_width": null,
            "object_fit": null,
            "object_position": null,
            "order": null,
            "overflow": null,
            "overflow_x": null,
            "overflow_y": null,
            "padding": null,
            "right": null,
            "top": null,
            "visibility": null,
            "width": null
          }
        },
        "362fd4548fc34655a22b0adbe3b7c0b7": {
          "model_module": "@jupyter-widgets/base",
          "model_name": "LayoutModel",
          "model_module_version": "1.2.0",
          "state": {
            "_model_module": "@jupyter-widgets/base",
            "_model_module_version": "1.2.0",
            "_model_name": "LayoutModel",
            "_view_count": null,
            "_view_module": "@jupyter-widgets/base",
            "_view_module_version": "1.2.0",
            "_view_name": "LayoutView",
            "align_content": null,
            "align_items": null,
            "align_self": null,
            "border": null,
            "bottom": null,
            "display": null,
            "flex": null,
            "flex_flow": null,
            "grid_area": null,
            "grid_auto_columns": null,
            "grid_auto_flow": null,
            "grid_auto_rows": null,
            "grid_column": null,
            "grid_gap": null,
            "grid_row": null,
            "grid_template_areas": null,
            "grid_template_columns": null,
            "grid_template_rows": null,
            "height": null,
            "justify_content": null,
            "justify_items": null,
            "left": null,
            "margin": null,
            "max_height": null,
            "max_width": null,
            "min_height": null,
            "min_width": null,
            "object_fit": null,
            "object_position": null,
            "order": null,
            "overflow": null,
            "overflow_x": null,
            "overflow_y": null,
            "padding": null,
            "right": null,
            "top": null,
            "visibility": null,
            "width": null
          }
        },
        "b9534904064c4a66b73289a76e453df4": {
          "model_module": "@jupyter-widgets/controls",
          "model_name": "DescriptionStyleModel",
          "model_module_version": "1.5.0",
          "state": {
            "_model_module": "@jupyter-widgets/controls",
            "_model_module_version": "1.5.0",
            "_model_name": "DescriptionStyleModel",
            "_view_count": null,
            "_view_module": "@jupyter-widgets/base",
            "_view_module_version": "1.2.0",
            "_view_name": "StyleView",
            "description_width": ""
          }
        },
        "b585b678c92143cbabbc9c220deceb77": {
          "model_module": "@jupyter-widgets/base",
          "model_name": "LayoutModel",
          "model_module_version": "1.2.0",
          "state": {
            "_model_module": "@jupyter-widgets/base",
            "_model_module_version": "1.2.0",
            "_model_name": "LayoutModel",
            "_view_count": null,
            "_view_module": "@jupyter-widgets/base",
            "_view_module_version": "1.2.0",
            "_view_name": "LayoutView",
            "align_content": null,
            "align_items": null,
            "align_self": null,
            "border": null,
            "bottom": null,
            "display": null,
            "flex": null,
            "flex_flow": null,
            "grid_area": null,
            "grid_auto_columns": null,
            "grid_auto_flow": null,
            "grid_auto_rows": null,
            "grid_column": null,
            "grid_gap": null,
            "grid_row": null,
            "grid_template_areas": null,
            "grid_template_columns": null,
            "grid_template_rows": null,
            "height": null,
            "justify_content": null,
            "justify_items": null,
            "left": null,
            "margin": null,
            "max_height": null,
            "max_width": null,
            "min_height": null,
            "min_width": null,
            "object_fit": null,
            "object_position": null,
            "order": null,
            "overflow": null,
            "overflow_x": null,
            "overflow_y": null,
            "padding": null,
            "right": null,
            "top": null,
            "visibility": null,
            "width": null
          }
        },
        "af03e039c1234c7e9a7dc98dd1986a84": {
          "model_module": "@jupyter-widgets/controls",
          "model_name": "ProgressStyleModel",
          "model_module_version": "1.5.0",
          "state": {
            "_model_module": "@jupyter-widgets/controls",
            "_model_module_version": "1.5.0",
            "_model_name": "ProgressStyleModel",
            "_view_count": null,
            "_view_module": "@jupyter-widgets/base",
            "_view_module_version": "1.2.0",
            "_view_name": "StyleView",
            "bar_color": null,
            "description_width": ""
          }
        },
        "c94036679beb4eef960f9b103f253394": {
          "model_module": "@jupyter-widgets/base",
          "model_name": "LayoutModel",
          "model_module_version": "1.2.0",
          "state": {
            "_model_module": "@jupyter-widgets/base",
            "_model_module_version": "1.2.0",
            "_model_name": "LayoutModel",
            "_view_count": null,
            "_view_module": "@jupyter-widgets/base",
            "_view_module_version": "1.2.0",
            "_view_name": "LayoutView",
            "align_content": null,
            "align_items": null,
            "align_self": null,
            "border": null,
            "bottom": null,
            "display": null,
            "flex": null,
            "flex_flow": null,
            "grid_area": null,
            "grid_auto_columns": null,
            "grid_auto_flow": null,
            "grid_auto_rows": null,
            "grid_column": null,
            "grid_gap": null,
            "grid_row": null,
            "grid_template_areas": null,
            "grid_template_columns": null,
            "grid_template_rows": null,
            "height": null,
            "justify_content": null,
            "justify_items": null,
            "left": null,
            "margin": null,
            "max_height": null,
            "max_width": null,
            "min_height": null,
            "min_width": null,
            "object_fit": null,
            "object_position": null,
            "order": null,
            "overflow": null,
            "overflow_x": null,
            "overflow_y": null,
            "padding": null,
            "right": null,
            "top": null,
            "visibility": null,
            "width": null
          }
        },
        "ade00cb9fc474bf7b9bc055f43431ac8": {
          "model_module": "@jupyter-widgets/controls",
          "model_name": "DescriptionStyleModel",
          "model_module_version": "1.5.0",
          "state": {
            "_model_module": "@jupyter-widgets/controls",
            "_model_module_version": "1.5.0",
            "_model_name": "DescriptionStyleModel",
            "_view_count": null,
            "_view_module": "@jupyter-widgets/base",
            "_view_module_version": "1.2.0",
            "_view_name": "StyleView",
            "description_width": ""
          }
        }
      }
    }
  },
  "nbformat": 4,
  "nbformat_minor": 0
}
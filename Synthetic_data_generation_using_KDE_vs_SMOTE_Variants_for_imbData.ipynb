{
  "cells": [
    {
      "cell_type": "markdown",
      "metadata": {
        "id": "NnzKaQMDW3u8"
      },
      "source": [
        "**Importing all necessary library**"
      ]
    },
    {
      "cell_type": "code",
      "execution_count": null,
      "metadata": {
        "id": "OtUEwli_W5dB"
      },
      "outputs": [],
      "source": [
        "import numpy as np\n",
        "import pandas as pd\n",
        "from tqdm.notebook import tqdm\n",
        "from sklearn.preprocessing import StandardScaler\n",
        "from sklearn.decomposition import PCA\n",
        "import matplotlib.pyplot as plt\n",
        "from sklearn.neighbors import KNeighborsClassifier\n",
        "from sklearn.metrics import confusion_matrix\n",
        "from sklearn.metrics import accuracy_score\n",
        "from sklearn.metrics import balanced_accuracy_score\n",
        "from sklearn.metrics import f1_score\n",
        "from imblearn.metrics import geometric_mean_score\n",
        "from sklearn.metrics import cohen_kappa_score\n",
        "from imblearn.over_sampling import SMOTE\n",
        "from collections import Counter"
      ]
    },
    {
      "cell_type": "markdown",
      "metadata": {
        "id": "6V2Cm03-Xhtn"
      },
      "source": [
        "- Here we used a mammography data, which have 6 different input feature and one target. In the target feature it has two classes, '-1' which stand for the majority class and '1' which stand for the minority class, hence the data is imbalanced. The type of the target data is string, where the type of feature variable is integer, so for that reason we have to preprocess the our data.\n",
        "-**Preprocessing:**\n",
        "\n",
        "1.   First we will split the file into lines and then right strip for every line.\n",
        "2.   Then we store the feature and target values  separately into some list."
      ]
    },
    {
      "cell_type": "code",
      "execution_count": null,
      "metadata": {
        "id": "1LdaXL6U4Ln8"
      },
      "outputs": [],
      "source": [
        "with open('/content/drive/MyDrive/mammography_data.txt') as f:\n",
        "  lines = [line.rstrip('\\n')for line in f]"
      ]
    },
    {
      "cell_type": "code",
      "execution_count": null,
      "metadata": {
        "id": "NWMFzBiw5bzH"
      },
      "outputs": [],
      "source": [
        "data_list=[]\n",
        "for i in range(len(lines)):\n",
        "    l= lines[i].split(',')\n",
        "    a=[float(i) for i in l[:-1]]\n",
        "    data_list.append(a)\n",
        "data= np.array(data_list)"
      ]
    },
    {
      "cell_type": "code",
      "execution_count": null,
      "metadata": {
        "colab": {
          "base_uri": "https://localhost:8080/"
        },
        "id": "_V8nOVRyt0rv",
        "outputId": "421fcd8e-78ca-4b84-af21-8b1fd21ee09c"
      },
      "outputs": [
        {
          "data": {
            "text/plain": [
              "(11183, 6)"
            ]
          },
          "execution_count": 4,
          "metadata": {},
          "output_type": "execute_result"
        }
      ],
      "source": [
        "data.shape"
      ]
    },
    {
      "cell_type": "code",
      "execution_count": null,
      "metadata": {
        "id": "_XLvvDErO_Sj"
      },
      "outputs": [],
      "source": [
        "labels_string=[]\n",
        "for i in range(len(lines)):\n",
        "  labels_string.append(lines[i].split(',')[-1])"
      ]
    },
    {
      "cell_type": "code",
      "execution_count": null,
      "metadata": {
        "id": "ZFVQ9DvEQh8O"
      },
      "outputs": [],
      "source": [
        "labels=[]\n",
        "for i in range(len(labels_string)):\n",
        "  if labels_string[i]==np.unique(labels_string)[0]:\n",
        "    labels.append(-1)\n",
        "  else:\n",
        "    labels.append(1)\n",
        "labels=np.array(labels)"
      ]
    },
    {
      "cell_type": "markdown",
      "metadata": {
        "id": "Xe8d-As8d2GE"
      },
      "source": [
        "### **K-fold :**\n",
        "Here we break down our input feature and target class, into 'k' number of folds separately, such that each folds have (k-1) training data and there should be a single test data in each fold.\n",
        "\\\n",
        "After that, we take the first fold (input feature,target class) from k-folds and we split that into traning data and test data, Then by looking the target unique values,we split the training data into majority which is for '-1' class and minority class which is for '1'.\n"
      ]
    },
    {
      "cell_type": "code",
      "execution_count": null,
      "metadata": {
        "id": "NjaH302V4x4I"
      },
      "outputs": [],
      "source": [
        "def get_folds(data,labels,k):\n",
        "  np.random.seed(42)\n",
        "  shuffle=np.random.permutation(len(data))\n",
        "  data=data[shuffle]\n",
        "  labels=labels[shuffle]\n",
        "\n",
        "  block_length=int(len(data)/k)\n",
        "  data_folds=[]\n",
        "  label_folds=[]\n",
        "  for i in range(k):\n",
        "    if i==(k-1):\n",
        "      data_fold=data[i*block_length:]\n",
        "      data_folds.append(data_fold)\n",
        "      label_fold=labels[i*block_length:]\n",
        "      label_folds.append(label_fold)\n",
        "    else:\n",
        "      data_fold=data[i*block_length:block_length*(i+1)]\n",
        "      data_folds.append(data_fold)\n",
        "      label_fold=labels[i*block_length:block_length*(i+1)]\n",
        "      label_folds.append(label_fold)\n",
        "  return np.array(data_folds,dtype=object),np.array(label_folds,dtype=object)"
      ]
    },
    {
      "cell_type": "code",
      "execution_count": null,
      "metadata": {
        "id": "QKriXh37qcAU"
      },
      "outputs": [],
      "source": [
        "def divide_data_into_k_folds(data,labels,k):\n",
        "  data_folds_array,label_folds_array=get_folds(data,labels,k)\n",
        "  all_data_folds_list=[]\n",
        "  all_labels_folds_list=[]\n",
        "  for i in range(k):\n",
        "    data_fold_k=[np.concatenate(data_folds_array[np.where(np.array(list(range(k)))!=i)[0]]), data_folds_array[i]]\n",
        "    all_data_folds_list.append(data_fold_k)\n",
        "\n",
        "    label_fold_k=[np.concatenate(label_folds_array[np.where(np.array(list(range(k)))!=i)[0]]), label_folds_array[i]]\n",
        "    all_labels_folds_list.append(label_fold_k)\n",
        "\n",
        "  return all_data_folds_list, all_labels_folds_list"
      ]
    },
    {
      "cell_type": "code",
      "execution_count": null,
      "metadata": {
        "id": "VG2u0lk15M6_"
      },
      "outputs": [],
      "source": [
        "all_data_folds_list, all_labels_folds_list=divide_data_into_k_folds(data,labels,3)"
      ]
    },
    {
      "cell_type": "code",
      "execution_count": null,
      "metadata": {
        "id": "oXUKt99frcUq"
      },
      "outputs": [],
      "source": [
        "X_train,X_test=all_data_folds_list[0][0],all_data_folds_list[0][1]"
      ]
    },
    {
      "cell_type": "code",
      "execution_count": null,
      "metadata": {
        "colab": {
          "base_uri": "https://localhost:8080/"
        },
        "id": "gk_jILn3MoLV",
        "outputId": "9c26bd93-d315-4b98-e1b3-f5b9e1e0a8ea"
      },
      "outputs": [
        {
          "data": {
            "text/plain": [
              "(7456, 6)"
            ]
          },
          "execution_count": 11,
          "metadata": {},
          "output_type": "execute_result"
        }
      ],
      "source": [
        "X_train.shape"
      ]
    },
    {
      "cell_type": "code",
      "execution_count": null,
      "metadata": {
        "id": "EcM3g_D4vigw"
      },
      "outputs": [],
      "source": [
        "y_train,y_test=all_labels_folds_list[0][0],all_labels_folds_list[0][1]"
      ]
    },
    {
      "cell_type": "code",
      "execution_count": null,
      "metadata": {
        "colab": {
          "base_uri": "https://localhost:8080/"
        },
        "id": "52y9l777vpMz",
        "outputId": "08b6d5fd-048b-4494-929e-137e78f24d94"
      },
      "outputs": [
        {
          "data": {
            "text/plain": [
              "(7456,)"
            ]
          },
          "execution_count": 13,
          "metadata": {},
          "output_type": "execute_result"
        }
      ],
      "source": [
        "y_train.shape"
      ]
    },
    {
      "cell_type": "code",
      "execution_count": null,
      "metadata": {
        "colab": {
          "base_uri": "https://localhost:8080/"
        },
        "id": "_9rrEUt_vsA3",
        "outputId": "d12136ce-4ad3-453f-b2d8-1f0c6d308792"
      },
      "outputs": [
        {
          "data": {
            "text/plain": [
              "(array([-1,  1]), array([7280,  176]))"
            ]
          },
          "execution_count": 14,
          "metadata": {},
          "output_type": "execute_result"
        }
      ],
      "source": [
        "np.unique(y_train, return_counts=True)"
      ]
    },
    {
      "cell_type": "code",
      "execution_count": null,
      "metadata": {
        "id": "OxuvHrcvBwrQ"
      },
      "outputs": [],
      "source": [
        "X_train_minority=[]\n",
        "for i in np.where(y_train==1):\n",
        "    a=X_train[i]\n",
        "    X_train_minority.append(a)"
      ]
    },
    {
      "cell_type": "code",
      "execution_count": null,
      "metadata": {
        "id": "NpQ3o1wpB5To"
      },
      "outputs": [],
      "source": [
        "X_train_minority_class=np.array(X_train_minority[0])"
      ]
    },
    {
      "cell_type": "code",
      "execution_count": null,
      "metadata": {
        "id": "0ectgLCgCA58"
      },
      "outputs": [],
      "source": [
        "X_train_majority=[]\n",
        "for i in np.where(y_train==-1):\n",
        "    a=X_train[i]\n",
        "    X_train_majority.append(a)"
      ]
    },
    {
      "cell_type": "code",
      "execution_count": null,
      "metadata": {
        "id": "A3tEKkvmCKWI"
      },
      "outputs": [],
      "source": [
        "X_train_majority_class=np.array(X_train_majority[0])"
      ]
    },
    {
      "cell_type": "markdown",
      "metadata": {
        "id": "8Q6cCh0bZuaC"
      },
      "source": [
        " ### **Kernel Density Function :**\n",
        "At this point we designed our kernel function. We used multidimensional gaussian Kernel function which is expressed mathematically as:\n",
        "$$\n",
        "K(x) = {2\\pi}^{-\\frac{d}{2}} {det(H)}^{-\\frac{1}{2}} e^{-\\frac{1}{2} {x^T} {H^{-1}}x}\n",
        "$$\n",
        "where $d$ is a number of input feature and $H$ is an identitiy matrix of dimension $d$. We calculate the Kernel density at some point $x$ using the formula:\n",
        "$$\n",
        "f(x) = {\\frac{1}{n}}{\\sum_{i=1}^{n}K(x-x_{i})}\n",
        "$$\n",
        "Where $x_{i}$ denotes the $i$-th data point of the minority class which belongs to the training data which is used to calculate the density at point any point $x$. We can put each test data as an argument to this function to obtain densities at the test data points. Note that in the multi-dimensional case $x$ and $x_i$ are both vectors of dimension $d$."
      ]
    },
    {
      "cell_type": "code",
      "execution_count": null,
      "metadata": {
        "id": "V6TRdMaR7IpZ"
      },
      "outputs": [],
      "source": [
        "def k(H,x,d):\n",
        "  H_inv = np.linalg.inv(H)\n",
        "  x_tras=np.matrix.transpose(x)\n",
        "  h= np.linalg.det(H)\n",
        "  m=np.matmul(x_tras,H_inv)\n",
        "  m1=np.matmul(m,x)\n",
        "  e=np.exp(-0.5*m1)\n",
        "  n=2*(np.pi)**(-d/2)\n",
        "  v=n*(h)**(-1/2)*(e)\n",
        "  return v"
      ]
    },
    {
      "cell_type": "code",
      "execution_count": null,
      "metadata": {
        "id": "6-JHxW0w_txa"
      },
      "outputs": [],
      "source": [
        "def density_gen(X, X_minority):\n",
        "    density_list=[]\n",
        "    for j in range(len(X)):\n",
        "        s=0\n",
        "        for i in range(len(X_minority)):\n",
        "            xi=X_minority[i]\n",
        "            dif=X[j]-xi\n",
        "            s=s+k(np.identity(X_minority.shape[1]), dif, X_minority.shape[1])\n",
        "        density_list.append(s/len(X_minority))\n",
        "    return np.array(density_list)"
      ]
    },
    {
      "cell_type": "code",
      "execution_count": null,
      "metadata": {
        "id": "Y1q3S94WHY9A"
      },
      "outputs": [],
      "source": [
        "unique_labels,counts=np.unique(y_train, return_counts=True)"
      ]
    },
    {
      "cell_type": "markdown",
      "metadata": {
        "id": "L78tfSGIidXZ"
      },
      "source": [
        "### **Metropolis hastings** :\n",
        "\" Metropolis hasting is technique of generating random samples from the any probability distribution. we can use this for the oversampling of data .\"\n",
        "\\\n",
        "**Steps of metropolis hastings:**\n",
        "1. First we take the initial guess $x_t$, which is random data points for the minority class.\n",
        "2. Then we find the candidate value $ x_{t+1}$  of $x_t$, such that it's Normal Distributed from point $x_t$ with $\\sigma^2$.\n",
        "3. After this we check the acceptance probability $α$ which is a ratio of kernel density of candidate value $ x_{t+1}$ and Kernel density of initial guess which is $x_t$.\n",
        "$α=\\frac{f(x_{x+1})}{f(x_t)}$\n",
        "4. So there are few condition about accepting the $α$ values:\n",
        "\n",
        "*   We take uniform distribution in interval between $(0,1)$, if the Uniform value is smaller than the $α$ which means the Kernel density of candidate value is higher during the finding of $α$, so there is maximum likelihood of accepting the $α$, and it store the $α$ values into a some sample list, otherwise if uniform distribution value is greater than the  $α$ which means the kernel density of initial guess ($x_t$) is higher so,there is maximum likelihood of rejecting the $α$ hence the value wont store into the sample list it will remains the same."
      ]
    },
    {
      "cell_type": "code",
      "execution_count": null,
      "metadata": {
        "id": "xAtMImTBBUyb"
      },
      "outputs": [],
      "source": [
        "def metropolis_hastings(target_density, X_minority, size=100):\n",
        "    np.random.seed(43)\n",
        "    burnin_size = 10000\n",
        "    size += burnin_size\n",
        "    x0 =X_minority[np.random.choice(list(range(len(X_train_minority_class))),1)]\n",
        "    xt = x0\n",
        "    samples = []\n",
        "    for i in tqdm(range(size)):\n",
        "        xt_candidate = np.array([np.random.multivariate_normal(xt[0], 0.2*np.eye(X_minority.shape[1]))])\n",
        "        accept_odds = (target_density(xt_candidate,X_minority))/(target_density(xt,X_minority))\n",
        "        if np.random.uniform(0, 1) < accept_odds:\n",
        "            xt = xt_candidate\n",
        "        samples.append(xt)\n",
        "    samples = np.array(samples[burnin_size:])\n",
        "    samples = np.reshape(samples, [samples.shape[0], X_minority.shape[1]])\n",
        "    return samples"
      ]
    },
    {
      "cell_type": "code",
      "execution_count": null,
      "metadata": {
        "colab": {
          "base_uri": "https://localhost:8080/"
        },
        "id": "1zlCLUWz8MtI",
        "outputId": "45511ad6-a8e4-4141-cb69-52e41f4fb73b",
        "collapsed": true
      },
      "outputs": [
        {
          "name": "stdout",
          "output_type": "stream",
          "text": [
            "Collecting smote_variants\n",
            "  Downloading smote_variants-0.7.3-py3-none-any.whl.metadata (35 kB)\n",
            "Requirement already satisfied: numpy in /usr/local/lib/python3.10/dist-packages (from smote_variants) (1.26.4)\n",
            "Requirement already satisfied: scipy in /usr/local/lib/python3.10/dist-packages (from smote_variants) (1.13.1)\n",
            "Requirement already satisfied: scikit-learn in /usr/local/lib/python3.10/dist-packages (from smote_variants) (1.3.2)\n",
            "Requirement already satisfied: joblib in /usr/local/lib/python3.10/dist-packages (from smote_variants) (1.4.2)\n",
            "Collecting minisom (from smote_variants)\n",
            "  Downloading MiniSom-2.3.2.tar.gz (10 kB)\n",
            "  Preparing metadata (setup.py) ... \u001b[?25l\u001b[?25hdone\n",
            "Collecting statistics (from smote_variants)\n",
            "  Downloading statistics-1.0.3.5.tar.gz (8.3 kB)\n",
            "  Preparing metadata (setup.py) ... \u001b[?25l\u001b[?25hdone\n",
            "Requirement already satisfied: tensorflow in /usr/local/lib/python3.10/dist-packages (from smote_variants) (2.17.0)\n",
            "Requirement already satisfied: keras in /usr/local/lib/python3.10/dist-packages (from smote_variants) (3.4.1)\n",
            "Requirement already satisfied: pandas in /usr/local/lib/python3.10/dist-packages (from smote_variants) (2.1.4)\n",
            "Requirement already satisfied: mkl in /usr/local/lib/python3.10/dist-packages (from smote_variants) (2024.2.0)\n",
            "Collecting metric-learn (from smote_variants)\n",
            "  Downloading metric_learn-0.7.0-py2.py3-none-any.whl.metadata (5.2 kB)\n",
            "Requirement already satisfied: seaborn in /usr/local/lib/python3.10/dist-packages (from smote_variants) (0.13.1)\n",
            "Requirement already satisfied: absl-py in /usr/local/lib/python3.10/dist-packages (from keras->smote_variants) (1.4.0)\n",
            "Requirement already satisfied: rich in /usr/local/lib/python3.10/dist-packages (from keras->smote_variants) (13.7.1)\n",
            "Requirement already satisfied: namex in /usr/local/lib/python3.10/dist-packages (from keras->smote_variants) (0.0.8)\n",
            "Requirement already satisfied: h5py in /usr/local/lib/python3.10/dist-packages (from keras->smote_variants) (3.11.0)\n",
            "Requirement already satisfied: optree in /usr/local/lib/python3.10/dist-packages (from keras->smote_variants) (0.12.1)\n",
            "Requirement already satisfied: ml-dtypes in /usr/local/lib/python3.10/dist-packages (from keras->smote_variants) (0.4.0)\n",
            "Requirement already satisfied: packaging in /usr/local/lib/python3.10/dist-packages (from keras->smote_variants) (24.1)\n",
            "Requirement already satisfied: threadpoolctl>=2.0.0 in /usr/local/lib/python3.10/dist-packages (from scikit-learn->smote_variants) (3.5.0)\n",
            "Requirement already satisfied: intel-openmp>=2023 in /usr/local/lib/python3.10/dist-packages (from mkl->smote_variants) (2024.2.0)\n",
            "Requirement already satisfied: tbb==2021.* in /usr/local/lib/python3.10/dist-packages (from mkl->smote_variants) (2021.13.0)\n",
            "Requirement already satisfied: python-dateutil>=2.8.2 in /usr/local/lib/python3.10/dist-packages (from pandas->smote_variants) (2.8.2)\n",
            "Requirement already satisfied: pytz>=2020.1 in /usr/local/lib/python3.10/dist-packages (from pandas->smote_variants) (2024.1)\n",
            "Requirement already satisfied: tzdata>=2022.1 in /usr/local/lib/python3.10/dist-packages (from pandas->smote_variants) (2024.1)\n",
            "Requirement already satisfied: matplotlib!=3.6.1,>=3.4 in /usr/local/lib/python3.10/dist-packages (from seaborn->smote_variants) (3.7.1)\n",
            "Requirement already satisfied: docutils>=0.3 in /usr/local/lib/python3.10/dist-packages (from statistics->smote_variants) (0.18.1)\n",
            "Requirement already satisfied: astunparse>=1.6.0 in /usr/local/lib/python3.10/dist-packages (from tensorflow->smote_variants) (1.6.3)\n",
            "Requirement already satisfied: flatbuffers>=24.3.25 in /usr/local/lib/python3.10/dist-packages (from tensorflow->smote_variants) (24.3.25)\n",
            "Requirement already satisfied: gast!=0.5.0,!=0.5.1,!=0.5.2,>=0.2.1 in /usr/local/lib/python3.10/dist-packages (from tensorflow->smote_variants) (0.6.0)\n",
            "Requirement already satisfied: google-pasta>=0.1.1 in /usr/local/lib/python3.10/dist-packages (from tensorflow->smote_variants) (0.2.0)\n",
            "Requirement already satisfied: libclang>=13.0.0 in /usr/local/lib/python3.10/dist-packages (from tensorflow->smote_variants) (18.1.1)\n",
            "Requirement already satisfied: opt-einsum>=2.3.2 in /usr/local/lib/python3.10/dist-packages (from tensorflow->smote_variants) (3.3.0)\n",
            "Requirement already satisfied: protobuf!=4.21.0,!=4.21.1,!=4.21.2,!=4.21.3,!=4.21.4,!=4.21.5,<5.0.0dev,>=3.20.3 in /usr/local/lib/python3.10/dist-packages (from tensorflow->smote_variants) (3.20.3)\n",
            "Requirement already satisfied: requests<3,>=2.21.0 in /usr/local/lib/python3.10/dist-packages (from tensorflow->smote_variants) (2.31.0)\n",
            "Requirement already satisfied: setuptools in /usr/local/lib/python3.10/dist-packages (from tensorflow->smote_variants) (71.0.4)\n",
            "Requirement already satisfied: six>=1.12.0 in /usr/local/lib/python3.10/dist-packages (from tensorflow->smote_variants) (1.16.0)\n",
            "Requirement already satisfied: termcolor>=1.1.0 in /usr/local/lib/python3.10/dist-packages (from tensorflow->smote_variants) (2.4.0)\n",
            "Requirement already satisfied: typing-extensions>=3.6.6 in /usr/local/lib/python3.10/dist-packages (from tensorflow->smote_variants) (4.12.2)\n",
            "Requirement already satisfied: wrapt>=1.11.0 in /usr/local/lib/python3.10/dist-packages (from tensorflow->smote_variants) (1.16.0)\n",
            "Requirement already satisfied: grpcio<2.0,>=1.24.3 in /usr/local/lib/python3.10/dist-packages (from tensorflow->smote_variants) (1.64.1)\n",
            "Requirement already satisfied: tensorboard<2.18,>=2.17 in /usr/local/lib/python3.10/dist-packages (from tensorflow->smote_variants) (2.17.0)\n",
            "Requirement already satisfied: tensorflow-io-gcs-filesystem>=0.23.1 in /usr/local/lib/python3.10/dist-packages (from tensorflow->smote_variants) (0.37.1)\n",
            "Requirement already satisfied: wheel<1.0,>=0.23.0 in /usr/local/lib/python3.10/dist-packages (from astunparse>=1.6.0->tensorflow->smote_variants) (0.43.0)\n",
            "Requirement already satisfied: intel-cmplr-lib-ur==2024.2.0 in /usr/local/lib/python3.10/dist-packages (from intel-openmp>=2023->mkl->smote_variants) (2024.2.0)\n",
            "Requirement already satisfied: contourpy>=1.0.1 in /usr/local/lib/python3.10/dist-packages (from matplotlib!=3.6.1,>=3.4->seaborn->smote_variants) (1.2.1)\n",
            "Requirement already satisfied: cycler>=0.10 in /usr/local/lib/python3.10/dist-packages (from matplotlib!=3.6.1,>=3.4->seaborn->smote_variants) (0.12.1)\n",
            "Requirement already satisfied: fonttools>=4.22.0 in /usr/local/lib/python3.10/dist-packages (from matplotlib!=3.6.1,>=3.4->seaborn->smote_variants) (4.53.1)\n",
            "Requirement already satisfied: kiwisolver>=1.0.1 in /usr/local/lib/python3.10/dist-packages (from matplotlib!=3.6.1,>=3.4->seaborn->smote_variants) (1.4.5)\n",
            "Requirement already satisfied: pillow>=6.2.0 in /usr/local/lib/python3.10/dist-packages (from matplotlib!=3.6.1,>=3.4->seaborn->smote_variants) (9.4.0)\n",
            "Requirement already satisfied: pyparsing>=2.3.1 in /usr/local/lib/python3.10/dist-packages (from matplotlib!=3.6.1,>=3.4->seaborn->smote_variants) (3.1.2)\n",
            "Requirement already satisfied: charset-normalizer<4,>=2 in /usr/local/lib/python3.10/dist-packages (from requests<3,>=2.21.0->tensorflow->smote_variants) (3.3.2)\n",
            "Requirement already satisfied: idna<4,>=2.5 in /usr/local/lib/python3.10/dist-packages (from requests<3,>=2.21.0->tensorflow->smote_variants) (3.7)\n",
            "Requirement already satisfied: urllib3<3,>=1.21.1 in /usr/local/lib/python3.10/dist-packages (from requests<3,>=2.21.0->tensorflow->smote_variants) (2.0.7)\n",
            "Requirement already satisfied: certifi>=2017.4.17 in /usr/local/lib/python3.10/dist-packages (from requests<3,>=2.21.0->tensorflow->smote_variants) (2024.7.4)\n",
            "Requirement already satisfied: markdown>=2.6.8 in /usr/local/lib/python3.10/dist-packages (from tensorboard<2.18,>=2.17->tensorflow->smote_variants) (3.6)\n",
            "Requirement already satisfied: tensorboard-data-server<0.8.0,>=0.7.0 in /usr/local/lib/python3.10/dist-packages (from tensorboard<2.18,>=2.17->tensorflow->smote_variants) (0.7.2)\n",
            "Requirement already satisfied: werkzeug>=1.0.1 in /usr/local/lib/python3.10/dist-packages (from tensorboard<2.18,>=2.17->tensorflow->smote_variants) (3.0.3)\n",
            "Requirement already satisfied: markdown-it-py>=2.2.0 in /usr/local/lib/python3.10/dist-packages (from rich->keras->smote_variants) (3.0.0)\n",
            "Requirement already satisfied: pygments<3.0.0,>=2.13.0 in /usr/local/lib/python3.10/dist-packages (from rich->keras->smote_variants) (2.16.1)\n",
            "Requirement already satisfied: mdurl~=0.1 in /usr/local/lib/python3.10/dist-packages (from markdown-it-py>=2.2.0->rich->keras->smote_variants) (0.1.2)\n",
            "Requirement already satisfied: MarkupSafe>=2.1.1 in /usr/local/lib/python3.10/dist-packages (from werkzeug>=1.0.1->tensorboard<2.18,>=2.17->tensorflow->smote_variants) (2.1.5)\n",
            "Downloading smote_variants-0.7.3-py3-none-any.whl (416 kB)\n",
            "\u001b[2K   \u001b[90m━━━━━━━━━━━━━━━━━━━━━━━━━━━━━━━━━━━━━━━━\u001b[0m \u001b[32m416.2/416.2 kB\u001b[0m \u001b[31m18.3 MB/s\u001b[0m eta \u001b[36m0:00:00\u001b[0m\n",
            "\u001b[?25hDownloading metric_learn-0.7.0-py2.py3-none-any.whl (67 kB)\n",
            "\u001b[2K   \u001b[90m━━━━━━━━━━━━━━━━━━━━━━━━━━━━━━━━━━━━━━━━\u001b[0m \u001b[32m67.8/67.8 kB\u001b[0m \u001b[31m5.1 MB/s\u001b[0m eta \u001b[36m0:00:00\u001b[0m\n",
            "\u001b[?25hBuilding wheels for collected packages: minisom, statistics\n",
            "  Building wheel for minisom (setup.py) ... \u001b[?25l\u001b[?25hdone\n",
            "  Created wheel for minisom: filename=MiniSom-2.3.2-py3-none-any.whl size=10651 sha256=40b2cf966645ad468a455e1a068600d14faa353d02bfcf359ff5599cdc22242e\n",
            "  Stored in directory: /root/.cache/pip/wheels/b4/f6/8a/9daf8831901c3e3805775633404248f10663d1c80b7e5a1314\n",
            "  Building wheel for statistics (setup.py) ... \u001b[?25l\u001b[?25hdone\n",
            "  Created wheel for statistics: filename=statistics-1.0.3.5-py3-none-any.whl size=7437 sha256=fa7d211aa92a806129b356f448442198da3bc8ad4ce17cb369cab954a524f572\n",
            "  Stored in directory: /root/.cache/pip/wheels/59/bd/aa/41ad56fbb723d36e457b5be74feb992cdac2855a6999ba34a1\n",
            "Successfully built minisom statistics\n",
            "Installing collected packages: minisom, statistics, metric-learn, smote_variants\n",
            "Successfully installed metric-learn-0.7.0 minisom-2.3.2 smote_variants-0.7.3 statistics-1.0.3.5\n"
          ]
        }
      ],
      "source": [
        "!pip install smote_variants"
      ]
    },
    {
      "cell_type": "markdown",
      "metadata": {
        "id": "g2pRYTnKO4lr"
      },
      "source": [
        "### **SMOTE and their Variants :**\n",
        "Here we used top three different varients of the SMOTE:\n",
        "\n",
        "1.   Polynome fit Smote: Polynome fit refers 4 different strategies by the topology parameter (star, mesh, bus,polynome) among this we used star topology is that it generates the point along the line segmets between relative far samples of minority class, thus the minority class is more scattered.\n",
        "2.   ProWSyn(Proximate weighted synthesis): It generate the new points by sampling the line segments between minority instances which having the similar distances to the majority instances.\n",
        "3.   Lee : it is a similar approach to using KNN for noise filtering.\n",
        "\n",
        "\n",
        "#### SOMOTE:\n",
        "This is also a oversampling method, it oversamples the minority calss and make it equal to the majority class.\n",
        "\\\n",
        "**Steps of generating a synthetic data:**\n",
        "\n",
        "\n",
        "- First we find the $k$ nearest neighbour for the minority calss, then we\n",
        "generate the data points in between this $k$ nearest data points using formula:\\\n",
        "$x_i'= x_i +λ(x_j-x_i)$\n",
        "\\\n",
        "So here the $x_i'$ is the new generated point, where $λ$ is factor which range between $(0,1)$.\n"
      ]
    },
    {
      "cell_type": "code",
      "execution_count": null,
      "metadata": {
        "id": "e4sJh-w2WqkO"
      },
      "outputs": [],
      "source": [
        "import smote_variants as sv\n",
        "\n",
        "oversampler_SMOTE=sv.SMOTE()\n",
        "oversampler_polynome_fit = sv.polynom_fit_SMOTE_star()\n",
        "oversampler_ProWSyn= sv.ProWSyn()\n",
        "oversampler_SMOTE_IPF= sv.SMOTE_IPF()\n",
        "oversampler_Lee= sv.Lee()\n"
      ]
    },
    {
      "cell_type": "code",
      "execution_count": null,
      "metadata": {
        "id": "aeShC0gEyimZ"
      },
      "outputs": [],
      "source": [
        "oversampler_object_list = [oversampler_SMOTE,oversampler_polynome_fit,oversampler_ProWSyn, oversampler_Lee, metropolis_hastings]"
      ]
    },
    {
      "cell_type": "code",
      "execution_count": null,
      "metadata": {
        "id": "ByjAhF6bP2Yo"
      },
      "outputs": [],
      "source": [
        "oversampler_name_list = ['SMOTE','polynome_fit_SMOTE','ProWSyn', 'Lee', 'Metropolis_hastings']"
      ]
    },
    {
      "cell_type": "code",
      "execution_count": null,
      "metadata": {
        "id": "Cq7Wk6I12WeO"
      },
      "outputs": [],
      "source": [
        "def get_imb_oversampling(X_train,y_train,X_test,y_test,oversampler_index,classifier,visualize=True):\n",
        "  ## MH is in the end of the list oversampler_object_list\n",
        "  if oversampler_index!=len(oversampler_object_list)-1:\n",
        "    X_samp, y_samp = oversampler_object_list[oversampler_index].sample(X_train, y_train)\n",
        "\n",
        "  else:\n",
        "    X_train_minority=[]\n",
        "    for i in np.where(y_train==1):\n",
        "      a=X_train[i]\n",
        "      X_train_minority.append(a)\n",
        "\n",
        "    X_train_majority=[]\n",
        "    for i in np.where(y_train==-1):\n",
        "      a=X_train[i]\n",
        "      X_train_majority.append(a)\n",
        "    X_train_minority_class=np.array(X_train_minority[0])\n",
        "    X_train_majority_class=np.array(X_train_majority[0])\n",
        "\n",
        "    unique_labels,counts=np.unique(y_train, return_counts=True)\n",
        "\n",
        "    synthetic_minority_data = metropolis_hastings(density_gen, X_train_minority_class, size=counts[0]-counts[1])\n",
        "    balanced_minority=np.concatenate([X_train_minority_class, synthetic_minority_data])\n",
        "    balanced_data=np.concatenate([X_train_majority_class,balanced_minority])\n",
        "    balanced_labels_for_classification=np.concatenate([np.zeros(len(X_train_majority_class))-1,np.ones(len(balanced_minority))])\n",
        "    X_samp=balanced_data\n",
        "    y_samp=balanced_labels_for_classification\n",
        "\n",
        "  classifier.fit(X_samp,y_samp)\n",
        "  y_pred=classifier.predict(X_test)\n",
        "  cm=confusion_matrix(y_test, y_pred)\n",
        "  acc=accuracy_score(y_test, y_pred)\n",
        "  b_acc=balanced_accuracy_score(y_test, y_pred)\n",
        "  gm=geometric_mean_score(y_test, y_pred)\n",
        "  f1=f1_score(y_test, y_pred)\n",
        "  ck=cohen_kappa_score(y_test, y_pred)\n",
        "\n",
        "  if visualize==True:\n",
        "    scaler = StandardScaler()\n",
        "    scaler.fit(X_samp)\n",
        "    scaled_X_samp = scaler.transform(X_samp)\n",
        "    pca = PCA(n_components =2)\n",
        "    X_samp_pca=pca.fit_transform(scaled_X_samp)\n",
        "\n",
        "    plt.figure(figsize=(8,6))\n",
        "    color=[\"r\",\"b\"]\n",
        "    color_counter=0\n",
        "    for i in [-1,1]:\n",
        "      plt.scatter(X_samp_pca[:,0][np.where(y_samp==i)],X_samp_pca[:,1][np.where(y_samp==i)], s=10, c=color[color_counter])\n",
        "      color_counter=color_counter+1\n",
        "    plt.legend(['Majority','Manority'],fontsize=10, loc='lower right')\n",
        "    plt.xlabel(\"Principal Component 1\",fontsize=12)\n",
        "    plt.ylabel(\"Principlal Component 2 \",fontsize=12)\n",
        "    plt.title(\"PCA plot of majority class + minority class using\"+\"\"+ oversampler_name_list[oversampler_index]+\"technique\",fontsize=14)\n",
        "\n",
        "\n",
        "  return [cm, acc,b_acc,gm, f1, ck]"
      ]
    },
    {
      "cell_type": "code",
      "execution_count": null,
      "metadata": {
        "id": "IgFIKCOhK-Z2"
      },
      "outputs": [],
      "source": [
        "def calc_avg_performance(performance_index,results_all_folds):\n",
        "  ## performance index takes the index of the performance measure foe which we want to average over folds\n",
        "  ## results_all_folds are the results of a particular oversampler run over all folds recording all performance measures\n",
        "  s=0\n",
        "  for result in results_all_folds:\n",
        "    s=s+result[performance_index]\n",
        "  avg=s/len(results_all_folds)\n",
        "\n",
        "  s=0\n",
        "  for result in results_all_folds:\n",
        "    s=s+(result[performance_index]-avg)**2\n",
        "  std=np.sqrt(s/len(results_all_folds))\n",
        "  return avg, std"
      ]
    },
    {
      "cell_type": "code",
      "execution_count": null,
      "metadata": {
        "id": "W1_D8If4PXrF"
      },
      "outputs": [],
      "source": [
        "clf=KNeighborsClassifier(n_neighbors=5)"
      ]
    },
    {
      "cell_type": "code",
      "execution_count": null,
      "metadata": {
        "collapsed": true,
        "id": "01QLZbDTKqAM"
      },
      "outputs": [],
      "source": [
        "perfromance_measures=['accuracy','balanced accuracy','g-mean','f1-score','cohen_kappa']\n",
        "def get_results_all_folds(oversampler_index,classifier, visualize=False, get_detailed_results=False):\n",
        "\n",
        "  results_all_folds=[]\n",
        "  for i in range(len(all_data_folds_list)):\n",
        "    X_train,X_test=all_data_folds_list[i][0],all_data_folds_list[i][1]\n",
        "    y_train,y_test=all_labels_folds_list[i][0],all_labels_folds_list[i][1]\n",
        "    results_single_fold=get_imb_oversampling(X_train,y_train,X_test,y_test,oversampler_index,clf,visualize=visualize)\n",
        "    results_all_folds.append(results_single_fold)\n",
        "\n",
        "  performance_summary_oversampler_classifer={}\n",
        "  for performance_index in range(1,6):\n",
        "    avg_std=calc_avg_performance(performance_index,results_all_folds)\n",
        "    performance_summary_oversampler_classifer[perfromance_measures[performance_index-1]]=avg_std\n",
        "\n",
        "  if get_detailed_results==True:\n",
        "    return results_all_folds, performance_summary_oversampler_classifer\n",
        "  else:\n",
        "    return performance_summary_oversampler_classifer"
      ]
    },
    {
      "cell_type": "code",
      "execution_count": null,
      "metadata": {
        "colab": {
          "base_uri": "https://localhost:8080/"
        },
        "id": "OXtMFcyQx2iI",
        "outputId": "1039d067-781e-49bf-efd9-715c2e176c94"
      },
      "outputs": [
        {
          "name": "stderr",
          "output_type": "stream",
          "text": [
            "2024-08-01 04:14:45,556:INFO:SMOTE: Running sampling via ('SMOTE', \"{'proportion': 1.0, 'n_neighbors': 5, 'nn_params': {}, 'n_jobs': 1, 'ss_params': {'n_dim': 2, 'simplex_sampling': 'random', 'within_simplex_sampling': 'random', 'gaussian_component': {}}, 'random_state': None, 'class_name': 'SMOTE'}\")\n",
            "INFO:smote_variants:SMOTE: Running sampling via ('SMOTE', \"{'proportion': 1.0, 'n_neighbors': 5, 'nn_params': {}, 'n_jobs': 1, 'ss_params': {'n_dim': 2, 'simplex_sampling': 'random', 'within_simplex_sampling': 'random', 'gaussian_component': {}}, 'random_state': None, 'class_name': 'SMOTE'}\")\n",
            "2024-08-01 04:14:45,561:INFO:NearestNeighborsWithMetricTensor: NN fitting with metric minkowski\n",
            "INFO:smote_variants:NearestNeighborsWithMetricTensor: NN fitting with metric minkowski\n",
            "2024-08-01 04:14:45,565:INFO:NearestNeighborsWithMetricTensor: kneighbors query minkowski\n",
            "INFO:smote_variants:NearestNeighborsWithMetricTensor: kneighbors query minkowski\n",
            "2024-08-01 04:14:45,570:INFO:SMOTE: simplex sampling with n_dim 2\n",
            "INFO:smote_variants:SMOTE: simplex sampling with n_dim 2\n",
            "2024-08-01 04:14:45,922:INFO:SMOTE: Running sampling via ('SMOTE', \"{'proportion': 1.0, 'n_neighbors': 5, 'nn_params': {}, 'n_jobs': 1, 'ss_params': {'n_dim': 2, 'simplex_sampling': 'random', 'within_simplex_sampling': 'random', 'gaussian_component': {}}, 'random_state': None, 'class_name': 'SMOTE'}\")\n",
            "INFO:smote_variants:SMOTE: Running sampling via ('SMOTE', \"{'proportion': 1.0, 'n_neighbors': 5, 'nn_params': {}, 'n_jobs': 1, 'ss_params': {'n_dim': 2, 'simplex_sampling': 'random', 'within_simplex_sampling': 'random', 'gaussian_component': {}}, 'random_state': None, 'class_name': 'SMOTE'}\")\n",
            "2024-08-01 04:14:45,927:INFO:NearestNeighborsWithMetricTensor: NN fitting with metric minkowski\n",
            "INFO:smote_variants:NearestNeighborsWithMetricTensor: NN fitting with metric minkowski\n",
            "2024-08-01 04:14:45,933:INFO:NearestNeighborsWithMetricTensor: kneighbors query minkowski\n",
            "INFO:smote_variants:NearestNeighborsWithMetricTensor: kneighbors query minkowski\n",
            "2024-08-01 04:14:45,940:INFO:SMOTE: simplex sampling with n_dim 2\n",
            "INFO:smote_variants:SMOTE: simplex sampling with n_dim 2\n",
            "2024-08-01 04:14:46,308:INFO:SMOTE: Running sampling via ('SMOTE', \"{'proportion': 1.0, 'n_neighbors': 5, 'nn_params': {}, 'n_jobs': 1, 'ss_params': {'n_dim': 2, 'simplex_sampling': 'random', 'within_simplex_sampling': 'random', 'gaussian_component': {}}, 'random_state': None, 'class_name': 'SMOTE'}\")\n",
            "INFO:smote_variants:SMOTE: Running sampling via ('SMOTE', \"{'proportion': 1.0, 'n_neighbors': 5, 'nn_params': {}, 'n_jobs': 1, 'ss_params': {'n_dim': 2, 'simplex_sampling': 'random', 'within_simplex_sampling': 'random', 'gaussian_component': {}}, 'random_state': None, 'class_name': 'SMOTE'}\")\n",
            "2024-08-01 04:14:46,313:INFO:NearestNeighborsWithMetricTensor: NN fitting with metric minkowski\n",
            "INFO:smote_variants:NearestNeighborsWithMetricTensor: NN fitting with metric minkowski\n",
            "2024-08-01 04:14:46,320:INFO:NearestNeighborsWithMetricTensor: kneighbors query minkowski\n",
            "INFO:smote_variants:NearestNeighborsWithMetricTensor: kneighbors query minkowski\n",
            "2024-08-01 04:14:46,326:INFO:SMOTE: simplex sampling with n_dim 2\n",
            "INFO:smote_variants:SMOTE: simplex sampling with n_dim 2\n"
          ]
        },
        {
          "data": {
            "text/plain": [
              "{'accuracy': (0.9583293969108083, 0.0008949053789816482),\n",
              " 'balanced accuracy': (0.8931909836608715, 0.009649637357684874),\n",
              " 'g-mean': (0.8904878396803623, 0.01059663724645297),\n",
              " 'f1-score': (0.4781498581210724, 0.022342753260519675),\n",
              " 'cohen_kappa': (0.4604427064105536, 0.021897412772447403)}"
            ]
          },
          "execution_count": 60,
          "metadata": {},
          "output_type": "execute_result"
        }
      ],
      "source": [
        "get_results_all_folds(0,clf)"
      ]
    },
    {
      "cell_type": "code",
      "execution_count": null,
      "metadata": {
        "colab": {
          "base_uri": "https://localhost:8080/",
          "height": 1000,
          "referenced_widgets": [
            "3aebd8e7bd524597b99c912ad52b7154",
            "956a756e0ce5445f80758ef343f15134",
            "dc29aa5c6d224e64a9e03a0410f153db",
            "8fb42668fd3c40fe8ccfcfd986fd2443",
            "c43f3a9eb7694203adc106d4d2aad461",
            "d5d6c5c9addd4781baaefe8f397b6475",
            "38eb5b6d04664e8199aef16986827e97",
            "efcc4a2be9f840d885dac747fcb007d6",
            "0db0fff90d59481f9daae70ef4828fd7",
            "1f2fd9672b75428bba0f04748fe7c750",
            "f703a6a5fce04cb883d87170bb057e3f",
            "d229049130ce47a9a2bae7eb2d9ed2c6",
            "8c6a76dc8a964247bc624a759dc8fbe0",
            "78c55e7c69ee40f9b914f547894a8d72",
            "9b9532cdae26418891e622ad111378e9",
            "cf4c08cb41624479a500b109f6697a4f",
            "d8f23621956c410e9c14805ba21e136f",
            "0939169310dc48b88fc53e64443a0fa9",
            "a5202c35bdbf47c99182da549e2eb6eb",
            "894993ff60584d9088c6c7b45a2ac2ae",
            "0b0b90ad6b5041e1b01ce510209ee548",
            "aee64a8897a6456cb2af3cd5773d9c35",
            "6888f90aa821456bb4892bca3c356378",
            "21e6f7b1c1594f689ac16bf5ea7ae953",
            "ba2c2ef6ffbd45ebbacd24615ec8cdc1",
            "e5fc729734f64359b8704ab92cdd6c05",
            "20a37cced35543839c9b4341813c7134",
            "a510448143774750aa45b1f7c2638a93",
            "1993626b1c9342279de6f5aa8f11e8ba",
            "2702ba4555644fa092d2913fe6944f46",
            "db7ffe7fc29344029d02cba5a07e7a3a",
            "c0afed5fa51944038c99e99e5f59e6c8",
            "682bb1a83b3840c7970d65a7a45be7d9"
          ]
        },
        "id": "RwuPg30xR0NZ",
        "outputId": "283d1a46-81f8-4d85-f7b3-d89b3699b43d"
      },
      "outputs": [
        {
          "output_type": "stream",
          "name": "stderr",
          "text": [
            "2024-08-01 04:52:41,444:INFO:SMOTE: Running sampling via ('SMOTE', \"{'proportion': 1.0, 'n_neighbors': 5, 'nn_params': {}, 'n_jobs': 1, 'ss_params': {'n_dim': 2, 'simplex_sampling': 'random', 'within_simplex_sampling': 'random', 'gaussian_component': {}}, 'random_state': None, 'class_name': 'SMOTE'}\")\n",
            "INFO:smote_variants:SMOTE: Running sampling via ('SMOTE', \"{'proportion': 1.0, 'n_neighbors': 5, 'nn_params': {}, 'n_jobs': 1, 'ss_params': {'n_dim': 2, 'simplex_sampling': 'random', 'within_simplex_sampling': 'random', 'gaussian_component': {}}, 'random_state': None, 'class_name': 'SMOTE'}\")\n",
            "2024-08-01 04:52:41,454:INFO:NearestNeighborsWithMetricTensor: NN fitting with metric minkowski\n",
            "INFO:smote_variants:NearestNeighborsWithMetricTensor: NN fitting with metric minkowski\n",
            "2024-08-01 04:52:41,461:INFO:NearestNeighborsWithMetricTensor: kneighbors query minkowski\n",
            "INFO:smote_variants:NearestNeighborsWithMetricTensor: kneighbors query minkowski\n",
            "2024-08-01 04:52:41,467:INFO:SMOTE: simplex sampling with n_dim 2\n",
            "INFO:smote_variants:SMOTE: simplex sampling with n_dim 2\n",
            "2024-08-01 04:52:41,812:INFO:SMOTE: Running sampling via ('SMOTE', \"{'proportion': 1.0, 'n_neighbors': 5, 'nn_params': {}, 'n_jobs': 1, 'ss_params': {'n_dim': 2, 'simplex_sampling': 'random', 'within_simplex_sampling': 'random', 'gaussian_component': {}}, 'random_state': None, 'class_name': 'SMOTE'}\")\n",
            "INFO:smote_variants:SMOTE: Running sampling via ('SMOTE', \"{'proportion': 1.0, 'n_neighbors': 5, 'nn_params': {}, 'n_jobs': 1, 'ss_params': {'n_dim': 2, 'simplex_sampling': 'random', 'within_simplex_sampling': 'random', 'gaussian_component': {}}, 'random_state': None, 'class_name': 'SMOTE'}\")\n",
            "2024-08-01 04:52:41,817:INFO:NearestNeighborsWithMetricTensor: NN fitting with metric minkowski\n",
            "INFO:smote_variants:NearestNeighborsWithMetricTensor: NN fitting with metric minkowski\n",
            "2024-08-01 04:52:41,821:INFO:NearestNeighborsWithMetricTensor: kneighbors query minkowski\n",
            "INFO:smote_variants:NearestNeighborsWithMetricTensor: kneighbors query minkowski\n",
            "2024-08-01 04:52:41,825:INFO:SMOTE: simplex sampling with n_dim 2\n",
            "INFO:smote_variants:SMOTE: simplex sampling with n_dim 2\n",
            "2024-08-01 04:52:42,176:INFO:SMOTE: Running sampling via ('SMOTE', \"{'proportion': 1.0, 'n_neighbors': 5, 'nn_params': {}, 'n_jobs': 1, 'ss_params': {'n_dim': 2, 'simplex_sampling': 'random', 'within_simplex_sampling': 'random', 'gaussian_component': {}}, 'random_state': None, 'class_name': 'SMOTE'}\")\n",
            "INFO:smote_variants:SMOTE: Running sampling via ('SMOTE', \"{'proportion': 1.0, 'n_neighbors': 5, 'nn_params': {}, 'n_jobs': 1, 'ss_params': {'n_dim': 2, 'simplex_sampling': 'random', 'within_simplex_sampling': 'random', 'gaussian_component': {}}, 'random_state': None, 'class_name': 'SMOTE'}\")\n",
            "2024-08-01 04:52:42,181:INFO:NearestNeighborsWithMetricTensor: NN fitting with metric minkowski\n",
            "INFO:smote_variants:NearestNeighborsWithMetricTensor: NN fitting with metric minkowski\n",
            "2024-08-01 04:52:42,186:INFO:NearestNeighborsWithMetricTensor: kneighbors query minkowski\n",
            "INFO:smote_variants:NearestNeighborsWithMetricTensor: kneighbors query minkowski\n",
            "2024-08-01 04:52:42,191:INFO:SMOTE: simplex sampling with n_dim 2\n",
            "INFO:smote_variants:SMOTE: simplex sampling with n_dim 2\n",
            "2024-08-01 04:52:42,518:INFO:polynom_fit_SMOTE_star: Running sampling via ('polynom_fit_SMOTE_star', \"{'proportion': 1.0, 'topology': 'star', 'random_state': None, 'class_name': 'polynom_fit_SMOTE_star'}\")\n",
            "INFO:smote_variants:polynom_fit_SMOTE_star: Running sampling via ('polynom_fit_SMOTE_star', \"{'proportion': 1.0, 'topology': 'star', 'random_state': None, 'class_name': 'polynom_fit_SMOTE_star'}\")\n",
            "2024-08-01 04:52:42,523:INFO:polynom_fit_SMOTE: Running sampling via ('polynom_fit_SMOTE', \"{'proportion': 1.0, 'topology': 'star', 'random_state': None, 'class_name': 'polynom_fit_SMOTE'}\")\n",
            "INFO:smote_variants:polynom_fit_SMOTE: Running sampling via ('polynom_fit_SMOTE', \"{'proportion': 1.0, 'topology': 'star', 'random_state': None, 'class_name': 'polynom_fit_SMOTE'}\")\n",
            "2024-08-01 04:52:42,854:INFO:polynom_fit_SMOTE_star: Running sampling via ('polynom_fit_SMOTE_star', \"{'proportion': 1.0, 'topology': 'star', 'random_state': None, 'class_name': 'polynom_fit_SMOTE_star'}\")\n",
            "INFO:smote_variants:polynom_fit_SMOTE_star: Running sampling via ('polynom_fit_SMOTE_star', \"{'proportion': 1.0, 'topology': 'star', 'random_state': None, 'class_name': 'polynom_fit_SMOTE_star'}\")\n",
            "2024-08-01 04:52:42,862:INFO:polynom_fit_SMOTE: Running sampling via ('polynom_fit_SMOTE', \"{'proportion': 1.0, 'topology': 'star', 'random_state': None, 'class_name': 'polynom_fit_SMOTE'}\")\n",
            "INFO:smote_variants:polynom_fit_SMOTE: Running sampling via ('polynom_fit_SMOTE', \"{'proportion': 1.0, 'topology': 'star', 'random_state': None, 'class_name': 'polynom_fit_SMOTE'}\")\n",
            "2024-08-01 04:52:43,199:INFO:polynom_fit_SMOTE_star: Running sampling via ('polynom_fit_SMOTE_star', \"{'proportion': 1.0, 'topology': 'star', 'random_state': None, 'class_name': 'polynom_fit_SMOTE_star'}\")\n",
            "INFO:smote_variants:polynom_fit_SMOTE_star: Running sampling via ('polynom_fit_SMOTE_star', \"{'proportion': 1.0, 'topology': 'star', 'random_state': None, 'class_name': 'polynom_fit_SMOTE_star'}\")\n",
            "2024-08-01 04:52:43,204:INFO:polynom_fit_SMOTE: Running sampling via ('polynom_fit_SMOTE', \"{'proportion': 1.0, 'topology': 'star', 'random_state': None, 'class_name': 'polynom_fit_SMOTE'}\")\n",
            "INFO:smote_variants:polynom_fit_SMOTE: Running sampling via ('polynom_fit_SMOTE', \"{'proportion': 1.0, 'topology': 'star', 'random_state': None, 'class_name': 'polynom_fit_SMOTE'}\")\n",
            "2024-08-01 04:52:43,507:INFO:ProWSyn: Running sampling via ('ProWSyn', \"{'proportion': 1.0, 'n_neighbors': 5, 'nn_params': {}, 'L': 5, 'theta': 1.0, 'n_jobs': 1, 'ss_params': {'n_dim': 2, 'simplex_sampling': 'random', 'within_simplex_sampling': 'random', 'gaussian_component': {}}, 'random_state': None, 'class_name': 'ProWSyn'}\")\n",
            "INFO:smote_variants:ProWSyn: Running sampling via ('ProWSyn', \"{'proportion': 1.0, 'n_neighbors': 5, 'nn_params': {}, 'L': 5, 'theta': 1.0, 'n_jobs': 1, 'ss_params': {'n_dim': 2, 'simplex_sampling': 'random', 'within_simplex_sampling': 'random', 'gaussian_component': {}}, 'random_state': None, 'class_name': 'ProWSyn'}\")\n",
            "2024-08-01 04:52:43,513:INFO:NearestNeighborsWithMetricTensor: NN fitting with metric minkowski\n",
            "INFO:smote_variants:NearestNeighborsWithMetricTensor: NN fitting with metric minkowski\n",
            "2024-08-01 04:52:43,519:INFO:NearestNeighborsWithMetricTensor: kneighbors query minkowski\n",
            "INFO:smote_variants:NearestNeighborsWithMetricTensor: kneighbors query minkowski\n",
            "2024-08-01 04:52:43,539:INFO:NearestNeighborsWithMetricTensor: NN fitting with metric minkowski\n",
            "INFO:smote_variants:NearestNeighborsWithMetricTensor: NN fitting with metric minkowski\n",
            "2024-08-01 04:52:43,544:INFO:NearestNeighborsWithMetricTensor: kneighbors query minkowski\n",
            "INFO:smote_variants:NearestNeighborsWithMetricTensor: kneighbors query minkowski\n",
            "2024-08-01 04:52:43,558:INFO:NearestNeighborsWithMetricTensor: NN fitting with metric minkowski\n",
            "INFO:smote_variants:NearestNeighborsWithMetricTensor: NN fitting with metric minkowski\n",
            "2024-08-01 04:52:43,564:INFO:NearestNeighborsWithMetricTensor: kneighbors query minkowski\n",
            "INFO:smote_variants:NearestNeighborsWithMetricTensor: kneighbors query minkowski\n",
            "2024-08-01 04:52:43,575:INFO:NearestNeighborsWithMetricTensor: NN fitting with metric minkowski\n",
            "INFO:smote_variants:NearestNeighborsWithMetricTensor: NN fitting with metric minkowski\n",
            "2024-08-01 04:52:43,581:INFO:NearestNeighborsWithMetricTensor: kneighbors query minkowski\n",
            "INFO:smote_variants:NearestNeighborsWithMetricTensor: kneighbors query minkowski\n",
            "2024-08-01 04:52:43,590:INFO:NearestNeighborsWithMetricTensor: NN fitting with metric minkowski\n",
            "INFO:smote_variants:NearestNeighborsWithMetricTensor: NN fitting with metric minkowski\n",
            "2024-08-01 04:52:43,597:INFO:NearestNeighborsWithMetricTensor: kneighbors query minkowski\n",
            "INFO:smote_variants:NearestNeighborsWithMetricTensor: kneighbors query minkowski\n",
            "2024-08-01 04:52:43,604:INFO:ProWSyn: simplex sampling with n_dim 2\n",
            "INFO:smote_variants:ProWSyn: simplex sampling with n_dim 2\n",
            "2024-08-01 04:52:43,621:INFO:ProWSyn: simplex sampling with n_dim 2\n",
            "INFO:smote_variants:ProWSyn: simplex sampling with n_dim 2\n",
            "2024-08-01 04:52:43,627:INFO:ProWSyn: simplex sampling with n_dim 2\n",
            "INFO:smote_variants:ProWSyn: simplex sampling with n_dim 2\n",
            "2024-08-01 04:52:43,632:INFO:ProWSyn: simplex sampling with n_dim 2\n",
            "INFO:smote_variants:ProWSyn: simplex sampling with n_dim 2\n",
            "2024-08-01 04:52:43,635:INFO:ProWSyn: The simplex order was updated from 2 to 1\n",
            "INFO:smote_variants:ProWSyn: The simplex order was updated from 2 to 1\n",
            "2024-08-01 04:52:43,637:INFO:ProWSyn: simplex sampling with n_dim 1\n",
            "INFO:smote_variants:ProWSyn: simplex sampling with n_dim 1\n",
            "2024-08-01 04:52:43,997:INFO:ProWSyn: Running sampling via ('ProWSyn', \"{'proportion': 1.0, 'n_neighbors': 5, 'nn_params': {}, 'L': 5, 'theta': 1.0, 'n_jobs': 1, 'ss_params': {'n_dim': 2, 'simplex_sampling': 'random', 'within_simplex_sampling': 'random', 'gaussian_component': {}}, 'random_state': None, 'class_name': 'ProWSyn'}\")\n",
            "INFO:smote_variants:ProWSyn: Running sampling via ('ProWSyn', \"{'proportion': 1.0, 'n_neighbors': 5, 'nn_params': {}, 'L': 5, 'theta': 1.0, 'n_jobs': 1, 'ss_params': {'n_dim': 2, 'simplex_sampling': 'random', 'within_simplex_sampling': 'random', 'gaussian_component': {}}, 'random_state': None, 'class_name': 'ProWSyn'}\")\n",
            "2024-08-01 04:52:44,005:INFO:NearestNeighborsWithMetricTensor: NN fitting with metric minkowski\n",
            "INFO:smote_variants:NearestNeighborsWithMetricTensor: NN fitting with metric minkowski\n",
            "2024-08-01 04:52:44,012:INFO:NearestNeighborsWithMetricTensor: kneighbors query minkowski\n",
            "INFO:smote_variants:NearestNeighborsWithMetricTensor: kneighbors query minkowski\n",
            "2024-08-01 04:52:44,036:INFO:NearestNeighborsWithMetricTensor: NN fitting with metric minkowski\n",
            "INFO:smote_variants:NearestNeighborsWithMetricTensor: NN fitting with metric minkowski\n",
            "2024-08-01 04:52:44,041:INFO:NearestNeighborsWithMetricTensor: kneighbors query minkowski\n",
            "INFO:smote_variants:NearestNeighborsWithMetricTensor: kneighbors query minkowski\n",
            "2024-08-01 04:52:44,056:INFO:NearestNeighborsWithMetricTensor: NN fitting with metric minkowski\n",
            "INFO:smote_variants:NearestNeighborsWithMetricTensor: NN fitting with metric minkowski\n",
            "2024-08-01 04:52:44,060:INFO:NearestNeighborsWithMetricTensor: kneighbors query minkowski\n",
            "INFO:smote_variants:NearestNeighborsWithMetricTensor: kneighbors query minkowski\n",
            "2024-08-01 04:52:44,077:INFO:NearestNeighborsWithMetricTensor: NN fitting with metric minkowski\n",
            "INFO:smote_variants:NearestNeighborsWithMetricTensor: NN fitting with metric minkowski\n",
            "2024-08-01 04:52:44,080:INFO:NearestNeighborsWithMetricTensor: kneighbors query minkowski\n",
            "INFO:smote_variants:NearestNeighborsWithMetricTensor: kneighbors query minkowski\n",
            "2024-08-01 04:52:44,092:INFO:NearestNeighborsWithMetricTensor: NN fitting with metric minkowski\n",
            "INFO:smote_variants:NearestNeighborsWithMetricTensor: NN fitting with metric minkowski\n",
            "2024-08-01 04:52:44,096:INFO:NearestNeighborsWithMetricTensor: kneighbors query minkowski\n",
            "INFO:smote_variants:NearestNeighborsWithMetricTensor: kneighbors query minkowski\n",
            "2024-08-01 04:52:44,101:INFO:ProWSyn: simplex sampling with n_dim 2\n",
            "INFO:smote_variants:ProWSyn: simplex sampling with n_dim 2\n",
            "2024-08-01 04:52:44,121:INFO:ProWSyn: simplex sampling with n_dim 2\n",
            "INFO:smote_variants:ProWSyn: simplex sampling with n_dim 2\n",
            "2024-08-01 04:52:44,129:INFO:ProWSyn: simplex sampling with n_dim 2\n",
            "INFO:smote_variants:ProWSyn: simplex sampling with n_dim 2\n",
            "2024-08-01 04:52:44,135:INFO:ProWSyn: simplex sampling with n_dim 2\n",
            "INFO:smote_variants:ProWSyn: simplex sampling with n_dim 2\n",
            "2024-08-01 04:52:44,140:INFO:ProWSyn: The simplex order was updated from 2 to 1\n",
            "INFO:smote_variants:ProWSyn: The simplex order was updated from 2 to 1\n",
            "2024-08-01 04:52:44,143:INFO:ProWSyn: simplex sampling with n_dim 1\n",
            "INFO:smote_variants:ProWSyn: simplex sampling with n_dim 1\n",
            "2024-08-01 04:52:44,495:INFO:ProWSyn: Running sampling via ('ProWSyn', \"{'proportion': 1.0, 'n_neighbors': 5, 'nn_params': {}, 'L': 5, 'theta': 1.0, 'n_jobs': 1, 'ss_params': {'n_dim': 2, 'simplex_sampling': 'random', 'within_simplex_sampling': 'random', 'gaussian_component': {}}, 'random_state': None, 'class_name': 'ProWSyn'}\")\n",
            "INFO:smote_variants:ProWSyn: Running sampling via ('ProWSyn', \"{'proportion': 1.0, 'n_neighbors': 5, 'nn_params': {}, 'L': 5, 'theta': 1.0, 'n_jobs': 1, 'ss_params': {'n_dim': 2, 'simplex_sampling': 'random', 'within_simplex_sampling': 'random', 'gaussian_component': {}}, 'random_state': None, 'class_name': 'ProWSyn'}\")\n",
            "2024-08-01 04:52:44,499:INFO:NearestNeighborsWithMetricTensor: NN fitting with metric minkowski\n",
            "INFO:smote_variants:NearestNeighborsWithMetricTensor: NN fitting with metric minkowski\n",
            "2024-08-01 04:52:44,504:INFO:NearestNeighborsWithMetricTensor: kneighbors query minkowski\n",
            "INFO:smote_variants:NearestNeighborsWithMetricTensor: kneighbors query minkowski\n",
            "2024-08-01 04:52:44,524:INFO:NearestNeighborsWithMetricTensor: NN fitting with metric minkowski\n",
            "INFO:smote_variants:NearestNeighborsWithMetricTensor: NN fitting with metric minkowski\n",
            "2024-08-01 04:52:44,529:INFO:NearestNeighborsWithMetricTensor: kneighbors query minkowski\n",
            "INFO:smote_variants:NearestNeighborsWithMetricTensor: kneighbors query minkowski\n",
            "2024-08-01 04:52:44,543:INFO:NearestNeighborsWithMetricTensor: NN fitting with metric minkowski\n",
            "INFO:smote_variants:NearestNeighborsWithMetricTensor: NN fitting with metric minkowski\n",
            "2024-08-01 04:52:44,548:INFO:NearestNeighborsWithMetricTensor: kneighbors query minkowski\n",
            "INFO:smote_variants:NearestNeighborsWithMetricTensor: kneighbors query minkowski\n",
            "2024-08-01 04:52:44,560:INFO:NearestNeighborsWithMetricTensor: NN fitting with metric minkowski\n",
            "INFO:smote_variants:NearestNeighborsWithMetricTensor: NN fitting with metric minkowski\n",
            "2024-08-01 04:52:44,565:INFO:NearestNeighborsWithMetricTensor: kneighbors query minkowski\n",
            "INFO:smote_variants:NearestNeighborsWithMetricTensor: kneighbors query minkowski\n",
            "2024-08-01 04:52:44,573:INFO:NearestNeighborsWithMetricTensor: NN fitting with metric minkowski\n",
            "INFO:smote_variants:NearestNeighborsWithMetricTensor: NN fitting with metric minkowski\n",
            "2024-08-01 04:52:44,578:INFO:NearestNeighborsWithMetricTensor: kneighbors query minkowski\n",
            "INFO:smote_variants:NearestNeighborsWithMetricTensor: kneighbors query minkowski\n",
            "2024-08-01 04:52:44,583:INFO:ProWSyn: simplex sampling with n_dim 2\n",
            "INFO:smote_variants:ProWSyn: simplex sampling with n_dim 2\n",
            "2024-08-01 04:52:44,595:INFO:ProWSyn: simplex sampling with n_dim 2\n",
            "INFO:smote_variants:ProWSyn: simplex sampling with n_dim 2\n",
            "2024-08-01 04:52:44,599:INFO:ProWSyn: simplex sampling with n_dim 2\n",
            "INFO:smote_variants:ProWSyn: simplex sampling with n_dim 2\n",
            "2024-08-01 04:52:44,605:INFO:ProWSyn: simplex sampling with n_dim 2\n",
            "INFO:smote_variants:ProWSyn: simplex sampling with n_dim 2\n",
            "2024-08-01 04:52:44,611:INFO:ProWSyn: The simplex order was updated from 2 to 1\n",
            "INFO:smote_variants:ProWSyn: The simplex order was updated from 2 to 1\n",
            "2024-08-01 04:52:44,614:INFO:ProWSyn: simplex sampling with n_dim 1\n",
            "INFO:smote_variants:ProWSyn: simplex sampling with n_dim 1\n",
            "2024-08-01 04:52:44,958:INFO:Lee: Running sampling via ('Lee', \"{'proportion': 1.0, 'n_neighbors': 5, 'nn_params': {}, 'rejection_level': 0.5, 'n_jobs': 1, 'ss_params': {'n_dim': 2, 'simplex_sampling': 'random', 'within_simplex_sampling': 'random', 'gaussian_component': {}}, 'random_state': None, 'class_name': 'Lee'}\")\n",
            "INFO:smote_variants:Lee: Running sampling via ('Lee', \"{'proportion': 1.0, 'n_neighbors': 5, 'nn_params': {}, 'rejection_level': 0.5, 'n_jobs': 1, 'ss_params': {'n_dim': 2, 'simplex_sampling': 'random', 'within_simplex_sampling': 'random', 'gaussian_component': {}}, 'random_state': None, 'class_name': 'Lee'}\")\n",
            "2024-08-01 04:52:44,965:INFO:NearestNeighborsWithMetricTensor: NN fitting with metric minkowski\n",
            "INFO:smote_variants:NearestNeighborsWithMetricTensor: NN fitting with metric minkowski\n",
            "2024-08-01 04:52:44,984:INFO:NearestNeighborsWithMetricTensor: NN fitting with metric minkowski\n",
            "INFO:smote_variants:NearestNeighborsWithMetricTensor: NN fitting with metric minkowski\n",
            "2024-08-01 04:52:44,993:INFO:NearestNeighborsWithMetricTensor: kneighbors query minkowski\n",
            "INFO:smote_variants:NearestNeighborsWithMetricTensor: kneighbors query minkowski\n",
            "2024-08-01 04:52:44,999:INFO:Lee: simplex sampling with n_dim 2\n",
            "INFO:smote_variants:Lee: simplex sampling with n_dim 2\n",
            "2024-08-01 04:52:45,011:INFO:NearestNeighborsWithMetricTensor: kneighbors query minkowski\n",
            "INFO:smote_variants:NearestNeighborsWithMetricTensor: kneighbors query minkowski\n",
            "2024-08-01 04:52:45,118:INFO:Lee: simplex sampling with n_dim 2\n",
            "INFO:smote_variants:Lee: simplex sampling with n_dim 2\n",
            "2024-08-01 04:52:45,124:INFO:NearestNeighborsWithMetricTensor: kneighbors query minkowski\n",
            "INFO:smote_variants:NearestNeighborsWithMetricTensor: kneighbors query minkowski\n",
            "2024-08-01 04:52:45,163:INFO:Lee: simplex sampling with n_dim 2\n",
            "INFO:smote_variants:Lee: simplex sampling with n_dim 2\n",
            "2024-08-01 04:52:45,169:INFO:NearestNeighborsWithMetricTensor: kneighbors query minkowski\n",
            "INFO:smote_variants:NearestNeighborsWithMetricTensor: kneighbors query minkowski\n",
            "2024-08-01 04:52:45,187:INFO:Lee: simplex sampling with n_dim 2\n",
            "INFO:smote_variants:Lee: simplex sampling with n_dim 2\n",
            "2024-08-01 04:52:45,193:INFO:NearestNeighborsWithMetricTensor: kneighbors query minkowski\n",
            "INFO:smote_variants:NearestNeighborsWithMetricTensor: kneighbors query minkowski\n",
            "2024-08-01 04:52:45,205:INFO:Lee: simplex sampling with n_dim 2\n",
            "INFO:smote_variants:Lee: simplex sampling with n_dim 2\n",
            "2024-08-01 04:52:45,210:INFO:NearestNeighborsWithMetricTensor: kneighbors query minkowski\n",
            "INFO:smote_variants:NearestNeighborsWithMetricTensor: kneighbors query minkowski\n",
            "2024-08-01 04:52:45,219:INFO:Lee: simplex sampling with n_dim 2\n",
            "INFO:smote_variants:Lee: simplex sampling with n_dim 2\n",
            "2024-08-01 04:52:45,223:INFO:NearestNeighborsWithMetricTensor: kneighbors query minkowski\n",
            "INFO:smote_variants:NearestNeighborsWithMetricTensor: kneighbors query minkowski\n",
            "2024-08-01 04:52:45,227:INFO:Lee: simplex sampling with n_dim 2\n",
            "INFO:smote_variants:Lee: simplex sampling with n_dim 2\n",
            "2024-08-01 04:52:45,230:INFO:NearestNeighborsWithMetricTensor: kneighbors query minkowski\n",
            "INFO:smote_variants:NearestNeighborsWithMetricTensor: kneighbors query minkowski\n",
            "2024-08-01 04:52:45,565:INFO:Lee: Running sampling via ('Lee', \"{'proportion': 1.0, 'n_neighbors': 5, 'nn_params': {}, 'rejection_level': 0.5, 'n_jobs': 1, 'ss_params': {'n_dim': 2, 'simplex_sampling': 'random', 'within_simplex_sampling': 'random', 'gaussian_component': {}}, 'random_state': None, 'class_name': 'Lee'}\")\n",
            "INFO:smote_variants:Lee: Running sampling via ('Lee', \"{'proportion': 1.0, 'n_neighbors': 5, 'nn_params': {}, 'rejection_level': 0.5, 'n_jobs': 1, 'ss_params': {'n_dim': 2, 'simplex_sampling': 'random', 'within_simplex_sampling': 'random', 'gaussian_component': {}}, 'random_state': None, 'class_name': 'Lee'}\")\n",
            "2024-08-01 04:52:45,569:INFO:NearestNeighborsWithMetricTensor: NN fitting with metric minkowski\n",
            "INFO:smote_variants:NearestNeighborsWithMetricTensor: NN fitting with metric minkowski\n",
            "2024-08-01 04:52:45,579:INFO:NearestNeighborsWithMetricTensor: NN fitting with metric minkowski\n",
            "INFO:smote_variants:NearestNeighborsWithMetricTensor: NN fitting with metric minkowski\n",
            "2024-08-01 04:52:45,585:INFO:NearestNeighborsWithMetricTensor: kneighbors query minkowski\n",
            "INFO:smote_variants:NearestNeighborsWithMetricTensor: kneighbors query minkowski\n",
            "2024-08-01 04:52:45,592:INFO:Lee: simplex sampling with n_dim 2\n",
            "INFO:smote_variants:Lee: simplex sampling with n_dim 2\n",
            "2024-08-01 04:52:45,602:INFO:NearestNeighborsWithMetricTensor: kneighbors query minkowski\n",
            "INFO:smote_variants:NearestNeighborsWithMetricTensor: kneighbors query minkowski\n",
            "2024-08-01 04:52:45,688:INFO:Lee: simplex sampling with n_dim 2\n",
            "INFO:smote_variants:Lee: simplex sampling with n_dim 2\n",
            "2024-08-01 04:52:45,696:INFO:NearestNeighborsWithMetricTensor: kneighbors query minkowski\n",
            "INFO:smote_variants:NearestNeighborsWithMetricTensor: kneighbors query minkowski\n",
            "2024-08-01 04:52:45,727:INFO:Lee: simplex sampling with n_dim 2\n",
            "INFO:smote_variants:Lee: simplex sampling with n_dim 2\n",
            "2024-08-01 04:52:45,733:INFO:NearestNeighborsWithMetricTensor: kneighbors query minkowski\n",
            "INFO:smote_variants:NearestNeighborsWithMetricTensor: kneighbors query minkowski\n",
            "2024-08-01 04:52:45,747:INFO:Lee: simplex sampling with n_dim 2\n",
            "INFO:smote_variants:Lee: simplex sampling with n_dim 2\n",
            "2024-08-01 04:52:45,754:INFO:NearestNeighborsWithMetricTensor: kneighbors query minkowski\n",
            "INFO:smote_variants:NearestNeighborsWithMetricTensor: kneighbors query minkowski\n",
            "2024-08-01 04:52:45,763:INFO:Lee: simplex sampling with n_dim 2\n",
            "INFO:smote_variants:Lee: simplex sampling with n_dim 2\n",
            "2024-08-01 04:52:45,768:INFO:NearestNeighborsWithMetricTensor: kneighbors query minkowski\n",
            "INFO:smote_variants:NearestNeighborsWithMetricTensor: kneighbors query minkowski\n",
            "2024-08-01 04:52:45,774:INFO:Lee: simplex sampling with n_dim 2\n",
            "INFO:smote_variants:Lee: simplex sampling with n_dim 2\n",
            "2024-08-01 04:52:45,777:INFO:NearestNeighborsWithMetricTensor: kneighbors query minkowski\n",
            "INFO:smote_variants:NearestNeighborsWithMetricTensor: kneighbors query minkowski\n",
            "2024-08-01 04:52:46,147:INFO:Lee: Running sampling via ('Lee', \"{'proportion': 1.0, 'n_neighbors': 5, 'nn_params': {}, 'rejection_level': 0.5, 'n_jobs': 1, 'ss_params': {'n_dim': 2, 'simplex_sampling': 'random', 'within_simplex_sampling': 'random', 'gaussian_component': {}}, 'random_state': None, 'class_name': 'Lee'}\")\n",
            "INFO:smote_variants:Lee: Running sampling via ('Lee', \"{'proportion': 1.0, 'n_neighbors': 5, 'nn_params': {}, 'rejection_level': 0.5, 'n_jobs': 1, 'ss_params': {'n_dim': 2, 'simplex_sampling': 'random', 'within_simplex_sampling': 'random', 'gaussian_component': {}}, 'random_state': None, 'class_name': 'Lee'}\")\n",
            "2024-08-01 04:52:46,152:INFO:NearestNeighborsWithMetricTensor: NN fitting with metric minkowski\n",
            "INFO:smote_variants:NearestNeighborsWithMetricTensor: NN fitting with metric minkowski\n",
            "2024-08-01 04:52:46,164:INFO:NearestNeighborsWithMetricTensor: NN fitting with metric minkowski\n",
            "INFO:smote_variants:NearestNeighborsWithMetricTensor: NN fitting with metric minkowski\n",
            "2024-08-01 04:52:46,169:INFO:NearestNeighborsWithMetricTensor: kneighbors query minkowski\n",
            "INFO:smote_variants:NearestNeighborsWithMetricTensor: kneighbors query minkowski\n",
            "2024-08-01 04:52:46,175:INFO:Lee: simplex sampling with n_dim 2\n",
            "INFO:smote_variants:Lee: simplex sampling with n_dim 2\n",
            "2024-08-01 04:52:46,183:INFO:NearestNeighborsWithMetricTensor: kneighbors query minkowski\n",
            "INFO:smote_variants:NearestNeighborsWithMetricTensor: kneighbors query minkowski\n",
            "2024-08-01 04:52:46,271:INFO:Lee: simplex sampling with n_dim 2\n",
            "INFO:smote_variants:Lee: simplex sampling with n_dim 2\n",
            "2024-08-01 04:52:46,277:INFO:NearestNeighborsWithMetricTensor: kneighbors query minkowski\n",
            "INFO:smote_variants:NearestNeighborsWithMetricTensor: kneighbors query minkowski\n",
            "2024-08-01 04:52:46,313:INFO:Lee: simplex sampling with n_dim 2\n",
            "INFO:smote_variants:Lee: simplex sampling with n_dim 2\n",
            "2024-08-01 04:52:46,318:INFO:NearestNeighborsWithMetricTensor: kneighbors query minkowski\n",
            "INFO:smote_variants:NearestNeighborsWithMetricTensor: kneighbors query minkowski\n",
            "2024-08-01 04:52:46,342:INFO:Lee: simplex sampling with n_dim 2\n",
            "INFO:smote_variants:Lee: simplex sampling with n_dim 2\n",
            "2024-08-01 04:52:46,351:INFO:NearestNeighborsWithMetricTensor: kneighbors query minkowski\n",
            "INFO:smote_variants:NearestNeighborsWithMetricTensor: kneighbors query minkowski\n",
            "2024-08-01 04:52:46,362:INFO:Lee: simplex sampling with n_dim 2\n",
            "INFO:smote_variants:Lee: simplex sampling with n_dim 2\n",
            "2024-08-01 04:52:46,367:INFO:NearestNeighborsWithMetricTensor: kneighbors query minkowski\n",
            "INFO:smote_variants:NearestNeighborsWithMetricTensor: kneighbors query minkowski\n",
            "2024-08-01 04:52:46,374:INFO:Lee: simplex sampling with n_dim 2\n",
            "INFO:smote_variants:Lee: simplex sampling with n_dim 2\n",
            "2024-08-01 04:52:46,379:INFO:NearestNeighborsWithMetricTensor: kneighbors query minkowski\n",
            "INFO:smote_variants:NearestNeighborsWithMetricTensor: kneighbors query minkowski\n",
            "2024-08-01 04:52:46,383:INFO:Lee: simplex sampling with n_dim 2\n",
            "INFO:smote_variants:Lee: simplex sampling with n_dim 2\n",
            "2024-08-01 04:52:46,386:INFO:NearestNeighborsWithMetricTensor: kneighbors query minkowski\n",
            "INFO:smote_variants:NearestNeighborsWithMetricTensor: kneighbors query minkowski\n"
          ]
        },
        {
          "output_type": "display_data",
          "data": {
            "text/plain": [
              "  0%|          | 0/17104 [00:00<?, ?it/s]"
            ],
            "application/vnd.jupyter.widget-view+json": {
              "version_major": 2,
              "version_minor": 0,
              "model_id": "3aebd8e7bd524597b99c912ad52b7154"
            }
          },
          "metadata": {}
        },
        {
          "output_type": "display_data",
          "data": {
            "text/plain": [
              "  0%|          | 0/17092 [00:00<?, ?it/s]"
            ],
            "application/vnd.jupyter.widget-view+json": {
              "version_major": 2,
              "version_minor": 0,
              "model_id": "d229049130ce47a9a2bae7eb2d9ed2c6"
            }
          },
          "metadata": {}
        },
        {
          "output_type": "display_data",
          "data": {
            "text/plain": [
              "  0%|          | 0/17130 [00:00<?, ?it/s]"
            ],
            "application/vnd.jupyter.widget-view+json": {
              "version_major": 2,
              "version_minor": 0,
              "model_id": "6888f90aa821456bb4892bca3c356378"
            }
          },
          "metadata": {}
        }
      ],
      "source": [
        "summary_performace_for_all_oversampling_algorithms_all_folds=[]\n",
        "for i in range(len(oversampler_object_list)):\n",
        "  summary_performace_for_all_oversampling_algorithms_all_folds.append(get_results_all_folds(i,clf))"
      ]
    },
    {
      "cell_type": "code",
      "source": [
        "summary_performace_for_all_oversampling_algorithms_all_folds_list=np.array([[[round(i,3) for i in summary_performace_for_all_oversampling_algorithms_all_folds[oversampler_index][key]] for key in summary_performace_for_all_oversampling_algorithms_all_folds[0].keys()] for oversampler_index in range(len(oversampler_name_list))])"
      ],
      "metadata": {
        "id": "xgkf2MdWmmcS"
      },
      "execution_count": null,
      "outputs": []
    },
    {
      "cell_type": "code",
      "source": [
        "oversamplers_result_summary_list=[]\n",
        "for i in range(summary_performace_for_all_oversampling_algorithms_all_folds_list.shape[0]):\n",
        "  performance_results_summary_list=[]\n",
        "  for j in range(summary_performace_for_all_oversampling_algorithms_all_folds_list.shape[1]):\n",
        "    performance_results_summary_list.append(str(summary_performace_for_all_oversampling_algorithms_all_folds_list[i][j][0])+\"\\u00B1\"+str(summary_performace_for_all_oversampling_algorithms_all_folds_list[i][j][1]))\n",
        "  oversamplers_result_summary_list.append(performance_results_summary_list)\n",
        "oversamplers_result_summary_list=np.array(oversamplers_result_summary_list)"
      ],
      "metadata": {
        "id": "4C4SoQ5gqC8w"
      },
      "execution_count": null,
      "outputs": []
    },
    {
      "cell_type": "code",
      "source": [
        "performance_results_summary_list"
      ],
      "metadata": {
        "colab": {
          "base_uri": "https://localhost:8080/"
        },
        "id": "9EGIWVXxPHpd",
        "outputId": "3164979c-05bd-492b-bfa1-3b4801d6f9ef"
      },
      "execution_count": null,
      "outputs": [
        {
          "output_type": "execute_result",
          "data": {
            "text/plain": [
              "['0.98±0.002', '0.802±0.032', '0.778±0.04', '0.588±0.035', '0.578±0.036']"
            ]
          },
          "metadata": {},
          "execution_count": 185
        }
      ]
    },
    {
      "cell_type": "code",
      "source": [
        "oversamplers_result_summary_list"
      ],
      "metadata": {
        "colab": {
          "base_uri": "https://localhost:8080/"
        },
        "id": "08pZzcvLqvF_",
        "outputId": "01c66f6b-54de-4cc5-ca4b-e7f1609686d1"
      },
      "execution_count": null,
      "outputs": [
        {
          "output_type": "execute_result",
          "data": {
            "text/plain": [
              "array([['0.956±0.002', '0.893±0.011', '0.891±0.011', '0.468±0.038',\n",
              "        '0.45±0.038'],\n",
              "       ['0.97±0.002', '0.877±0.028', '0.871±0.031', '0.544±0.021',\n",
              "        '0.529±0.021'],\n",
              "       ['0.957±0.004', '0.898±0.024', '0.895±0.025', '0.474±0.008',\n",
              "        '0.456±0.009'],\n",
              "       ['0.981±0.002', '0.864±0.017', '0.855±0.02', '0.65±0.025',\n",
              "        '0.64±0.025'],\n",
              "       ['0.98±0.002', '0.802±0.032', '0.778±0.04', '0.588±0.035',\n",
              "        '0.578±0.036']], dtype='<U11')"
            ]
          },
          "metadata": {},
          "execution_count": 152
        }
      ]
    },
    {
      "cell_type": "code",
      "source": [
        "df=pd.DataFrame(oversamplers_result_summary_list,columns=perfromance_measures,index=oversampler_name_list)"
      ],
      "metadata": {
        "id": "GCiYdu2Jqvgp"
      },
      "execution_count": null,
      "outputs": []
    },
    {
      "cell_type": "code",
      "source": [
        "df"
      ],
      "metadata": {
        "colab": {
          "base_uri": "https://localhost:8080/",
          "height": 206
        },
        "id": "3C4ve34F7-XI",
        "outputId": "4ecaea07-139c-45fd-db62-316f728e8f1b"
      },
      "execution_count": null,
      "outputs": [
        {
          "output_type": "execute_result",
          "data": {
            "text/plain": [
              "                        accuracy balanced accuracy       g-mean     f1-score  \\\n",
              "SMOTE                0.956±0.002       0.893±0.011  0.891±0.011  0.468±0.038   \n",
              "polynome_fit_SMOTE    0.97±0.002       0.877±0.028  0.871±0.031  0.544±0.021   \n",
              "ProWSyn              0.957±0.004       0.898±0.024  0.895±0.025  0.474±0.008   \n",
              "Lee                  0.981±0.002       0.864±0.017   0.855±0.02   0.65±0.025   \n",
              "Metropolis_hastings   0.98±0.002       0.802±0.032   0.778±0.04  0.588±0.035   \n",
              "\n",
              "                     cohen_kappa  \n",
              "SMOTE                 0.45±0.038  \n",
              "polynome_fit_SMOTE   0.529±0.021  \n",
              "ProWSyn              0.456±0.009  \n",
              "Lee                   0.64±0.025  \n",
              "Metropolis_hastings  0.578±0.036  "
            ],
            "text/html": [
              "\n",
              "  <div id=\"df-7d29e7ff-a2af-4e26-800f-31a9e43e502e\" class=\"colab-df-container\">\n",
              "    <div>\n",
              "<style scoped>\n",
              "    .dataframe tbody tr th:only-of-type {\n",
              "        vertical-align: middle;\n",
              "    }\n",
              "\n",
              "    .dataframe tbody tr th {\n",
              "        vertical-align: top;\n",
              "    }\n",
              "\n",
              "    .dataframe thead th {\n",
              "        text-align: right;\n",
              "    }\n",
              "</style>\n",
              "<table border=\"1\" class=\"dataframe\">\n",
              "  <thead>\n",
              "    <tr style=\"text-align: right;\">\n",
              "      <th></th>\n",
              "      <th>accuracy</th>\n",
              "      <th>balanced accuracy</th>\n",
              "      <th>g-mean</th>\n",
              "      <th>f1-score</th>\n",
              "      <th>cohen_kappa</th>\n",
              "    </tr>\n",
              "  </thead>\n",
              "  <tbody>\n",
              "    <tr>\n",
              "      <th>SMOTE</th>\n",
              "      <td>0.956±0.002</td>\n",
              "      <td>0.893±0.011</td>\n",
              "      <td>0.891±0.011</td>\n",
              "      <td>0.468±0.038</td>\n",
              "      <td>0.45±0.038</td>\n",
              "    </tr>\n",
              "    <tr>\n",
              "      <th>polynome_fit_SMOTE</th>\n",
              "      <td>0.97±0.002</td>\n",
              "      <td>0.877±0.028</td>\n",
              "      <td>0.871±0.031</td>\n",
              "      <td>0.544±0.021</td>\n",
              "      <td>0.529±0.021</td>\n",
              "    </tr>\n",
              "    <tr>\n",
              "      <th>ProWSyn</th>\n",
              "      <td>0.957±0.004</td>\n",
              "      <td>0.898±0.024</td>\n",
              "      <td>0.895±0.025</td>\n",
              "      <td>0.474±0.008</td>\n",
              "      <td>0.456±0.009</td>\n",
              "    </tr>\n",
              "    <tr>\n",
              "      <th>Lee</th>\n",
              "      <td>0.981±0.002</td>\n",
              "      <td>0.864±0.017</td>\n",
              "      <td>0.855±0.02</td>\n",
              "      <td>0.65±0.025</td>\n",
              "      <td>0.64±0.025</td>\n",
              "    </tr>\n",
              "    <tr>\n",
              "      <th>Metropolis_hastings</th>\n",
              "      <td>0.98±0.002</td>\n",
              "      <td>0.802±0.032</td>\n",
              "      <td>0.778±0.04</td>\n",
              "      <td>0.588±0.035</td>\n",
              "      <td>0.578±0.036</td>\n",
              "    </tr>\n",
              "  </tbody>\n",
              "</table>\n",
              "</div>\n",
              "    <div class=\"colab-df-buttons\">\n",
              "\n",
              "  <div class=\"colab-df-container\">\n",
              "    <button class=\"colab-df-convert\" onclick=\"convertToInteractive('df-7d29e7ff-a2af-4e26-800f-31a9e43e502e')\"\n",
              "            title=\"Convert this dataframe to an interactive table.\"\n",
              "            style=\"display:none;\">\n",
              "\n",
              "  <svg xmlns=\"http://www.w3.org/2000/svg\" height=\"24px\" viewBox=\"0 -960 960 960\">\n",
              "    <path d=\"M120-120v-720h720v720H120Zm60-500h600v-160H180v160Zm220 220h160v-160H400v160Zm0 220h160v-160H400v160ZM180-400h160v-160H180v160Zm440 0h160v-160H620v160ZM180-180h160v-160H180v160Zm440 0h160v-160H620v160Z\"/>\n",
              "  </svg>\n",
              "    </button>\n",
              "\n",
              "  <style>\n",
              "    .colab-df-container {\n",
              "      display:flex;\n",
              "      gap: 12px;\n",
              "    }\n",
              "\n",
              "    .colab-df-convert {\n",
              "      background-color: #E8F0FE;\n",
              "      border: none;\n",
              "      border-radius: 50%;\n",
              "      cursor: pointer;\n",
              "      display: none;\n",
              "      fill: #1967D2;\n",
              "      height: 32px;\n",
              "      padding: 0 0 0 0;\n",
              "      width: 32px;\n",
              "    }\n",
              "\n",
              "    .colab-df-convert:hover {\n",
              "      background-color: #E2EBFA;\n",
              "      box-shadow: 0px 1px 2px rgba(60, 64, 67, 0.3), 0px 1px 3px 1px rgba(60, 64, 67, 0.15);\n",
              "      fill: #174EA6;\n",
              "    }\n",
              "\n",
              "    .colab-df-buttons div {\n",
              "      margin-bottom: 4px;\n",
              "    }\n",
              "\n",
              "    [theme=dark] .colab-df-convert {\n",
              "      background-color: #3B4455;\n",
              "      fill: #D2E3FC;\n",
              "    }\n",
              "\n",
              "    [theme=dark] .colab-df-convert:hover {\n",
              "      background-color: #434B5C;\n",
              "      box-shadow: 0px 1px 3px 1px rgba(0, 0, 0, 0.15);\n",
              "      filter: drop-shadow(0px 1px 2px rgba(0, 0, 0, 0.3));\n",
              "      fill: #FFFFFF;\n",
              "    }\n",
              "  </style>\n",
              "\n",
              "    <script>\n",
              "      const buttonEl =\n",
              "        document.querySelector('#df-7d29e7ff-a2af-4e26-800f-31a9e43e502e button.colab-df-convert');\n",
              "      buttonEl.style.display =\n",
              "        google.colab.kernel.accessAllowed ? 'block' : 'none';\n",
              "\n",
              "      async function convertToInteractive(key) {\n",
              "        const element = document.querySelector('#df-7d29e7ff-a2af-4e26-800f-31a9e43e502e');\n",
              "        const dataTable =\n",
              "          await google.colab.kernel.invokeFunction('convertToInteractive',\n",
              "                                                    [key], {});\n",
              "        if (!dataTable) return;\n",
              "\n",
              "        const docLinkHtml = 'Like what you see? Visit the ' +\n",
              "          '<a target=\"_blank\" href=https://colab.research.google.com/notebooks/data_table.ipynb>data table notebook</a>'\n",
              "          + ' to learn more about interactive tables.';\n",
              "        element.innerHTML = '';\n",
              "        dataTable['output_type'] = 'display_data';\n",
              "        await google.colab.output.renderOutput(dataTable, element);\n",
              "        const docLink = document.createElement('div');\n",
              "        docLink.innerHTML = docLinkHtml;\n",
              "        element.appendChild(docLink);\n",
              "      }\n",
              "    </script>\n",
              "  </div>\n",
              "\n",
              "\n",
              "<div id=\"df-415bc9e8-1404-4aad-846b-ad883fb95c27\">\n",
              "  <button class=\"colab-df-quickchart\" onclick=\"quickchart('df-415bc9e8-1404-4aad-846b-ad883fb95c27')\"\n",
              "            title=\"Suggest charts\"\n",
              "            style=\"display:none;\">\n",
              "\n",
              "<svg xmlns=\"http://www.w3.org/2000/svg\" height=\"24px\"viewBox=\"0 0 24 24\"\n",
              "     width=\"24px\">\n",
              "    <g>\n",
              "        <path d=\"M19 3H5c-1.1 0-2 .9-2 2v14c0 1.1.9 2 2 2h14c1.1 0 2-.9 2-2V5c0-1.1-.9-2-2-2zM9 17H7v-7h2v7zm4 0h-2V7h2v10zm4 0h-2v-4h2v4z\"/>\n",
              "    </g>\n",
              "</svg>\n",
              "  </button>\n",
              "\n",
              "<style>\n",
              "  .colab-df-quickchart {\n",
              "      --bg-color: #E8F0FE;\n",
              "      --fill-color: #1967D2;\n",
              "      --hover-bg-color: #E2EBFA;\n",
              "      --hover-fill-color: #174EA6;\n",
              "      --disabled-fill-color: #AAA;\n",
              "      --disabled-bg-color: #DDD;\n",
              "  }\n",
              "\n",
              "  [theme=dark] .colab-df-quickchart {\n",
              "      --bg-color: #3B4455;\n",
              "      --fill-color: #D2E3FC;\n",
              "      --hover-bg-color: #434B5C;\n",
              "      --hover-fill-color: #FFFFFF;\n",
              "      --disabled-bg-color: #3B4455;\n",
              "      --disabled-fill-color: #666;\n",
              "  }\n",
              "\n",
              "  .colab-df-quickchart {\n",
              "    background-color: var(--bg-color);\n",
              "    border: none;\n",
              "    border-radius: 50%;\n",
              "    cursor: pointer;\n",
              "    display: none;\n",
              "    fill: var(--fill-color);\n",
              "    height: 32px;\n",
              "    padding: 0;\n",
              "    width: 32px;\n",
              "  }\n",
              "\n",
              "  .colab-df-quickchart:hover {\n",
              "    background-color: var(--hover-bg-color);\n",
              "    box-shadow: 0 1px 2px rgba(60, 64, 67, 0.3), 0 1px 3px 1px rgba(60, 64, 67, 0.15);\n",
              "    fill: var(--button-hover-fill-color);\n",
              "  }\n",
              "\n",
              "  .colab-df-quickchart-complete:disabled,\n",
              "  .colab-df-quickchart-complete:disabled:hover {\n",
              "    background-color: var(--disabled-bg-color);\n",
              "    fill: var(--disabled-fill-color);\n",
              "    box-shadow: none;\n",
              "  }\n",
              "\n",
              "  .colab-df-spinner {\n",
              "    border: 2px solid var(--fill-color);\n",
              "    border-color: transparent;\n",
              "    border-bottom-color: var(--fill-color);\n",
              "    animation:\n",
              "      spin 1s steps(1) infinite;\n",
              "  }\n",
              "\n",
              "  @keyframes spin {\n",
              "    0% {\n",
              "      border-color: transparent;\n",
              "      border-bottom-color: var(--fill-color);\n",
              "      border-left-color: var(--fill-color);\n",
              "    }\n",
              "    20% {\n",
              "      border-color: transparent;\n",
              "      border-left-color: var(--fill-color);\n",
              "      border-top-color: var(--fill-color);\n",
              "    }\n",
              "    30% {\n",
              "      border-color: transparent;\n",
              "      border-left-color: var(--fill-color);\n",
              "      border-top-color: var(--fill-color);\n",
              "      border-right-color: var(--fill-color);\n",
              "    }\n",
              "    40% {\n",
              "      border-color: transparent;\n",
              "      border-right-color: var(--fill-color);\n",
              "      border-top-color: var(--fill-color);\n",
              "    }\n",
              "    60% {\n",
              "      border-color: transparent;\n",
              "      border-right-color: var(--fill-color);\n",
              "    }\n",
              "    80% {\n",
              "      border-color: transparent;\n",
              "      border-right-color: var(--fill-color);\n",
              "      border-bottom-color: var(--fill-color);\n",
              "    }\n",
              "    90% {\n",
              "      border-color: transparent;\n",
              "      border-bottom-color: var(--fill-color);\n",
              "    }\n",
              "  }\n",
              "</style>\n",
              "\n",
              "  <script>\n",
              "    async function quickchart(key) {\n",
              "      const quickchartButtonEl =\n",
              "        document.querySelector('#' + key + ' button');\n",
              "      quickchartButtonEl.disabled = true;  // To prevent multiple clicks.\n",
              "      quickchartButtonEl.classList.add('colab-df-spinner');\n",
              "      try {\n",
              "        const charts = await google.colab.kernel.invokeFunction(\n",
              "            'suggestCharts', [key], {});\n",
              "      } catch (error) {\n",
              "        console.error('Error during call to suggestCharts:', error);\n",
              "      }\n",
              "      quickchartButtonEl.classList.remove('colab-df-spinner');\n",
              "      quickchartButtonEl.classList.add('colab-df-quickchart-complete');\n",
              "    }\n",
              "    (() => {\n",
              "      let quickchartButtonEl =\n",
              "        document.querySelector('#df-415bc9e8-1404-4aad-846b-ad883fb95c27 button');\n",
              "      quickchartButtonEl.style.display =\n",
              "        google.colab.kernel.accessAllowed ? 'block' : 'none';\n",
              "    })();\n",
              "  </script>\n",
              "</div>\n",
              "\n",
              "  <div id=\"id_590341e6-49ec-4fce-ac9a-6b15f309088f\">\n",
              "    <style>\n",
              "      .colab-df-generate {\n",
              "        background-color: #E8F0FE;\n",
              "        border: none;\n",
              "        border-radius: 50%;\n",
              "        cursor: pointer;\n",
              "        display: none;\n",
              "        fill: #1967D2;\n",
              "        height: 32px;\n",
              "        padding: 0 0 0 0;\n",
              "        width: 32px;\n",
              "      }\n",
              "\n",
              "      .colab-df-generate:hover {\n",
              "        background-color: #E2EBFA;\n",
              "        box-shadow: 0px 1px 2px rgba(60, 64, 67, 0.3), 0px 1px 3px 1px rgba(60, 64, 67, 0.15);\n",
              "        fill: #174EA6;\n",
              "      }\n",
              "\n",
              "      [theme=dark] .colab-df-generate {\n",
              "        background-color: #3B4455;\n",
              "        fill: #D2E3FC;\n",
              "      }\n",
              "\n",
              "      [theme=dark] .colab-df-generate:hover {\n",
              "        background-color: #434B5C;\n",
              "        box-shadow: 0px 1px 3px 1px rgba(0, 0, 0, 0.15);\n",
              "        filter: drop-shadow(0px 1px 2px rgba(0, 0, 0, 0.3));\n",
              "        fill: #FFFFFF;\n",
              "      }\n",
              "    </style>\n",
              "    <button class=\"colab-df-generate\" onclick=\"generateWithVariable('df')\"\n",
              "            title=\"Generate code using this dataframe.\"\n",
              "            style=\"display:none;\">\n",
              "\n",
              "  <svg xmlns=\"http://www.w3.org/2000/svg\" height=\"24px\"viewBox=\"0 0 24 24\"\n",
              "       width=\"24px\">\n",
              "    <path d=\"M7,19H8.4L18.45,9,17,7.55,7,17.6ZM5,21V16.75L18.45,3.32a2,2,0,0,1,2.83,0l1.4,1.43a1.91,1.91,0,0,1,.58,1.4,1.91,1.91,0,0,1-.58,1.4L9.25,21ZM18.45,9,17,7.55Zm-12,3A5.31,5.31,0,0,0,4.9,8.1,5.31,5.31,0,0,0,1,6.5,5.31,5.31,0,0,0,4.9,4.9,5.31,5.31,0,0,0,6.5,1,5.31,5.31,0,0,0,8.1,4.9,5.31,5.31,0,0,0,12,6.5,5.46,5.46,0,0,0,6.5,12Z\"/>\n",
              "  </svg>\n",
              "    </button>\n",
              "    <script>\n",
              "      (() => {\n",
              "      const buttonEl =\n",
              "        document.querySelector('#id_590341e6-49ec-4fce-ac9a-6b15f309088f button.colab-df-generate');\n",
              "      buttonEl.style.display =\n",
              "        google.colab.kernel.accessAllowed ? 'block' : 'none';\n",
              "\n",
              "      buttonEl.onclick = () => {\n",
              "        google.colab.notebook.generateWithVariable('df');\n",
              "      }\n",
              "      })();\n",
              "    </script>\n",
              "  </div>\n",
              "\n",
              "    </div>\n",
              "  </div>\n"
            ],
            "application/vnd.google.colaboratory.intrinsic+json": {
              "type": "dataframe",
              "variable_name": "df",
              "summary": "{\n  \"name\": \"df\",\n  \"rows\": 5,\n  \"fields\": [\n    {\n      \"column\": \"accuracy\",\n      \"properties\": {\n        \"dtype\": \"string\",\n        \"num_unique_values\": 5,\n        \"samples\": [\n          \"0.97\\u00b10.002\",\n          \"0.98\\u00b10.002\",\n          \"0.957\\u00b10.004\"\n        ],\n        \"semantic_type\": \"\",\n        \"description\": \"\"\n      }\n    },\n    {\n      \"column\": \"balanced accuracy\",\n      \"properties\": {\n        \"dtype\": \"string\",\n        \"num_unique_values\": 5,\n        \"samples\": [\n          \"0.877\\u00b10.028\",\n          \"0.802\\u00b10.032\",\n          \"0.898\\u00b10.024\"\n        ],\n        \"semantic_type\": \"\",\n        \"description\": \"\"\n      }\n    },\n    {\n      \"column\": \"g-mean\",\n      \"properties\": {\n        \"dtype\": \"string\",\n        \"num_unique_values\": 5,\n        \"samples\": [\n          \"0.871\\u00b10.031\",\n          \"0.778\\u00b10.04\",\n          \"0.895\\u00b10.025\"\n        ],\n        \"semantic_type\": \"\",\n        \"description\": \"\"\n      }\n    },\n    {\n      \"column\": \"f1-score\",\n      \"properties\": {\n        \"dtype\": \"string\",\n        \"num_unique_values\": 5,\n        \"samples\": [\n          \"0.544\\u00b10.021\",\n          \"0.588\\u00b10.035\",\n          \"0.474\\u00b10.008\"\n        ],\n        \"semantic_type\": \"\",\n        \"description\": \"\"\n      }\n    },\n    {\n      \"column\": \"cohen_kappa\",\n      \"properties\": {\n        \"dtype\": \"string\",\n        \"num_unique_values\": 5,\n        \"samples\": [\n          \"0.529\\u00b10.021\",\n          \"0.578\\u00b10.036\",\n          \"0.456\\u00b10.009\"\n        ],\n        \"semantic_type\": \"\",\n        \"description\": \"\"\n      }\n    }\n  ]\n}"
            }
          },
          "metadata": {},
          "execution_count": 156
        }
      ]
    },
    {
      "cell_type": "code",
      "source": [
        "with pd.ExcelWriter('KNN_clf_result.xlsx') as excel_writer:\n",
        "  df.to_excel(excel_writer,sheet_name='sheet_1')"
      ],
      "metadata": {
        "id": "Lr7YA-yBEUmt"
      },
      "execution_count": null,
      "outputs": []
    }
  ],
  "metadata": {
    "colab": {
      "provenance": []
    },
    "kernelspec": {
      "display_name": "Python 3",
      "name": "python3"
    },
    "language_info": {
      "name": "python"
    },
    "widgets": {
      "application/vnd.jupyter.widget-state+json": {
        "3aebd8e7bd524597b99c912ad52b7154": {
          "model_module": "@jupyter-widgets/controls",
          "model_name": "HBoxModel",
          "model_module_version": "1.5.0",
          "state": {
            "_dom_classes": [],
            "_model_module": "@jupyter-widgets/controls",
            "_model_module_version": "1.5.0",
            "_model_name": "HBoxModel",
            "_view_count": null,
            "_view_module": "@jupyter-widgets/controls",
            "_view_module_version": "1.5.0",
            "_view_name": "HBoxView",
            "box_style": "",
            "children": [
              "IPY_MODEL_956a756e0ce5445f80758ef343f15134",
              "IPY_MODEL_dc29aa5c6d224e64a9e03a0410f153db",
              "IPY_MODEL_8fb42668fd3c40fe8ccfcfd986fd2443"
            ],
            "layout": "IPY_MODEL_c43f3a9eb7694203adc106d4d2aad461"
          }
        },
        "956a756e0ce5445f80758ef343f15134": {
          "model_module": "@jupyter-widgets/controls",
          "model_name": "HTMLModel",
          "model_module_version": "1.5.0",
          "state": {
            "_dom_classes": [],
            "_model_module": "@jupyter-widgets/controls",
            "_model_module_version": "1.5.0",
            "_model_name": "HTMLModel",
            "_view_count": null,
            "_view_module": "@jupyter-widgets/controls",
            "_view_module_version": "1.5.0",
            "_view_name": "HTMLView",
            "description": "",
            "description_tooltip": null,
            "layout": "IPY_MODEL_d5d6c5c9addd4781baaefe8f397b6475",
            "placeholder": "​",
            "style": "IPY_MODEL_38eb5b6d04664e8199aef16986827e97",
            "value": "100%"
          }
        },
        "dc29aa5c6d224e64a9e03a0410f153db": {
          "model_module": "@jupyter-widgets/controls",
          "model_name": "FloatProgressModel",
          "model_module_version": "1.5.0",
          "state": {
            "_dom_classes": [],
            "_model_module": "@jupyter-widgets/controls",
            "_model_module_version": "1.5.0",
            "_model_name": "FloatProgressModel",
            "_view_count": null,
            "_view_module": "@jupyter-widgets/controls",
            "_view_module_version": "1.5.0",
            "_view_name": "ProgressView",
            "bar_style": "success",
            "description": "",
            "description_tooltip": null,
            "layout": "IPY_MODEL_efcc4a2be9f840d885dac747fcb007d6",
            "max": 17104,
            "min": 0,
            "orientation": "horizontal",
            "style": "IPY_MODEL_0db0fff90d59481f9daae70ef4828fd7",
            "value": 17104
          }
        },
        "8fb42668fd3c40fe8ccfcfd986fd2443": {
          "model_module": "@jupyter-widgets/controls",
          "model_name": "HTMLModel",
          "model_module_version": "1.5.0",
          "state": {
            "_dom_classes": [],
            "_model_module": "@jupyter-widgets/controls",
            "_model_module_version": "1.5.0",
            "_model_name": "HTMLModel",
            "_view_count": null,
            "_view_module": "@jupyter-widgets/controls",
            "_view_module_version": "1.5.0",
            "_view_name": "HTMLView",
            "description": "",
            "description_tooltip": null,
            "layout": "IPY_MODEL_1f2fd9672b75428bba0f04748fe7c750",
            "placeholder": "​",
            "style": "IPY_MODEL_f703a6a5fce04cb883d87170bb057e3f",
            "value": " 17104/17104 [07:11&lt;00:00, 53.18it/s]"
          }
        },
        "c43f3a9eb7694203adc106d4d2aad461": {
          "model_module": "@jupyter-widgets/base",
          "model_name": "LayoutModel",
          "model_module_version": "1.2.0",
          "state": {
            "_model_module": "@jupyter-widgets/base",
            "_model_module_version": "1.2.0",
            "_model_name": "LayoutModel",
            "_view_count": null,
            "_view_module": "@jupyter-widgets/base",
            "_view_module_version": "1.2.0",
            "_view_name": "LayoutView",
            "align_content": null,
            "align_items": null,
            "align_self": null,
            "border": null,
            "bottom": null,
            "display": null,
            "flex": null,
            "flex_flow": null,
            "grid_area": null,
            "grid_auto_columns": null,
            "grid_auto_flow": null,
            "grid_auto_rows": null,
            "grid_column": null,
            "grid_gap": null,
            "grid_row": null,
            "grid_template_areas": null,
            "grid_template_columns": null,
            "grid_template_rows": null,
            "height": null,
            "justify_content": null,
            "justify_items": null,
            "left": null,
            "margin": null,
            "max_height": null,
            "max_width": null,
            "min_height": null,
            "min_width": null,
            "object_fit": null,
            "object_position": null,
            "order": null,
            "overflow": null,
            "overflow_x": null,
            "overflow_y": null,
            "padding": null,
            "right": null,
            "top": null,
            "visibility": null,
            "width": null
          }
        },
        "d5d6c5c9addd4781baaefe8f397b6475": {
          "model_module": "@jupyter-widgets/base",
          "model_name": "LayoutModel",
          "model_module_version": "1.2.0",
          "state": {
            "_model_module": "@jupyter-widgets/base",
            "_model_module_version": "1.2.0",
            "_model_name": "LayoutModel",
            "_view_count": null,
            "_view_module": "@jupyter-widgets/base",
            "_view_module_version": "1.2.0",
            "_view_name": "LayoutView",
            "align_content": null,
            "align_items": null,
            "align_self": null,
            "border": null,
            "bottom": null,
            "display": null,
            "flex": null,
            "flex_flow": null,
            "grid_area": null,
            "grid_auto_columns": null,
            "grid_auto_flow": null,
            "grid_auto_rows": null,
            "grid_column": null,
            "grid_gap": null,
            "grid_row": null,
            "grid_template_areas": null,
            "grid_template_columns": null,
            "grid_template_rows": null,
            "height": null,
            "justify_content": null,
            "justify_items": null,
            "left": null,
            "margin": null,
            "max_height": null,
            "max_width": null,
            "min_height": null,
            "min_width": null,
            "object_fit": null,
            "object_position": null,
            "order": null,
            "overflow": null,
            "overflow_x": null,
            "overflow_y": null,
            "padding": null,
            "right": null,
            "top": null,
            "visibility": null,
            "width": null
          }
        },
        "38eb5b6d04664e8199aef16986827e97": {
          "model_module": "@jupyter-widgets/controls",
          "model_name": "DescriptionStyleModel",
          "model_module_version": "1.5.0",
          "state": {
            "_model_module": "@jupyter-widgets/controls",
            "_model_module_version": "1.5.0",
            "_model_name": "DescriptionStyleModel",
            "_view_count": null,
            "_view_module": "@jupyter-widgets/base",
            "_view_module_version": "1.2.0",
            "_view_name": "StyleView",
            "description_width": ""
          }
        },
        "efcc4a2be9f840d885dac747fcb007d6": {
          "model_module": "@jupyter-widgets/base",
          "model_name": "LayoutModel",
          "model_module_version": "1.2.0",
          "state": {
            "_model_module": "@jupyter-widgets/base",
            "_model_module_version": "1.2.0",
            "_model_name": "LayoutModel",
            "_view_count": null,
            "_view_module": "@jupyter-widgets/base",
            "_view_module_version": "1.2.0",
            "_view_name": "LayoutView",
            "align_content": null,
            "align_items": null,
            "align_self": null,
            "border": null,
            "bottom": null,
            "display": null,
            "flex": null,
            "flex_flow": null,
            "grid_area": null,
            "grid_auto_columns": null,
            "grid_auto_flow": null,
            "grid_auto_rows": null,
            "grid_column": null,
            "grid_gap": null,
            "grid_row": null,
            "grid_template_areas": null,
            "grid_template_columns": null,
            "grid_template_rows": null,
            "height": null,
            "justify_content": null,
            "justify_items": null,
            "left": null,
            "margin": null,
            "max_height": null,
            "max_width": null,
            "min_height": null,
            "min_width": null,
            "object_fit": null,
            "object_position": null,
            "order": null,
            "overflow": null,
            "overflow_x": null,
            "overflow_y": null,
            "padding": null,
            "right": null,
            "top": null,
            "visibility": null,
            "width": null
          }
        },
        "0db0fff90d59481f9daae70ef4828fd7": {
          "model_module": "@jupyter-widgets/controls",
          "model_name": "ProgressStyleModel",
          "model_module_version": "1.5.0",
          "state": {
            "_model_module": "@jupyter-widgets/controls",
            "_model_module_version": "1.5.0",
            "_model_name": "ProgressStyleModel",
            "_view_count": null,
            "_view_module": "@jupyter-widgets/base",
            "_view_module_version": "1.2.0",
            "_view_name": "StyleView",
            "bar_color": null,
            "description_width": ""
          }
        },
        "1f2fd9672b75428bba0f04748fe7c750": {
          "model_module": "@jupyter-widgets/base",
          "model_name": "LayoutModel",
          "model_module_version": "1.2.0",
          "state": {
            "_model_module": "@jupyter-widgets/base",
            "_model_module_version": "1.2.0",
            "_model_name": "LayoutModel",
            "_view_count": null,
            "_view_module": "@jupyter-widgets/base",
            "_view_module_version": "1.2.0",
            "_view_name": "LayoutView",
            "align_content": null,
            "align_items": null,
            "align_self": null,
            "border": null,
            "bottom": null,
            "display": null,
            "flex": null,
            "flex_flow": null,
            "grid_area": null,
            "grid_auto_columns": null,
            "grid_auto_flow": null,
            "grid_auto_rows": null,
            "grid_column": null,
            "grid_gap": null,
            "grid_row": null,
            "grid_template_areas": null,
            "grid_template_columns": null,
            "grid_template_rows": null,
            "height": null,
            "justify_content": null,
            "justify_items": null,
            "left": null,
            "margin": null,
            "max_height": null,
            "max_width": null,
            "min_height": null,
            "min_width": null,
            "object_fit": null,
            "object_position": null,
            "order": null,
            "overflow": null,
            "overflow_x": null,
            "overflow_y": null,
            "padding": null,
            "right": null,
            "top": null,
            "visibility": null,
            "width": null
          }
        },
        "f703a6a5fce04cb883d87170bb057e3f": {
          "model_module": "@jupyter-widgets/controls",
          "model_name": "DescriptionStyleModel",
          "model_module_version": "1.5.0",
          "state": {
            "_model_module": "@jupyter-widgets/controls",
            "_model_module_version": "1.5.0",
            "_model_name": "DescriptionStyleModel",
            "_view_count": null,
            "_view_module": "@jupyter-widgets/base",
            "_view_module_version": "1.2.0",
            "_view_name": "StyleView",
            "description_width": ""
          }
        },
        "d229049130ce47a9a2bae7eb2d9ed2c6": {
          "model_module": "@jupyter-widgets/controls",
          "model_name": "HBoxModel",
          "model_module_version": "1.5.0",
          "state": {
            "_dom_classes": [],
            "_model_module": "@jupyter-widgets/controls",
            "_model_module_version": "1.5.0",
            "_model_name": "HBoxModel",
            "_view_count": null,
            "_view_module": "@jupyter-widgets/controls",
            "_view_module_version": "1.5.0",
            "_view_name": "HBoxView",
            "box_style": "",
            "children": [
              "IPY_MODEL_8c6a76dc8a964247bc624a759dc8fbe0",
              "IPY_MODEL_78c55e7c69ee40f9b914f547894a8d72",
              "IPY_MODEL_9b9532cdae26418891e622ad111378e9"
            ],
            "layout": "IPY_MODEL_cf4c08cb41624479a500b109f6697a4f"
          }
        },
        "8c6a76dc8a964247bc624a759dc8fbe0": {
          "model_module": "@jupyter-widgets/controls",
          "model_name": "HTMLModel",
          "model_module_version": "1.5.0",
          "state": {
            "_dom_classes": [],
            "_model_module": "@jupyter-widgets/controls",
            "_model_module_version": "1.5.0",
            "_model_name": "HTMLModel",
            "_view_count": null,
            "_view_module": "@jupyter-widgets/controls",
            "_view_module_version": "1.5.0",
            "_view_name": "HTMLView",
            "description": "",
            "description_tooltip": null,
            "layout": "IPY_MODEL_d8f23621956c410e9c14805ba21e136f",
            "placeholder": "​",
            "style": "IPY_MODEL_0939169310dc48b88fc53e64443a0fa9",
            "value": "100%"
          }
        },
        "78c55e7c69ee40f9b914f547894a8d72": {
          "model_module": "@jupyter-widgets/controls",
          "model_name": "FloatProgressModel",
          "model_module_version": "1.5.0",
          "state": {
            "_dom_classes": [],
            "_model_module": "@jupyter-widgets/controls",
            "_model_module_version": "1.5.0",
            "_model_name": "FloatProgressModel",
            "_view_count": null,
            "_view_module": "@jupyter-widgets/controls",
            "_view_module_version": "1.5.0",
            "_view_name": "ProgressView",
            "bar_style": "success",
            "description": "",
            "description_tooltip": null,
            "layout": "IPY_MODEL_a5202c35bdbf47c99182da549e2eb6eb",
            "max": 17092,
            "min": 0,
            "orientation": "horizontal",
            "style": "IPY_MODEL_894993ff60584d9088c6c7b45a2ac2ae",
            "value": 17092
          }
        },
        "9b9532cdae26418891e622ad111378e9": {
          "model_module": "@jupyter-widgets/controls",
          "model_name": "HTMLModel",
          "model_module_version": "1.5.0",
          "state": {
            "_dom_classes": [],
            "_model_module": "@jupyter-widgets/controls",
            "_model_module_version": "1.5.0",
            "_model_name": "HTMLModel",
            "_view_count": null,
            "_view_module": "@jupyter-widgets/controls",
            "_view_module_version": "1.5.0",
            "_view_name": "HTMLView",
            "description": "",
            "description_tooltip": null,
            "layout": "IPY_MODEL_0b0b90ad6b5041e1b01ce510209ee548",
            "placeholder": "​",
            "style": "IPY_MODEL_aee64a8897a6456cb2af3cd5773d9c35",
            "value": " 17092/17092 [07:22&lt;00:00, 51.44it/s]"
          }
        },
        "cf4c08cb41624479a500b109f6697a4f": {
          "model_module": "@jupyter-widgets/base",
          "model_name": "LayoutModel",
          "model_module_version": "1.2.0",
          "state": {
            "_model_module": "@jupyter-widgets/base",
            "_model_module_version": "1.2.0",
            "_model_name": "LayoutModel",
            "_view_count": null,
            "_view_module": "@jupyter-widgets/base",
            "_view_module_version": "1.2.0",
            "_view_name": "LayoutView",
            "align_content": null,
            "align_items": null,
            "align_self": null,
            "border": null,
            "bottom": null,
            "display": null,
            "flex": null,
            "flex_flow": null,
            "grid_area": null,
            "grid_auto_columns": null,
            "grid_auto_flow": null,
            "grid_auto_rows": null,
            "grid_column": null,
            "grid_gap": null,
            "grid_row": null,
            "grid_template_areas": null,
            "grid_template_columns": null,
            "grid_template_rows": null,
            "height": null,
            "justify_content": null,
            "justify_items": null,
            "left": null,
            "margin": null,
            "max_height": null,
            "max_width": null,
            "min_height": null,
            "min_width": null,
            "object_fit": null,
            "object_position": null,
            "order": null,
            "overflow": null,
            "overflow_x": null,
            "overflow_y": null,
            "padding": null,
            "right": null,
            "top": null,
            "visibility": null,
            "width": null
          }
        },
        "d8f23621956c410e9c14805ba21e136f": {
          "model_module": "@jupyter-widgets/base",
          "model_name": "LayoutModel",
          "model_module_version": "1.2.0",
          "state": {
            "_model_module": "@jupyter-widgets/base",
            "_model_module_version": "1.2.0",
            "_model_name": "LayoutModel",
            "_view_count": null,
            "_view_module": "@jupyter-widgets/base",
            "_view_module_version": "1.2.0",
            "_view_name": "LayoutView",
            "align_content": null,
            "align_items": null,
            "align_self": null,
            "border": null,
            "bottom": null,
            "display": null,
            "flex": null,
            "flex_flow": null,
            "grid_area": null,
            "grid_auto_columns": null,
            "grid_auto_flow": null,
            "grid_auto_rows": null,
            "grid_column": null,
            "grid_gap": null,
            "grid_row": null,
            "grid_template_areas": null,
            "grid_template_columns": null,
            "grid_template_rows": null,
            "height": null,
            "justify_content": null,
            "justify_items": null,
            "left": null,
            "margin": null,
            "max_height": null,
            "max_width": null,
            "min_height": null,
            "min_width": null,
            "object_fit": null,
            "object_position": null,
            "order": null,
            "overflow": null,
            "overflow_x": null,
            "overflow_y": null,
            "padding": null,
            "right": null,
            "top": null,
            "visibility": null,
            "width": null
          }
        },
        "0939169310dc48b88fc53e64443a0fa9": {
          "model_module": "@jupyter-widgets/controls",
          "model_name": "DescriptionStyleModel",
          "model_module_version": "1.5.0",
          "state": {
            "_model_module": "@jupyter-widgets/controls",
            "_model_module_version": "1.5.0",
            "_model_name": "DescriptionStyleModel",
            "_view_count": null,
            "_view_module": "@jupyter-widgets/base",
            "_view_module_version": "1.2.0",
            "_view_name": "StyleView",
            "description_width": ""
          }
        },
        "a5202c35bdbf47c99182da549e2eb6eb": {
          "model_module": "@jupyter-widgets/base",
          "model_name": "LayoutModel",
          "model_module_version": "1.2.0",
          "state": {
            "_model_module": "@jupyter-widgets/base",
            "_model_module_version": "1.2.0",
            "_model_name": "LayoutModel",
            "_view_count": null,
            "_view_module": "@jupyter-widgets/base",
            "_view_module_version": "1.2.0",
            "_view_name": "LayoutView",
            "align_content": null,
            "align_items": null,
            "align_self": null,
            "border": null,
            "bottom": null,
            "display": null,
            "flex": null,
            "flex_flow": null,
            "grid_area": null,
            "grid_auto_columns": null,
            "grid_auto_flow": null,
            "grid_auto_rows": null,
            "grid_column": null,
            "grid_gap": null,
            "grid_row": null,
            "grid_template_areas": null,
            "grid_template_columns": null,
            "grid_template_rows": null,
            "height": null,
            "justify_content": null,
            "justify_items": null,
            "left": null,
            "margin": null,
            "max_height": null,
            "max_width": null,
            "min_height": null,
            "min_width": null,
            "object_fit": null,
            "object_position": null,
            "order": null,
            "overflow": null,
            "overflow_x": null,
            "overflow_y": null,
            "padding": null,
            "right": null,
            "top": null,
            "visibility": null,
            "width": null
          }
        },
        "894993ff60584d9088c6c7b45a2ac2ae": {
          "model_module": "@jupyter-widgets/controls",
          "model_name": "ProgressStyleModel",
          "model_module_version": "1.5.0",
          "state": {
            "_model_module": "@jupyter-widgets/controls",
            "_model_module_version": "1.5.0",
            "_model_name": "ProgressStyleModel",
            "_view_count": null,
            "_view_module": "@jupyter-widgets/base",
            "_view_module_version": "1.2.0",
            "_view_name": "StyleView",
            "bar_color": null,
            "description_width": ""
          }
        },
        "0b0b90ad6b5041e1b01ce510209ee548": {
          "model_module": "@jupyter-widgets/base",
          "model_name": "LayoutModel",
          "model_module_version": "1.2.0",
          "state": {
            "_model_module": "@jupyter-widgets/base",
            "_model_module_version": "1.2.0",
            "_model_name": "LayoutModel",
            "_view_count": null,
            "_view_module": "@jupyter-widgets/base",
            "_view_module_version": "1.2.0",
            "_view_name": "LayoutView",
            "align_content": null,
            "align_items": null,
            "align_self": null,
            "border": null,
            "bottom": null,
            "display": null,
            "flex": null,
            "flex_flow": null,
            "grid_area": null,
            "grid_auto_columns": null,
            "grid_auto_flow": null,
            "grid_auto_rows": null,
            "grid_column": null,
            "grid_gap": null,
            "grid_row": null,
            "grid_template_areas": null,
            "grid_template_columns": null,
            "grid_template_rows": null,
            "height": null,
            "justify_content": null,
            "justify_items": null,
            "left": null,
            "margin": null,
            "max_height": null,
            "max_width": null,
            "min_height": null,
            "min_width": null,
            "object_fit": null,
            "object_position": null,
            "order": null,
            "overflow": null,
            "overflow_x": null,
            "overflow_y": null,
            "padding": null,
            "right": null,
            "top": null,
            "visibility": null,
            "width": null
          }
        },
        "aee64a8897a6456cb2af3cd5773d9c35": {
          "model_module": "@jupyter-widgets/controls",
          "model_name": "DescriptionStyleModel",
          "model_module_version": "1.5.0",
          "state": {
            "_model_module": "@jupyter-widgets/controls",
            "_model_module_version": "1.5.0",
            "_model_name": "DescriptionStyleModel",
            "_view_count": null,
            "_view_module": "@jupyter-widgets/base",
            "_view_module_version": "1.2.0",
            "_view_name": "StyleView",
            "description_width": ""
          }
        },
        "6888f90aa821456bb4892bca3c356378": {
          "model_module": "@jupyter-widgets/controls",
          "model_name": "HBoxModel",
          "model_module_version": "1.5.0",
          "state": {
            "_dom_classes": [],
            "_model_module": "@jupyter-widgets/controls",
            "_model_module_version": "1.5.0",
            "_model_name": "HBoxModel",
            "_view_count": null,
            "_view_module": "@jupyter-widgets/controls",
            "_view_module_version": "1.5.0",
            "_view_name": "HBoxView",
            "box_style": "",
            "children": [
              "IPY_MODEL_21e6f7b1c1594f689ac16bf5ea7ae953",
              "IPY_MODEL_ba2c2ef6ffbd45ebbacd24615ec8cdc1",
              "IPY_MODEL_e5fc729734f64359b8704ab92cdd6c05"
            ],
            "layout": "IPY_MODEL_20a37cced35543839c9b4341813c7134"
          }
        },
        "21e6f7b1c1594f689ac16bf5ea7ae953": {
          "model_module": "@jupyter-widgets/controls",
          "model_name": "HTMLModel",
          "model_module_version": "1.5.0",
          "state": {
            "_dom_classes": [],
            "_model_module": "@jupyter-widgets/controls",
            "_model_module_version": "1.5.0",
            "_model_name": "HTMLModel",
            "_view_count": null,
            "_view_module": "@jupyter-widgets/controls",
            "_view_module_version": "1.5.0",
            "_view_name": "HTMLView",
            "description": "",
            "description_tooltip": null,
            "layout": "IPY_MODEL_a510448143774750aa45b1f7c2638a93",
            "placeholder": "​",
            "style": "IPY_MODEL_1993626b1c9342279de6f5aa8f11e8ba",
            "value": "100%"
          }
        },
        "ba2c2ef6ffbd45ebbacd24615ec8cdc1": {
          "model_module": "@jupyter-widgets/controls",
          "model_name": "FloatProgressModel",
          "model_module_version": "1.5.0",
          "state": {
            "_dom_classes": [],
            "_model_module": "@jupyter-widgets/controls",
            "_model_module_version": "1.5.0",
            "_model_name": "FloatProgressModel",
            "_view_count": null,
            "_view_module": "@jupyter-widgets/controls",
            "_view_module_version": "1.5.0",
            "_view_name": "ProgressView",
            "bar_style": "success",
            "description": "",
            "description_tooltip": null,
            "layout": "IPY_MODEL_2702ba4555644fa092d2913fe6944f46",
            "max": 17130,
            "min": 0,
            "orientation": "horizontal",
            "style": "IPY_MODEL_db7ffe7fc29344029d02cba5a07e7a3a",
            "value": 17130
          }
        },
        "e5fc729734f64359b8704ab92cdd6c05": {
          "model_module": "@jupyter-widgets/controls",
          "model_name": "HTMLModel",
          "model_module_version": "1.5.0",
          "state": {
            "_dom_classes": [],
            "_model_module": "@jupyter-widgets/controls",
            "_model_module_version": "1.5.0",
            "_model_name": "HTMLModel",
            "_view_count": null,
            "_view_module": "@jupyter-widgets/controls",
            "_view_module_version": "1.5.0",
            "_view_name": "HTMLView",
            "description": "",
            "description_tooltip": null,
            "layout": "IPY_MODEL_c0afed5fa51944038c99e99e5f59e6c8",
            "placeholder": "​",
            "style": "IPY_MODEL_682bb1a83b3840c7970d65a7a45be7d9",
            "value": " 17130/17130 [06:35&lt;00:00, 57.61it/s]"
          }
        },
        "20a37cced35543839c9b4341813c7134": {
          "model_module": "@jupyter-widgets/base",
          "model_name": "LayoutModel",
          "model_module_version": "1.2.0",
          "state": {
            "_model_module": "@jupyter-widgets/base",
            "_model_module_version": "1.2.0",
            "_model_name": "LayoutModel",
            "_view_count": null,
            "_view_module": "@jupyter-widgets/base",
            "_view_module_version": "1.2.0",
            "_view_name": "LayoutView",
            "align_content": null,
            "align_items": null,
            "align_self": null,
            "border": null,
            "bottom": null,
            "display": null,
            "flex": null,
            "flex_flow": null,
            "grid_area": null,
            "grid_auto_columns": null,
            "grid_auto_flow": null,
            "grid_auto_rows": null,
            "grid_column": null,
            "grid_gap": null,
            "grid_row": null,
            "grid_template_areas": null,
            "grid_template_columns": null,
            "grid_template_rows": null,
            "height": null,
            "justify_content": null,
            "justify_items": null,
            "left": null,
            "margin": null,
            "max_height": null,
            "max_width": null,
            "min_height": null,
            "min_width": null,
            "object_fit": null,
            "object_position": null,
            "order": null,
            "overflow": null,
            "overflow_x": null,
            "overflow_y": null,
            "padding": null,
            "right": null,
            "top": null,
            "visibility": null,
            "width": null
          }
        },
        "a510448143774750aa45b1f7c2638a93": {
          "model_module": "@jupyter-widgets/base",
          "model_name": "LayoutModel",
          "model_module_version": "1.2.0",
          "state": {
            "_model_module": "@jupyter-widgets/base",
            "_model_module_version": "1.2.0",
            "_model_name": "LayoutModel",
            "_view_count": null,
            "_view_module": "@jupyter-widgets/base",
            "_view_module_version": "1.2.0",
            "_view_name": "LayoutView",
            "align_content": null,
            "align_items": null,
            "align_self": null,
            "border": null,
            "bottom": null,
            "display": null,
            "flex": null,
            "flex_flow": null,
            "grid_area": null,
            "grid_auto_columns": null,
            "grid_auto_flow": null,
            "grid_auto_rows": null,
            "grid_column": null,
            "grid_gap": null,
            "grid_row": null,
            "grid_template_areas": null,
            "grid_template_columns": null,
            "grid_template_rows": null,
            "height": null,
            "justify_content": null,
            "justify_items": null,
            "left": null,
            "margin": null,
            "max_height": null,
            "max_width": null,
            "min_height": null,
            "min_width": null,
            "object_fit": null,
            "object_position": null,
            "order": null,
            "overflow": null,
            "overflow_x": null,
            "overflow_y": null,
            "padding": null,
            "right": null,
            "top": null,
            "visibility": null,
            "width": null
          }
        },
        "1993626b1c9342279de6f5aa8f11e8ba": {
          "model_module": "@jupyter-widgets/controls",
          "model_name": "DescriptionStyleModel",
          "model_module_version": "1.5.0",
          "state": {
            "_model_module": "@jupyter-widgets/controls",
            "_model_module_version": "1.5.0",
            "_model_name": "DescriptionStyleModel",
            "_view_count": null,
            "_view_module": "@jupyter-widgets/base",
            "_view_module_version": "1.2.0",
            "_view_name": "StyleView",
            "description_width": ""
          }
        },
        "2702ba4555644fa092d2913fe6944f46": {
          "model_module": "@jupyter-widgets/base",
          "model_name": "LayoutModel",
          "model_module_version": "1.2.0",
          "state": {
            "_model_module": "@jupyter-widgets/base",
            "_model_module_version": "1.2.0",
            "_model_name": "LayoutModel",
            "_view_count": null,
            "_view_module": "@jupyter-widgets/base",
            "_view_module_version": "1.2.0",
            "_view_name": "LayoutView",
            "align_content": null,
            "align_items": null,
            "align_self": null,
            "border": null,
            "bottom": null,
            "display": null,
            "flex": null,
            "flex_flow": null,
            "grid_area": null,
            "grid_auto_columns": null,
            "grid_auto_flow": null,
            "grid_auto_rows": null,
            "grid_column": null,
            "grid_gap": null,
            "grid_row": null,
            "grid_template_areas": null,
            "grid_template_columns": null,
            "grid_template_rows": null,
            "height": null,
            "justify_content": null,
            "justify_items": null,
            "left": null,
            "margin": null,
            "max_height": null,
            "max_width": null,
            "min_height": null,
            "min_width": null,
            "object_fit": null,
            "object_position": null,
            "order": null,
            "overflow": null,
            "overflow_x": null,
            "overflow_y": null,
            "padding": null,
            "right": null,
            "top": null,
            "visibility": null,
            "width": null
          }
        },
        "db7ffe7fc29344029d02cba5a07e7a3a": {
          "model_module": "@jupyter-widgets/controls",
          "model_name": "ProgressStyleModel",
          "model_module_version": "1.5.0",
          "state": {
            "_model_module": "@jupyter-widgets/controls",
            "_model_module_version": "1.5.0",
            "_model_name": "ProgressStyleModel",
            "_view_count": null,
            "_view_module": "@jupyter-widgets/base",
            "_view_module_version": "1.2.0",
            "_view_name": "StyleView",
            "bar_color": null,
            "description_width": ""
          }
        },
        "c0afed5fa51944038c99e99e5f59e6c8": {
          "model_module": "@jupyter-widgets/base",
          "model_name": "LayoutModel",
          "model_module_version": "1.2.0",
          "state": {
            "_model_module": "@jupyter-widgets/base",
            "_model_module_version": "1.2.0",
            "_model_name": "LayoutModel",
            "_view_count": null,
            "_view_module": "@jupyter-widgets/base",
            "_view_module_version": "1.2.0",
            "_view_name": "LayoutView",
            "align_content": null,
            "align_items": null,
            "align_self": null,
            "border": null,
            "bottom": null,
            "display": null,
            "flex": null,
            "flex_flow": null,
            "grid_area": null,
            "grid_auto_columns": null,
            "grid_auto_flow": null,
            "grid_auto_rows": null,
            "grid_column": null,
            "grid_gap": null,
            "grid_row": null,
            "grid_template_areas": null,
            "grid_template_columns": null,
            "grid_template_rows": null,
            "height": null,
            "justify_content": null,
            "justify_items": null,
            "left": null,
            "margin": null,
            "max_height": null,
            "max_width": null,
            "min_height": null,
            "min_width": null,
            "object_fit": null,
            "object_position": null,
            "order": null,
            "overflow": null,
            "overflow_x": null,
            "overflow_y": null,
            "padding": null,
            "right": null,
            "top": null,
            "visibility": null,
            "width": null
          }
        },
        "682bb1a83b3840c7970d65a7a45be7d9": {
          "model_module": "@jupyter-widgets/controls",
          "model_name": "DescriptionStyleModel",
          "model_module_version": "1.5.0",
          "state": {
            "_model_module": "@jupyter-widgets/controls",
            "_model_module_version": "1.5.0",
            "_model_name": "DescriptionStyleModel",
            "_view_count": null,
            "_view_module": "@jupyter-widgets/base",
            "_view_module_version": "1.2.0",
            "_view_name": "StyleView",
            "description_width": ""
          }
        }
      }
    }
  },
  "nbformat": 4,
  "nbformat_minor": 0
}
{
 "cells": [
  {
   "cell_type": "code",
   "execution_count": 1,
   "id": "8656760b-6b54-4c14-950e-1da119ba1196",
   "metadata": {},
   "outputs": [],
   "source": [
    "import numpy as np\n",
    "import pandas as pd\n",
    "from tqdm.notebook import tqdm\n",
    "from sklearn.preprocessing import StandardScaler\n",
    "from sklearn.decomposition import PCA\n",
    "import matplotlib.pyplot as plt\n",
    "from sklearn.neighbors import KNeighborsClassifier\n",
    "from sklearn.metrics import confusion_matrix\n",
    "from sklearn.metrics import accuracy_score\n",
    "from sklearn.metrics import balanced_accuracy_score\n",
    "from sklearn.metrics import f1_score\n",
    "from imblearn.metrics import geometric_mean_score\n",
    "from sklearn.metrics import cohen_kappa_score\n",
    "from imblearn.over_sampling import SMOTE\n",
    "from collections import Counter"
   ]
  },
  {
   "cell_type": "code",
   "execution_count": 2,
   "id": "7304f51b-0cf3-4117-9b2f-5d242440e1ac",
   "metadata": {},
   "outputs": [],
   "source": [
    "with open ('haberman.dat') as f:\n",
    "     lines = [line.rstrip('\\n')for line in f]"
   ]
  },
  {
   "cell_type": "code",
   "execution_count": 3,
   "id": "2ab76b40-d19a-40ad-b20c-8f3ef738bf3a",
   "metadata": {},
   "outputs": [
    {
     "data": {
      "text/plain": [
       "314"
      ]
     },
     "execution_count": 3,
     "metadata": {},
     "output_type": "execute_result"
    }
   ],
   "source": [
    "len(lines)"
   ]
  },
  {
   "cell_type": "code",
   "execution_count": 4,
   "id": "609280e6-c68b-4f0a-aaca-b49ebfb6dbb9",
   "metadata": {},
   "outputs": [],
   "source": [
    "del lines[0:8]\n",
    "data_string_list = []\n",
    "for i in range(len(lines)):\n",
    "    data_string_list.append(lines[i].split(','))"
   ]
  },
  {
   "cell_type": "code",
   "execution_count": 5,
   "id": "75fcdf2b-d5d7-43a4-afe6-75ce42f0ab7e",
   "metadata": {},
   "outputs": [],
   "source": [
    "labels=[]\n",
    "for i in range(len(data_string_list)):\n",
    "    if data_string_list[i][-1] == ' negative':\n",
    "        labels.append(0)\n",
    "    else:\n",
    "        labels.append(1)\n",
    "labels=np.array(labels)"
   ]
  },
  {
   "cell_type": "code",
   "execution_count": 6,
   "id": "49161847-4a63-4585-a514-dc830d52d0f4",
   "metadata": {},
   "outputs": [
    {
     "data": {
      "text/plain": [
       "array([0, 1])"
      ]
     },
     "execution_count": 6,
     "metadata": {},
     "output_type": "execute_result"
    }
   ],
   "source": [
    "np.unique(labels)"
   ]
  },
  {
   "cell_type": "code",
   "execution_count": 7,
   "id": "c8b42a31-2467-4f06-be06-b3522b2f81ff",
   "metadata": {},
   "outputs": [],
   "source": [
    "data_string_list=np.array(data_string_list)\n",
    "data_string_list=data_string_list[:,:-1]"
   ]
  },
  {
   "cell_type": "code",
   "execution_count": 8,
   "id": "0b3a84d0-698a-4cfb-9740-82817d15a57e",
   "metadata": {},
   "outputs": [],
   "source": [
    "data_list=[]\n",
    "for i in range(len(data_string_list)):\n",
    "    row_list=[]\n",
    "    for j in range(len(data_string_list[0])):\n",
    "        f= float(data_string_list[i][j])\n",
    "        row_list.append(f)\n",
    "    data_list.append(row_list)\n",
    "data = np.array(data_list)"
   ]
  },
  {
   "cell_type": "code",
   "execution_count": 9,
   "id": "8fa9fe4f-3e2b-4299-9f8e-7ee75ab7fba9",
   "metadata": {
    "editable": true,
    "slideshow": {
     "slide_type": ""
    },
    "tags": []
   },
   "outputs": [
    {
     "data": {
      "text/plain": [
       "(306, 3)"
      ]
     },
     "execution_count": 9,
     "metadata": {},
     "output_type": "execute_result"
    }
   ],
   "source": [
    "data.shape"
   ]
  },
  {
   "cell_type": "markdown",
   "id": "c5b42384-47d2-42a9-a723-ad817827c934",
   "metadata": {
    "editable": true,
    "slideshow": {
     "slide_type": ""
    },
    "tags": []
   },
   "source": [
    "### K-fold:"
   ]
  },
  {
   "cell_type": "code",
   "execution_count": 11,
   "id": "d08e4baa-2c78-45ac-bdd8-8bd3839f04fa",
   "metadata": {
    "editable": true,
    "slideshow": {
     "slide_type": ""
    },
    "tags": []
   },
   "outputs": [],
   "source": [
    "def get_folds(data,labels,k):\n",
    "  np.random.seed(42)\n",
    "  shuffle=np.random.permutation(len(data))\n",
    "  data=data[shuffle]\n",
    "  labels=labels[shuffle]\n",
    "\n",
    "  block_length=int(len(data)/k)\n",
    "  data_folds=[]\n",
    "  label_folds=[]\n",
    "  for i in range(k):\n",
    "    if i==(k-1):\n",
    "      data_fold=data[i*block_length:]\n",
    "      data_folds.append(data_fold)\n",
    "      label_fold=labels[i*block_length:]\n",
    "      label_folds.append(label_fold)\n",
    "    else:\n",
    "      data_fold=data[i*block_length:block_length*(i+1)]\n",
    "      data_folds.append(data_fold)\n",
    "      label_fold=labels[i*block_length:block_length*(i+1)]\n",
    "      label_folds.append(label_fold)\n",
    "  return np.array(data_folds,dtype=object),np.array(label_folds,dtype=object)"
   ]
  },
  {
   "cell_type": "code",
   "execution_count": 12,
   "id": "bce71f7c-d5f8-4667-84f7-9ce256e688a0",
   "metadata": {},
   "outputs": [
    {
     "data": {
      "text/plain": [
       "(array([array([[57., 64.,  9.],\n",
       "               [49., 64., 10.],\n",
       "               [34., 59.,  0.],\n",
       "               [41., 65.,  0.],\n",
       "               [51., 66.,  1.],\n",
       "               [52., 61.,  0.],\n",
       "               [46., 65., 20.],\n",
       "               [45., 64.,  0.],\n",
       "               [53., 60.,  1.],\n",
       "               [53., 58.,  4.],\n",
       "               [56., 67.,  0.],\n",
       "               [49., 67.,  1.],\n",
       "               [38., 66.,  0.],\n",
       "               [57., 61.,  5.],\n",
       "               [52., 59.,  2.],\n",
       "               [43., 66.,  4.],\n",
       "               [34., 67.,  7.],\n",
       "               [70., 67.,  0.],\n",
       "               [38., 66., 11.],\n",
       "               [66., 58.,  0.],\n",
       "               [44., 61.,  0.],\n",
       "               [63., 62.,  0.],\n",
       "               [41., 59.,  8.],\n",
       "               [42., 62., 20.],\n",
       "               [37., 60., 15.],\n",
       "               [75., 62.,  1.],\n",
       "               [53., 60.,  2.],\n",
       "               [59., 64.,  7.],\n",
       "               [51., 65.,  0.],\n",
       "               [36., 60.,  1.],\n",
       "               [66., 58.,  0.],\n",
       "               [67., 61.,  0.],\n",
       "               [44., 64.,  6.],\n",
       "               [46., 62.,  0.],\n",
       "               [42., 60.,  1.],\n",
       "               [74., 65.,  3.],\n",
       "               [42., 59.,  2.],\n",
       "               [57., 64.,  0.],\n",
       "               [68., 67.,  0.],\n",
       "               [53., 61.,  1.],\n",
       "               [64., 66.,  0.],\n",
       "               [39., 66.,  0.],\n",
       "               [69., 65.,  0.],\n",
       "               [66., 68.,  0.],\n",
       "               [55., 69., 22.],\n",
       "               [48., 58., 11.],\n",
       "               [45., 67.,  1.],\n",
       "               [52., 60.,  5.],\n",
       "               [63., 63.,  0.],\n",
       "               [53., 65., 12.],\n",
       "               [34., 60.,  1.],\n",
       "               [34., 58., 30.],\n",
       "               [70., 59.,  8.],\n",
       "               [62., 58.,  0.],\n",
       "               [42., 65.,  0.],\n",
       "               [78., 65.,  1.],\n",
       "               [65., 67.,  1.],\n",
       "               [63., 63.,  0.],\n",
       "               [43., 59.,  2.],\n",
       "               [67., 63.,  1.],\n",
       "               [60., 64.,  0.]]), array([[57., 64.,  1.],\n",
       "                                         [70., 63.,  0.],\n",
       "                                         [47., 65.,  0.],\n",
       "                                         [51., 59.,  3.],\n",
       "                                         [72., 64.,  0.],\n",
       "                                         [50., 64.,  0.],\n",
       "                                         [49., 66.,  0.],\n",
       "                                         [64., 58.,  0.],\n",
       "                                         [35., 63.,  0.],\n",
       "                                         [39., 58.,  0.],\n",
       "                                         [41., 58.,  0.],\n",
       "                                         [61., 59.,  0.],\n",
       "                                         [67., 66.,  0.],\n",
       "                                         [66., 61., 13.],\n",
       "                                         [45., 67.,  0.],\n",
       "                                         [42., 58.,  0.],\n",
       "                                         [54., 69.,  7.],\n",
       "                                         [65., 58.,  0.],\n",
       "                                         [64., 68.,  0.],\n",
       "                                         [57., 63.,  0.],\n",
       "                                         [46., 69.,  3.],\n",
       "                                         [57., 64.,  0.],\n",
       "                                         [41., 65.,  0.],\n",
       "                                         [57., 62.,  0.],\n",
       "                                         [38., 60.,  0.],\n",
       "                                         [51., 59., 13.],\n",
       "                                         [43., 63.,  2.],\n",
       "                                         [57., 61.,  0.],\n",
       "                                         [30., 64.,  1.],\n",
       "                                         [47., 63.,  6.],\n",
       "                                         [48., 64.,  0.],\n",
       "                                         [52., 60.,  4.],\n",
       "                                         [43., 63., 14.],\n",
       "                                         [61., 65.,  8.],\n",
       "                                         [50., 59.,  2.],\n",
       "                                         [54., 62.,  0.],\n",
       "                                         [38., 62.,  3.],\n",
       "                                         [65., 64.,  0.],\n",
       "                                         [45., 67.,  1.],\n",
       "                                         [30., 65.,  0.],\n",
       "                                         [37., 59.,  6.],\n",
       "                                         [58., 67.,  0.],\n",
       "                                         [40., 65.,  0.],\n",
       "                                         [58., 58.,  3.],\n",
       "                                         [30., 62.,  3.],\n",
       "                                         [74., 63.,  0.],\n",
       "                                         [52., 65.,  0.],\n",
       "                                         [69., 67.,  8.],\n",
       "                                         [64., 61.,  0.],\n",
       "                                         [59., 62., 35.],\n",
       "                                         [56., 66.,  3.],\n",
       "                                         [65., 62., 22.],\n",
       "                                         [34., 60.,  0.],\n",
       "                                         [50., 63.,  1.],\n",
       "                                         [37., 58.,  0.],\n",
       "                                         [57., 69.,  0.],\n",
       "                                         [40., 58.,  0.],\n",
       "                                         [62., 59., 13.],\n",
       "                                         [54., 60.,  3.],\n",
       "                                         [53., 65.,  1.],\n",
       "                                         [34., 61., 10.]]),\n",
       "        array([[50., 61.,  0.],\n",
       "               [41., 64.,  0.],\n",
       "               [41., 69.,  8.],\n",
       "               [65., 64.,  0.],\n",
       "               [40., 58.,  2.],\n",
       "               [38., 64.,  1.],\n",
       "               [62., 66.,  0.],\n",
       "               [47., 63., 23.],\n",
       "               [47., 66.,  0.],\n",
       "               [46., 63.,  0.],\n",
       "               [60., 65.,  0.],\n",
       "               [73., 62.,  0.],\n",
       "               [65., 66., 15.],\n",
       "               [48., 66.,  0.],\n",
       "               [72., 63.,  0.],\n",
       "               [55., 63.,  6.],\n",
       "               [65., 59.,  2.],\n",
       "               [67., 66.,  0.],\n",
       "               [54., 59.,  7.],\n",
       "               [52., 64.,  0.],\n",
       "               [45., 59., 14.],\n",
       "               [31., 59.,  2.],\n",
       "               [49., 62.,  1.],\n",
       "               [60., 61., 25.],\n",
       "               [50., 58.,  1.],\n",
       "               [39., 63.,  0.],\n",
       "               [56., 66.,  1.],\n",
       "               [48., 58., 11.],\n",
       "               [58., 58.,  0.],\n",
       "               [54., 65., 23.],\n",
       "               [67., 65.,  0.],\n",
       "               [35., 64., 13.],\n",
       "               [65., 61.,  2.],\n",
       "               [61., 64.,  0.],\n",
       "               [48., 67.,  7.],\n",
       "               [50., 66.,  1.],\n",
       "               [52., 62.,  3.],\n",
       "               [46., 58.,  3.],\n",
       "               [54., 68.,  7.],\n",
       "               [33., 60.,  0.],\n",
       "               [62., 58.,  0.],\n",
       "               [55., 67.,  1.],\n",
       "               [53., 59.,  3.],\n",
       "               [68., 68.,  0.],\n",
       "               [64., 65., 22.],\n",
       "               [44., 61.,  0.],\n",
       "               [61., 68.,  0.],\n",
       "               [58., 61.,  1.],\n",
       "               [52., 69.,  0.],\n",
       "               [49., 62.,  0.],\n",
       "               [63., 61., 28.],\n",
       "               [36., 69.,  0.],\n",
       "               [59., 64.,  0.],\n",
       "               [49., 60.,  1.],\n",
       "               [44., 67., 16.],\n",
       "               [60., 59., 17.],\n",
       "               [63., 61.,  9.],\n",
       "               [45., 65.,  6.],\n",
       "               [42., 63.,  1.],\n",
       "               [41., 60., 23.],\n",
       "               [52., 63.,  4.]]), array([[58., 60.,  3.],\n",
       "                                         [77., 65.,  3.],\n",
       "                                         [43., 60.,  0.],\n",
       "                                         [31., 65.,  4.],\n",
       "                                         [54., 67., 46.],\n",
       "                                         [38., 59.,  2.],\n",
       "                                         [43., 64.,  2.],\n",
       "                                         [60., 61.,  1.],\n",
       "                                         [58., 61.,  2.],\n",
       "                                         [53., 63., 24.],\n",
       "                                         [47., 58.,  3.],\n",
       "                                         [39., 67.,  0.],\n",
       "                                         [52., 68.,  0.],\n",
       "                                         [76., 67.,  0.],\n",
       "                                         [55., 58.,  1.],\n",
       "                                         [50., 61.,  0.],\n",
       "                                         [61., 59.,  0.],\n",
       "                                         [50., 61.,  6.],\n",
       "                                         [65., 67.,  0.],\n",
       "                                         [54., 62.,  0.],\n",
       "                                         [61., 65.,  0.],\n",
       "                                         [69., 60.,  0.],\n",
       "                                         [42., 61.,  4.],\n",
       "                                         [58., 59.,  0.],\n",
       "                                         [38., 69., 21.],\n",
       "                                         [47., 68.,  4.],\n",
       "                                         [38., 67.,  5.],\n",
       "                                         [61., 62.,  5.],\n",
       "                                         [43., 64.,  0.],\n",
       "                                         [83., 58.,  2.],\n",
       "                                         [47., 67.,  0.],\n",
       "                                         [49., 63.,  3.],\n",
       "                                         [50., 65.,  4.],\n",
       "                                         [54., 66.,  0.],\n",
       "                                         [65., 58.,  0.],\n",
       "                                         [53., 63.,  0.],\n",
       "                                         [70., 58.,  4.],\n",
       "                                         [43., 64.,  0.],\n",
       "                                         [45., 66.,  0.],\n",
       "                                         [59., 67.,  3.],\n",
       "                                         [62., 62.,  6.],\n",
       "                                         [71., 68.,  2.],\n",
       "                                         [49., 61.,  1.],\n",
       "                                         [48., 61.,  8.],\n",
       "                                         [48., 62.,  2.],\n",
       "                                         [52., 62.,  0.],\n",
       "                                         [51., 59.,  1.],\n",
       "                                         [45., 60.,  0.],\n",
       "                                         [69., 66.,  0.],\n",
       "                                         [37., 60.,  0.],\n",
       "                                         [63., 61.,  0.],\n",
       "                                         [54., 58.,  1.],\n",
       "                                         [56., 60.,  0.],\n",
       "                                         [39., 59.,  2.],\n",
       "                                         [56., 60.,  0.],\n",
       "                                         [43., 64.,  3.],\n",
       "                                         [46., 62.,  5.],\n",
       "                                         [50., 64.,  0.],\n",
       "                                         [70., 68.,  0.],\n",
       "                                         [53., 60.,  9.],\n",
       "                                         [63., 66.,  0.]]),\n",
       "        array([[47., 62.,  0.],\n",
       "               [55., 66., 18.],\n",
       "               [51., 64.,  7.],\n",
       "               [41., 64.,  0.],\n",
       "               [44., 63., 19.],\n",
       "               [59., 63.,  0.],\n",
       "               [72., 67.,  3.],\n",
       "               [52., 62.,  1.],\n",
       "               [49., 63.,  0.],\n",
       "               [55., 69.,  3.],\n",
       "               [47., 60.,  4.],\n",
       "               [42., 69.,  1.],\n",
       "               [38., 60.,  0.],\n",
       "               [59., 60.,  0.],\n",
       "               [62., 66.,  0.],\n",
       "               [39., 63.,  4.],\n",
       "               [50., 63., 13.],\n",
       "               [42., 59.,  0.],\n",
       "               [59., 64.,  1.],\n",
       "               [73., 68.,  0.],\n",
       "               [43., 58., 52.],\n",
       "               [50., 59.,  0.],\n",
       "               [62., 65., 19.],\n",
       "               [52., 69.,  3.],\n",
       "               [43., 65.,  0.],\n",
       "               [49., 61.,  0.],\n",
       "               [54., 65.,  5.],\n",
       "               [61., 68.,  1.],\n",
       "               [37., 63.,  0.],\n",
       "               [57., 62., 14.],\n",
       "               [54., 60., 11.],\n",
       "               [66., 58.,  1.],\n",
       "               [55., 58.,  0.],\n",
       "               [54., 63., 19.],\n",
       "               [55., 68., 15.],\n",
       "               [47., 61.,  0.],\n",
       "               [45., 68.,  0.],\n",
       "               [72., 58.,  0.],\n",
       "               [41., 59.,  0.],\n",
       "               [56., 65.,  9.],\n",
       "               [70., 58.,  0.],\n",
       "               [70., 66., 14.],\n",
       "               [57., 67.,  0.],\n",
       "               [59., 64.,  4.],\n",
       "               [33., 58., 10.],\n",
       "               [55., 58.,  1.],\n",
       "               [53., 58.,  1.],\n",
       "               [38., 60.,  1.],\n",
       "               [60., 67.,  2.],\n",
       "               [34., 66.,  9.],\n",
       "               [37., 63.,  0.],\n",
       "               [44., 58.,  9.],\n",
       "               [41., 67.,  0.],\n",
       "               [44., 63.,  1.],\n",
       "               [46., 58.,  2.],\n",
       "               [52., 66.,  4.],\n",
       "               [63., 60.,  1.],\n",
       "               [67., 64.,  8.],\n",
       "               [61., 59.,  0.],\n",
       "               [47., 66., 12.],\n",
       "               [55., 66.,  0.],\n",
       "               [56., 66.,  2.]])], dtype=object),\n",
       " array([array([0, 1, 1, 0, 0, 0, 1, 0, 0, 1, 0, 0, 0, 1, 1, 0, 0, 0, 0, 0, 0, 0,\n",
       "               0, 0, 0, 0, 0, 0, 0, 0, 1, 0, 1, 0, 0, 1, 0, 0, 0, 0, 0, 1, 0, 0,\n",
       "               0, 1, 1, 0, 0, 1, 0, 0, 0, 1, 0, 1, 0, 0, 1, 1, 0])              ,\n",
       "        array([1, 0, 1, 1, 0, 1, 0, 0, 0, 0, 0, 0, 0, 1, 0, 0, 0, 1, 0, 0, 1, 0,\n",
       "               0, 0, 0, 1, 0, 0, 0, 0, 0, 0, 0, 0, 0, 0, 0, 0, 0, 0, 0, 0, 0, 0,\n",
       "               0, 0, 0, 1, 0, 1, 1, 1, 0, 0, 0, 0, 0, 1, 0, 1, 0])              ,\n",
       "        array([0, 0, 0, 0, 0, 0, 0, 1, 0, 0, 1, 0, 1, 0, 1, 1, 0, 0, 0, 0, 0, 0,\n",
       "               0, 0, 0, 0, 0, 1, 0, 1, 0, 0, 1, 0, 1, 0, 1, 0, 1, 0, 0, 0, 1, 0,\n",
       "               0, 0, 0, 0, 0, 0, 0, 0, 0, 0, 0, 1, 0, 1, 0, 1, 0])              ,\n",
       "        array([0, 0, 0, 0, 0, 0, 0, 0, 0, 1, 0, 0, 0, 0, 0, 0, 0, 0, 0, 0, 1, 0,\n",
       "               0, 0, 1, 0, 0, 1, 1, 1, 0, 0, 0, 0, 0, 0, 1, 1, 1, 0, 0, 0, 0, 0,\n",
       "               0, 0, 0, 0, 0, 0, 0, 0, 0, 0, 0, 0, 1, 0, 0, 1, 0])              ,\n",
       "        array([1, 0, 0, 1, 1, 0, 0, 0, 1, 0, 0, 1, 0, 0, 0, 0, 1, 1, 0, 0, 1, 0,\n",
       "               1, 1, 0, 0, 1, 1, 0, 1, 1, 0, 0, 0, 1, 0, 0, 0, 0, 1, 1, 0, 0, 0,\n",
       "               0, 0, 0, 0, 0, 1, 0, 1, 1, 0, 1, 1, 1, 1, 0, 0, 0, 0])           ],\n",
       "       dtype=object))"
      ]
     },
     "execution_count": 12,
     "metadata": {},
     "output_type": "execute_result"
    }
   ],
   "source": [
    "get_folds(data,labels,5)"
   ]
  },
  {
   "cell_type": "code",
   "execution_count": 13,
   "id": "c75fc7ca-ef1e-44c6-b471-ab072b719a60",
   "metadata": {},
   "outputs": [],
   "source": [
    "def divide_data_into_k_folds(data,labels,k):\n",
    "  data_folds_array,label_folds_array=get_folds(data,labels,k)\n",
    "  all_data_folds_list=[]\n",
    "  all_labels_folds_list=[]\n",
    "  for i in range(k):\n",
    "    data_fold_k=[np.concatenate(data_folds_array[np.where(np.array(list(range(k)))!=i)[0]]), data_folds_array[i]]\n",
    "    all_data_folds_list.append(data_fold_k)\n",
    "\n",
    "    label_fold_k=[np.concatenate(label_folds_array[np.where(np.array(list(range(k)))!=i)[0]]), label_folds_array[i]]\n",
    "    all_labels_folds_list.append(label_fold_k)\n",
    "\n",
    "  return all_data_folds_list, all_labels_folds_list"
   ]
  },
  {
   "cell_type": "code",
   "execution_count": 14,
   "id": "c9596316-7701-41e9-9823-c1238100405a",
   "metadata": {},
   "outputs": [],
   "source": [
    "all_data_folds_list, all_labels_folds_list=divide_data_into_k_folds(data,labels,5)"
   ]
  },
  {
   "cell_type": "code",
   "execution_count": 15,
   "id": "89ae6206-2650-48e8-a9bf-b30d26a016cb",
   "metadata": {},
   "outputs": [],
   "source": [
    "X_train,X_test=all_data_folds_list[0][0],all_data_folds_list[0][1]"
   ]
  },
  {
   "cell_type": "code",
   "execution_count": 16,
   "id": "b87f8568-d248-4041-9561-9f6a3cd7d62e",
   "metadata": {},
   "outputs": [
    {
     "data": {
      "text/plain": [
       "(245, 3)"
      ]
     },
     "execution_count": 16,
     "metadata": {},
     "output_type": "execute_result"
    }
   ],
   "source": [
    "X_train.shape"
   ]
  },
  {
   "cell_type": "code",
   "execution_count": 17,
   "id": "a267204a-9303-445b-93dc-a8d031fde18b",
   "metadata": {},
   "outputs": [],
   "source": [
    "y_train,y_test=all_labels_folds_list[0][0],all_labels_folds_list[0][1]"
   ]
  },
  {
   "cell_type": "code",
   "execution_count": 18,
   "id": "20314b64-da76-435d-9e28-7ed76e974f27",
   "metadata": {},
   "outputs": [],
   "source": [
    "X_train_minority=[]\n",
    "for i in np.where(y_train==1):\n",
    "    a=X_train[i]\n",
    "    X_train_minority.append(a)"
   ]
  },
  {
   "cell_type": "code",
   "execution_count": 19,
   "id": "c82367de-9396-47b5-a823-2de071e11974",
   "metadata": {},
   "outputs": [],
   "source": [
    "X_train_minority_class=np.array(X_train_minority[0])"
   ]
  },
  {
   "cell_type": "code",
   "execution_count": 20,
   "id": "6be6c248-66c7-4d11-8899-fc5adf12b2ae",
   "metadata": {},
   "outputs": [
    {
     "data": {
      "text/plain": [
       "(64, 3)"
      ]
     },
     "execution_count": 20,
     "metadata": {},
     "output_type": "execute_result"
    }
   ],
   "source": [
    "X_train_minority_class.shape"
   ]
  },
  {
   "cell_type": "code",
   "execution_count": 21,
   "id": "2e70af42-2594-4577-9793-ad199fd66f71",
   "metadata": {},
   "outputs": [],
   "source": [
    "X_train_majority=[]\n",
    "for i in np.where(y_train==0):\n",
    "    a=X_train[i]\n",
    "    X_train_majority.append(a)"
   ]
  },
  {
   "cell_type": "code",
   "execution_count": 22,
   "id": "5def2c1e-e051-4d1c-b3f2-7790649de3f5",
   "metadata": {},
   "outputs": [],
   "source": [
    "X_train_majority_class=np.array(X_train_majority[0])"
   ]
  },
  {
   "cell_type": "code",
   "execution_count": 23,
   "id": "5efcdcc9-6772-4f54-b377-9decb11906ef",
   "metadata": {},
   "outputs": [
    {
     "data": {
      "text/plain": [
       "(181, 3)"
      ]
     },
     "execution_count": 23,
     "metadata": {},
     "output_type": "execute_result"
    }
   ],
   "source": [
    "X_train_majority_class.shape"
   ]
  },
  {
   "cell_type": "markdown",
   "id": "e4dbbdc8-6103-4ce0-ae2e-31eb6fb83802",
   "metadata": {},
   "source": [
    "### Kernel Density Functon:"
   ]
  },
  {
   "cell_type": "code",
   "execution_count": 25,
   "id": "e74cb08f-6706-4224-bff8-66bbbb3d026a",
   "metadata": {},
   "outputs": [],
   "source": [
    "def k(H,x,d):\n",
    "  H_inv = np.linalg.inv(H)\n",
    "  x_tras=np.matrix.transpose(x)\n",
    "  h= np.linalg.det(H)\n",
    "  m=np.matmul(x_tras,H_inv)\n",
    "  m1=np.matmul(m,x)\n",
    "  e=np.exp(-0.5*m1)\n",
    "  n=2*(np.pi)**(-d/2)\n",
    "  v=n*(h)**(-1/2)*(e)\n",
    "  return v"
   ]
  },
  {
   "cell_type": "code",
   "execution_count": 26,
   "id": "34942e44-4f3f-4f23-9b20-a275c2b0d2b2",
   "metadata": {},
   "outputs": [],
   "source": [
    "def density_gen(X, X_minority):\n",
    "    density_list=[]\n",
    "    for j in range(len(X)):\n",
    "        s=0\n",
    "        for i in range(len(X_minority)):\n",
    "            xi=X_minority[i]\n",
    "            dif=X[j]-xi\n",
    "            s=s+k(np.identity(X_minority.shape[1]), dif, X_minority.shape[1])\n",
    "        density_list.append(s/len(X_minority))\n",
    "    return np.array(density_list)"
   ]
  },
  {
   "cell_type": "code",
   "execution_count": 27,
   "id": "e660fa00-f2c8-41d4-ae5a-5b8cd9a7004c",
   "metadata": {},
   "outputs": [],
   "source": [
    "unique_labels,counts=np.unique(y_train, return_counts=True)"
   ]
  },
  {
   "cell_type": "code",
   "execution_count": 28,
   "id": "ac77f0f1-158c-47a9-a890-a56354a63227",
   "metadata": {},
   "outputs": [],
   "source": [
    "def metropolis_hastings(target_density, X_minority, size=100):\n",
    "    np.random.seed(43)\n",
    "    burnin_size = 10000\n",
    "    size += burnin_size\n",
    "    x0 =X_minority[np.random.choice(list(range(len(X_train_minority_class))),1)]\n",
    "    xt = x0\n",
    "    samples = []\n",
    "    for i in tqdm(range(size)):\n",
    "        xt_candidate = np.array([np.random.multivariate_normal(xt[0], 0.2*np.eye(X_minority.shape[1]))])\n",
    "        accept_odds = (target_density(xt_candidate,X_minority))/(target_density(xt,X_minority))\n",
    "        if np.random.uniform(0, 1) < accept_odds:\n",
    "            xt = xt_candidate\n",
    "        samples.append(xt)\n",
    "    samples = np.array(samples[burnin_size:])\n",
    "    samples = np.reshape(samples, [samples.shape[0], X_minority.shape[1]])\n",
    "    return samples"
   ]
  },
  {
   "cell_type": "code",
   "execution_count": 29,
   "id": "06cd6050-802e-4a6c-8c0e-5c4ce7d96097",
   "metadata": {},
   "outputs": [],
   "source": [
    "import smote_variants as sv\n",
    "\n",
    "oversampler_SMOTE=sv.SMOTE()\n",
    "oversampler_polynome_fit = sv.polynom_fit_SMOTE_star()\n",
    "oversampler_ProWSyn= sv.ProWSyn()\n",
    "oversampler_SMOTE_IPF= sv.SMOTE_IPF()\n",
    "oversampler_Lee= sv.Lee()\n"
   ]
  },
  {
   "cell_type": "code",
   "execution_count": 30,
   "id": "660c96a3-12e7-4e39-a384-3903ba39d597",
   "metadata": {},
   "outputs": [],
   "source": [
    "oversampler_object_list = [oversampler_SMOTE,oversampler_polynome_fit,oversampler_ProWSyn, oversampler_Lee, metropolis_hastings]"
   ]
  },
  {
   "cell_type": "code",
   "execution_count": 31,
   "id": "048a3654-996d-452e-9169-8d4ee149342f",
   "metadata": {},
   "outputs": [],
   "source": [
    "oversampler_name_list = ['SMOTE','polynome_fit_SMOTE','ProWSyn', 'Lee', 'Metropolis_hastings']"
   ]
  },
  {
   "cell_type": "code",
   "execution_count": 32,
   "id": "7c5c91c1-a591-4f19-838d-ac6b2effe130",
   "metadata": {},
   "outputs": [],
   "source": [
    "def get_imb_oversampling(X_train,y_train,X_test,y_test,oversampler_index,classifier,visualize=True):\n",
    "  ## MH is in the end of the list oversampler_object_list\n",
    "  if oversampler_index!=len(oversampler_object_list)-1:\n",
    "    X_samp, y_samp = oversampler_object_list[oversampler_index].sample(X_train, y_train)\n",
    "\n",
    "  else:\n",
    "    X_train_minority=[]\n",
    "    for i in np.where(y_train==1):\n",
    "      a=X_train[i]\n",
    "      X_train_minority.append(a)\n",
    "\n",
    "    X_train_majority=[]\n",
    "    for i in np.where(y_train==0):\n",
    "      a=X_train[i]\n",
    "      X_train_majority.append(a)\n",
    "    X_train_minority_class=np.array(X_train_minority[0])\n",
    "    X_train_majority_class=np.array(X_train_majority[0])\n",
    "\n",
    "    unique_labels,counts=np.unique(y_train, return_counts=True)\n",
    "\n",
    "    synthetic_minority_data = metropolis_hastings(density_gen, X_train_minority_class, size=counts[0]-counts[1])\n",
    "    balanced_minority=np.concatenate([X_train_minority_class, synthetic_minority_data])\n",
    "    balanced_data=np.concatenate([X_train_majority_class,balanced_minority])\n",
    "    balanced_labels_for_classification=np.concatenate([np.zeros(len(X_train_majority_class)),np.ones(len(balanced_minority))])\n",
    "    X_samp=balanced_data\n",
    "    y_samp=balanced_labels_for_classification\n",
    "\n",
    "  classifier.fit(X_samp,y_samp)\n",
    "  y_pred=classifier.predict(X_test)\n",
    "  cm=confusion_matrix(y_test, y_pred)\n",
    "  acc=accuracy_score(y_test, y_pred)\n",
    "  b_acc=balanced_accuracy_score(y_test, y_pred)\n",
    "  gm=geometric_mean_score(y_test, y_pred,average='micro')\n",
    "  f1=f1_score(y_test, y_pred,average='micro')\n",
    "  ck=cohen_kappa_score(y_test, y_pred)\n",
    "\n",
    "  if visualize==True:\n",
    "    scaler = StandardScaler()\n",
    "    scaler.fit(X_samp)\n",
    "    scaled_X_samp = scaler.transform(X_samp)\n",
    "    pca = PCA(n_components =2)\n",
    "    X_samp_pca=pca.fit_transform(scaled_X_samp)\n",
    "\n",
    "    plt.figure(figsize=(8,6))\n",
    "    color=[\"r\",\"b\"]\n",
    "    color_counter=0\n",
    "    for i in [-1,1]:\n",
    "      plt.scatter(X_samp_pca[:,0][np.where(y_samp==i)],X_samp_pca[:,1][np.where(y_samp==i)], s=10, c=color[color_counter])\n",
    "      color_counter=color_counter+1\n",
    "    plt.legend(['Majority','Manority'],fontsize=10, loc='lower right')\n",
    "    plt.xlabel(\"Principal Component 1\",fontsize=12)\n",
    "    plt.ylabel(\"Principlal Component 2 \",fontsize=12)\n",
    "    plt.title(\"PCA plot of majority class + minority class using\"+\"\"+ oversampler_name_list[oversampler_index]+\"technique\",fontsize=14)\n",
    "\n",
    "\n",
    "  return [cm, acc,b_acc,gm, f1, ck]"
   ]
  },
  {
   "cell_type": "code",
   "execution_count": 33,
   "id": "ed74120b-0f93-447e-ad41-7e7e7b1ef673",
   "metadata": {},
   "outputs": [],
   "source": [
    "def calc_avg_performance(performance_index,results_all_folds):\n",
    "  ## performance index takes the index of the performance measure foe which we want to average over folds\n",
    "  ## results_all_folds are the results of a particular oversampler run over all folds recording all performance measures\n",
    "  s=0\n",
    "  for result in results_all_folds:\n",
    "    s=s+result[performance_index]\n",
    "  avg=s/len(results_all_folds)\n",
    "\n",
    "  s=0\n",
    "  for result in results_all_folds:\n",
    "    s=s+(result[performance_index]-avg)**2\n",
    "  std=np.sqrt(s/len(results_all_folds))\n",
    "  return avg, std"
   ]
  },
  {
   "cell_type": "code",
   "execution_count": 34,
   "id": "ad6b7d46-229b-4a2f-a53d-a682da7c5d22",
   "metadata": {},
   "outputs": [],
   "source": [
    "clf=KNeighborsClassifier(n_neighbors=5)"
   ]
  },
  {
   "cell_type": "code",
   "execution_count": 35,
   "id": "483ccdd8-3fdc-4869-8d42-22a0aa065871",
   "metadata": {},
   "outputs": [],
   "source": [
    "perfromance_measures=['accuracy','balanced accuracy','g-mean','f1-score','cohen_kappa']\n",
    "def get_results_all_folds(oversampler_index,classifier, visualize=False, get_detailed_results=False):\n",
    "\n",
    "  results_all_folds=[]\n",
    "  for i in range(len(all_data_folds_list)):\n",
    "    X_train,X_test=all_data_folds_list[i][0],all_data_folds_list[i][1]\n",
    "    y_train,y_test=all_labels_folds_list[i][0],all_labels_folds_list[i][1]\n",
    "    results_single_fold=get_imb_oversampling(X_train,y_train,X_test,y_test,oversampler_index,clf,visualize=visualize)\n",
    "    results_all_folds.append(results_single_fold)\n",
    "\n",
    "  performance_summary_oversampler_classifer={}\n",
    "  for performance_index in range(1,6):\n",
    "    avg_std=calc_avg_performance(performance_index,results_all_folds)\n",
    "    performance_summary_oversampler_classifer[perfromance_measures[performance_index-1]]=avg_std\n",
    "\n",
    "  if get_detailed_results==True:\n",
    "    return results_all_folds, performance_summary_oversampler_classifer\n",
    "  else:\n",
    "    return performance_summary_oversampler_classifer"
   ]
  },
  {
   "cell_type": "code",
   "execution_count": 36,
   "id": "728f239c-7616-4021-ab63-5a2e2e4c718f",
   "metadata": {},
   "outputs": [
    {
     "name": "stderr",
     "output_type": "stream",
     "text": [
      "2024-08-22 15:24:26,884:INFO:SMOTE: Running sampling via ('SMOTE', \"{'proportion': 1.0, 'n_neighbors': 5, 'nn_params': {}, 'n_jobs': 1, 'ss_params': {'n_dim': 2, 'simplex_sampling': 'random', 'within_simplex_sampling': 'random', 'gaussian_component': {}}, 'random_state': None, 'class_name': 'SMOTE'}\")\n",
      "2024-08-22 15:24:26,884:INFO:NearestNeighborsWithMetricTensor: NN fitting with metric minkowski\n",
      "2024-08-22 15:24:26,884:INFO:NearestNeighborsWithMetricTensor: kneighbors query minkowski\n",
      "2024-08-22 15:24:26,884:INFO:SMOTE: simplex sampling with n_dim 2\n",
      "2024-08-22 15:24:26,906:INFO:SMOTE: Running sampling via ('SMOTE', \"{'proportion': 1.0, 'n_neighbors': 5, 'nn_params': {}, 'n_jobs': 1, 'ss_params': {'n_dim': 2, 'simplex_sampling': 'random', 'within_simplex_sampling': 'random', 'gaussian_component': {}}, 'random_state': None, 'class_name': 'SMOTE'}\")\n",
      "2024-08-22 15:24:26,906:INFO:NearestNeighborsWithMetricTensor: NN fitting with metric minkowski\n",
      "2024-08-22 15:24:26,906:INFO:NearestNeighborsWithMetricTensor: kneighbors query minkowski\n",
      "2024-08-22 15:24:26,914:INFO:SMOTE: simplex sampling with n_dim 2\n",
      "2024-08-22 15:24:26,922:INFO:SMOTE: Running sampling via ('SMOTE', \"{'proportion': 1.0, 'n_neighbors': 5, 'nn_params': {}, 'n_jobs': 1, 'ss_params': {'n_dim': 2, 'simplex_sampling': 'random', 'within_simplex_sampling': 'random', 'gaussian_component': {}}, 'random_state': None, 'class_name': 'SMOTE'}\")\n",
      "2024-08-22 15:24:26,922:INFO:NearestNeighborsWithMetricTensor: NN fitting with metric minkowski\n",
      "2024-08-22 15:24:26,922:INFO:NearestNeighborsWithMetricTensor: kneighbors query minkowski\n",
      "2024-08-22 15:24:26,922:INFO:SMOTE: simplex sampling with n_dim 2\n",
      "2024-08-22 15:24:26,938:INFO:SMOTE: Running sampling via ('SMOTE', \"{'proportion': 1.0, 'n_neighbors': 5, 'nn_params': {}, 'n_jobs': 1, 'ss_params': {'n_dim': 2, 'simplex_sampling': 'random', 'within_simplex_sampling': 'random', 'gaussian_component': {}}, 'random_state': None, 'class_name': 'SMOTE'}\")\n",
      "2024-08-22 15:24:26,938:INFO:NearestNeighborsWithMetricTensor: NN fitting with metric minkowski\n",
      "2024-08-22 15:24:26,938:INFO:NearestNeighborsWithMetricTensor: kneighbors query minkowski\n",
      "2024-08-22 15:24:26,938:INFO:SMOTE: simplex sampling with n_dim 2\n",
      "2024-08-22 15:24:26,947:INFO:SMOTE: Running sampling via ('SMOTE', \"{'proportion': 1.0, 'n_neighbors': 5, 'nn_params': {}, 'n_jobs': 1, 'ss_params': {'n_dim': 2, 'simplex_sampling': 'random', 'within_simplex_sampling': 'random', 'gaussian_component': {}}, 'random_state': None, 'class_name': 'SMOTE'}\")\n",
      "2024-08-22 15:24:26,947:INFO:NearestNeighborsWithMetricTensor: NN fitting with metric minkowski\n",
      "2024-08-22 15:24:26,954:INFO:NearestNeighborsWithMetricTensor: kneighbors query minkowski\n",
      "2024-08-22 15:24:26,954:INFO:SMOTE: simplex sampling with n_dim 2\n"
     ]
    },
    {
     "data": {
      "text/plain": [
       "{'accuracy': (0.6242728714965626, 0.04891577457923581),\n",
       " 'balanced accuracy': (0.5947016007904518, 0.05645147710760031),\n",
       " 'g-mean': (0.6242728714965626, 0.04891577457923581),\n",
       " 'f1-score': (0.6242728714965626, 0.04891577457923581),\n",
       " 'cohen_kappa': (0.15433315589609467, 0.08047229741024393)}"
      ]
     },
     "execution_count": 36,
     "metadata": {},
     "output_type": "execute_result"
    }
   ],
   "source": [
    "get_results_all_folds(0,clf)"
   ]
  },
  {
   "cell_type": "code",
   "execution_count": 37,
   "id": "6cece8f5-0651-4b08-90aa-276b3b1de648",
   "metadata": {},
   "outputs": [
    {
     "name": "stderr",
     "output_type": "stream",
     "text": [
      "2024-08-22 15:24:26,971:INFO:SMOTE: Running sampling via ('SMOTE', \"{'proportion': 1.0, 'n_neighbors': 5, 'nn_params': {}, 'n_jobs': 1, 'ss_params': {'n_dim': 2, 'simplex_sampling': 'random', 'within_simplex_sampling': 'random', 'gaussian_component': {}}, 'random_state': None, 'class_name': 'SMOTE'}\")\n",
      "2024-08-22 15:24:26,971:INFO:NearestNeighborsWithMetricTensor: NN fitting with metric minkowski\n",
      "2024-08-22 15:24:26,971:INFO:NearestNeighborsWithMetricTensor: kneighbors query minkowski\n",
      "2024-08-22 15:24:26,971:INFO:SMOTE: simplex sampling with n_dim 2\n",
      "2024-08-22 15:24:26,988:INFO:SMOTE: Running sampling via ('SMOTE', \"{'proportion': 1.0, 'n_neighbors': 5, 'nn_params': {}, 'n_jobs': 1, 'ss_params': {'n_dim': 2, 'simplex_sampling': 'random', 'within_simplex_sampling': 'random', 'gaussian_component': {}}, 'random_state': None, 'class_name': 'SMOTE'}\")\n",
      "2024-08-22 15:24:26,988:INFO:NearestNeighborsWithMetricTensor: NN fitting with metric minkowski\n",
      "2024-08-22 15:24:26,988:INFO:NearestNeighborsWithMetricTensor: kneighbors query minkowski\n",
      "2024-08-22 15:24:26,988:INFO:SMOTE: simplex sampling with n_dim 2\n",
      "2024-08-22 15:24:26,996:INFO:SMOTE: Running sampling via ('SMOTE', \"{'proportion': 1.0, 'n_neighbors': 5, 'nn_params': {}, 'n_jobs': 1, 'ss_params': {'n_dim': 2, 'simplex_sampling': 'random', 'within_simplex_sampling': 'random', 'gaussian_component': {}}, 'random_state': None, 'class_name': 'SMOTE'}\")\n",
      "2024-08-22 15:24:26,996:INFO:NearestNeighborsWithMetricTensor: NN fitting with metric minkowski\n",
      "2024-08-22 15:24:27,003:INFO:NearestNeighborsWithMetricTensor: kneighbors query minkowski\n",
      "2024-08-22 15:24:27,003:INFO:SMOTE: simplex sampling with n_dim 2\n",
      "2024-08-22 15:24:27,013:INFO:SMOTE: Running sampling via ('SMOTE', \"{'proportion': 1.0, 'n_neighbors': 5, 'nn_params': {}, 'n_jobs': 1, 'ss_params': {'n_dim': 2, 'simplex_sampling': 'random', 'within_simplex_sampling': 'random', 'gaussian_component': {}}, 'random_state': None, 'class_name': 'SMOTE'}\")\n",
      "2024-08-22 15:24:27,013:INFO:NearestNeighborsWithMetricTensor: NN fitting with metric minkowski\n",
      "2024-08-22 15:24:27,013:INFO:NearestNeighborsWithMetricTensor: kneighbors query minkowski\n",
      "2024-08-22 15:24:27,013:INFO:SMOTE: simplex sampling with n_dim 2\n",
      "2024-08-22 15:24:27,020:INFO:SMOTE: Running sampling via ('SMOTE', \"{'proportion': 1.0, 'n_neighbors': 5, 'nn_params': {}, 'n_jobs': 1, 'ss_params': {'n_dim': 2, 'simplex_sampling': 'random', 'within_simplex_sampling': 'random', 'gaussian_component': {}}, 'random_state': None, 'class_name': 'SMOTE'}\")\n",
      "2024-08-22 15:24:27,020:INFO:NearestNeighborsWithMetricTensor: NN fitting with metric minkowski\n",
      "2024-08-22 15:24:27,020:INFO:NearestNeighborsWithMetricTensor: kneighbors query minkowski\n",
      "2024-08-22 15:24:27,030:INFO:SMOTE: simplex sampling with n_dim 2\n",
      "2024-08-22 15:24:27,039:INFO:polynom_fit_SMOTE_star: Running sampling via ('polynom_fit_SMOTE_star', \"{'proportion': 1.0, 'topology': 'star', 'random_state': None, 'class_name': 'polynom_fit_SMOTE_star'}\")\n",
      "2024-08-22 15:24:27,039:INFO:polynom_fit_SMOTE: Running sampling via ('polynom_fit_SMOTE', \"{'proportion': 1.0, 'topology': 'star', 'random_state': None, 'class_name': 'polynom_fit_SMOTE'}\")\n",
      "2024-08-22 15:24:27,046:INFO:polynom_fit_SMOTE_star: Running sampling via ('polynom_fit_SMOTE_star', \"{'proportion': 1.0, 'topology': 'star', 'random_state': None, 'class_name': 'polynom_fit_SMOTE_star'}\")\n",
      "2024-08-22 15:24:27,054:INFO:polynom_fit_SMOTE: Running sampling via ('polynom_fit_SMOTE', \"{'proportion': 1.0, 'topology': 'star', 'random_state': None, 'class_name': 'polynom_fit_SMOTE'}\")\n",
      "2024-08-22 15:24:27,063:INFO:polynom_fit_SMOTE_star: Running sampling via ('polynom_fit_SMOTE_star', \"{'proportion': 1.0, 'topology': 'star', 'random_state': None, 'class_name': 'polynom_fit_SMOTE_star'}\")\n",
      "2024-08-22 15:24:27,063:INFO:polynom_fit_SMOTE: Running sampling via ('polynom_fit_SMOTE', \"{'proportion': 1.0, 'topology': 'star', 'random_state': None, 'class_name': 'polynom_fit_SMOTE'}\")\n",
      "2024-08-22 15:24:27,072:INFO:polynom_fit_SMOTE_star: Running sampling via ('polynom_fit_SMOTE_star', \"{'proportion': 1.0, 'topology': 'star', 'random_state': None, 'class_name': 'polynom_fit_SMOTE_star'}\")\n",
      "2024-08-22 15:24:27,080:INFO:polynom_fit_SMOTE: Running sampling via ('polynom_fit_SMOTE', \"{'proportion': 1.0, 'topology': 'star', 'random_state': None, 'class_name': 'polynom_fit_SMOTE'}\")\n",
      "2024-08-22 15:24:27,088:INFO:polynom_fit_SMOTE_star: Running sampling via ('polynom_fit_SMOTE_star', \"{'proportion': 1.0, 'topology': 'star', 'random_state': None, 'class_name': 'polynom_fit_SMOTE_star'}\")\n",
      "2024-08-22 15:24:27,088:INFO:polynom_fit_SMOTE: Running sampling via ('polynom_fit_SMOTE', \"{'proportion': 1.0, 'topology': 'star', 'random_state': None, 'class_name': 'polynom_fit_SMOTE'}\")\n",
      "2024-08-22 15:24:27,096:INFO:ProWSyn: Running sampling via ('ProWSyn', \"{'proportion': 1.0, 'n_neighbors': 5, 'nn_params': {}, 'L': 5, 'theta': 1.0, 'n_jobs': 1, 'ss_params': {'n_dim': 2, 'simplex_sampling': 'random', 'within_simplex_sampling': 'random', 'gaussian_component': {}}, 'random_state': None, 'class_name': 'ProWSyn'}\")\n",
      "2024-08-22 15:24:27,096:INFO:NearestNeighborsWithMetricTensor: NN fitting with metric minkowski\n",
      "2024-08-22 15:24:27,096:INFO:NearestNeighborsWithMetricTensor: kneighbors query minkowski\n",
      "2024-08-22 15:24:27,104:INFO:NearestNeighborsWithMetricTensor: NN fitting with metric minkowski\n",
      "2024-08-22 15:24:27,106:INFO:NearestNeighborsWithMetricTensor: kneighbors query minkowski\n",
      "2024-08-22 15:24:27,219:INFO:ProWSyn: simplex sampling with n_dim 2\n",
      "2024-08-22 15:24:27,227:INFO:ProWSyn: The simplex order was updated from 2 to 1\n",
      "2024-08-22 15:24:27,227:INFO:ProWSyn: simplex sampling with n_dim 1\n",
      "2024-08-22 15:24:27,236:INFO:ProWSyn: Running sampling via ('ProWSyn', \"{'proportion': 1.0, 'n_neighbors': 5, 'nn_params': {}, 'L': 5, 'theta': 1.0, 'n_jobs': 1, 'ss_params': {'n_dim': 2, 'simplex_sampling': 'random', 'within_simplex_sampling': 'random', 'gaussian_component': {}}, 'random_state': None, 'class_name': 'ProWSyn'}\")\n",
      "2024-08-22 15:24:27,236:INFO:NearestNeighborsWithMetricTensor: NN fitting with metric minkowski\n",
      "2024-08-22 15:24:27,236:INFO:NearestNeighborsWithMetricTensor: kneighbors query minkowski\n",
      "2024-08-22 15:24:27,236:INFO:ProWSyn: simplex sampling with n_dim 2\n",
      "2024-08-22 15:24:27,247:INFO:ProWSyn: Running sampling via ('ProWSyn', \"{'proportion': 1.0, 'n_neighbors': 5, 'nn_params': {}, 'L': 5, 'theta': 1.0, 'n_jobs': 1, 'ss_params': {'n_dim': 2, 'simplex_sampling': 'random', 'within_simplex_sampling': 'random', 'gaussian_component': {}}, 'random_state': None, 'class_name': 'ProWSyn'}\")\n",
      "2024-08-22 15:24:27,247:INFO:NearestNeighborsWithMetricTensor: NN fitting with metric minkowski\n",
      "2024-08-22 15:24:27,247:INFO:NearestNeighborsWithMetricTensor: kneighbors query minkowski\n",
      "2024-08-22 15:24:27,247:INFO:NearestNeighborsWithMetricTensor: NN fitting with metric minkowski\n",
      "2024-08-22 15:24:27,247:INFO:NearestNeighborsWithMetricTensor: kneighbors query minkowski\n",
      "2024-08-22 15:24:27,287:INFO:ProWSyn: simplex sampling with n_dim 2\n",
      "2024-08-22 15:24:27,287:INFO:ProWSyn: simplex sampling with n_dim 2\n",
      "2024-08-22 15:24:27,295:INFO:ProWSyn: Running sampling via ('ProWSyn', \"{'proportion': 1.0, 'n_neighbors': 5, 'nn_params': {}, 'L': 5, 'theta': 1.0, 'n_jobs': 1, 'ss_params': {'n_dim': 2, 'simplex_sampling': 'random', 'within_simplex_sampling': 'random', 'gaussian_component': {}}, 'random_state': None, 'class_name': 'ProWSyn'}\")\n",
      "2024-08-22 15:24:27,295:INFO:NearestNeighborsWithMetricTensor: NN fitting with metric minkowski\n",
      "2024-08-22 15:24:27,295:INFO:NearestNeighborsWithMetricTensor: kneighbors query minkowski\n",
      "2024-08-22 15:24:27,302:INFO:NearestNeighborsWithMetricTensor: NN fitting with metric minkowski\n",
      "2024-08-22 15:24:27,302:INFO:NearestNeighborsWithMetricTensor: kneighbors query minkowski\n",
      "2024-08-22 15:24:27,330:INFO:ProWSyn: simplex sampling with n_dim 2\n",
      "2024-08-22 15:24:27,330:INFO:ProWSyn: The simplex order was updated from 2 to 1\n",
      "2024-08-22 15:24:27,336:INFO:ProWSyn: simplex sampling with n_dim 1\n",
      "2024-08-22 15:24:27,343:INFO:ProWSyn: Running sampling via ('ProWSyn', \"{'proportion': 1.0, 'n_neighbors': 5, 'nn_params': {}, 'L': 5, 'theta': 1.0, 'n_jobs': 1, 'ss_params': {'n_dim': 2, 'simplex_sampling': 'random', 'within_simplex_sampling': 'random', 'gaussian_component': {}}, 'random_state': None, 'class_name': 'ProWSyn'}\")\n",
      "2024-08-22 15:24:27,343:INFO:NearestNeighborsWithMetricTensor: NN fitting with metric minkowski\n",
      "2024-08-22 15:24:27,346:INFO:NearestNeighborsWithMetricTensor: kneighbors query minkowski\n",
      "2024-08-22 15:24:27,346:INFO:ProWSyn: simplex sampling with n_dim 2\n",
      "2024-08-22 15:24:27,354:INFO:Lee: Running sampling via ('Lee', \"{'proportion': 1.0, 'n_neighbors': 5, 'nn_params': {}, 'rejection_level': 0.5, 'n_jobs': 1, 'ss_params': {'n_dim': 2, 'simplex_sampling': 'random', 'within_simplex_sampling': 'random', 'gaussian_component': {}}, 'random_state': None, 'class_name': 'Lee'}\")\n",
      "2024-08-22 15:24:27,354:INFO:NearestNeighborsWithMetricTensor: NN fitting with metric minkowski\n",
      "2024-08-22 15:24:27,354:INFO:NearestNeighborsWithMetricTensor: NN fitting with metric minkowski\n",
      "2024-08-22 15:24:27,354:INFO:NearestNeighborsWithMetricTensor: kneighbors query minkowski\n",
      "2024-08-22 15:24:27,354:INFO:Lee: simplex sampling with n_dim 2\n",
      "2024-08-22 15:24:27,362:INFO:NearestNeighborsWithMetricTensor: kneighbors query minkowski\n",
      "2024-08-22 15:24:27,363:INFO:Lee: simplex sampling with n_dim 2\n",
      "2024-08-22 15:24:27,363:INFO:NearestNeighborsWithMetricTensor: kneighbors query minkowski\n",
      "2024-08-22 15:24:27,363:INFO:Lee: simplex sampling with n_dim 2\n",
      "2024-08-22 15:24:27,363:INFO:NearestNeighborsWithMetricTensor: kneighbors query minkowski\n",
      "2024-08-22 15:24:27,363:INFO:Lee: simplex sampling with n_dim 2\n",
      "2024-08-22 15:24:27,370:INFO:NearestNeighborsWithMetricTensor: kneighbors query minkowski\n",
      "2024-08-22 15:24:27,370:INFO:Lee: simplex sampling with n_dim 2\n",
      "2024-08-22 15:24:27,370:INFO:NearestNeighborsWithMetricTensor: kneighbors query minkowski\n",
      "2024-08-22 15:24:27,381:INFO:Lee: Running sampling via ('Lee', \"{'proportion': 1.0, 'n_neighbors': 5, 'nn_params': {}, 'rejection_level': 0.5, 'n_jobs': 1, 'ss_params': {'n_dim': 2, 'simplex_sampling': 'random', 'within_simplex_sampling': 'random', 'gaussian_component': {}}, 'random_state': None, 'class_name': 'Lee'}\")\n",
      "2024-08-22 15:24:27,381:INFO:NearestNeighborsWithMetricTensor: NN fitting with metric minkowski\n",
      "2024-08-22 15:24:27,381:INFO:NearestNeighborsWithMetricTensor: NN fitting with metric minkowski\n",
      "2024-08-22 15:24:27,381:INFO:NearestNeighborsWithMetricTensor: kneighbors query minkowski\n",
      "2024-08-22 15:24:27,381:INFO:Lee: simplex sampling with n_dim 2\n",
      "2024-08-22 15:24:27,381:INFO:NearestNeighborsWithMetricTensor: kneighbors query minkowski\n",
      "2024-08-22 15:24:27,381:INFO:Lee: simplex sampling with n_dim 2\n",
      "2024-08-22 15:24:27,381:INFO:NearestNeighborsWithMetricTensor: kneighbors query minkowski\n",
      "2024-08-22 15:24:27,381:INFO:Lee: simplex sampling with n_dim 2\n",
      "2024-08-22 15:24:27,381:INFO:NearestNeighborsWithMetricTensor: kneighbors query minkowski\n",
      "2024-08-22 15:24:27,394:INFO:Lee: simplex sampling with n_dim 2\n",
      "2024-08-22 15:24:27,396:INFO:NearestNeighborsWithMetricTensor: kneighbors query minkowski\n",
      "2024-08-22 15:24:27,396:INFO:Lee: simplex sampling with n_dim 2\n",
      "2024-08-22 15:24:27,396:INFO:NearestNeighborsWithMetricTensor: kneighbors query minkowski\n",
      "2024-08-22 15:24:27,406:INFO:Lee: Running sampling via ('Lee', \"{'proportion': 1.0, 'n_neighbors': 5, 'nn_params': {}, 'rejection_level': 0.5, 'n_jobs': 1, 'ss_params': {'n_dim': 2, 'simplex_sampling': 'random', 'within_simplex_sampling': 'random', 'gaussian_component': {}}, 'random_state': None, 'class_name': 'Lee'}\")\n",
      "2024-08-22 15:24:27,406:INFO:NearestNeighborsWithMetricTensor: NN fitting with metric minkowski\n",
      "2024-08-22 15:24:27,406:INFO:NearestNeighborsWithMetricTensor: NN fitting with metric minkowski\n",
      "2024-08-22 15:24:27,406:INFO:NearestNeighborsWithMetricTensor: kneighbors query minkowski\n",
      "2024-08-22 15:24:27,413:INFO:Lee: simplex sampling with n_dim 2\n",
      "2024-08-22 15:24:27,413:INFO:NearestNeighborsWithMetricTensor: kneighbors query minkowski\n",
      "2024-08-22 15:24:27,413:INFO:Lee: simplex sampling with n_dim 2\n",
      "2024-08-22 15:24:27,413:INFO:NearestNeighborsWithMetricTensor: kneighbors query minkowski\n",
      "2024-08-22 15:24:27,413:INFO:Lee: simplex sampling with n_dim 2\n",
      "2024-08-22 15:24:27,413:INFO:NearestNeighborsWithMetricTensor: kneighbors query minkowski\n",
      "2024-08-22 15:24:27,413:INFO:Lee: simplex sampling with n_dim 2\n",
      "2024-08-22 15:24:27,413:INFO:NearestNeighborsWithMetricTensor: kneighbors query minkowski\n",
      "2024-08-22 15:24:27,421:INFO:Lee: simplex sampling with n_dim 2\n",
      "2024-08-22 15:24:27,421:INFO:NearestNeighborsWithMetricTensor: kneighbors query minkowski\n",
      "2024-08-22 15:24:27,421:INFO:Lee: simplex sampling with n_dim 2\n",
      "2024-08-22 15:24:27,421:INFO:NearestNeighborsWithMetricTensor: kneighbors query minkowski\n",
      "2024-08-22 15:24:27,429:INFO:Lee: Running sampling via ('Lee', \"{'proportion': 1.0, 'n_neighbors': 5, 'nn_params': {}, 'rejection_level': 0.5, 'n_jobs': 1, 'ss_params': {'n_dim': 2, 'simplex_sampling': 'random', 'within_simplex_sampling': 'random', 'gaussian_component': {}}, 'random_state': None, 'class_name': 'Lee'}\")\n",
      "2024-08-22 15:24:27,429:INFO:NearestNeighborsWithMetricTensor: NN fitting with metric minkowski\n",
      "2024-08-22 15:24:27,429:INFO:NearestNeighborsWithMetricTensor: NN fitting with metric minkowski\n",
      "2024-08-22 15:24:27,436:INFO:NearestNeighborsWithMetricTensor: kneighbors query minkowski\n",
      "2024-08-22 15:24:27,453:INFO:Lee: simplex sampling with n_dim 2\n",
      "2024-08-22 15:24:27,461:INFO:NearestNeighborsWithMetricTensor: kneighbors query minkowski\n",
      "2024-08-22 15:24:27,469:INFO:Lee: simplex sampling with n_dim 2\n",
      "2024-08-22 15:24:27,479:INFO:NearestNeighborsWithMetricTensor: kneighbors query minkowski\n",
      "2024-08-22 15:24:27,479:INFO:Lee: simplex sampling with n_dim 2\n",
      "2024-08-22 15:24:27,479:INFO:NearestNeighborsWithMetricTensor: kneighbors query minkowski\n",
      "2024-08-22 15:24:27,486:INFO:Lee: simplex sampling with n_dim 2\n",
      "2024-08-22 15:24:27,486:INFO:NearestNeighborsWithMetricTensor: kneighbors query minkowski\n",
      "2024-08-22 15:24:27,486:INFO:Lee: simplex sampling with n_dim 2\n",
      "2024-08-22 15:24:27,486:INFO:NearestNeighborsWithMetricTensor: kneighbors query minkowski\n",
      "2024-08-22 15:24:27,502:INFO:Lee: Running sampling via ('Lee', \"{'proportion': 1.0, 'n_neighbors': 5, 'nn_params': {}, 'rejection_level': 0.5, 'n_jobs': 1, 'ss_params': {'n_dim': 2, 'simplex_sampling': 'random', 'within_simplex_sampling': 'random', 'gaussian_component': {}}, 'random_state': None, 'class_name': 'Lee'}\")\n",
      "2024-08-22 15:24:27,502:INFO:NearestNeighborsWithMetricTensor: NN fitting with metric minkowski\n",
      "2024-08-22 15:24:27,502:INFO:NearestNeighborsWithMetricTensor: NN fitting with metric minkowski\n",
      "2024-08-22 15:24:27,502:INFO:NearestNeighborsWithMetricTensor: kneighbors query minkowski\n",
      "2024-08-22 15:24:27,502:INFO:Lee: simplex sampling with n_dim 2\n",
      "2024-08-22 15:24:27,510:INFO:NearestNeighborsWithMetricTensor: kneighbors query minkowski\n",
      "2024-08-22 15:24:27,510:INFO:Lee: simplex sampling with n_dim 2\n",
      "2024-08-22 15:24:27,513:INFO:NearestNeighborsWithMetricTensor: kneighbors query minkowski\n",
      "2024-08-22 15:24:27,513:INFO:Lee: simplex sampling with n_dim 2\n",
      "2024-08-22 15:24:27,513:INFO:NearestNeighborsWithMetricTensor: kneighbors query minkowski\n",
      "2024-08-22 15:24:27,513:INFO:Lee: simplex sampling with n_dim 2\n",
      "2024-08-22 15:24:27,513:INFO:NearestNeighborsWithMetricTensor: kneighbors query minkowski\n",
      "2024-08-22 15:24:27,518:INFO:Lee: simplex sampling with n_dim 2\n",
      "2024-08-22 15:24:27,518:INFO:NearestNeighborsWithMetricTensor: kneighbors query minkowski\n",
      "2024-08-22 15:24:27,518:INFO:Lee: simplex sampling with n_dim 2\n",
      "2024-08-22 15:24:27,522:INFO:NearestNeighborsWithMetricTensor: kneighbors query minkowski\n"
     ]
    },
    {
     "data": {
      "application/vnd.jupyter.widget-view+json": {
       "model_id": "27aa478dd17d42de8b1e3bec42cd2159",
       "version_major": 2,
       "version_minor": 0
      },
      "text/plain": [
       "  0%|          | 0/10117 [00:00<?, ?it/s]"
      ]
     },
     "metadata": {},
     "output_type": "display_data"
    },
    {
     "data": {
      "application/vnd.jupyter.widget-view+json": {
       "model_id": "d41ba5b1ad4045779471af9dab31ab71",
       "version_major": 2,
       "version_minor": 0
      },
      "text/plain": [
       "  0%|          | 0/10111 [00:00<?, ?it/s]"
      ]
     },
     "metadata": {},
     "output_type": "display_data"
    },
    {
     "data": {
      "application/vnd.jupyter.widget-view+json": {
       "model_id": "c284453344c14ea28368d9442e6371a0",
       "version_major": 2,
       "version_minor": 0
      },
      "text/plain": [
       "  0%|          | 0/10113 [00:00<?, ?it/s]"
      ]
     },
     "metadata": {},
     "output_type": "display_data"
    },
    {
     "data": {
      "application/vnd.jupyter.widget-view+json": {
       "model_id": "f3a14bad49fe466599a2e354a24529b6",
       "version_major": 2,
       "version_minor": 0
      },
      "text/plain": [
       "  0%|          | 0/10105 [00:00<?, ?it/s]"
      ]
     },
     "metadata": {},
     "output_type": "display_data"
    },
    {
     "data": {
      "application/vnd.jupyter.widget-view+json": {
       "model_id": "4946a71f6b364b36988392096b1c4637",
       "version_major": 2,
       "version_minor": 0
      },
      "text/plain": [
       "  0%|          | 0/10130 [00:00<?, ?it/s]"
      ]
     },
     "metadata": {},
     "output_type": "display_data"
    }
   ],
   "source": [
    "summary_performace_for_all_oversampling_algorithms_all_folds=[]\n",
    "for i in range(len(oversampler_object_list)):\n",
    "  summary_performace_for_all_oversampling_algorithms_all_folds.append(get_results_all_folds(i,clf))"
   ]
  },
  {
   "cell_type": "code",
   "execution_count": 38,
   "id": "022f3891-a8d2-48b0-a69e-6b31f5dde94f",
   "metadata": {},
   "outputs": [],
   "source": [
    "summary_performace_for_all_oversampling_algorithms_all_folds_list=np.array([[[round(i,3) for i in summary_performace_for_all_oversampling_algorithms_all_folds[oversampler_index][key]] for key in summary_performace_for_all_oversampling_algorithms_all_folds[0].keys()] for oversampler_index in range(len(oversampler_name_list))])"
   ]
  },
  {
   "cell_type": "code",
   "execution_count": 39,
   "id": "207c3c65-8a8a-40dc-b703-0cbe90d847bb",
   "metadata": {},
   "outputs": [],
   "source": [
    "oversamplers_result_summary_list=[]\n",
    "for i in range(summary_performace_for_all_oversampling_algorithms_all_folds_list.shape[0]):\n",
    "  performance_results_summary_list=[]\n",
    "  for j in range(summary_performace_for_all_oversampling_algorithms_all_folds_list.shape[1]):\n",
    "    performance_results_summary_list.append(str(summary_performace_for_all_oversampling_algorithms_all_folds_list[i][j][0])+\"\\u00B1\"+str(summary_performace_for_all_oversampling_algorithms_all_folds_list[i][j][1]))\n",
    "  oversamplers_result_summary_list.append(performance_results_summary_list)\n",
    "oversamplers_result_summary_list=np.array(oversamplers_result_summary_list)"
   ]
  },
  {
   "cell_type": "code",
   "execution_count": 40,
   "id": "eebec35a-4af3-46a6-b405-40a7ddb00fe0",
   "metadata": {},
   "outputs": [
    {
     "data": {
      "text/plain": [
       "['0.713±0.057', '0.56±0.053', '0.713±0.057', '0.713±0.057', '0.135±0.114']"
      ]
     },
     "execution_count": 40,
     "metadata": {},
     "output_type": "execute_result"
    }
   ],
   "source": [
    "performance_results_summary_list"
   ]
  },
  {
   "cell_type": "code",
   "execution_count": 41,
   "id": "4c3c80df-124e-400f-8e19-463de17f43fd",
   "metadata": {},
   "outputs": [
    {
     "data": {
      "text/plain": [
       "array([['0.611±0.058', '0.583±0.071', '0.611±0.058', '0.611±0.058',\n",
       "        '0.135±0.113'],\n",
       "       ['0.716±0.045', '0.65±0.066', '0.716±0.045', '0.716±0.045',\n",
       "        '0.28±0.102'],\n",
       "       ['0.68±0.027', '0.63±0.056', '0.68±0.027', '0.68±0.027',\n",
       "        '0.233±0.104'],\n",
       "       ['0.703±0.047', '0.609±0.033', '0.703±0.047', '0.703±0.047',\n",
       "        '0.218±0.065'],\n",
       "       ['0.713±0.057', '0.56±0.053', '0.713±0.057', '0.713±0.057',\n",
       "        '0.135±0.114']], dtype='<U11')"
      ]
     },
     "execution_count": 41,
     "metadata": {},
     "output_type": "execute_result"
    }
   ],
   "source": [
    "oversamplers_result_summary_list"
   ]
  },
  {
   "cell_type": "code",
   "execution_count": 42,
   "id": "13d8e568-ab29-463c-9514-2ab373981add",
   "metadata": {},
   "outputs": [],
   "source": [
    "df=pd.DataFrame(oversamplers_result_summary_list,columns=perfromance_measures,index=oversampler_name_list)"
   ]
  },
  {
   "cell_type": "code",
   "execution_count": 43,
   "id": "7c91bed1-ac2c-43b8-bbba-76058bb6f772",
   "metadata": {},
   "outputs": [
    {
     "data": {
      "text/html": [
       "<div>\n",
       "<style scoped>\n",
       "    .dataframe tbody tr th:only-of-type {\n",
       "        vertical-align: middle;\n",
       "    }\n",
       "\n",
       "    .dataframe tbody tr th {\n",
       "        vertical-align: top;\n",
       "    }\n",
       "\n",
       "    .dataframe thead th {\n",
       "        text-align: right;\n",
       "    }\n",
       "</style>\n",
       "<table border=\"1\" class=\"dataframe\">\n",
       "  <thead>\n",
       "    <tr style=\"text-align: right;\">\n",
       "      <th></th>\n",
       "      <th>accuracy</th>\n",
       "      <th>balanced accuracy</th>\n",
       "      <th>g-mean</th>\n",
       "      <th>f1-score</th>\n",
       "      <th>cohen_kappa</th>\n",
       "    </tr>\n",
       "  </thead>\n",
       "  <tbody>\n",
       "    <tr>\n",
       "      <th>SMOTE</th>\n",
       "      <td>0.611±0.058</td>\n",
       "      <td>0.583±0.071</td>\n",
       "      <td>0.611±0.058</td>\n",
       "      <td>0.611±0.058</td>\n",
       "      <td>0.135±0.113</td>\n",
       "    </tr>\n",
       "    <tr>\n",
       "      <th>polynome_fit_SMOTE</th>\n",
       "      <td>0.716±0.045</td>\n",
       "      <td>0.65±0.066</td>\n",
       "      <td>0.716±0.045</td>\n",
       "      <td>0.716±0.045</td>\n",
       "      <td>0.28±0.102</td>\n",
       "    </tr>\n",
       "    <tr>\n",
       "      <th>ProWSyn</th>\n",
       "      <td>0.68±0.027</td>\n",
       "      <td>0.63±0.056</td>\n",
       "      <td>0.68±0.027</td>\n",
       "      <td>0.68±0.027</td>\n",
       "      <td>0.233±0.104</td>\n",
       "    </tr>\n",
       "    <tr>\n",
       "      <th>Lee</th>\n",
       "      <td>0.703±0.047</td>\n",
       "      <td>0.609±0.033</td>\n",
       "      <td>0.703±0.047</td>\n",
       "      <td>0.703±0.047</td>\n",
       "      <td>0.218±0.065</td>\n",
       "    </tr>\n",
       "    <tr>\n",
       "      <th>Metropolis_hastings</th>\n",
       "      <td>0.713±0.057</td>\n",
       "      <td>0.56±0.053</td>\n",
       "      <td>0.713±0.057</td>\n",
       "      <td>0.713±0.057</td>\n",
       "      <td>0.135±0.114</td>\n",
       "    </tr>\n",
       "  </tbody>\n",
       "</table>\n",
       "</div>"
      ],
      "text/plain": [
       "                        accuracy balanced accuracy       g-mean     f1-score  \\\n",
       "SMOTE                0.611±0.058       0.583±0.071  0.611±0.058  0.611±0.058   \n",
       "polynome_fit_SMOTE   0.716±0.045        0.65±0.066  0.716±0.045  0.716±0.045   \n",
       "ProWSyn               0.68±0.027        0.63±0.056   0.68±0.027   0.68±0.027   \n",
       "Lee                  0.703±0.047       0.609±0.033  0.703±0.047  0.703±0.047   \n",
       "Metropolis_hastings  0.713±0.057        0.56±0.053  0.713±0.057  0.713±0.057   \n",
       "\n",
       "                     cohen_kappa  \n",
       "SMOTE                0.135±0.113  \n",
       "polynome_fit_SMOTE    0.28±0.102  \n",
       "ProWSyn              0.233±0.104  \n",
       "Lee                  0.218±0.065  \n",
       "Metropolis_hastings  0.135±0.114  "
      ]
     },
     "execution_count": 43,
     "metadata": {},
     "output_type": "execute_result"
    }
   ],
   "source": [
    "df"
   ]
  },
  {
   "cell_type": "code",
   "execution_count": 44,
   "id": "6a61660c-6986-4f80-847c-f5ef3b2149c9",
   "metadata": {},
   "outputs": [],
   "source": [
    "with pd.ExcelWriter('KNN_clf_result_for_d4.xlsx') as excel_writer:\n",
    "  df.to_excel(excel_writer,sheet_name='sheet_1')"
   ]
  },
  {
   "cell_type": "code",
   "execution_count": null,
   "id": "114f9597-0b83-4f50-bb8b-b0767aed1308",
   "metadata": {
    "editable": true,
    "slideshow": {
     "slide_type": ""
    },
    "tags": []
   },
   "outputs": [],
   "source": []
  }
 ],
 "metadata": {
  "kernelspec": {
   "display_name": "Python 3 (ipykernel)",
   "language": "python",
   "name": "python3"
  },
  "language_info": {
   "codemirror_mode": {
    "name": "ipython",
    "version": 3
   },
   "file_extension": ".py",
   "mimetype": "text/x-python",
   "name": "python",
   "nbconvert_exporter": "python",
   "pygments_lexer": "ipython3",
   "version": "3.12.4"
  }
 },
 "nbformat": 4,
 "nbformat_minor": 5
}

{
 "cells": [
  {
   "cell_type": "markdown",
   "metadata": {
    "id": "NnzKaQMDW3u8"
   },
   "source": [
    "**Importing all necessary library**"
   ]
  },
  {
   "cell_type": "code",
   "execution_count": 2,
   "metadata": {
    "id": "OtUEwli_W5dB"
   },
   "outputs": [],
   "source": [
    "import numpy as np\n",
    "import pandas as pd\n",
    "from tqdm.notebook import tqdm\n",
    "from sklearn.preprocessing import StandardScaler\n",
    "from sklearn.decomposition import PCA\n",
    "import matplotlib.pyplot as plt\n",
    "from sklearn.neighbors import KNeighborsClassifier\n",
    "from sklearn.metrics import confusion_matrix\n",
    "from sklearn.metrics import accuracy_score\n",
    "from sklearn.metrics import balanced_accuracy_score\n",
    "from sklearn.metrics import f1_score\n",
    "from imblearn.metrics import geometric_mean_score\n",
    "from sklearn.metrics import cohen_kappa_score\n",
    "from imblearn.over_sampling import SMOTE\n",
    "from collections import Counter"
   ]
  },
  {
   "cell_type": "markdown",
   "metadata": {
    "id": "6V2Cm03-Xhtn"
   },
   "source": [
    "- Here we used a mammography data, which have 6 different input feature and one target. In the target feature it has two classes, '-1' which stand for the majority class and '1' which stand for the minority class, hence the data is imbalanced. The type of the target data is string, where the type of feature variable is integer, so for that reason we have to preprocess the our data.\n",
    "#### Preprocessing:\n",
    "\n",
    "1.   First we will split the file into lines and then right strip for every line.\n",
    "2.   Then we store the feature and target values  separately into some list."
   ]
  },
  {
   "cell_type": "code",
   "execution_count": 4,
   "metadata": {
    "id": "1LdaXL6U4Ln8"
   },
   "outputs": [],
   "source": [
    "with open('mammography_data.txt') as f:\n",
    "  lines = [line.rstrip('\\n')for line in f]"
   ]
  },
  {
   "cell_type": "code",
   "execution_count": null,
   "metadata": {},
   "outputs": [],
   "source": []
  },
  {
   "cell_type": "code",
   "execution_count": 5,
   "metadata": {
    "id": "NWMFzBiw5bzH"
   },
   "outputs": [],
   "source": [
    "data_list=[]\n",
    "for i in range(len(lines)):\n",
    "    l= lines[i].split(',')\n",
    "    a=[float(i) for i in l[:-1]]\n",
    "    data_list.append(a)\n",
    "data= np.array(data_list)"
   ]
  },
  {
   "cell_type": "code",
   "execution_count": 6,
   "metadata": {
    "colab": {
     "base_uri": "https://localhost:8080/"
    },
    "id": "_V8nOVRyt0rv",
    "outputId": "421fcd8e-78ca-4b84-af21-8b1fd21ee09c"
   },
   "outputs": [
    {
     "data": {
      "text/plain": [
       "(11183, 6)"
      ]
     },
     "execution_count": 6,
     "metadata": {},
     "output_type": "execute_result"
    }
   ],
   "source": [
    "data.shape"
   ]
  },
  {
   "cell_type": "code",
   "execution_count": 7,
   "metadata": {
    "id": "_XLvvDErO_Sj"
   },
   "outputs": [],
   "source": [
    "labels_string=[]\n",
    "for i in range(len(lines)):\n",
    "  labels_string.append(lines[i].split(',')[-1])"
   ]
  },
  {
   "cell_type": "code",
   "execution_count": 8,
   "metadata": {
    "id": "ZFVQ9DvEQh8O"
   },
   "outputs": [],
   "source": [
    "labels=[]\n",
    "for i in range(len(labels_string)):\n",
    "  if labels_string[i]==np.unique(labels_string)[0]:\n",
    "    labels.append(-1)\n",
    "  else:\n",
    "    labels.append(1)\n",
    "labels=np.array(labels)"
   ]
  },
  {
   "cell_type": "markdown",
   "metadata": {
    "id": "Xe8d-As8d2GE"
   },
   "source": [
    "### **K-fold :**\n",
    "Here we break down our input feature and target class, into 'k' number of folds separately, such that each folds have (k-1) training data and there should be a single test data in each fold.\n",
    "\\\n",
    "After that, we take the first fold (input feature,target class) from k-folds and we split that into traning data and test data, Then by looking the target unique values,we split the training data into majority which is for '-1' class and minority class which is for '1'.\n"
   ]
  },
  {
   "cell_type": "code",
   "execution_count": 10,
   "metadata": {
    "id": "NjaH302V4x4I"
   },
   "outputs": [],
   "source": [
    "def get_folds(data,labels,k):\n",
    "  np.random.seed(42)\n",
    "  shuffle=np.random.permutation(len(data))\n",
    "  data=data[shuffle]\n",
    "  labels=labels[shuffle]\n",
    "\n",
    "  block_length=int(len(data)/k)\n",
    "  data_folds=[]\n",
    "  label_folds=[]\n",
    "  for i in range(k):\n",
    "    if i==(k-1):\n",
    "      data_fold=data[i*block_length:]\n",
    "      data_folds.append(data_fold)\n",
    "      label_fold=labels[i*block_length:]\n",
    "      label_folds.append(label_fold)\n",
    "    else:\n",
    "      data_fold=data[i*block_length:block_length*(i+1)]\n",
    "      data_folds.append(data_fold)\n",
    "      label_fold=labels[i*block_length:block_length*(i+1)]\n",
    "      label_folds.append(label_fold)\n",
    "  return np.array(data_folds,dtype=object),np.array(label_folds,dtype=object)"
   ]
  },
  {
   "cell_type": "code",
   "execution_count": 11,
   "metadata": {
    "id": "QKriXh37qcAU"
   },
   "outputs": [],
   "source": [
    "def divide_data_into_k_folds(data,labels,k):\n",
    "  data_folds_array,label_folds_array=get_folds(data,labels,k)\n",
    "  all_data_folds_list=[]\n",
    "  all_labels_folds_list=[]\n",
    "  for i in range(k):\n",
    "    data_fold_k=[np.concatenate(data_folds_array[np.where(np.array(list(range(k)))!=i)[0]]), data_folds_array[i]]\n",
    "    all_data_folds_list.append(data_fold_k)\n",
    "\n",
    "    label_fold_k=[np.concatenate(label_folds_array[np.where(np.array(list(range(k)))!=i)[0]]), label_folds_array[i]]\n",
    "    all_labels_folds_list.append(label_fold_k)\n",
    "\n",
    "  return all_data_folds_list, all_labels_folds_list"
   ]
  },
  {
   "cell_type": "code",
   "execution_count": 12,
   "metadata": {
    "id": "VG2u0lk15M6_"
   },
   "outputs": [],
   "source": [
    "all_data_folds_list, all_labels_folds_list=divide_data_into_k_folds(data,labels,3)"
   ]
  },
  {
   "cell_type": "code",
   "execution_count": 13,
   "metadata": {
    "id": "oXUKt99frcUq"
   },
   "outputs": [],
   "source": [
    "X_train,X_test=all_data_folds_list[0][0],all_data_folds_list[0][1]"
   ]
  },
  {
   "cell_type": "code",
   "execution_count": 14,
   "metadata": {
    "colab": {
     "base_uri": "https://localhost:8080/"
    },
    "id": "gk_jILn3MoLV",
    "outputId": "9c26bd93-d315-4b98-e1b3-f5b9e1e0a8ea"
   },
   "outputs": [
    {
     "data": {
      "text/plain": [
       "(7456, 6)"
      ]
     },
     "execution_count": 14,
     "metadata": {},
     "output_type": "execute_result"
    }
   ],
   "source": [
    "X_train.shape"
   ]
  },
  {
   "cell_type": "code",
   "execution_count": 15,
   "metadata": {
    "id": "EcM3g_D4vigw"
   },
   "outputs": [],
   "source": [
    "y_train,y_test=all_labels_folds_list[0][0],all_labels_folds_list[0][1]"
   ]
  },
  {
   "cell_type": "code",
   "execution_count": 16,
   "metadata": {
    "colab": {
     "base_uri": "https://localhost:8080/"
    },
    "id": "52y9l777vpMz",
    "outputId": "08b6d5fd-048b-4494-929e-137e78f24d94"
   },
   "outputs": [
    {
     "data": {
      "text/plain": [
       "(7456,)"
      ]
     },
     "execution_count": 16,
     "metadata": {},
     "output_type": "execute_result"
    }
   ],
   "source": [
    "y_train.shape"
   ]
  },
  {
   "cell_type": "code",
   "execution_count": 17,
   "metadata": {
    "colab": {
     "base_uri": "https://localhost:8080/"
    },
    "id": "_9rrEUt_vsA3",
    "outputId": "d12136ce-4ad3-453f-b2d8-1f0c6d308792"
   },
   "outputs": [
    {
     "data": {
      "text/plain": [
       "(array([-1,  1]), array([7280,  176], dtype=int64))"
      ]
     },
     "execution_count": 17,
     "metadata": {},
     "output_type": "execute_result"
    }
   ],
   "source": [
    "np.unique(y_train, return_counts=True)"
   ]
  },
  {
   "cell_type": "code",
   "execution_count": 18,
   "metadata": {
    "id": "OxuvHrcvBwrQ"
   },
   "outputs": [],
   "source": [
    "X_train_minority=[]\n",
    "for i in np.where(y_train==1):\n",
    "    a=X_train[i]\n",
    "    X_train_minority.append(a)"
   ]
  },
  {
   "cell_type": "code",
   "execution_count": 19,
   "metadata": {
    "id": "NpQ3o1wpB5To"
   },
   "outputs": [],
   "source": [
    "X_train_minority_class=np.array(X_train_minority[0])"
   ]
  },
  {
   "cell_type": "code",
   "execution_count": 20,
   "metadata": {
    "id": "0ectgLCgCA58"
   },
   "outputs": [],
   "source": [
    "X_train_majority=[]\n",
    "for i in np.where(y_train==-1):\n",
    "    a=X_train[i]\n",
    "    X_train_majority.append(a)"
   ]
  },
  {
   "cell_type": "code",
   "execution_count": 21,
   "metadata": {
    "id": "A3tEKkvmCKWI"
   },
   "outputs": [],
   "source": [
    "X_train_majority_class=np.array(X_train_majority[0])"
   ]
  },
  {
   "cell_type": "markdown",
   "metadata": {
    "id": "8Q6cCh0bZuaC"
   },
   "source": [
    " ### **Kernel Density Function :**\n",
    "At this point we designed our kernel function. We used multidimensional gaussian Kernel function which is expressed mathematically as:\n",
    "$$\n",
    "K(x) = {2\\pi}^{-\\frac{d}{2}} {det(H)}^{-\\frac{1}{2}} e^{-\\frac{1}{2} {x^T} {H^{-1}}x}\n",
    "$$\n",
    "where $d$ is a number of input feature and $H$ is an identitiy matrix of dimension $d$. We calculate the Kernel density at some point $x$ using the formula:\n",
    "$$\n",
    "f(x) = {\\frac{1}{n}}{\\sum_{i=1}^{n}K(x-x_{i})}\n",
    "$$\n",
    "Where $x_{i}$ denotes the $i$-th data point of the minority class which belongs to the training data which is used to calculate the density at point any point $x$. We can put each test data as an argument to this function to obtain densities at the test data points. Note that in the multi-dimensional case $x$ and $x_i$ are both vectors of dimension $d$."
   ]
  },
  {
   "cell_type": "code",
   "execution_count": 23,
   "metadata": {
    "id": "V6TRdMaR7IpZ"
   },
   "outputs": [],
   "source": [
    "def k(H,x,d):\n",
    "  H_inv = np.linalg.inv(H)\n",
    "  x_tras=np.matrix.transpose(x)\n",
    "  h= np.linalg.det(H)\n",
    "  m=np.matmul(x_tras,H_inv)\n",
    "  m1=np.matmul(m,x)\n",
    "  e=np.exp(-0.5*m1)\n",
    "  n=2*(np.pi)**(-d/2)\n",
    "  v=n*(h)**(-1/2)*(e)\n",
    "  return v"
   ]
  },
  {
   "cell_type": "code",
   "execution_count": 24,
   "metadata": {},
   "outputs": [
    {
     "data": {
      "text/plain": [
       "numpy.ndarray"
      ]
     },
     "execution_count": 24,
     "metadata": {},
     "output_type": "execute_result"
    }
   ],
   "source": [
    "type(X_train_majority_class)"
   ]
  },
  {
   "cell_type": "code",
   "execution_count": 25,
   "metadata": {
    "id": "6-JHxW0w_txa"
   },
   "outputs": [],
   "source": [
    "def density_gen(X, X_minority):\n",
    "    density_list=[]\n",
    "    for j in range(len(X)):\n",
    "        s=0\n",
    "        for i in range(len(X_minority)):\n",
    "            xi=X_minority[i]\n",
    "            dif=X[j]-xi\n",
    "            s=s+k(np.identity(X_minority.shape[1]), dif, X_minority.shape[1])\n",
    "        density_list.append(s/len(X_minority))\n",
    "    return np.array(density_list)"
   ]
  },
  {
   "cell_type": "code",
   "execution_count": 26,
   "metadata": {
    "id": "Y1q3S94WHY9A"
   },
   "outputs": [],
   "source": [
    "unique_labels,counts=np.unique(y_train, return_counts=True)"
   ]
  },
  {
   "cell_type": "markdown",
   "metadata": {
    "id": "L78tfSGIidXZ"
   },
   "source": [
    "### **Metropolis hastings** :\n",
    "\" Metropolis hasting is technique of generating random samples from the any probability distribution. we can use this for the oversampling of data .\"\n",
    "\\\n",
    "**Steps of metropolis hastings:**\n",
    "1. First we take the initial guess $x_t$, which is random data points for the minority class.\n",
    "2. Then we find the candidate value $ x_{t+1}$  of $x_t$, such that it's Normal Distributed from point $x_t$ with $\\sigma^2$.\n",
    "3. After this we check the acceptance probability $α$ which is a ratio of kernel density of candidate value $ x_{t+1}$ and Kernel density of initial guess which is $x_t$.\n",
    "$α=\\frac{f(x_{x+1})}{f(x_t)}$\n",
    "4. So there are few condition about accepting the $α$ values:\n",
    "\n",
    "*   We take uniform distribution in interval between $(0,1)$, if the Uniform value is smaller than the $α$ which means the Kernel density of candidate value is higher during the finding of $α$, so there is maximum likelihood of accepting the $α$, and it store the $α$ values into a some sample list, otherwise if uniform distribution value is greater than the  $α$ which means the kernel density of initial guess ($x_t$) is higher so,there is maximum likelihood of rejecting the $α$ hence the value wont store into the sample list it will remains the same."
   ]
  },
  {
   "cell_type": "code",
   "execution_count": 28,
   "metadata": {
    "id": "xAtMImTBBUyb"
   },
   "outputs": [],
   "source": [
    "def metropolis_hastings(target_density, X_minority, size=100):\n",
    "    np.random.seed(43)\n",
    "    burnin_size = 10000\n",
    "    size += burnin_size\n",
    "    x0 =X_minority[np.random.choice(list(range(len(X_train_minority_class))),1)]\n",
    "    xt = x0\n",
    "    samples = []\n",
    "    for i in tqdm(range(size)):\n",
    "        xt_candidate = np.array([np.random.multivariate_normal(xt[0], 0.2*np.eye(X_minority.shape[1]))])\n",
    "        accept_odds = (target_density(xt_candidate,X_minority))/(target_density(xt,X_minority))\n",
    "        if np.random.uniform(0, 1) < accept_odds:\n",
    "            xt = xt_candidate\n",
    "        samples.append(xt)\n",
    "    samples = np.array(samples[burnin_size:])\n",
    "    samples = np.reshape(samples, [samples.shape[0], X_minority.shape[1]])\n",
    "    return samples"
   ]
  },
  {
   "cell_type": "code",
   "execution_count": 29,
   "metadata": {
    "colab": {
     "base_uri": "https://localhost:8080/"
    },
    "id": "1zlCLUWz8MtI",
    "outputId": "45511ad6-a8e4-4141-cb69-52e41f4fb73b"
   },
   "outputs": [
    {
     "name": "stdout",
     "output_type": "stream",
     "text": [
      "Requirement already satisfied: smote_variants in c:\\users\\lenovo\\anaconda3\\lib\\site-packages (0.7.3)\n",
      "Requirement already satisfied: numpy in c:\\users\\lenovo\\anaconda3\\lib\\site-packages (from smote_variants) (1.26.4)\n",
      "Requirement already satisfied: scipy in c:\\users\\lenovo\\anaconda3\\lib\\site-packages (from smote_variants) (1.13.1)\n",
      "Requirement already satisfied: scikit-learn in c:\\users\\lenovo\\anaconda3\\lib\\site-packages (from smote_variants) (1.4.2)\n",
      "Requirement already satisfied: joblib in c:\\users\\lenovo\\anaconda3\\lib\\site-packages (from smote_variants) (1.4.2)\n",
      "Requirement already satisfied: minisom in c:\\users\\lenovo\\anaconda3\\lib\\site-packages (from smote_variants) (2.3.2)\n",
      "Requirement already satisfied: statistics in c:\\users\\lenovo\\anaconda3\\lib\\site-packages (from smote_variants) (1.0.3.5)\n",
      "Requirement already satisfied: tensorflow in c:\\users\\lenovo\\anaconda3\\lib\\site-packages (from smote_variants) (2.17.0)\n",
      "Requirement already satisfied: keras in c:\\users\\lenovo\\anaconda3\\lib\\site-packages (from smote_variants) (3.4.1)\n",
      "Requirement already satisfied: pandas in c:\\users\\lenovo\\anaconda3\\lib\\site-packages (from smote_variants) (2.2.2)\n",
      "Requirement already satisfied: mkl in c:\\users\\lenovo\\anaconda3\\lib\\site-packages (from smote_variants) (2024.2.0)\n",
      "Requirement already satisfied: metric-learn in c:\\users\\lenovo\\anaconda3\\lib\\site-packages (from smote_variants) (0.7.0)\n",
      "Requirement already satisfied: seaborn in c:\\users\\lenovo\\anaconda3\\lib\\site-packages (from smote_variants) (0.13.2)\n",
      "Requirement already satisfied: absl-py in c:\\users\\lenovo\\anaconda3\\lib\\site-packages (from keras->smote_variants) (2.1.0)\n",
      "Requirement already satisfied: rich in c:\\users\\lenovo\\anaconda3\\lib\\site-packages (from keras->smote_variants) (13.3.5)\n",
      "Requirement already satisfied: namex in c:\\users\\lenovo\\anaconda3\\lib\\site-packages (from keras->smote_variants) (0.0.8)\n",
      "Requirement already satisfied: h5py in c:\\users\\lenovo\\anaconda3\\lib\\site-packages (from keras->smote_variants) (3.11.0)\n",
      "Requirement already satisfied: optree in c:\\users\\lenovo\\anaconda3\\lib\\site-packages (from keras->smote_variants) (0.12.1)\n",
      "Requirement already satisfied: ml-dtypes in c:\\users\\lenovo\\anaconda3\\lib\\site-packages (from keras->smote_variants) (0.4.0)\n",
      "Requirement already satisfied: packaging in c:\\users\\lenovo\\anaconda3\\lib\\site-packages (from keras->smote_variants) (23.2)\n",
      "Requirement already satisfied: threadpoolctl>=2.0.0 in c:\\users\\lenovo\\anaconda3\\lib\\site-packages (from scikit-learn->smote_variants) (2.2.0)\n",
      "Requirement already satisfied: intel-openmp>=2023 in c:\\users\\lenovo\\anaconda3\\lib\\site-packages (from mkl->smote_variants) (2024.2.0)\n",
      "Requirement already satisfied: tbb==2021.* in c:\\users\\lenovo\\anaconda3\\lib\\site-packages (from mkl->smote_variants) (2021.13.0)\n",
      "Requirement already satisfied: python-dateutil>=2.8.2 in c:\\users\\lenovo\\anaconda3\\lib\\site-packages (from pandas->smote_variants) (2.9.0.post0)\n",
      "Requirement already satisfied: pytz>=2020.1 in c:\\users\\lenovo\\anaconda3\\lib\\site-packages (from pandas->smote_variants) (2024.1)\n",
      "Requirement already satisfied: tzdata>=2022.7 in c:\\users\\lenovo\\anaconda3\\lib\\site-packages (from pandas->smote_variants) (2023.3)\n",
      "Requirement already satisfied: matplotlib!=3.6.1,>=3.4 in c:\\users\\lenovo\\anaconda3\\lib\\site-packages (from seaborn->smote_variants) (3.8.4)\n",
      "Requirement already satisfied: docutils>=0.3 in c:\\users\\lenovo\\anaconda3\\lib\\site-packages (from statistics->smote_variants) (0.18.1)\n",
      "Requirement already satisfied: tensorflow-intel==2.17.0 in c:\\users\\lenovo\\anaconda3\\lib\\site-packages (from tensorflow->smote_variants) (2.17.0)\n",
      "Requirement already satisfied: astunparse>=1.6.0 in c:\\users\\lenovo\\anaconda3\\lib\\site-packages (from tensorflow-intel==2.17.0->tensorflow->smote_variants) (1.6.3)\n",
      "Requirement already satisfied: flatbuffers>=24.3.25 in c:\\users\\lenovo\\anaconda3\\lib\\site-packages (from tensorflow-intel==2.17.0->tensorflow->smote_variants) (24.3.25)\n",
      "Requirement already satisfied: gast!=0.5.0,!=0.5.1,!=0.5.2,>=0.2.1 in c:\\users\\lenovo\\anaconda3\\lib\\site-packages (from tensorflow-intel==2.17.0->tensorflow->smote_variants) (0.6.0)\n",
      "Requirement already satisfied: google-pasta>=0.1.1 in c:\\users\\lenovo\\anaconda3\\lib\\site-packages (from tensorflow-intel==2.17.0->tensorflow->smote_variants) (0.2.0)\n",
      "Requirement already satisfied: libclang>=13.0.0 in c:\\users\\lenovo\\anaconda3\\lib\\site-packages (from tensorflow-intel==2.17.0->tensorflow->smote_variants) (18.1.1)\n",
      "Requirement already satisfied: opt-einsum>=2.3.2 in c:\\users\\lenovo\\anaconda3\\lib\\site-packages (from tensorflow-intel==2.17.0->tensorflow->smote_variants) (3.3.0)\n",
      "Requirement already satisfied: protobuf!=4.21.0,!=4.21.1,!=4.21.2,!=4.21.3,!=4.21.4,!=4.21.5,<5.0.0dev,>=3.20.3 in c:\\users\\lenovo\\anaconda3\\lib\\site-packages (from tensorflow-intel==2.17.0->tensorflow->smote_variants) (3.20.3)\n",
      "Requirement already satisfied: requests<3,>=2.21.0 in c:\\users\\lenovo\\anaconda3\\lib\\site-packages (from tensorflow-intel==2.17.0->tensorflow->smote_variants) (2.32.2)\n",
      "Requirement already satisfied: setuptools in c:\\users\\lenovo\\anaconda3\\lib\\site-packages (from tensorflow-intel==2.17.0->tensorflow->smote_variants) (69.5.1)\n",
      "Requirement already satisfied: six>=1.12.0 in c:\\users\\lenovo\\anaconda3\\lib\\site-packages (from tensorflow-intel==2.17.0->tensorflow->smote_variants) (1.16.0)\n",
      "Requirement already satisfied: termcolor>=1.1.0 in c:\\users\\lenovo\\anaconda3\\lib\\site-packages (from tensorflow-intel==2.17.0->tensorflow->smote_variants) (2.4.0)\n",
      "Requirement already satisfied: typing-extensions>=3.6.6 in c:\\users\\lenovo\\anaconda3\\lib\\site-packages (from tensorflow-intel==2.17.0->tensorflow->smote_variants) (4.11.0)\n",
      "Requirement already satisfied: wrapt>=1.11.0 in c:\\users\\lenovo\\anaconda3\\lib\\site-packages (from tensorflow-intel==2.17.0->tensorflow->smote_variants) (1.14.1)\n",
      "Requirement already satisfied: grpcio<2.0,>=1.24.3 in c:\\users\\lenovo\\anaconda3\\lib\\site-packages (from tensorflow-intel==2.17.0->tensorflow->smote_variants) (1.65.4)\n",
      "Requirement already satisfied: tensorboard<2.18,>=2.17 in c:\\users\\lenovo\\anaconda3\\lib\\site-packages (from tensorflow-intel==2.17.0->tensorflow->smote_variants) (2.17.0)\n",
      "Requirement already satisfied: intel-cmplr-lib-ur==2024.2.0 in c:\\users\\lenovo\\anaconda3\\lib\\site-packages (from intel-openmp>=2023->mkl->smote_variants) (2024.2.0)\n",
      "Requirement already satisfied: contourpy>=1.0.1 in c:\\users\\lenovo\\anaconda3\\lib\\site-packages (from matplotlib!=3.6.1,>=3.4->seaborn->smote_variants) (1.2.0)\n",
      "Requirement already satisfied: cycler>=0.10 in c:\\users\\lenovo\\anaconda3\\lib\\site-packages (from matplotlib!=3.6.1,>=3.4->seaborn->smote_variants) (0.11.0)\n",
      "Requirement already satisfied: fonttools>=4.22.0 in c:\\users\\lenovo\\anaconda3\\lib\\site-packages (from matplotlib!=3.6.1,>=3.4->seaborn->smote_variants) (4.51.0)\n",
      "Requirement already satisfied: kiwisolver>=1.3.1 in c:\\users\\lenovo\\anaconda3\\lib\\site-packages (from matplotlib!=3.6.1,>=3.4->seaborn->smote_variants) (1.4.4)\n",
      "Requirement already satisfied: pillow>=8 in c:\\users\\lenovo\\anaconda3\\lib\\site-packages (from matplotlib!=3.6.1,>=3.4->seaborn->smote_variants) (10.3.0)\n",
      "Requirement already satisfied: pyparsing>=2.3.1 in c:\\users\\lenovo\\anaconda3\\lib\\site-packages (from matplotlib!=3.6.1,>=3.4->seaborn->smote_variants) (3.0.9)\n",
      "Requirement already satisfied: markdown-it-py<3.0.0,>=2.2.0 in c:\\users\\lenovo\\anaconda3\\lib\\site-packages (from rich->keras->smote_variants) (2.2.0)\n",
      "Requirement already satisfied: pygments<3.0.0,>=2.13.0 in c:\\users\\lenovo\\anaconda3\\lib\\site-packages (from rich->keras->smote_variants) (2.15.1)\n",
      "Requirement already satisfied: wheel<1.0,>=0.23.0 in c:\\users\\lenovo\\anaconda3\\lib\\site-packages (from astunparse>=1.6.0->tensorflow-intel==2.17.0->tensorflow->smote_variants) (0.43.0)\n",
      "Requirement already satisfied: mdurl~=0.1 in c:\\users\\lenovo\\anaconda3\\lib\\site-packages (from markdown-it-py<3.0.0,>=2.2.0->rich->keras->smote_variants) (0.1.0)\n",
      "Requirement already satisfied: charset-normalizer<4,>=2 in c:\\users\\lenovo\\anaconda3\\lib\\site-packages (from requests<3,>=2.21.0->tensorflow-intel==2.17.0->tensorflow->smote_variants) (2.0.4)\n",
      "Requirement already satisfied: idna<4,>=2.5 in c:\\users\\lenovo\\anaconda3\\lib\\site-packages (from requests<3,>=2.21.0->tensorflow-intel==2.17.0->tensorflow->smote_variants) (3.7)\n",
      "Requirement already satisfied: urllib3<3,>=1.21.1 in c:\\users\\lenovo\\anaconda3\\lib\\site-packages (from requests<3,>=2.21.0->tensorflow-intel==2.17.0->tensorflow->smote_variants) (2.2.2)\n",
      "Requirement already satisfied: certifi>=2017.4.17 in c:\\users\\lenovo\\anaconda3\\lib\\site-packages (from requests<3,>=2.21.0->tensorflow-intel==2.17.0->tensorflow->smote_variants) (2024.7.4)\n",
      "Requirement already satisfied: markdown>=2.6.8 in c:\\users\\lenovo\\anaconda3\\lib\\site-packages (from tensorboard<2.18,>=2.17->tensorflow-intel==2.17.0->tensorflow->smote_variants) (3.4.1)\n",
      "Requirement already satisfied: tensorboard-data-server<0.8.0,>=0.7.0 in c:\\users\\lenovo\\anaconda3\\lib\\site-packages (from tensorboard<2.18,>=2.17->tensorflow-intel==2.17.0->tensorflow->smote_variants) (0.7.2)\n",
      "Requirement already satisfied: werkzeug>=1.0.1 in c:\\users\\lenovo\\anaconda3\\lib\\site-packages (from tensorboard<2.18,>=2.17->tensorflow-intel==2.17.0->tensorflow->smote_variants) (3.0.3)\n",
      "Requirement already satisfied: MarkupSafe>=2.1.1 in c:\\users\\lenovo\\anaconda3\\lib\\site-packages (from werkzeug>=1.0.1->tensorboard<2.18,>=2.17->tensorflow-intel==2.17.0->tensorflow->smote_variants) (2.1.3)\n"
     ]
    }
   ],
   "source": [
    "!pip install smote_variants"
   ]
  },
  {
   "cell_type": "markdown",
   "metadata": {
    "id": "g2pRYTnKO4lr"
   },
   "source": [
    "### **SMOTE and their Variants :**\n",
    "Here we used top three different varients of the SMOTE:\n",
    "\n",
    "1.   Polynome fit Smote: Polynome fit refers 4 different strategies by the topology parameter (star, mesh, bus,polynome) among this we used star topology is that it generates the point along the line segmets between relative far samples of minority class, thus the minority class is more scattered.\n",
    "2.   ProWSyn(Proximate weighted synthesis): It generate the new points by sampling the line segments between minority instances which having the similar distances to the majority instances.\n",
    "3.   Lee : it is a similar approach to using KNN for noise filtering.\n",
    "\n",
    "\n",
    "#### SOMOTE:\n",
    "This is also a oversampling method, it oversamples the minority calss and make it equal to the majority class.\n",
    "\\\n",
    "**Steps of generating a synthetic data:**\n",
    "\n",
    "\n",
    "- First we find the $k$ nearest neighbour for the minority calss, then we\n",
    "generate the data points in between this $k$ nearest data points using formula:\\\n",
    "$x_i'= x_i +λ(x_j-x_i)$\n",
    "\\\n",
    "So here the $x_i'$ is the new generated point, where $λ$ is factor which range between $(0,1)$.\n"
   ]
  },
  {
   "cell_type": "code",
   "execution_count": 31,
   "metadata": {
    "id": "e4sJh-w2WqkO"
   },
   "outputs": [],
   "source": [
    "import smote_variants as sv\n",
    "\n",
    "oversampler_SMOTE=sv.SMOTE()\n",
    "oversampler_polynome_fit = sv.polynom_fit_SMOTE_star()\n",
    "oversampler_ProWSyn= sv.ProWSyn()\n",
    "oversampler_SMOTE_IPF= sv.SMOTE_IPF()\n",
    "oversampler_Lee= sv.Lee()\n"
   ]
  },
  {
   "cell_type": "code",
   "execution_count": 32,
   "metadata": {
    "id": "aeShC0gEyimZ"
   },
   "outputs": [],
   "source": [
    "oversampler_object_list = [oversampler_SMOTE,oversampler_polynome_fit,oversampler_ProWSyn, oversampler_Lee, metropolis_hastings]"
   ]
  },
  {
   "cell_type": "code",
   "execution_count": 33,
   "metadata": {
    "id": "ByjAhF6bP2Yo"
   },
   "outputs": [],
   "source": [
    "oversampler_name_list = ['SMOTE','polynome_fit_SMOTE','ProWSyn', 'Lee', 'Metropolis_hastings']"
   ]
  },
  {
   "cell_type": "code",
   "execution_count": 34,
   "metadata": {
    "id": "Cq7Wk6I12WeO"
   },
   "outputs": [],
   "source": [
    "def get_imb_oversampling(X_train,y_train,X_test,y_test,oversampler_index,classifier,visualize=True):\n",
    "  ## MH is in the end of the list oversampler_object_list\n",
    "  if oversampler_index!=len(oversampler_object_list)-1:\n",
    "    X_samp, y_samp = oversampler_object_list[oversampler_index].sample(X_train, y_train)\n",
    "\n",
    "  else:\n",
    "    X_train_minority=[]\n",
    "    for i in np.where(y_train==1):\n",
    "      a=X_train[i]\n",
    "      X_train_minority.append(a)\n",
    "\n",
    "    X_train_majority=[]\n",
    "    for i in np.where(y_train==-1):\n",
    "      a=X_train[i]\n",
    "      X_train_majority.append(a)\n",
    "    X_train_minority_class=np.array(X_train_minority[0])\n",
    "    X_train_majority_class=np.array(X_train_majority[0])\n",
    "\n",
    "    unique_labels,counts=np.unique(y_train, return_counts=True)\n",
    "\n",
    "    synthetic_minority_data = metropolis_hastings(density_gen, X_train_minority_class, size=counts[0]-counts[1])\n",
    "    balanced_minority=np.concatenate([X_train_minority_class, synthetic_minority_data])\n",
    "    balanced_data=np.concatenate([X_train_majority_class,balanced_minority])\n",
    "    balanced_labels_for_classification=np.concatenate([np.zeros(len(X_train_majority_class))-1,np.ones(len(balanced_minority))])\n",
    "    X_samp=balanced_data\n",
    "    y_samp=balanced_labels_for_classification\n",
    "\n",
    "  classifier.fit(X_samp,y_samp)\n",
    "  y_pred=classifier.predict(X_test)\n",
    "  cm=confusion_matrix(y_test, y_pred)\n",
    "  acc=accuracy_score(y_test, y_pred)\n",
    "  b_acc=balanced_accuracy_score(y_test, y_pred)\n",
    "  gm=geometric_mean_score(y_test, y_pred)\n",
    "  f1=f1_score(y_test, y_pred)\n",
    "  ck=cohen_kappa_score(y_test, y_pred)\n",
    "\n",
    "  if visualize==True:\n",
    "    scaler = StandardScaler()\n",
    "    scaler.fit(X_samp)\n",
    "    scaled_X_samp = scaler.transform(X_samp)\n",
    "    pca = PCA(n_components =2)\n",
    "    X_samp_pca=pca.fit_transform(scaled_X_samp)\n",
    "\n",
    "    plt.figure(figsize=(8,6))\n",
    "    color=[\"r\",\"b\"]\n",
    "    color_counter=0\n",
    "    for i in [-1,1]:\n",
    "      plt.scatter(X_samp_pca[:,0][np.where(y_samp==i)],X_samp_pca[:,1][np.where(y_samp==i)], s=10, c=color[color_counter])\n",
    "      color_counter=color_counter+1\n",
    "    plt.legend(['Majority','Manority'],fontsize=10, loc='lower right')\n",
    "    plt.xlabel(\"Principal Component 1\",fontsize=12)\n",
    "    plt.ylabel(\"Principlal Component 2 \",fontsize=12)\n",
    "    plt.title(\"PCA plot of majority class + minority class using\"+\"\"+ oversampler_name_list[oversampler_index]+\"technique\",fontsize=14)\n",
    "\n",
    "\n",
    "  return [cm, acc,b_acc,gm, f1, ck]"
   ]
  },
  {
   "cell_type": "code",
   "execution_count": 35,
   "metadata": {
    "id": "IgFIKCOhK-Z2"
   },
   "outputs": [],
   "source": [
    "def calc_avg_performance(performance_index,results_all_folds):\n",
    "  ## performance index takes the index of the performance measure foe which we want to average over folds\n",
    "  ## results_all_folds are the results of a particular oversampler run over all folds recording all performance measures\n",
    "  s=0\n",
    "  for result in results_all_folds:\n",
    "    s=s+result[performance_index]\n",
    "  avg=s/len(results_all_folds)\n",
    "\n",
    "  s=0\n",
    "  for result in results_all_folds:\n",
    "    s=s+(result[performance_index]-avg)**2\n",
    "  std=np.sqrt(s/len(results_all_folds))\n",
    "  return avg, std"
   ]
  },
  {
   "cell_type": "code",
   "execution_count": 36,
   "metadata": {
    "id": "W1_D8If4PXrF"
   },
   "outputs": [],
   "source": [
    "clf=KNeighborsClassifier(n_neighbors=5)"
   ]
  },
  {
   "cell_type": "code",
   "execution_count": 37,
   "metadata": {
    "id": "01QLZbDTKqAM"
   },
   "outputs": [],
   "source": [
    "perfromance_measures=['accuracy','balanced accuracy','g-mean','f1-score','cohen_kappa']\n",
    "def get_results_all_folds(oversampler_index,classifier, visualize=False, get_detailed_results=False):\n",
    "\n",
    "  results_all_folds=[]\n",
    "  for i in range(len(all_data_folds_list)):\n",
    "    X_train,X_test=all_data_folds_list[i][0],all_data_folds_list[i][1]\n",
    "    y_train,y_test=all_labels_folds_list[i][0],all_labels_folds_list[i][1]\n",
    "    results_single_fold=get_imb_oversampling(X_train,y_train,X_test,y_test,oversampler_index,clf,visualize=visualize)\n",
    "    results_all_folds.append(results_single_fold)\n",
    "\n",
    "  performance_summary_oversampler_classifer={}\n",
    "  for performance_index in range(1,6):\n",
    "    avg_std=calc_avg_performance(performance_index,results_all_folds)\n",
    "    performance_summary_oversampler_classifer[perfromance_measures[performance_index-1]]=avg_std\n",
    "\n",
    "  if get_detailed_results==True:\n",
    "    return results_all_folds, performance_summary_oversampler_classifer\n",
    "  else:\n",
    "    return performance_summary_oversampler_classifer"
   ]
  },
  {
   "cell_type": "code",
   "execution_count": 38,
   "metadata": {
    "colab": {
     "base_uri": "https://localhost:8080/"
    },
    "id": "OXtMFcyQx2iI",
    "outputId": "1039d067-781e-49bf-efd9-715c2e176c94"
   },
   "outputs": [
    {
     "name": "stderr",
     "output_type": "stream",
     "text": [
      "2024-08-20 14:46:09,802:INFO:SMOTE: Running sampling via ('SMOTE', \"{'proportion': 1.0, 'n_neighbors': 5, 'nn_params': {}, 'n_jobs': 1, 'ss_params': {'n_dim': 2, 'simplex_sampling': 'random', 'within_simplex_sampling': 'random', 'gaussian_component': {}}, 'random_state': None, 'class_name': 'SMOTE'}\")\n",
      "2024-08-20 14:46:09,806:INFO:NearestNeighborsWithMetricTensor: NN fitting with metric minkowski\n",
      "2024-08-20 14:46:09,808:INFO:NearestNeighborsWithMetricTensor: kneighbors query minkowski\n",
      "2024-08-20 14:46:09,809:INFO:SMOTE: simplex sampling with n_dim 2\n",
      "2024-08-20 14:46:09,978:INFO:SMOTE: Running sampling via ('SMOTE', \"{'proportion': 1.0, 'n_neighbors': 5, 'nn_params': {}, 'n_jobs': 1, 'ss_params': {'n_dim': 2, 'simplex_sampling': 'random', 'within_simplex_sampling': 'random', 'gaussian_component': {}}, 'random_state': None, 'class_name': 'SMOTE'}\")\n",
      "2024-08-20 14:46:09,979:INFO:NearestNeighborsWithMetricTensor: NN fitting with metric minkowski\n",
      "2024-08-20 14:46:09,980:INFO:NearestNeighborsWithMetricTensor: kneighbors query minkowski\n",
      "2024-08-20 14:46:09,981:INFO:SMOTE: simplex sampling with n_dim 2\n",
      "2024-08-20 14:46:10,148:INFO:SMOTE: Running sampling via ('SMOTE', \"{'proportion': 1.0, 'n_neighbors': 5, 'nn_params': {}, 'n_jobs': 1, 'ss_params': {'n_dim': 2, 'simplex_sampling': 'random', 'within_simplex_sampling': 'random', 'gaussian_component': {}}, 'random_state': None, 'class_name': 'SMOTE'}\")\n",
      "2024-08-20 14:46:10,148:INFO:NearestNeighborsWithMetricTensor: NN fitting with metric minkowski\n",
      "2024-08-20 14:46:10,148:INFO:NearestNeighborsWithMetricTensor: kneighbors query minkowski\n",
      "2024-08-20 14:46:10,156:INFO:SMOTE: simplex sampling with n_dim 2\n"
     ]
    },
    {
     "data": {
      "text/plain": [
       "{'accuracy': (0.9574351184628734, 0.0014663471702170215),\n",
       " 'balanced accuracy': (0.8942360139816947, 0.010394482688024155),\n",
       " 'g-mean': (0.89169441205919, 0.011208422354584316),\n",
       " 'f1-score': (0.47393935016116173, 0.02983274134227196),\n",
       " 'cohen_kappa': (0.4560043722541991, 0.029679972944954943)}"
      ]
     },
     "execution_count": 38,
     "metadata": {},
     "output_type": "execute_result"
    }
   ],
   "source": [
    "get_results_all_folds(0,clf)"
   ]
  },
  {
   "cell_type": "code",
   "execution_count": 39,
   "metadata": {
    "colab": {
     "base_uri": "https://localhost:8080/",
     "height": 1000,
     "referenced_widgets": [
      "3aebd8e7bd524597b99c912ad52b7154",
      "956a756e0ce5445f80758ef343f15134",
      "dc29aa5c6d224e64a9e03a0410f153db",
      "8fb42668fd3c40fe8ccfcfd986fd2443",
      "c43f3a9eb7694203adc106d4d2aad461",
      "d5d6c5c9addd4781baaefe8f397b6475",
      "38eb5b6d04664e8199aef16986827e97",
      "efcc4a2be9f840d885dac747fcb007d6",
      "0db0fff90d59481f9daae70ef4828fd7",
      "1f2fd9672b75428bba0f04748fe7c750",
      "f703a6a5fce04cb883d87170bb057e3f",
      "d229049130ce47a9a2bae7eb2d9ed2c6",
      "8c6a76dc8a964247bc624a759dc8fbe0",
      "78c55e7c69ee40f9b914f547894a8d72",
      "9b9532cdae26418891e622ad111378e9",
      "cf4c08cb41624479a500b109f6697a4f",
      "d8f23621956c410e9c14805ba21e136f",
      "0939169310dc48b88fc53e64443a0fa9",
      "a5202c35bdbf47c99182da549e2eb6eb",
      "894993ff60584d9088c6c7b45a2ac2ae",
      "0b0b90ad6b5041e1b01ce510209ee548",
      "aee64a8897a6456cb2af3cd5773d9c35",
      "6888f90aa821456bb4892bca3c356378",
      "21e6f7b1c1594f689ac16bf5ea7ae953",
      "ba2c2ef6ffbd45ebbacd24615ec8cdc1",
      "e5fc729734f64359b8704ab92cdd6c05",
      "20a37cced35543839c9b4341813c7134",
      "a510448143774750aa45b1f7c2638a93",
      "1993626b1c9342279de6f5aa8f11e8ba",
      "2702ba4555644fa092d2913fe6944f46",
      "db7ffe7fc29344029d02cba5a07e7a3a",
      "c0afed5fa51944038c99e99e5f59e6c8",
      "682bb1a83b3840c7970d65a7a45be7d9"
     ]
    },
    "id": "RwuPg30xR0NZ",
    "outputId": "283d1a46-81f8-4d85-f7b3-d89b3699b43d"
   },
   "outputs": [
    {
     "name": "stderr",
     "output_type": "stream",
     "text": [
      "2024-08-20 14:46:10,338:INFO:SMOTE: Running sampling via ('SMOTE', \"{'proportion': 1.0, 'n_neighbors': 5, 'nn_params': {}, 'n_jobs': 1, 'ss_params': {'n_dim': 2, 'simplex_sampling': 'random', 'within_simplex_sampling': 'random', 'gaussian_component': {}}, 'random_state': None, 'class_name': 'SMOTE'}\")\n",
      "2024-08-20 14:46:10,340:INFO:NearestNeighborsWithMetricTensor: NN fitting with metric minkowski\n",
      "2024-08-20 14:46:10,341:INFO:NearestNeighborsWithMetricTensor: kneighbors query minkowski\n",
      "2024-08-20 14:46:10,344:INFO:SMOTE: simplex sampling with n_dim 2\n",
      "2024-08-20 14:46:10,582:INFO:SMOTE: Running sampling via ('SMOTE', \"{'proportion': 1.0, 'n_neighbors': 5, 'nn_params': {}, 'n_jobs': 1, 'ss_params': {'n_dim': 2, 'simplex_sampling': 'random', 'within_simplex_sampling': 'random', 'gaussian_component': {}}, 'random_state': None, 'class_name': 'SMOTE'}\")\n",
      "2024-08-20 14:46:10,582:INFO:NearestNeighborsWithMetricTensor: NN fitting with metric minkowski\n",
      "2024-08-20 14:46:10,584:INFO:NearestNeighborsWithMetricTensor: kneighbors query minkowski\n",
      "2024-08-20 14:46:10,585:INFO:SMOTE: simplex sampling with n_dim 2\n",
      "2024-08-20 14:46:10,759:INFO:SMOTE: Running sampling via ('SMOTE', \"{'proportion': 1.0, 'n_neighbors': 5, 'nn_params': {}, 'n_jobs': 1, 'ss_params': {'n_dim': 2, 'simplex_sampling': 'random', 'within_simplex_sampling': 'random', 'gaussian_component': {}}, 'random_state': None, 'class_name': 'SMOTE'}\")\n",
      "2024-08-20 14:46:10,759:INFO:NearestNeighborsWithMetricTensor: NN fitting with metric minkowski\n",
      "2024-08-20 14:46:10,761:INFO:NearestNeighborsWithMetricTensor: kneighbors query minkowski\n",
      "2024-08-20 14:46:10,763:INFO:SMOTE: simplex sampling with n_dim 2\n",
      "2024-08-20 14:46:10,932:INFO:polynom_fit_SMOTE_star: Running sampling via ('polynom_fit_SMOTE_star', \"{'proportion': 1.0, 'topology': 'star', 'random_state': None, 'class_name': 'polynom_fit_SMOTE_star'}\")\n",
      "2024-08-20 14:46:10,932:INFO:polynom_fit_SMOTE: Running sampling via ('polynom_fit_SMOTE', \"{'proportion': 1.0, 'topology': 'star', 'random_state': None, 'class_name': 'polynom_fit_SMOTE'}\")\n",
      "2024-08-20 14:46:11,084:INFO:polynom_fit_SMOTE_star: Running sampling via ('polynom_fit_SMOTE_star', \"{'proportion': 1.0, 'topology': 'star', 'random_state': None, 'class_name': 'polynom_fit_SMOTE_star'}\")\n",
      "2024-08-20 14:46:11,084:INFO:polynom_fit_SMOTE: Running sampling via ('polynom_fit_SMOTE', \"{'proportion': 1.0, 'topology': 'star', 'random_state': None, 'class_name': 'polynom_fit_SMOTE'}\")\n",
      "2024-08-20 14:46:11,233:INFO:polynom_fit_SMOTE_star: Running sampling via ('polynom_fit_SMOTE_star', \"{'proportion': 1.0, 'topology': 'star', 'random_state': None, 'class_name': 'polynom_fit_SMOTE_star'}\")\n",
      "2024-08-20 14:46:11,249:INFO:polynom_fit_SMOTE: Running sampling via ('polynom_fit_SMOTE', \"{'proportion': 1.0, 'topology': 'star', 'random_state': None, 'class_name': 'polynom_fit_SMOTE'}\")\n",
      "2024-08-20 14:46:11,401:INFO:ProWSyn: Running sampling via ('ProWSyn', \"{'proportion': 1.0, 'n_neighbors': 5, 'nn_params': {}, 'L': 5, 'theta': 1.0, 'n_jobs': 1, 'ss_params': {'n_dim': 2, 'simplex_sampling': 'random', 'within_simplex_sampling': 'random', 'gaussian_component': {}}, 'random_state': None, 'class_name': 'ProWSyn'}\")\n",
      "2024-08-20 14:46:11,416:INFO:NearestNeighborsWithMetricTensor: NN fitting with metric minkowski\n",
      "2024-08-20 14:46:11,417:INFO:NearestNeighborsWithMetricTensor: kneighbors query minkowski\n",
      "2024-08-20 14:46:11,425:INFO:NearestNeighborsWithMetricTensor: NN fitting with metric minkowski\n",
      "2024-08-20 14:46:11,425:INFO:NearestNeighborsWithMetricTensor: kneighbors query minkowski\n",
      "2024-08-20 14:46:11,425:INFO:NearestNeighborsWithMetricTensor: NN fitting with metric minkowski\n",
      "2024-08-20 14:46:11,425:INFO:NearestNeighborsWithMetricTensor: kneighbors query minkowski\n",
      "2024-08-20 14:46:11,438:INFO:NearestNeighborsWithMetricTensor: NN fitting with metric minkowski\n",
      "2024-08-20 14:46:11,438:INFO:NearestNeighborsWithMetricTensor: kneighbors query minkowski\n",
      "2024-08-20 14:46:11,591:INFO:NearestNeighborsWithMetricTensor: NN fitting with metric minkowski\n",
      "2024-08-20 14:46:11,591:INFO:NearestNeighborsWithMetricTensor: kneighbors query minkowski\n",
      "2024-08-20 14:46:11,627:INFO:ProWSyn: simplex sampling with n_dim 2\n",
      "2024-08-20 14:46:11,634:INFO:ProWSyn: simplex sampling with n_dim 2\n",
      "2024-08-20 14:46:11,636:INFO:ProWSyn: simplex sampling with n_dim 2\n",
      "2024-08-20 14:46:11,638:INFO:ProWSyn: simplex sampling with n_dim 2\n",
      "2024-08-20 14:46:11,639:INFO:ProWSyn: The simplex order was updated from 2 to 1\n",
      "2024-08-20 14:46:11,640:INFO:ProWSyn: simplex sampling with n_dim 1\n",
      "2024-08-20 14:46:11,814:INFO:ProWSyn: Running sampling via ('ProWSyn', \"{'proportion': 1.0, 'n_neighbors': 5, 'nn_params': {}, 'L': 5, 'theta': 1.0, 'n_jobs': 1, 'ss_params': {'n_dim': 2, 'simplex_sampling': 'random', 'within_simplex_sampling': 'random', 'gaussian_component': {}}, 'random_state': None, 'class_name': 'ProWSyn'}\")\n",
      "2024-08-20 14:46:11,815:INFO:NearestNeighborsWithMetricTensor: NN fitting with metric minkowski\n",
      "2024-08-20 14:46:11,816:INFO:NearestNeighborsWithMetricTensor: kneighbors query minkowski\n",
      "2024-08-20 14:46:11,826:INFO:NearestNeighborsWithMetricTensor: NN fitting with metric minkowski\n",
      "2024-08-20 14:46:11,828:INFO:NearestNeighborsWithMetricTensor: kneighbors query minkowski\n",
      "2024-08-20 14:46:11,828:INFO:NearestNeighborsWithMetricTensor: NN fitting with metric minkowski\n",
      "2024-08-20 14:46:11,828:INFO:NearestNeighborsWithMetricTensor: kneighbors query minkowski\n",
      "2024-08-20 14:46:11,842:INFO:NearestNeighborsWithMetricTensor: NN fitting with metric minkowski\n",
      "2024-08-20 14:46:11,843:INFO:NearestNeighborsWithMetricTensor: kneighbors query minkowski\n",
      "2024-08-20 14:46:11,921:INFO:NearestNeighborsWithMetricTensor: NN fitting with metric minkowski\n",
      "2024-08-20 14:46:11,921:INFO:NearestNeighborsWithMetricTensor: kneighbors query minkowski\n",
      "2024-08-20 14:46:11,953:INFO:ProWSyn: simplex sampling with n_dim 2\n",
      "2024-08-20 14:46:11,968:INFO:ProWSyn: simplex sampling with n_dim 2\n",
      "2024-08-20 14:46:11,970:INFO:ProWSyn: simplex sampling with n_dim 2\n",
      "2024-08-20 14:46:11,972:INFO:ProWSyn: simplex sampling with n_dim 2\n",
      "2024-08-20 14:46:11,973:INFO:ProWSyn: The simplex order was updated from 2 to 1\n",
      "2024-08-20 14:46:11,973:INFO:ProWSyn: simplex sampling with n_dim 1\n",
      "2024-08-20 14:46:12,160:INFO:ProWSyn: Running sampling via ('ProWSyn', \"{'proportion': 1.0, 'n_neighbors': 5, 'nn_params': {}, 'L': 5, 'theta': 1.0, 'n_jobs': 1, 'ss_params': {'n_dim': 2, 'simplex_sampling': 'random', 'within_simplex_sampling': 'random', 'gaussian_component': {}}, 'random_state': None, 'class_name': 'ProWSyn'}\")\n",
      "2024-08-20 14:46:12,162:INFO:NearestNeighborsWithMetricTensor: NN fitting with metric minkowski\n",
      "2024-08-20 14:46:12,163:INFO:NearestNeighborsWithMetricTensor: kneighbors query minkowski\n",
      "2024-08-20 14:46:12,172:INFO:NearestNeighborsWithMetricTensor: NN fitting with metric minkowski\n",
      "2024-08-20 14:46:12,173:INFO:NearestNeighborsWithMetricTensor: kneighbors query minkowski\n",
      "2024-08-20 14:46:12,178:INFO:NearestNeighborsWithMetricTensor: NN fitting with metric minkowski\n",
      "2024-08-20 14:46:12,178:INFO:NearestNeighborsWithMetricTensor: kneighbors query minkowski\n",
      "2024-08-20 14:46:12,178:INFO:NearestNeighborsWithMetricTensor: NN fitting with metric minkowski\n",
      "2024-08-20 14:46:12,178:INFO:NearestNeighborsWithMetricTensor: kneighbors query minkowski\n",
      "2024-08-20 14:46:12,214:INFO:NearestNeighborsWithMetricTensor: NN fitting with metric minkowski\n",
      "2024-08-20 14:46:12,221:INFO:NearestNeighborsWithMetricTensor: kneighbors query minkowski\n",
      "2024-08-20 14:46:12,247:INFO:ProWSyn: simplex sampling with n_dim 2\n",
      "2024-08-20 14:46:12,260:INFO:ProWSyn: simplex sampling with n_dim 2\n",
      "2024-08-20 14:46:12,262:INFO:ProWSyn: simplex sampling with n_dim 2\n",
      "2024-08-20 14:46:12,263:INFO:ProWSyn: simplex sampling with n_dim 2\n",
      "2024-08-20 14:46:12,264:INFO:ProWSyn: The simplex order was updated from 2 to 1\n",
      "2024-08-20 14:46:12,265:INFO:ProWSyn: simplex sampling with n_dim 1\n",
      "2024-08-20 14:46:12,432:INFO:Lee: Running sampling via ('Lee', \"{'proportion': 1.0, 'n_neighbors': 5, 'nn_params': {}, 'rejection_level': 0.5, 'n_jobs': 1, 'ss_params': {'n_dim': 2, 'simplex_sampling': 'random', 'within_simplex_sampling': 'random', 'gaussian_component': {}}, 'random_state': None, 'class_name': 'Lee'}\")\n",
      "2024-08-20 14:46:12,433:INFO:NearestNeighborsWithMetricTensor: NN fitting with metric minkowski\n",
      "2024-08-20 14:46:12,439:INFO:NearestNeighborsWithMetricTensor: NN fitting with metric minkowski\n",
      "2024-08-20 14:46:12,440:INFO:NearestNeighborsWithMetricTensor: kneighbors query minkowski\n",
      "2024-08-20 14:46:12,441:INFO:Lee: simplex sampling with n_dim 2\n",
      "2024-08-20 14:46:12,444:INFO:NearestNeighborsWithMetricTensor: kneighbors query minkowski\n",
      "2024-08-20 14:46:12,501:INFO:Lee: simplex sampling with n_dim 2\n",
      "2024-08-20 14:46:12,504:INFO:NearestNeighborsWithMetricTensor: kneighbors query minkowski\n",
      "2024-08-20 14:46:12,526:INFO:Lee: simplex sampling with n_dim 2\n",
      "2024-08-20 14:46:12,528:INFO:NearestNeighborsWithMetricTensor: kneighbors query minkowski\n",
      "2024-08-20 14:46:12,537:INFO:Lee: simplex sampling with n_dim 2\n",
      "2024-08-20 14:46:12,538:INFO:NearestNeighborsWithMetricTensor: kneighbors query minkowski\n",
      "2024-08-20 14:46:12,542:INFO:Lee: simplex sampling with n_dim 2\n",
      "2024-08-20 14:46:12,544:INFO:NearestNeighborsWithMetricTensor: kneighbors query minkowski\n",
      "2024-08-20 14:46:12,547:INFO:Lee: simplex sampling with n_dim 2\n",
      "2024-08-20 14:46:12,547:INFO:NearestNeighborsWithMetricTensor: kneighbors query minkowski\n",
      "2024-08-20 14:46:12,547:INFO:Lee: simplex sampling with n_dim 2\n",
      "2024-08-20 14:46:12,554:INFO:NearestNeighborsWithMetricTensor: kneighbors query minkowski\n",
      "2024-08-20 14:46:12,556:INFO:Lee: simplex sampling with n_dim 2\n",
      "2024-08-20 14:46:12,557:INFO:NearestNeighborsWithMetricTensor: kneighbors query minkowski\n",
      "2024-08-20 14:46:12,723:INFO:Lee: Running sampling via ('Lee', \"{'proportion': 1.0, 'n_neighbors': 5, 'nn_params': {}, 'rejection_level': 0.5, 'n_jobs': 1, 'ss_params': {'n_dim': 2, 'simplex_sampling': 'random', 'within_simplex_sampling': 'random', 'gaussian_component': {}}, 'random_state': None, 'class_name': 'Lee'}\")\n",
      "2024-08-20 14:46:12,723:INFO:NearestNeighborsWithMetricTensor: NN fitting with metric minkowski\n",
      "2024-08-20 14:46:12,729:INFO:NearestNeighborsWithMetricTensor: NN fitting with metric minkowski\n",
      "2024-08-20 14:46:12,730:INFO:NearestNeighborsWithMetricTensor: kneighbors query minkowski\n",
      "2024-08-20 14:46:12,731:INFO:Lee: simplex sampling with n_dim 2\n",
      "2024-08-20 14:46:12,734:INFO:NearestNeighborsWithMetricTensor: kneighbors query minkowski\n",
      "2024-08-20 14:46:12,789:INFO:Lee: simplex sampling with n_dim 2\n",
      "2024-08-20 14:46:12,791:INFO:NearestNeighborsWithMetricTensor: kneighbors query minkowski\n",
      "2024-08-20 14:46:12,806:INFO:Lee: simplex sampling with n_dim 2\n",
      "2024-08-20 14:46:12,810:INFO:NearestNeighborsWithMetricTensor: kneighbors query minkowski\n",
      "2024-08-20 14:46:12,817:INFO:Lee: simplex sampling with n_dim 2\n",
      "2024-08-20 14:46:12,817:INFO:NearestNeighborsWithMetricTensor: kneighbors query minkowski\n",
      "2024-08-20 14:46:12,822:INFO:Lee: simplex sampling with n_dim 2\n",
      "2024-08-20 14:46:12,825:INFO:NearestNeighborsWithMetricTensor: kneighbors query minkowski\n",
      "2024-08-20 14:46:12,826:INFO:Lee: simplex sampling with n_dim 2\n",
      "2024-08-20 14:46:12,827:INFO:NearestNeighborsWithMetricTensor: kneighbors query minkowski\n",
      "2024-08-20 14:46:12,988:INFO:Lee: Running sampling via ('Lee', \"{'proportion': 1.0, 'n_neighbors': 5, 'nn_params': {}, 'rejection_level': 0.5, 'n_jobs': 1, 'ss_params': {'n_dim': 2, 'simplex_sampling': 'random', 'within_simplex_sampling': 'random', 'gaussian_component': {}}, 'random_state': None, 'class_name': 'Lee'}\")\n",
      "2024-08-20 14:46:12,989:INFO:NearestNeighborsWithMetricTensor: NN fitting with metric minkowski\n",
      "2024-08-20 14:46:12,995:INFO:NearestNeighborsWithMetricTensor: NN fitting with metric minkowski\n",
      "2024-08-20 14:46:12,997:INFO:NearestNeighborsWithMetricTensor: kneighbors query minkowski\n",
      "2024-08-20 14:46:12,998:INFO:Lee: simplex sampling with n_dim 2\n",
      "2024-08-20 14:46:13,000:INFO:NearestNeighborsWithMetricTensor: kneighbors query minkowski\n",
      "2024-08-20 14:46:13,054:INFO:Lee: simplex sampling with n_dim 2\n",
      "2024-08-20 14:46:13,056:INFO:NearestNeighborsWithMetricTensor: kneighbors query minkowski\n",
      "2024-08-20 14:46:13,076:INFO:Lee: simplex sampling with n_dim 2\n",
      "2024-08-20 14:46:13,078:INFO:NearestNeighborsWithMetricTensor: kneighbors query minkowski\n",
      "2024-08-20 14:46:13,078:INFO:Lee: simplex sampling with n_dim 2\n",
      "2024-08-20 14:46:13,088:INFO:NearestNeighborsWithMetricTensor: kneighbors query minkowski\n",
      "2024-08-20 14:46:13,091:INFO:Lee: simplex sampling with n_dim 2\n",
      "2024-08-20 14:46:13,092:INFO:NearestNeighborsWithMetricTensor: kneighbors query minkowski\n",
      "2024-08-20 14:46:13,094:INFO:Lee: simplex sampling with n_dim 2\n",
      "2024-08-20 14:46:13,095:INFO:NearestNeighborsWithMetricTensor: kneighbors query minkowski\n",
      "2024-08-20 14:46:13,096:INFO:Lee: simplex sampling with n_dim 2\n",
      "2024-08-20 14:46:13,097:INFO:NearestNeighborsWithMetricTensor: kneighbors query minkowski\n"
     ]
    },
    {
     "data": {
      "application/vnd.jupyter.widget-view+json": {
       "model_id": "569e5ca0fb0342b5bcab2651e26344f0",
       "version_major": 2,
       "version_minor": 0
      },
      "text/plain": [
       "  0%|          | 0/17104 [00:00<?, ?it/s]"
      ]
     },
     "metadata": {},
     "output_type": "display_data"
    },
    {
     "data": {
      "application/vnd.jupyter.widget-view+json": {
       "model_id": "817f3de662644c519307efde79115f86",
       "version_major": 2,
       "version_minor": 0
      },
      "text/plain": [
       "  0%|          | 0/17092 [00:00<?, ?it/s]"
      ]
     },
     "metadata": {},
     "output_type": "display_data"
    },
    {
     "data": {
      "application/vnd.jupyter.widget-view+json": {
       "model_id": "9d099825c8bd47c5b7eacb402b86baa7",
       "version_major": 2,
       "version_minor": 0
      },
      "text/plain": [
       "  0%|          | 0/17130 [00:00<?, ?it/s]"
      ]
     },
     "metadata": {},
     "output_type": "display_data"
    }
   ],
   "source": [
    "summary_performace_for_all_oversampling_algorithms_all_folds=[]\n",
    "for i in range(len(oversampler_object_list)):\n",
    "  summary_performace_for_all_oversampling_algorithms_all_folds.append(get_results_all_folds(i,clf))"
   ]
  },
  {
   "cell_type": "code",
   "execution_count": 40,
   "metadata": {
    "id": "xgkf2MdWmmcS"
   },
   "outputs": [],
   "source": [
    "summary_performace_for_all_oversampling_algorithms_all_folds_list=np.array([[[round(i,3) for i in summary_performace_for_all_oversampling_algorithms_all_folds[oversampler_index][key]] for key in summary_performace_for_all_oversampling_algorithms_all_folds[0].keys()] for oversampler_index in range(len(oversampler_name_list))])"
   ]
  },
  {
   "cell_type": "code",
   "execution_count": 41,
   "metadata": {
    "id": "4C4SoQ5gqC8w"
   },
   "outputs": [],
   "source": [
    "oversamplers_result_summary_list=[]\n",
    "for i in range(summary_performace_for_all_oversampling_algorithms_all_folds_list.shape[0]):\n",
    "  performance_results_summary_list=[]\n",
    "  for j in range(summary_performace_for_all_oversampling_algorithms_all_folds_list.shape[1]):\n",
    "    performance_results_summary_list.append(str(summary_performace_for_all_oversampling_algorithms_all_folds_list[i][j][0])+\"\\u00B1\"+str(summary_performace_for_all_oversampling_algorithms_all_folds_list[i][j][1]))\n",
    "  oversamplers_result_summary_list.append(performance_results_summary_list)\n",
    "oversamplers_result_summary_list=np.array(oversamplers_result_summary_list)"
   ]
  },
  {
   "cell_type": "code",
   "execution_count": 42,
   "metadata": {
    "colab": {
     "base_uri": "https://localhost:8080/"
    },
    "id": "9EGIWVXxPHpd",
    "outputId": "3164979c-05bd-492b-bfa1-3b4801d6f9ef"
   },
   "outputs": [
    {
     "data": {
      "text/plain": [
       "['0.98±0.002', '0.802±0.032', '0.778±0.04', '0.588±0.035', '0.578±0.036']"
      ]
     },
     "execution_count": 42,
     "metadata": {},
     "output_type": "execute_result"
    }
   ],
   "source": [
    "performance_results_summary_list"
   ]
  },
  {
   "cell_type": "code",
   "execution_count": 43,
   "metadata": {
    "colab": {
     "base_uri": "https://localhost:8080/"
    },
    "id": "08pZzcvLqvF_",
    "outputId": "01c66f6b-54de-4cc5-ca4b-e7f1609686d1"
   },
   "outputs": [
    {
     "data": {
      "text/plain": [
       "array([['0.957±0.001', '0.892±0.012', '0.889±0.013', '0.473±0.031',\n",
       "        '0.455±0.031'],\n",
       "       ['0.97±0.002', '0.877±0.028', '0.871±0.031', '0.544±0.021',\n",
       "        '0.529±0.021'],\n",
       "       ['0.958±0.002', '0.898±0.019', '0.896±0.02', '0.478±0.019',\n",
       "        '0.46±0.018'],\n",
       "       ['0.981±0.002', '0.863±0.021', '0.854±0.024', '0.648±0.037',\n",
       "        '0.639±0.038'],\n",
       "       ['0.98±0.002', '0.802±0.032', '0.778±0.04', '0.588±0.035',\n",
       "        '0.578±0.036']], dtype='<U11')"
      ]
     },
     "execution_count": 43,
     "metadata": {},
     "output_type": "execute_result"
    }
   ],
   "source": [
    "oversamplers_result_summary_list"
   ]
  },
  {
   "cell_type": "code",
   "execution_count": 44,
   "metadata": {
    "id": "GCiYdu2Jqvgp"
   },
   "outputs": [],
   "source": [
    "df=pd.DataFrame(oversamplers_result_summary_list,columns=perfromance_measures,index=oversampler_name_list)"
   ]
  },
  {
   "cell_type": "code",
   "execution_count": 45,
   "metadata": {
    "colab": {
     "base_uri": "https://localhost:8080/",
     "height": 206
    },
    "id": "3C4ve34F7-XI",
    "outputId": "4ecaea07-139c-45fd-db62-316f728e8f1b"
   },
   "outputs": [
    {
     "data": {
      "text/html": [
       "<div>\n",
       "<style scoped>\n",
       "    .dataframe tbody tr th:only-of-type {\n",
       "        vertical-align: middle;\n",
       "    }\n",
       "\n",
       "    .dataframe tbody tr th {\n",
       "        vertical-align: top;\n",
       "    }\n",
       "\n",
       "    .dataframe thead th {\n",
       "        text-align: right;\n",
       "    }\n",
       "</style>\n",
       "<table border=\"1\" class=\"dataframe\">\n",
       "  <thead>\n",
       "    <tr style=\"text-align: right;\">\n",
       "      <th></th>\n",
       "      <th>accuracy</th>\n",
       "      <th>balanced accuracy</th>\n",
       "      <th>g-mean</th>\n",
       "      <th>f1-score</th>\n",
       "      <th>cohen_kappa</th>\n",
       "    </tr>\n",
       "  </thead>\n",
       "  <tbody>\n",
       "    <tr>\n",
       "      <th>SMOTE</th>\n",
       "      <td>0.957±0.001</td>\n",
       "      <td>0.892±0.012</td>\n",
       "      <td>0.889±0.013</td>\n",
       "      <td>0.473±0.031</td>\n",
       "      <td>0.455±0.031</td>\n",
       "    </tr>\n",
       "    <tr>\n",
       "      <th>polynome_fit_SMOTE</th>\n",
       "      <td>0.97±0.002</td>\n",
       "      <td>0.877±0.028</td>\n",
       "      <td>0.871±0.031</td>\n",
       "      <td>0.544±0.021</td>\n",
       "      <td>0.529±0.021</td>\n",
       "    </tr>\n",
       "    <tr>\n",
       "      <th>ProWSyn</th>\n",
       "      <td>0.958±0.002</td>\n",
       "      <td>0.898±0.019</td>\n",
       "      <td>0.896±0.02</td>\n",
       "      <td>0.478±0.019</td>\n",
       "      <td>0.46±0.018</td>\n",
       "    </tr>\n",
       "    <tr>\n",
       "      <th>Lee</th>\n",
       "      <td>0.981±0.002</td>\n",
       "      <td>0.863±0.021</td>\n",
       "      <td>0.854±0.024</td>\n",
       "      <td>0.648±0.037</td>\n",
       "      <td>0.639±0.038</td>\n",
       "    </tr>\n",
       "    <tr>\n",
       "      <th>Metropolis_hastings</th>\n",
       "      <td>0.98±0.002</td>\n",
       "      <td>0.802±0.032</td>\n",
       "      <td>0.778±0.04</td>\n",
       "      <td>0.588±0.035</td>\n",
       "      <td>0.578±0.036</td>\n",
       "    </tr>\n",
       "  </tbody>\n",
       "</table>\n",
       "</div>"
      ],
      "text/plain": [
       "                        accuracy balanced accuracy       g-mean     f1-score  \\\n",
       "SMOTE                0.957±0.001       0.892±0.012  0.889±0.013  0.473±0.031   \n",
       "polynome_fit_SMOTE    0.97±0.002       0.877±0.028  0.871±0.031  0.544±0.021   \n",
       "ProWSyn              0.958±0.002       0.898±0.019   0.896±0.02  0.478±0.019   \n",
       "Lee                  0.981±0.002       0.863±0.021  0.854±0.024  0.648±0.037   \n",
       "Metropolis_hastings   0.98±0.002       0.802±0.032   0.778±0.04  0.588±0.035   \n",
       "\n",
       "                     cohen_kappa  \n",
       "SMOTE                0.455±0.031  \n",
       "polynome_fit_SMOTE   0.529±0.021  \n",
       "ProWSyn               0.46±0.018  \n",
       "Lee                  0.639±0.038  \n",
       "Metropolis_hastings  0.578±0.036  "
      ]
     },
     "execution_count": 45,
     "metadata": {},
     "output_type": "execute_result"
    }
   ],
   "source": [
    "df"
   ]
  },
  {
   "cell_type": "code",
   "execution_count": 46,
   "metadata": {
    "id": "Lr7YA-yBEUmt"
   },
   "outputs": [],
   "source": [
    "with pd.ExcelWriter('KNN_clf_result_for_data1.xlsx') as excel_writer:\n",
    "  df.to_excel(excel_writer,sheet_name='sheet_1')"
   ]
  },
  {
   "cell_type": "code",
   "execution_count": null,
   "metadata": {},
   "outputs": [],
   "source": []
  }
 ],
 "metadata": {
  "colab": {
   "provenance": []
  },
  "kernelspec": {
   "display_name": "Python 3 (ipykernel)",
   "language": "python",
   "name": "python3"
  },
  "language_info": {
   "codemirror_mode": {
    "name": "ipython",
    "version": 3
   },
   "file_extension": ".py",
   "mimetype": "text/x-python",
   "name": "python",
   "nbconvert_exporter": "python",
   "pygments_lexer": "ipython3",
   "version": "3.12.4"
  },
  "widgets": {
   "application/vnd.jupyter.widget-state+json": {
    "0939169310dc48b88fc53e64443a0fa9": {
     "model_module": "@jupyter-widgets/controls",
     "model_module_version": "1.5.0",
     "model_name": "DescriptionStyleModel",
     "state": {
      "_model_module": "@jupyter-widgets/controls",
      "_model_module_version": "1.5.0",
      "_model_name": "DescriptionStyleModel",
      "_view_count": null,
      "_view_module": "@jupyter-widgets/base",
      "_view_module_version": "1.2.0",
      "_view_name": "StyleView",
      "description_width": ""
     }
    },
    "0b0b90ad6b5041e1b01ce510209ee548": {
     "model_module": "@jupyter-widgets/base",
     "model_module_version": "1.2.0",
     "model_name": "LayoutModel",
     "state": {
      "_model_module": "@jupyter-widgets/base",
      "_model_module_version": "1.2.0",
      "_model_name": "LayoutModel",
      "_view_count": null,
      "_view_module": "@jupyter-widgets/base",
      "_view_module_version": "1.2.0",
      "_view_name": "LayoutView",
      "align_content": null,
      "align_items": null,
      "align_self": null,
      "border": null,
      "bottom": null,
      "display": null,
      "flex": null,
      "flex_flow": null,
      "grid_area": null,
      "grid_auto_columns": null,
      "grid_auto_flow": null,
      "grid_auto_rows": null,
      "grid_column": null,
      "grid_gap": null,
      "grid_row": null,
      "grid_template_areas": null,
      "grid_template_columns": null,
      "grid_template_rows": null,
      "height": null,
      "justify_content": null,
      "justify_items": null,
      "left": null,
      "margin": null,
      "max_height": null,
      "max_width": null,
      "min_height": null,
      "min_width": null,
      "object_fit": null,
      "object_position": null,
      "order": null,
      "overflow": null,
      "overflow_x": null,
      "overflow_y": null,
      "padding": null,
      "right": null,
      "top": null,
      "visibility": null,
      "width": null
     }
    },
    "0db0fff90d59481f9daae70ef4828fd7": {
     "model_module": "@jupyter-widgets/controls",
     "model_module_version": "1.5.0",
     "model_name": "ProgressStyleModel",
     "state": {
      "_model_module": "@jupyter-widgets/controls",
      "_model_module_version": "1.5.0",
      "_model_name": "ProgressStyleModel",
      "_view_count": null,
      "_view_module": "@jupyter-widgets/base",
      "_view_module_version": "1.2.0",
      "_view_name": "StyleView",
      "bar_color": null,
      "description_width": ""
     }
    },
    "1993626b1c9342279de6f5aa8f11e8ba": {
     "model_module": "@jupyter-widgets/controls",
     "model_module_version": "1.5.0",
     "model_name": "DescriptionStyleModel",
     "state": {
      "_model_module": "@jupyter-widgets/controls",
      "_model_module_version": "1.5.0",
      "_model_name": "DescriptionStyleModel",
      "_view_count": null,
      "_view_module": "@jupyter-widgets/base",
      "_view_module_version": "1.2.0",
      "_view_name": "StyleView",
      "description_width": ""
     }
    },
    "1f2fd9672b75428bba0f04748fe7c750": {
     "model_module": "@jupyter-widgets/base",
     "model_module_version": "1.2.0",
     "model_name": "LayoutModel",
     "state": {
      "_model_module": "@jupyter-widgets/base",
      "_model_module_version": "1.2.0",
      "_model_name": "LayoutModel",
      "_view_count": null,
      "_view_module": "@jupyter-widgets/base",
      "_view_module_version": "1.2.0",
      "_view_name": "LayoutView",
      "align_content": null,
      "align_items": null,
      "align_self": null,
      "border": null,
      "bottom": null,
      "display": null,
      "flex": null,
      "flex_flow": null,
      "grid_area": null,
      "grid_auto_columns": null,
      "grid_auto_flow": null,
      "grid_auto_rows": null,
      "grid_column": null,
      "grid_gap": null,
      "grid_row": null,
      "grid_template_areas": null,
      "grid_template_columns": null,
      "grid_template_rows": null,
      "height": null,
      "justify_content": null,
      "justify_items": null,
      "left": null,
      "margin": null,
      "max_height": null,
      "max_width": null,
      "min_height": null,
      "min_width": null,
      "object_fit": null,
      "object_position": null,
      "order": null,
      "overflow": null,
      "overflow_x": null,
      "overflow_y": null,
      "padding": null,
      "right": null,
      "top": null,
      "visibility": null,
      "width": null
     }
    },
    "20a37cced35543839c9b4341813c7134": {
     "model_module": "@jupyter-widgets/base",
     "model_module_version": "1.2.0",
     "model_name": "LayoutModel",
     "state": {
      "_model_module": "@jupyter-widgets/base",
      "_model_module_version": "1.2.0",
      "_model_name": "LayoutModel",
      "_view_count": null,
      "_view_module": "@jupyter-widgets/base",
      "_view_module_version": "1.2.0",
      "_view_name": "LayoutView",
      "align_content": null,
      "align_items": null,
      "align_self": null,
      "border": null,
      "bottom": null,
      "display": null,
      "flex": null,
      "flex_flow": null,
      "grid_area": null,
      "grid_auto_columns": null,
      "grid_auto_flow": null,
      "grid_auto_rows": null,
      "grid_column": null,
      "grid_gap": null,
      "grid_row": null,
      "grid_template_areas": null,
      "grid_template_columns": null,
      "grid_template_rows": null,
      "height": null,
      "justify_content": null,
      "justify_items": null,
      "left": null,
      "margin": null,
      "max_height": null,
      "max_width": null,
      "min_height": null,
      "min_width": null,
      "object_fit": null,
      "object_position": null,
      "order": null,
      "overflow": null,
      "overflow_x": null,
      "overflow_y": null,
      "padding": null,
      "right": null,
      "top": null,
      "visibility": null,
      "width": null
     }
    },
    "21e6f7b1c1594f689ac16bf5ea7ae953": {
     "model_module": "@jupyter-widgets/controls",
     "model_module_version": "1.5.0",
     "model_name": "HTMLModel",
     "state": {
      "_dom_classes": [],
      "_model_module": "@jupyter-widgets/controls",
      "_model_module_version": "1.5.0",
      "_model_name": "HTMLModel",
      "_view_count": null,
      "_view_module": "@jupyter-widgets/controls",
      "_view_module_version": "1.5.0",
      "_view_name": "HTMLView",
      "description": "",
      "description_tooltip": null,
      "layout": "IPY_MODEL_a510448143774750aa45b1f7c2638a93",
      "placeholder": "​",
      "style": "IPY_MODEL_1993626b1c9342279de6f5aa8f11e8ba",
      "value": "100%"
     }
    },
    "2702ba4555644fa092d2913fe6944f46": {
     "model_module": "@jupyter-widgets/base",
     "model_module_version": "1.2.0",
     "model_name": "LayoutModel",
     "state": {
      "_model_module": "@jupyter-widgets/base",
      "_model_module_version": "1.2.0",
      "_model_name": "LayoutModel",
      "_view_count": null,
      "_view_module": "@jupyter-widgets/base",
      "_view_module_version": "1.2.0",
      "_view_name": "LayoutView",
      "align_content": null,
      "align_items": null,
      "align_self": null,
      "border": null,
      "bottom": null,
      "display": null,
      "flex": null,
      "flex_flow": null,
      "grid_area": null,
      "grid_auto_columns": null,
      "grid_auto_flow": null,
      "grid_auto_rows": null,
      "grid_column": null,
      "grid_gap": null,
      "grid_row": null,
      "grid_template_areas": null,
      "grid_template_columns": null,
      "grid_template_rows": null,
      "height": null,
      "justify_content": null,
      "justify_items": null,
      "left": null,
      "margin": null,
      "max_height": null,
      "max_width": null,
      "min_height": null,
      "min_width": null,
      "object_fit": null,
      "object_position": null,
      "order": null,
      "overflow": null,
      "overflow_x": null,
      "overflow_y": null,
      "padding": null,
      "right": null,
      "top": null,
      "visibility": null,
      "width": null
     }
    },
    "38eb5b6d04664e8199aef16986827e97": {
     "model_module": "@jupyter-widgets/controls",
     "model_module_version": "1.5.0",
     "model_name": "DescriptionStyleModel",
     "state": {
      "_model_module": "@jupyter-widgets/controls",
      "_model_module_version": "1.5.0",
      "_model_name": "DescriptionStyleModel",
      "_view_count": null,
      "_view_module": "@jupyter-widgets/base",
      "_view_module_version": "1.2.0",
      "_view_name": "StyleView",
      "description_width": ""
     }
    },
    "3aebd8e7bd524597b99c912ad52b7154": {
     "model_module": "@jupyter-widgets/controls",
     "model_module_version": "1.5.0",
     "model_name": "HBoxModel",
     "state": {
      "_dom_classes": [],
      "_model_module": "@jupyter-widgets/controls",
      "_model_module_version": "1.5.0",
      "_model_name": "HBoxModel",
      "_view_count": null,
      "_view_module": "@jupyter-widgets/controls",
      "_view_module_version": "1.5.0",
      "_view_name": "HBoxView",
      "box_style": "",
      "children": [
       "IPY_MODEL_956a756e0ce5445f80758ef343f15134",
       "IPY_MODEL_dc29aa5c6d224e64a9e03a0410f153db",
       "IPY_MODEL_8fb42668fd3c40fe8ccfcfd986fd2443"
      ],
      "layout": "IPY_MODEL_c43f3a9eb7694203adc106d4d2aad461"
     }
    },
    "682bb1a83b3840c7970d65a7a45be7d9": {
     "model_module": "@jupyter-widgets/controls",
     "model_module_version": "1.5.0",
     "model_name": "DescriptionStyleModel",
     "state": {
      "_model_module": "@jupyter-widgets/controls",
      "_model_module_version": "1.5.0",
      "_model_name": "DescriptionStyleModel",
      "_view_count": null,
      "_view_module": "@jupyter-widgets/base",
      "_view_module_version": "1.2.0",
      "_view_name": "StyleView",
      "description_width": ""
     }
    },
    "6888f90aa821456bb4892bca3c356378": {
     "model_module": "@jupyter-widgets/controls",
     "model_module_version": "1.5.0",
     "model_name": "HBoxModel",
     "state": {
      "_dom_classes": [],
      "_model_module": "@jupyter-widgets/controls",
      "_model_module_version": "1.5.0",
      "_model_name": "HBoxModel",
      "_view_count": null,
      "_view_module": "@jupyter-widgets/controls",
      "_view_module_version": "1.5.0",
      "_view_name": "HBoxView",
      "box_style": "",
      "children": [
       "IPY_MODEL_21e6f7b1c1594f689ac16bf5ea7ae953",
       "IPY_MODEL_ba2c2ef6ffbd45ebbacd24615ec8cdc1",
       "IPY_MODEL_e5fc729734f64359b8704ab92cdd6c05"
      ],
      "layout": "IPY_MODEL_20a37cced35543839c9b4341813c7134"
     }
    },
    "78c55e7c69ee40f9b914f547894a8d72": {
     "model_module": "@jupyter-widgets/controls",
     "model_module_version": "1.5.0",
     "model_name": "FloatProgressModel",
     "state": {
      "_dom_classes": [],
      "_model_module": "@jupyter-widgets/controls",
      "_model_module_version": "1.5.0",
      "_model_name": "FloatProgressModel",
      "_view_count": null,
      "_view_module": "@jupyter-widgets/controls",
      "_view_module_version": "1.5.0",
      "_view_name": "ProgressView",
      "bar_style": "success",
      "description": "",
      "description_tooltip": null,
      "layout": "IPY_MODEL_a5202c35bdbf47c99182da549e2eb6eb",
      "max": 17092,
      "min": 0,
      "orientation": "horizontal",
      "style": "IPY_MODEL_894993ff60584d9088c6c7b45a2ac2ae",
      "value": 17092
     }
    },
    "894993ff60584d9088c6c7b45a2ac2ae": {
     "model_module": "@jupyter-widgets/controls",
     "model_module_version": "1.5.0",
     "model_name": "ProgressStyleModel",
     "state": {
      "_model_module": "@jupyter-widgets/controls",
      "_model_module_version": "1.5.0",
      "_model_name": "ProgressStyleModel",
      "_view_count": null,
      "_view_module": "@jupyter-widgets/base",
      "_view_module_version": "1.2.0",
      "_view_name": "StyleView",
      "bar_color": null,
      "description_width": ""
     }
    },
    "8c6a76dc8a964247bc624a759dc8fbe0": {
     "model_module": "@jupyter-widgets/controls",
     "model_module_version": "1.5.0",
     "model_name": "HTMLModel",
     "state": {
      "_dom_classes": [],
      "_model_module": "@jupyter-widgets/controls",
      "_model_module_version": "1.5.0",
      "_model_name": "HTMLModel",
      "_view_count": null,
      "_view_module": "@jupyter-widgets/controls",
      "_view_module_version": "1.5.0",
      "_view_name": "HTMLView",
      "description": "",
      "description_tooltip": null,
      "layout": "IPY_MODEL_d8f23621956c410e9c14805ba21e136f",
      "placeholder": "​",
      "style": "IPY_MODEL_0939169310dc48b88fc53e64443a0fa9",
      "value": "100%"
     }
    },
    "8fb42668fd3c40fe8ccfcfd986fd2443": {
     "model_module": "@jupyter-widgets/controls",
     "model_module_version": "1.5.0",
     "model_name": "HTMLModel",
     "state": {
      "_dom_classes": [],
      "_model_module": "@jupyter-widgets/controls",
      "_model_module_version": "1.5.0",
      "_model_name": "HTMLModel",
      "_view_count": null,
      "_view_module": "@jupyter-widgets/controls",
      "_view_module_version": "1.5.0",
      "_view_name": "HTMLView",
      "description": "",
      "description_tooltip": null,
      "layout": "IPY_MODEL_1f2fd9672b75428bba0f04748fe7c750",
      "placeholder": "​",
      "style": "IPY_MODEL_f703a6a5fce04cb883d87170bb057e3f",
      "value": " 17104/17104 [07:11&lt;00:00, 53.18it/s]"
     }
    },
    "956a756e0ce5445f80758ef343f15134": {
     "model_module": "@jupyter-widgets/controls",
     "model_module_version": "1.5.0",
     "model_name": "HTMLModel",
     "state": {
      "_dom_classes": [],
      "_model_module": "@jupyter-widgets/controls",
      "_model_module_version": "1.5.0",
      "_model_name": "HTMLModel",
      "_view_count": null,
      "_view_module": "@jupyter-widgets/controls",
      "_view_module_version": "1.5.0",
      "_view_name": "HTMLView",
      "description": "",
      "description_tooltip": null,
      "layout": "IPY_MODEL_d5d6c5c9addd4781baaefe8f397b6475",
      "placeholder": "​",
      "style": "IPY_MODEL_38eb5b6d04664e8199aef16986827e97",
      "value": "100%"
     }
    },
    "9b9532cdae26418891e622ad111378e9": {
     "model_module": "@jupyter-widgets/controls",
     "model_module_version": "1.5.0",
     "model_name": "HTMLModel",
     "state": {
      "_dom_classes": [],
      "_model_module": "@jupyter-widgets/controls",
      "_model_module_version": "1.5.0",
      "_model_name": "HTMLModel",
      "_view_count": null,
      "_view_module": "@jupyter-widgets/controls",
      "_view_module_version": "1.5.0",
      "_view_name": "HTMLView",
      "description": "",
      "description_tooltip": null,
      "layout": "IPY_MODEL_0b0b90ad6b5041e1b01ce510209ee548",
      "placeholder": "​",
      "style": "IPY_MODEL_aee64a8897a6456cb2af3cd5773d9c35",
      "value": " 17092/17092 [07:22&lt;00:00, 51.44it/s]"
     }
    },
    "a510448143774750aa45b1f7c2638a93": {
     "model_module": "@jupyter-widgets/base",
     "model_module_version": "1.2.0",
     "model_name": "LayoutModel",
     "state": {
      "_model_module": "@jupyter-widgets/base",
      "_model_module_version": "1.2.0",
      "_model_name": "LayoutModel",
      "_view_count": null,
      "_view_module": "@jupyter-widgets/base",
      "_view_module_version": "1.2.0",
      "_view_name": "LayoutView",
      "align_content": null,
      "align_items": null,
      "align_self": null,
      "border": null,
      "bottom": null,
      "display": null,
      "flex": null,
      "flex_flow": null,
      "grid_area": null,
      "grid_auto_columns": null,
      "grid_auto_flow": null,
      "grid_auto_rows": null,
      "grid_column": null,
      "grid_gap": null,
      "grid_row": null,
      "grid_template_areas": null,
      "grid_template_columns": null,
      "grid_template_rows": null,
      "height": null,
      "justify_content": null,
      "justify_items": null,
      "left": null,
      "margin": null,
      "max_height": null,
      "max_width": null,
      "min_height": null,
      "min_width": null,
      "object_fit": null,
      "object_position": null,
      "order": null,
      "overflow": null,
      "overflow_x": null,
      "overflow_y": null,
      "padding": null,
      "right": null,
      "top": null,
      "visibility": null,
      "width": null
     }
    },
    "a5202c35bdbf47c99182da549e2eb6eb": {
     "model_module": "@jupyter-widgets/base",
     "model_module_version": "1.2.0",
     "model_name": "LayoutModel",
     "state": {
      "_model_module": "@jupyter-widgets/base",
      "_model_module_version": "1.2.0",
      "_model_name": "LayoutModel",
      "_view_count": null,
      "_view_module": "@jupyter-widgets/base",
      "_view_module_version": "1.2.0",
      "_view_name": "LayoutView",
      "align_content": null,
      "align_items": null,
      "align_self": null,
      "border": null,
      "bottom": null,
      "display": null,
      "flex": null,
      "flex_flow": null,
      "grid_area": null,
      "grid_auto_columns": null,
      "grid_auto_flow": null,
      "grid_auto_rows": null,
      "grid_column": null,
      "grid_gap": null,
      "grid_row": null,
      "grid_template_areas": null,
      "grid_template_columns": null,
      "grid_template_rows": null,
      "height": null,
      "justify_content": null,
      "justify_items": null,
      "left": null,
      "margin": null,
      "max_height": null,
      "max_width": null,
      "min_height": null,
      "min_width": null,
      "object_fit": null,
      "object_position": null,
      "order": null,
      "overflow": null,
      "overflow_x": null,
      "overflow_y": null,
      "padding": null,
      "right": null,
      "top": null,
      "visibility": null,
      "width": null
     }
    },
    "aee64a8897a6456cb2af3cd5773d9c35": {
     "model_module": "@jupyter-widgets/controls",
     "model_module_version": "1.5.0",
     "model_name": "DescriptionStyleModel",
     "state": {
      "_model_module": "@jupyter-widgets/controls",
      "_model_module_version": "1.5.0",
      "_model_name": "DescriptionStyleModel",
      "_view_count": null,
      "_view_module": "@jupyter-widgets/base",
      "_view_module_version": "1.2.0",
      "_view_name": "StyleView",
      "description_width": ""
     }
    },
    "ba2c2ef6ffbd45ebbacd24615ec8cdc1": {
     "model_module": "@jupyter-widgets/controls",
     "model_module_version": "1.5.0",
     "model_name": "FloatProgressModel",
     "state": {
      "_dom_classes": [],
      "_model_module": "@jupyter-widgets/controls",
      "_model_module_version": "1.5.0",
      "_model_name": "FloatProgressModel",
      "_view_count": null,
      "_view_module": "@jupyter-widgets/controls",
      "_view_module_version": "1.5.0",
      "_view_name": "ProgressView",
      "bar_style": "success",
      "description": "",
      "description_tooltip": null,
      "layout": "IPY_MODEL_2702ba4555644fa092d2913fe6944f46",
      "max": 17130,
      "min": 0,
      "orientation": "horizontal",
      "style": "IPY_MODEL_db7ffe7fc29344029d02cba5a07e7a3a",
      "value": 17130
     }
    },
    "c0afed5fa51944038c99e99e5f59e6c8": {
     "model_module": "@jupyter-widgets/base",
     "model_module_version": "1.2.0",
     "model_name": "LayoutModel",
     "state": {
      "_model_module": "@jupyter-widgets/base",
      "_model_module_version": "1.2.0",
      "_model_name": "LayoutModel",
      "_view_count": null,
      "_view_module": "@jupyter-widgets/base",
      "_view_module_version": "1.2.0",
      "_view_name": "LayoutView",
      "align_content": null,
      "align_items": null,
      "align_self": null,
      "border": null,
      "bottom": null,
      "display": null,
      "flex": null,
      "flex_flow": null,
      "grid_area": null,
      "grid_auto_columns": null,
      "grid_auto_flow": null,
      "grid_auto_rows": null,
      "grid_column": null,
      "grid_gap": null,
      "grid_row": null,
      "grid_template_areas": null,
      "grid_template_columns": null,
      "grid_template_rows": null,
      "height": null,
      "justify_content": null,
      "justify_items": null,
      "left": null,
      "margin": null,
      "max_height": null,
      "max_width": null,
      "min_height": null,
      "min_width": null,
      "object_fit": null,
      "object_position": null,
      "order": null,
      "overflow": null,
      "overflow_x": null,
      "overflow_y": null,
      "padding": null,
      "right": null,
      "top": null,
      "visibility": null,
      "width": null
     }
    },
    "c43f3a9eb7694203adc106d4d2aad461": {
     "model_module": "@jupyter-widgets/base",
     "model_module_version": "1.2.0",
     "model_name": "LayoutModel",
     "state": {
      "_model_module": "@jupyter-widgets/base",
      "_model_module_version": "1.2.0",
      "_model_name": "LayoutModel",
      "_view_count": null,
      "_view_module": "@jupyter-widgets/base",
      "_view_module_version": "1.2.0",
      "_view_name": "LayoutView",
      "align_content": null,
      "align_items": null,
      "align_self": null,
      "border": null,
      "bottom": null,
      "display": null,
      "flex": null,
      "flex_flow": null,
      "grid_area": null,
      "grid_auto_columns": null,
      "grid_auto_flow": null,
      "grid_auto_rows": null,
      "grid_column": null,
      "grid_gap": null,
      "grid_row": null,
      "grid_template_areas": null,
      "grid_template_columns": null,
      "grid_template_rows": null,
      "height": null,
      "justify_content": null,
      "justify_items": null,
      "left": null,
      "margin": null,
      "max_height": null,
      "max_width": null,
      "min_height": null,
      "min_width": null,
      "object_fit": null,
      "object_position": null,
      "order": null,
      "overflow": null,
      "overflow_x": null,
      "overflow_y": null,
      "padding": null,
      "right": null,
      "top": null,
      "visibility": null,
      "width": null
     }
    },
    "cf4c08cb41624479a500b109f6697a4f": {
     "model_module": "@jupyter-widgets/base",
     "model_module_version": "1.2.0",
     "model_name": "LayoutModel",
     "state": {
      "_model_module": "@jupyter-widgets/base",
      "_model_module_version": "1.2.0",
      "_model_name": "LayoutModel",
      "_view_count": null,
      "_view_module": "@jupyter-widgets/base",
      "_view_module_version": "1.2.0",
      "_view_name": "LayoutView",
      "align_content": null,
      "align_items": null,
      "align_self": null,
      "border": null,
      "bottom": null,
      "display": null,
      "flex": null,
      "flex_flow": null,
      "grid_area": null,
      "grid_auto_columns": null,
      "grid_auto_flow": null,
      "grid_auto_rows": null,
      "grid_column": null,
      "grid_gap": null,
      "grid_row": null,
      "grid_template_areas": null,
      "grid_template_columns": null,
      "grid_template_rows": null,
      "height": null,
      "justify_content": null,
      "justify_items": null,
      "left": null,
      "margin": null,
      "max_height": null,
      "max_width": null,
      "min_height": null,
      "min_width": null,
      "object_fit": null,
      "object_position": null,
      "order": null,
      "overflow": null,
      "overflow_x": null,
      "overflow_y": null,
      "padding": null,
      "right": null,
      "top": null,
      "visibility": null,
      "width": null
     }
    },
    "d229049130ce47a9a2bae7eb2d9ed2c6": {
     "model_module": "@jupyter-widgets/controls",
     "model_module_version": "1.5.0",
     "model_name": "HBoxModel",
     "state": {
      "_dom_classes": [],
      "_model_module": "@jupyter-widgets/controls",
      "_model_module_version": "1.5.0",
      "_model_name": "HBoxModel",
      "_view_count": null,
      "_view_module": "@jupyter-widgets/controls",
      "_view_module_version": "1.5.0",
      "_view_name": "HBoxView",
      "box_style": "",
      "children": [
       "IPY_MODEL_8c6a76dc8a964247bc624a759dc8fbe0",
       "IPY_MODEL_78c55e7c69ee40f9b914f547894a8d72",
       "IPY_MODEL_9b9532cdae26418891e622ad111378e9"
      ],
      "layout": "IPY_MODEL_cf4c08cb41624479a500b109f6697a4f"
     }
    },
    "d5d6c5c9addd4781baaefe8f397b6475": {
     "model_module": "@jupyter-widgets/base",
     "model_module_version": "1.2.0",
     "model_name": "LayoutModel",
     "state": {
      "_model_module": "@jupyter-widgets/base",
      "_model_module_version": "1.2.0",
      "_model_name": "LayoutModel",
      "_view_count": null,
      "_view_module": "@jupyter-widgets/base",
      "_view_module_version": "1.2.0",
      "_view_name": "LayoutView",
      "align_content": null,
      "align_items": null,
      "align_self": null,
      "border": null,
      "bottom": null,
      "display": null,
      "flex": null,
      "flex_flow": null,
      "grid_area": null,
      "grid_auto_columns": null,
      "grid_auto_flow": null,
      "grid_auto_rows": null,
      "grid_column": null,
      "grid_gap": null,
      "grid_row": null,
      "grid_template_areas": null,
      "grid_template_columns": null,
      "grid_template_rows": null,
      "height": null,
      "justify_content": null,
      "justify_items": null,
      "left": null,
      "margin": null,
      "max_height": null,
      "max_width": null,
      "min_height": null,
      "min_width": null,
      "object_fit": null,
      "object_position": null,
      "order": null,
      "overflow": null,
      "overflow_x": null,
      "overflow_y": null,
      "padding": null,
      "right": null,
      "top": null,
      "visibility": null,
      "width": null
     }
    },
    "d8f23621956c410e9c14805ba21e136f": {
     "model_module": "@jupyter-widgets/base",
     "model_module_version": "1.2.0",
     "model_name": "LayoutModel",
     "state": {
      "_model_module": "@jupyter-widgets/base",
      "_model_module_version": "1.2.0",
      "_model_name": "LayoutModel",
      "_view_count": null,
      "_view_module": "@jupyter-widgets/base",
      "_view_module_version": "1.2.0",
      "_view_name": "LayoutView",
      "align_content": null,
      "align_items": null,
      "align_self": null,
      "border": null,
      "bottom": null,
      "display": null,
      "flex": null,
      "flex_flow": null,
      "grid_area": null,
      "grid_auto_columns": null,
      "grid_auto_flow": null,
      "grid_auto_rows": null,
      "grid_column": null,
      "grid_gap": null,
      "grid_row": null,
      "grid_template_areas": null,
      "grid_template_columns": null,
      "grid_template_rows": null,
      "height": null,
      "justify_content": null,
      "justify_items": null,
      "left": null,
      "margin": null,
      "max_height": null,
      "max_width": null,
      "min_height": null,
      "min_width": null,
      "object_fit": null,
      "object_position": null,
      "order": null,
      "overflow": null,
      "overflow_x": null,
      "overflow_y": null,
      "padding": null,
      "right": null,
      "top": null,
      "visibility": null,
      "width": null
     }
    },
    "db7ffe7fc29344029d02cba5a07e7a3a": {
     "model_module": "@jupyter-widgets/controls",
     "model_module_version": "1.5.0",
     "model_name": "ProgressStyleModel",
     "state": {
      "_model_module": "@jupyter-widgets/controls",
      "_model_module_version": "1.5.0",
      "_model_name": "ProgressStyleModel",
      "_view_count": null,
      "_view_module": "@jupyter-widgets/base",
      "_view_module_version": "1.2.0",
      "_view_name": "StyleView",
      "bar_color": null,
      "description_width": ""
     }
    },
    "dc29aa5c6d224e64a9e03a0410f153db": {
     "model_module": "@jupyter-widgets/controls",
     "model_module_version": "1.5.0",
     "model_name": "FloatProgressModel",
     "state": {
      "_dom_classes": [],
      "_model_module": "@jupyter-widgets/controls",
      "_model_module_version": "1.5.0",
      "_model_name": "FloatProgressModel",
      "_view_count": null,
      "_view_module": "@jupyter-widgets/controls",
      "_view_module_version": "1.5.0",
      "_view_name": "ProgressView",
      "bar_style": "success",
      "description": "",
      "description_tooltip": null,
      "layout": "IPY_MODEL_efcc4a2be9f840d885dac747fcb007d6",
      "max": 17104,
      "min": 0,
      "orientation": "horizontal",
      "style": "IPY_MODEL_0db0fff90d59481f9daae70ef4828fd7",
      "value": 17104
     }
    },
    "e5fc729734f64359b8704ab92cdd6c05": {
     "model_module": "@jupyter-widgets/controls",
     "model_module_version": "1.5.0",
     "model_name": "HTMLModel",
     "state": {
      "_dom_classes": [],
      "_model_module": "@jupyter-widgets/controls",
      "_model_module_version": "1.5.0",
      "_model_name": "HTMLModel",
      "_view_count": null,
      "_view_module": "@jupyter-widgets/controls",
      "_view_module_version": "1.5.0",
      "_view_name": "HTMLView",
      "description": "",
      "description_tooltip": null,
      "layout": "IPY_MODEL_c0afed5fa51944038c99e99e5f59e6c8",
      "placeholder": "​",
      "style": "IPY_MODEL_682bb1a83b3840c7970d65a7a45be7d9",
      "value": " 17130/17130 [06:35&lt;00:00, 57.61it/s]"
     }
    },
    "efcc4a2be9f840d885dac747fcb007d6": {
     "model_module": "@jupyter-widgets/base",
     "model_module_version": "1.2.0",
     "model_name": "LayoutModel",
     "state": {
      "_model_module": "@jupyter-widgets/base",
      "_model_module_version": "1.2.0",
      "_model_name": "LayoutModel",
      "_view_count": null,
      "_view_module": "@jupyter-widgets/base",
      "_view_module_version": "1.2.0",
      "_view_name": "LayoutView",
      "align_content": null,
      "align_items": null,
      "align_self": null,
      "border": null,
      "bottom": null,
      "display": null,
      "flex": null,
      "flex_flow": null,
      "grid_area": null,
      "grid_auto_columns": null,
      "grid_auto_flow": null,
      "grid_auto_rows": null,
      "grid_column": null,
      "grid_gap": null,
      "grid_row": null,
      "grid_template_areas": null,
      "grid_template_columns": null,
      "grid_template_rows": null,
      "height": null,
      "justify_content": null,
      "justify_items": null,
      "left": null,
      "margin": null,
      "max_height": null,
      "max_width": null,
      "min_height": null,
      "min_width": null,
      "object_fit": null,
      "object_position": null,
      "order": null,
      "overflow": null,
      "overflow_x": null,
      "overflow_y": null,
      "padding": null,
      "right": null,
      "top": null,
      "visibility": null,
      "width": null
     }
    },
    "f703a6a5fce04cb883d87170bb057e3f": {
     "model_module": "@jupyter-widgets/controls",
     "model_module_version": "1.5.0",
     "model_name": "DescriptionStyleModel",
     "state": {
      "_model_module": "@jupyter-widgets/controls",
      "_model_module_version": "1.5.0",
      "_model_name": "DescriptionStyleModel",
      "_view_count": null,
      "_view_module": "@jupyter-widgets/base",
      "_view_module_version": "1.2.0",
      "_view_name": "StyleView",
      "description_width": ""
     }
    }
   }
  }
 },
 "nbformat": 4,
 "nbformat_minor": 4
}

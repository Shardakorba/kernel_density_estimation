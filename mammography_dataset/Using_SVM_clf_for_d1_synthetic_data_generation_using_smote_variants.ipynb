{
 "cells": [
  {
   "cell_type": "code",
   "execution_count": 1,
   "id": "7d836fe0-ecff-46ff-93ee-213e3279bdc1",
   "metadata": {},
   "outputs": [],
   "source": [
    "import numpy as np\n",
    "import pandas as pd\n",
    "from tqdm.notebook import tqdm\n",
    "from sklearn.preprocessing import StandardScaler\n",
    "from sklearn.decomposition import PCA\n",
    "import matplotlib.pyplot as plt\n",
    "from sklearn import svm\n",
    "from sklearn.metrics import confusion_matrix\n",
    "from sklearn.metrics import accuracy_score\n",
    "from sklearn.metrics import balanced_accuracy_score\n",
    "from sklearn.metrics import f1_score\n",
    "from imblearn.metrics import geometric_mean_score\n",
    "from sklearn.metrics import cohen_kappa_score\n",
    "from imblearn.over_sampling import SMOTE\n",
    "from collections import Counter"
   ]
  },
  {
   "cell_type": "code",
   "execution_count": 2,
   "id": "259407b2-8b90-4569-a96c-e079082f7dd6",
   "metadata": {},
   "outputs": [],
   "source": [
    "with open('mammography_data.txt') as f:\n",
    "  lines = [line.rstrip('\\n')for line in f]"
   ]
  },
  {
   "cell_type": "code",
   "execution_count": 3,
   "id": "da1dc253-edd6-4ff7-b219-9613437093f3",
   "metadata": {},
   "outputs": [],
   "source": [
    "data_list=[]\n",
    "for i in range(len(lines)):\n",
    "    l= lines[i].split(',')\n",
    "    a=[float(i) for i in l[:-1]]\n",
    "    data_list.append(a)\n",
    "data= np.array(data_list)"
   ]
  },
  {
   "cell_type": "code",
   "execution_count": 4,
   "id": "2d25deb5-27c6-4483-aed5-f8aff0049eee",
   "metadata": {},
   "outputs": [
    {
     "data": {
      "text/plain": [
       "(11183, 6)"
      ]
     },
     "execution_count": 4,
     "metadata": {},
     "output_type": "execute_result"
    }
   ],
   "source": [
    "data.shape"
   ]
  },
  {
   "cell_type": "code",
   "execution_count": 5,
   "id": "9dd61a0e-914f-4855-ae5a-f8de56d975a2",
   "metadata": {},
   "outputs": [],
   "source": [
    "labels_string=[]\n",
    "for i in range(len(lines)):\n",
    "  labels_string.append(lines[i].split(',')[-1])"
   ]
  },
  {
   "cell_type": "code",
   "execution_count": 6,
   "id": "5eb55498-3c4b-4647-bb88-461b84bdebc0",
   "metadata": {},
   "outputs": [],
   "source": [
    "labels=[]\n",
    "for i in range(len(labels_string)):\n",
    "  if labels_string[i]==np.unique(labels_string)[0]:\n",
    "    labels.append(-1)\n",
    "  else:\n",
    "    labels.append(1)\n",
    "labels=np.array(labels)\n"
   ]
  },
  {
   "cell_type": "code",
   "execution_count": 7,
   "id": "62697f4c-2b7e-4ce5-9818-dc4e60dca64e",
   "metadata": {},
   "outputs": [],
   "source": [
    "def get_folds(data,labels,k):\n",
    "  np.random.seed(42)\n",
    "  shuffle=np.random.permutation(len(data))\n",
    "  data=data[shuffle]\n",
    "  labels=labels[shuffle]\n",
    "\n",
    "  block_length=int(len(data)/k)\n",
    "  data_folds=[]\n",
    "  label_folds=[]\n",
    "  for i in range(k):\n",
    "    if i==(k-1):\n",
    "      data_fold=data[i*block_length:]\n",
    "      data_folds.append(data_fold)\n",
    "      label_fold=labels[i*block_length:]\n",
    "      label_folds.append(label_fold)\n",
    "    else:\n",
    "      data_fold=data[i*block_length:block_length*(i+1)]\n",
    "      data_folds.append(data_fold)\n",
    "      label_fold=labels[i*block_length:block_length*(i+1)]\n",
    "      label_folds.append(label_fold)\n",
    "  return np.array(data_folds,dtype=object),np.array(label_folds,dtype=object)"
   ]
  },
  {
   "cell_type": "code",
   "execution_count": 8,
   "id": "c2db66df-352a-4ee9-888e-dc706a1cedfe",
   "metadata": {},
   "outputs": [],
   "source": [
    "def divide_data_into_k_folds(data,labels,k):\n",
    "  data_folds_array,label_folds_array=get_folds(data,labels,k)\n",
    "  all_data_folds_list=[]\n",
    "  all_labels_folds_list=[]\n",
    "  for i in range(k):\n",
    "    data_fold_k=[np.concatenate(data_folds_array[np.where(np.array(list(range(k)))!=i)[0]]), data_folds_array[i]]\n",
    "    all_data_folds_list.append(data_fold_k)\n",
    "\n",
    "    label_fold_k=[np.concatenate(label_folds_array[np.where(np.array(list(range(k)))!=i)[0]]), label_folds_array[i]]\n",
    "    all_labels_folds_list.append(label_fold_k)\n",
    "\n",
    "  return all_data_folds_list, all_labels_folds_list"
   ]
  },
  {
   "cell_type": "code",
   "execution_count": 9,
   "id": "bf896b27-af4e-4390-a751-0d364d509487",
   "metadata": {},
   "outputs": [],
   "source": [
    "all_data_folds_list, all_labels_folds_list=divide_data_into_k_folds(data,labels,3)"
   ]
  },
  {
   "cell_type": "code",
   "execution_count": 10,
   "id": "ab18e6b5-ae65-40b9-af56-7e758a1d3496",
   "metadata": {},
   "outputs": [],
   "source": [
    "X_train,X_test=all_data_folds_list[0][0],all_data_folds_list[0][1]"
   ]
  },
  {
   "cell_type": "code",
   "execution_count": 11,
   "id": "4de255fc-5da5-4ced-8491-1c97ea710788",
   "metadata": {},
   "outputs": [
    {
     "data": {
      "text/plain": [
       "(7456, 6)"
      ]
     },
     "execution_count": 11,
     "metadata": {},
     "output_type": "execute_result"
    }
   ],
   "source": [
    "X_train.shape"
   ]
  },
  {
   "cell_type": "code",
   "execution_count": 12,
   "id": "f5f45c1b-20c1-448c-bba0-4ca7f55d93fa",
   "metadata": {},
   "outputs": [],
   "source": [
    "y_train,y_test=all_labels_folds_list[0][0],all_labels_folds_list[0][1]"
   ]
  },
  {
   "cell_type": "code",
   "execution_count": 13,
   "id": "51b0e13c-e31c-4167-a1a1-49b00bdb81a4",
   "metadata": {},
   "outputs": [
    {
     "data": {
      "text/plain": [
       "(7456,)"
      ]
     },
     "execution_count": 13,
     "metadata": {},
     "output_type": "execute_result"
    }
   ],
   "source": [
    "y_train.shape"
   ]
  },
  {
   "cell_type": "code",
   "execution_count": 14,
   "id": "ffa25766-ec17-45be-aaa7-89c283419c33",
   "metadata": {},
   "outputs": [
    {
     "data": {
      "text/plain": [
       "(array([-1,  1]), array([7280,  176], dtype=int64))"
      ]
     },
     "execution_count": 14,
     "metadata": {},
     "output_type": "execute_result"
    }
   ],
   "source": [
    "np.unique(y_train, return_counts=True)"
   ]
  },
  {
   "cell_type": "code",
   "execution_count": 15,
   "id": "b3298eeb-79bb-4bb7-b5ea-8fe07ad78b47",
   "metadata": {},
   "outputs": [],
   "source": [
    "X_train_minority=[]\n",
    "for i in np.where(y_train==1):\n",
    "    a=X_train[i]\n",
    "    X_train_minority.append(a)"
   ]
  },
  {
   "cell_type": "code",
   "execution_count": 16,
   "id": "b47b951a-7eaf-45a2-911e-51a44411c9e1",
   "metadata": {},
   "outputs": [],
   "source": [
    "X_train_minority_class=np.array(X_train_minority[0])"
   ]
  },
  {
   "cell_type": "code",
   "execution_count": 17,
   "id": "2e97a202-6fdf-4492-ba6b-3557479485f3",
   "metadata": {},
   "outputs": [],
   "source": [
    "X_train_majority=[]\n",
    "for i in np.where(y_train==-1):\n",
    "    a=X_train[i]\n",
    "    X_train_majority.append(a)"
   ]
  },
  {
   "cell_type": "code",
   "execution_count": 18,
   "id": "a980d0a9-f10d-422d-9b13-6904de2a0d87",
   "metadata": {},
   "outputs": [],
   "source": [
    "X_train_majority_class=np.array(X_train_majority[0])"
   ]
  },
  {
   "cell_type": "code",
   "execution_count": 19,
   "id": "29a4e6ae-723e-4aa1-9938-a0814106e2e1",
   "metadata": {},
   "outputs": [],
   "source": [
    "def k(H,x,d):\n",
    "  H_inv = np.linalg.inv(H)\n",
    "  x_tras=np.matrix.transpose(x)\n",
    "  h= np.linalg.det(H)\n",
    "  m=np.matmul(x_tras,H_inv)\n",
    "  m1=np.matmul(m,x)\n",
    "  e=np.exp(-0.5*m1)\n",
    "  n=2*(np.pi)**(-d/2)\n",
    "  v=n*(h)**(-1/2)*(e)\n",
    "  return v"
   ]
  },
  {
   "cell_type": "code",
   "execution_count": 20,
   "id": "087c966a-d415-4580-bf9b-e26ad95acf1b",
   "metadata": {},
   "outputs": [],
   "source": [
    "def density_gen(X, X_minority):\n",
    "    density_list=[]\n",
    "    for j in range(len(X)):\n",
    "        s=0\n",
    "        for i in range(len(X_minority)):\n",
    "            xi=X_minority[i]\n",
    "            dif=X[j]-xi\n",
    "            s=s+k(np.identity(X_minority.shape[1]), dif, X_minority.shape[1])\n",
    "        density_list.append(s/len(X_minority))\n",
    "    return np.array(density_list)"
   ]
  },
  {
   "cell_type": "code",
   "execution_count": 21,
   "id": "b17c542b-09ad-4f86-9450-01fd742db7a0",
   "metadata": {},
   "outputs": [],
   "source": [
    "unique_labels,counts=np.unique(y_train, return_counts=True)"
   ]
  },
  {
   "cell_type": "code",
   "execution_count": 22,
   "id": "dc3d8364-0906-42be-a735-220747d82e9e",
   "metadata": {},
   "outputs": [],
   "source": [
    "def metropolis_hastings(target_density, X_minority, size=100):\n",
    "    np.random.seed(43)\n",
    "    burnin_size = 10000\n",
    "    size += burnin_size\n",
    "    x0 =X_minority[np.random.choice(list(range(len(X_train_minority_class))),1)]\n",
    "    xt = x0\n",
    "    samples = []\n",
    "    for i in tqdm(range(size)):\n",
    "        xt_candidate = np.array([np.random.multivariate_normal(xt[0], 0.2*np.eye(X_minority.shape[1]))])\n",
    "        accept_odds = (target_density(xt_candidate,X_minority))/(target_density(xt,X_minority))\n",
    "        if np.random.uniform(0, 1) < accept_odds:\n",
    "            xt = xt_candidate\n",
    "        samples.append(xt)\n",
    "    samples = np.array(samples[burnin_size:])\n",
    "    samples = np.reshape(samples, [samples.shape[0], X_minority.shape[1]])\n",
    "    return samples"
   ]
  },
  {
   "cell_type": "code",
   "execution_count": 23,
   "id": "8f1662a6-f6ce-4fd8-8778-1f9d571acad7",
   "metadata": {},
   "outputs": [],
   "source": [
    "import smote_variants as sv\n",
    "\n",
    "oversampler_SMOTE=sv.SMOTE()\n",
    "oversampler_polynome_fit = sv.polynom_fit_SMOTE_star()\n",
    "oversampler_ProWSyn= sv.ProWSyn()\n",
    "oversampler_SMOTE_IPF= sv.SMOTE_IPF()\n",
    "oversampler_Lee= sv.Lee()\n"
   ]
  },
  {
   "cell_type": "code",
   "execution_count": 24,
   "id": "9ab5311c-57ee-44b3-b8b2-39a25f0f955f",
   "metadata": {},
   "outputs": [],
   "source": [
    "oversampler_object_list = [oversampler_SMOTE,oversampler_polynome_fit,oversampler_ProWSyn, oversampler_Lee, metropolis_hastings]"
   ]
  },
  {
   "cell_type": "code",
   "execution_count": 25,
   "id": "2ed51baf-8341-4b74-8334-292580bf7552",
   "metadata": {},
   "outputs": [],
   "source": [
    "oversampler_name_list = ['SMOTE','polynome_fit_SMOTE','ProWSyn', 'Lee', 'Metropolis_hastings']"
   ]
  },
  {
   "cell_type": "code",
   "execution_count": 26,
   "id": "984a575f-703a-4f30-9c16-861ba02f6f2c",
   "metadata": {},
   "outputs": [],
   "source": [
    "def get_imb_oversampling(X_train,y_train,X_test,y_test,oversampler_index,classifier,visualize=True):\n",
    "  ## MH is in the end of the list oversampler_object_list\n",
    "  if oversampler_index!=len(oversampler_object_list)-1:\n",
    "    X_samp, y_samp = oversampler_object_list[oversampler_index].sample(X_train, y_train)\n",
    "\n",
    "  else:\n",
    "    X_train_minority=[]\n",
    "    for i in np.where(y_train==1):\n",
    "      a=X_train[i]\n",
    "      X_train_minority.append(a)\n",
    "\n",
    "    X_train_majority=[]\n",
    "    for i in np.where(y_train==-1):\n",
    "      a=X_train[i]\n",
    "      X_train_majority.append(a)\n",
    "    X_train_minority_class=np.array(X_train_minority[0])\n",
    "    X_train_majority_class=np.array(X_train_majority[0])\n",
    "\n",
    "    unique_labels,counts=np.unique(y_train, return_counts=True)\n",
    "\n",
    "    synthetic_minority_data = metropolis_hastings(density_gen, X_train_minority_class, size=counts[0]-counts[1])\n",
    "    balanced_minority=np.concatenate([X_train_minority_class, synthetic_minority_data])\n",
    "    balanced_data=np.concatenate([X_train_majority_class,balanced_minority])\n",
    "    balanced_labels_for_classification=np.concatenate([np.zeros(len(X_train_majority_class))-1,np.ones(len(balanced_minority))])\n",
    "    X_samp=balanced_data\n",
    "    y_samp=balanced_labels_for_classification\n",
    "\n",
    "  classifier.fit(X_samp,y_samp)\n",
    "  y_pred=classifier.predict(X_test)\n",
    "  cm=confusion_matrix(y_test, y_pred)\n",
    "  acc=accuracy_score(y_test, y_pred)\n",
    "  b_acc=balanced_accuracy_score(y_test, y_pred)\n",
    "  gm=geometric_mean_score(y_test, y_pred)\n",
    "  f1=f1_score(y_test, y_pred)\n",
    "  ck=cohen_kappa_score(y_test, y_pred)\n",
    "\n",
    "  if visualize==True:\n",
    "    scaler = StandardScaler()\n",
    "    scaler.fit(X_samp)\n",
    "    scaled_X_samp = scaler.transform(X_samp)\n",
    "    pca = PCA(n_components =2)\n",
    "    X_samp_pca=pca.fit_transform(scaled_X_samp)\n",
    "\n",
    "    plt.figure(figsize=(8,6))\n",
    "    color=[\"r\",\"b\"]\n",
    "    color_counter=0\n",
    "    for i in [-1,1]:\n",
    "      plt.scatter(X_samp_pca[:,0][np.where(y_samp==i)],X_samp_pca[:,1][np.where(y_samp==i)], s=10, c=color[color_counter])\n",
    "      color_counter=color_counter+1\n",
    "    plt.legend(['Majority','Manority'],fontsize=10, loc='lower right')\n",
    "    plt.xlabel(\"Principal Component 1\",fontsize=12)\n",
    "    plt.ylabel(\"Principlal Component 2 \",fontsize=12)\n",
    "    plt.title(\"PCA plot of majority class + minority class using\"+\"\"+ oversampler_name_list[oversampler_index]+\"technique\",fontsize=14)\n",
    "\n",
    "\n",
    "  return [cm, acc,b_acc,gm, f1, ck]"
   ]
  },
  {
   "cell_type": "code",
   "execution_count": 27,
   "id": "950d88a8-6f35-4b12-bf58-9a4bcd00db47",
   "metadata": {},
   "outputs": [],
   "source": [
    "def calc_avg_performance(performance_index,results_all_folds):\n",
    "  ## performance index takes the index of the performance measure foe which we want to average over folds\n",
    "  ## results_all_folds are the results of a particular oversampler run over all folds recording all performance measures\n",
    "  s=0\n",
    "  for result in results_all_folds:\n",
    "    s=s+result[performance_index]\n",
    "  avg=s/len(results_all_folds)\n",
    "\n",
    "  s=0\n",
    "  for result in results_all_folds:\n",
    "    s=s+(result[performance_index]-avg)**2\n",
    "  std=np.sqrt(s/len(results_all_folds))\n",
    "  return avg, std"
   ]
  },
  {
   "cell_type": "code",
   "execution_count": 28,
   "id": "132de59d-4d96-4b83-a57a-3129aaa327a1",
   "metadata": {},
   "outputs": [],
   "source": [
    "clf = svm.SVC()"
   ]
  },
  {
   "cell_type": "code",
   "execution_count": 29,
   "id": "a365c62a-cfd4-457d-8999-f373b201a7b3",
   "metadata": {},
   "outputs": [],
   "source": [
    "perfromance_measures=['accuracy','balanced accuracy','g-mean','f1-score','cohen_kappa']\n",
    "def get_results_all_folds(oversampler_index,classifier, visualize=False, get_detailed_results=False):\n",
    "\n",
    "  results_all_folds=[]\n",
    "  for i in range(len(all_data_folds_list)):\n",
    "    X_train,X_test=all_data_folds_list[i][0],all_data_folds_list[i][1]\n",
    "    y_train,y_test=all_labels_folds_list[i][0],all_labels_folds_list[i][1]\n",
    "    results_single_fold=get_imb_oversampling(X_train,y_train,X_test,y_test,oversampler_index,clf,visualize=visualize)\n",
    "    results_all_folds.append(results_single_fold)\n",
    "\n",
    "  performance_summary_oversampler_classifer={}\n",
    "  for performance_index in range(1,6):\n",
    "    avg_std=calc_avg_performance(performance_index,results_all_folds)\n",
    "    performance_summary_oversampler_classifer[perfromance_measures[performance_index-1]]=avg_std\n",
    "\n",
    "  if get_detailed_results==True:\n",
    "    return results_all_folds, performance_summary_oversampler_classifer\n",
    "  else:\n",
    "    return performance_summary_oversampler_classifer"
   ]
  },
  {
   "cell_type": "code",
   "execution_count": 30,
   "id": "77302d2e-892b-4a81-bc49-c39b060c0186",
   "metadata": {},
   "outputs": [
    {
     "name": "stderr",
     "output_type": "stream",
     "text": [
      "2024-08-20 14:55:01,612:INFO:SMOTE: Running sampling via ('SMOTE', \"{'proportion': 1.0, 'n_neighbors': 5, 'nn_params': {}, 'n_jobs': 1, 'ss_params': {'n_dim': 2, 'simplex_sampling': 'random', 'within_simplex_sampling': 'random', 'gaussian_component': {}}, 'random_state': None, 'class_name': 'SMOTE'}\")\n",
      "2024-08-20 14:55:01,615:INFO:NearestNeighborsWithMetricTensor: NN fitting with metric minkowski\n",
      "2024-08-20 14:55:01,617:INFO:NearestNeighborsWithMetricTensor: kneighbors query minkowski\n",
      "2024-08-20 14:55:01,618:INFO:SMOTE: simplex sampling with n_dim 2\n",
      "2024-08-20 14:55:05,536:INFO:SMOTE: Running sampling via ('SMOTE', \"{'proportion': 1.0, 'n_neighbors': 5, 'nn_params': {}, 'n_jobs': 1, 'ss_params': {'n_dim': 2, 'simplex_sampling': 'random', 'within_simplex_sampling': 'random', 'gaussian_component': {}}, 'random_state': None, 'class_name': 'SMOTE'}\")\n",
      "2024-08-20 14:55:05,537:INFO:NearestNeighborsWithMetricTensor: NN fitting with metric minkowski\n",
      "2024-08-20 14:55:05,538:INFO:NearestNeighborsWithMetricTensor: kneighbors query minkowski\n",
      "2024-08-20 14:55:05,540:INFO:SMOTE: simplex sampling with n_dim 2\n",
      "2024-08-20 14:55:08,362:INFO:SMOTE: Running sampling via ('SMOTE', \"{'proportion': 1.0, 'n_neighbors': 5, 'nn_params': {}, 'n_jobs': 1, 'ss_params': {'n_dim': 2, 'simplex_sampling': 'random', 'within_simplex_sampling': 'random', 'gaussian_component': {}}, 'random_state': None, 'class_name': 'SMOTE'}\")\n",
      "2024-08-20 14:55:08,362:INFO:NearestNeighborsWithMetricTensor: NN fitting with metric minkowski\n",
      "2024-08-20 14:55:08,374:INFO:NearestNeighborsWithMetricTensor: kneighbors query minkowski\n",
      "2024-08-20 14:55:08,376:INFO:SMOTE: simplex sampling with n_dim 2\n"
     ]
    },
    {
     "data": {
      "text/plain": [
       "{'accuracy': (0.9505498747552074, 0.00635874680894716),\n",
       " 'balanced accuracy': (0.9044293285165907, 0.023151803572630837),\n",
       " 'g-mean': (0.9026160147840844, 0.02446423060143368),\n",
       " 'f1-score': (0.4465033948904917, 0.017956923633108256),\n",
       " 'cohen_kappa': (0.4268739053412833, 0.018592458233385463)}"
      ]
     },
     "execution_count": 30,
     "metadata": {},
     "output_type": "execute_result"
    }
   ],
   "source": [
    "get_results_all_folds(0,clf)"
   ]
  },
  {
   "cell_type": "code",
   "execution_count": 31,
   "id": "9cc82a31-d759-4c07-8e60-08e58a032f8a",
   "metadata": {},
   "outputs": [
    {
     "name": "stderr",
     "output_type": "stream",
     "text": [
      "2024-08-20 14:55:12,263:INFO:SMOTE: Running sampling via ('SMOTE', \"{'proportion': 1.0, 'n_neighbors': 5, 'nn_params': {}, 'n_jobs': 1, 'ss_params': {'n_dim': 2, 'simplex_sampling': 'random', 'within_simplex_sampling': 'random', 'gaussian_component': {}}, 'random_state': None, 'class_name': 'SMOTE'}\")\n",
      "2024-08-20 14:55:12,274:INFO:NearestNeighborsWithMetricTensor: NN fitting with metric minkowski\n",
      "2024-08-20 14:55:12,277:INFO:NearestNeighborsWithMetricTensor: kneighbors query minkowski\n",
      "2024-08-20 14:55:12,282:INFO:SMOTE: simplex sampling with n_dim 2\n",
      "2024-08-20 14:55:16,342:INFO:SMOTE: Running sampling via ('SMOTE', \"{'proportion': 1.0, 'n_neighbors': 5, 'nn_params': {}, 'n_jobs': 1, 'ss_params': {'n_dim': 2, 'simplex_sampling': 'random', 'within_simplex_sampling': 'random', 'gaussian_component': {}}, 'random_state': None, 'class_name': 'SMOTE'}\")\n",
      "2024-08-20 14:55:16,342:INFO:NearestNeighborsWithMetricTensor: NN fitting with metric minkowski\n",
      "2024-08-20 14:55:16,342:INFO:NearestNeighborsWithMetricTensor: kneighbors query minkowski\n",
      "2024-08-20 14:55:16,354:INFO:SMOTE: simplex sampling with n_dim 2\n",
      "2024-08-20 14:55:18,906:INFO:SMOTE: Running sampling via ('SMOTE', \"{'proportion': 1.0, 'n_neighbors': 5, 'nn_params': {}, 'n_jobs': 1, 'ss_params': {'n_dim': 2, 'simplex_sampling': 'random', 'within_simplex_sampling': 'random', 'gaussian_component': {}}, 'random_state': None, 'class_name': 'SMOTE'}\")\n",
      "2024-08-20 14:55:18,906:INFO:NearestNeighborsWithMetricTensor: NN fitting with metric minkowski\n",
      "2024-08-20 14:55:18,906:INFO:NearestNeighborsWithMetricTensor: kneighbors query minkowski\n",
      "2024-08-20 14:55:18,911:INFO:SMOTE: simplex sampling with n_dim 2\n",
      "2024-08-20 14:55:21,068:INFO:polynom_fit_SMOTE_star: Running sampling via ('polynom_fit_SMOTE_star', \"{'proportion': 1.0, 'topology': 'star', 'random_state': None, 'class_name': 'polynom_fit_SMOTE_star'}\")\n",
      "2024-08-20 14:55:21,068:INFO:polynom_fit_SMOTE: Running sampling via ('polynom_fit_SMOTE', \"{'proportion': 1.0, 'topology': 'star', 'random_state': None, 'class_name': 'polynom_fit_SMOTE'}\")\n",
      "2024-08-20 14:55:22,519:INFO:polynom_fit_SMOTE_star: Running sampling via ('polynom_fit_SMOTE_star', \"{'proportion': 1.0, 'topology': 'star', 'random_state': None, 'class_name': 'polynom_fit_SMOTE_star'}\")\n",
      "2024-08-20 14:55:22,519:INFO:polynom_fit_SMOTE: Running sampling via ('polynom_fit_SMOTE', \"{'proportion': 1.0, 'topology': 'star', 'random_state': None, 'class_name': 'polynom_fit_SMOTE'}\")\n",
      "2024-08-20 14:55:23,699:INFO:polynom_fit_SMOTE_star: Running sampling via ('polynom_fit_SMOTE_star', \"{'proportion': 1.0, 'topology': 'star', 'random_state': None, 'class_name': 'polynom_fit_SMOTE_star'}\")\n",
      "2024-08-20 14:55:23,699:INFO:polynom_fit_SMOTE: Running sampling via ('polynom_fit_SMOTE', \"{'proportion': 1.0, 'topology': 'star', 'random_state': None, 'class_name': 'polynom_fit_SMOTE'}\")\n",
      "2024-08-20 14:55:24,876:INFO:ProWSyn: Running sampling via ('ProWSyn', \"{'proportion': 1.0, 'n_neighbors': 5, 'nn_params': {}, 'L': 5, 'theta': 1.0, 'n_jobs': 1, 'ss_params': {'n_dim': 2, 'simplex_sampling': 'random', 'within_simplex_sampling': 'random', 'gaussian_component': {}}, 'random_state': None, 'class_name': 'ProWSyn'}\")\n",
      "2024-08-20 14:55:24,876:INFO:NearestNeighborsWithMetricTensor: NN fitting with metric minkowski\n",
      "2024-08-20 14:55:24,891:INFO:NearestNeighborsWithMetricTensor: kneighbors query minkowski\n",
      "2024-08-20 14:55:24,901:INFO:NearestNeighborsWithMetricTensor: NN fitting with metric minkowski\n",
      "2024-08-20 14:55:24,902:INFO:NearestNeighborsWithMetricTensor: kneighbors query minkowski\n",
      "2024-08-20 14:55:24,908:INFO:NearestNeighborsWithMetricTensor: NN fitting with metric minkowski\n",
      "2024-08-20 14:55:24,909:INFO:NearestNeighborsWithMetricTensor: kneighbors query minkowski\n",
      "2024-08-20 14:55:24,914:INFO:NearestNeighborsWithMetricTensor: NN fitting with metric minkowski\n",
      "2024-08-20 14:55:24,915:INFO:NearestNeighborsWithMetricTensor: kneighbors query minkowski\n",
      "2024-08-20 14:55:25,030:INFO:NearestNeighborsWithMetricTensor: NN fitting with metric minkowski\n",
      "2024-08-20 14:55:25,030:INFO:NearestNeighborsWithMetricTensor: kneighbors query minkowski\n",
      "2024-08-20 14:55:25,071:INFO:ProWSyn: simplex sampling with n_dim 2\n",
      "2024-08-20 14:55:25,081:INFO:ProWSyn: simplex sampling with n_dim 2\n",
      "2024-08-20 14:55:25,083:INFO:ProWSyn: simplex sampling with n_dim 2\n",
      "2024-08-20 14:55:25,085:INFO:ProWSyn: simplex sampling with n_dim 2\n",
      "2024-08-20 14:55:25,086:INFO:ProWSyn: The simplex order was updated from 2 to 1\n",
      "2024-08-20 14:55:25,087:INFO:ProWSyn: simplex sampling with n_dim 1\n",
      "2024-08-20 14:55:28,023:INFO:ProWSyn: Running sampling via ('ProWSyn', \"{'proportion': 1.0, 'n_neighbors': 5, 'nn_params': {}, 'L': 5, 'theta': 1.0, 'n_jobs': 1, 'ss_params': {'n_dim': 2, 'simplex_sampling': 'random', 'within_simplex_sampling': 'random', 'gaussian_component': {}}, 'random_state': None, 'class_name': 'ProWSyn'}\")\n",
      "2024-08-20 14:55:28,023:INFO:NearestNeighborsWithMetricTensor: NN fitting with metric minkowski\n",
      "2024-08-20 14:55:28,031:INFO:NearestNeighborsWithMetricTensor: kneighbors query minkowski\n",
      "2024-08-20 14:55:28,049:INFO:NearestNeighborsWithMetricTensor: NN fitting with metric minkowski\n",
      "2024-08-20 14:55:28,051:INFO:NearestNeighborsWithMetricTensor: kneighbors query minkowski\n",
      "2024-08-20 14:55:28,057:INFO:NearestNeighborsWithMetricTensor: NN fitting with metric minkowski\n",
      "2024-08-20 14:55:28,059:INFO:NearestNeighborsWithMetricTensor: kneighbors query minkowski\n",
      "2024-08-20 14:55:28,065:INFO:NearestNeighborsWithMetricTensor: NN fitting with metric minkowski\n",
      "2024-08-20 14:55:28,066:INFO:NearestNeighborsWithMetricTensor: kneighbors query minkowski\n",
      "2024-08-20 14:55:28,105:INFO:NearestNeighborsWithMetricTensor: NN fitting with metric minkowski\n",
      "2024-08-20 14:55:28,106:INFO:NearestNeighborsWithMetricTensor: kneighbors query minkowski\n",
      "2024-08-20 14:55:28,145:INFO:ProWSyn: simplex sampling with n_dim 2\n",
      "2024-08-20 14:55:28,148:INFO:ProWSyn: simplex sampling with n_dim 2\n",
      "2024-08-20 14:55:28,148:INFO:ProWSyn: simplex sampling with n_dim 2\n",
      "2024-08-20 14:55:28,148:INFO:ProWSyn: simplex sampling with n_dim 2\n",
      "2024-08-20 14:55:28,148:INFO:ProWSyn: The simplex order was updated from 2 to 1\n",
      "2024-08-20 14:55:28,148:INFO:ProWSyn: simplex sampling with n_dim 1\n",
      "2024-08-20 14:55:30,403:INFO:ProWSyn: Running sampling via ('ProWSyn', \"{'proportion': 1.0, 'n_neighbors': 5, 'nn_params': {}, 'L': 5, 'theta': 1.0, 'n_jobs': 1, 'ss_params': {'n_dim': 2, 'simplex_sampling': 'random', 'within_simplex_sampling': 'random', 'gaussian_component': {}}, 'random_state': None, 'class_name': 'ProWSyn'}\")\n",
      "2024-08-20 14:55:30,403:INFO:NearestNeighborsWithMetricTensor: NN fitting with metric minkowski\n",
      "2024-08-20 14:55:30,416:INFO:NearestNeighborsWithMetricTensor: kneighbors query minkowski\n",
      "2024-08-20 14:55:30,424:INFO:NearestNeighborsWithMetricTensor: NN fitting with metric minkowski\n",
      "2024-08-20 14:55:30,425:INFO:NearestNeighborsWithMetricTensor: kneighbors query minkowski\n",
      "2024-08-20 14:55:30,433:INFO:NearestNeighborsWithMetricTensor: NN fitting with metric minkowski\n",
      "2024-08-20 14:55:30,435:INFO:NearestNeighborsWithMetricTensor: kneighbors query minkowski\n",
      "2024-08-20 14:55:30,439:INFO:NearestNeighborsWithMetricTensor: NN fitting with metric minkowski\n",
      "2024-08-20 14:55:30,440:INFO:NearestNeighborsWithMetricTensor: kneighbors query minkowski\n",
      "2024-08-20 14:55:30,471:INFO:NearestNeighborsWithMetricTensor: NN fitting with metric minkowski\n",
      "2024-08-20 14:55:30,472:INFO:NearestNeighborsWithMetricTensor: kneighbors query minkowski\n",
      "2024-08-20 14:55:30,529:INFO:ProWSyn: simplex sampling with n_dim 2\n",
      "2024-08-20 14:55:30,543:INFO:ProWSyn: simplex sampling with n_dim 2\n",
      "2024-08-20 14:55:30,547:INFO:ProWSyn: simplex sampling with n_dim 2\n",
      "2024-08-20 14:55:30,549:INFO:ProWSyn: simplex sampling with n_dim 2\n",
      "2024-08-20 14:55:30,551:INFO:ProWSyn: The simplex order was updated from 2 to 1\n",
      "2024-08-20 14:55:30,552:INFO:ProWSyn: simplex sampling with n_dim 1\n",
      "2024-08-20 14:55:32,883:INFO:Lee: Running sampling via ('Lee', \"{'proportion': 1.0, 'n_neighbors': 5, 'nn_params': {}, 'rejection_level': 0.5, 'n_jobs': 1, 'ss_params': {'n_dim': 2, 'simplex_sampling': 'random', 'within_simplex_sampling': 'random', 'gaussian_component': {}}, 'random_state': None, 'class_name': 'Lee'}\")\n",
      "2024-08-20 14:55:32,883:INFO:NearestNeighborsWithMetricTensor: NN fitting with metric minkowski\n",
      "2024-08-20 14:55:32,898:INFO:NearestNeighborsWithMetricTensor: NN fitting with metric minkowski\n",
      "2024-08-20 14:55:32,900:INFO:NearestNeighborsWithMetricTensor: kneighbors query minkowski\n",
      "2024-08-20 14:55:32,902:INFO:Lee: simplex sampling with n_dim 2\n",
      "2024-08-20 14:55:32,908:INFO:NearestNeighborsWithMetricTensor: kneighbors query minkowski\n",
      "2024-08-20 14:55:32,994:INFO:Lee: simplex sampling with n_dim 2\n",
      "2024-08-20 14:55:32,997:INFO:NearestNeighborsWithMetricTensor: kneighbors query minkowski\n",
      "2024-08-20 14:55:33,029:INFO:Lee: simplex sampling with n_dim 2\n",
      "2024-08-20 14:55:33,031:INFO:NearestNeighborsWithMetricTensor: kneighbors query minkowski\n",
      "2024-08-20 14:55:33,044:INFO:Lee: simplex sampling with n_dim 2\n",
      "2024-08-20 14:55:33,046:INFO:NearestNeighborsWithMetricTensor: kneighbors query minkowski\n",
      "2024-08-20 14:55:33,053:INFO:Lee: simplex sampling with n_dim 2\n",
      "2024-08-20 14:55:33,055:INFO:NearestNeighborsWithMetricTensor: kneighbors query minkowski\n",
      "2024-08-20 14:55:33,058:INFO:Lee: simplex sampling with n_dim 2\n",
      "2024-08-20 14:55:33,060:INFO:NearestNeighborsWithMetricTensor: kneighbors query minkowski\n",
      "2024-08-20 14:55:33,062:INFO:Lee: simplex sampling with n_dim 2\n",
      "2024-08-20 14:55:33,064:INFO:NearestNeighborsWithMetricTensor: kneighbors query minkowski\n",
      "2024-08-20 14:55:34,262:INFO:Lee: Running sampling via ('Lee', \"{'proportion': 1.0, 'n_neighbors': 5, 'nn_params': {}, 'rejection_level': 0.5, 'n_jobs': 1, 'ss_params': {'n_dim': 2, 'simplex_sampling': 'random', 'within_simplex_sampling': 'random', 'gaussian_component': {}}, 'random_state': None, 'class_name': 'Lee'}\")\n",
      "2024-08-20 14:55:34,262:INFO:NearestNeighborsWithMetricTensor: NN fitting with metric minkowski\n",
      "2024-08-20 14:55:34,275:INFO:NearestNeighborsWithMetricTensor: NN fitting with metric minkowski\n",
      "2024-08-20 14:55:34,276:INFO:NearestNeighborsWithMetricTensor: kneighbors query minkowski\n",
      "2024-08-20 14:55:34,278:INFO:Lee: simplex sampling with n_dim 2\n",
      "2024-08-20 14:55:34,281:INFO:NearestNeighborsWithMetricTensor: kneighbors query minkowski\n",
      "2024-08-20 14:55:34,344:INFO:Lee: simplex sampling with n_dim 2\n",
      "2024-08-20 14:55:34,346:INFO:NearestNeighborsWithMetricTensor: kneighbors query minkowski\n",
      "2024-08-20 14:55:34,365:INFO:Lee: simplex sampling with n_dim 2\n",
      "2024-08-20 14:55:34,367:INFO:NearestNeighborsWithMetricTensor: kneighbors query minkowski\n",
      "2024-08-20 14:55:34,372:INFO:Lee: simplex sampling with n_dim 2\n",
      "2024-08-20 14:55:34,373:INFO:NearestNeighborsWithMetricTensor: kneighbors query minkowski\n",
      "2024-08-20 14:55:34,376:INFO:Lee: simplex sampling with n_dim 2\n",
      "2024-08-20 14:55:34,378:INFO:NearestNeighborsWithMetricTensor: kneighbors query minkowski\n",
      "2024-08-20 14:55:34,381:INFO:Lee: simplex sampling with n_dim 2\n",
      "2024-08-20 14:55:34,382:INFO:NearestNeighborsWithMetricTensor: kneighbors query minkowski\n",
      "2024-08-20 14:55:34,384:INFO:Lee: simplex sampling with n_dim 2\n",
      "2024-08-20 14:55:34,385:INFO:NearestNeighborsWithMetricTensor: kneighbors query minkowski\n",
      "2024-08-20 14:55:35,402:INFO:Lee: Running sampling via ('Lee', \"{'proportion': 1.0, 'n_neighbors': 5, 'nn_params': {}, 'rejection_level': 0.5, 'n_jobs': 1, 'ss_params': {'n_dim': 2, 'simplex_sampling': 'random', 'within_simplex_sampling': 'random', 'gaussian_component': {}}, 'random_state': None, 'class_name': 'Lee'}\")\n",
      "2024-08-20 14:55:35,402:INFO:NearestNeighborsWithMetricTensor: NN fitting with metric minkowski\n",
      "2024-08-20 14:55:35,422:INFO:NearestNeighborsWithMetricTensor: NN fitting with metric minkowski\n",
      "2024-08-20 14:55:35,423:INFO:NearestNeighborsWithMetricTensor: kneighbors query minkowski\n",
      "2024-08-20 14:55:35,424:INFO:Lee: simplex sampling with n_dim 2\n",
      "2024-08-20 14:55:35,427:INFO:NearestNeighborsWithMetricTensor: kneighbors query minkowski\n",
      "2024-08-20 14:55:35,475:INFO:Lee: simplex sampling with n_dim 2\n",
      "2024-08-20 14:55:35,475:INFO:NearestNeighborsWithMetricTensor: kneighbors query minkowski\n",
      "2024-08-20 14:55:35,494:INFO:Lee: simplex sampling with n_dim 2\n",
      "2024-08-20 14:55:35,496:INFO:NearestNeighborsWithMetricTensor: kneighbors query minkowski\n",
      "2024-08-20 14:55:35,503:INFO:Lee: simplex sampling with n_dim 2\n",
      "2024-08-20 14:55:35,504:INFO:NearestNeighborsWithMetricTensor: kneighbors query minkowski\n",
      "2024-08-20 14:55:35,507:INFO:Lee: simplex sampling with n_dim 2\n",
      "2024-08-20 14:55:35,509:INFO:NearestNeighborsWithMetricTensor: kneighbors query minkowski\n",
      "2024-08-20 14:55:35,511:INFO:Lee: simplex sampling with n_dim 2\n",
      "2024-08-20 14:55:35,513:INFO:NearestNeighborsWithMetricTensor: kneighbors query minkowski\n",
      "2024-08-20 14:55:35,514:INFO:Lee: simplex sampling with n_dim 2\n",
      "2024-08-20 14:55:35,530:INFO:NearestNeighborsWithMetricTensor: kneighbors query minkowski\n"
     ]
    },
    {
     "data": {
      "application/vnd.jupyter.widget-view+json": {
       "model_id": "47130112852243fdaee82ab3ea2f2aab",
       "version_major": 2,
       "version_minor": 0
      },
      "text/plain": [
       "  0%|          | 0/17104 [00:00<?, ?it/s]"
      ]
     },
     "metadata": {},
     "output_type": "display_data"
    },
    {
     "data": {
      "application/vnd.jupyter.widget-view+json": {
       "model_id": "70bfe25aec214e4e89ce340894c81125",
       "version_major": 2,
       "version_minor": 0
      },
      "text/plain": [
       "  0%|          | 0/17092 [00:00<?, ?it/s]"
      ]
     },
     "metadata": {},
     "output_type": "display_data"
    },
    {
     "data": {
      "application/vnd.jupyter.widget-view+json": {
       "model_id": "7bdcf406b8d54ac49a777aa55e1498da",
       "version_major": 2,
       "version_minor": 0
      },
      "text/plain": [
       "  0%|          | 0/17130 [00:00<?, ?it/s]"
      ]
     },
     "metadata": {},
     "output_type": "display_data"
    }
   ],
   "source": [
    "summary_performace_for_all_oversampling_algorithms_all_folds=[]\n",
    "for i in range(len(oversampler_object_list)):\n",
    "  summary_performace_for_all_oversampling_algorithms_all_folds.append(get_results_all_folds(i,clf))"
   ]
  },
  {
   "cell_type": "code",
   "execution_count": 32,
   "id": "1baff10d-ac18-4e4f-8556-e00c436b69ce",
   "metadata": {},
   "outputs": [],
   "source": [
    "summary_performace_for_all_oversampling_algorithms_all_folds_list=np.array([[[round(i,3) for i in summary_performace_for_all_oversampling_algorithms_all_folds[oversampler_index][key]] for key in summary_performace_for_all_oversampling_algorithms_all_folds[0].keys()] for oversampler_index in range(len(oversampler_name_list))])"
   ]
  },
  {
   "cell_type": "code",
   "execution_count": 33,
   "id": "315dbb11-dcc6-46ca-be29-ac09f21583fe",
   "metadata": {},
   "outputs": [],
   "source": [
    "oversamplers_result_summary_list=[]\n",
    "for i in range(summary_performace_for_all_oversampling_algorithms_all_folds_list.shape[0]):\n",
    "  performance_results_summary_list=[]\n",
    "  for j in range(summary_performace_for_all_oversampling_algorithms_all_folds_list.shape[1]):\n",
    "    performance_results_summary_list.append(str(summary_performace_for_all_oversampling_algorithms_all_folds_list[i][j][0])+\"\\u00B1\"+str(summary_performace_for_all_oversampling_algorithms_all_folds_list[i][j][1]))\n",
    "  oversamplers_result_summary_list.append(performance_results_summary_list)\n",
    "oversamplers_result_summary_list=np.array(oversamplers_result_summary_list)"
   ]
  },
  {
   "cell_type": "code",
   "execution_count": 34,
   "id": "a6d40e23-4278-4a3b-8951-268ab06c78ed",
   "metadata": {},
   "outputs": [
    {
     "data": {
      "text/plain": [
       "['0.968±0.003', '0.813±0.023', '0.796±0.027', '0.489±0.022', '0.474±0.022']"
      ]
     },
     "execution_count": 34,
     "metadata": {},
     "output_type": "execute_result"
    }
   ],
   "source": [
    "performance_results_summary_list"
   ]
  },
  {
   "cell_type": "code",
   "execution_count": 35,
   "id": "d8c4017e-561c-4df1-9b11-3021195957ce",
   "metadata": {},
   "outputs": [
    {
     "data": {
      "text/plain": [
       "array([['0.953±0.006', '0.906±0.025', '0.904±0.026', '0.459±0.012',\n",
       "        '0.44±0.014'],\n",
       "       ['0.967±0.003', '0.868±0.037', '0.861±0.041', '0.514±0.019',\n",
       "        '0.499±0.019'],\n",
       "       ['0.943±0.002', '0.879±0.036', '0.876±0.038', '0.397±0.023',\n",
       "        '0.375±0.023'],\n",
       "       ['0.975±0.001', '0.894±0.032', '0.89±0.035', '0.6±0.018',\n",
       "        '0.588±0.018'],\n",
       "       ['0.968±0.003', '0.813±0.023', '0.796±0.027', '0.489±0.022',\n",
       "        '0.474±0.022']], dtype='<U11')"
      ]
     },
     "execution_count": 35,
     "metadata": {},
     "output_type": "execute_result"
    }
   ],
   "source": [
    "oversamplers_result_summary_list"
   ]
  },
  {
   "cell_type": "code",
   "execution_count": 36,
   "id": "33b42bfc-d75b-4870-b743-e10d12b3cc60",
   "metadata": {},
   "outputs": [],
   "source": [
    "df=pd.DataFrame(oversamplers_result_summary_list,columns=perfromance_measures,index=oversampler_name_list)"
   ]
  },
  {
   "cell_type": "code",
   "execution_count": 37,
   "id": "95c5d83b-790a-4218-8947-b210bdd1f76f",
   "metadata": {},
   "outputs": [
    {
     "data": {
      "text/html": [
       "<div>\n",
       "<style scoped>\n",
       "    .dataframe tbody tr th:only-of-type {\n",
       "        vertical-align: middle;\n",
       "    }\n",
       "\n",
       "    .dataframe tbody tr th {\n",
       "        vertical-align: top;\n",
       "    }\n",
       "\n",
       "    .dataframe thead th {\n",
       "        text-align: right;\n",
       "    }\n",
       "</style>\n",
       "<table border=\"1\" class=\"dataframe\">\n",
       "  <thead>\n",
       "    <tr style=\"text-align: right;\">\n",
       "      <th></th>\n",
       "      <th>accuracy</th>\n",
       "      <th>balanced accuracy</th>\n",
       "      <th>g-mean</th>\n",
       "      <th>f1-score</th>\n",
       "      <th>cohen_kappa</th>\n",
       "    </tr>\n",
       "  </thead>\n",
       "  <tbody>\n",
       "    <tr>\n",
       "      <th>SMOTE</th>\n",
       "      <td>0.953±0.006</td>\n",
       "      <td>0.906±0.025</td>\n",
       "      <td>0.904±0.026</td>\n",
       "      <td>0.459±0.012</td>\n",
       "      <td>0.44±0.014</td>\n",
       "    </tr>\n",
       "    <tr>\n",
       "      <th>polynome_fit_SMOTE</th>\n",
       "      <td>0.967±0.003</td>\n",
       "      <td>0.868±0.037</td>\n",
       "      <td>0.861±0.041</td>\n",
       "      <td>0.514±0.019</td>\n",
       "      <td>0.499±0.019</td>\n",
       "    </tr>\n",
       "    <tr>\n",
       "      <th>ProWSyn</th>\n",
       "      <td>0.943±0.002</td>\n",
       "      <td>0.879±0.036</td>\n",
       "      <td>0.876±0.038</td>\n",
       "      <td>0.397±0.023</td>\n",
       "      <td>0.375±0.023</td>\n",
       "    </tr>\n",
       "    <tr>\n",
       "      <th>Lee</th>\n",
       "      <td>0.975±0.001</td>\n",
       "      <td>0.894±0.032</td>\n",
       "      <td>0.89±0.035</td>\n",
       "      <td>0.6±0.018</td>\n",
       "      <td>0.588±0.018</td>\n",
       "    </tr>\n",
       "    <tr>\n",
       "      <th>Metropolis_hastings</th>\n",
       "      <td>0.968±0.003</td>\n",
       "      <td>0.813±0.023</td>\n",
       "      <td>0.796±0.027</td>\n",
       "      <td>0.489±0.022</td>\n",
       "      <td>0.474±0.022</td>\n",
       "    </tr>\n",
       "  </tbody>\n",
       "</table>\n",
       "</div>"
      ],
      "text/plain": [
       "                        accuracy balanced accuracy       g-mean     f1-score  \\\n",
       "SMOTE                0.953±0.006       0.906±0.025  0.904±0.026  0.459±0.012   \n",
       "polynome_fit_SMOTE   0.967±0.003       0.868±0.037  0.861±0.041  0.514±0.019   \n",
       "ProWSyn              0.943±0.002       0.879±0.036  0.876±0.038  0.397±0.023   \n",
       "Lee                  0.975±0.001       0.894±0.032   0.89±0.035    0.6±0.018   \n",
       "Metropolis_hastings  0.968±0.003       0.813±0.023  0.796±0.027  0.489±0.022   \n",
       "\n",
       "                     cohen_kappa  \n",
       "SMOTE                 0.44±0.014  \n",
       "polynome_fit_SMOTE   0.499±0.019  \n",
       "ProWSyn              0.375±0.023  \n",
       "Lee                  0.588±0.018  \n",
       "Metropolis_hastings  0.474±0.022  "
      ]
     },
     "execution_count": 37,
     "metadata": {},
     "output_type": "execute_result"
    }
   ],
   "source": [
    "df"
   ]
  },
  {
   "cell_type": "code",
   "execution_count": 38,
   "id": "66bfd1c9-94d5-458c-bb70-d0303569018d",
   "metadata": {},
   "outputs": [],
   "source": [
    "with pd.ExcelWriter('SVM_clf_result_for_data1.xlsx') as excel_writer:\n",
    "  df.to_excel(excel_writer,sheet_name='sheet_1')"
   ]
  },
  {
   "cell_type": "code",
   "execution_count": null,
   "id": "896d16a1-8cdc-4455-89dd-495769929c7a",
   "metadata": {},
   "outputs": [],
   "source": []
  }
 ],
 "metadata": {
  "kernelspec": {
   "display_name": "Python 3 (ipykernel)",
   "language": "python",
   "name": "python3"
  },
  "language_info": {
   "codemirror_mode": {
    "name": "ipython",
    "version": 3
   },
   "file_extension": ".py",
   "mimetype": "text/x-python",
   "name": "python",
   "nbconvert_exporter": "python",
   "pygments_lexer": "ipython3",
   "version": "3.12.4"
  }
 },
 "nbformat": 4,
 "nbformat_minor": 5
}

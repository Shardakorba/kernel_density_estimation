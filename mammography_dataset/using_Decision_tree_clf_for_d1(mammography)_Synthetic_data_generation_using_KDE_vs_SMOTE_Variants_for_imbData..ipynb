{
 "cells": [
  {
   "cell_type": "code",
   "execution_count": 1,
   "id": "da522266-3f1b-4598-b57c-3cb42ff02de3",
   "metadata": {},
   "outputs": [],
   "source": [
    "import numpy as np\n",
    "import pandas as pd\n",
    "from tqdm.notebook import tqdm\n",
    "from sklearn.preprocessing import StandardScaler\n",
    "from sklearn.decomposition import PCA\n",
    "import matplotlib.pyplot as plt\n",
    "from sklearn.tree import DecisionTreeClassifier\n",
    "from sklearn.metrics import confusion_matrix\n",
    "from sklearn.metrics import accuracy_score\n",
    "from sklearn.metrics import balanced_accuracy_score\n",
    "from sklearn.metrics import f1_score\n",
    "from imblearn.metrics import geometric_mean_score\n",
    "from sklearn.metrics import cohen_kappa_score\n",
    "from imblearn.over_sampling import SMOTE\n",
    "from collections import Counter"
   ]
  },
  {
   "cell_type": "code",
   "execution_count": 2,
   "id": "2bfaf944-a076-4daa-b57c-8b119ac9e0ad",
   "metadata": {},
   "outputs": [],
   "source": [
    "with open('mammography_data.txt') as f:\n",
    "  lines = [line.rstrip('\\n')for line in f]"
   ]
  },
  {
   "cell_type": "code",
   "execution_count": 3,
   "id": "a9e3a642-3ccf-4724-8b26-adf3f114b421",
   "metadata": {},
   "outputs": [],
   "source": [
    "data_list=[]\n",
    "for i in range(len(lines)):\n",
    "    l= lines[i].split(',')\n",
    "    a=[float(i) for i in l[:-1]]\n",
    "    data_list.append(a)\n",
    "data= np.array(data_list)"
   ]
  },
  {
   "cell_type": "code",
   "execution_count": 4,
   "id": "82d96e57-3111-4397-8369-4d07a00a8287",
   "metadata": {},
   "outputs": [
    {
     "data": {
      "text/plain": [
       "(11183, 6)"
      ]
     },
     "execution_count": 4,
     "metadata": {},
     "output_type": "execute_result"
    }
   ],
   "source": [
    "data.shape"
   ]
  },
  {
   "cell_type": "code",
   "execution_count": 5,
   "id": "e24fd53f-5315-48e4-94fb-fac6612f07c7",
   "metadata": {},
   "outputs": [],
   "source": [
    "labels_string=[]\n",
    "for i in range(len(lines)):\n",
    "  labels_string.append(lines[i].split(',')[-1])"
   ]
  },
  {
   "cell_type": "code",
   "execution_count": 6,
   "id": "a8cb3469-2648-46e8-9f39-1a2db80176a4",
   "metadata": {},
   "outputs": [],
   "source": [
    "labels=[]\n",
    "for i in range(len(labels_string)):\n",
    "  if labels_string[i]==np.unique(labels_string)[0]:\n",
    "    labels.append(-1)\n",
    "  else:\n",
    "    labels.append(1)\n",
    "labels=np.array(labels)\n"
   ]
  },
  {
   "cell_type": "code",
   "execution_count": 7,
   "id": "6e3805ae-f81a-40a2-b2c3-80a5f09e6c8b",
   "metadata": {},
   "outputs": [],
   "source": [
    "def get_folds(data,labels,k):\n",
    "  np.random.seed(42)\n",
    "  shuffle=np.random.permutation(len(data))\n",
    "  data=data[shuffle]\n",
    "  labels=labels[shuffle]\n",
    "\n",
    "  block_length=int(len(data)/k)\n",
    "  data_folds=[]\n",
    "  label_folds=[]\n",
    "  for i in range(k):\n",
    "    if i==(k-1):\n",
    "      data_fold=data[i*block_length:]\n",
    "      data_folds.append(data_fold)\n",
    "      label_fold=labels[i*block_length:]\n",
    "      label_folds.append(label_fold)\n",
    "    else:\n",
    "      data_fold=data[i*block_length:block_length*(i+1)]\n",
    "      data_folds.append(data_fold)\n",
    "      label_fold=labels[i*block_length:block_length*(i+1)]\n",
    "      label_folds.append(label_fold)\n",
    "  return np.array(data_folds,dtype=object),np.array(label_folds,dtype=object)"
   ]
  },
  {
   "cell_type": "code",
   "execution_count": 8,
   "id": "4a7c8781-77e7-4529-994f-bb842e83bdb1",
   "metadata": {},
   "outputs": [],
   "source": [
    "def divide_data_into_k_folds(data,labels,k):\n",
    "  data_folds_array,label_folds_array=get_folds(data,labels,k)\n",
    "  all_data_folds_list=[]\n",
    "  all_labels_folds_list=[]\n",
    "  for i in range(k):\n",
    "    data_fold_k=[np.concatenate(data_folds_array[np.where(np.array(list(range(k)))!=i)[0]]), data_folds_array[i]]\n",
    "    all_data_folds_list.append(data_fold_k)\n",
    "\n",
    "    label_fold_k=[np.concatenate(label_folds_array[np.where(np.array(list(range(k)))!=i)[0]]), label_folds_array[i]]\n",
    "    all_labels_folds_list.append(label_fold_k)\n",
    "\n",
    "  return all_data_folds_list, all_labels_folds_list"
   ]
  },
  {
   "cell_type": "code",
   "execution_count": 9,
   "id": "42d2874a-972e-4d16-b0e2-fce2c5a27874",
   "metadata": {},
   "outputs": [],
   "source": [
    "all_data_folds_list, all_labels_folds_list=divide_data_into_k_folds(data,labels,5)"
   ]
  },
  {
   "cell_type": "code",
   "execution_count": 10,
   "id": "77ce35ad-0483-42eb-9639-cf80ba3f9188",
   "metadata": {},
   "outputs": [],
   "source": [
    "X_train,X_test=all_data_folds_list[0][0],all_data_folds_list[0][1]"
   ]
  },
  {
   "cell_type": "code",
   "execution_count": 11,
   "id": "1f06670c-85ff-49c1-9bf3-c8dc9215f2b4",
   "metadata": {},
   "outputs": [
    {
     "data": {
      "text/plain": [
       "(8947, 6)"
      ]
     },
     "execution_count": 11,
     "metadata": {},
     "output_type": "execute_result"
    }
   ],
   "source": [
    "X_train.shape"
   ]
  },
  {
   "cell_type": "code",
   "execution_count": 12,
   "id": "3a5524f9-7839-42e7-bf95-3185843470a6",
   "metadata": {},
   "outputs": [],
   "source": [
    "y_train,y_test=all_labels_folds_list[0][0],all_labels_folds_list[0][1]"
   ]
  },
  {
   "cell_type": "code",
   "execution_count": 13,
   "id": "f6ed7500-3a56-4db5-8293-b8c897b21ddf",
   "metadata": {},
   "outputs": [
    {
     "data": {
      "text/plain": [
       "(array([-1,  1]), array([8737,  210], dtype=int64))"
      ]
     },
     "execution_count": 13,
     "metadata": {},
     "output_type": "execute_result"
    }
   ],
   "source": [
    "np.unique(y_train, return_counts=True)"
   ]
  },
  {
   "cell_type": "code",
   "execution_count": 14,
   "id": "9960ad82-84d7-4bab-bec7-86b78f57ed34",
   "metadata": {},
   "outputs": [],
   "source": [
    "X_train_minority=[]\n",
    "for i in np.where(y_train==1):\n",
    "    a=X_train[i]\n",
    "    X_train_minority.append(a)"
   ]
  },
  {
   "cell_type": "code",
   "execution_count": 15,
   "id": "1a1ae8d8-4efd-4e57-a3db-b3c5619070c9",
   "metadata": {},
   "outputs": [],
   "source": [
    "X_train_minority_class=np.array(X_train_minority[0])"
   ]
  },
  {
   "cell_type": "code",
   "execution_count": 16,
   "id": "8fcc86b0-76c1-45ef-bb57-6362e0ca6611",
   "metadata": {},
   "outputs": [],
   "source": [
    "X_train_majority=[]\n",
    "for i in np.where(y_train==-1):\n",
    "    a=X_train[i]\n",
    "    X_train_majority.append(a)"
   ]
  },
  {
   "cell_type": "code",
   "execution_count": 17,
   "id": "76a03e6f-a635-47fb-8257-d9de916f48df",
   "metadata": {},
   "outputs": [],
   "source": [
    "X_train_majority_class=np.array(X_train_majority[0])"
   ]
  },
  {
   "cell_type": "code",
   "execution_count": 18,
   "id": "49416a00-49fb-49d4-86bf-37382a4c9dd7",
   "metadata": {},
   "outputs": [],
   "source": [
    "def k(H,x,d):\n",
    "  H_inv = np.linalg.inv(H)\n",
    "  x_tras=np.matrix.transpose(x)\n",
    "  h= np.linalg.det(H)\n",
    "  m=np.matmul(x_tras,H_inv)\n",
    "  m1=np.matmul(m,x)\n",
    "  e=np.exp(-0.5*m1)\n",
    "  n=2*(np.pi)**(-d/2)\n",
    "  v=n*(h)**(-1/2)*(e)\n",
    "  return v"
   ]
  },
  {
   "cell_type": "code",
   "execution_count": 19,
   "id": "b896602c-0d55-4515-ab0c-4f638248c342",
   "metadata": {},
   "outputs": [],
   "source": [
    "def density_gen(X, X_minority):\n",
    "    density_list=[]\n",
    "    for j in range(len(X)):\n",
    "        s=0\n",
    "        for i in range(len(X_minority)):\n",
    "            xi=X_minority[i]\n",
    "            dif=X[j]-xi\n",
    "            s=s+k(np.identity(X_minority.shape[1]), dif, X_minority.shape[1])\n",
    "        density_list.append(s/len(X_minority))\n",
    "    return np.array(density_list)"
   ]
  },
  {
   "cell_type": "code",
   "execution_count": 20,
   "id": "ec5eaab0-43fa-4c19-83bf-041b79d0ff6d",
   "metadata": {},
   "outputs": [],
   "source": [
    "unique_labels,counts=np.unique(y_train, return_counts=True)"
   ]
  },
  {
   "cell_type": "code",
   "execution_count": 21,
   "id": "2546e6bb-07c0-477c-b3df-8e5434e0b3dd",
   "metadata": {},
   "outputs": [],
   "source": [
    "def metropolis_hastings(target_density, X_minority, size=100):\n",
    "    np.random.seed(43)\n",
    "    burnin_size = 10000\n",
    "    size += burnin_size\n",
    "    x0 =X_minority[np.random.choice(list(range(len(X_train_minority_class))),1)]\n",
    "    xt = x0\n",
    "    samples = []\n",
    "    for i in tqdm(range(size)):\n",
    "        xt_candidate = np.array([np.random.multivariate_normal(xt[0], 0.2*np.eye(X_minority.shape[1]))])\n",
    "        accept_odds = (target_density(xt_candidate,X_minority))/(target_density(xt,X_minority))\n",
    "        if np.random.uniform(0, 1) < accept_odds:\n",
    "            xt = xt_candidate\n",
    "        samples.append(xt)\n",
    "    samples = np.array(samples[burnin_size:])\n",
    "    samples = np.reshape(samples, [samples.shape[0], X_minority.shape[1]])\n",
    "    return samples"
   ]
  },
  {
   "cell_type": "code",
   "execution_count": 22,
   "id": "3635f6ba-e3d5-4794-8e8c-87b0ba9d2b93",
   "metadata": {},
   "outputs": [],
   "source": [
    "import smote_variants as sv\n",
    "\n",
    "oversampler_SMOTE=sv.SMOTE()\n",
    "oversampler_polynome_fit = sv.polynom_fit_SMOTE_star()\n",
    "oversampler_ProWSyn= sv.ProWSyn()\n",
    "oversampler_SMOTE_IPF= sv.SMOTE_IPF()\n",
    "oversampler_Lee= sv.Lee()\n"
   ]
  },
  {
   "cell_type": "code",
   "execution_count": 23,
   "id": "bb53a6a7-b035-46c5-a2d0-475a408edc35",
   "metadata": {},
   "outputs": [],
   "source": [
    "oversampler_object_list = [oversampler_SMOTE,oversampler_polynome_fit,oversampler_ProWSyn, oversampler_Lee, metropolis_hastings]"
   ]
  },
  {
   "cell_type": "code",
   "execution_count": 24,
   "id": "ac352ec4-78ed-4f50-a830-80faf75937e2",
   "metadata": {},
   "outputs": [],
   "source": [
    "oversampler_name_list = ['SMOTE','polynome_fit_SMOTE','ProWSyn', 'Lee', 'Metropolis_hastings']"
   ]
  },
  {
   "cell_type": "code",
   "execution_count": 25,
   "id": "deeb371a-19dd-4250-9b43-98865e556d34",
   "metadata": {},
   "outputs": [],
   "source": [
    "def get_imb_oversampling(X_train,y_train,X_test,y_test,oversampler_index,classifier,visualize=True):\n",
    "  ## MH is in the end of the list oversampler_object_list\n",
    "  if oversampler_index!=len(oversampler_object_list)-1:\n",
    "    X_samp, y_samp = oversampler_object_list[oversampler_index].sample(X_train, y_train)\n",
    "\n",
    "  else:\n",
    "    X_train_minority=[]\n",
    "    for i in np.where(y_train==1):\n",
    "      a=X_train[i]\n",
    "      X_train_minority.append(a)\n",
    "\n",
    "    X_train_majority=[]\n",
    "    for i in np.where(y_train==-1):\n",
    "      a=X_train[i]\n",
    "      X_train_majority.append(a)\n",
    "    X_train_minority_class=np.array(X_train_minority[0])\n",
    "    X_train_majority_class=np.array(X_train_majority[0])\n",
    "\n",
    "    unique_labels,counts=np.unique(y_train, return_counts=True)\n",
    "\n",
    "    synthetic_minority_data = metropolis_hastings(density_gen, X_train_minority_class, size=counts[0]-counts[1])\n",
    "    balanced_minority=np.concatenate([X_train_minority_class, synthetic_minority_data])\n",
    "    balanced_data=np.concatenate([X_train_majority_class,balanced_minority])\n",
    "    balanced_labels_for_classification=np.concatenate([np.zeros(len(X_train_majority_class))-1,np.ones(len(balanced_minority))])\n",
    "    X_samp=balanced_data\n",
    "    y_samp=balanced_labels_for_classification\n",
    "\n",
    "  classifier.fit(X_samp,y_samp)\n",
    "  y_pred=classifier.predict(X_test)\n",
    "  cm=confusion_matrix(y_test, y_pred)\n",
    "  acc=accuracy_score(y_test, y_pred)\n",
    "  b_acc=balanced_accuracy_score(y_test, y_pred)\n",
    "  gm=geometric_mean_score(y_test, y_pred)\n",
    "  f1=f1_score(y_test, y_pred)\n",
    "  ck=cohen_kappa_score(y_test, y_pred)\n",
    "\n",
    "  if visualize==True:\n",
    "    scaler = StandardScaler()\n",
    "    scaler.fit(X_samp)\n",
    "    scaled_X_samp = scaler.transform(X_samp)\n",
    "    pca = PCA(n_components =2)\n",
    "    X_samp_pca=pca.fit_transform(scaled_X_samp)\n",
    "\n",
    "    plt.figure(figsize=(8,6))\n",
    "    color=[\"r\",\"b\"]\n",
    "    color_counter=0\n",
    "    for i in [-1,1]:\n",
    "      plt.scatter(X_samp_pca[:,0][np.where(y_samp==i)],X_samp_pca[:,1][np.where(y_samp==i)], s=10, c=color[color_counter])\n",
    "      color_counter=color_counter+1\n",
    "    plt.legend(['Majority','Manority'],fontsize=10, loc='lower right')\n",
    "    plt.xlabel(\"Principal Component 1\",fontsize=12)\n",
    "    plt.ylabel(\"Principlal Component 2 \",fontsize=12)\n",
    "    plt.title(\"PCA plot of majority class + minority class using\"+\"\"+ oversampler_name_list[oversampler_index]+\"technique\",fontsize=14)\n",
    "\n",
    "\n",
    "  return [cm, acc,b_acc,gm, f1, ck]"
   ]
  },
  {
   "cell_type": "code",
   "execution_count": 26,
   "id": "80214627-d85f-4210-b305-9a286964c8d4",
   "metadata": {},
   "outputs": [],
   "source": [
    "def calc_avg_performance(performance_index,results_all_folds):\n",
    "  ## performance index takes the index of the performance measure foe which we want to average over folds\n",
    "  ## results_all_folds are the results of a particular oversampler run over all folds recording all performance measures\n",
    "  s=0\n",
    "  for result in results_all_folds:\n",
    "    s=s+result[performance_index]\n",
    "  avg=s/len(results_all_folds)\n",
    "\n",
    "  s=0\n",
    "  for result in results_all_folds:\n",
    "    s=s+(result[performance_index]-avg)**2\n",
    "  std=np.sqrt(s/len(results_all_folds))\n",
    "  return avg, std"
   ]
  },
  {
   "cell_type": "code",
   "execution_count": 27,
   "id": "7fb608c9-6c5f-4e19-aeae-636fb4da415a",
   "metadata": {},
   "outputs": [],
   "source": [
    "clf = DecisionTreeClassifier(random_state=0)"
   ]
  },
  {
   "cell_type": "code",
   "execution_count": 28,
   "id": "fa81ca66-67fc-435e-bf4d-4cde6153dbb3",
   "metadata": {},
   "outputs": [],
   "source": [
    "perfromance_measures=['accuracy','balanced accuracy','g-mean','f1-score','cohen_kappa']\n",
    "def get_results_all_folds(oversampler_index,classifier, visualize=False, get_detailed_results=False):\n",
    "\n",
    "  results_all_folds=[]\n",
    "  for i in range(len(all_data_folds_list)):\n",
    "    X_train,X_test=all_data_folds_list[i][0],all_data_folds_list[i][1]\n",
    "    y_train,y_test=all_labels_folds_list[i][0],all_labels_folds_list[i][1]\n",
    "    results_single_fold=get_imb_oversampling(X_train,y_train,X_test,y_test,oversampler_index,clf,visualize=visualize)\n",
    "    results_all_folds.append(results_single_fold)\n",
    "\n",
    "  performance_summary_oversampler_classifer={}\n",
    "  for performance_index in range(1,6):\n",
    "    avg_std=calc_avg_performance(performance_index,results_all_folds)\n",
    "    performance_summary_oversampler_classifer[perfromance_measures[performance_index-1]]=avg_std\n",
    "\n",
    "  if get_detailed_results==True:\n",
    "    return results_all_folds, performance_summary_oversampler_classifer\n",
    "  else:\n",
    "    return performance_summary_oversampler_classifer"
   ]
  },
  {
   "cell_type": "code",
   "execution_count": 29,
   "id": "6b31d175-05ca-4fd2-8be4-3c1e833415f2",
   "metadata": {},
   "outputs": [
    {
     "name": "stderr",
     "output_type": "stream",
     "text": [
      "2024-08-20 14:52:58,836:INFO:SMOTE: Running sampling via ('SMOTE', \"{'proportion': 1.0, 'n_neighbors': 5, 'nn_params': {}, 'n_jobs': 1, 'ss_params': {'n_dim': 2, 'simplex_sampling': 'random', 'within_simplex_sampling': 'random', 'gaussian_component': {}}, 'random_state': None, 'class_name': 'SMOTE'}\")\n",
      "2024-08-20 14:52:58,836:INFO:NearestNeighborsWithMetricTensor: NN fitting with metric minkowski\n",
      "2024-08-20 14:52:58,836:INFO:NearestNeighborsWithMetricTensor: kneighbors query minkowski\n",
      "2024-08-20 14:52:58,844:INFO:SMOTE: simplex sampling with n_dim 2\n",
      "2024-08-20 14:52:58,943:INFO:SMOTE: Running sampling via ('SMOTE', \"{'proportion': 1.0, 'n_neighbors': 5, 'nn_params': {}, 'n_jobs': 1, 'ss_params': {'n_dim': 2, 'simplex_sampling': 'random', 'within_simplex_sampling': 'random', 'gaussian_component': {}}, 'random_state': None, 'class_name': 'SMOTE'}\")\n",
      "2024-08-20 14:52:58,943:INFO:NearestNeighborsWithMetricTensor: NN fitting with metric minkowski\n",
      "2024-08-20 14:52:58,943:INFO:NearestNeighborsWithMetricTensor: kneighbors query minkowski\n",
      "2024-08-20 14:52:58,943:INFO:SMOTE: simplex sampling with n_dim 2\n",
      "2024-08-20 14:52:59,063:INFO:SMOTE: Running sampling via ('SMOTE', \"{'proportion': 1.0, 'n_neighbors': 5, 'nn_params': {}, 'n_jobs': 1, 'ss_params': {'n_dim': 2, 'simplex_sampling': 'random', 'within_simplex_sampling': 'random', 'gaussian_component': {}}, 'random_state': None, 'class_name': 'SMOTE'}\")\n",
      "2024-08-20 14:52:59,065:INFO:NearestNeighborsWithMetricTensor: NN fitting with metric minkowski\n",
      "2024-08-20 14:52:59,066:INFO:NearestNeighborsWithMetricTensor: kneighbors query minkowski\n",
      "2024-08-20 14:52:59,067:INFO:SMOTE: simplex sampling with n_dim 2\n",
      "2024-08-20 14:52:59,167:INFO:SMOTE: Running sampling via ('SMOTE', \"{'proportion': 1.0, 'n_neighbors': 5, 'nn_params': {}, 'n_jobs': 1, 'ss_params': {'n_dim': 2, 'simplex_sampling': 'random', 'within_simplex_sampling': 'random', 'gaussian_component': {}}, 'random_state': None, 'class_name': 'SMOTE'}\")\n",
      "2024-08-20 14:52:59,168:INFO:NearestNeighborsWithMetricTensor: NN fitting with metric minkowski\n",
      "2024-08-20 14:52:59,169:INFO:NearestNeighborsWithMetricTensor: kneighbors query minkowski\n",
      "2024-08-20 14:52:59,171:INFO:SMOTE: simplex sampling with n_dim 2\n",
      "2024-08-20 14:52:59,269:INFO:SMOTE: Running sampling via ('SMOTE', \"{'proportion': 1.0, 'n_neighbors': 5, 'nn_params': {}, 'n_jobs': 1, 'ss_params': {'n_dim': 2, 'simplex_sampling': 'random', 'within_simplex_sampling': 'random', 'gaussian_component': {}}, 'random_state': None, 'class_name': 'SMOTE'}\")\n",
      "2024-08-20 14:52:59,270:INFO:NearestNeighborsWithMetricTensor: NN fitting with metric minkowski\n",
      "2024-08-20 14:52:59,271:INFO:NearestNeighborsWithMetricTensor: kneighbors query minkowski\n",
      "2024-08-20 14:52:59,273:INFO:SMOTE: simplex sampling with n_dim 2\n"
     ]
    },
    {
     "data": {
      "text/plain": [
       "{'accuracy': (0.9715641406486573, 0.0021997232931447444),\n",
       " 'balanced accuracy': (0.8329272500729792, 0.0520663927349183),\n",
       " 'g-mean': (0.8176830747201942, 0.062219743679275595),\n",
       " 'f1-score': (0.5263367939114246, 0.04692265859265942),\n",
       " 'cohen_kappa': (0.5124875119128701, 0.048087444355024815)}"
      ]
     },
     "execution_count": 29,
     "metadata": {},
     "output_type": "execute_result"
    }
   ],
   "source": [
    "get_results_all_folds(0,clf)"
   ]
  },
  {
   "cell_type": "code",
   "execution_count": 30,
   "id": "55a579c6-d75e-4bbc-a89b-20a6ff5a3d79",
   "metadata": {},
   "outputs": [
    {
     "name": "stderr",
     "output_type": "stream",
     "text": [
      "2024-08-20 14:52:59,375:INFO:SMOTE: Running sampling via ('SMOTE', \"{'proportion': 1.0, 'n_neighbors': 5, 'nn_params': {}, 'n_jobs': 1, 'ss_params': {'n_dim': 2, 'simplex_sampling': 'random', 'within_simplex_sampling': 'random', 'gaussian_component': {}}, 'random_state': None, 'class_name': 'SMOTE'}\")\n",
      "2024-08-20 14:52:59,376:INFO:NearestNeighborsWithMetricTensor: NN fitting with metric minkowski\n",
      "2024-08-20 14:52:59,378:INFO:NearestNeighborsWithMetricTensor: kneighbors query minkowski\n",
      "2024-08-20 14:52:59,381:INFO:SMOTE: simplex sampling with n_dim 2\n",
      "2024-08-20 14:52:59,510:INFO:SMOTE: Running sampling via ('SMOTE', \"{'proportion': 1.0, 'n_neighbors': 5, 'nn_params': {}, 'n_jobs': 1, 'ss_params': {'n_dim': 2, 'simplex_sampling': 'random', 'within_simplex_sampling': 'random', 'gaussian_component': {}}, 'random_state': None, 'class_name': 'SMOTE'}\")\n",
      "2024-08-20 14:52:59,512:INFO:NearestNeighborsWithMetricTensor: NN fitting with metric minkowski\n",
      "2024-08-20 14:52:59,512:INFO:NearestNeighborsWithMetricTensor: kneighbors query minkowski\n",
      "2024-08-20 14:52:59,512:INFO:SMOTE: simplex sampling with n_dim 2\n",
      "2024-08-20 14:52:59,610:INFO:SMOTE: Running sampling via ('SMOTE', \"{'proportion': 1.0, 'n_neighbors': 5, 'nn_params': {}, 'n_jobs': 1, 'ss_params': {'n_dim': 2, 'simplex_sampling': 'random', 'within_simplex_sampling': 'random', 'gaussian_component': {}}, 'random_state': None, 'class_name': 'SMOTE'}\")\n",
      "2024-08-20 14:52:59,610:INFO:NearestNeighborsWithMetricTensor: NN fitting with metric minkowski\n",
      "2024-08-20 14:52:59,610:INFO:NearestNeighborsWithMetricTensor: kneighbors query minkowski\n",
      "2024-08-20 14:52:59,610:INFO:SMOTE: simplex sampling with n_dim 2\n",
      "2024-08-20 14:52:59,743:INFO:SMOTE: Running sampling via ('SMOTE', \"{'proportion': 1.0, 'n_neighbors': 5, 'nn_params': {}, 'n_jobs': 1, 'ss_params': {'n_dim': 2, 'simplex_sampling': 'random', 'within_simplex_sampling': 'random', 'gaussian_component': {}}, 'random_state': None, 'class_name': 'SMOTE'}\")\n",
      "2024-08-20 14:52:59,744:INFO:NearestNeighborsWithMetricTensor: NN fitting with metric minkowski\n",
      "2024-08-20 14:52:59,744:INFO:NearestNeighborsWithMetricTensor: kneighbors query minkowski\n",
      "2024-08-20 14:52:59,744:INFO:SMOTE: simplex sampling with n_dim 2\n",
      "2024-08-20 14:52:59,842:INFO:SMOTE: Running sampling via ('SMOTE', \"{'proportion': 1.0, 'n_neighbors': 5, 'nn_params': {}, 'n_jobs': 1, 'ss_params': {'n_dim': 2, 'simplex_sampling': 'random', 'within_simplex_sampling': 'random', 'gaussian_component': {}}, 'random_state': None, 'class_name': 'SMOTE'}\")\n",
      "2024-08-20 14:52:59,842:INFO:NearestNeighborsWithMetricTensor: NN fitting with metric minkowski\n",
      "2024-08-20 14:52:59,842:INFO:NearestNeighborsWithMetricTensor: kneighbors query minkowski\n",
      "2024-08-20 14:52:59,842:INFO:SMOTE: simplex sampling with n_dim 2\n",
      "2024-08-20 14:52:59,994:INFO:polynom_fit_SMOTE_star: Running sampling via ('polynom_fit_SMOTE_star', \"{'proportion': 1.0, 'topology': 'star', 'random_state': None, 'class_name': 'polynom_fit_SMOTE_star'}\")\n",
      "2024-08-20 14:52:59,994:INFO:polynom_fit_SMOTE: Running sampling via ('polynom_fit_SMOTE', \"{'proportion': 1.0, 'topology': 'star', 'random_state': None, 'class_name': 'polynom_fit_SMOTE'}\")\n",
      "2024-08-20 14:53:00,099:INFO:polynom_fit_SMOTE_star: Running sampling via ('polynom_fit_SMOTE_star', \"{'proportion': 1.0, 'topology': 'star', 'random_state': None, 'class_name': 'polynom_fit_SMOTE_star'}\")\n",
      "2024-08-20 14:53:00,100:INFO:polynom_fit_SMOTE: Running sampling via ('polynom_fit_SMOTE', \"{'proportion': 1.0, 'topology': 'star', 'random_state': None, 'class_name': 'polynom_fit_SMOTE'}\")\n",
      "2024-08-20 14:53:00,207:INFO:polynom_fit_SMOTE_star: Running sampling via ('polynom_fit_SMOTE_star', \"{'proportion': 1.0, 'topology': 'star', 'random_state': None, 'class_name': 'polynom_fit_SMOTE_star'}\")\n",
      "2024-08-20 14:53:00,207:INFO:polynom_fit_SMOTE: Running sampling via ('polynom_fit_SMOTE', \"{'proportion': 1.0, 'topology': 'star', 'random_state': None, 'class_name': 'polynom_fit_SMOTE'}\")\n",
      "2024-08-20 14:53:00,307:INFO:polynom_fit_SMOTE_star: Running sampling via ('polynom_fit_SMOTE_star', \"{'proportion': 1.0, 'topology': 'star', 'random_state': None, 'class_name': 'polynom_fit_SMOTE_star'}\")\n",
      "2024-08-20 14:53:00,308:INFO:polynom_fit_SMOTE: Running sampling via ('polynom_fit_SMOTE', \"{'proportion': 1.0, 'topology': 'star', 'random_state': None, 'class_name': 'polynom_fit_SMOTE'}\")\n",
      "2024-08-20 14:53:00,407:INFO:polynom_fit_SMOTE_star: Running sampling via ('polynom_fit_SMOTE_star', \"{'proportion': 1.0, 'topology': 'star', 'random_state': None, 'class_name': 'polynom_fit_SMOTE_star'}\")\n",
      "2024-08-20 14:53:00,408:INFO:polynom_fit_SMOTE: Running sampling via ('polynom_fit_SMOTE', \"{'proportion': 1.0, 'topology': 'star', 'random_state': None, 'class_name': 'polynom_fit_SMOTE'}\")\n",
      "2024-08-20 14:53:00,503:INFO:ProWSyn: Running sampling via ('ProWSyn', \"{'proportion': 1.0, 'n_neighbors': 5, 'nn_params': {}, 'L': 5, 'theta': 1.0, 'n_jobs': 1, 'ss_params': {'n_dim': 2, 'simplex_sampling': 'random', 'within_simplex_sampling': 'random', 'gaussian_component': {}}, 'random_state': None, 'class_name': 'ProWSyn'}\")\n",
      "2024-08-20 14:53:00,504:INFO:NearestNeighborsWithMetricTensor: NN fitting with metric minkowski\n",
      "2024-08-20 14:53:00,505:INFO:NearestNeighborsWithMetricTensor: kneighbors query minkowski\n",
      "2024-08-20 14:53:00,518:INFO:NearestNeighborsWithMetricTensor: NN fitting with metric minkowski\n",
      "2024-08-20 14:53:00,519:INFO:NearestNeighborsWithMetricTensor: kneighbors query minkowski\n",
      "2024-08-20 14:53:00,528:INFO:NearestNeighborsWithMetricTensor: NN fitting with metric minkowski\n",
      "2024-08-20 14:53:00,530:INFO:NearestNeighborsWithMetricTensor: kneighbors query minkowski\n",
      "2024-08-20 14:53:00,534:INFO:NearestNeighborsWithMetricTensor: NN fitting with metric minkowski\n",
      "2024-08-20 14:53:00,535:INFO:NearestNeighborsWithMetricTensor: kneighbors query minkowski\n",
      "2024-08-20 14:53:00,674:INFO:NearestNeighborsWithMetricTensor: NN fitting with metric minkowski\n",
      "2024-08-20 14:53:00,674:INFO:NearestNeighborsWithMetricTensor: kneighbors query minkowski\n",
      "2024-08-20 14:53:00,708:INFO:ProWSyn: simplex sampling with n_dim 2\n",
      "2024-08-20 14:53:00,708:INFO:ProWSyn: simplex sampling with n_dim 2\n",
      "2024-08-20 14:53:00,725:INFO:ProWSyn: simplex sampling with n_dim 2\n",
      "2024-08-20 14:53:00,725:INFO:ProWSyn: simplex sampling with n_dim 2\n",
      "2024-08-20 14:53:00,725:INFO:ProWSyn: simplex sampling with n_dim 2\n",
      "2024-08-20 14:53:00,841:INFO:ProWSyn: Running sampling via ('ProWSyn', \"{'proportion': 1.0, 'n_neighbors': 5, 'nn_params': {}, 'L': 5, 'theta': 1.0, 'n_jobs': 1, 'ss_params': {'n_dim': 2, 'simplex_sampling': 'random', 'within_simplex_sampling': 'random', 'gaussian_component': {}}, 'random_state': None, 'class_name': 'ProWSyn'}\")\n",
      "2024-08-20 14:53:00,841:INFO:NearestNeighborsWithMetricTensor: NN fitting with metric minkowski\n",
      "2024-08-20 14:53:00,841:INFO:NearestNeighborsWithMetricTensor: kneighbors query minkowski\n",
      "2024-08-20 14:53:00,857:INFO:NearestNeighborsWithMetricTensor: NN fitting with metric minkowski\n",
      "2024-08-20 14:53:00,858:INFO:NearestNeighborsWithMetricTensor: kneighbors query minkowski\n",
      "2024-08-20 14:53:00,858:INFO:NearestNeighborsWithMetricTensor: NN fitting with metric minkowski\n",
      "2024-08-20 14:53:00,858:INFO:NearestNeighborsWithMetricTensor: kneighbors query minkowski\n",
      "2024-08-20 14:53:00,858:INFO:NearestNeighborsWithMetricTensor: NN fitting with metric minkowski\n",
      "2024-08-20 14:53:00,858:INFO:NearestNeighborsWithMetricTensor: kneighbors query minkowski\n",
      "2024-08-20 14:53:00,907:INFO:NearestNeighborsWithMetricTensor: NN fitting with metric minkowski\n",
      "2024-08-20 14:53:00,907:INFO:NearestNeighborsWithMetricTensor: kneighbors query minkowski\n",
      "2024-08-20 14:53:00,941:INFO:ProWSyn: simplex sampling with n_dim 2\n",
      "2024-08-20 14:53:00,941:INFO:ProWSyn: simplex sampling with n_dim 2\n",
      "2024-08-20 14:53:00,941:INFO:ProWSyn: simplex sampling with n_dim 2\n",
      "2024-08-20 14:53:00,957:INFO:ProWSyn: simplex sampling with n_dim 2\n",
      "2024-08-20 14:53:00,958:INFO:ProWSyn: The simplex order was updated from 2 to 1\n",
      "2024-08-20 14:53:00,958:INFO:ProWSyn: simplex sampling with n_dim 1\n",
      "2024-08-20 14:53:01,058:INFO:ProWSyn: Running sampling via ('ProWSyn', \"{'proportion': 1.0, 'n_neighbors': 5, 'nn_params': {}, 'L': 5, 'theta': 1.0, 'n_jobs': 1, 'ss_params': {'n_dim': 2, 'simplex_sampling': 'random', 'within_simplex_sampling': 'random', 'gaussian_component': {}}, 'random_state': None, 'class_name': 'ProWSyn'}\")\n",
      "2024-08-20 14:53:01,058:INFO:NearestNeighborsWithMetricTensor: NN fitting with metric minkowski\n",
      "2024-08-20 14:53:01,058:INFO:NearestNeighborsWithMetricTensor: kneighbors query minkowski\n",
      "2024-08-20 14:53:01,074:INFO:NearestNeighborsWithMetricTensor: NN fitting with metric minkowski\n",
      "2024-08-20 14:53:01,074:INFO:NearestNeighborsWithMetricTensor: kneighbors query minkowski\n",
      "2024-08-20 14:53:01,084:INFO:NearestNeighborsWithMetricTensor: NN fitting with metric minkowski\n",
      "2024-08-20 14:53:01,084:INFO:NearestNeighborsWithMetricTensor: kneighbors query minkowski\n",
      "2024-08-20 14:53:01,092:INFO:NearestNeighborsWithMetricTensor: NN fitting with metric minkowski\n",
      "2024-08-20 14:53:01,092:INFO:NearestNeighborsWithMetricTensor: kneighbors query minkowski\n",
      "2024-08-20 14:53:01,125:INFO:NearestNeighborsWithMetricTensor: NN fitting with metric minkowski\n",
      "2024-08-20 14:53:01,125:INFO:NearestNeighborsWithMetricTensor: kneighbors query minkowski\n",
      "2024-08-20 14:53:01,158:INFO:ProWSyn: simplex sampling with n_dim 2\n",
      "2024-08-20 14:53:01,176:INFO:ProWSyn: simplex sampling with n_dim 2\n",
      "2024-08-20 14:53:01,192:INFO:ProWSyn: simplex sampling with n_dim 2\n",
      "2024-08-20 14:53:01,192:INFO:ProWSyn: simplex sampling with n_dim 2\n",
      "2024-08-20 14:53:01,192:INFO:ProWSyn: The simplex order was updated from 2 to 1\n",
      "2024-08-20 14:53:01,192:INFO:ProWSyn: simplex sampling with n_dim 1\n",
      "2024-08-20 14:53:01,307:INFO:ProWSyn: Running sampling via ('ProWSyn', \"{'proportion': 1.0, 'n_neighbors': 5, 'nn_params': {}, 'L': 5, 'theta': 1.0, 'n_jobs': 1, 'ss_params': {'n_dim': 2, 'simplex_sampling': 'random', 'within_simplex_sampling': 'random', 'gaussian_component': {}}, 'random_state': None, 'class_name': 'ProWSyn'}\")\n",
      "2024-08-20 14:53:01,307:INFO:NearestNeighborsWithMetricTensor: NN fitting with metric minkowski\n",
      "2024-08-20 14:53:01,307:INFO:NearestNeighborsWithMetricTensor: kneighbors query minkowski\n",
      "2024-08-20 14:53:01,324:INFO:NearestNeighborsWithMetricTensor: NN fitting with metric minkowski\n",
      "2024-08-20 14:53:01,324:INFO:NearestNeighborsWithMetricTensor: kneighbors query minkowski\n",
      "2024-08-20 14:53:01,324:INFO:NearestNeighborsWithMetricTensor: NN fitting with metric minkowski\n",
      "2024-08-20 14:53:01,324:INFO:NearestNeighborsWithMetricTensor: kneighbors query minkowski\n",
      "2024-08-20 14:53:01,340:INFO:NearestNeighborsWithMetricTensor: NN fitting with metric minkowski\n",
      "2024-08-20 14:53:01,341:INFO:NearestNeighborsWithMetricTensor: kneighbors query minkowski\n",
      "2024-08-20 14:53:01,341:INFO:NearestNeighborsWithMetricTensor: NN fitting with metric minkowski\n",
      "2024-08-20 14:53:01,341:INFO:NearestNeighborsWithMetricTensor: kneighbors query minkowski\n",
      "2024-08-20 14:53:01,374:INFO:ProWSyn: simplex sampling with n_dim 2\n",
      "2024-08-20 14:53:01,391:INFO:ProWSyn: simplex sampling with n_dim 2\n",
      "2024-08-20 14:53:01,391:INFO:ProWSyn: simplex sampling with n_dim 2\n",
      "2024-08-20 14:53:01,391:INFO:ProWSyn: simplex sampling with n_dim 2\n",
      "2024-08-20 14:53:01,391:INFO:ProWSyn: simplex sampling with n_dim 2\n",
      "2024-08-20 14:53:01,391:INFO:ProWSyn: The simplex order was updated from 2 to 1\n",
      "2024-08-20 14:53:01,391:INFO:ProWSyn: simplex sampling with n_dim 1\n",
      "2024-08-20 14:53:01,506:INFO:ProWSyn: Running sampling via ('ProWSyn', \"{'proportion': 1.0, 'n_neighbors': 5, 'nn_params': {}, 'L': 5, 'theta': 1.0, 'n_jobs': 1, 'ss_params': {'n_dim': 2, 'simplex_sampling': 'random', 'within_simplex_sampling': 'random', 'gaussian_component': {}}, 'random_state': None, 'class_name': 'ProWSyn'}\")\n",
      "2024-08-20 14:53:01,507:INFO:NearestNeighborsWithMetricTensor: NN fitting with metric minkowski\n",
      "2024-08-20 14:53:01,508:INFO:NearestNeighborsWithMetricTensor: kneighbors query minkowski\n",
      "2024-08-20 14:53:01,519:INFO:NearestNeighborsWithMetricTensor: NN fitting with metric minkowski\n",
      "2024-08-20 14:53:01,520:INFO:NearestNeighborsWithMetricTensor: kneighbors query minkowski\n",
      "2024-08-20 14:53:01,524:INFO:NearestNeighborsWithMetricTensor: NN fitting with metric minkowski\n",
      "2024-08-20 14:53:01,524:INFO:NearestNeighborsWithMetricTensor: kneighbors query minkowski\n",
      "2024-08-20 14:53:01,524:INFO:NearestNeighborsWithMetricTensor: NN fitting with metric minkowski\n",
      "2024-08-20 14:53:01,535:INFO:NearestNeighborsWithMetricTensor: kneighbors query minkowski\n",
      "2024-08-20 14:53:01,557:INFO:NearestNeighborsWithMetricTensor: NN fitting with metric minkowski\n",
      "2024-08-20 14:53:01,573:INFO:NearestNeighborsWithMetricTensor: kneighbors query minkowski\n",
      "2024-08-20 14:53:01,607:INFO:ProWSyn: simplex sampling with n_dim 2\n",
      "2024-08-20 14:53:01,607:INFO:ProWSyn: simplex sampling with n_dim 2\n",
      "2024-08-20 14:53:01,607:INFO:ProWSyn: simplex sampling with n_dim 2\n",
      "2024-08-20 14:53:01,607:INFO:ProWSyn: simplex sampling with n_dim 2\n",
      "2024-08-20 14:53:01,622:INFO:ProWSyn: The simplex order was updated from 2 to 1\n",
      "2024-08-20 14:53:01,623:INFO:ProWSyn: simplex sampling with n_dim 1\n",
      "2024-08-20 14:53:01,723:INFO:Lee: Running sampling via ('Lee', \"{'proportion': 1.0, 'n_neighbors': 5, 'nn_params': {}, 'rejection_level': 0.5, 'n_jobs': 1, 'ss_params': {'n_dim': 2, 'simplex_sampling': 'random', 'within_simplex_sampling': 'random', 'gaussian_component': {}}, 'random_state': None, 'class_name': 'Lee'}\")\n",
      "2024-08-20 14:53:01,723:INFO:NearestNeighborsWithMetricTensor: NN fitting with metric minkowski\n",
      "2024-08-20 14:53:01,723:INFO:NearestNeighborsWithMetricTensor: NN fitting with metric minkowski\n",
      "2024-08-20 14:53:01,723:INFO:NearestNeighborsWithMetricTensor: kneighbors query minkowski\n",
      "2024-08-20 14:53:01,739:INFO:Lee: simplex sampling with n_dim 2\n",
      "2024-08-20 14:53:01,741:INFO:NearestNeighborsWithMetricTensor: kneighbors query minkowski\n",
      "2024-08-20 14:53:01,806:INFO:Lee: simplex sampling with n_dim 2\n",
      "2024-08-20 14:53:01,806:INFO:NearestNeighborsWithMetricTensor: kneighbors query minkowski\n",
      "2024-08-20 14:53:01,824:INFO:Lee: simplex sampling with n_dim 2\n",
      "2024-08-20 14:53:01,824:INFO:NearestNeighborsWithMetricTensor: kneighbors query minkowski\n",
      "2024-08-20 14:53:01,840:INFO:Lee: simplex sampling with n_dim 2\n",
      "2024-08-20 14:53:01,840:INFO:NearestNeighborsWithMetricTensor: kneighbors query minkowski\n",
      "2024-08-20 14:53:01,858:INFO:Lee: simplex sampling with n_dim 2\n",
      "2024-08-20 14:53:01,858:INFO:NearestNeighborsWithMetricTensor: kneighbors query minkowski\n",
      "2024-08-20 14:53:01,858:INFO:Lee: simplex sampling with n_dim 2\n",
      "2024-08-20 14:53:01,858:INFO:NearestNeighborsWithMetricTensor: kneighbors query minkowski\n",
      "2024-08-20 14:53:01,858:INFO:Lee: simplex sampling with n_dim 2\n",
      "2024-08-20 14:53:01,874:INFO:NearestNeighborsWithMetricTensor: kneighbors query minkowski\n",
      "2024-08-20 14:53:01,989:INFO:Lee: Running sampling via ('Lee', \"{'proportion': 1.0, 'n_neighbors': 5, 'nn_params': {}, 'rejection_level': 0.5, 'n_jobs': 1, 'ss_params': {'n_dim': 2, 'simplex_sampling': 'random', 'within_simplex_sampling': 'random', 'gaussian_component': {}}, 'random_state': None, 'class_name': 'Lee'}\")\n",
      "2024-08-20 14:53:01,991:INFO:NearestNeighborsWithMetricTensor: NN fitting with metric minkowski\n",
      "2024-08-20 14:53:01,998:INFO:NearestNeighborsWithMetricTensor: NN fitting with metric minkowski\n",
      "2024-08-20 14:53:01,999:INFO:NearestNeighborsWithMetricTensor: kneighbors query minkowski\n",
      "2024-08-20 14:53:02,000:INFO:Lee: simplex sampling with n_dim 2\n",
      "2024-08-20 14:53:02,003:INFO:NearestNeighborsWithMetricTensor: kneighbors query minkowski\n",
      "2024-08-20 14:53:02,057:INFO:Lee: simplex sampling with n_dim 2\n",
      "2024-08-20 14:53:02,073:INFO:NearestNeighborsWithMetricTensor: kneighbors query minkowski\n",
      "2024-08-20 14:53:02,100:INFO:Lee: simplex sampling with n_dim 2\n",
      "2024-08-20 14:53:02,101:INFO:NearestNeighborsWithMetricTensor: kneighbors query minkowski\n",
      "2024-08-20 14:53:02,110:INFO:Lee: simplex sampling with n_dim 2\n",
      "2024-08-20 14:53:02,111:INFO:NearestNeighborsWithMetricTensor: kneighbors query minkowski\n",
      "2024-08-20 14:53:02,115:INFO:Lee: simplex sampling with n_dim 2\n",
      "2024-08-20 14:53:02,116:INFO:NearestNeighborsWithMetricTensor: kneighbors query minkowski\n",
      "2024-08-20 14:53:02,119:INFO:Lee: simplex sampling with n_dim 2\n",
      "2024-08-20 14:53:02,120:INFO:NearestNeighborsWithMetricTensor: kneighbors query minkowski\n",
      "2024-08-20 14:53:02,122:INFO:Lee: simplex sampling with n_dim 2\n",
      "2024-08-20 14:53:02,124:INFO:NearestNeighborsWithMetricTensor: kneighbors query minkowski\n",
      "2024-08-20 14:53:02,207:INFO:Lee: Running sampling via ('Lee', \"{'proportion': 1.0, 'n_neighbors': 5, 'nn_params': {}, 'rejection_level': 0.5, 'n_jobs': 1, 'ss_params': {'n_dim': 2, 'simplex_sampling': 'random', 'within_simplex_sampling': 'random', 'gaussian_component': {}}, 'random_state': None, 'class_name': 'Lee'}\")\n",
      "2024-08-20 14:53:02,207:INFO:NearestNeighborsWithMetricTensor: NN fitting with metric minkowski\n",
      "2024-08-20 14:53:02,207:INFO:NearestNeighborsWithMetricTensor: NN fitting with metric minkowski\n",
      "2024-08-20 14:53:02,207:INFO:NearestNeighborsWithMetricTensor: kneighbors query minkowski\n",
      "2024-08-20 14:53:02,222:INFO:Lee: simplex sampling with n_dim 2\n",
      "2024-08-20 14:53:02,224:INFO:NearestNeighborsWithMetricTensor: kneighbors query minkowski\n",
      "2024-08-20 14:53:02,290:INFO:Lee: simplex sampling with n_dim 2\n",
      "2024-08-20 14:53:02,290:INFO:NearestNeighborsWithMetricTensor: kneighbors query minkowski\n",
      "2024-08-20 14:53:02,323:INFO:Lee: simplex sampling with n_dim 2\n",
      "2024-08-20 14:53:02,323:INFO:NearestNeighborsWithMetricTensor: kneighbors query minkowski\n",
      "2024-08-20 14:53:02,323:INFO:Lee: simplex sampling with n_dim 2\n",
      "2024-08-20 14:53:02,339:INFO:NearestNeighborsWithMetricTensor: kneighbors query minkowski\n",
      "2024-08-20 14:53:02,344:INFO:Lee: simplex sampling with n_dim 2\n",
      "2024-08-20 14:53:02,346:INFO:NearestNeighborsWithMetricTensor: kneighbors query minkowski\n",
      "2024-08-20 14:53:02,348:INFO:Lee: simplex sampling with n_dim 2\n",
      "2024-08-20 14:53:02,349:INFO:NearestNeighborsWithMetricTensor: kneighbors query minkowski\n",
      "2024-08-20 14:53:02,351:INFO:Lee: simplex sampling with n_dim 2\n",
      "2024-08-20 14:53:02,352:INFO:NearestNeighborsWithMetricTensor: kneighbors query minkowski\n",
      "2024-08-20 14:53:02,353:INFO:Lee: simplex sampling with n_dim 2\n",
      "2024-08-20 14:53:02,354:INFO:NearestNeighborsWithMetricTensor: kneighbors query minkowski\n",
      "2024-08-20 14:53:02,455:INFO:Lee: Running sampling via ('Lee', \"{'proportion': 1.0, 'n_neighbors': 5, 'nn_params': {}, 'rejection_level': 0.5, 'n_jobs': 1, 'ss_params': {'n_dim': 2, 'simplex_sampling': 'random', 'within_simplex_sampling': 'random', 'gaussian_component': {}}, 'random_state': None, 'class_name': 'Lee'}\")\n",
      "2024-08-20 14:53:02,456:INFO:NearestNeighborsWithMetricTensor: NN fitting with metric minkowski\n",
      "2024-08-20 14:53:02,466:INFO:NearestNeighborsWithMetricTensor: NN fitting with metric minkowski\n",
      "2024-08-20 14:53:02,467:INFO:NearestNeighborsWithMetricTensor: kneighbors query minkowski\n",
      "2024-08-20 14:53:02,469:INFO:Lee: simplex sampling with n_dim 2\n",
      "2024-08-20 14:53:02,473:INFO:NearestNeighborsWithMetricTensor: kneighbors query minkowski\n",
      "2024-08-20 14:53:02,558:INFO:Lee: simplex sampling with n_dim 2\n",
      "2024-08-20 14:53:02,560:INFO:NearestNeighborsWithMetricTensor: kneighbors query minkowski\n",
      "2024-08-20 14:53:02,584:INFO:Lee: simplex sampling with n_dim 2\n",
      "2024-08-20 14:53:02,586:INFO:NearestNeighborsWithMetricTensor: kneighbors query minkowski\n",
      "2024-08-20 14:53:02,595:INFO:Lee: simplex sampling with n_dim 2\n",
      "2024-08-20 14:53:02,597:INFO:NearestNeighborsWithMetricTensor: kneighbors query minkowski\n",
      "2024-08-20 14:53:02,600:INFO:Lee: simplex sampling with n_dim 2\n",
      "2024-08-20 14:53:02,601:INFO:NearestNeighborsWithMetricTensor: kneighbors query minkowski\n",
      "2024-08-20 14:53:02,603:INFO:Lee: simplex sampling with n_dim 2\n",
      "2024-08-20 14:53:02,604:INFO:NearestNeighborsWithMetricTensor: kneighbors query minkowski\n",
      "2024-08-20 14:53:02,684:INFO:Lee: Running sampling via ('Lee', \"{'proportion': 1.0, 'n_neighbors': 5, 'nn_params': {}, 'rejection_level': 0.5, 'n_jobs': 1, 'ss_params': {'n_dim': 2, 'simplex_sampling': 'random', 'within_simplex_sampling': 'random', 'gaussian_component': {}}, 'random_state': None, 'class_name': 'Lee'}\")\n",
      "2024-08-20 14:53:02,684:INFO:NearestNeighborsWithMetricTensor: NN fitting with metric minkowski\n",
      "2024-08-20 14:53:02,699:INFO:NearestNeighborsWithMetricTensor: NN fitting with metric minkowski\n",
      "2024-08-20 14:53:02,699:INFO:NearestNeighborsWithMetricTensor: kneighbors query minkowski\n",
      "2024-08-20 14:53:02,699:INFO:Lee: simplex sampling with n_dim 2\n",
      "2024-08-20 14:53:02,699:INFO:NearestNeighborsWithMetricTensor: kneighbors query minkowski\n",
      "2024-08-20 14:53:02,757:INFO:Lee: simplex sampling with n_dim 2\n",
      "2024-08-20 14:53:02,773:INFO:NearestNeighborsWithMetricTensor: kneighbors query minkowski\n",
      "2024-08-20 14:53:02,789:INFO:Lee: simplex sampling with n_dim 2\n",
      "2024-08-20 14:53:02,789:INFO:NearestNeighborsWithMetricTensor: kneighbors query minkowski\n",
      "2024-08-20 14:53:02,806:INFO:Lee: simplex sampling with n_dim 2\n",
      "2024-08-20 14:53:02,806:INFO:NearestNeighborsWithMetricTensor: kneighbors query minkowski\n",
      "2024-08-20 14:53:02,806:INFO:Lee: simplex sampling with n_dim 2\n",
      "2024-08-20 14:53:02,806:INFO:NearestNeighborsWithMetricTensor: kneighbors query minkowski\n",
      "2024-08-20 14:53:02,806:INFO:Lee: simplex sampling with n_dim 2\n",
      "2024-08-20 14:53:02,806:INFO:NearestNeighborsWithMetricTensor: kneighbors query minkowski\n",
      "2024-08-20 14:53:02,806:INFO:Lee: simplex sampling with n_dim 2\n",
      "2024-08-20 14:53:02,806:INFO:NearestNeighborsWithMetricTensor: kneighbors query minkowski\n"
     ]
    },
    {
     "data": {
      "application/vnd.jupyter.widget-view+json": {
       "model_id": "9073ca304f154364b93171480b21e824",
       "version_major": 2,
       "version_minor": 0
      },
      "text/plain": [
       "  0%|          | 0/18527 [00:00<?, ?it/s]"
      ]
     },
     "metadata": {},
     "output_type": "display_data"
    },
    {
     "data": {
      "application/vnd.jupyter.widget-view+json": {
       "model_id": "6109cbb891f147d5a660785d6fc12000",
       "version_major": 2,
       "version_minor": 0
      },
      "text/plain": [
       "  0%|          | 0/18521 [00:00<?, ?it/s]"
      ]
     },
     "metadata": {},
     "output_type": "display_data"
    },
    {
     "data": {
      "application/vnd.jupyter.widget-view+json": {
       "model_id": "277b2f7ab1a54e6fbef3790ad6530519",
       "version_major": 2,
       "version_minor": 0
      },
      "text/plain": [
       "  0%|          | 0/18533 [00:00<?, ?it/s]"
      ]
     },
     "metadata": {},
     "output_type": "display_data"
    },
    {
     "data": {
      "application/vnd.jupyter.widget-view+json": {
       "model_id": "d19147fbaa5349a38f313881509fa5ac",
       "version_major": 2,
       "version_minor": 0
      },
      "text/plain": [
       "  0%|          | 0/18535 [00:00<?, ?it/s]"
      ]
     },
     "metadata": {},
     "output_type": "display_data"
    },
    {
     "data": {
      "application/vnd.jupyter.widget-view+json": {
       "model_id": "6c51c5cf61714018ba61eeb51c934caa",
       "version_major": 2,
       "version_minor": 0
      },
      "text/plain": [
       "  0%|          | 0/18536 [00:00<?, ?it/s]"
      ]
     },
     "metadata": {},
     "output_type": "display_data"
    }
   ],
   "source": [
    "summary_performace_for_all_oversampling_algorithms_all_folds=[]\n",
    "for i in range(len(oversampler_object_list)):\n",
    "  summary_performace_for_all_oversampling_algorithms_all_folds.append(get_results_all_folds(i,clf))"
   ]
  },
  {
   "cell_type": "code",
   "execution_count": 31,
   "id": "f81be6e4-df1b-4e4e-9b9e-4bfdd4b6f731",
   "metadata": {},
   "outputs": [],
   "source": [
    "summary_performace_for_all_oversampling_algorithms_all_folds_list=np.array([[[round(i,3) for i in summary_performace_for_all_oversampling_algorithms_all_folds[oversampler_index][key]] for key in summary_performace_for_all_oversampling_algorithms_all_folds[0].keys()] for oversampler_index in range(len(oversampler_name_list))])"
   ]
  },
  {
   "cell_type": "code",
   "execution_count": 32,
   "id": "b6398f8a-2557-45e6-93a1-c65ef318d64f",
   "metadata": {},
   "outputs": [],
   "source": [
    "oversamplers_result_summary_list=[]\n",
    "for i in range(summary_performace_for_all_oversampling_algorithms_all_folds_list.shape[0]):\n",
    "  performance_results_summary_list=[]\n",
    "  for j in range(summary_performace_for_all_oversampling_algorithms_all_folds_list.shape[1]):\n",
    "    performance_results_summary_list.append(str(summary_performace_for_all_oversampling_algorithms_all_folds_list[i][j][0])+\"\\u00B1\"+str(summary_performace_for_all_oversampling_algorithms_all_folds_list[i][j][1]))\n",
    "  oversamplers_result_summary_list.append(performance_results_summary_list)\n",
    "oversamplers_result_summary_list=np.array(oversamplers_result_summary_list)"
   ]
  },
  {
   "cell_type": "code",
   "execution_count": 33,
   "id": "08fcfe68-2fcd-4ad3-8317-9b57af28e4b6",
   "metadata": {},
   "outputs": [
    {
     "data": {
      "text/plain": [
       "['0.971±0.003', '0.817±0.034', '0.8±0.041', '0.515±0.049', '0.501±0.05']"
      ]
     },
     "execution_count": 33,
     "metadata": {},
     "output_type": "execute_result"
    }
   ],
   "source": [
    "performance_results_summary_list"
   ]
  },
  {
   "cell_type": "code",
   "execution_count": 34,
   "id": "3aa2f16e-61c4-4d8d-bebc-d7bbf36c1cf8",
   "metadata": {},
   "outputs": [
    {
     "data": {
      "text/plain": [
       "array([['0.971±0.004', '0.825±0.056', '0.807±0.069', '0.514±0.063',\n",
       "        '0.5±0.065'],\n",
       "       ['0.977±0.004', '0.828±0.04', '0.812±0.049', '0.575±0.056',\n",
       "        '0.564±0.058'],\n",
       "       ['0.954±0.004', '0.851±0.037', '0.843±0.042', '0.428±0.03',\n",
       "        '0.408±0.031'],\n",
       "       ['0.981±0.003', '0.81±0.043', '0.788±0.054', '0.601±0.05',\n",
       "        '0.591±0.052'],\n",
       "       ['0.971±0.003', '0.817±0.034', '0.8±0.041', '0.515±0.049',\n",
       "        '0.501±0.05']], dtype='<U11')"
      ]
     },
     "execution_count": 34,
     "metadata": {},
     "output_type": "execute_result"
    }
   ],
   "source": [
    "oversamplers_result_summary_list"
   ]
  },
  {
   "cell_type": "code",
   "execution_count": 35,
   "id": "a12b4a4f-fb2a-4438-98eb-40fc016c7ec5",
   "metadata": {},
   "outputs": [],
   "source": [
    "df=pd.DataFrame(oversamplers_result_summary_list,columns=perfromance_measures,index=oversampler_name_list)"
   ]
  },
  {
   "cell_type": "code",
   "execution_count": 36,
   "id": "716e7ab6-fdb4-4d32-94ef-ac51f9aa9656",
   "metadata": {},
   "outputs": [
    {
     "data": {
      "text/html": [
       "<div>\n",
       "<style scoped>\n",
       "    .dataframe tbody tr th:only-of-type {\n",
       "        vertical-align: middle;\n",
       "    }\n",
       "\n",
       "    .dataframe tbody tr th {\n",
       "        vertical-align: top;\n",
       "    }\n",
       "\n",
       "    .dataframe thead th {\n",
       "        text-align: right;\n",
       "    }\n",
       "</style>\n",
       "<table border=\"1\" class=\"dataframe\">\n",
       "  <thead>\n",
       "    <tr style=\"text-align: right;\">\n",
       "      <th></th>\n",
       "      <th>accuracy</th>\n",
       "      <th>balanced accuracy</th>\n",
       "      <th>g-mean</th>\n",
       "      <th>f1-score</th>\n",
       "      <th>cohen_kappa</th>\n",
       "    </tr>\n",
       "  </thead>\n",
       "  <tbody>\n",
       "    <tr>\n",
       "      <th>SMOTE</th>\n",
       "      <td>0.971±0.004</td>\n",
       "      <td>0.825±0.056</td>\n",
       "      <td>0.807±0.069</td>\n",
       "      <td>0.514±0.063</td>\n",
       "      <td>0.5±0.065</td>\n",
       "    </tr>\n",
       "    <tr>\n",
       "      <th>polynome_fit_SMOTE</th>\n",
       "      <td>0.977±0.004</td>\n",
       "      <td>0.828±0.04</td>\n",
       "      <td>0.812±0.049</td>\n",
       "      <td>0.575±0.056</td>\n",
       "      <td>0.564±0.058</td>\n",
       "    </tr>\n",
       "    <tr>\n",
       "      <th>ProWSyn</th>\n",
       "      <td>0.954±0.004</td>\n",
       "      <td>0.851±0.037</td>\n",
       "      <td>0.843±0.042</td>\n",
       "      <td>0.428±0.03</td>\n",
       "      <td>0.408±0.031</td>\n",
       "    </tr>\n",
       "    <tr>\n",
       "      <th>Lee</th>\n",
       "      <td>0.981±0.003</td>\n",
       "      <td>0.81±0.043</td>\n",
       "      <td>0.788±0.054</td>\n",
       "      <td>0.601±0.05</td>\n",
       "      <td>0.591±0.052</td>\n",
       "    </tr>\n",
       "    <tr>\n",
       "      <th>Metropolis_hastings</th>\n",
       "      <td>0.971±0.003</td>\n",
       "      <td>0.817±0.034</td>\n",
       "      <td>0.8±0.041</td>\n",
       "      <td>0.515±0.049</td>\n",
       "      <td>0.501±0.05</td>\n",
       "    </tr>\n",
       "  </tbody>\n",
       "</table>\n",
       "</div>"
      ],
      "text/plain": [
       "                        accuracy balanced accuracy       g-mean     f1-score  \\\n",
       "SMOTE                0.971±0.004       0.825±0.056  0.807±0.069  0.514±0.063   \n",
       "polynome_fit_SMOTE   0.977±0.004        0.828±0.04  0.812±0.049  0.575±0.056   \n",
       "ProWSyn              0.954±0.004       0.851±0.037  0.843±0.042   0.428±0.03   \n",
       "Lee                  0.981±0.003        0.81±0.043  0.788±0.054   0.601±0.05   \n",
       "Metropolis_hastings  0.971±0.003       0.817±0.034    0.8±0.041  0.515±0.049   \n",
       "\n",
       "                     cohen_kappa  \n",
       "SMOTE                  0.5±0.065  \n",
       "polynome_fit_SMOTE   0.564±0.058  \n",
       "ProWSyn              0.408±0.031  \n",
       "Lee                  0.591±0.052  \n",
       "Metropolis_hastings   0.501±0.05  "
      ]
     },
     "execution_count": 36,
     "metadata": {},
     "output_type": "execute_result"
    }
   ],
   "source": [
    "df"
   ]
  },
  {
   "cell_type": "code",
   "execution_count": 37,
   "id": "521f4ebc-1799-4426-9cad-cfb1871d4828",
   "metadata": {},
   "outputs": [],
   "source": [
    "with pd.ExcelWriter('Decision_tree_clf_result_for_data1.xlsx') as excel_writer:\n",
    "  df.to_excel(excel_writer,sheet_name='sheet_1')"
   ]
  },
  {
   "cell_type": "code",
   "execution_count": null,
   "id": "5981f36c-0ac5-4bb2-bd37-de731a4218a3",
   "metadata": {},
   "outputs": [],
   "source": []
  }
 ],
 "metadata": {
  "kernelspec": {
   "display_name": "Python 3 (ipykernel)",
   "language": "python",
   "name": "python3"
  },
  "language_info": {
   "codemirror_mode": {
    "name": "ipython",
    "version": 3
   },
   "file_extension": ".py",
   "mimetype": "text/x-python",
   "name": "python",
   "nbconvert_exporter": "python",
   "pygments_lexer": "ipython3",
   "version": "3.12.4"
  }
 },
 "nbformat": 4,
 "nbformat_minor": 5
}

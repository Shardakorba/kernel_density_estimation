{
 "cells": [
  {
   "cell_type": "code",
   "execution_count": 93,
   "id": "6192dc89-a55b-4387-9b2e-6c8171dae2d0",
   "metadata": {},
   "outputs": [],
   "source": [
    "import numpy as np\n",
    "import pandas as pd\n",
    "from tqdm.notebook import tqdm\n",
    "from sklearn.preprocessing import StandardScaler\n",
    "from sklearn.decomposition import PCA\n",
    "import matplotlib.pyplot as plt\n",
    "from sklearn.linear_model import LogisticRegression\n",
    "from sklearn.metrics import confusion_matrix\n",
    "from sklearn.metrics import accuracy_score\n",
    "from sklearn.metrics import balanced_accuracy_score\n",
    "from sklearn.metrics import f1_score\n",
    "from imblearn.metrics import geometric_mean_score\n",
    "from sklearn.metrics import cohen_kappa_score\n",
    "from imblearn.over_sampling import SMOTE\n",
    "from collections import Counter"
   ]
  },
  {
   "cell_type": "code",
   "execution_count": 6,
   "id": "591d8618-69f8-4337-8207-1b57020227f9",
   "metadata": {},
   "outputs": [],
   "source": [
    "with open('mammography_data.txt') as f:\n",
    "  lines = [line.rstrip('\\n')for line in f]"
   ]
  },
  {
   "cell_type": "code",
   "execution_count": 9,
   "id": "cd124967-5c54-401d-bcf3-532241297ec6",
   "metadata": {},
   "outputs": [],
   "source": [
    "data_list=[]\n",
    "for i in range(len(lines)):\n",
    "    l= lines[i].split(',')\n",
    "    a=[float(i) for i in l[:-1]]\n",
    "    data_list.append(a)\n",
    "data= np.array(data_list)"
   ]
  },
  {
   "cell_type": "code",
   "execution_count": 12,
   "id": "d99a6dd8-081c-4bff-9f4d-f9916cb3834f",
   "metadata": {},
   "outputs": [
    {
     "data": {
      "text/plain": [
       "(11183, 6)"
      ]
     },
     "execution_count": 12,
     "metadata": {},
     "output_type": "execute_result"
    }
   ],
   "source": [
    "data.shape"
   ]
  },
  {
   "cell_type": "code",
   "execution_count": 15,
   "id": "650db6a1-41dd-4c26-8c76-46ea19d89e6e",
   "metadata": {},
   "outputs": [],
   "source": [
    "labels_string=[]\n",
    "for i in range(len(lines)):\n",
    "  labels_string.append(lines[i].split(',')[-1])"
   ]
  },
  {
   "cell_type": "code",
   "execution_count": 18,
   "id": "6d237437-bfea-4781-8103-73dfa8a4b7cf",
   "metadata": {},
   "outputs": [],
   "source": [
    "labels=[]\n",
    "for i in range(len(labels_string)):\n",
    "  if labels_string[i]==np.unique(labels_string)[0]:\n",
    "    labels.append(-1)\n",
    "  else:\n",
    "    labels.append(1)\n",
    "labels=np.array(labels)\n"
   ]
  },
  {
   "cell_type": "code",
   "execution_count": 20,
   "id": "f28ea3eb-3db7-4916-8964-726b0dfcc237",
   "metadata": {},
   "outputs": [],
   "source": [
    "def get_folds(data,labels,k):\n",
    "  np.random.seed(42)\n",
    "  shuffle=np.random.permutation(len(data))\n",
    "  data=data[shuffle]\n",
    "  labels=labels[shuffle]\n",
    "\n",
    "  block_length=int(len(data)/k)\n",
    "  data_folds=[]\n",
    "  label_folds=[]\n",
    "  for i in range(k):\n",
    "    if i==(k-1):\n",
    "      data_fold=data[i*block_length:]\n",
    "      data_folds.append(data_fold)\n",
    "      label_fold=labels[i*block_length:]\n",
    "      label_folds.append(label_fold)\n",
    "    else:\n",
    "      data_fold=data[i*block_length:block_length*(i+1)]\n",
    "      data_folds.append(data_fold)\n",
    "      label_fold=labels[i*block_length:block_length*(i+1)]\n",
    "      label_folds.append(label_fold)\n",
    "  return np.array(data_folds,dtype=object),np.array(label_folds,dtype=object)"
   ]
  },
  {
   "cell_type": "code",
   "execution_count": 24,
   "id": "38840822-b5a7-46a4-a98d-5a6bab5407c1",
   "metadata": {},
   "outputs": [],
   "source": [
    "def divide_data_into_k_folds(data,labels,k):\n",
    "  data_folds_array,label_folds_array=get_folds(data,labels,k)\n",
    "  all_data_folds_list=[]\n",
    "  all_labels_folds_list=[]\n",
    "  for i in range(k):\n",
    "    data_fold_k=[np.concatenate(data_folds_array[np.where(np.array(list(range(k)))!=i)[0]]), data_folds_array[i]]\n",
    "    all_data_folds_list.append(data_fold_k)\n",
    "\n",
    "    label_fold_k=[np.concatenate(label_folds_array[np.where(np.array(list(range(k)))!=i)[0]]), label_folds_array[i]]\n",
    "    all_labels_folds_list.append(label_fold_k)\n",
    "\n",
    "  return all_data_folds_list, all_labels_folds_list"
   ]
  },
  {
   "cell_type": "code",
   "execution_count": 27,
   "id": "85f11dba-24ab-4a74-be43-f62366dd5168",
   "metadata": {},
   "outputs": [],
   "source": [
    "all_data_folds_list, all_labels_folds_list=divide_data_into_k_folds(data,labels,5)"
   ]
  },
  {
   "cell_type": "code",
   "execution_count": 30,
   "id": "18a71272-20bd-4b68-8c95-d483aeeaea8d",
   "metadata": {},
   "outputs": [],
   "source": [
    "X_train,X_test=all_data_folds_list[0][0],all_data_folds_list[0][1]"
   ]
  },
  {
   "cell_type": "code",
   "execution_count": 33,
   "id": "dbac045a-2df1-413f-9007-27cc09f6c1d3",
   "metadata": {},
   "outputs": [
    {
     "data": {
      "text/plain": [
       "(8947, 6)"
      ]
     },
     "execution_count": 33,
     "metadata": {},
     "output_type": "execute_result"
    }
   ],
   "source": [
    "X_train.shape"
   ]
  },
  {
   "cell_type": "code",
   "execution_count": 36,
   "id": "04e241a9-65f4-419e-98c6-d2c3909cf79d",
   "metadata": {},
   "outputs": [],
   "source": [
    "y_train,y_test=all_labels_folds_list[0][0],all_labels_folds_list[0][1]"
   ]
  },
  {
   "cell_type": "code",
   "execution_count": 39,
   "id": "f28aea09-5fbf-4c74-b9df-7eb5de77b095",
   "metadata": {},
   "outputs": [
    {
     "data": {
      "text/plain": [
       "(array([-1,  1]), array([8737,  210], dtype=int64))"
      ]
     },
     "execution_count": 39,
     "metadata": {},
     "output_type": "execute_result"
    }
   ],
   "source": [
    "np.unique(y_train, return_counts=True)"
   ]
  },
  {
   "cell_type": "code",
   "execution_count": 44,
   "id": "0a4eb26c-5626-4ad2-b905-90a78b670146",
   "metadata": {},
   "outputs": [],
   "source": [
    "X_train_minority=[]\n",
    "for i in np.where(y_train==1):\n",
    "    a=X_train[i]\n",
    "    X_train_minority.append(a)"
   ]
  },
  {
   "cell_type": "code",
   "execution_count": 47,
   "id": "6cabd4dc-d693-4753-b739-b9bbb823d6ba",
   "metadata": {},
   "outputs": [],
   "source": [
    "X_train_minority_class=np.array(X_train_minority[0])"
   ]
  },
  {
   "cell_type": "code",
   "execution_count": 50,
   "id": "d25056d3-a19f-4b22-958e-f2dc59efa94d",
   "metadata": {},
   "outputs": [],
   "source": [
    "X_train_majority=[]\n",
    "for i in np.where(y_train==-1):\n",
    "    a=X_train[i]\n",
    "    X_train_majority.append(a)"
   ]
  },
  {
   "cell_type": "code",
   "execution_count": 53,
   "id": "585da91e-5634-4c51-9750-f60945eeb2ca",
   "metadata": {},
   "outputs": [],
   "source": [
    "X_train_majority_class=np.array(X_train_majority[0])"
   ]
  },
  {
   "cell_type": "code",
   "execution_count": 56,
   "id": "ba5616cc-4eb9-40a5-8b66-eafa218d91d2",
   "metadata": {},
   "outputs": [],
   "source": [
    "def k(H,x,d):\n",
    "  H_inv = np.linalg.inv(H)\n",
    "  x_tras=np.matrix.transpose(x)\n",
    "  h= np.linalg.det(H)\n",
    "  m=np.matmul(x_tras,H_inv)\n",
    "  m1=np.matmul(m,x)\n",
    "  e=np.exp(-0.5*m1)\n",
    "  n=2*(np.pi)**(-d/2)\n",
    "  v=n*(h)**(-1/2)*(e)\n",
    "  return v"
   ]
  },
  {
   "cell_type": "code",
   "execution_count": 59,
   "id": "4f58ff20-aa8e-45b9-8895-7577bb3240ec",
   "metadata": {},
   "outputs": [],
   "source": [
    "def density_gen(X, X_minority):\n",
    "    density_list=[]\n",
    "    for j in range(len(X)):\n",
    "        s=0\n",
    "        for i in range(len(X_minority)):\n",
    "            xi=X_minority[i]\n",
    "            dif=X[j]-xi\n",
    "            s=s+k(np.identity(X_minority.shape[1]), dif, X_minority.shape[1])\n",
    "        density_list.append(s/len(X_minority))\n",
    "    return np.array(density_list)"
   ]
  },
  {
   "cell_type": "code",
   "execution_count": 62,
   "id": "8a7bef06-3907-45a8-bc7f-3683aa35d781",
   "metadata": {},
   "outputs": [],
   "source": [
    "unique_labels,counts=np.unique(y_train, return_counts=True)"
   ]
  },
  {
   "cell_type": "code",
   "execution_count": 65,
   "id": "aeeaae91-9d66-4075-98de-ea304520c8dc",
   "metadata": {},
   "outputs": [],
   "source": [
    "def metropolis_hastings(target_density, X_minority, size=100):\n",
    "    np.random.seed(43)\n",
    "    burnin_size = 10000\n",
    "    size += burnin_size\n",
    "    x0 =X_minority[np.random.choice(list(range(len(X_train_minority_class))),1)]\n",
    "    xt = x0\n",
    "    samples = []\n",
    "    for i in tqdm(range(size)):\n",
    "        xt_candidate = np.array([np.random.multivariate_normal(xt[0], 0.2*np.eye(X_minority.shape[1]))])\n",
    "        accept_odds = (target_density(xt_candidate,X_minority))/(target_density(xt,X_minority))\n",
    "        if np.random.uniform(0, 1) < accept_odds:\n",
    "            xt = xt_candidate\n",
    "        samples.append(xt)\n",
    "    samples = np.array(samples[burnin_size:])\n",
    "    samples = np.reshape(samples, [samples.shape[0], X_minority.shape[1]])\n",
    "    return samples"
   ]
  },
  {
   "cell_type": "code",
   "execution_count": 68,
   "id": "878580d4-9d89-4f56-8673-e664582987dd",
   "metadata": {},
   "outputs": [],
   "source": [
    "import smote_variants as sv\n",
    "\n",
    "oversampler_SMOTE=sv.SMOTE()\n",
    "oversampler_polynome_fit = sv.polynom_fit_SMOTE_star()\n",
    "oversampler_ProWSyn= sv.ProWSyn()\n",
    "oversampler_SMOTE_IPF= sv.SMOTE_IPF()\n",
    "oversampler_Lee= sv.Lee()\n"
   ]
  },
  {
   "cell_type": "code",
   "execution_count": 71,
   "id": "f5c5eca8-0b0c-4c72-8044-c72b00555051",
   "metadata": {},
   "outputs": [],
   "source": [
    "oversampler_object_list = [oversampler_SMOTE,oversampler_polynome_fit,oversampler_ProWSyn, oversampler_Lee, metropolis_hastings]"
   ]
  },
  {
   "cell_type": "code",
   "execution_count": 79,
   "id": "52aa08c6-3196-4a0d-99f3-59873a5df496",
   "metadata": {},
   "outputs": [],
   "source": [
    "oversampler_name_list = ['SMOTE','polynome_fit_SMOTE','ProWSyn', 'Lee', 'Metropolis_hastings']"
   ]
  },
  {
   "cell_type": "code",
   "execution_count": 84,
   "id": "8fc64f0a-ac81-455c-8765-9e9ecde1c81f",
   "metadata": {},
   "outputs": [],
   "source": [
    "def get_imb_oversampling(X_train,y_train,X_test,y_test,oversampler_index,classifier,visualize=True):\n",
    "  ## MH is in the end of the list oversampler_object_list\n",
    "  if oversampler_index!=len(oversampler_object_list)-1:\n",
    "    X_samp, y_samp = oversampler_object_list[oversampler_index].sample(X_train, y_train)\n",
    "\n",
    "  else:\n",
    "    X_train_minority=[]\n",
    "    for i in np.where(y_train==1):\n",
    "      a=X_train[i]\n",
    "      X_train_minority.append(a)\n",
    "\n",
    "    X_train_majority=[]\n",
    "    for i in np.where(y_train==-1):\n",
    "      a=X_train[i]\n",
    "      X_train_majority.append(a)\n",
    "    X_train_minority_class=np.array(X_train_minority[0])\n",
    "    X_train_majority_class=np.array(X_train_majority[0])\n",
    "\n",
    "    unique_labels,counts=np.unique(y_train, return_counts=True)\n",
    "\n",
    "    synthetic_minority_data = metropolis_hastings(density_gen, X_train_minority_class, size=counts[0]-counts[1])\n",
    "    balanced_minority=np.concatenate([X_train_minority_class, synthetic_minority_data])\n",
    "    balanced_data=np.concatenate([X_train_majority_class,balanced_minority])\n",
    "    balanced_labels_for_classification=np.concatenate([np.zeros(len(X_train_majority_class))-1,np.ones(len(balanced_minority))])\n",
    "    X_samp=balanced_data\n",
    "    y_samp=balanced_labels_for_classification\n",
    "\n",
    "  classifier.fit(X_samp,y_samp)\n",
    "  y_pred=classifier.predict(X_test)\n",
    "  cm=confusion_matrix(y_test, y_pred)\n",
    "  acc=accuracy_score(y_test, y_pred)\n",
    "  b_acc=balanced_accuracy_score(y_test, y_pred)\n",
    "  gm=geometric_mean_score(y_test, y_pred)\n",
    "  f1=f1_score(y_test, y_pred)\n",
    "  ck=cohen_kappa_score(y_test, y_pred)\n",
    "\n",
    "  if visualize==True:\n",
    "    scaler = StandardScaler()\n",
    "    scaler.fit(X_samp)\n",
    "    scaled_X_samp = scaler.transform(X_samp)\n",
    "    pca = PCA(n_components =2)\n",
    "    X_samp_pca=pca.fit_transform(scaled_X_samp)\n",
    "\n",
    "    plt.figure(figsize=(8,6))\n",
    "    color=[\"r\",\"b\"]\n",
    "    color_counter=0\n",
    "    for i in [-1,1]:\n",
    "      plt.scatter(X_samp_pca[:,0][np.where(y_samp==i)],X_samp_pca[:,1][np.where(y_samp==i)], s=10, c=color[color_counter])\n",
    "      color_counter=color_counter+1\n",
    "    plt.legend(['Majority','Manority'],fontsize=10, loc='lower right')\n",
    "    plt.xlabel(\"Principal Component 1\",fontsize=12)\n",
    "    plt.ylabel(\"Principlal Component 2 \",fontsize=12)\n",
    "    plt.title(\"PCA plot of majority class + minority class using\"+\"\"+ oversampler_name_list[oversampler_index]+\"technique\",fontsize=14)\n",
    "\n",
    "\n",
    "  return [cm, acc,b_acc,gm, f1, ck]"
   ]
  },
  {
   "cell_type": "code",
   "execution_count": 87,
   "id": "11c86bb5-848c-4efa-9fc7-1e59362e363e",
   "metadata": {},
   "outputs": [],
   "source": [
    "def calc_avg_performance(performance_index,results_all_folds):\n",
    "  ## performance index takes the index of the performance measure foe which we want to average over folds\n",
    "  ## results_all_folds are the results of a particular oversampler run over all folds recording all performance measures\n",
    "  s=0\n",
    "  for result in results_all_folds:\n",
    "    s=s+result[performance_index]\n",
    "  avg=s/len(results_all_folds)\n",
    "\n",
    "  s=0\n",
    "  for result in results_all_folds:\n",
    "    s=s+(result[performance_index]-avg)**2\n",
    "  std=np.sqrt(s/len(results_all_folds))\n",
    "  return avg, std"
   ]
  },
  {
   "cell_type": "code",
   "execution_count": 95,
   "id": "9f0f8f9e-a8b6-4559-9e9e-1c4345b1cc32",
   "metadata": {},
   "outputs": [],
   "source": [
    "clf = LogisticRegression(random_state=0)"
   ]
  },
  {
   "cell_type": "code",
   "execution_count": 98,
   "id": "bb16d100-b106-43bc-b24f-27f19708fcf0",
   "metadata": {},
   "outputs": [],
   "source": [
    "perfromance_measures=['accuracy','balanced accuracy','g-mean','f1-score','cohen_kappa']\n",
    "def get_results_all_folds(oversampler_index,classifier, visualize=False, get_detailed_results=False):\n",
    "\n",
    "  results_all_folds=[]\n",
    "  for i in range(len(all_data_folds_list)):\n",
    "    X_train,X_test=all_data_folds_list[i][0],all_data_folds_list[i][1]\n",
    "    y_train,y_test=all_labels_folds_list[i][0],all_labels_folds_list[i][1]\n",
    "    results_single_fold=get_imb_oversampling(X_train,y_train,X_test,y_test,oversampler_index,clf,visualize=visualize)\n",
    "    results_all_folds.append(results_single_fold)\n",
    "\n",
    "  performance_summary_oversampler_classifer={}\n",
    "  for performance_index in range(1,6):\n",
    "    avg_std=calc_avg_performance(performance_index,results_all_folds)\n",
    "    performance_summary_oversampler_classifer[perfromance_measures[performance_index-1]]=avg_std\n",
    "\n",
    "  if get_detailed_results==True:\n",
    "    return results_all_folds, performance_summary_oversampler_classifer\n",
    "  else:\n",
    "    return performance_summary_oversampler_classifer"
   ]
  },
  {
   "cell_type": "code",
   "execution_count": 101,
   "id": "83da8540-818d-4cf8-9977-2fc7503faed8",
   "metadata": {},
   "outputs": [
    {
     "name": "stderr",
     "output_type": "stream",
     "text": [
      "2024-08-20 14:20:53,755:INFO:SMOTE: Running sampling via ('SMOTE', \"{'proportion': 1.0, 'n_neighbors': 5, 'nn_params': {}, 'n_jobs': 1, 'ss_params': {'n_dim': 2, 'simplex_sampling': 'random', 'within_simplex_sampling': 'random', 'gaussian_component': {}}, 'random_state': None, 'class_name': 'SMOTE'}\")\n",
      "2024-08-20 14:20:53,755:INFO:NearestNeighborsWithMetricTensor: NN fitting with metric minkowski\n",
      "2024-08-20 14:20:53,755:INFO:NearestNeighborsWithMetricTensor: kneighbors query minkowski\n",
      "2024-08-20 14:20:53,762:INFO:SMOTE: simplex sampling with n_dim 2\n",
      "2024-08-20 14:20:53,820:INFO:SMOTE: Running sampling via ('SMOTE', \"{'proportion': 1.0, 'n_neighbors': 5, 'nn_params': {}, 'n_jobs': 1, 'ss_params': {'n_dim': 2, 'simplex_sampling': 'random', 'within_simplex_sampling': 'random', 'gaussian_component': {}}, 'random_state': None, 'class_name': 'SMOTE'}\")\n",
      "2024-08-20 14:20:53,821:INFO:NearestNeighborsWithMetricTensor: NN fitting with metric minkowski\n",
      "2024-08-20 14:20:53,822:INFO:NearestNeighborsWithMetricTensor: kneighbors query minkowski\n",
      "2024-08-20 14:20:53,824:INFO:SMOTE: simplex sampling with n_dim 2\n",
      "2024-08-20 14:20:53,862:INFO:SMOTE: Running sampling via ('SMOTE', \"{'proportion': 1.0, 'n_neighbors': 5, 'nn_params': {}, 'n_jobs': 1, 'ss_params': {'n_dim': 2, 'simplex_sampling': 'random', 'within_simplex_sampling': 'random', 'gaussian_component': {}}, 'random_state': None, 'class_name': 'SMOTE'}\")\n",
      "2024-08-20 14:20:53,863:INFO:NearestNeighborsWithMetricTensor: NN fitting with metric minkowski\n",
      "2024-08-20 14:20:53,864:INFO:NearestNeighborsWithMetricTensor: kneighbors query minkowski\n",
      "2024-08-20 14:20:53,866:INFO:SMOTE: simplex sampling with n_dim 2\n",
      "2024-08-20 14:20:53,915:INFO:SMOTE: Running sampling via ('SMOTE', \"{'proportion': 1.0, 'n_neighbors': 5, 'nn_params': {}, 'n_jobs': 1, 'ss_params': {'n_dim': 2, 'simplex_sampling': 'random', 'within_simplex_sampling': 'random', 'gaussian_component': {}}, 'random_state': None, 'class_name': 'SMOTE'}\")\n",
      "2024-08-20 14:20:53,916:INFO:NearestNeighborsWithMetricTensor: NN fitting with metric minkowski\n",
      "2024-08-20 14:20:53,917:INFO:NearestNeighborsWithMetricTensor: kneighbors query minkowski\n",
      "2024-08-20 14:20:53,918:INFO:SMOTE: simplex sampling with n_dim 2\n",
      "2024-08-20 14:20:53,953:INFO:SMOTE: Running sampling via ('SMOTE', \"{'proportion': 1.0, 'n_neighbors': 5, 'nn_params': {}, 'n_jobs': 1, 'ss_params': {'n_dim': 2, 'simplex_sampling': 'random', 'within_simplex_sampling': 'random', 'gaussian_component': {}}, 'random_state': None, 'class_name': 'SMOTE'}\")\n",
      "2024-08-20 14:20:53,954:INFO:NearestNeighborsWithMetricTensor: NN fitting with metric minkowski\n",
      "2024-08-20 14:20:53,955:INFO:NearestNeighborsWithMetricTensor: kneighbors query minkowski\n",
      "2024-08-20 14:20:53,957:INFO:SMOTE: simplex sampling with n_dim 2\n"
     ]
    },
    {
     "data": {
      "text/plain": [
       "{'accuracy': (0.9010995916430236, 0.007874653644800094),\n",
       " 'balanced accuracy': (0.8829783739467935, 0.03245548523601103),\n",
       " 'g-mean': (0.8820774472801727, 0.03394042824183134),\n",
       " 'f1-score': (0.2889766330009146, 0.02207020390079715),\n",
       " 'cohen_kappa': (0.26037356114576204, 0.022980670244139488)}"
      ]
     },
     "execution_count": 101,
     "metadata": {},
     "output_type": "execute_result"
    }
   ],
   "source": [
    "get_results_all_folds(0,clf)"
   ]
  },
  {
   "cell_type": "code",
   "execution_count": 104,
   "id": "fa87563d-1df3-4205-8cff-1bcff851f3e7",
   "metadata": {},
   "outputs": [
    {
     "name": "stderr",
     "output_type": "stream",
     "text": [
      "2024-08-20 14:21:04,188:INFO:SMOTE: Running sampling via ('SMOTE', \"{'proportion': 1.0, 'n_neighbors': 5, 'nn_params': {}, 'n_jobs': 1, 'ss_params': {'n_dim': 2, 'simplex_sampling': 'random', 'within_simplex_sampling': 'random', 'gaussian_component': {}}, 'random_state': None, 'class_name': 'SMOTE'}\")\n",
      "2024-08-20 14:21:04,189:INFO:NearestNeighborsWithMetricTensor: NN fitting with metric minkowski\n",
      "2024-08-20 14:21:04,190:INFO:NearestNeighborsWithMetricTensor: kneighbors query minkowski\n",
      "2024-08-20 14:21:04,192:INFO:SMOTE: simplex sampling with n_dim 2\n",
      "2024-08-20 14:21:04,220:INFO:SMOTE: Running sampling via ('SMOTE', \"{'proportion': 1.0, 'n_neighbors': 5, 'nn_params': {}, 'n_jobs': 1, 'ss_params': {'n_dim': 2, 'simplex_sampling': 'random', 'within_simplex_sampling': 'random', 'gaussian_component': {}}, 'random_state': None, 'class_name': 'SMOTE'}\")\n",
      "2024-08-20 14:21:04,220:INFO:NearestNeighborsWithMetricTensor: NN fitting with metric minkowski\n",
      "2024-08-20 14:21:04,220:INFO:NearestNeighborsWithMetricTensor: kneighbors query minkowski\n",
      "2024-08-20 14:21:04,236:INFO:SMOTE: simplex sampling with n_dim 2\n",
      "2024-08-20 14:21:04,339:INFO:SMOTE: Running sampling via ('SMOTE', \"{'proportion': 1.0, 'n_neighbors': 5, 'nn_params': {}, 'n_jobs': 1, 'ss_params': {'n_dim': 2, 'simplex_sampling': 'random', 'within_simplex_sampling': 'random', 'gaussian_component': {}}, 'random_state': None, 'class_name': 'SMOTE'}\")\n",
      "2024-08-20 14:21:04,340:INFO:NearestNeighborsWithMetricTensor: NN fitting with metric minkowski\n",
      "2024-08-20 14:21:04,342:INFO:NearestNeighborsWithMetricTensor: kneighbors query minkowski\n",
      "2024-08-20 14:21:04,345:INFO:SMOTE: simplex sampling with n_dim 2\n",
      "2024-08-20 14:21:04,390:INFO:SMOTE: Running sampling via ('SMOTE', \"{'proportion': 1.0, 'n_neighbors': 5, 'nn_params': {}, 'n_jobs': 1, 'ss_params': {'n_dim': 2, 'simplex_sampling': 'random', 'within_simplex_sampling': 'random', 'gaussian_component': {}}, 'random_state': None, 'class_name': 'SMOTE'}\")\n",
      "2024-08-20 14:21:04,390:INFO:NearestNeighborsWithMetricTensor: NN fitting with metric minkowski\n",
      "2024-08-20 14:21:04,390:INFO:NearestNeighborsWithMetricTensor: kneighbors query minkowski\n",
      "2024-08-20 14:21:04,390:INFO:SMOTE: simplex sampling with n_dim 2\n",
      "2024-08-20 14:21:04,442:INFO:SMOTE: Running sampling via ('SMOTE', \"{'proportion': 1.0, 'n_neighbors': 5, 'nn_params': {}, 'n_jobs': 1, 'ss_params': {'n_dim': 2, 'simplex_sampling': 'random', 'within_simplex_sampling': 'random', 'gaussian_component': {}}, 'random_state': None, 'class_name': 'SMOTE'}\")\n",
      "2024-08-20 14:21:04,442:INFO:NearestNeighborsWithMetricTensor: NN fitting with metric minkowski\n",
      "2024-08-20 14:21:04,443:INFO:NearestNeighborsWithMetricTensor: kneighbors query minkowski\n",
      "2024-08-20 14:21:04,445:INFO:SMOTE: simplex sampling with n_dim 2\n",
      "2024-08-20 14:21:04,483:INFO:polynom_fit_SMOTE_star: Running sampling via ('polynom_fit_SMOTE_star', \"{'proportion': 1.0, 'topology': 'star', 'random_state': None, 'class_name': 'polynom_fit_SMOTE_star'}\")\n",
      "2024-08-20 14:21:04,484:INFO:polynom_fit_SMOTE: Running sampling via ('polynom_fit_SMOTE', \"{'proportion': 1.0, 'topology': 'star', 'random_state': None, 'class_name': 'polynom_fit_SMOTE'}\")\n",
      "2024-08-20 14:21:04,516:INFO:polynom_fit_SMOTE_star: Running sampling via ('polynom_fit_SMOTE_star', \"{'proportion': 1.0, 'topology': 'star', 'random_state': None, 'class_name': 'polynom_fit_SMOTE_star'}\")\n",
      "2024-08-20 14:21:04,517:INFO:polynom_fit_SMOTE: Running sampling via ('polynom_fit_SMOTE', \"{'proportion': 1.0, 'topology': 'star', 'random_state': None, 'class_name': 'polynom_fit_SMOTE'}\")\n",
      "2024-08-20 14:21:04,540:INFO:polynom_fit_SMOTE_star: Running sampling via ('polynom_fit_SMOTE_star', \"{'proportion': 1.0, 'topology': 'star', 'random_state': None, 'class_name': 'polynom_fit_SMOTE_star'}\")\n",
      "2024-08-20 14:21:04,540:INFO:polynom_fit_SMOTE: Running sampling via ('polynom_fit_SMOTE', \"{'proportion': 1.0, 'topology': 'star', 'random_state': None, 'class_name': 'polynom_fit_SMOTE'}\")\n",
      "2024-08-20 14:21:04,581:INFO:polynom_fit_SMOTE_star: Running sampling via ('polynom_fit_SMOTE_star', \"{'proportion': 1.0, 'topology': 'star', 'random_state': None, 'class_name': 'polynom_fit_SMOTE_star'}\")\n",
      "2024-08-20 14:21:04,582:INFO:polynom_fit_SMOTE: Running sampling via ('polynom_fit_SMOTE', \"{'proportion': 1.0, 'topology': 'star', 'random_state': None, 'class_name': 'polynom_fit_SMOTE'}\")\n",
      "2024-08-20 14:21:04,607:INFO:polynom_fit_SMOTE_star: Running sampling via ('polynom_fit_SMOTE_star', \"{'proportion': 1.0, 'topology': 'star', 'random_state': None, 'class_name': 'polynom_fit_SMOTE_star'}\")\n",
      "2024-08-20 14:21:04,609:INFO:polynom_fit_SMOTE: Running sampling via ('polynom_fit_SMOTE', \"{'proportion': 1.0, 'topology': 'star', 'random_state': None, 'class_name': 'polynom_fit_SMOTE'}\")\n",
      "2024-08-20 14:21:04,623:INFO:ProWSyn: Running sampling via ('ProWSyn', \"{'proportion': 1.0, 'n_neighbors': 5, 'nn_params': {}, 'L': 5, 'theta': 1.0, 'n_jobs': 1, 'ss_params': {'n_dim': 2, 'simplex_sampling': 'random', 'within_simplex_sampling': 'random', 'gaussian_component': {}}, 'random_state': None, 'class_name': 'ProWSyn'}\")\n",
      "2024-08-20 14:21:04,623:INFO:NearestNeighborsWithMetricTensor: NN fitting with metric minkowski\n",
      "2024-08-20 14:21:04,636:INFO:NearestNeighborsWithMetricTensor: kneighbors query minkowski\n",
      "2024-08-20 14:21:04,648:INFO:NearestNeighborsWithMetricTensor: NN fitting with metric minkowski\n",
      "2024-08-20 14:21:04,650:INFO:NearestNeighborsWithMetricTensor: kneighbors query minkowski\n",
      "2024-08-20 14:21:04,659:INFO:NearestNeighborsWithMetricTensor: NN fitting with metric minkowski\n",
      "2024-08-20 14:21:04,660:INFO:NearestNeighborsWithMetricTensor: kneighbors query minkowski\n",
      "2024-08-20 14:21:04,662:INFO:NearestNeighborsWithMetricTensor: NN fitting with metric minkowski\n",
      "2024-08-20 14:21:04,662:INFO:NearestNeighborsWithMetricTensor: kneighbors query minkowski\n",
      "2024-08-20 14:21:04,817:INFO:NearestNeighborsWithMetricTensor: NN fitting with metric minkowski\n",
      "2024-08-20 14:21:04,817:INFO:NearestNeighborsWithMetricTensor: kneighbors query minkowski\n",
      "2024-08-20 14:21:04,864:INFO:ProWSyn: simplex sampling with n_dim 2\n",
      "2024-08-20 14:21:04,873:INFO:ProWSyn: simplex sampling with n_dim 2\n",
      "2024-08-20 14:21:04,876:INFO:ProWSyn: simplex sampling with n_dim 2\n",
      "2024-08-20 14:21:04,876:INFO:ProWSyn: simplex sampling with n_dim 2\n",
      "2024-08-20 14:21:04,876:INFO:ProWSyn: simplex sampling with n_dim 2\n",
      "2024-08-20 14:21:04,907:INFO:ProWSyn: Running sampling via ('ProWSyn', \"{'proportion': 1.0, 'n_neighbors': 5, 'nn_params': {}, 'L': 5, 'theta': 1.0, 'n_jobs': 1, 'ss_params': {'n_dim': 2, 'simplex_sampling': 'random', 'within_simplex_sampling': 'random', 'gaussian_component': {}}, 'random_state': None, 'class_name': 'ProWSyn'}\")\n",
      "2024-08-20 14:21:04,907:INFO:NearestNeighborsWithMetricTensor: NN fitting with metric minkowski\n",
      "2024-08-20 14:21:04,907:INFO:NearestNeighborsWithMetricTensor: kneighbors query minkowski\n",
      "2024-08-20 14:21:04,925:INFO:NearestNeighborsWithMetricTensor: NN fitting with metric minkowski\n",
      "2024-08-20 14:21:04,926:INFO:NearestNeighborsWithMetricTensor: kneighbors query minkowski\n",
      "2024-08-20 14:21:04,927:INFO:NearestNeighborsWithMetricTensor: NN fitting with metric minkowski\n",
      "2024-08-20 14:21:04,927:INFO:NearestNeighborsWithMetricTensor: kneighbors query minkowski\n",
      "2024-08-20 14:21:04,941:INFO:NearestNeighborsWithMetricTensor: NN fitting with metric minkowski\n",
      "2024-08-20 14:21:04,942:INFO:NearestNeighborsWithMetricTensor: kneighbors query minkowski\n",
      "2024-08-20 14:21:04,991:INFO:NearestNeighborsWithMetricTensor: NN fitting with metric minkowski\n",
      "2024-08-20 14:21:04,992:INFO:NearestNeighborsWithMetricTensor: kneighbors query minkowski\n",
      "2024-08-20 14:21:05,039:INFO:ProWSyn: simplex sampling with n_dim 2\n",
      "2024-08-20 14:21:05,049:INFO:ProWSyn: simplex sampling with n_dim 2\n",
      "2024-08-20 14:21:05,053:INFO:ProWSyn: simplex sampling with n_dim 2\n",
      "2024-08-20 14:21:05,054:INFO:ProWSyn: simplex sampling with n_dim 2\n",
      "2024-08-20 14:21:05,055:INFO:ProWSyn: The simplex order was updated from 2 to 1\n",
      "2024-08-20 14:21:05,056:INFO:ProWSyn: simplex sampling with n_dim 1\n",
      "2024-08-20 14:21:05,080:INFO:ProWSyn: Running sampling via ('ProWSyn', \"{'proportion': 1.0, 'n_neighbors': 5, 'nn_params': {}, 'L': 5, 'theta': 1.0, 'n_jobs': 1, 'ss_params': {'n_dim': 2, 'simplex_sampling': 'random', 'within_simplex_sampling': 'random', 'gaussian_component': {}}, 'random_state': None, 'class_name': 'ProWSyn'}\")\n",
      "2024-08-20 14:21:05,082:INFO:NearestNeighborsWithMetricTensor: NN fitting with metric minkowski\n",
      "2024-08-20 14:21:05,083:INFO:NearestNeighborsWithMetricTensor: kneighbors query minkowski\n",
      "2024-08-20 14:21:05,086:INFO:NearestNeighborsWithMetricTensor: NN fitting with metric minkowski\n",
      "2024-08-20 14:21:05,086:INFO:NearestNeighborsWithMetricTensor: kneighbors query minkowski\n",
      "2024-08-20 14:21:05,104:INFO:NearestNeighborsWithMetricTensor: NN fitting with metric minkowski\n",
      "2024-08-20 14:21:05,105:INFO:NearestNeighborsWithMetricTensor: kneighbors query minkowski\n",
      "2024-08-20 14:21:05,110:INFO:NearestNeighborsWithMetricTensor: NN fitting with metric minkowski\n",
      "2024-08-20 14:21:05,110:INFO:NearestNeighborsWithMetricTensor: kneighbors query minkowski\n",
      "2024-08-20 14:21:05,165:INFO:NearestNeighborsWithMetricTensor: NN fitting with metric minkowski\n",
      "2024-08-20 14:21:05,166:INFO:NearestNeighborsWithMetricTensor: kneighbors query minkowski\n",
      "2024-08-20 14:21:05,213:INFO:ProWSyn: simplex sampling with n_dim 2\n",
      "2024-08-20 14:21:05,224:INFO:ProWSyn: simplex sampling with n_dim 2\n",
      "2024-08-20 14:21:05,226:INFO:ProWSyn: simplex sampling with n_dim 2\n",
      "2024-08-20 14:21:05,228:INFO:ProWSyn: simplex sampling with n_dim 2\n",
      "2024-08-20 14:21:05,229:INFO:ProWSyn: The simplex order was updated from 2 to 1\n",
      "2024-08-20 14:21:05,230:INFO:ProWSyn: simplex sampling with n_dim 1\n",
      "2024-08-20 14:21:05,257:INFO:ProWSyn: Running sampling via ('ProWSyn', \"{'proportion': 1.0, 'n_neighbors': 5, 'nn_params': {}, 'L': 5, 'theta': 1.0, 'n_jobs': 1, 'ss_params': {'n_dim': 2, 'simplex_sampling': 'random', 'within_simplex_sampling': 'random', 'gaussian_component': {}}, 'random_state': None, 'class_name': 'ProWSyn'}\")\n",
      "2024-08-20 14:21:05,258:INFO:NearestNeighborsWithMetricTensor: NN fitting with metric minkowski\n",
      "2024-08-20 14:21:05,260:INFO:NearestNeighborsWithMetricTensor: kneighbors query minkowski\n",
      "2024-08-20 14:21:05,276:INFO:NearestNeighborsWithMetricTensor: NN fitting with metric minkowski\n",
      "2024-08-20 14:21:05,277:INFO:NearestNeighborsWithMetricTensor: kneighbors query minkowski\n",
      "2024-08-20 14:21:05,292:INFO:NearestNeighborsWithMetricTensor: NN fitting with metric minkowski\n",
      "2024-08-20 14:21:05,306:INFO:NearestNeighborsWithMetricTensor: kneighbors query minkowski\n",
      "2024-08-20 14:21:05,321:INFO:NearestNeighborsWithMetricTensor: NN fitting with metric minkowski\n",
      "2024-08-20 14:21:05,325:INFO:NearestNeighborsWithMetricTensor: kneighbors query minkowski\n",
      "2024-08-20 14:21:05,333:INFO:NearestNeighborsWithMetricTensor: NN fitting with metric minkowski\n",
      "2024-08-20 14:21:05,338:INFO:NearestNeighborsWithMetricTensor: kneighbors query minkowski\n",
      "2024-08-20 14:21:05,403:INFO:ProWSyn: simplex sampling with n_dim 2\n",
      "2024-08-20 14:21:05,426:INFO:ProWSyn: simplex sampling with n_dim 2\n",
      "2024-08-20 14:21:05,428:INFO:ProWSyn: simplex sampling with n_dim 2\n",
      "2024-08-20 14:21:05,431:INFO:ProWSyn: simplex sampling with n_dim 2\n",
      "2024-08-20 14:21:05,431:INFO:ProWSyn: simplex sampling with n_dim 2\n",
      "2024-08-20 14:21:05,431:INFO:ProWSyn: The simplex order was updated from 2 to 1\n",
      "2024-08-20 14:21:05,431:INFO:ProWSyn: simplex sampling with n_dim 1\n",
      "2024-08-20 14:21:05,459:INFO:ProWSyn: Running sampling via ('ProWSyn', \"{'proportion': 1.0, 'n_neighbors': 5, 'nn_params': {}, 'L': 5, 'theta': 1.0, 'n_jobs': 1, 'ss_params': {'n_dim': 2, 'simplex_sampling': 'random', 'within_simplex_sampling': 'random', 'gaussian_component': {}}, 'random_state': None, 'class_name': 'ProWSyn'}\")\n",
      "2024-08-20 14:21:05,460:INFO:NearestNeighborsWithMetricTensor: NN fitting with metric minkowski\n",
      "2024-08-20 14:21:05,460:INFO:NearestNeighborsWithMetricTensor: kneighbors query minkowski\n",
      "2024-08-20 14:21:05,477:INFO:NearestNeighborsWithMetricTensor: NN fitting with metric minkowski\n",
      "2024-08-20 14:21:05,478:INFO:NearestNeighborsWithMetricTensor: kneighbors query minkowski\n",
      "2024-08-20 14:21:05,487:INFO:NearestNeighborsWithMetricTensor: NN fitting with metric minkowski\n",
      "2024-08-20 14:21:05,489:INFO:NearestNeighborsWithMetricTensor: kneighbors query minkowski\n",
      "2024-08-20 14:21:05,493:INFO:NearestNeighborsWithMetricTensor: NN fitting with metric minkowski\n",
      "2024-08-20 14:21:05,493:INFO:NearestNeighborsWithMetricTensor: kneighbors query minkowski\n",
      "2024-08-20 14:21:05,546:INFO:NearestNeighborsWithMetricTensor: NN fitting with metric minkowski\n",
      "2024-08-20 14:21:05,547:INFO:NearestNeighborsWithMetricTensor: kneighbors query minkowski\n",
      "2024-08-20 14:21:05,592:INFO:ProWSyn: simplex sampling with n_dim 2\n",
      "2024-08-20 14:21:05,601:INFO:ProWSyn: simplex sampling with n_dim 2\n",
      "2024-08-20 14:21:05,603:INFO:ProWSyn: simplex sampling with n_dim 2\n",
      "2024-08-20 14:21:05,604:INFO:ProWSyn: simplex sampling with n_dim 2\n",
      "2024-08-20 14:21:05,605:INFO:ProWSyn: The simplex order was updated from 2 to 1\n",
      "2024-08-20 14:21:05,606:INFO:ProWSyn: simplex sampling with n_dim 1\n",
      "2024-08-20 14:21:05,630:INFO:Lee: Running sampling via ('Lee', \"{'proportion': 1.0, 'n_neighbors': 5, 'nn_params': {}, 'rejection_level': 0.5, 'n_jobs': 1, 'ss_params': {'n_dim': 2, 'simplex_sampling': 'random', 'within_simplex_sampling': 'random', 'gaussian_component': {}}, 'random_state': None, 'class_name': 'Lee'}\")\n",
      "2024-08-20 14:21:05,636:INFO:NearestNeighborsWithMetricTensor: NN fitting with metric minkowski\n",
      "2024-08-20 14:21:05,643:INFO:NearestNeighborsWithMetricTensor: NN fitting with metric minkowski\n",
      "2024-08-20 14:21:05,644:INFO:NearestNeighborsWithMetricTensor: kneighbors query minkowski\n",
      "2024-08-20 14:21:05,646:INFO:Lee: simplex sampling with n_dim 2\n",
      "2024-08-20 14:21:05,650:INFO:NearestNeighborsWithMetricTensor: kneighbors query minkowski\n",
      "2024-08-20 14:21:05,736:INFO:Lee: simplex sampling with n_dim 2\n",
      "2024-08-20 14:21:05,736:INFO:NearestNeighborsWithMetricTensor: kneighbors query minkowski\n",
      "2024-08-20 14:21:05,772:INFO:Lee: simplex sampling with n_dim 2\n",
      "2024-08-20 14:21:05,774:INFO:NearestNeighborsWithMetricTensor: kneighbors query minkowski\n",
      "2024-08-20 14:21:05,784:INFO:Lee: simplex sampling with n_dim 2\n",
      "2024-08-20 14:21:05,785:INFO:NearestNeighborsWithMetricTensor: kneighbors query minkowski\n",
      "2024-08-20 14:21:05,789:INFO:Lee: simplex sampling with n_dim 2\n",
      "2024-08-20 14:21:05,791:INFO:NearestNeighborsWithMetricTensor: kneighbors query minkowski\n",
      "2024-08-20 14:21:05,793:INFO:Lee: simplex sampling with n_dim 2\n",
      "2024-08-20 14:21:05,793:INFO:NearestNeighborsWithMetricTensor: kneighbors query minkowski\n",
      "2024-08-20 14:21:05,793:INFO:Lee: simplex sampling with n_dim 2\n",
      "2024-08-20 14:21:05,802:INFO:NearestNeighborsWithMetricTensor: kneighbors query minkowski\n",
      "2024-08-20 14:21:05,826:INFO:Lee: Running sampling via ('Lee', \"{'proportion': 1.0, 'n_neighbors': 5, 'nn_params': {}, 'rejection_level': 0.5, 'n_jobs': 1, 'ss_params': {'n_dim': 2, 'simplex_sampling': 'random', 'within_simplex_sampling': 'random', 'gaussian_component': {}}, 'random_state': None, 'class_name': 'Lee'}\")\n",
      "2024-08-20 14:21:05,827:INFO:NearestNeighborsWithMetricTensor: NN fitting with metric minkowski\n",
      "2024-08-20 14:21:05,835:INFO:NearestNeighborsWithMetricTensor: NN fitting with metric minkowski\n",
      "2024-08-20 14:21:05,837:INFO:NearestNeighborsWithMetricTensor: kneighbors query minkowski\n",
      "2024-08-20 14:21:05,839:INFO:Lee: simplex sampling with n_dim 2\n",
      "2024-08-20 14:21:05,842:INFO:NearestNeighborsWithMetricTensor: kneighbors query minkowski\n",
      "2024-08-20 14:21:05,919:INFO:Lee: simplex sampling with n_dim 2\n",
      "2024-08-20 14:21:05,919:INFO:NearestNeighborsWithMetricTensor: kneighbors query minkowski\n",
      "2024-08-20 14:21:05,942:INFO:Lee: simplex sampling with n_dim 2\n",
      "2024-08-20 14:21:05,942:INFO:NearestNeighborsWithMetricTensor: kneighbors query minkowski\n",
      "2024-08-20 14:21:05,959:INFO:Lee: simplex sampling with n_dim 2\n",
      "2024-08-20 14:21:05,960:INFO:NearestNeighborsWithMetricTensor: kneighbors query minkowski\n",
      "2024-08-20 14:21:05,961:INFO:Lee: simplex sampling with n_dim 2\n",
      "2024-08-20 14:21:05,968:INFO:NearestNeighborsWithMetricTensor: kneighbors query minkowski\n",
      "2024-08-20 14:21:05,969:INFO:Lee: simplex sampling with n_dim 2\n",
      "2024-08-20 14:21:05,970:INFO:NearestNeighborsWithMetricTensor: kneighbors query minkowski\n",
      "2024-08-20 14:21:05,972:INFO:Lee: simplex sampling with n_dim 2\n",
      "2024-08-20 14:21:05,973:INFO:NearestNeighborsWithMetricTensor: kneighbors query minkowski\n",
      "2024-08-20 14:21:06,002:INFO:Lee: Running sampling via ('Lee', \"{'proportion': 1.0, 'n_neighbors': 5, 'nn_params': {}, 'rejection_level': 0.5, 'n_jobs': 1, 'ss_params': {'n_dim': 2, 'simplex_sampling': 'random', 'within_simplex_sampling': 'random', 'gaussian_component': {}}, 'random_state': None, 'class_name': 'Lee'}\")\n",
      "2024-08-20 14:21:06,002:INFO:NearestNeighborsWithMetricTensor: NN fitting with metric minkowski\n",
      "2024-08-20 14:21:06,002:INFO:NearestNeighborsWithMetricTensor: NN fitting with metric minkowski\n",
      "2024-08-20 14:21:06,002:INFO:NearestNeighborsWithMetricTensor: kneighbors query minkowski\n",
      "2024-08-20 14:21:06,002:INFO:Lee: simplex sampling with n_dim 2\n",
      "2024-08-20 14:21:06,018:INFO:NearestNeighborsWithMetricTensor: kneighbors query minkowski\n",
      "2024-08-20 14:21:06,085:INFO:Lee: simplex sampling with n_dim 2\n",
      "2024-08-20 14:21:06,085:INFO:NearestNeighborsWithMetricTensor: kneighbors query minkowski\n",
      "2024-08-20 14:21:06,125:INFO:Lee: simplex sampling with n_dim 2\n",
      "2024-08-20 14:21:06,125:INFO:NearestNeighborsWithMetricTensor: kneighbors query minkowski\n",
      "2024-08-20 14:21:06,143:INFO:Lee: simplex sampling with n_dim 2\n",
      "2024-08-20 14:21:06,144:INFO:NearestNeighborsWithMetricTensor: kneighbors query minkowski\n",
      "2024-08-20 14:21:06,144:INFO:Lee: simplex sampling with n_dim 2\n",
      "2024-08-20 14:21:06,152:INFO:NearestNeighborsWithMetricTensor: kneighbors query minkowski\n",
      "2024-08-20 14:21:06,155:INFO:Lee: simplex sampling with n_dim 2\n",
      "2024-08-20 14:21:06,156:INFO:NearestNeighborsWithMetricTensor: kneighbors query minkowski\n",
      "2024-08-20 14:21:06,157:INFO:Lee: simplex sampling with n_dim 2\n",
      "2024-08-20 14:21:06,159:INFO:NearestNeighborsWithMetricTensor: kneighbors query minkowski\n",
      "2024-08-20 14:21:06,160:INFO:Lee: simplex sampling with n_dim 2\n",
      "2024-08-20 14:21:06,161:INFO:NearestNeighborsWithMetricTensor: kneighbors query minkowski\n",
      "2024-08-20 14:21:06,185:INFO:Lee: Running sampling via ('Lee', \"{'proportion': 1.0, 'n_neighbors': 5, 'nn_params': {}, 'rejection_level': 0.5, 'n_jobs': 1, 'ss_params': {'n_dim': 2, 'simplex_sampling': 'random', 'within_simplex_sampling': 'random', 'gaussian_component': {}}, 'random_state': None, 'class_name': 'Lee'}\")\n",
      "2024-08-20 14:21:06,187:INFO:NearestNeighborsWithMetricTensor: NN fitting with metric minkowski\n",
      "2024-08-20 14:21:06,196:INFO:NearestNeighborsWithMetricTensor: NN fitting with metric minkowski\n",
      "2024-08-20 14:21:06,197:INFO:NearestNeighborsWithMetricTensor: kneighbors query minkowski\n",
      "2024-08-20 14:21:06,197:INFO:Lee: simplex sampling with n_dim 2\n",
      "2024-08-20 14:21:06,206:INFO:NearestNeighborsWithMetricTensor: kneighbors query minkowski\n",
      "2024-08-20 14:21:06,279:INFO:Lee: simplex sampling with n_dim 2\n",
      "2024-08-20 14:21:06,281:INFO:NearestNeighborsWithMetricTensor: kneighbors query minkowski\n",
      "2024-08-20 14:21:06,294:INFO:Lee: simplex sampling with n_dim 2\n",
      "2024-08-20 14:21:06,301:INFO:NearestNeighborsWithMetricTensor: kneighbors query minkowski\n",
      "2024-08-20 14:21:06,307:INFO:Lee: simplex sampling with n_dim 2\n",
      "2024-08-20 14:21:06,308:INFO:NearestNeighborsWithMetricTensor: kneighbors query minkowski\n",
      "2024-08-20 14:21:06,311:INFO:Lee: simplex sampling with n_dim 2\n",
      "2024-08-20 14:21:06,312:INFO:NearestNeighborsWithMetricTensor: kneighbors query minkowski\n",
      "2024-08-20 14:21:06,314:INFO:Lee: simplex sampling with n_dim 2\n",
      "2024-08-20 14:21:06,315:INFO:NearestNeighborsWithMetricTensor: kneighbors query minkowski\n",
      "2024-08-20 14:21:06,343:INFO:Lee: Running sampling via ('Lee', \"{'proportion': 1.0, 'n_neighbors': 5, 'nn_params': {}, 'rejection_level': 0.5, 'n_jobs': 1, 'ss_params': {'n_dim': 2, 'simplex_sampling': 'random', 'within_simplex_sampling': 'random', 'gaussian_component': {}}, 'random_state': None, 'class_name': 'Lee'}\")\n",
      "2024-08-20 14:21:06,343:INFO:NearestNeighborsWithMetricTensor: NN fitting with metric minkowski\n",
      "2024-08-20 14:21:06,354:INFO:NearestNeighborsWithMetricTensor: NN fitting with metric minkowski\n",
      "2024-08-20 14:21:06,355:INFO:NearestNeighborsWithMetricTensor: kneighbors query minkowski\n",
      "2024-08-20 14:21:06,357:INFO:Lee: simplex sampling with n_dim 2\n",
      "2024-08-20 14:21:06,360:INFO:NearestNeighborsWithMetricTensor: kneighbors query minkowski\n",
      "2024-08-20 14:21:06,433:INFO:Lee: simplex sampling with n_dim 2\n",
      "2024-08-20 14:21:06,449:INFO:NearestNeighborsWithMetricTensor: kneighbors query minkowski\n",
      "2024-08-20 14:21:06,475:INFO:Lee: simplex sampling with n_dim 2\n",
      "2024-08-20 14:21:06,475:INFO:NearestNeighborsWithMetricTensor: kneighbors query minkowski\n",
      "2024-08-20 14:21:06,492:INFO:Lee: simplex sampling with n_dim 2\n",
      "2024-08-20 14:21:06,494:INFO:NearestNeighborsWithMetricTensor: kneighbors query minkowski\n",
      "2024-08-20 14:21:06,497:INFO:Lee: simplex sampling with n_dim 2\n",
      "2024-08-20 14:21:06,497:INFO:NearestNeighborsWithMetricTensor: kneighbors query minkowski\n",
      "2024-08-20 14:21:06,504:INFO:Lee: simplex sampling with n_dim 2\n",
      "2024-08-20 14:21:06,505:INFO:NearestNeighborsWithMetricTensor: kneighbors query minkowski\n",
      "2024-08-20 14:21:06,507:INFO:Lee: simplex sampling with n_dim 2\n",
      "2024-08-20 14:21:06,508:INFO:NearestNeighborsWithMetricTensor: kneighbors query minkowski\n"
     ]
    },
    {
     "data": {
      "application/vnd.jupyter.widget-view+json": {
       "model_id": "2a5dda30b54a45a894505b6096ea9ecc",
       "version_major": 2,
       "version_minor": 0
      },
      "text/plain": [
       "  0%|          | 0/18527 [00:00<?, ?it/s]"
      ]
     },
     "metadata": {},
     "output_type": "display_data"
    },
    {
     "data": {
      "application/vnd.jupyter.widget-view+json": {
       "model_id": "103fd5a81c0c4b0fbfed5cebf0d8d953",
       "version_major": 2,
       "version_minor": 0
      },
      "text/plain": [
       "  0%|          | 0/18521 [00:00<?, ?it/s]"
      ]
     },
     "metadata": {},
     "output_type": "display_data"
    },
    {
     "data": {
      "application/vnd.jupyter.widget-view+json": {
       "model_id": "89c206800fe34d8fa52de9a516ea5425",
       "version_major": 2,
       "version_minor": 0
      },
      "text/plain": [
       "  0%|          | 0/18533 [00:00<?, ?it/s]"
      ]
     },
     "metadata": {},
     "output_type": "display_data"
    },
    {
     "data": {
      "application/vnd.jupyter.widget-view+json": {
       "model_id": "e9c212c046194b859c9e8c4fd070c4ef",
       "version_major": 2,
       "version_minor": 0
      },
      "text/plain": [
       "  0%|          | 0/18535 [00:00<?, ?it/s]"
      ]
     },
     "metadata": {},
     "output_type": "display_data"
    },
    {
     "data": {
      "application/vnd.jupyter.widget-view+json": {
       "model_id": "19bc1a3ffb4743f099e6007a6ad5b042",
       "version_major": 2,
       "version_minor": 0
      },
      "text/plain": [
       "  0%|          | 0/18536 [00:00<?, ?it/s]"
      ]
     },
     "metadata": {},
     "output_type": "display_data"
    }
   ],
   "source": [
    "summary_performace_for_all_oversampling_algorithms_all_folds=[]\n",
    "for i in range(len(oversampler_object_list)):\n",
    "  summary_performace_for_all_oversampling_algorithms_all_folds.append(get_results_all_folds(i,clf))"
   ]
  },
  {
   "cell_type": "code",
   "execution_count": 106,
   "id": "14c4cc63-11fd-42f3-a1b3-85603a3b2d7c",
   "metadata": {},
   "outputs": [],
   "source": [
    "summary_performace_for_all_oversampling_algorithms_all_folds_list=np.array([[[round(i,3) for i in summary_performace_for_all_oversampling_algorithms_all_folds[oversampler_index][key]] for key in summary_performace_for_all_oversampling_algorithms_all_folds[0].keys()] for oversampler_index in range(len(oversampler_name_list))])"
   ]
  },
  {
   "cell_type": "code",
   "execution_count": 108,
   "id": "50098c44-1885-4446-b3ba-60cc1165f838",
   "metadata": {},
   "outputs": [],
   "source": [
    "oversamplers_result_summary_list=[]\n",
    "for i in range(summary_performace_for_all_oversampling_algorithms_all_folds_list.shape[0]):\n",
    "  performance_results_summary_list=[]\n",
    "  for j in range(summary_performace_for_all_oversampling_algorithms_all_folds_list.shape[1]):\n",
    "    performance_results_summary_list.append(str(summary_performace_for_all_oversampling_algorithms_all_folds_list[i][j][0])+\"\\u00B1\"+str(summary_performace_for_all_oversampling_algorithms_all_folds_list[i][j][1]))\n",
    "  oversamplers_result_summary_list.append(performance_results_summary_list)\n",
    "oversamplers_result_summary_list=np.array(oversamplers_result_summary_list)"
   ]
  },
  {
   "cell_type": "code",
   "execution_count": 110,
   "id": "3d7334f4-a8b8-470a-b11b-4ac2d6f55184",
   "metadata": {},
   "outputs": [
    {
     "data": {
      "text/plain": [
       "['0.897±0.006', '0.858±0.025', '0.857±0.026', '0.27±0.013', '0.24±0.013']"
      ]
     },
     "execution_count": 110,
     "metadata": {},
     "output_type": "execute_result"
    }
   ],
   "source": [
    "performance_results_summary_list"
   ]
  },
  {
   "cell_type": "code",
   "execution_count": 112,
   "id": "9db0445f-6441-4687-b6ca-9e535b8e72b0",
   "metadata": {},
   "outputs": [
    {
     "data": {
      "text/plain": [
       "array([['0.9±0.01', '0.883±0.035', '0.882±0.037', '0.288±0.026',\n",
       "        '0.26±0.027'],\n",
       "       ['0.939±0.004', '0.853±0.032', '0.848±0.036', '0.368±0.027',\n",
       "        '0.345±0.028'],\n",
       "       ['0.921±0.004', '0.87±0.022', '0.868±0.024', '0.326±0.019',\n",
       "        '0.3±0.02'],\n",
       "       ['0.955±0.005', '0.879±0.046', '0.874±0.052', '0.451±0.023',\n",
       "        '0.432±0.024'],\n",
       "       ['0.897±0.006', '0.858±0.025', '0.857±0.026', '0.27±0.013',\n",
       "        '0.24±0.013']], dtype='<U11')"
      ]
     },
     "execution_count": 112,
     "metadata": {},
     "output_type": "execute_result"
    }
   ],
   "source": [
    "oversamplers_result_summary_list"
   ]
  },
  {
   "cell_type": "code",
   "execution_count": 114,
   "id": "c51e0a71-597a-4787-ba61-bb7ab0faf3fd",
   "metadata": {},
   "outputs": [],
   "source": [
    "df=pd.DataFrame(oversamplers_result_summary_list,columns=perfromance_measures,index=oversampler_name_list)"
   ]
  },
  {
   "cell_type": "code",
   "execution_count": 116,
   "id": "dd8ed331-acd3-4dfa-84e2-10142a1f3b88",
   "metadata": {},
   "outputs": [
    {
     "data": {
      "text/html": [
       "<div>\n",
       "<style scoped>\n",
       "    .dataframe tbody tr th:only-of-type {\n",
       "        vertical-align: middle;\n",
       "    }\n",
       "\n",
       "    .dataframe tbody tr th {\n",
       "        vertical-align: top;\n",
       "    }\n",
       "\n",
       "    .dataframe thead th {\n",
       "        text-align: right;\n",
       "    }\n",
       "</style>\n",
       "<table border=\"1\" class=\"dataframe\">\n",
       "  <thead>\n",
       "    <tr style=\"text-align: right;\">\n",
       "      <th></th>\n",
       "      <th>accuracy</th>\n",
       "      <th>balanced accuracy</th>\n",
       "      <th>g-mean</th>\n",
       "      <th>f1-score</th>\n",
       "      <th>cohen_kappa</th>\n",
       "    </tr>\n",
       "  </thead>\n",
       "  <tbody>\n",
       "    <tr>\n",
       "      <th>SMOTE</th>\n",
       "      <td>0.9±0.01</td>\n",
       "      <td>0.883±0.035</td>\n",
       "      <td>0.882±0.037</td>\n",
       "      <td>0.288±0.026</td>\n",
       "      <td>0.26±0.027</td>\n",
       "    </tr>\n",
       "    <tr>\n",
       "      <th>polynome_fit_SMOTE</th>\n",
       "      <td>0.939±0.004</td>\n",
       "      <td>0.853±0.032</td>\n",
       "      <td>0.848±0.036</td>\n",
       "      <td>0.368±0.027</td>\n",
       "      <td>0.345±0.028</td>\n",
       "    </tr>\n",
       "    <tr>\n",
       "      <th>ProWSyn</th>\n",
       "      <td>0.921±0.004</td>\n",
       "      <td>0.87±0.022</td>\n",
       "      <td>0.868±0.024</td>\n",
       "      <td>0.326±0.019</td>\n",
       "      <td>0.3±0.02</td>\n",
       "    </tr>\n",
       "    <tr>\n",
       "      <th>Lee</th>\n",
       "      <td>0.955±0.005</td>\n",
       "      <td>0.879±0.046</td>\n",
       "      <td>0.874±0.052</td>\n",
       "      <td>0.451±0.023</td>\n",
       "      <td>0.432±0.024</td>\n",
       "    </tr>\n",
       "    <tr>\n",
       "      <th>Metropolis_hastings</th>\n",
       "      <td>0.897±0.006</td>\n",
       "      <td>0.858±0.025</td>\n",
       "      <td>0.857±0.026</td>\n",
       "      <td>0.27±0.013</td>\n",
       "      <td>0.24±0.013</td>\n",
       "    </tr>\n",
       "  </tbody>\n",
       "</table>\n",
       "</div>"
      ],
      "text/plain": [
       "                        accuracy balanced accuracy       g-mean     f1-score  \\\n",
       "SMOTE                   0.9±0.01       0.883±0.035  0.882±0.037  0.288±0.026   \n",
       "polynome_fit_SMOTE   0.939±0.004       0.853±0.032  0.848±0.036  0.368±0.027   \n",
       "ProWSyn              0.921±0.004        0.87±0.022  0.868±0.024  0.326±0.019   \n",
       "Lee                  0.955±0.005       0.879±0.046  0.874±0.052  0.451±0.023   \n",
       "Metropolis_hastings  0.897±0.006       0.858±0.025  0.857±0.026   0.27±0.013   \n",
       "\n",
       "                     cohen_kappa  \n",
       "SMOTE                 0.26±0.027  \n",
       "polynome_fit_SMOTE   0.345±0.028  \n",
       "ProWSyn                 0.3±0.02  \n",
       "Lee                  0.432±0.024  \n",
       "Metropolis_hastings   0.24±0.013  "
      ]
     },
     "execution_count": 116,
     "metadata": {},
     "output_type": "execute_result"
    }
   ],
   "source": [
    "df"
   ]
  },
  {
   "cell_type": "code",
   "execution_count": 122,
   "id": "56284b77-c5c8-4f81-9700-fc6117c0e2d6",
   "metadata": {},
   "outputs": [],
   "source": [
    "with pd.ExcelWriter('logistic_regression_clf_result_for_data1.xlsx') as excel_writer:\n",
    "  df.to_excel(excel_writer,sheet_name='sheet_1')"
   ]
  },
  {
   "cell_type": "code",
   "execution_count": null,
   "id": "a8988d5b-2b3f-4ad2-b69c-78393600afb0",
   "metadata": {},
   "outputs": [],
   "source": []
  }
 ],
 "metadata": {
  "kernelspec": {
   "display_name": "Python 3 (ipykernel)",
   "language": "python",
   "name": "python3"
  },
  "language_info": {
   "codemirror_mode": {
    "name": "ipython",
    "version": 3
   },
   "file_extension": ".py",
   "mimetype": "text/x-python",
   "name": "python",
   "nbconvert_exporter": "python",
   "pygments_lexer": "ipython3",
   "version": "3.12.4"
  }
 },
 "nbformat": 4,
 "nbformat_minor": 5
}

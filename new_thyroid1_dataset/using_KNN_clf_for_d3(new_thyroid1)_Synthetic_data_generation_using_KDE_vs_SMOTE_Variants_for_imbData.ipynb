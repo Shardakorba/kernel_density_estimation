{
 "cells": [
  {
   "cell_type": "code",
   "execution_count": 1,
   "id": "8656760b-6b54-4c14-950e-1da119ba1196",
   "metadata": {},
   "outputs": [],
   "source": [
    "import numpy as np\n",
    "import pandas as pd\n",
    "from tqdm.notebook import tqdm\n",
    "from sklearn.preprocessing import StandardScaler\n",
    "from sklearn.decomposition import PCA\n",
    "import matplotlib.pyplot as plt\n",
    "from sklearn.neighbors import KNeighborsClassifier\n",
    "from sklearn.metrics import confusion_matrix\n",
    "from sklearn.metrics import accuracy_score\n",
    "from sklearn.metrics import balanced_accuracy_score\n",
    "from sklearn.metrics import f1_score\n",
    "from imblearn.metrics import geometric_mean_score\n",
    "from sklearn.metrics import cohen_kappa_score\n",
    "from imblearn.over_sampling import SMOTE\n",
    "from collections import Counter"
   ]
  },
  {
   "cell_type": "code",
   "execution_count": 2,
   "id": "7304f51b-0cf3-4117-9b2f-5d242440e1ac",
   "metadata": {},
   "outputs": [],
   "source": [
    "with open ('new-thyroid1.dat') as f:\n",
    "     lines = [line.rstrip('\\n')for line in f]"
   ]
  },
  {
   "cell_type": "code",
   "execution_count": 3,
   "id": "609280e6-c68b-4f0a-aaca-b49ebfb6dbb9",
   "metadata": {},
   "outputs": [],
   "source": [
    "del lines[0:10]\n",
    "data_string_list = []\n",
    "for i in range(len(lines)):\n",
    "    data_string_list.append(lines[i].split(','))"
   ]
  },
  {
   "cell_type": "code",
   "execution_count": 4,
   "id": "75fcdf2b-d5d7-43a4-afe6-75ce42f0ab7e",
   "metadata": {},
   "outputs": [],
   "source": [
    "labels=[]\n",
    "for i in range(len(data_string_list)):\n",
    "    if data_string_list[i][-1] == ' negative':\n",
    "        labels.append(0)\n",
    "    else:\n",
    "        labels.append(1)\n",
    "labels=np.array(labels)"
   ]
  },
  {
   "cell_type": "code",
   "execution_count": 5,
   "id": "49161847-4a63-4585-a514-dc830d52d0f4",
   "metadata": {},
   "outputs": [
    {
     "data": {
      "text/plain": [
       "array([0, 1])"
      ]
     },
     "execution_count": 5,
     "metadata": {},
     "output_type": "execute_result"
    }
   ],
   "source": [
    "np.unique(labels)"
   ]
  },
  {
   "cell_type": "code",
   "execution_count": 6,
   "id": "c8b42a31-2467-4f06-be06-b3522b2f81ff",
   "metadata": {},
   "outputs": [],
   "source": [
    "data_string_list=np.array(data_string_list)\n",
    "data_string_list=data_string_list[:,:-1]"
   ]
  },
  {
   "cell_type": "code",
   "execution_count": 7,
   "id": "0b3a84d0-698a-4cfb-9740-82817d15a57e",
   "metadata": {},
   "outputs": [],
   "source": [
    "data_list=[]\n",
    "for i in range(len(data_string_list)):\n",
    "    row_list=[]\n",
    "    for j in range(len(data_string_list[0])):\n",
    "        f= float(data_string_list[i][j])\n",
    "        row_list.append(f)\n",
    "    data_list.append(row_list)\n",
    "data = np.array(data_list)"
   ]
  },
  {
   "cell_type": "code",
   "execution_count": 8,
   "id": "8fa9fe4f-3e2b-4299-9f8e-7ee75ab7fba9",
   "metadata": {
    "editable": true,
    "slideshow": {
     "slide_type": ""
    },
    "tags": []
   },
   "outputs": [
    {
     "data": {
      "text/plain": [
       "(215, 5)"
      ]
     },
     "execution_count": 8,
     "metadata": {},
     "output_type": "execute_result"
    }
   ],
   "source": [
    "data.shape"
   ]
  },
  {
   "cell_type": "code",
   "execution_count": 9,
   "id": "90a181a4-b022-4e99-bf38-5f1feed9cd28",
   "metadata": {},
   "outputs": [
    {
     "data": {
      "text/plain": [
       "(215,)"
      ]
     },
     "execution_count": 9,
     "metadata": {},
     "output_type": "execute_result"
    }
   ],
   "source": [
    "labels.shape"
   ]
  },
  {
   "cell_type": "markdown",
   "id": "c5b42384-47d2-42a9-a723-ad817827c934",
   "metadata": {
    "editable": true,
    "slideshow": {
     "slide_type": ""
    },
    "tags": []
   },
   "source": [
    "### K-fold:"
   ]
  },
  {
   "cell_type": "code",
   "execution_count": 11,
   "id": "d08e4baa-2c78-45ac-bdd8-8bd3839f04fa",
   "metadata": {
    "editable": true,
    "slideshow": {
     "slide_type": ""
    },
    "tags": []
   },
   "outputs": [],
   "source": [
    "def get_folds(data,labels,k):\n",
    "  np.random.seed(42)\n",
    "  shuffle=np.random.permutation(len(data))\n",
    "  data=data[shuffle]\n",
    "  labels=labels[shuffle]\n",
    "\n",
    "  block_length=int(len(data)/k)\n",
    "  data_folds=[]\n",
    "  label_folds=[]\n",
    "  for i in range(k):\n",
    "    if i==(k-1):\n",
    "      data_fold=data[i*block_length:]\n",
    "      data_folds.append(data_fold)\n",
    "      label_fold=labels[i*block_length:]\n",
    "      label_folds.append(label_fold)\n",
    "    else:\n",
    "      data_fold=data[i*block_length:block_length*(i+1)]\n",
    "      data_folds.append(data_fold)\n",
    "      label_fold=labels[i*block_length:block_length*(i+1)]\n",
    "      label_folds.append(label_fold)\n",
    "  return np.array(data_folds,dtype=object),np.array(label_folds,dtype=object)"
   ]
  },
  {
   "cell_type": "code",
   "execution_count": 12,
   "id": "24f38c67-b536-435f-8d24-b21d214b53cb",
   "metadata": {},
   "outputs": [],
   "source": [
    "k_fold_data,k_fold_labels=get_folds(data,labels,5)"
   ]
  },
  {
   "cell_type": "code",
   "execution_count": 13,
   "id": "84e2fa4e-85dd-48d9-bef0-2c8f3a178078",
   "metadata": {},
   "outputs": [
    {
     "data": {
      "text/plain": [
       "(5, 43, 5)"
      ]
     },
     "execution_count": 13,
     "metadata": {},
     "output_type": "execute_result"
    }
   ],
   "source": [
    "k_fold_data.shape"
   ]
  },
  {
   "cell_type": "code",
   "execution_count": 14,
   "id": "727b6ec6-c1c0-4c11-ac4a-3ad090cdd6cb",
   "metadata": {},
   "outputs": [
    {
     "data": {
      "text/plain": [
       "(5, 43)"
      ]
     },
     "execution_count": 14,
     "metadata": {},
     "output_type": "execute_result"
    }
   ],
   "source": [
    "k_fold_labels.shape"
   ]
  },
  {
   "cell_type": "code",
   "execution_count": 15,
   "id": "c75fc7ca-ef1e-44c6-b471-ab072b719a60",
   "metadata": {},
   "outputs": [],
   "source": [
    "def divide_data_into_k_folds(data,labels,k):\n",
    "    \n",
    "    data_folds_array,label_folds_array=get_folds(data,labels,k)\n",
    "    data_folds_array=data_folds_array.astype('float64')\n",
    "    label_folds_array=label_folds_array.astype('int64')\n",
    "    all_data_folds_list=[]\n",
    "    all_labels_folds_list=[]\n",
    "    for i in range(k):\n",
    "        data_fold_k=[np.concatenate(data_folds_array[np.where(np.array(list(range(k)))!=i)[0]]), data_folds_array[i]]\n",
    "        all_data_folds_list.append(data_fold_k)\n",
    "\n",
    "        label_fold_k=[np.concatenate(label_folds_array[np.where(np.array(list(range(k)))!=i)[0]]), label_folds_array[i]]\n",
    "        all_labels_folds_list.append(label_fold_k)\n",
    "        \n",
    "    return all_data_folds_list, all_labels_folds_list"
   ]
  },
  {
   "cell_type": "code",
   "execution_count": 16,
   "id": "c9596316-7701-41e9-9823-c1238100405a",
   "metadata": {},
   "outputs": [],
   "source": [
    "all_data_folds_list, all_labels_folds_list = divide_data_into_k_folds(data,labels,5)"
   ]
  },
  {
   "cell_type": "code",
   "execution_count": 17,
   "id": "89ae6206-2650-48e8-a9bf-b30d26a016cb",
   "metadata": {},
   "outputs": [],
   "source": [
    "X_train,X_test=all_data_folds_list[0][0],all_data_folds_list[0][1]"
   ]
  },
  {
   "cell_type": "code",
   "execution_count": 18,
   "id": "b87f8568-d248-4041-9561-9f6a3cd7d62e",
   "metadata": {},
   "outputs": [
    {
     "data": {
      "text/plain": [
       "(172, 5)"
      ]
     },
     "execution_count": 18,
     "metadata": {},
     "output_type": "execute_result"
    }
   ],
   "source": [
    "X_train.shape"
   ]
  },
  {
   "cell_type": "code",
   "execution_count": 19,
   "id": "a267204a-9303-445b-93dc-a8d031fde18b",
   "metadata": {},
   "outputs": [],
   "source": [
    "y_train,y_test=all_labels_folds_list[0][0],all_labels_folds_list[0][1]"
   ]
  },
  {
   "cell_type": "code",
   "execution_count": 20,
   "id": "20314b64-da76-435d-9e28-7ed76e974f27",
   "metadata": {},
   "outputs": [],
   "source": [
    "X_train_minority=[]\n",
    "for i in np.where(y_train==1):\n",
    "    a=X_train[i]\n",
    "    X_train_minority.append(a)"
   ]
  },
  {
   "cell_type": "code",
   "execution_count": 21,
   "id": "c82367de-9396-47b5-a823-2de071e11974",
   "metadata": {},
   "outputs": [],
   "source": [
    "X_train_minority_class=np.array(X_train_minority[0])"
   ]
  },
  {
   "cell_type": "code",
   "execution_count": 22,
   "id": "6be6c248-66c7-4d11-8899-fc5adf12b2ae",
   "metadata": {},
   "outputs": [
    {
     "data": {
      "text/plain": [
       "(29, 5)"
      ]
     },
     "execution_count": 22,
     "metadata": {},
     "output_type": "execute_result"
    }
   ],
   "source": [
    "X_train_minority_class.shape"
   ]
  },
  {
   "cell_type": "code",
   "execution_count": 23,
   "id": "2e70af42-2594-4577-9793-ad199fd66f71",
   "metadata": {},
   "outputs": [],
   "source": [
    "X_train_majority=[]\n",
    "for i in np.where(y_train==0):\n",
    "    a=X_train[i]\n",
    "    X_train_majority.append(a)"
   ]
  },
  {
   "cell_type": "code",
   "execution_count": 24,
   "id": "5def2c1e-e051-4d1c-b3f2-7790649de3f5",
   "metadata": {},
   "outputs": [],
   "source": [
    "X_train_majority_class=np.array(X_train_majority[0])"
   ]
  },
  {
   "cell_type": "code",
   "execution_count": 25,
   "id": "5efcdcc9-6772-4f54-b377-9decb11906ef",
   "metadata": {},
   "outputs": [
    {
     "data": {
      "text/plain": [
       "(143, 5)"
      ]
     },
     "execution_count": 25,
     "metadata": {},
     "output_type": "execute_result"
    }
   ],
   "source": [
    "X_train_majority_class.shape"
   ]
  },
  {
   "cell_type": "markdown",
   "id": "e4dbbdc8-6103-4ce0-ae2e-31eb6fb83802",
   "metadata": {},
   "source": [
    "### Kernel Density Functon:"
   ]
  },
  {
   "cell_type": "code",
   "execution_count": 27,
   "id": "e74cb08f-6706-4224-bff8-66bbbb3d026a",
   "metadata": {},
   "outputs": [],
   "source": [
    "def k(H,x,d):\n",
    "  H_inv = np.linalg.inv(H)\n",
    "  x_tras=np.matrix.transpose(x)\n",
    "  h= np.linalg.det(H)\n",
    "  m=np.matmul(x_tras,H_inv)\n",
    "  m1=np.matmul(m,x)\n",
    "  e=np.exp(-0.5*m1)\n",
    "  n=2*(np.pi)**(-d/2)\n",
    "  v=n*(h)**(-1/2)*(e)\n",
    "  return v"
   ]
  },
  {
   "cell_type": "code",
   "execution_count": 28,
   "id": "34942e44-4f3f-4f23-9b20-a275c2b0d2b2",
   "metadata": {},
   "outputs": [],
   "source": [
    "def density_gen(X, X_minority):\n",
    "    density_list=[]\n",
    "    for j in range(len(X)):\n",
    "        s=0\n",
    "        for i in range(len(X_minority)):\n",
    "            xi=X_minority[i]\n",
    "            dif=X[j]-xi\n",
    "            s=s+k(np.identity(X_minority.shape[1]), dif, X_minority.shape[1])\n",
    "        density_list.append(s/len(X_minority))\n",
    "    return np.array(density_list)"
   ]
  },
  {
   "cell_type": "code",
   "execution_count": 29,
   "id": "e660fa00-f2c8-41d4-ae5a-5b8cd9a7004c",
   "metadata": {},
   "outputs": [],
   "source": [
    "unique_labels,counts=np.unique(y_train, return_counts=True)"
   ]
  },
  {
   "cell_type": "code",
   "execution_count": 30,
   "id": "ac77f0f1-158c-47a9-a890-a56354a63227",
   "metadata": {},
   "outputs": [],
   "source": [
    "def metropolis_hastings(target_density, X_minority, size=100):\n",
    "    np.random.seed(43)\n",
    "    burnin_size = 10000\n",
    "    size += burnin_size\n",
    "    x0 =X_minority[np.random.choice(list(range(len(X_train_minority_class))),1)]\n",
    "    xt = x0\n",
    "    samples = []\n",
    "    for i in tqdm(range(size)):\n",
    "        xt_candidate = np.array([np.random.multivariate_normal(xt[0], 0.2*np.eye(X_minority.shape[1]))])\n",
    "        accept_odds = (target_density(xt_candidate,X_minority))/(target_density(xt,X_minority))\n",
    "        if np.random.uniform(0, 1) < accept_odds:\n",
    "            xt = xt_candidate\n",
    "        samples.append(xt)\n",
    "    samples = np.array(samples[burnin_size:])\n",
    "    samples = np.reshape(samples, [samples.shape[0], X_minority.shape[1]])\n",
    "    return samples"
   ]
  },
  {
   "cell_type": "code",
   "execution_count": 31,
   "id": "06cd6050-802e-4a6c-8c0e-5c4ce7d96097",
   "metadata": {},
   "outputs": [],
   "source": [
    "import smote_variants as sv\n",
    "\n",
    "oversampler_SMOTE=sv.SMOTE()\n",
    "oversampler_polynome_fit = sv.polynom_fit_SMOTE_star()\n",
    "oversampler_ProWSyn= sv.ProWSyn()\n",
    "oversampler_SMOTE_IPF= sv.SMOTE_IPF()\n",
    "oversampler_Lee= sv.Lee()\n"
   ]
  },
  {
   "cell_type": "code",
   "execution_count": 32,
   "id": "660c96a3-12e7-4e39-a384-3903ba39d597",
   "metadata": {},
   "outputs": [],
   "source": [
    "oversampler_object_list = [oversampler_SMOTE,oversampler_polynome_fit,oversampler_ProWSyn, oversampler_Lee, metropolis_hastings]"
   ]
  },
  {
   "cell_type": "code",
   "execution_count": 33,
   "id": "048a3654-996d-452e-9169-8d4ee149342f",
   "metadata": {},
   "outputs": [],
   "source": [
    "oversampler_name_list = ['SMOTE','polynome_fit_SMOTE','ProWSyn', 'Lee', 'Metropolis_hastings']"
   ]
  },
  {
   "cell_type": "code",
   "execution_count": 34,
   "id": "7c5c91c1-a591-4f19-838d-ac6b2effe130",
   "metadata": {},
   "outputs": [],
   "source": [
    "def get_imb_oversampling(X_train,y_train,X_test,y_test,oversampler_index,classifier,visualize=True):\n",
    "  ## MH is in the end of the list oversampler_object_list\n",
    "  if oversampler_index!=len(oversampler_object_list)-1:\n",
    "    X_samp, y_samp = oversampler_object_list[oversampler_index].sample(X_train, y_train)\n",
    "\n",
    "  else:\n",
    "    X_train_minority=[]\n",
    "    for i in np.where(y_train==1):\n",
    "      a=X_train[i]\n",
    "      X_train_minority.append(a)\n",
    "\n",
    "    X_train_majority=[]\n",
    "    for i in np.where(y_train==0):\n",
    "      a=X_train[i]\n",
    "      X_train_majority.append(a)\n",
    "    X_train_minority_class=np.array(X_train_minority[0])\n",
    "    X_train_majority_class=np.array(X_train_majority[0])\n",
    "\n",
    "    unique_labels,counts=np.unique(y_train, return_counts=True)\n",
    "\n",
    "    synthetic_minority_data = metropolis_hastings(density_gen, X_train_minority_class, size=counts[0]-counts[1])\n",
    "    balanced_minority=np.concatenate([X_train_minority_class, synthetic_minority_data])\n",
    "    balanced_data=np.concatenate([X_train_majority_class,balanced_minority])\n",
    "    balanced_labels_for_classification=np.concatenate([np.zeros(len(X_train_majority_class)),np.ones(len(balanced_minority))])\n",
    "    X_samp=balanced_data\n",
    "    y_samp=balanced_labels_for_classification\n",
    "\n",
    "  classifier.fit(X_samp,y_samp.astype('int'))\n",
    "  y_pred=classifier.predict(X_test)\n",
    "  y_test=y_test.astype('int')\n",
    "  cm=confusion_matrix(y_test, y_pred)\n",
    "  acc=accuracy_score(y_test, y_pred)\n",
    "  b_acc=balanced_accuracy_score(y_test, y_pred)\n",
    "  gm=geometric_mean_score(y_test, y_pred,average='micro')\n",
    "  f1=f1_score(y_test, y_pred,average='micro')\n",
    "  ck=cohen_kappa_score(y_test, y_pred)\n",
    "\n",
    "  if visualize==True:\n",
    "    scaler = StandardScaler()\n",
    "    scaler.fit(X_samp)\n",
    "    scaled_X_samp = scaler.transform(X_samp)\n",
    "    pca = PCA(n_components =2)\n",
    "    X_samp_pca=pca.fit_transform(scaled_X_samp)\n",
    "\n",
    "    plt.figure(figsize=(8,6))\n",
    "    color=[\"r\",\"b\"]\n",
    "    color_counter=0\n",
    "    for i in [-1,1]:\n",
    "      plt.scatter(X_samp_pca[:,0][np.where(y_samp==i)],X_samp_pca[:,1][np.where(y_samp==i)], s=10, c=color[color_counter])\n",
    "      color_counter=color_counter+1\n",
    "    plt.legend(['Majority','Manority'],fontsize=10, loc='lower right')\n",
    "    plt.xlabel(\"Principal Component 1\",fontsize=12)\n",
    "    plt.ylabel(\"Principlal Component 2 \",fontsize=12)\n",
    "    plt.title(\"PCA plot of majority class + minority class using\"+\"\"+ oversampler_name_list[oversampler_index]+\"technique\",fontsize=14)\n",
    "\n",
    "\n",
    "  return [cm, acc,b_acc,gm, f1, ck]"
   ]
  },
  {
   "cell_type": "code",
   "execution_count": 35,
   "id": "ed74120b-0f93-447e-ad41-7e7e7b1ef673",
   "metadata": {},
   "outputs": [],
   "source": [
    "def calc_avg_performance(performance_index,results_all_folds):\n",
    "  ## performance index takes the index of the performance measure foe which we want to average over folds\n",
    "  ## results_all_folds are the results of a particular oversampler run over all folds recording all performance measures\n",
    "  s=0\n",
    "  for result in results_all_folds:\n",
    "    s=s+result[performance_index]\n",
    "  avg=s/len(results_all_folds)\n",
    "\n",
    "  s=0\n",
    "  for result in results_all_folds:\n",
    "    s=s+(result[performance_index]-avg)**2\n",
    "  std=np.sqrt(s/len(results_all_folds))\n",
    "  return avg, std"
   ]
  },
  {
   "cell_type": "code",
   "execution_count": 36,
   "id": "a2b481b4-27f8-4c25-bf66-9627afc41638",
   "metadata": {},
   "outputs": [],
   "source": [
    "clf=KNeighborsClassifier(n_neighbors=5)"
   ]
  },
  {
   "cell_type": "code",
   "execution_count": 37,
   "id": "483ccdd8-3fdc-4869-8d42-22a0aa065871",
   "metadata": {},
   "outputs": [],
   "source": [
    "perfromance_measures=['accuracy','balanced accuracy','g-mean','f1-score','cohen_kappa']\n",
    "def get_results_all_folds(oversampler_index,classifier, visualize=False, get_detailed_results=False):\n",
    "\n",
    "  results_all_folds=[]\n",
    "  for i in range(len(all_data_folds_list)):\n",
    "    X_train,X_test=all_data_folds_list[i][0],all_data_folds_list[i][1]\n",
    "    y_train,y_test=all_labels_folds_list[i][0],all_labels_folds_list[i][1]\n",
    "    results_single_fold=get_imb_oversampling(X_train,y_train,X_test,y_test,oversampler_index,clf,visualize=visualize)\n",
    "    results_all_folds.append(results_single_fold)\n",
    "\n",
    "  performance_summary_oversampler_classifer={}\n",
    "  for performance_index in range(1,6):\n",
    "    avg_std=calc_avg_performance(performance_index,results_all_folds)\n",
    "    performance_summary_oversampler_classifer[perfromance_measures[performance_index-1]]=avg_std\n",
    "\n",
    "  if get_detailed_results==True:\n",
    "    return results_all_folds, performance_summary_oversampler_classifer\n",
    "  else:\n",
    "    return performance_summary_oversampler_classifer"
   ]
  },
  {
   "cell_type": "code",
   "execution_count": 38,
   "id": "728f239c-7616-4021-ab63-5a2e2e4c718f",
   "metadata": {},
   "outputs": [
    {
     "name": "stderr",
     "output_type": "stream",
     "text": [
      "2024-08-22 18:39:22,829:INFO:SMOTE: Running sampling via ('SMOTE', \"{'proportion': 1.0, 'n_neighbors': 5, 'nn_params': {}, 'n_jobs': 1, 'ss_params': {'n_dim': 2, 'simplex_sampling': 'random', 'within_simplex_sampling': 'random', 'gaussian_component': {}}, 'random_state': None, 'class_name': 'SMOTE'}\")\n",
      "2024-08-22 18:39:22,835:INFO:NearestNeighborsWithMetricTensor: NN fitting with metric minkowski\n",
      "2024-08-22 18:39:22,836:INFO:NearestNeighborsWithMetricTensor: kneighbors query minkowski\n",
      "2024-08-22 18:39:22,837:INFO:SMOTE: simplex sampling with n_dim 2\n",
      "2024-08-22 18:39:22,845:INFO:SMOTE: Running sampling via ('SMOTE', \"{'proportion': 1.0, 'n_neighbors': 5, 'nn_params': {}, 'n_jobs': 1, 'ss_params': {'n_dim': 2, 'simplex_sampling': 'random', 'within_simplex_sampling': 'random', 'gaussian_component': {}}, 'random_state': None, 'class_name': 'SMOTE'}\")\n",
      "2024-08-22 18:39:22,846:INFO:NearestNeighborsWithMetricTensor: NN fitting with metric minkowski\n",
      "2024-08-22 18:39:22,847:INFO:NearestNeighborsWithMetricTensor: kneighbors query minkowski\n",
      "2024-08-22 18:39:22,848:INFO:SMOTE: simplex sampling with n_dim 2\n",
      "2024-08-22 18:39:22,853:INFO:SMOTE: Running sampling via ('SMOTE', \"{'proportion': 1.0, 'n_neighbors': 5, 'nn_params': {}, 'n_jobs': 1, 'ss_params': {'n_dim': 2, 'simplex_sampling': 'random', 'within_simplex_sampling': 'random', 'gaussian_component': {}}, 'random_state': None, 'class_name': 'SMOTE'}\")\n",
      "2024-08-22 18:39:22,853:INFO:NearestNeighborsWithMetricTensor: NN fitting with metric minkowski\n",
      "2024-08-22 18:39:22,853:INFO:NearestNeighborsWithMetricTensor: kneighbors query minkowski\n",
      "2024-08-22 18:39:22,853:INFO:SMOTE: simplex sampling with n_dim 2\n",
      "2024-08-22 18:39:22,869:INFO:SMOTE: Running sampling via ('SMOTE', \"{'proportion': 1.0, 'n_neighbors': 5, 'nn_params': {}, 'n_jobs': 1, 'ss_params': {'n_dim': 2, 'simplex_sampling': 'random', 'within_simplex_sampling': 'random', 'gaussian_component': {}}, 'random_state': None, 'class_name': 'SMOTE'}\")\n",
      "2024-08-22 18:39:22,869:INFO:NearestNeighborsWithMetricTensor: NN fitting with metric minkowski\n",
      "2024-08-22 18:39:22,869:INFO:NearestNeighborsWithMetricTensor: kneighbors query minkowski\n",
      "2024-08-22 18:39:22,869:INFO:SMOTE: simplex sampling with n_dim 2\n",
      "2024-08-22 18:39:22,869:INFO:SMOTE: Running sampling via ('SMOTE', \"{'proportion': 1.0, 'n_neighbors': 5, 'nn_params': {}, 'n_jobs': 1, 'ss_params': {'n_dim': 2, 'simplex_sampling': 'random', 'within_simplex_sampling': 'random', 'gaussian_component': {}}, 'random_state': None, 'class_name': 'SMOTE'}\")\n",
      "2024-08-22 18:39:22,884:INFO:NearestNeighborsWithMetricTensor: NN fitting with metric minkowski\n",
      "2024-08-22 18:39:22,885:INFO:NearestNeighborsWithMetricTensor: kneighbors query minkowski\n",
      "2024-08-22 18:39:22,885:INFO:SMOTE: simplex sampling with n_dim 2\n"
     ]
    },
    {
     "data": {
      "text/plain": [
       "{'accuracy': (0.9627906976744185, 0.027906976744186043),\n",
       " 'balanced accuracy': (0.9430158730158731, 0.05561482099617768),\n",
       " 'g-mean': (0.9627906976744185, 0.027906976744186043),\n",
       " 'f1-score': (0.9627906976744185, 0.027906976744186043),\n",
       " 'cohen_kappa': (0.8711942529562544, 0.09592167375661684)}"
      ]
     },
     "execution_count": 38,
     "metadata": {},
     "output_type": "execute_result"
    }
   ],
   "source": [
    "get_results_all_folds(0,clf)"
   ]
  },
  {
   "cell_type": "code",
   "execution_count": 39,
   "id": "6cece8f5-0651-4b08-90aa-276b3b1de648",
   "metadata": {},
   "outputs": [
    {
     "name": "stderr",
     "output_type": "stream",
     "text": [
      "2024-08-22 18:39:22,901:INFO:SMOTE: Running sampling via ('SMOTE', \"{'proportion': 1.0, 'n_neighbors': 5, 'nn_params': {}, 'n_jobs': 1, 'ss_params': {'n_dim': 2, 'simplex_sampling': 'random', 'within_simplex_sampling': 'random', 'gaussian_component': {}}, 'random_state': None, 'class_name': 'SMOTE'}\")\n",
      "2024-08-22 18:39:22,903:INFO:NearestNeighborsWithMetricTensor: NN fitting with metric minkowski\n",
      "2024-08-22 18:39:22,903:INFO:NearestNeighborsWithMetricTensor: kneighbors query minkowski\n",
      "2024-08-22 18:39:22,903:INFO:SMOTE: simplex sampling with n_dim 2\n",
      "2024-08-22 18:39:22,903:INFO:SMOTE: Running sampling via ('SMOTE', \"{'proportion': 1.0, 'n_neighbors': 5, 'nn_params': {}, 'n_jobs': 1, 'ss_params': {'n_dim': 2, 'simplex_sampling': 'random', 'within_simplex_sampling': 'random', 'gaussian_component': {}}, 'random_state': None, 'class_name': 'SMOTE'}\")\n",
      "2024-08-22 18:39:22,903:INFO:NearestNeighborsWithMetricTensor: NN fitting with metric minkowski\n",
      "2024-08-22 18:39:22,903:INFO:NearestNeighborsWithMetricTensor: kneighbors query minkowski\n",
      "2024-08-22 18:39:22,917:INFO:SMOTE: simplex sampling with n_dim 2\n",
      "2024-08-22 18:39:22,919:INFO:SMOTE: Running sampling via ('SMOTE', \"{'proportion': 1.0, 'n_neighbors': 5, 'nn_params': {}, 'n_jobs': 1, 'ss_params': {'n_dim': 2, 'simplex_sampling': 'random', 'within_simplex_sampling': 'random', 'gaussian_component': {}}, 'random_state': None, 'class_name': 'SMOTE'}\")\n",
      "2024-08-22 18:39:22,919:INFO:NearestNeighborsWithMetricTensor: NN fitting with metric minkowski\n",
      "2024-08-22 18:39:22,919:INFO:NearestNeighborsWithMetricTensor: kneighbors query minkowski\n",
      "2024-08-22 18:39:22,919:INFO:SMOTE: simplex sampling with n_dim 2\n",
      "2024-08-22 18:39:22,936:INFO:SMOTE: Running sampling via ('SMOTE', \"{'proportion': 1.0, 'n_neighbors': 5, 'nn_params': {}, 'n_jobs': 1, 'ss_params': {'n_dim': 2, 'simplex_sampling': 'random', 'within_simplex_sampling': 'random', 'gaussian_component': {}}, 'random_state': None, 'class_name': 'SMOTE'}\")\n",
      "2024-08-22 18:39:22,936:INFO:NearestNeighborsWithMetricTensor: NN fitting with metric minkowski\n",
      "2024-08-22 18:39:22,936:INFO:NearestNeighborsWithMetricTensor: kneighbors query minkowski\n",
      "2024-08-22 18:39:22,936:INFO:SMOTE: simplex sampling with n_dim 2\n",
      "2024-08-22 18:39:22,953:INFO:SMOTE: Running sampling via ('SMOTE', \"{'proportion': 1.0, 'n_neighbors': 5, 'nn_params': {}, 'n_jobs': 1, 'ss_params': {'n_dim': 2, 'simplex_sampling': 'random', 'within_simplex_sampling': 'random', 'gaussian_component': {}}, 'random_state': None, 'class_name': 'SMOTE'}\")\n",
      "2024-08-22 18:39:22,954:INFO:NearestNeighborsWithMetricTensor: NN fitting with metric minkowski\n",
      "2024-08-22 18:39:22,955:INFO:NearestNeighborsWithMetricTensor: kneighbors query minkowski\n",
      "2024-08-22 18:39:22,955:INFO:SMOTE: simplex sampling with n_dim 2\n",
      "2024-08-22 18:39:22,968:INFO:polynom_fit_SMOTE_star: Running sampling via ('polynom_fit_SMOTE_star', \"{'proportion': 1.0, 'topology': 'star', 'random_state': None, 'class_name': 'polynom_fit_SMOTE_star'}\")\n",
      "2024-08-22 18:39:22,970:INFO:polynom_fit_SMOTE: Running sampling via ('polynom_fit_SMOTE', \"{'proportion': 1.0, 'topology': 'star', 'random_state': None, 'class_name': 'polynom_fit_SMOTE'}\")\n",
      "2024-08-22 18:39:22,983:INFO:polynom_fit_SMOTE_star: Running sampling via ('polynom_fit_SMOTE_star', \"{'proportion': 1.0, 'topology': 'star', 'random_state': None, 'class_name': 'polynom_fit_SMOTE_star'}\")\n",
      "2024-08-22 18:39:22,984:INFO:polynom_fit_SMOTE: Running sampling via ('polynom_fit_SMOTE', \"{'proportion': 1.0, 'topology': 'star', 'random_state': None, 'class_name': 'polynom_fit_SMOTE'}\")\n",
      "2024-08-22 18:39:22,988:INFO:polynom_fit_SMOTE_star: Running sampling via ('polynom_fit_SMOTE_star', \"{'proportion': 1.0, 'topology': 'star', 'random_state': None, 'class_name': 'polynom_fit_SMOTE_star'}\")\n",
      "2024-08-22 18:39:22,988:INFO:polynom_fit_SMOTE: Running sampling via ('polynom_fit_SMOTE', \"{'proportion': 1.0, 'topology': 'star', 'random_state': None, 'class_name': 'polynom_fit_SMOTE'}\")\n",
      "2024-08-22 18:39:23,002:INFO:polynom_fit_SMOTE_star: Running sampling via ('polynom_fit_SMOTE_star', \"{'proportion': 1.0, 'topology': 'star', 'random_state': None, 'class_name': 'polynom_fit_SMOTE_star'}\")\n",
      "2024-08-22 18:39:23,002:INFO:polynom_fit_SMOTE: Running sampling via ('polynom_fit_SMOTE', \"{'proportion': 1.0, 'topology': 'star', 'random_state': None, 'class_name': 'polynom_fit_SMOTE'}\")\n",
      "2024-08-22 18:39:23,002:INFO:polynom_fit_SMOTE_star: Running sampling via ('polynom_fit_SMOTE_star', \"{'proportion': 1.0, 'topology': 'star', 'random_state': None, 'class_name': 'polynom_fit_SMOTE_star'}\")\n",
      "2024-08-22 18:39:23,002:INFO:polynom_fit_SMOTE: Running sampling via ('polynom_fit_SMOTE', \"{'proportion': 1.0, 'topology': 'star', 'random_state': None, 'class_name': 'polynom_fit_SMOTE'}\")\n",
      "2024-08-22 18:39:23,018:INFO:ProWSyn: Running sampling via ('ProWSyn', \"{'proportion': 1.0, 'n_neighbors': 5, 'nn_params': {}, 'L': 5, 'theta': 1.0, 'n_jobs': 1, 'ss_params': {'n_dim': 2, 'simplex_sampling': 'random', 'within_simplex_sampling': 'random', 'gaussian_component': {}}, 'random_state': None, 'class_name': 'ProWSyn'}\")\n",
      "2024-08-22 18:39:23,018:INFO:NearestNeighborsWithMetricTensor: NN fitting with metric minkowski\n",
      "2024-08-22 18:39:23,018:INFO:NearestNeighborsWithMetricTensor: kneighbors query minkowski\n",
      "2024-08-22 18:39:23,018:INFO:NearestNeighborsWithMetricTensor: NN fitting with metric minkowski\n",
      "2024-08-22 18:39:23,018:INFO:NearestNeighborsWithMetricTensor: kneighbors query minkowski\n",
      "2024-08-22 18:39:23,018:INFO:NearestNeighborsWithMetricTensor: NN fitting with metric minkowski\n",
      "2024-08-22 18:39:23,018:INFO:NearestNeighborsWithMetricTensor: kneighbors query minkowski\n",
      "2024-08-22 18:39:23,171:INFO:NearestNeighborsWithMetricTensor: NN fitting with metric minkowski\n",
      "2024-08-22 18:39:23,171:INFO:NearestNeighborsWithMetricTensor: kneighbors query minkowski\n",
      "2024-08-22 18:39:23,206:INFO:ProWSyn: simplex sampling with n_dim 2\n",
      "2024-08-22 18:39:23,206:INFO:ProWSyn: simplex sampling with n_dim 2\n",
      "2024-08-22 18:39:23,206:INFO:ProWSyn: simplex sampling with n_dim 2\n",
      "2024-08-22 18:39:23,206:INFO:ProWSyn: The simplex order was updated from 2 to 1\n",
      "2024-08-22 18:39:23,206:INFO:ProWSyn: simplex sampling with n_dim 1\n",
      "2024-08-22 18:39:23,225:INFO:ProWSyn: Running sampling via ('ProWSyn', \"{'proportion': 1.0, 'n_neighbors': 5, 'nn_params': {}, 'L': 5, 'theta': 1.0, 'n_jobs': 1, 'ss_params': {'n_dim': 2, 'simplex_sampling': 'random', 'within_simplex_sampling': 'random', 'gaussian_component': {}}, 'random_state': None, 'class_name': 'ProWSyn'}\")\n",
      "2024-08-22 18:39:23,225:INFO:NearestNeighborsWithMetricTensor: NN fitting with metric minkowski\n",
      "2024-08-22 18:39:23,225:INFO:NearestNeighborsWithMetricTensor: kneighbors query minkowski\n",
      "2024-08-22 18:39:23,225:INFO:NearestNeighborsWithMetricTensor: NN fitting with metric minkowski\n",
      "2024-08-22 18:39:23,233:INFO:NearestNeighborsWithMetricTensor: kneighbors query minkowski\n",
      "2024-08-22 18:39:23,235:INFO:NearestNeighborsWithMetricTensor: NN fitting with metric minkowski\n",
      "2024-08-22 18:39:23,236:INFO:NearestNeighborsWithMetricTensor: kneighbors query minkowski\n",
      "2024-08-22 18:39:23,273:INFO:ProWSyn: simplex sampling with n_dim 2\n",
      "2024-08-22 18:39:23,275:INFO:ProWSyn: simplex sampling with n_dim 2\n",
      "2024-08-22 18:39:23,275:INFO:ProWSyn: simplex sampling with n_dim 2\n",
      "2024-08-22 18:39:23,289:INFO:ProWSyn: Running sampling via ('ProWSyn', \"{'proportion': 1.0, 'n_neighbors': 5, 'nn_params': {}, 'L': 5, 'theta': 1.0, 'n_jobs': 1, 'ss_params': {'n_dim': 2, 'simplex_sampling': 'random', 'within_simplex_sampling': 'random', 'gaussian_component': {}}, 'random_state': None, 'class_name': 'ProWSyn'}\")\n",
      "2024-08-22 18:39:23,290:INFO:NearestNeighborsWithMetricTensor: NN fitting with metric minkowski\n",
      "2024-08-22 18:39:23,290:INFO:NearestNeighborsWithMetricTensor: kneighbors query minkowski\n",
      "2024-08-22 18:39:23,290:INFO:NearestNeighborsWithMetricTensor: NN fitting with metric minkowski\n",
      "2024-08-22 18:39:23,290:INFO:NearestNeighborsWithMetricTensor: kneighbors query minkowski\n",
      "2024-08-22 18:39:23,319:INFO:NearestNeighborsWithMetricTensor: NN fitting with metric minkowski\n",
      "2024-08-22 18:39:23,319:INFO:NearestNeighborsWithMetricTensor: kneighbors query minkowski\n",
      "2024-08-22 18:39:23,352:INFO:NearestNeighborsWithMetricTensor: NN fitting with metric minkowski\n",
      "2024-08-22 18:39:23,352:INFO:NearestNeighborsWithMetricTensor: kneighbors query minkowski\n",
      "2024-08-22 18:39:23,385:INFO:ProWSyn: simplex sampling with n_dim 2\n",
      "2024-08-22 18:39:23,385:INFO:ProWSyn: simplex sampling with n_dim 2\n",
      "2024-08-22 18:39:23,385:INFO:ProWSyn: simplex sampling with n_dim 2\n",
      "2024-08-22 18:39:23,385:INFO:ProWSyn: The simplex order was updated from 2 to 1\n",
      "2024-08-22 18:39:23,385:INFO:ProWSyn: simplex sampling with n_dim 1\n",
      "2024-08-22 18:39:23,385:INFO:ProWSyn: Running sampling via ('ProWSyn', \"{'proportion': 1.0, 'n_neighbors': 5, 'nn_params': {}, 'L': 5, 'theta': 1.0, 'n_jobs': 1, 'ss_params': {'n_dim': 2, 'simplex_sampling': 'random', 'within_simplex_sampling': 'random', 'gaussian_component': {}}, 'random_state': None, 'class_name': 'ProWSyn'}\")\n",
      "2024-08-22 18:39:23,385:INFO:NearestNeighborsWithMetricTensor: NN fitting with metric minkowski\n",
      "2024-08-22 18:39:23,385:INFO:NearestNeighborsWithMetricTensor: kneighbors query minkowski\n",
      "2024-08-22 18:39:23,385:INFO:NearestNeighborsWithMetricTensor: NN fitting with metric minkowski\n",
      "2024-08-22 18:39:23,400:INFO:NearestNeighborsWithMetricTensor: kneighbors query minkowski\n",
      "2024-08-22 18:39:23,401:INFO:NearestNeighborsWithMetricTensor: NN fitting with metric minkowski\n",
      "2024-08-22 18:39:23,402:INFO:NearestNeighborsWithMetricTensor: kneighbors query minkowski\n",
      "2024-08-22 18:39:23,435:INFO:NearestNeighborsWithMetricTensor: NN fitting with metric minkowski\n",
      "2024-08-22 18:39:23,435:INFO:NearestNeighborsWithMetricTensor: kneighbors query minkowski\n",
      "2024-08-22 18:39:23,470:INFO:ProWSyn: simplex sampling with n_dim 2\n",
      "2024-08-22 18:39:23,472:INFO:ProWSyn: simplex sampling with n_dim 2\n",
      "2024-08-22 18:39:23,472:INFO:ProWSyn: simplex sampling with n_dim 2\n",
      "2024-08-22 18:39:23,472:INFO:ProWSyn: The simplex order was updated from 2 to 1\n",
      "2024-08-22 18:39:23,472:INFO:ProWSyn: simplex sampling with n_dim 1\n",
      "2024-08-22 18:39:23,483:INFO:ProWSyn: Running sampling via ('ProWSyn', \"{'proportion': 1.0, 'n_neighbors': 5, 'nn_params': {}, 'L': 5, 'theta': 1.0, 'n_jobs': 1, 'ss_params': {'n_dim': 2, 'simplex_sampling': 'random', 'within_simplex_sampling': 'random', 'gaussian_component': {}}, 'random_state': None, 'class_name': 'ProWSyn'}\")\n",
      "2024-08-22 18:39:23,484:INFO:NearestNeighborsWithMetricTensor: NN fitting with metric minkowski\n",
      "2024-08-22 18:39:23,485:INFO:NearestNeighborsWithMetricTensor: kneighbors query minkowski\n",
      "2024-08-22 18:39:23,485:INFO:NearestNeighborsWithMetricTensor: NN fitting with metric minkowski\n",
      "2024-08-22 18:39:23,485:INFO:NearestNeighborsWithMetricTensor: kneighbors query minkowski\n",
      "2024-08-22 18:39:23,518:INFO:NearestNeighborsWithMetricTensor: NN fitting with metric minkowski\n",
      "2024-08-22 18:39:23,518:INFO:NearestNeighborsWithMetricTensor: kneighbors query minkowski\n",
      "2024-08-22 18:39:23,551:INFO:ProWSyn: simplex sampling with n_dim 2\n",
      "2024-08-22 18:39:23,552:INFO:ProWSyn: simplex sampling with n_dim 2\n",
      "2024-08-22 18:39:23,553:INFO:ProWSyn: simplex sampling with n_dim 2\n",
      "2024-08-22 18:39:23,561:INFO:Lee: Running sampling via ('Lee', \"{'proportion': 1.0, 'n_neighbors': 5, 'nn_params': {}, 'rejection_level': 0.5, 'n_jobs': 1, 'ss_params': {'n_dim': 2, 'simplex_sampling': 'random', 'within_simplex_sampling': 'random', 'gaussian_component': {}}, 'random_state': None, 'class_name': 'Lee'}\")\n",
      "2024-08-22 18:39:23,562:INFO:NearestNeighborsWithMetricTensor: NN fitting with metric minkowski\n",
      "2024-08-22 18:39:23,563:INFO:NearestNeighborsWithMetricTensor: NN fitting with metric minkowski\n",
      "2024-08-22 18:39:23,564:INFO:NearestNeighborsWithMetricTensor: kneighbors query minkowski\n",
      "2024-08-22 18:39:23,565:INFO:Lee: simplex sampling with n_dim 2\n",
      "2024-08-22 18:39:23,566:INFO:NearestNeighborsWithMetricTensor: kneighbors query minkowski\n",
      "2024-08-22 18:39:23,568:INFO:Lee: simplex sampling with n_dim 2\n",
      "2024-08-22 18:39:23,568:INFO:NearestNeighborsWithMetricTensor: kneighbors query minkowski\n",
      "2024-08-22 18:39:23,568:INFO:Lee: Running sampling via ('Lee', \"{'proportion': 1.0, 'n_neighbors': 5, 'nn_params': {}, 'rejection_level': 0.5, 'n_jobs': 1, 'ss_params': {'n_dim': 2, 'simplex_sampling': 'random', 'within_simplex_sampling': 'random', 'gaussian_component': {}}, 'random_state': None, 'class_name': 'Lee'}\")\n",
      "2024-08-22 18:39:23,568:INFO:NearestNeighborsWithMetricTensor: NN fitting with metric minkowski\n",
      "2024-08-22 18:39:23,583:INFO:NearestNeighborsWithMetricTensor: NN fitting with metric minkowski\n",
      "2024-08-22 18:39:23,585:INFO:NearestNeighborsWithMetricTensor: kneighbors query minkowski\n",
      "2024-08-22 18:39:23,586:INFO:Lee: simplex sampling with n_dim 2\n",
      "2024-08-22 18:39:23,587:INFO:NearestNeighborsWithMetricTensor: kneighbors query minkowski\n",
      "2024-08-22 18:39:23,589:INFO:Lee: simplex sampling with n_dim 2\n",
      "2024-08-22 18:39:23,590:INFO:NearestNeighborsWithMetricTensor: kneighbors query minkowski\n",
      "2024-08-22 18:39:23,598:INFO:Lee: Running sampling via ('Lee', \"{'proportion': 1.0, 'n_neighbors': 5, 'nn_params': {}, 'rejection_level': 0.5, 'n_jobs': 1, 'ss_params': {'n_dim': 2, 'simplex_sampling': 'random', 'within_simplex_sampling': 'random', 'gaussian_component': {}}, 'random_state': None, 'class_name': 'Lee'}\")\n",
      "2024-08-22 18:39:23,599:INFO:NearestNeighborsWithMetricTensor: NN fitting with metric minkowski\n",
      "2024-08-22 18:39:23,601:INFO:NearestNeighborsWithMetricTensor: NN fitting with metric minkowski\n",
      "2024-08-22 18:39:23,602:INFO:NearestNeighborsWithMetricTensor: kneighbors query minkowski\n",
      "2024-08-22 18:39:23,602:INFO:Lee: simplex sampling with n_dim 2\n",
      "2024-08-22 18:39:23,602:INFO:NearestNeighborsWithMetricTensor: kneighbors query minkowski\n",
      "2024-08-22 18:39:23,602:INFO:Lee: simplex sampling with n_dim 2\n",
      "2024-08-22 18:39:23,602:INFO:NearestNeighborsWithMetricTensor: kneighbors query minkowski\n",
      "2024-08-22 18:39:23,620:INFO:Lee: Running sampling via ('Lee', \"{'proportion': 1.0, 'n_neighbors': 5, 'nn_params': {}, 'rejection_level': 0.5, 'n_jobs': 1, 'ss_params': {'n_dim': 2, 'simplex_sampling': 'random', 'within_simplex_sampling': 'random', 'gaussian_component': {}}, 'random_state': None, 'class_name': 'Lee'}\")\n",
      "2024-08-22 18:39:23,620:INFO:NearestNeighborsWithMetricTensor: NN fitting with metric minkowski\n",
      "2024-08-22 18:39:23,620:INFO:NearestNeighborsWithMetricTensor: NN fitting with metric minkowski\n",
      "2024-08-22 18:39:23,620:INFO:NearestNeighborsWithMetricTensor: kneighbors query minkowski\n",
      "2024-08-22 18:39:23,620:INFO:Lee: simplex sampling with n_dim 2\n",
      "2024-08-22 18:39:23,620:INFO:NearestNeighborsWithMetricTensor: kneighbors query minkowski\n",
      "2024-08-22 18:39:23,620:INFO:Lee: simplex sampling with n_dim 2\n",
      "2024-08-22 18:39:23,620:INFO:NearestNeighborsWithMetricTensor: kneighbors query minkowski\n",
      "2024-08-22 18:39:23,633:INFO:Lee: simplex sampling with n_dim 2\n",
      "2024-08-22 18:39:23,634:INFO:NearestNeighborsWithMetricTensor: kneighbors query minkowski\n",
      "2024-08-22 18:39:23,637:INFO:Lee: Running sampling via ('Lee', \"{'proportion': 1.0, 'n_neighbors': 5, 'nn_params': {}, 'rejection_level': 0.5, 'n_jobs': 1, 'ss_params': {'n_dim': 2, 'simplex_sampling': 'random', 'within_simplex_sampling': 'random', 'gaussian_component': {}}, 'random_state': None, 'class_name': 'Lee'}\")\n",
      "2024-08-22 18:39:23,637:INFO:NearestNeighborsWithMetricTensor: NN fitting with metric minkowski\n",
      "2024-08-22 18:39:23,637:INFO:NearestNeighborsWithMetricTensor: NN fitting with metric minkowski\n",
      "2024-08-22 18:39:23,637:INFO:NearestNeighborsWithMetricTensor: kneighbors query minkowski\n",
      "2024-08-22 18:39:23,651:INFO:Lee: simplex sampling with n_dim 2\n",
      "2024-08-22 18:39:23,652:INFO:NearestNeighborsWithMetricTensor: kneighbors query minkowski\n",
      "2024-08-22 18:39:23,652:INFO:Lee: simplex sampling with n_dim 2\n",
      "2024-08-22 18:39:23,652:INFO:NearestNeighborsWithMetricTensor: kneighbors query minkowski\n"
     ]
    },
    {
     "data": {
      "application/vnd.jupyter.widget-view+json": {
       "model_id": "bf83dfb00ae444a692fccdbd743cc445",
       "version_major": 2,
       "version_minor": 0
      },
      "text/plain": [
       "  0%|          | 0/10114 [00:00<?, ?it/s]"
      ]
     },
     "metadata": {},
     "output_type": "display_data"
    },
    {
     "data": {
      "application/vnd.jupyter.widget-view+json": {
       "model_id": "40646107ee384d5cb7b4c3bfeeea110e",
       "version_major": 2,
       "version_minor": 0
      },
      "text/plain": [
       "  0%|          | 0/10116 [00:00<?, ?it/s]"
      ]
     },
     "metadata": {},
     "output_type": "display_data"
    },
    {
     "data": {
      "application/vnd.jupyter.widget-view+json": {
       "model_id": "0dcbeda41e3d4283a657fc3e833567fe",
       "version_major": 2,
       "version_minor": 0
      },
      "text/plain": [
       "  0%|          | 0/10116 [00:00<?, ?it/s]"
      ]
     },
     "metadata": {},
     "output_type": "display_data"
    },
    {
     "data": {
      "application/vnd.jupyter.widget-view+json": {
       "model_id": "63c7ef7c47144771b116a25454179f93",
       "version_major": 2,
       "version_minor": 0
      },
      "text/plain": [
       "  0%|          | 0/10116 [00:00<?, ?it/s]"
      ]
     },
     "metadata": {},
     "output_type": "display_data"
    },
    {
     "data": {
      "application/vnd.jupyter.widget-view+json": {
       "model_id": "d6b7b5989e6948d3b36c59145a298489",
       "version_major": 2,
       "version_minor": 0
      },
      "text/plain": [
       "  0%|          | 0/10118 [00:00<?, ?it/s]"
      ]
     },
     "metadata": {},
     "output_type": "display_data"
    }
   ],
   "source": [
    "summary_performace_for_all_oversampling_algorithms_all_folds=[]\n",
    "for i in range(len(oversampler_object_list)):\n",
    "  summary_performace_for_all_oversampling_algorithms_all_folds.append(get_results_all_folds(i,clf))"
   ]
  },
  {
   "cell_type": "code",
   "execution_count": 40,
   "id": "022f3891-a8d2-48b0-a69e-6b31f5dde94f",
   "metadata": {},
   "outputs": [],
   "source": [
    "summary_performace_for_all_oversampling_algorithms_all_folds_list=np.array([[[round(i,3) for i in summary_performace_for_all_oversampling_algorithms_all_folds[oversampler_index][key]] for key in summary_performace_for_all_oversampling_algorithms_all_folds[0].keys()] for oversampler_index in range(len(oversampler_name_list))])"
   ]
  },
  {
   "cell_type": "code",
   "execution_count": 41,
   "id": "207c3c65-8a8a-40dc-b703-0cbe90d847bb",
   "metadata": {},
   "outputs": [],
   "source": [
    "oversamplers_result_summary_list=[]\n",
    "for i in range(summary_performace_for_all_oversampling_algorithms_all_folds_list.shape[0]):\n",
    "  performance_results_summary_list=[]\n",
    "  for j in range(summary_performace_for_all_oversampling_algorithms_all_folds_list.shape[1]):\n",
    "    performance_results_summary_list.append(str(summary_performace_for_all_oversampling_algorithms_all_folds_list[i][j][0])+\"\\u00B1\"+str(summary_performace_for_all_oversampling_algorithms_all_folds_list[i][j][1]))\n",
    "  oversamplers_result_summary_list.append(performance_results_summary_list)\n",
    "oversamplers_result_summary_list=np.array(oversamplers_result_summary_list)"
   ]
  },
  {
   "cell_type": "code",
   "execution_count": 42,
   "id": "eebec35a-4af3-46a6-b405-40a7ddb00fe0",
   "metadata": {},
   "outputs": [
    {
     "data": {
      "text/plain": [
       "['0.953±0.021', '0.857±0.064', '0.953±0.021', '0.953±0.021', '0.801±0.097']"
      ]
     },
     "execution_count": 42,
     "metadata": {},
     "output_type": "execute_result"
    }
   ],
   "source": [
    "performance_results_summary_list"
   ]
  },
  {
   "cell_type": "code",
   "execution_count": 43,
   "id": "4c3c80df-124e-400f-8e19-463de17f43fd",
   "metadata": {},
   "outputs": [
    {
     "data": {
      "text/plain": [
       "array([['0.967±0.032', '0.946±0.058', '0.967±0.032', '0.967±0.032',\n",
       "        '0.887±0.109'],\n",
       "       ['0.972±0.027', '0.937±0.071', '0.972±0.027', '0.972±0.027',\n",
       "        '0.892±0.108'],\n",
       "       ['0.977±0.025', '0.986±0.016', '0.977±0.025', '0.977±0.025',\n",
       "        '0.926±0.074'],\n",
       "       ['0.967±0.024', '0.922±0.05', '0.967±0.024', '0.967±0.024',\n",
       "        '0.876±0.089'],\n",
       "       ['0.953±0.021', '0.857±0.064', '0.953±0.021', '0.953±0.021',\n",
       "        '0.801±0.097']], dtype='<U11')"
      ]
     },
     "execution_count": 43,
     "metadata": {},
     "output_type": "execute_result"
    }
   ],
   "source": [
    "oversamplers_result_summary_list"
   ]
  },
  {
   "cell_type": "code",
   "execution_count": 44,
   "id": "13d8e568-ab29-463c-9514-2ab373981add",
   "metadata": {},
   "outputs": [],
   "source": [
    "df=pd.DataFrame(oversamplers_result_summary_list,columns=perfromance_measures,index=oversampler_name_list)"
   ]
  },
  {
   "cell_type": "code",
   "execution_count": 45,
   "id": "7c91bed1-ac2c-43b8-bbba-76058bb6f772",
   "metadata": {},
   "outputs": [
    {
     "data": {
      "text/html": [
       "<div>\n",
       "<style scoped>\n",
       "    .dataframe tbody tr th:only-of-type {\n",
       "        vertical-align: middle;\n",
       "    }\n",
       "\n",
       "    .dataframe tbody tr th {\n",
       "        vertical-align: top;\n",
       "    }\n",
       "\n",
       "    .dataframe thead th {\n",
       "        text-align: right;\n",
       "    }\n",
       "</style>\n",
       "<table border=\"1\" class=\"dataframe\">\n",
       "  <thead>\n",
       "    <tr style=\"text-align: right;\">\n",
       "      <th></th>\n",
       "      <th>accuracy</th>\n",
       "      <th>balanced accuracy</th>\n",
       "      <th>g-mean</th>\n",
       "      <th>f1-score</th>\n",
       "      <th>cohen_kappa</th>\n",
       "    </tr>\n",
       "  </thead>\n",
       "  <tbody>\n",
       "    <tr>\n",
       "      <th>SMOTE</th>\n",
       "      <td>0.967±0.032</td>\n",
       "      <td>0.946±0.058</td>\n",
       "      <td>0.967±0.032</td>\n",
       "      <td>0.967±0.032</td>\n",
       "      <td>0.887±0.109</td>\n",
       "    </tr>\n",
       "    <tr>\n",
       "      <th>polynome_fit_SMOTE</th>\n",
       "      <td>0.972±0.027</td>\n",
       "      <td>0.937±0.071</td>\n",
       "      <td>0.972±0.027</td>\n",
       "      <td>0.972±0.027</td>\n",
       "      <td>0.892±0.108</td>\n",
       "    </tr>\n",
       "    <tr>\n",
       "      <th>ProWSyn</th>\n",
       "      <td>0.977±0.025</td>\n",
       "      <td>0.986±0.016</td>\n",
       "      <td>0.977±0.025</td>\n",
       "      <td>0.977±0.025</td>\n",
       "      <td>0.926±0.074</td>\n",
       "    </tr>\n",
       "    <tr>\n",
       "      <th>Lee</th>\n",
       "      <td>0.967±0.024</td>\n",
       "      <td>0.922±0.05</td>\n",
       "      <td>0.967±0.024</td>\n",
       "      <td>0.967±0.024</td>\n",
       "      <td>0.876±0.089</td>\n",
       "    </tr>\n",
       "    <tr>\n",
       "      <th>Metropolis_hastings</th>\n",
       "      <td>0.953±0.021</td>\n",
       "      <td>0.857±0.064</td>\n",
       "      <td>0.953±0.021</td>\n",
       "      <td>0.953±0.021</td>\n",
       "      <td>0.801±0.097</td>\n",
       "    </tr>\n",
       "  </tbody>\n",
       "</table>\n",
       "</div>"
      ],
      "text/plain": [
       "                        accuracy balanced accuracy       g-mean     f1-score  \\\n",
       "SMOTE                0.967±0.032       0.946±0.058  0.967±0.032  0.967±0.032   \n",
       "polynome_fit_SMOTE   0.972±0.027       0.937±0.071  0.972±0.027  0.972±0.027   \n",
       "ProWSyn              0.977±0.025       0.986±0.016  0.977±0.025  0.977±0.025   \n",
       "Lee                  0.967±0.024        0.922±0.05  0.967±0.024  0.967±0.024   \n",
       "Metropolis_hastings  0.953±0.021       0.857±0.064  0.953±0.021  0.953±0.021   \n",
       "\n",
       "                     cohen_kappa  \n",
       "SMOTE                0.887±0.109  \n",
       "polynome_fit_SMOTE   0.892±0.108  \n",
       "ProWSyn              0.926±0.074  \n",
       "Lee                  0.876±0.089  \n",
       "Metropolis_hastings  0.801±0.097  "
      ]
     },
     "execution_count": 45,
     "metadata": {},
     "output_type": "execute_result"
    }
   ],
   "source": [
    "df"
   ]
  },
  {
   "cell_type": "code",
   "execution_count": 46,
   "id": "6a61660c-6986-4f80-847c-f5ef3b2149c9",
   "metadata": {},
   "outputs": [],
   "source": [
    "with pd.ExcelWriter('KNN_clf_result_for_data3.xlsx') as excel_writer:\n",
    "  df.to_excel(excel_writer,sheet_name='sheet_1')"
   ]
  },
  {
   "cell_type": "code",
   "execution_count": null,
   "id": "114f9597-0b83-4f50-bb8b-b0767aed1308",
   "metadata": {
    "editable": true,
    "slideshow": {
     "slide_type": ""
    },
    "tags": []
   },
   "outputs": [],
   "source": []
  }
 ],
 "metadata": {
  "kernelspec": {
   "display_name": "Python 3 (ipykernel)",
   "language": "python",
   "name": "python3"
  },
  "language_info": {
   "codemirror_mode": {
    "name": "ipython",
    "version": 3
   },
   "file_extension": ".py",
   "mimetype": "text/x-python",
   "name": "python",
   "nbconvert_exporter": "python",
   "pygments_lexer": "ipython3",
   "version": "3.12.4"
  }
 },
 "nbformat": 4,
 "nbformat_minor": 5
}

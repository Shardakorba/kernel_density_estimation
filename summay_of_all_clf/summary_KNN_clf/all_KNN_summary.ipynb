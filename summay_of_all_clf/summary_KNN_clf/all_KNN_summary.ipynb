{
 "cells": [
  {
   "cell_type": "code",
   "execution_count": 6,
   "id": "ea7105ef-2438-435d-9613-3f03a23b9d39",
   "metadata": {},
   "outputs": [],
   "source": [
    "import numpy as np\n",
    "import pandas as pd"
   ]
  },
  {
   "cell_type": "code",
   "execution_count": 8,
   "id": "dbb29c9c-db01-479f-9843-e05dc0618e6c",
   "metadata": {},
   "outputs": [],
   "source": [
    "df1 = pd.read_excel('KNN_clf_result_for_data1.xlsx',index_col=0)"
   ]
  },
  {
   "cell_type": "code",
   "execution_count": 10,
   "id": "5f0f40b3-9383-447d-b541-1695540230bd",
   "metadata": {},
   "outputs": [],
   "source": [
    "df2 = pd.read_excel('KNN_clf_result_for_d2.xlsx',index_col=0)"
   ]
  },
  {
   "cell_type": "code",
   "execution_count": 12,
   "id": "46acaa88-5bbd-44f4-9066-21561a845545",
   "metadata": {},
   "outputs": [],
   "source": [
    "df3 = pd.read_excel('KNN_clf_result_for_data3.xlsx',index_col=0)"
   ]
  },
  {
   "cell_type": "code",
   "execution_count": 14,
   "id": "2b743fe5-699f-496a-b049-4ea676ca1b02",
   "metadata": {},
   "outputs": [],
   "source": [
    "df4 = pd.read_excel('KNN_clf_result_for_d4.xlsx',index_col=0)"
   ]
  },
  {
   "cell_type": "code",
   "execution_count": 16,
   "id": "8506181e-1e3a-4d0d-977f-1bc83ff8c945",
   "metadata": {},
   "outputs": [],
   "source": [
    "df5 = pd.read_excel('KNN_clf_result_for_d5.xlsx',index_col=0)"
   ]
  },
  {
   "cell_type": "code",
   "execution_count": 18,
   "id": "4a1d5e76-fe98-4e5a-b477-08d21f3d8e89",
   "metadata": {},
   "outputs": [],
   "source": [
    "list_of_dataframes=[df1,df2,df3,df4,df5]"
   ]
  },
  {
   "cell_type": "code",
   "execution_count": 20,
   "id": "fe12db20-43df-4715-bd63-6ad75604bb21",
   "metadata": {},
   "outputs": [],
   "source": [
    "oversampler_list = [\"SMOTE\",\"polynome_fit_SMOTE\",\"ProWSyn\",\"Lee\",\"Metropolis_hastings\"]"
   ]
  },
  {
   "cell_type": "code",
   "execution_count": 22,
   "id": "dda26d7b-718b-41b5-bfb6-057603dd53a7",
   "metadata": {},
   "outputs": [],
   "source": [
    "mesure_list = [\"accuracy\",\"balanced accuracy\",\"g-mean\",\"f1-score\",\"cohen_kappa\"]"
   ]
  },
  {
   "cell_type": "code",
   "execution_count": 24,
   "id": "be0ccbe9-0c8f-4ebf-bbe8-eb694f64eacb",
   "metadata": {},
   "outputs": [],
   "source": [
    "def get_avg_performance_for_oversampler(oversampler):\n",
    "    list_processed_value_lists=[]\n",
    "    for df in list_of_dataframes:\n",
    "        value_list=list(df.loc[oversampler])\n",
    "        \n",
    "        processed_value_list=np.array([float(value.split(\"\\u00B1\")[0]) for value in value_list])\n",
    "        list_processed_value_lists.append(processed_value_list)\n",
    "    list_processed_value_lists=np.array(list_processed_value_lists)\n",
    "    avg=np.mean(list_processed_value_lists,axis=0)\n",
    "    std=np.std(list_processed_value_lists,axis=0)\n",
    "    return avg,std"
   ]
  },
  {
   "cell_type": "code",
   "execution_count": 26,
   "id": "65017cf5-bd8c-44be-b9c3-e5fb684fec0c",
   "metadata": {},
   "outputs": [],
   "source": [
    "all_avg_summary_list = []\n",
    "all_avg_list = []\n",
    "all_std_list = []\n",
    "for oversampler in oversampler_list:\n",
    "    avg_list = []\n",
    "    std_list = []\n",
    "    for i in range(len(oversampler_list)):\n",
    "        avg_std_list = []\n",
    "        avg_list.append(np.round(get_avg_performance_for_oversampler(oversampler)[0][i], decimals=3))\n",
    "        std_list.append(np.round(get_avg_performance_for_oversampler(oversampler)[1][i], decimals=3))\n",
    "    all_avg_list.append(avg_list)\n",
    "    all_std_list.append(std_list)\n",
    "    \n",
    "    avg_std_list = []\n",
    "    for j in range(len(oversampler_list)):\n",
    "        avg_std_list.append(str(all_avg_list[-1][j]) + \"\\u00B1\" + str(all_std_list[-1][j]))\n",
    "\n",
    "    all_avg_summary_list.append(avg_std_list)\n"
   ]
  },
  {
   "cell_type": "code",
   "execution_count": 28,
   "id": "7d791c50-628b-4208-92b0-537c646fdbe6",
   "metadata": {},
   "outputs": [
    {
     "data": {
      "text/plain": [
       "[['0.823±0.145', '0.742±0.149', '0.809±0.134', '0.726±0.18', '0.368±0.298'],\n",
       " ['0.871±0.122', '0.73±0.159', '0.851±0.112', '0.786±0.164', '0.413±0.294'],\n",
       " ['0.839±0.123', '0.773±0.142', '0.827±0.114', '0.743±0.171', '0.403±0.296'],\n",
       " ['0.869±0.132', '0.721±0.15', '0.844±0.12', '0.803±0.143', '0.426±0.296'],\n",
       " ['0.874±0.124', '0.671±0.137', '0.834±0.116', '0.796±0.153', '0.363±0.292']]"
      ]
     },
     "execution_count": 28,
     "metadata": {},
     "output_type": "execute_result"
    }
   ],
   "source": [
    "all_avg_summary_list"
   ]
  },
  {
   "cell_type": "code",
   "execution_count": 30,
   "id": "86d02a89-ae7b-459a-a955-f262681f33e8",
   "metadata": {},
   "outputs": [
    {
     "data": {
      "text/html": [
       "<div>\n",
       "<style scoped>\n",
       "    .dataframe tbody tr th:only-of-type {\n",
       "        vertical-align: middle;\n",
       "    }\n",
       "\n",
       "    .dataframe tbody tr th {\n",
       "        vertical-align: top;\n",
       "    }\n",
       "\n",
       "    .dataframe thead th {\n",
       "        text-align: right;\n",
       "    }\n",
       "</style>\n",
       "<table border=\"1\" class=\"dataframe\">\n",
       "  <thead>\n",
       "    <tr style=\"text-align: right;\">\n",
       "      <th></th>\n",
       "      <th>accuracy</th>\n",
       "      <th>balanced accuracy</th>\n",
       "      <th>g-mean</th>\n",
       "      <th>f1-score</th>\n",
       "      <th>cohen_kappa</th>\n",
       "    </tr>\n",
       "  </thead>\n",
       "  <tbody>\n",
       "    <tr>\n",
       "      <th>0</th>\n",
       "      <td>0.823±0.145</td>\n",
       "      <td>0.742±0.149</td>\n",
       "      <td>0.809±0.134</td>\n",
       "      <td>0.726±0.18</td>\n",
       "      <td>0.368±0.298</td>\n",
       "    </tr>\n",
       "    <tr>\n",
       "      <th>1</th>\n",
       "      <td>0.871±0.122</td>\n",
       "      <td>0.73±0.159</td>\n",
       "      <td>0.851±0.112</td>\n",
       "      <td>0.786±0.164</td>\n",
       "      <td>0.413±0.294</td>\n",
       "    </tr>\n",
       "    <tr>\n",
       "      <th>2</th>\n",
       "      <td>0.839±0.123</td>\n",
       "      <td>0.773±0.142</td>\n",
       "      <td>0.827±0.114</td>\n",
       "      <td>0.743±0.171</td>\n",
       "      <td>0.403±0.296</td>\n",
       "    </tr>\n",
       "    <tr>\n",
       "      <th>3</th>\n",
       "      <td>0.869±0.132</td>\n",
       "      <td>0.721±0.15</td>\n",
       "      <td>0.844±0.12</td>\n",
       "      <td>0.803±0.143</td>\n",
       "      <td>0.426±0.296</td>\n",
       "    </tr>\n",
       "    <tr>\n",
       "      <th>4</th>\n",
       "      <td>0.874±0.124</td>\n",
       "      <td>0.671±0.137</td>\n",
       "      <td>0.834±0.116</td>\n",
       "      <td>0.796±0.153</td>\n",
       "      <td>0.363±0.292</td>\n",
       "    </tr>\n",
       "  </tbody>\n",
       "</table>\n",
       "</div>"
      ],
      "text/plain": [
       "      accuracy balanced accuracy       g-mean     f1-score  cohen_kappa\n",
       "0  0.823±0.145       0.742±0.149  0.809±0.134   0.726±0.18  0.368±0.298\n",
       "1  0.871±0.122        0.73±0.159  0.851±0.112  0.786±0.164  0.413±0.294\n",
       "2  0.839±0.123       0.773±0.142  0.827±0.114  0.743±0.171  0.403±0.296\n",
       "3  0.869±0.132        0.721±0.15   0.844±0.12  0.803±0.143  0.426±0.296\n",
       "4  0.874±0.124       0.671±0.137  0.834±0.116  0.796±0.153  0.363±0.292"
      ]
     },
     "execution_count": 30,
     "metadata": {},
     "output_type": "execute_result"
    }
   ],
   "source": [
    "df=pd.DataFrame(all_avg_summary_list, columns=mesure_list)\n",
    "df"
   ]
  },
  {
   "cell_type": "code",
   "execution_count": 32,
   "id": "26e82ea7-ebdb-42dc-a1f0-5c353a2873fe",
   "metadata": {},
   "outputs": [
    {
     "data": {
      "text/html": [
       "<style type=\"text/css\">\n",
       "#T_6fcc4 thead tr th:nth-child(2) {\n",
       "  position: sticky;\n",
       "  background-color: inherit;\n",
       "  left: 0px;\n",
       "  min-width: 100px;\n",
       "  max-width: 100px;\n",
       "  z-index: 3 !important;\n",
       "}\n",
       "#T_6fcc4 tbody tr th.level1 {\n",
       "  position: sticky;\n",
       "  background-color: inherit;\n",
       "  left: 0px;\n",
       "  min-width: 100px;\n",
       "  max-width: 100px;\n",
       "  z-index: 1;\n",
       "}\n",
       "#T_6fcc4 thead tr th:nth-child(3) {\n",
       "  position: sticky;\n",
       "  background-color: inherit;\n",
       "  left: 100px;\n",
       "  min-width: 100px;\n",
       "  max-width: 100px;\n",
       "  z-index: 3 !important;\n",
       "}\n",
       "#T_6fcc4 tbody tr th.level2 {\n",
       "  position: sticky;\n",
       "  background-color: inherit;\n",
       "  left: 100px;\n",
       "  min-width: 100px;\n",
       "  max-width: 100px;\n",
       "  z-index: 1;\n",
       "}\n",
       "</style>\n",
       "<table id=\"T_6fcc4\">\n",
       "  <thead>\n",
       "    <tr>\n",
       "      <th class=\"blank\" >&nbsp;</th>\n",
       "      <th class=\"blank level0\" >&nbsp;</th>\n",
       "      <th id=\"T_6fcc4_level0_col0\" class=\"col_heading level0 col0\" >accuracy</th>\n",
       "      <th id=\"T_6fcc4_level0_col1\" class=\"col_heading level0 col1\" >balanced accuracy</th>\n",
       "      <th id=\"T_6fcc4_level0_col2\" class=\"col_heading level0 col2\" >g-mean</th>\n",
       "      <th id=\"T_6fcc4_level0_col3\" class=\"col_heading level0 col3\" >f1-score</th>\n",
       "      <th id=\"T_6fcc4_level0_col4\" class=\"col_heading level0 col4\" >cohen_kappa</th>\n",
       "    </tr>\n",
       "  </thead>\n",
       "  <tbody>\n",
       "    <tr>\n",
       "      <th id=\"T_6fcc4_level0_row0\" class=\"row_heading level0 row0\" rowspan=\"5\">KNN</th>\n",
       "      <th id=\"T_6fcc4_level1_row0\" class=\"row_heading level1 row0\" >SMOTE</th>\n",
       "      <td id=\"T_6fcc4_row0_col0\" class=\"data row0 col0\" >0.823±0.145</td>\n",
       "      <td id=\"T_6fcc4_row0_col1\" class=\"data row0 col1\" >0.742±0.149</td>\n",
       "      <td id=\"T_6fcc4_row0_col2\" class=\"data row0 col2\" >0.809±0.134</td>\n",
       "      <td id=\"T_6fcc4_row0_col3\" class=\"data row0 col3\" >0.726±0.18</td>\n",
       "      <td id=\"T_6fcc4_row0_col4\" class=\"data row0 col4\" >0.368±0.298</td>\n",
       "    </tr>\n",
       "    <tr>\n",
       "      <th id=\"T_6fcc4_level1_row1\" class=\"row_heading level1 row1\" >polynome_fit_SMOTE</th>\n",
       "      <td id=\"T_6fcc4_row1_col0\" class=\"data row1 col0\" >0.871±0.122</td>\n",
       "      <td id=\"T_6fcc4_row1_col1\" class=\"data row1 col1\" >0.73±0.159</td>\n",
       "      <td id=\"T_6fcc4_row1_col2\" class=\"data row1 col2\" >0.851±0.112</td>\n",
       "      <td id=\"T_6fcc4_row1_col3\" class=\"data row1 col3\" >0.786±0.164</td>\n",
       "      <td id=\"T_6fcc4_row1_col4\" class=\"data row1 col4\" >0.413±0.294</td>\n",
       "    </tr>\n",
       "    <tr>\n",
       "      <th id=\"T_6fcc4_level1_row2\" class=\"row_heading level1 row2\" >ProWSyn</th>\n",
       "      <td id=\"T_6fcc4_row2_col0\" class=\"data row2 col0\" >0.839±0.123</td>\n",
       "      <td id=\"T_6fcc4_row2_col1\" class=\"data row2 col1\" >0.773±0.142</td>\n",
       "      <td id=\"T_6fcc4_row2_col2\" class=\"data row2 col2\" >0.827±0.114</td>\n",
       "      <td id=\"T_6fcc4_row2_col3\" class=\"data row2 col3\" >0.743±0.171</td>\n",
       "      <td id=\"T_6fcc4_row2_col4\" class=\"data row2 col4\" >0.403±0.296</td>\n",
       "    </tr>\n",
       "    <tr>\n",
       "      <th id=\"T_6fcc4_level1_row3\" class=\"row_heading level1 row3\" >Lee</th>\n",
       "      <td id=\"T_6fcc4_row3_col0\" class=\"data row3 col0\" >0.869±0.132</td>\n",
       "      <td id=\"T_6fcc4_row3_col1\" class=\"data row3 col1\" >0.721±0.15</td>\n",
       "      <td id=\"T_6fcc4_row3_col2\" class=\"data row3 col2\" >0.844±0.12</td>\n",
       "      <td id=\"T_6fcc4_row3_col3\" class=\"data row3 col3\" >0.803±0.143</td>\n",
       "      <td id=\"T_6fcc4_row3_col4\" class=\"data row3 col4\" >0.426±0.296</td>\n",
       "    </tr>\n",
       "    <tr>\n",
       "      <th id=\"T_6fcc4_level1_row4\" class=\"row_heading level1 row4\" >Metropolis_hastings</th>\n",
       "      <td id=\"T_6fcc4_row4_col0\" class=\"data row4 col0\" >0.874±0.124</td>\n",
       "      <td id=\"T_6fcc4_row4_col1\" class=\"data row4 col1\" >0.671±0.137</td>\n",
       "      <td id=\"T_6fcc4_row4_col2\" class=\"data row4 col2\" >0.834±0.116</td>\n",
       "      <td id=\"T_6fcc4_row4_col3\" class=\"data row4 col3\" >0.796±0.153</td>\n",
       "      <td id=\"T_6fcc4_row4_col4\" class=\"data row4 col4\" >0.363±0.292</td>\n",
       "    </tr>\n",
       "  </tbody>\n",
       "</table>\n"
      ],
      "text/plain": [
       "<pandas.io.formats.style.Styler at 0x298b8fcd9a0>"
      ]
     },
     "execution_count": 32,
     "metadata": {},
     "output_type": "execute_result"
    }
   ],
   "source": [
    "df.index = pd.MultiIndex.from_product([[\"KNN\"],oversampler_list])\n",
    "df.style.set_sticky(axis=\"index\", pixel_size=100, levels=[1,2])"
   ]
  },
  {
   "cell_type": "code",
   "execution_count": 34,
   "id": "8d7e88b7-d8f7-43ad-ae74-a4ec14035e64",
   "metadata": {},
   "outputs": [],
   "source": [
    "with pd.ExcelWriter('average_KNN.xlsx') as excel_writer:\n",
    "  df.to_excel(excel_writer,sheet_name='sheet_1')"
   ]
  }
 ],
 "metadata": {
  "kernelspec": {
   "display_name": "Python 3 (ipykernel)",
   "language": "python",
   "name": "python3"
  },
  "language_info": {
   "codemirror_mode": {
    "name": "ipython",
    "version": 3
   },
   "file_extension": ".py",
   "mimetype": "text/x-python",
   "name": "python",
   "nbconvert_exporter": "python",
   "pygments_lexer": "ipython3",
   "version": "3.12.4"
  }
 },
 "nbformat": 4,
 "nbformat_minor": 5
}

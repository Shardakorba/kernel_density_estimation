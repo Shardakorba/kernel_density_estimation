{
 "cells": [
  {
   "cell_type": "code",
   "execution_count": 1,
   "id": "787b398d-64f2-4112-9312-194e4d18b829",
   "metadata": {},
   "outputs": [],
   "source": [
    "import numpy as np\n",
    "import pandas as pd"
   ]
  },
  {
   "cell_type": "code",
   "execution_count": 2,
   "id": "ebf97814-acbf-4d13-81cc-a29325d71bc7",
   "metadata": {},
   "outputs": [],
   "source": [
    "df1 = pd.read_excel('SVM_clf_result_for_data1.xlsx',index_col=0)"
   ]
  },
  {
   "cell_type": "code",
   "execution_count": 3,
   "id": "d7cd08e6-fbf2-4cf1-b662-f04d84faceb0",
   "metadata": {},
   "outputs": [],
   "source": [
    "df2 = pd.read_excel('SVM_clf_result_for_data2.xlsx',index_col=0)"
   ]
  },
  {
   "cell_type": "code",
   "execution_count": 4,
   "id": "02778bbf-3262-4e1f-b3f9-bca0a60a22f0",
   "metadata": {},
   "outputs": [],
   "source": [
    "df3 = pd.read_excel('SVM_clf_result_for_data3.xlsx',index_col=0)"
   ]
  },
  {
   "cell_type": "code",
   "execution_count": 5,
   "id": "d504b4aa-029c-44d1-9489-b7810f16ab7f",
   "metadata": {},
   "outputs": [],
   "source": [
    "df4 = pd.read_excel('SVM_clf_result_for_d4.xlsx',index_col=0)"
   ]
  },
  {
   "cell_type": "code",
   "execution_count": 6,
   "id": "6b4608d6-a375-4d96-ab93-0e5e6050fd4b",
   "metadata": {},
   "outputs": [],
   "source": [
    "df5 = pd.read_excel('SVM_clf_result_for_d5.xlsx',index_col=0)"
   ]
  },
  {
   "cell_type": "code",
   "execution_count": 7,
   "id": "e87443e4-83b0-439c-a886-d62435f3feef",
   "metadata": {},
   "outputs": [],
   "source": [
    "list_of_dataframes=[df1,df2,df3,df4,df5]"
   ]
  },
  {
   "cell_type": "code",
   "execution_count": 8,
   "id": "445e7e10-d7d4-4b07-bdaa-af6c9f1e7113",
   "metadata": {},
   "outputs": [],
   "source": [
    "oversampler_list = [\"SMOTE\",\"polynome_fit_SMOTE\",\"ProWSyn\",\"Lee\",\"Metropolis_hastings\"]"
   ]
  },
  {
   "cell_type": "code",
   "execution_count": 9,
   "id": "0aa75f51-1b77-4461-be1c-4852e971d165",
   "metadata": {},
   "outputs": [],
   "source": [
    "mesure_list = [\"accuracy\",\"balanced accuracy\",\"g-mean\",\"f1-score\",\"cohen_kappa\"]"
   ]
  },
  {
   "cell_type": "code",
   "execution_count": 10,
   "id": "75ed2154-fa6c-411d-96d2-dbb1762d38f9",
   "metadata": {},
   "outputs": [],
   "source": [
    "def get_avg_performance_for_oversampler(oversampler):\n",
    "    list_processed_value_lists=[]\n",
    "    for df in list_of_dataframes:\n",
    "        value_list=list(df.loc[oversampler])\n",
    "        \n",
    "        processed_value_list=np.array([float(value.split(\"\\u00B1\")[0]) for value in value_list])\n",
    "        list_processed_value_lists.append(processed_value_list)\n",
    "    list_processed_value_lists=np.array(list_processed_value_lists)\n",
    "    avg=np.mean(list_processed_value_lists,axis=0)\n",
    "    std=np.std(list_processed_value_lists,axis=0)\n",
    "    return avg,std"
   ]
  },
  {
   "cell_type": "code",
   "execution_count": 11,
   "id": "822bf94f-3654-4e6d-9310-d25c4e0333d4",
   "metadata": {},
   "outputs": [],
   "source": [
    "all_avg_summary_list = []\n",
    "all_avg_list = []\n",
    "all_std_list = []\n",
    "for oversampler in oversampler_list:\n",
    "    avg_list = []\n",
    "    std_list = []\n",
    "    for i in range(len(oversampler_list)):\n",
    "        avg_std_list = []\n",
    "        avg_list.append(np.round(get_avg_performance_for_oversampler(oversampler)[0][i], decimals=3))\n",
    "        std_list.append(np.round(get_avg_performance_for_oversampler(oversampler)[1][i], decimals=3))\n",
    "    all_avg_list.append(avg_list)\n",
    "    all_std_list.append(std_list)\n",
    "    \n",
    "    avg_std_list = []\n",
    "    for j in range(len(oversampler_list)):\n",
    "        avg_std_list.append(str(all_avg_list[-1][j]) + \"\\u00B1\" + str(all_std_list[-1][j]))\n",
    "\n",
    "    all_avg_summary_list.append(avg_std_list)\n"
   ]
  },
  {
   "cell_type": "code",
   "execution_count": 12,
   "id": "c95d8dbe-11e4-48f0-973e-31a1818cc613",
   "metadata": {},
   "outputs": [
    {
     "data": {
      "text/plain": [
       "[['0.829±0.102', '0.761±0.104', '0.82±0.092', '0.731±0.158', '0.376±0.241'],\n",
       " ['0.875±0.115', '0.717±0.142', '0.854±0.105', '0.784±0.171', '0.391±0.257'],\n",
       " ['0.855±0.091', '0.771±0.115', '0.841±0.081', '0.745±0.191', '0.399±0.27'],\n",
       " ['0.865±0.111', '0.742±0.122', '0.848±0.099', '0.79±0.136', '0.417±0.251'],\n",
       " ['0.867±0.111', '0.641±0.107', '0.832±0.1', '0.771±0.172', '0.286±0.189']]"
      ]
     },
     "execution_count": 12,
     "metadata": {},
     "output_type": "execute_result"
    }
   ],
   "source": [
    "all_avg_summary_list"
   ]
  },
  {
   "cell_type": "code",
   "execution_count": 13,
   "id": "13789363-fb97-4fb0-8914-fcd9d8fd54b9",
   "metadata": {},
   "outputs": [
    {
     "data": {
      "text/html": [
       "<div>\n",
       "<style scoped>\n",
       "    .dataframe tbody tr th:only-of-type {\n",
       "        vertical-align: middle;\n",
       "    }\n",
       "\n",
       "    .dataframe tbody tr th {\n",
       "        vertical-align: top;\n",
       "    }\n",
       "\n",
       "    .dataframe thead th {\n",
       "        text-align: right;\n",
       "    }\n",
       "</style>\n",
       "<table border=\"1\" class=\"dataframe\">\n",
       "  <thead>\n",
       "    <tr style=\"text-align: right;\">\n",
       "      <th></th>\n",
       "      <th>accuracy</th>\n",
       "      <th>balanced accuracy</th>\n",
       "      <th>g-mean</th>\n",
       "      <th>f1-score</th>\n",
       "      <th>cohen_kappa</th>\n",
       "    </tr>\n",
       "  </thead>\n",
       "  <tbody>\n",
       "    <tr>\n",
       "      <th>0</th>\n",
       "      <td>0.829±0.102</td>\n",
       "      <td>0.761±0.104</td>\n",
       "      <td>0.82±0.092</td>\n",
       "      <td>0.731±0.158</td>\n",
       "      <td>0.376±0.241</td>\n",
       "    </tr>\n",
       "    <tr>\n",
       "      <th>1</th>\n",
       "      <td>0.875±0.115</td>\n",
       "      <td>0.717±0.142</td>\n",
       "      <td>0.854±0.105</td>\n",
       "      <td>0.784±0.171</td>\n",
       "      <td>0.391±0.257</td>\n",
       "    </tr>\n",
       "    <tr>\n",
       "      <th>2</th>\n",
       "      <td>0.855±0.091</td>\n",
       "      <td>0.771±0.115</td>\n",
       "      <td>0.841±0.081</td>\n",
       "      <td>0.745±0.191</td>\n",
       "      <td>0.399±0.27</td>\n",
       "    </tr>\n",
       "    <tr>\n",
       "      <th>3</th>\n",
       "      <td>0.865±0.111</td>\n",
       "      <td>0.742±0.122</td>\n",
       "      <td>0.848±0.099</td>\n",
       "      <td>0.79±0.136</td>\n",
       "      <td>0.417±0.251</td>\n",
       "    </tr>\n",
       "    <tr>\n",
       "      <th>4</th>\n",
       "      <td>0.867±0.111</td>\n",
       "      <td>0.641±0.107</td>\n",
       "      <td>0.832±0.1</td>\n",
       "      <td>0.771±0.172</td>\n",
       "      <td>0.286±0.189</td>\n",
       "    </tr>\n",
       "  </tbody>\n",
       "</table>\n",
       "</div>"
      ],
      "text/plain": [
       "      accuracy balanced accuracy       g-mean     f1-score  cohen_kappa\n",
       "0  0.829±0.102       0.761±0.104   0.82±0.092  0.731±0.158  0.376±0.241\n",
       "1  0.875±0.115       0.717±0.142  0.854±0.105  0.784±0.171  0.391±0.257\n",
       "2  0.855±0.091       0.771±0.115  0.841±0.081  0.745±0.191   0.399±0.27\n",
       "3  0.865±0.111       0.742±0.122  0.848±0.099   0.79±0.136  0.417±0.251\n",
       "4  0.867±0.111       0.641±0.107    0.832±0.1  0.771±0.172  0.286±0.189"
      ]
     },
     "execution_count": 13,
     "metadata": {},
     "output_type": "execute_result"
    }
   ],
   "source": [
    "df=pd.DataFrame(all_avg_summary_list, columns=mesure_list)\n",
    "df"
   ]
  },
  {
   "cell_type": "code",
   "execution_count": 32,
   "id": "711531bc-57c7-4ffc-826d-f0240c6838ed",
   "metadata": {},
   "outputs": [
    {
     "data": {
      "text/html": [
       "<style type=\"text/css\">\n",
       "#T_d3572 thead tr th:nth-child(2) {\n",
       "  position: sticky;\n",
       "  background-color: inherit;\n",
       "  left: 0px;\n",
       "  min-width: 100px;\n",
       "  max-width: 100px;\n",
       "  z-index: 3 !important;\n",
       "}\n",
       "#T_d3572 tbody tr th.level1 {\n",
       "  position: sticky;\n",
       "  background-color: inherit;\n",
       "  left: 0px;\n",
       "  min-width: 100px;\n",
       "  max-width: 100px;\n",
       "  z-index: 1;\n",
       "}\n",
       "#T_d3572 thead tr th:nth-child(3) {\n",
       "  position: sticky;\n",
       "  background-color: inherit;\n",
       "  left: 100px;\n",
       "  min-width: 100px;\n",
       "  max-width: 100px;\n",
       "  z-index: 3 !important;\n",
       "}\n",
       "#T_d3572 tbody tr th.level2 {\n",
       "  position: sticky;\n",
       "  background-color: inherit;\n",
       "  left: 100px;\n",
       "  min-width: 100px;\n",
       "  max-width: 100px;\n",
       "  z-index: 1;\n",
       "}\n",
       "</style>\n",
       "<table id=\"T_d3572\">\n",
       "  <thead>\n",
       "    <tr>\n",
       "      <th class=\"blank\" >&nbsp;</th>\n",
       "      <th class=\"blank level0\" >&nbsp;</th>\n",
       "      <th id=\"T_d3572_level0_col0\" class=\"col_heading level0 col0\" >accuracy</th>\n",
       "      <th id=\"T_d3572_level0_col1\" class=\"col_heading level0 col1\" >balanced accuracy</th>\n",
       "      <th id=\"T_d3572_level0_col2\" class=\"col_heading level0 col2\" >g-mean</th>\n",
       "      <th id=\"T_d3572_level0_col3\" class=\"col_heading level0 col3\" >f1-score</th>\n",
       "      <th id=\"T_d3572_level0_col4\" class=\"col_heading level0 col4\" >cohen_kappa</th>\n",
       "    </tr>\n",
       "  </thead>\n",
       "  <tbody>\n",
       "    <tr>\n",
       "      <th id=\"T_d3572_level0_row0\" class=\"row_heading level0 row0\" rowspan=\"5\">SVM</th>\n",
       "      <th id=\"T_d3572_level1_row0\" class=\"row_heading level1 row0\" >SMOTE</th>\n",
       "      <td id=\"T_d3572_row0_col0\" class=\"data row0 col0\" >0.829±0.102</td>\n",
       "      <td id=\"T_d3572_row0_col1\" class=\"data row0 col1\" >0.761±0.104</td>\n",
       "      <td id=\"T_d3572_row0_col2\" class=\"data row0 col2\" >0.82±0.092</td>\n",
       "      <td id=\"T_d3572_row0_col3\" class=\"data row0 col3\" >0.731±0.158</td>\n",
       "      <td id=\"T_d3572_row0_col4\" class=\"data row0 col4\" >0.376±0.241</td>\n",
       "    </tr>\n",
       "    <tr>\n",
       "      <th id=\"T_d3572_level1_row1\" class=\"row_heading level1 row1\" >polynome_fit_SMOTE</th>\n",
       "      <td id=\"T_d3572_row1_col0\" class=\"data row1 col0\" >0.875±0.115</td>\n",
       "      <td id=\"T_d3572_row1_col1\" class=\"data row1 col1\" >0.717±0.142</td>\n",
       "      <td id=\"T_d3572_row1_col2\" class=\"data row1 col2\" >0.854±0.105</td>\n",
       "      <td id=\"T_d3572_row1_col3\" class=\"data row1 col3\" >0.784±0.171</td>\n",
       "      <td id=\"T_d3572_row1_col4\" class=\"data row1 col4\" >0.391±0.257</td>\n",
       "    </tr>\n",
       "    <tr>\n",
       "      <th id=\"T_d3572_level1_row2\" class=\"row_heading level1 row2\" >ProWSyn</th>\n",
       "      <td id=\"T_d3572_row2_col0\" class=\"data row2 col0\" >0.855±0.091</td>\n",
       "      <td id=\"T_d3572_row2_col1\" class=\"data row2 col1\" >0.771±0.115</td>\n",
       "      <td id=\"T_d3572_row2_col2\" class=\"data row2 col2\" >0.841±0.081</td>\n",
       "      <td id=\"T_d3572_row2_col3\" class=\"data row2 col3\" >0.745±0.191</td>\n",
       "      <td id=\"T_d3572_row2_col4\" class=\"data row2 col4\" >0.399±0.27</td>\n",
       "    </tr>\n",
       "    <tr>\n",
       "      <th id=\"T_d3572_level1_row3\" class=\"row_heading level1 row3\" >Lee</th>\n",
       "      <td id=\"T_d3572_row3_col0\" class=\"data row3 col0\" >0.865±0.111</td>\n",
       "      <td id=\"T_d3572_row3_col1\" class=\"data row3 col1\" >0.742±0.122</td>\n",
       "      <td id=\"T_d3572_row3_col2\" class=\"data row3 col2\" >0.848±0.099</td>\n",
       "      <td id=\"T_d3572_row3_col3\" class=\"data row3 col3\" >0.79±0.136</td>\n",
       "      <td id=\"T_d3572_row3_col4\" class=\"data row3 col4\" >0.417±0.251</td>\n",
       "    </tr>\n",
       "    <tr>\n",
       "      <th id=\"T_d3572_level1_row4\" class=\"row_heading level1 row4\" >Metropolis_hastings</th>\n",
       "      <td id=\"T_d3572_row4_col0\" class=\"data row4 col0\" >0.867±0.111</td>\n",
       "      <td id=\"T_d3572_row4_col1\" class=\"data row4 col1\" >0.641±0.107</td>\n",
       "      <td id=\"T_d3572_row4_col2\" class=\"data row4 col2\" >0.832±0.1</td>\n",
       "      <td id=\"T_d3572_row4_col3\" class=\"data row4 col3\" >0.771±0.172</td>\n",
       "      <td id=\"T_d3572_row4_col4\" class=\"data row4 col4\" >0.286±0.189</td>\n",
       "    </tr>\n",
       "  </tbody>\n",
       "</table>\n"
      ],
      "text/plain": [
       "<pandas.io.formats.style.Styler at 0x1e59bb6c5c0>"
      ]
     },
     "execution_count": 32,
     "metadata": {},
     "output_type": "execute_result"
    }
   ],
   "source": [
    "df.index = pd.MultiIndex.from_product([[\"SVM\"],oversampler_list])\n",
    "df.style.set_sticky(axis=\"index\", pixel_size=100, levels=[1,2])"
   ]
  },
  {
   "cell_type": "code",
   "execution_count": 35,
   "id": "1fe9ff80-594d-4362-9d2f-bf8b61ef78d6",
   "metadata": {},
   "outputs": [],
   "source": [
    "with pd.ExcelWriter('average_SVM.xlsx') as excel_writer:\n",
    "  df.to_excel(excel_writer,sheet_name='sheet_1')"
   ]
  },
  {
   "cell_type": "code",
   "execution_count": null,
   "id": "0c46334c-7369-459c-bdac-f7d5ab40ca91",
   "metadata": {},
   "outputs": [],
   "source": []
  }
 ],
 "metadata": {
  "kernelspec": {
   "display_name": "Python 3 (ipykernel)",
   "language": "python",
   "name": "python3"
  },
  "language_info": {
   "codemirror_mode": {
    "name": "ipython",
    "version": 3
   },
   "file_extension": ".py",
   "mimetype": "text/x-python",
   "name": "python",
   "nbconvert_exporter": "python",
   "pygments_lexer": "ipython3",
   "version": "3.12.4"
  }
 },
 "nbformat": 4,
 "nbformat_minor": 5
}

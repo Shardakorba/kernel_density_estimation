{
 "cells": [
  {
   "cell_type": "code",
   "execution_count": 1,
   "id": "a1f91030-3e03-42ef-b798-ae98f1480fc5",
   "metadata": {},
   "outputs": [],
   "source": [
    "import numpy as np\n",
    "import pandas as pd"
   ]
  },
  {
   "cell_type": "code",
   "execution_count": 2,
   "id": "904b5a31-4d04-4a7f-b1c4-9167fc02ace4",
   "metadata": {},
   "outputs": [],
   "source": [
    "df1 = pd.read_excel('logistic_regression_clf_result_for_data1.xlsx',index_col=0)"
   ]
  },
  {
   "cell_type": "code",
   "execution_count": 3,
   "id": "38c5eb2a-4ea1-4872-8aec-22184e6a7565",
   "metadata": {},
   "outputs": [],
   "source": [
    "df2 = pd.read_excel('Logistic_regression_clf_result_for_d2.xlsx',index_col=0)"
   ]
  },
  {
   "cell_type": "code",
   "execution_count": 4,
   "id": "b01e8759-3c3e-4d5c-a6e5-c0ed1f58e501",
   "metadata": {},
   "outputs": [],
   "source": [
    "df3 = pd.read_excel('logistic_regression_clf_result_for_data3.xlsx',index_col=0)"
   ]
  },
  {
   "cell_type": "code",
   "execution_count": 5,
   "id": "4deebc95-6d8b-4833-bc57-d8e3e8dcbdab",
   "metadata": {},
   "outputs": [],
   "source": [
    "df4 = pd.read_excel('logistic_regression_clf_result_for_d4.xlsx',index_col=0)"
   ]
  },
  {
   "cell_type": "code",
   "execution_count": 6,
   "id": "d9b21c6a-6d6e-45cb-9f01-5fb85373165b",
   "metadata": {},
   "outputs": [],
   "source": [
    "df5 = pd.read_excel('logistic_regression_clf_result_for_d5.xlsx',index_col=0)"
   ]
  },
  {
   "cell_type": "code",
   "execution_count": 13,
   "id": "8dab2b7c-a4ee-4fce-8223-06385daebdf3",
   "metadata": {},
   "outputs": [],
   "source": [
    "list_of_dataframes=[df1,df2,df3,df4,df5]"
   ]
  },
  {
   "cell_type": "code",
   "execution_count": 7,
   "id": "5d16888e-e3f1-4e25-975f-ed5bd0ebb11f",
   "metadata": {},
   "outputs": [],
   "source": [
    "oversampler_list = [\"SMOTE\",\"polynome_fit_SMOTE\",\"ProWSyn\",\"Lee\",\"Metropolis_hastings\"]"
   ]
  },
  {
   "cell_type": "code",
   "execution_count": 8,
   "id": "a56219dc-8caf-4159-ae85-1933d96aee18",
   "metadata": {},
   "outputs": [],
   "source": [
    "mesure_list = [\"accuracy\",\"balanced accuracy\",\"g-mean\",\"f1-score\",\"cohen_kappa\"]"
   ]
  },
  {
   "cell_type": "code",
   "execution_count": 15,
   "id": "7245c6a0-553b-48ec-9836-110a924e6a6d",
   "metadata": {},
   "outputs": [],
   "source": [
    "def get_avg_performance_for_oversampler(oversampler):\n",
    "    list_processed_value_lists=[]\n",
    "    for df in list_of_dataframes:\n",
    "        value_list=list(df.loc[oversampler])\n",
    "        \n",
    "        processed_value_list=np.array([float(value.split(\"\\u00B1\")[0]) for value in value_list])\n",
    "        list_processed_value_lists.append(processed_value_list)\n",
    "    list_processed_value_lists=np.array(list_processed_value_lists)\n",
    "    avg=np.mean(list_processed_value_lists,axis=0)\n",
    "    std=np.std(list_processed_value_lists,axis=0)\n",
    "    return avg,std"
   ]
  },
  {
   "cell_type": "code",
   "execution_count": 17,
   "id": "c99cbecf-72a3-4c82-a238-98dfd9e5637f",
   "metadata": {},
   "outputs": [],
   "source": [
    "all_avg_summary_list = []\n",
    "all_avg_list = []\n",
    "all_std_list = []\n",
    "for oversampler in oversampler_list:\n",
    "    avg_list = []\n",
    "    std_list = []\n",
    "    for i in range(len(oversampler_list)):\n",
    "        avg_std_list = []\n",
    "        avg_list.append(np.round(get_avg_performance_for_oversampler(oversampler)[0][i], decimals=3))\n",
    "        std_list.append(np.round(get_avg_performance_for_oversampler(oversampler)[1][i], decimals=3))\n",
    "    all_avg_list.append(avg_list)\n",
    "    all_std_list.append(std_list)\n",
    "    \n",
    "    avg_std_list = []\n",
    "    for j in range(len(oversampler_list)):\n",
    "        avg_std_list.append(str(all_avg_list[-1][j]) + \"\\u00B1\" + str(all_std_list[-1][j]))\n",
    "\n",
    "    all_avg_summary_list.append(avg_std_list)\n"
   ]
  },
  {
   "cell_type": "code",
   "execution_count": 20,
   "id": "30b8c4dd-0982-4950-b222-a1f3de560dc0",
   "metadata": {},
   "outputs": [
    {
     "data": {
      "text/plain": [
       "[['0.823±0.102', '0.8±0.111', '0.82±0.1', '0.701±0.227', '0.38±0.291'],\n",
       " ['0.833±0.104', '0.787±0.098', '0.815±0.091', '0.719±0.197', '0.391±0.272'],\n",
       " ['0.832±0.098', '0.79±0.11', '0.821±0.091', '0.713±0.212', '0.385±0.282'],\n",
       " ['0.857±0.104', '0.772±0.119', '0.841±0.094', '0.756±0.178', '0.413±0.278'],\n",
       " ['0.825±0.096', '0.726±0.146', '0.817±0.091', '0.7±0.233', '0.342±0.297']]"
      ]
     },
     "execution_count": 20,
     "metadata": {},
     "output_type": "execute_result"
    }
   ],
   "source": [
    "all_avg_summary_list"
   ]
  },
  {
   "cell_type": "code",
   "execution_count": 49,
   "id": "ad23e301-b8ae-40e1-8397-245d3215b396",
   "metadata": {},
   "outputs": [
    {
     "data": {
      "text/html": [
       "<div>\n",
       "<style scoped>\n",
       "    .dataframe tbody tr th:only-of-type {\n",
       "        vertical-align: middle;\n",
       "    }\n",
       "\n",
       "    .dataframe tbody tr th {\n",
       "        vertical-align: top;\n",
       "    }\n",
       "\n",
       "    .dataframe thead th {\n",
       "        text-align: right;\n",
       "    }\n",
       "</style>\n",
       "<table border=\"1\" class=\"dataframe\">\n",
       "  <thead>\n",
       "    <tr style=\"text-align: right;\">\n",
       "      <th></th>\n",
       "      <th>accuracy</th>\n",
       "      <th>balanced accuracy</th>\n",
       "      <th>g-mean</th>\n",
       "      <th>f1-score</th>\n",
       "      <th>cohen_kappa</th>\n",
       "    </tr>\n",
       "  </thead>\n",
       "  <tbody>\n",
       "    <tr>\n",
       "      <th>0</th>\n",
       "      <td>0.823±0.102</td>\n",
       "      <td>0.8±0.111</td>\n",
       "      <td>0.82±0.1</td>\n",
       "      <td>0.701±0.227</td>\n",
       "      <td>0.38±0.291</td>\n",
       "    </tr>\n",
       "    <tr>\n",
       "      <th>1</th>\n",
       "      <td>0.833±0.104</td>\n",
       "      <td>0.787±0.098</td>\n",
       "      <td>0.815±0.091</td>\n",
       "      <td>0.719±0.197</td>\n",
       "      <td>0.391±0.272</td>\n",
       "    </tr>\n",
       "    <tr>\n",
       "      <th>2</th>\n",
       "      <td>0.832±0.098</td>\n",
       "      <td>0.79±0.11</td>\n",
       "      <td>0.821±0.091</td>\n",
       "      <td>0.713±0.212</td>\n",
       "      <td>0.385±0.282</td>\n",
       "    </tr>\n",
       "    <tr>\n",
       "      <th>3</th>\n",
       "      <td>0.857±0.104</td>\n",
       "      <td>0.772±0.119</td>\n",
       "      <td>0.841±0.094</td>\n",
       "      <td>0.756±0.178</td>\n",
       "      <td>0.413±0.278</td>\n",
       "    </tr>\n",
       "    <tr>\n",
       "      <th>4</th>\n",
       "      <td>0.825±0.096</td>\n",
       "      <td>0.726±0.146</td>\n",
       "      <td>0.817±0.091</td>\n",
       "      <td>0.7±0.233</td>\n",
       "      <td>0.342±0.297</td>\n",
       "    </tr>\n",
       "  </tbody>\n",
       "</table>\n",
       "</div>"
      ],
      "text/plain": [
       "      accuracy balanced accuracy       g-mean     f1-score  cohen_kappa\n",
       "0  0.823±0.102         0.8±0.111     0.82±0.1  0.701±0.227   0.38±0.291\n",
       "1  0.833±0.104       0.787±0.098  0.815±0.091  0.719±0.197  0.391±0.272\n",
       "2  0.832±0.098         0.79±0.11  0.821±0.091  0.713±0.212  0.385±0.282\n",
       "3  0.857±0.104       0.772±0.119  0.841±0.094  0.756±0.178  0.413±0.278\n",
       "4  0.825±0.096       0.726±0.146  0.817±0.091    0.7±0.233  0.342±0.297"
      ]
     },
     "execution_count": 49,
     "metadata": {},
     "output_type": "execute_result"
    }
   ],
   "source": [
    "df=pd.DataFrame(all_avg_summary_list, columns=mesure_list)\n",
    "df"
   ]
  },
  {
   "cell_type": "code",
   "execution_count": 56,
   "id": "3ebfca86-06c3-426b-8904-1fd36bdca35a",
   "metadata": {},
   "outputs": [
    {
     "data": {
      "text/html": [
       "<style type=\"text/css\">\n",
       "#T_1acad thead tr th:nth-child(2) {\n",
       "  position: sticky;\n",
       "  background-color: inherit;\n",
       "  left: 0px;\n",
       "  min-width: 100px;\n",
       "  max-width: 100px;\n",
       "  z-index: 3 !important;\n",
       "}\n",
       "#T_1acad tbody tr th.level1 {\n",
       "  position: sticky;\n",
       "  background-color: inherit;\n",
       "  left: 0px;\n",
       "  min-width: 100px;\n",
       "  max-width: 100px;\n",
       "  z-index: 1;\n",
       "}\n",
       "#T_1acad thead tr th:nth-child(3) {\n",
       "  position: sticky;\n",
       "  background-color: inherit;\n",
       "  left: 100px;\n",
       "  min-width: 100px;\n",
       "  max-width: 100px;\n",
       "  z-index: 3 !important;\n",
       "}\n",
       "#T_1acad tbody tr th.level2 {\n",
       "  position: sticky;\n",
       "  background-color: inherit;\n",
       "  left: 100px;\n",
       "  min-width: 100px;\n",
       "  max-width: 100px;\n",
       "  z-index: 1;\n",
       "}\n",
       "</style>\n",
       "<table id=\"T_1acad\">\n",
       "  <thead>\n",
       "    <tr>\n",
       "      <th class=\"blank\" >&nbsp;</th>\n",
       "      <th class=\"blank level0\" >&nbsp;</th>\n",
       "      <th id=\"T_1acad_level0_col0\" class=\"col_heading level0 col0\" >accuracy</th>\n",
       "      <th id=\"T_1acad_level0_col1\" class=\"col_heading level0 col1\" >balanced accuracy</th>\n",
       "      <th id=\"T_1acad_level0_col2\" class=\"col_heading level0 col2\" >g-mean</th>\n",
       "      <th id=\"T_1acad_level0_col3\" class=\"col_heading level0 col3\" >f1-score</th>\n",
       "      <th id=\"T_1acad_level0_col4\" class=\"col_heading level0 col4\" >cohen_kappa</th>\n",
       "    </tr>\n",
       "  </thead>\n",
       "  <tbody>\n",
       "    <tr>\n",
       "      <th id=\"T_1acad_level0_row0\" class=\"row_heading level0 row0\" rowspan=\"5\">Logistic Regression</th>\n",
       "      <th id=\"T_1acad_level1_row0\" class=\"row_heading level1 row0\" >SMOTE</th>\n",
       "      <td id=\"T_1acad_row0_col0\" class=\"data row0 col0\" >0.823±0.102</td>\n",
       "      <td id=\"T_1acad_row0_col1\" class=\"data row0 col1\" >0.8±0.111</td>\n",
       "      <td id=\"T_1acad_row0_col2\" class=\"data row0 col2\" >0.82±0.1</td>\n",
       "      <td id=\"T_1acad_row0_col3\" class=\"data row0 col3\" >0.701±0.227</td>\n",
       "      <td id=\"T_1acad_row0_col4\" class=\"data row0 col4\" >0.38±0.291</td>\n",
       "    </tr>\n",
       "    <tr>\n",
       "      <th id=\"T_1acad_level1_row1\" class=\"row_heading level1 row1\" >polynome_fit_SMOTE</th>\n",
       "      <td id=\"T_1acad_row1_col0\" class=\"data row1 col0\" >0.833±0.104</td>\n",
       "      <td id=\"T_1acad_row1_col1\" class=\"data row1 col1\" >0.787±0.098</td>\n",
       "      <td id=\"T_1acad_row1_col2\" class=\"data row1 col2\" >0.815±0.091</td>\n",
       "      <td id=\"T_1acad_row1_col3\" class=\"data row1 col3\" >0.719±0.197</td>\n",
       "      <td id=\"T_1acad_row1_col4\" class=\"data row1 col4\" >0.391±0.272</td>\n",
       "    </tr>\n",
       "    <tr>\n",
       "      <th id=\"T_1acad_level1_row2\" class=\"row_heading level1 row2\" >ProWSyn</th>\n",
       "      <td id=\"T_1acad_row2_col0\" class=\"data row2 col0\" >0.832±0.098</td>\n",
       "      <td id=\"T_1acad_row2_col1\" class=\"data row2 col1\" >0.79±0.11</td>\n",
       "      <td id=\"T_1acad_row2_col2\" class=\"data row2 col2\" >0.821±0.091</td>\n",
       "      <td id=\"T_1acad_row2_col3\" class=\"data row2 col3\" >0.713±0.212</td>\n",
       "      <td id=\"T_1acad_row2_col4\" class=\"data row2 col4\" >0.385±0.282</td>\n",
       "    </tr>\n",
       "    <tr>\n",
       "      <th id=\"T_1acad_level1_row3\" class=\"row_heading level1 row3\" >Lee</th>\n",
       "      <td id=\"T_1acad_row3_col0\" class=\"data row3 col0\" >0.857±0.104</td>\n",
       "      <td id=\"T_1acad_row3_col1\" class=\"data row3 col1\" >0.772±0.119</td>\n",
       "      <td id=\"T_1acad_row3_col2\" class=\"data row3 col2\" >0.841±0.094</td>\n",
       "      <td id=\"T_1acad_row3_col3\" class=\"data row3 col3\" >0.756±0.178</td>\n",
       "      <td id=\"T_1acad_row3_col4\" class=\"data row3 col4\" >0.413±0.278</td>\n",
       "    </tr>\n",
       "    <tr>\n",
       "      <th id=\"T_1acad_level1_row4\" class=\"row_heading level1 row4\" >Metropolis_hastings</th>\n",
       "      <td id=\"T_1acad_row4_col0\" class=\"data row4 col0\" >0.825±0.096</td>\n",
       "      <td id=\"T_1acad_row4_col1\" class=\"data row4 col1\" >0.726±0.146</td>\n",
       "      <td id=\"T_1acad_row4_col2\" class=\"data row4 col2\" >0.817±0.091</td>\n",
       "      <td id=\"T_1acad_row4_col3\" class=\"data row4 col3\" >0.7±0.233</td>\n",
       "      <td id=\"T_1acad_row4_col4\" class=\"data row4 col4\" >0.342±0.297</td>\n",
       "    </tr>\n",
       "  </tbody>\n",
       "</table>\n"
      ],
      "text/plain": [
       "<pandas.io.formats.style.Styler at 0x1d5cf4f6b70>"
      ]
     },
     "execution_count": 56,
     "metadata": {},
     "output_type": "execute_result"
    }
   ],
   "source": [
    "df.index = pd.MultiIndex.from_product([[\"Logistic Regression\"],oversampler_list])\n",
    "df.style.set_sticky(axis=\"index\", pixel_size=100, levels=[1,2])"
   ]
  },
  {
   "cell_type": "code",
   "execution_count": 60,
   "id": "ddd017d4-2a7b-4e6e-a242-60267963135d",
   "metadata": {},
   "outputs": [],
   "source": [
    "with pd.ExcelWriter('average_logistic_regression.xlsx') as excel_writer:\n",
    "  df.to_excel(excel_writer,sheet_name='sheet_1')"
   ]
  },
  {
   "cell_type": "code",
   "execution_count": null,
   "id": "4264e32b-a473-4834-af27-e211d10082d8",
   "metadata": {},
   "outputs": [],
   "source": []
  }
 ],
 "metadata": {
  "kernelspec": {
   "display_name": "Python 3 (ipykernel)",
   "language": "python",
   "name": "python3"
  },
  "language_info": {
   "codemirror_mode": {
    "name": "ipython",
    "version": 3
   },
   "file_extension": ".py",
   "mimetype": "text/x-python",
   "name": "python",
   "nbconvert_exporter": "python",
   "pygments_lexer": "ipython3",
   "version": "3.12.4"
  }
 },
 "nbformat": 4,
 "nbformat_minor": 5
}

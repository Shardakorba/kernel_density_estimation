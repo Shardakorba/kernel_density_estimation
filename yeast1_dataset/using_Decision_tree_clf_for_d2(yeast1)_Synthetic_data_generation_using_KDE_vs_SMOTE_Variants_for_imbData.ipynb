{
 "cells": [
  {
   "cell_type": "code",
   "execution_count": 137,
   "id": "8656760b-6b54-4c14-950e-1da119ba1196",
   "metadata": {},
   "outputs": [],
   "source": [
    "import numpy as np\n",
    "import pandas as pd\n",
    "from tqdm.notebook import tqdm\n",
    "from sklearn.preprocessing import StandardScaler\n",
    "from sklearn.decomposition import PCA\n",
    "import matplotlib.pyplot as plt\n",
    "from sklearn.tree import DecisionTreeClassifier\n",
    "from sklearn.metrics import confusion_matrix\n",
    "from sklearn.metrics import accuracy_score\n",
    "from sklearn.metrics import balanced_accuracy_score\n",
    "from sklearn.metrics import f1_score\n",
    "from imblearn.metrics import geometric_mean_score\n",
    "from sklearn.metrics import cohen_kappa_score\n",
    "from imblearn.over_sampling import SMOTE\n",
    "from collections import Counter"
   ]
  },
  {
   "cell_type": "code",
   "execution_count": 139,
   "id": "7304f51b-0cf3-4117-9b2f-5d242440e1ac",
   "metadata": {},
   "outputs": [],
   "source": [
    "with open ('yeast1.dat') as f:\n",
    "     lines = [line.rstrip('\\n')for line in f]"
   ]
  },
  {
   "cell_type": "code",
   "execution_count": 90,
   "id": "609280e6-c68b-4f0a-aaca-b49ebfb6dbb9",
   "metadata": {},
   "outputs": [],
   "source": [
    "del lines[0:13]\n",
    "data_string_list = []\n",
    "for i in range(len(lines)):\n",
    "    data_string_list.append(lines[i].split(','))"
   ]
  },
  {
   "cell_type": "code",
   "execution_count": 92,
   "id": "75fcdf2b-d5d7-43a4-afe6-75ce42f0ab7e",
   "metadata": {},
   "outputs": [],
   "source": [
    "labels=[]\n",
    "for i in range(len(data_string_list)):\n",
    "    if data_string_list[i][-1] == ' negative':\n",
    "        labels.append(0)\n",
    "    else:\n",
    "        labels.append(1)\n",
    "labels=np.array(labels)"
   ]
  },
  {
   "cell_type": "code",
   "execution_count": 94,
   "id": "49161847-4a63-4585-a514-dc830d52d0f4",
   "metadata": {},
   "outputs": [
    {
     "data": {
      "text/plain": [
       "array([0, 1])"
      ]
     },
     "execution_count": 94,
     "metadata": {},
     "output_type": "execute_result"
    }
   ],
   "source": [
    "np.unique(labels)"
   ]
  },
  {
   "cell_type": "code",
   "execution_count": 96,
   "id": "c8b42a31-2467-4f06-be06-b3522b2f81ff",
   "metadata": {},
   "outputs": [],
   "source": [
    "data_string_list=np.array(data_string_list)\n",
    "data_string_list=data_string_list[:,:-1]"
   ]
  },
  {
   "cell_type": "code",
   "execution_count": 98,
   "id": "0b3a84d0-698a-4cfb-9740-82817d15a57e",
   "metadata": {},
   "outputs": [],
   "source": [
    "data_list=[]\n",
    "for i in range(len(data_string_list)):\n",
    "    row_list=[]\n",
    "    for j in range(len(data_string_list[0])):\n",
    "        f= float(data_string_list[i][j])\n",
    "        row_list.append(f)\n",
    "    data_list.append(row_list)\n",
    "data = np.array(data_list)"
   ]
  },
  {
   "cell_type": "code",
   "execution_count": 100,
   "id": "8fa9fe4f-3e2b-4299-9f8e-7ee75ab7fba9",
   "metadata": {
    "editable": true,
    "slideshow": {
     "slide_type": ""
    },
    "tags": []
   },
   "outputs": [
    {
     "data": {
      "text/plain": [
       "(1484, 8)"
      ]
     },
     "execution_count": 100,
     "metadata": {},
     "output_type": "execute_result"
    }
   ],
   "source": [
    "data.shape"
   ]
  },
  {
   "cell_type": "markdown",
   "id": "c5b42384-47d2-42a9-a723-ad817827c934",
   "metadata": {
    "editable": true,
    "slideshow": {
     "slide_type": ""
    },
    "tags": []
   },
   "source": [
    "### K-fold:"
   ]
  },
  {
   "cell_type": "code",
   "execution_count": 123,
   "id": "d08e4baa-2c78-45ac-bdd8-8bd3839f04fa",
   "metadata": {
    "editable": true,
    "slideshow": {
     "slide_type": ""
    },
    "tags": []
   },
   "outputs": [],
   "source": [
    "def get_folds(data,labels,k):\n",
    "  np.random.seed(42)\n",
    "  shuffle=np.random.permutation(len(data))\n",
    "  data=data[shuffle]\n",
    "  labels=labels[shuffle]\n",
    "\n",
    "  block_length=int(len(data)/k)\n",
    "  data_folds=[]\n",
    "  label_folds=[]\n",
    "  for i in range(k):\n",
    "    if i==(k-1):\n",
    "      data_fold=data[i*block_length:]\n",
    "      data_folds.append(data_fold)\n",
    "      label_fold=labels[i*block_length:]\n",
    "      label_folds.append(label_fold)\n",
    "    else:\n",
    "      data_fold=data[i*block_length:block_length*(i+1)]\n",
    "      data_folds.append(data_fold)\n",
    "      label_fold=labels[i*block_length:block_length*(i+1)]\n",
    "      label_folds.append(label_fold)\n",
    "  return np.array(data_folds,dtype=object),np.array(label_folds,dtype=object)"
   ]
  },
  {
   "cell_type": "code",
   "execution_count": 146,
   "id": "bce71f7c-d5f8-4667-84f7-9ce256e688a0",
   "metadata": {},
   "outputs": [
    {
     "data": {
      "text/plain": [
       "(array([array([[0.59, 0.6 , 0.49, ..., 0.  , 0.53, 0.31],\n",
       "               [0.45, 0.56, 0.51, ..., 0.  , 0.54, 0.22],\n",
       "               [0.57, 0.5 , 0.4 , ..., 0.  , 0.47, 0.22],\n",
       "               ...,\n",
       "               [0.57, 0.36, 0.51, ..., 0.  , 0.54, 0.25],\n",
       "               [0.33, 0.37, 0.54, ..., 0.  , 0.53, 0.27],\n",
       "               [0.59, 0.67, 0.54, ..., 0.  , 0.48, 0.6 ]]),\n",
       "        array([[0.42, 0.5 , 0.64, ..., 0.  , 0.49, 0.22],\n",
       "               [0.31, 0.45, 0.5 , ..., 0.  , 0.49, 0.22],\n",
       "               [0.5 , 0.45, 0.48, ..., 0.  , 0.5 , 0.26],\n",
       "               ...,\n",
       "               [0.48, 0.45, 0.59, ..., 0.  , 0.55, 0.3 ],\n",
       "               [0.35, 0.21, 1.  , ..., 0.  , 0.13, 0.01],\n",
       "               [0.55, 0.44, 0.5 , ..., 0.  , 0.55, 0.22]]),\n",
       "        array([[0.57, 0.47, 0.48, ..., 0.  , 0.52, 0.26],\n",
       "               [0.45, 0.48, 0.63, ..., 0.  , 0.48, 0.22],\n",
       "               [0.43, 0.4 , 0.6 , ..., 0.  , 0.53, 0.39],\n",
       "               ...,\n",
       "               [0.54, 0.35, 0.55, ..., 0.  , 0.3 , 0.22],\n",
       "               [0.53, 0.44, 0.51, ..., 0.  , 0.55, 0.22],\n",
       "               [0.49, 0.44, 0.45, ..., 0.  , 0.48, 0.22]]),\n",
       "        array([[0.33, 0.46, 0.53, ..., 0.  , 0.5 , 0.27],\n",
       "               [0.52, 0.54, 0.47, ..., 0.  , 0.54, 0.22],\n",
       "               [0.45, 0.5 , 0.57, ..., 0.  , 0.44, 0.11],\n",
       "               ...,\n",
       "               [0.52, 0.48, 0.58, ..., 0.  , 0.48, 0.22],\n",
       "               [0.41, 0.4 , 0.56, ..., 0.  , 0.56, 0.22],\n",
       "               [0.5 , 0.46, 0.42, ..., 0.  , 0.56, 0.55]]),\n",
       "        array([[0.67, 0.71, 0.52, ..., 0.  , 0.53, 0.36],\n",
       "               [0.47, 0.39, 0.5 , ..., 0.  , 0.49, 0.4 ],\n",
       "               [0.59, 0.55, 0.57, ..., 0.  , 0.51, 0.22],\n",
       "               ...,\n",
       "               [0.45, 0.53, 0.51, ..., 0.  , 0.52, 0.22],\n",
       "               [0.41, 0.45, 0.46, ..., 0.  , 0.5 , 0.7 ],\n",
       "               [0.55, 0.4 , 0.62, ..., 0.  , 0.37, 0.28]])], dtype=object),\n",
       " array([array([0, 0, 0, 1, 0, 0, 0, 0, 0, 0, 0, 0, 0, 1, 0, 1, 0, 0, 0, 1, 1, 1,\n",
       "               0, 0, 0, 1, 0, 1, 0, 0, 0, 0, 0, 1, 0, 0, 0, 1, 1, 0, 0, 0, 1, 0,\n",
       "               1, 0, 0, 0, 1, 0, 0, 0, 0, 0, 1, 0, 0, 0, 0, 0, 1, 0, 1, 0, 0, 0,\n",
       "               0, 0, 0, 0, 0, 0, 0, 1, 0, 0, 1, 1, 0, 0, 0, 0, 0, 0, 0, 0, 0, 1,\n",
       "               0, 0, 1, 0, 0, 1, 0, 0, 0, 0, 0, 0, 0, 0, 0, 0, 0, 0, 0, 0, 1, 1,\n",
       "               0, 1, 1, 0, 0, 0, 0, 1, 0, 0, 0, 1, 1, 0, 1, 1, 0, 0, 1, 0, 0, 1,\n",
       "               0, 1, 0, 0, 0, 0, 1, 0, 0, 0, 1, 0, 0, 1, 0, 1, 0, 0, 0, 1, 0, 0,\n",
       "               0, 0, 0, 1, 0, 0, 0, 0, 1, 0, 1, 0, 0, 0, 0, 0, 0, 0, 1, 0, 0, 0,\n",
       "               1, 0, 1, 0, 1, 1, 0, 1, 1, 0, 0, 0, 0, 0, 0, 0, 0, 0, 1, 0, 0, 0,\n",
       "               1, 1, 0, 0, 1, 0, 0, 0, 0, 0, 0, 0, 0, 1, 0, 1, 0, 1, 0, 1, 0, 0,\n",
       "               1, 0, 0, 1, 0, 1, 0, 0, 0, 0, 0, 0, 1, 0, 1, 1, 0, 0, 0, 0, 1, 1,\n",
       "               0, 1, 0, 1, 1, 0, 0, 0, 0, 0, 0, 1, 1, 0, 0, 1, 0, 0, 0, 1, 0, 0,\n",
       "               0, 0, 0, 1, 0, 1, 1, 0, 0, 0, 0, 0, 0, 0, 0, 0, 1, 1, 1, 0, 0, 0,\n",
       "               1, 1, 1, 0, 0, 0, 1, 0, 1, 1])                                   ,\n",
       "        array([0, 0, 0, 0, 0, 1, 0, 0, 0, 1, 1, 0, 1, 1, 0, 0, 0, 0, 0, 0, 0, 0,\n",
       "               1, 0, 0, 1, 0, 0, 1, 0, 1, 0, 0, 1, 1, 0, 0, 0, 0, 0, 0, 0, 0, 0,\n",
       "               1, 1, 0, 0, 0, 0, 0, 1, 0, 1, 0, 1, 0, 0, 0, 1, 0, 0, 0, 0, 0, 0,\n",
       "               1, 1, 0, 0, 0, 1, 0, 0, 0, 1, 0, 0, 1, 0, 1, 0, 0, 0, 1, 0, 0, 0,\n",
       "               0, 0, 1, 0, 1, 0, 0, 0, 1, 0, 1, 0, 0, 0, 0, 1, 1, 0, 0, 0, 1, 1,\n",
       "               0, 0, 0, 0, 0, 1, 0, 0, 1, 0, 0, 0, 1, 0, 0, 0, 0, 0, 0, 0, 0, 1,\n",
       "               0, 0, 1, 0, 0, 0, 0, 1, 0, 1, 1, 0, 1, 0, 0, 0, 0, 0, 0, 0, 0, 0,\n",
       "               0, 1, 0, 1, 0, 0, 1, 0, 0, 0, 0, 1, 1, 1, 0, 0, 1, 1, 0, 1, 0, 0,\n",
       "               0, 0, 0, 0, 1, 0, 0, 1, 1, 0, 0, 1, 1, 0, 1, 0, 0, 0, 0, 0, 0, 1,\n",
       "               0, 0, 0, 1, 0, 0, 0, 0, 1, 0, 1, 0, 0, 0, 0, 0, 0, 0, 1, 0, 0, 0,\n",
       "               0, 0, 0, 0, 1, 0, 1, 0, 0, 0, 1, 0, 0, 0, 0, 0, 0, 0, 1, 1, 0, 1,\n",
       "               0, 1, 0, 1, 0, 0, 0, 1, 0, 0, 0, 1, 0, 0, 0, 0, 0, 0, 1, 0, 0, 1,\n",
       "               0, 0, 0, 1, 1, 0, 0, 0, 0, 1, 1, 1, 0, 0, 0, 0, 1, 1, 0, 0, 0, 1,\n",
       "               0, 0, 0, 0, 0, 0, 1, 0, 0, 0])                                   ,\n",
       "        array([0, 0, 1, 1, 1, 0, 0, 0, 0, 0, 0, 0, 1, 0, 1, 1, 0, 0, 1, 0, 0, 0,\n",
       "               0, 0, 1, 0, 0, 0, 0, 0, 1, 1, 0, 0, 0, 0, 0, 0, 0, 0, 0, 0, 0, 0,\n",
       "               1, 0, 0, 0, 0, 0, 0, 1, 0, 0, 0, 0, 0, 0, 0, 1, 0, 1, 0, 0, 1, 0,\n",
       "               0, 0, 0, 0, 0, 0, 1, 0, 0, 0, 0, 0, 0, 1, 1, 1, 0, 0, 1, 1, 0, 1,\n",
       "               0, 1, 0, 0, 0, 1, 0, 0, 0, 0, 1, 0, 0, 1, 1, 0, 1, 0, 0, 0, 0, 0,\n",
       "               0, 1, 1, 1, 0, 1, 1, 0, 0, 1, 1, 0, 0, 0, 0, 0, 0, 0, 0, 0, 0, 0,\n",
       "               0, 0, 1, 1, 1, 0, 0, 0, 0, 1, 0, 1, 0, 1, 0, 0, 0, 0, 1, 0, 0, 0,\n",
       "               1, 0, 0, 0, 0, 0, 1, 1, 0, 0, 0, 1, 0, 0, 0, 0, 0, 0, 0, 0, 0, 1,\n",
       "               0, 0, 0, 1, 0, 1, 0, 0, 1, 0, 1, 0, 0, 0, 0, 1, 0, 1, 1, 0, 0, 0,\n",
       "               0, 0, 1, 1, 1, 0, 0, 0, 0, 0, 0, 0, 0, 1, 0, 1, 0, 0, 0, 1, 0, 1,\n",
       "               1, 1, 0, 0, 0, 0, 0, 0, 1, 1, 0, 0, 0, 0, 0, 0, 0, 1, 1, 1, 1, 1,\n",
       "               1, 0, 0, 0, 0, 0, 1, 1, 0, 1, 1, 1, 1, 0, 0, 0, 1, 0, 0, 0, 1, 0,\n",
       "               0, 0, 0, 0, 0, 1, 0, 1, 0, 0, 0, 1, 1, 1, 1, 0, 1, 0, 0, 0, 0, 0,\n",
       "               1, 1, 0, 1, 1, 0, 1, 0, 0, 0])                                   ,\n",
       "        array([0, 0, 0, 0, 0, 0, 0, 0, 0, 0, 0, 1, 0, 1, 0, 0, 0, 1, 0, 1, 0, 0,\n",
       "               0, 0, 0, 0, 1, 0, 1, 0, 0, 0, 0, 1, 1, 0, 0, 0, 1, 0, 0, 0, 0, 0,\n",
       "               0, 0, 0, 0, 1, 0, 0, 0, 0, 0, 1, 1, 0, 0, 0, 0, 0, 1, 1, 0, 0, 0,\n",
       "               0, 1, 0, 0, 0, 0, 1, 0, 0, 0, 1, 1, 0, 0, 0, 0, 1, 1, 0, 0, 0, 0,\n",
       "               1, 0, 1, 1, 0, 1, 0, 1, 0, 0, 1, 0, 1, 1, 0, 1, 1, 0, 1, 0, 1, 1,\n",
       "               0, 0, 1, 0, 0, 0, 0, 1, 0, 1, 0, 0, 0, 1, 1, 0, 0, 0, 0, 0, 0, 0,\n",
       "               1, 0, 0, 0, 0, 0, 0, 0, 0, 1, 0, 0, 1, 1, 0, 0, 0, 0, 0, 0, 1, 1,\n",
       "               0, 0, 1, 0, 0, 1, 0, 0, 0, 1, 0, 1, 0, 1, 1, 0, 0, 0, 0, 0, 0, 0,\n",
       "               1, 0, 0, 1, 0, 0, 0, 0, 0, 1, 0, 0, 0, 1, 0, 0, 1, 0, 0, 0, 0, 0,\n",
       "               0, 1, 0, 1, 0, 0, 0, 0, 0, 1, 0, 0, 1, 0, 0, 0, 1, 0, 0, 1, 0, 0,\n",
       "               0, 0, 0, 1, 0, 1, 0, 0, 1, 0, 1, 0, 1, 0, 1, 0, 1, 1, 0, 0, 0, 1,\n",
       "               0, 0, 1, 0, 1, 0, 0, 0, 0, 0, 0, 0, 1, 1, 0, 1, 1, 1, 1, 0, 1, 0,\n",
       "               0, 0, 1, 0, 1, 1, 0, 0, 0, 1, 0, 1, 1, 0, 1, 0, 1, 0, 1, 0, 1, 0,\n",
       "               0, 0, 0, 0, 0, 0, 1, 0, 0, 0])                                   ,\n",
       "        array([1, 0, 0, 0, 0, 0, 0, 0, 1, 0, 0, 0, 1, 0, 1, 0, 0, 0, 0, 0, 0, 0,\n",
       "               0, 0, 0, 1, 0, 1, 0, 0, 1, 0, 1, 0, 0, 0, 1, 1, 1, 1, 0, 1, 0, 1,\n",
       "               1, 0, 0, 0, 0, 0, 0, 0, 0, 1, 0, 0, 0, 0, 0, 1, 0, 0, 1, 0, 0, 1,\n",
       "               1, 0, 1, 0, 1, 0, 0, 0, 0, 0, 0, 0, 0, 0, 1, 0, 0, 0, 0, 1, 1, 0,\n",
       "               1, 1, 0, 0, 1, 1, 0, 0, 0, 0, 0, 0, 1, 0, 0, 0, 1, 0, 0, 0, 0, 0,\n",
       "               0, 1, 0, 0, 1, 0, 0, 0, 0, 0, 0, 0, 0, 0, 0, 1, 0, 0, 0, 0, 0, 0,\n",
       "               1, 1, 0, 0, 0, 0, 1, 0, 0, 1, 0, 1, 0, 0, 0, 0, 0, 0, 0, 0, 0, 0,\n",
       "               0, 0, 0, 0, 0, 1, 0, 0, 1, 0, 0, 1, 1, 1, 1, 1, 0, 0, 1, 0, 1, 0,\n",
       "               1, 1, 1, 0, 0, 0, 1, 0, 1, 0, 0, 0, 1, 0, 0, 1, 0, 0, 1, 0, 0, 1,\n",
       "               0, 0, 0, 0, 0, 0, 0, 0, 0, 0, 0, 0, 0, 1, 0, 0, 0, 0, 1, 0, 1, 0,\n",
       "               0, 0, 0, 0, 0, 0, 1, 1, 0, 0, 0, 0, 1, 0, 0, 0, 0, 0, 0, 0, 0, 0,\n",
       "               1, 0, 1, 0, 0, 0, 1, 0, 0, 0, 1, 0, 0, 1, 1, 0, 0, 0, 0, 1, 0, 0,\n",
       "               1, 1, 1, 0, 0, 0, 1, 0, 0, 0, 0, 0, 1, 0, 1, 1, 0, 1, 0, 0, 0, 0,\n",
       "               0, 0, 0, 0, 0, 1, 0, 0, 1, 0, 0, 0, 0, 1])                       ],\n",
       "       dtype=object))"
      ]
     },
     "execution_count": 146,
     "metadata": {},
     "output_type": "execute_result"
    }
   ],
   "source": [
    "get_folds(data,labels,5)"
   ]
  },
  {
   "cell_type": "code",
   "execution_count": 125,
   "id": "c75fc7ca-ef1e-44c6-b471-ab072b719a60",
   "metadata": {},
   "outputs": [],
   "source": [
    "def divide_data_into_k_folds(data,labels,k):\n",
    "  data_folds_array,label_folds_array=get_folds(data,labels,k)\n",
    "  all_data_folds_list=[]\n",
    "  all_labels_folds_list=[]\n",
    "  for i in range(k):\n",
    "    data_fold_k=[np.concatenate(data_folds_array[np.where(np.array(list(range(k)))!=i)[0]]), data_folds_array[i]]\n",
    "    all_data_folds_list.append(data_fold_k)\n",
    "\n",
    "    label_fold_k=[np.concatenate(label_folds_array[np.where(np.array(list(range(k)))!=i)[0]]), label_folds_array[i]]\n",
    "    all_labels_folds_list.append(label_fold_k)\n",
    "\n",
    "  return all_data_folds_list, all_labels_folds_list"
   ]
  },
  {
   "cell_type": "code",
   "execution_count": 127,
   "id": "c9596316-7701-41e9-9823-c1238100405a",
   "metadata": {},
   "outputs": [],
   "source": [
    "all_data_folds_list, all_labels_folds_list=divide_data_into_k_folds(data,labels,5)"
   ]
  },
  {
   "cell_type": "code",
   "execution_count": 14,
   "id": "89ae6206-2650-48e8-a9bf-b30d26a016cb",
   "metadata": {},
   "outputs": [],
   "source": [
    "X_train,X_test=all_data_folds_list[0][0],all_data_folds_list[0][1]"
   ]
  },
  {
   "cell_type": "code",
   "execution_count": 15,
   "id": "b87f8568-d248-4041-9561-9f6a3cd7d62e",
   "metadata": {},
   "outputs": [
    {
     "data": {
      "text/plain": [
       "(1188, 8)"
      ]
     },
     "execution_count": 15,
     "metadata": {},
     "output_type": "execute_result"
    }
   ],
   "source": [
    "X_train.shape"
   ]
  },
  {
   "cell_type": "code",
   "execution_count": 16,
   "id": "a267204a-9303-445b-93dc-a8d031fde18b",
   "metadata": {},
   "outputs": [],
   "source": [
    "y_train,y_test=all_labels_folds_list[0][0],all_labels_folds_list[0][1]"
   ]
  },
  {
   "cell_type": "code",
   "execution_count": 17,
   "id": "20314b64-da76-435d-9e28-7ed76e974f27",
   "metadata": {},
   "outputs": [],
   "source": [
    "X_train_minority=[]\n",
    "for i in np.where(y_train==1):\n",
    "    a=X_train[i]\n",
    "    X_train_minority.append(a)"
   ]
  },
  {
   "cell_type": "code",
   "execution_count": 18,
   "id": "c82367de-9396-47b5-a823-2de071e11974",
   "metadata": {},
   "outputs": [],
   "source": [
    "X_train_minority_class=np.array(X_train_minority[0])"
   ]
  },
  {
   "cell_type": "code",
   "execution_count": 19,
   "id": "6be6c248-66c7-4d11-8899-fc5adf12b2ae",
   "metadata": {},
   "outputs": [
    {
     "data": {
      "text/plain": [
       "(344, 8)"
      ]
     },
     "execution_count": 19,
     "metadata": {},
     "output_type": "execute_result"
    }
   ],
   "source": [
    "X_train_minority_class.shape"
   ]
  },
  {
   "cell_type": "code",
   "execution_count": 20,
   "id": "2e70af42-2594-4577-9793-ad199fd66f71",
   "metadata": {},
   "outputs": [],
   "source": [
    "X_train_majority=[]\n",
    "for i in np.where(y_train==0):\n",
    "    a=X_train[i]\n",
    "    X_train_majority.append(a)"
   ]
  },
  {
   "cell_type": "code",
   "execution_count": 21,
   "id": "5def2c1e-e051-4d1c-b3f2-7790649de3f5",
   "metadata": {},
   "outputs": [],
   "source": [
    "X_train_majority_class=np.array(X_train_majority[0])"
   ]
  },
  {
   "cell_type": "code",
   "execution_count": 22,
   "id": "5efcdcc9-6772-4f54-b377-9decb11906ef",
   "metadata": {},
   "outputs": [
    {
     "data": {
      "text/plain": [
       "(844, 8)"
      ]
     },
     "execution_count": 22,
     "metadata": {},
     "output_type": "execute_result"
    }
   ],
   "source": [
    "X_train_majority_class.shape"
   ]
  },
  {
   "cell_type": "markdown",
   "id": "e4dbbdc8-6103-4ce0-ae2e-31eb6fb83802",
   "metadata": {},
   "source": [
    "### Kernel Density Functon:"
   ]
  },
  {
   "cell_type": "code",
   "execution_count": 24,
   "id": "e74cb08f-6706-4224-bff8-66bbbb3d026a",
   "metadata": {},
   "outputs": [],
   "source": [
    "def k(H,x,d):\n",
    "  H_inv = np.linalg.inv(H)\n",
    "  x_tras=np.matrix.transpose(x)\n",
    "  h= np.linalg.det(H)\n",
    "  m=np.matmul(x_tras,H_inv)\n",
    "  m1=np.matmul(m,x)\n",
    "  e=np.exp(-0.5*m1)\n",
    "  n=2*(np.pi)**(-d/2)\n",
    "  v=n*(h)**(-1/2)*(e)\n",
    "  return v"
   ]
  },
  {
   "cell_type": "code",
   "execution_count": 25,
   "id": "34942e44-4f3f-4f23-9b20-a275c2b0d2b2",
   "metadata": {},
   "outputs": [],
   "source": [
    "def density_gen(X, X_minority):\n",
    "    density_list=[]\n",
    "    for j in range(len(X)):\n",
    "        s=0\n",
    "        for i in range(len(X_minority)):\n",
    "            xi=X_minority[i]\n",
    "            dif=X[j]-xi\n",
    "            s=s+k(np.identity(X_minority.shape[1]), dif, X_minority.shape[1])\n",
    "        density_list.append(s/len(X_minority))\n",
    "    return np.array(density_list)"
   ]
  },
  {
   "cell_type": "code",
   "execution_count": 26,
   "id": "e660fa00-f2c8-41d4-ae5a-5b8cd9a7004c",
   "metadata": {},
   "outputs": [],
   "source": [
    "unique_labels,counts=np.unique(y_train, return_counts=True)"
   ]
  },
  {
   "cell_type": "code",
   "execution_count": 27,
   "id": "ac77f0f1-158c-47a9-a890-a56354a63227",
   "metadata": {},
   "outputs": [],
   "source": [
    "def metropolis_hastings(target_density, X_minority, size=100):\n",
    "    np.random.seed(43)\n",
    "    burnin_size = 10000\n",
    "    size += burnin_size\n",
    "    x0 =X_minority[np.random.choice(list(range(len(X_train_minority_class))),1)]\n",
    "    xt = x0\n",
    "    samples = []\n",
    "    for i in tqdm(range(size)):\n",
    "        xt_candidate = np.array([np.random.multivariate_normal(xt[0], 0.2*np.eye(X_minority.shape[1]))])\n",
    "        accept_odds = (target_density(xt_candidate,X_minority))/(target_density(xt,X_minority))\n",
    "        if np.random.uniform(0, 1) < accept_odds:\n",
    "            xt = xt_candidate\n",
    "        samples.append(xt)\n",
    "    samples = np.array(samples[burnin_size:])\n",
    "    samples = np.reshape(samples, [samples.shape[0], X_minority.shape[1]])\n",
    "    return samples"
   ]
  },
  {
   "cell_type": "code",
   "execution_count": 28,
   "id": "06cd6050-802e-4a6c-8c0e-5c4ce7d96097",
   "metadata": {},
   "outputs": [],
   "source": [
    "import smote_variants as sv\n",
    "\n",
    "oversampler_SMOTE=sv.SMOTE()\n",
    "oversampler_polynome_fit = sv.polynom_fit_SMOTE_star()\n",
    "oversampler_ProWSyn= sv.ProWSyn()\n",
    "oversampler_SMOTE_IPF= sv.SMOTE_IPF()\n",
    "oversampler_Lee= sv.Lee()\n"
   ]
  },
  {
   "cell_type": "code",
   "execution_count": 29,
   "id": "660c96a3-12e7-4e39-a384-3903ba39d597",
   "metadata": {},
   "outputs": [],
   "source": [
    "oversampler_object_list = [oversampler_SMOTE,oversampler_polynome_fit,oversampler_ProWSyn, oversampler_Lee, metropolis_hastings]"
   ]
  },
  {
   "cell_type": "code",
   "execution_count": 30,
   "id": "048a3654-996d-452e-9169-8d4ee149342f",
   "metadata": {},
   "outputs": [],
   "source": [
    "oversampler_name_list = ['SMOTE','polynome_fit_SMOTE','ProWSyn', 'Lee', 'Metropolis_hastings']"
   ]
  },
  {
   "cell_type": "code",
   "execution_count": 31,
   "id": "7c5c91c1-a591-4f19-838d-ac6b2effe130",
   "metadata": {},
   "outputs": [],
   "source": [
    "def get_imb_oversampling(X_train,y_train,X_test,y_test,oversampler_index,classifier,visualize=True):\n",
    "  ## MH is in the end of the list oversampler_object_list\n",
    "  if oversampler_index!=len(oversampler_object_list)-1:\n",
    "    X_samp, y_samp = oversampler_object_list[oversampler_index].sample(X_train, y_train)\n",
    "\n",
    "  else:\n",
    "    X_train_minority=[]\n",
    "    for i in np.where(y_train==1):\n",
    "      a=X_train[i]\n",
    "      X_train_minority.append(a)\n",
    "\n",
    "    X_train_majority=[]\n",
    "    for i in np.where(y_train==0):\n",
    "      a=X_train[i]\n",
    "      X_train_majority.append(a)\n",
    "    X_train_minority_class=np.array(X_train_minority[0])\n",
    "    X_train_majority_class=np.array(X_train_majority[0])\n",
    "\n",
    "    unique_labels,counts=np.unique(y_train, return_counts=True)\n",
    "\n",
    "    synthetic_minority_data = metropolis_hastings(density_gen, X_train_minority_class, size=counts[0]-counts[1])\n",
    "    balanced_minority=np.concatenate([X_train_minority_class, synthetic_minority_data])\n",
    "    balanced_data=np.concatenate([X_train_majority_class,balanced_minority])\n",
    "    balanced_labels_for_classification=np.concatenate([np.zeros(len(X_train_majority_class)),np.ones(len(balanced_minority))])\n",
    "    X_samp=balanced_data\n",
    "    y_samp=balanced_labels_for_classification\n",
    "\n",
    "  classifier.fit(X_samp,y_samp)\n",
    "  y_pred=classifier.predict(X_test)\n",
    "  cm=confusion_matrix(y_test, y_pred)\n",
    "  acc=accuracy_score(y_test, y_pred)\n",
    "  b_acc=balanced_accuracy_score(y_test, y_pred)\n",
    "  gm=geometric_mean_score(y_test, y_pred,average='micro')\n",
    "  f1=f1_score(y_test, y_pred,average='micro')\n",
    "  ck=cohen_kappa_score(y_test, y_pred)\n",
    "\n",
    "  if visualize==True:\n",
    "    scaler = StandardScaler()\n",
    "    scaler.fit(X_samp)\n",
    "    scaled_X_samp = scaler.transform(X_samp)\n",
    "    pca = PCA(n_components =2)\n",
    "    X_samp_pca=pca.fit_transform(scaled_X_samp)\n",
    "\n",
    "    plt.figure(figsize=(8,6))\n",
    "    color=[\"r\",\"b\"]\n",
    "    color_counter=0\n",
    "    for i in [-1,1]:\n",
    "      plt.scatter(X_samp_pca[:,0][np.where(y_samp==i)],X_samp_pca[:,1][np.where(y_samp==i)], s=10, c=color[color_counter])\n",
    "      color_counter=color_counter+1\n",
    "    plt.legend(['Majority','Manority'],fontsize=10, loc='lower right')\n",
    "    plt.xlabel(\"Principal Component 1\",fontsize=12)\n",
    "    plt.ylabel(\"Principlal Component 2 \",fontsize=12)\n",
    "    plt.title(\"PCA plot of majority class + minority class using\"+\"\"+ oversampler_name_list[oversampler_index]+\"technique\",fontsize=14)\n",
    "\n",
    "\n",
    "  return [cm, acc,b_acc,gm, f1, ck]"
   ]
  },
  {
   "cell_type": "code",
   "execution_count": 32,
   "id": "ed74120b-0f93-447e-ad41-7e7e7b1ef673",
   "metadata": {},
   "outputs": [],
   "source": [
    "def calc_avg_performance(performance_index,results_all_folds):\n",
    "  ## performance index takes the index of the performance measure foe which we want to average over folds\n",
    "  ## results_all_folds are the results of a particular oversampler run over all folds recording all performance measures\n",
    "  s=0\n",
    "  for result in results_all_folds:\n",
    "    s=s+result[performance_index]\n",
    "  avg=s/len(results_all_folds)\n",
    "\n",
    "  s=0\n",
    "  for result in results_all_folds:\n",
    "    s=s+(result[performance_index]-avg)**2\n",
    "  std=np.sqrt(s/len(results_all_folds))\n",
    "  return avg, std"
   ]
  },
  {
   "cell_type": "code",
   "execution_count": 33,
   "id": "ad6b7d46-229b-4a2f-a53d-a682da7c5d22",
   "metadata": {},
   "outputs": [],
   "source": [
    "clf = DecisionTreeClassifier(random_state=0)"
   ]
  },
  {
   "cell_type": "code",
   "execution_count": 34,
   "id": "483ccdd8-3fdc-4869-8d42-22a0aa065871",
   "metadata": {},
   "outputs": [],
   "source": [
    "perfromance_measures=['accuracy','balanced accuracy','g-mean','f1-score','cohen_kappa']\n",
    "def get_results_all_folds(oversampler_index,classifier, visualize=False, get_detailed_results=False):\n",
    "\n",
    "  results_all_folds=[]\n",
    "  for i in range(len(all_data_folds_list)):\n",
    "    X_train,X_test=all_data_folds_list[i][0],all_data_folds_list[i][1]\n",
    "    y_train,y_test=all_labels_folds_list[i][0],all_labels_folds_list[i][1]\n",
    "    results_single_fold=get_imb_oversampling(X_train,y_train,X_test,y_test,oversampler_index,clf,visualize=visualize)\n",
    "    results_all_folds.append(results_single_fold)\n",
    "\n",
    "  performance_summary_oversampler_classifer={}\n",
    "  for performance_index in range(1,6):\n",
    "    avg_std=calc_avg_performance(performance_index,results_all_folds)\n",
    "    performance_summary_oversampler_classifer[perfromance_measures[performance_index-1]]=avg_std\n",
    "\n",
    "  if get_detailed_results==True:\n",
    "    return results_all_folds, performance_summary_oversampler_classifer\n",
    "  else:\n",
    "    return performance_summary_oversampler_classifer"
   ]
  },
  {
   "cell_type": "code",
   "execution_count": 35,
   "id": "728f239c-7616-4021-ab63-5a2e2e4c718f",
   "metadata": {},
   "outputs": [
    {
     "name": "stderr",
     "output_type": "stream",
     "text": [
      "2024-08-22 10:36:23,144:INFO:SMOTE: Running sampling via ('SMOTE', \"{'proportion': 1.0, 'n_neighbors': 5, 'nn_params': {}, 'n_jobs': 1, 'ss_params': {'n_dim': 2, 'simplex_sampling': 'random', 'within_simplex_sampling': 'random', 'gaussian_component': {}}, 'random_state': None, 'class_name': 'SMOTE'}\")\n",
      "2024-08-22 10:36:23,146:INFO:NearestNeighborsWithMetricTensor: NN fitting with metric minkowski\n",
      "2024-08-22 10:36:23,148:INFO:NearestNeighborsWithMetricTensor: kneighbors query minkowski\n",
      "2024-08-22 10:36:23,150:INFO:SMOTE: simplex sampling with n_dim 2\n",
      "2024-08-22 10:36:23,167:INFO:SMOTE: Running sampling via ('SMOTE', \"{'proportion': 1.0, 'n_neighbors': 5, 'nn_params': {}, 'n_jobs': 1, 'ss_params': {'n_dim': 2, 'simplex_sampling': 'random', 'within_simplex_sampling': 'random', 'gaussian_component': {}}, 'random_state': None, 'class_name': 'SMOTE'}\")\n",
      "2024-08-22 10:36:23,167:INFO:NearestNeighborsWithMetricTensor: NN fitting with metric minkowski\n",
      "2024-08-22 10:36:23,167:INFO:NearestNeighborsWithMetricTensor: kneighbors query minkowski\n",
      "2024-08-22 10:36:23,180:INFO:SMOTE: simplex sampling with n_dim 2\n",
      "2024-08-22 10:36:23,184:INFO:SMOTE: Running sampling via ('SMOTE', \"{'proportion': 1.0, 'n_neighbors': 5, 'nn_params': {}, 'n_jobs': 1, 'ss_params': {'n_dim': 2, 'simplex_sampling': 'random', 'within_simplex_sampling': 'random', 'gaussian_component': {}}, 'random_state': None, 'class_name': 'SMOTE'}\")\n",
      "2024-08-22 10:36:23,184:INFO:NearestNeighborsWithMetricTensor: NN fitting with metric minkowski\n",
      "2024-08-22 10:36:23,194:INFO:NearestNeighborsWithMetricTensor: kneighbors query minkowski\n",
      "2024-08-22 10:36:23,196:INFO:SMOTE: simplex sampling with n_dim 2\n",
      "2024-08-22 10:36:23,211:INFO:SMOTE: Running sampling via ('SMOTE', \"{'proportion': 1.0, 'n_neighbors': 5, 'nn_params': {}, 'n_jobs': 1, 'ss_params': {'n_dim': 2, 'simplex_sampling': 'random', 'within_simplex_sampling': 'random', 'gaussian_component': {}}, 'random_state': None, 'class_name': 'SMOTE'}\")\n",
      "2024-08-22 10:36:23,212:INFO:NearestNeighborsWithMetricTensor: NN fitting with metric minkowski\n",
      "2024-08-22 10:36:23,213:INFO:NearestNeighborsWithMetricTensor: kneighbors query minkowski\n",
      "2024-08-22 10:36:23,215:INFO:SMOTE: simplex sampling with n_dim 2\n",
      "2024-08-22 10:36:23,235:INFO:SMOTE: Running sampling via ('SMOTE', \"{'proportion': 1.0, 'n_neighbors': 5, 'nn_params': {}, 'n_jobs': 1, 'ss_params': {'n_dim': 2, 'simplex_sampling': 'random', 'within_simplex_sampling': 'random', 'gaussian_component': {}}, 'random_state': None, 'class_name': 'SMOTE'}\")\n",
      "2024-08-22 10:36:23,236:INFO:NearestNeighborsWithMetricTensor: NN fitting with metric minkowski\n",
      "2024-08-22 10:36:23,236:INFO:NearestNeighborsWithMetricTensor: kneighbors query minkowski\n",
      "2024-08-22 10:36:23,236:INFO:SMOTE: simplex sampling with n_dim 2\n"
     ]
    },
    {
     "data": {
      "text/plain": [
       "{'accuracy': (0.6839909909909909, 0.019997597453291837),\n",
       " 'balanced accuracy': (0.6394484520634182, 0.024507883259942354),\n",
       " 'g-mean': (0.6839909909909909, 0.019997597453291837),\n",
       " 'f1-score': (0.6839909909909909, 0.019997597453291837),\n",
       " 'cohen_kappa': (0.2661909135948061, 0.04923675271858221)}"
      ]
     },
     "execution_count": 35,
     "metadata": {},
     "output_type": "execute_result"
    }
   ],
   "source": [
    "get_results_all_folds(0,clf)"
   ]
  },
  {
   "cell_type": "code",
   "execution_count": 36,
   "id": "6cece8f5-0651-4b08-90aa-276b3b1de648",
   "metadata": {},
   "outputs": [
    {
     "name": "stderr",
     "output_type": "stream",
     "text": [
      "2024-08-22 10:36:23,270:INFO:SMOTE: Running sampling via ('SMOTE', \"{'proportion': 1.0, 'n_neighbors': 5, 'nn_params': {}, 'n_jobs': 1, 'ss_params': {'n_dim': 2, 'simplex_sampling': 'random', 'within_simplex_sampling': 'random', 'gaussian_component': {}}, 'random_state': None, 'class_name': 'SMOTE'}\")\n",
      "2024-08-22 10:36:23,272:INFO:NearestNeighborsWithMetricTensor: NN fitting with metric minkowski\n",
      "2024-08-22 10:36:23,273:INFO:NearestNeighborsWithMetricTensor: kneighbors query minkowski\n",
      "2024-08-22 10:36:23,278:INFO:SMOTE: simplex sampling with n_dim 2\n",
      "2024-08-22 10:36:23,299:INFO:SMOTE: Running sampling via ('SMOTE', \"{'proportion': 1.0, 'n_neighbors': 5, 'nn_params': {}, 'n_jobs': 1, 'ss_params': {'n_dim': 2, 'simplex_sampling': 'random', 'within_simplex_sampling': 'random', 'gaussian_component': {}}, 'random_state': None, 'class_name': 'SMOTE'}\")\n",
      "2024-08-22 10:36:23,301:INFO:NearestNeighborsWithMetricTensor: NN fitting with metric minkowski\n",
      "2024-08-22 10:36:23,303:INFO:NearestNeighborsWithMetricTensor: kneighbors query minkowski\n",
      "2024-08-22 10:36:23,306:INFO:SMOTE: simplex sampling with n_dim 2\n",
      "2024-08-22 10:36:23,324:INFO:SMOTE: Running sampling via ('SMOTE', \"{'proportion': 1.0, 'n_neighbors': 5, 'nn_params': {}, 'n_jobs': 1, 'ss_params': {'n_dim': 2, 'simplex_sampling': 'random', 'within_simplex_sampling': 'random', 'gaussian_component': {}}, 'random_state': None, 'class_name': 'SMOTE'}\")\n",
      "2024-08-22 10:36:23,326:INFO:NearestNeighborsWithMetricTensor: NN fitting with metric minkowski\n",
      "2024-08-22 10:36:23,330:INFO:NearestNeighborsWithMetricTensor: kneighbors query minkowski\n",
      "2024-08-22 10:36:23,333:INFO:SMOTE: simplex sampling with n_dim 2\n",
      "2024-08-22 10:36:23,350:INFO:SMOTE: Running sampling via ('SMOTE', \"{'proportion': 1.0, 'n_neighbors': 5, 'nn_params': {}, 'n_jobs': 1, 'ss_params': {'n_dim': 2, 'simplex_sampling': 'random', 'within_simplex_sampling': 'random', 'gaussian_component': {}}, 'random_state': None, 'class_name': 'SMOTE'}\")\n",
      "2024-08-22 10:36:23,351:INFO:NearestNeighborsWithMetricTensor: NN fitting with metric minkowski\n",
      "2024-08-22 10:36:23,353:INFO:NearestNeighborsWithMetricTensor: kneighbors query minkowski\n",
      "2024-08-22 10:36:23,353:INFO:SMOTE: simplex sampling with n_dim 2\n",
      "2024-08-22 10:36:23,369:INFO:SMOTE: Running sampling via ('SMOTE', \"{'proportion': 1.0, 'n_neighbors': 5, 'nn_params': {}, 'n_jobs': 1, 'ss_params': {'n_dim': 2, 'simplex_sampling': 'random', 'within_simplex_sampling': 'random', 'gaussian_component': {}}, 'random_state': None, 'class_name': 'SMOTE'}\")\n",
      "2024-08-22 10:36:23,369:INFO:NearestNeighborsWithMetricTensor: NN fitting with metric minkowski\n",
      "2024-08-22 10:36:23,369:INFO:NearestNeighborsWithMetricTensor: kneighbors query minkowski\n",
      "2024-08-22 10:36:23,381:INFO:SMOTE: simplex sampling with n_dim 2\n",
      "2024-08-22 10:36:23,394:INFO:polynom_fit_SMOTE_star: Running sampling via ('polynom_fit_SMOTE_star', \"{'proportion': 1.0, 'topology': 'star', 'random_state': None, 'class_name': 'polynom_fit_SMOTE_star'}\")\n",
      "2024-08-22 10:36:23,395:INFO:polynom_fit_SMOTE: Running sampling via ('polynom_fit_SMOTE', \"{'proportion': 1.0, 'topology': 'star', 'random_state': None, 'class_name': 'polynom_fit_SMOTE'}\")\n",
      "2024-08-22 10:36:23,401:INFO:polynom_fit_SMOTE_star: Running sampling via ('polynom_fit_SMOTE_star', \"{'proportion': 1.0, 'topology': 'star', 'random_state': None, 'class_name': 'polynom_fit_SMOTE_star'}\")\n",
      "2024-08-22 10:36:23,401:INFO:polynom_fit_SMOTE: Running sampling via ('polynom_fit_SMOTE', \"{'proportion': 1.0, 'topology': 'star', 'random_state': None, 'class_name': 'polynom_fit_SMOTE'}\")\n",
      "2024-08-22 10:36:23,419:INFO:polynom_fit_SMOTE_star: Running sampling via ('polynom_fit_SMOTE_star', \"{'proportion': 1.0, 'topology': 'star', 'random_state': None, 'class_name': 'polynom_fit_SMOTE_star'}\")\n",
      "2024-08-22 10:36:23,419:INFO:polynom_fit_SMOTE: Running sampling via ('polynom_fit_SMOTE', \"{'proportion': 1.0, 'topology': 'star', 'random_state': None, 'class_name': 'polynom_fit_SMOTE'}\")\n",
      "2024-08-22 10:36:23,435:INFO:polynom_fit_SMOTE_star: Running sampling via ('polynom_fit_SMOTE_star', \"{'proportion': 1.0, 'topology': 'star', 'random_state': None, 'class_name': 'polynom_fit_SMOTE_star'}\")\n",
      "2024-08-22 10:36:23,435:INFO:polynom_fit_SMOTE: Running sampling via ('polynom_fit_SMOTE', \"{'proportion': 1.0, 'topology': 'star', 'random_state': None, 'class_name': 'polynom_fit_SMOTE'}\")\n",
      "2024-08-22 10:36:23,450:INFO:polynom_fit_SMOTE_star: Running sampling via ('polynom_fit_SMOTE_star', \"{'proportion': 1.0, 'topology': 'star', 'random_state': None, 'class_name': 'polynom_fit_SMOTE_star'}\")\n",
      "2024-08-22 10:36:23,451:INFO:polynom_fit_SMOTE: Running sampling via ('polynom_fit_SMOTE', \"{'proportion': 1.0, 'topology': 'star', 'random_state': None, 'class_name': 'polynom_fit_SMOTE'}\")\n",
      "2024-08-22 10:36:23,462:INFO:ProWSyn: Running sampling via ('ProWSyn', \"{'proportion': 1.0, 'n_neighbors': 5, 'nn_params': {}, 'L': 5, 'theta': 1.0, 'n_jobs': 1, 'ss_params': {'n_dim': 2, 'simplex_sampling': 'random', 'within_simplex_sampling': 'random', 'gaussian_component': {}}, 'random_state': None, 'class_name': 'ProWSyn'}\")\n",
      "2024-08-22 10:36:23,463:INFO:NearestNeighborsWithMetricTensor: NN fitting with metric minkowski\n",
      "2024-08-22 10:36:23,465:INFO:NearestNeighborsWithMetricTensor: kneighbors query minkowski\n",
      "2024-08-22 10:36:23,469:INFO:NearestNeighborsWithMetricTensor: NN fitting with metric minkowski\n",
      "2024-08-22 10:36:23,469:INFO:NearestNeighborsWithMetricTensor: kneighbors query minkowski\n",
      "2024-08-22 10:36:23,477:INFO:ProWSyn: simplex sampling with n_dim 2\n",
      "2024-08-22 10:36:23,563:INFO:ProWSyn: simplex sampling with n_dim 2\n",
      "2024-08-22 10:36:23,578:INFO:ProWSyn: Running sampling via ('ProWSyn', \"{'proportion': 1.0, 'n_neighbors': 5, 'nn_params': {}, 'L': 5, 'theta': 1.0, 'n_jobs': 1, 'ss_params': {'n_dim': 2, 'simplex_sampling': 'random', 'within_simplex_sampling': 'random', 'gaussian_component': {}}, 'random_state': None, 'class_name': 'ProWSyn'}\")\n",
      "2024-08-22 10:36:23,578:INFO:NearestNeighborsWithMetricTensor: NN fitting with metric minkowski\n",
      "2024-08-22 10:36:23,578:INFO:NearestNeighborsWithMetricTensor: kneighbors query minkowski\n",
      "2024-08-22 10:36:23,595:INFO:NearestNeighborsWithMetricTensor: NN fitting with metric minkowski\n",
      "2024-08-22 10:36:23,595:INFO:NearestNeighborsWithMetricTensor: kneighbors query minkowski\n",
      "2024-08-22 10:36:23,595:INFO:ProWSyn: simplex sampling with n_dim 2\n",
      "2024-08-22 10:36:23,694:INFO:ProWSyn: simplex sampling with n_dim 2\n",
      "2024-08-22 10:36:23,712:INFO:ProWSyn: Running sampling via ('ProWSyn', \"{'proportion': 1.0, 'n_neighbors': 5, 'nn_params': {}, 'L': 5, 'theta': 1.0, 'n_jobs': 1, 'ss_params': {'n_dim': 2, 'simplex_sampling': 'random', 'within_simplex_sampling': 'random', 'gaussian_component': {}}, 'random_state': None, 'class_name': 'ProWSyn'}\")\n",
      "2024-08-22 10:36:23,713:INFO:NearestNeighborsWithMetricTensor: NN fitting with metric minkowski\n",
      "2024-08-22 10:36:23,715:INFO:NearestNeighborsWithMetricTensor: kneighbors query minkowski\n",
      "2024-08-22 10:36:23,718:INFO:NearestNeighborsWithMetricTensor: NN fitting with metric minkowski\n",
      "2024-08-22 10:36:23,718:INFO:NearestNeighborsWithMetricTensor: kneighbors query minkowski\n",
      "2024-08-22 10:36:23,718:INFO:ProWSyn: simplex sampling with n_dim 2\n",
      "2024-08-22 10:36:23,792:INFO:ProWSyn: simplex sampling with n_dim 2\n",
      "2024-08-22 10:36:23,795:INFO:ProWSyn: Running sampling via ('ProWSyn', \"{'proportion': 1.0, 'n_neighbors': 5, 'nn_params': {}, 'L': 5, 'theta': 1.0, 'n_jobs': 1, 'ss_params': {'n_dim': 2, 'simplex_sampling': 'random', 'within_simplex_sampling': 'random', 'gaussian_component': {}}, 'random_state': None, 'class_name': 'ProWSyn'}\")\n",
      "2024-08-22 10:36:23,795:INFO:NearestNeighborsWithMetricTensor: NN fitting with metric minkowski\n",
      "2024-08-22 10:36:23,811:INFO:NearestNeighborsWithMetricTensor: kneighbors query minkowski\n",
      "2024-08-22 10:36:23,816:INFO:NearestNeighborsWithMetricTensor: NN fitting with metric minkowski\n",
      "2024-08-22 10:36:23,817:INFO:NearestNeighborsWithMetricTensor: kneighbors query minkowski\n",
      "2024-08-22 10:36:23,820:INFO:NearestNeighborsWithMetricTensor: NN fitting with metric minkowski\n",
      "2024-08-22 10:36:23,821:INFO:NearestNeighborsWithMetricTensor: kneighbors query minkowski\n",
      "2024-08-22 10:36:24,034:INFO:ProWSyn: simplex sampling with n_dim 2\n",
      "2024-08-22 10:36:24,076:INFO:ProWSyn: simplex sampling with n_dim 2\n",
      "2024-08-22 10:36:24,079:INFO:ProWSyn: simplex sampling with n_dim 2\n",
      "2024-08-22 10:36:24,096:INFO:ProWSyn: Running sampling via ('ProWSyn', \"{'proportion': 1.0, 'n_neighbors': 5, 'nn_params': {}, 'L': 5, 'theta': 1.0, 'n_jobs': 1, 'ss_params': {'n_dim': 2, 'simplex_sampling': 'random', 'within_simplex_sampling': 'random', 'gaussian_component': {}}, 'random_state': None, 'class_name': 'ProWSyn'}\")\n",
      "2024-08-22 10:36:24,099:INFO:NearestNeighborsWithMetricTensor: NN fitting with metric minkowski\n",
      "2024-08-22 10:36:24,100:INFO:NearestNeighborsWithMetricTensor: kneighbors query minkowski\n",
      "2024-08-22 10:36:24,105:INFO:NearestNeighborsWithMetricTensor: NN fitting with metric minkowski\n",
      "2024-08-22 10:36:24,105:INFO:NearestNeighborsWithMetricTensor: kneighbors query minkowski\n",
      "2024-08-22 10:36:24,112:INFO:ProWSyn: simplex sampling with n_dim 2\n",
      "2024-08-22 10:36:24,170:INFO:ProWSyn: simplex sampling with n_dim 2\n",
      "2024-08-22 10:36:24,180:INFO:Lee: Running sampling via ('Lee', \"{'proportion': 1.0, 'n_neighbors': 5, 'nn_params': {}, 'rejection_level': 0.5, 'n_jobs': 1, 'ss_params': {'n_dim': 2, 'simplex_sampling': 'random', 'within_simplex_sampling': 'random', 'gaussian_component': {}}, 'random_state': None, 'class_name': 'Lee'}\")\n",
      "2024-08-22 10:36:24,180:INFO:NearestNeighborsWithMetricTensor: NN fitting with metric minkowski\n",
      "2024-08-22 10:36:24,180:INFO:NearestNeighborsWithMetricTensor: NN fitting with metric minkowski\n",
      "2024-08-22 10:36:24,180:INFO:NearestNeighborsWithMetricTensor: kneighbors query minkowski\n",
      "2024-08-22 10:36:24,180:INFO:Lee: simplex sampling with n_dim 2\n",
      "2024-08-22 10:36:24,193:INFO:NearestNeighborsWithMetricTensor: kneighbors query minkowski\n",
      "2024-08-22 10:36:24,200:INFO:Lee: simplex sampling with n_dim 2\n",
      "2024-08-22 10:36:24,201:INFO:NearestNeighborsWithMetricTensor: kneighbors query minkowski\n",
      "2024-08-22 10:36:24,201:INFO:Lee: simplex sampling with n_dim 2\n",
      "2024-08-22 10:36:24,201:INFO:NearestNeighborsWithMetricTensor: kneighbors query minkowski\n",
      "2024-08-22 10:36:24,212:INFO:Lee: simplex sampling with n_dim 2\n",
      "2024-08-22 10:36:24,213:INFO:NearestNeighborsWithMetricTensor: kneighbors query minkowski\n",
      "2024-08-22 10:36:24,215:INFO:Lee: simplex sampling with n_dim 2\n",
      "2024-08-22 10:36:24,216:INFO:NearestNeighborsWithMetricTensor: kneighbors query minkowski\n",
      "2024-08-22 10:36:24,230:INFO:Lee: Running sampling via ('Lee', \"{'proportion': 1.0, 'n_neighbors': 5, 'nn_params': {}, 'rejection_level': 0.5, 'n_jobs': 1, 'ss_params': {'n_dim': 2, 'simplex_sampling': 'random', 'within_simplex_sampling': 'random', 'gaussian_component': {}}, 'random_state': None, 'class_name': 'Lee'}\")\n",
      "2024-08-22 10:36:24,231:INFO:NearestNeighborsWithMetricTensor: NN fitting with metric minkowski\n",
      "2024-08-22 10:36:24,233:INFO:NearestNeighborsWithMetricTensor: NN fitting with metric minkowski\n",
      "2024-08-22 10:36:24,234:INFO:NearestNeighborsWithMetricTensor: kneighbors query minkowski\n",
      "2024-08-22 10:36:24,237:INFO:Lee: simplex sampling with n_dim 2\n",
      "2024-08-22 10:36:24,238:INFO:NearestNeighborsWithMetricTensor: kneighbors query minkowski\n",
      "2024-08-22 10:36:24,246:INFO:Lee: simplex sampling with n_dim 2\n",
      "2024-08-22 10:36:24,249:INFO:NearestNeighborsWithMetricTensor: kneighbors query minkowski\n",
      "2024-08-22 10:36:24,252:INFO:Lee: simplex sampling with n_dim 2\n",
      "2024-08-22 10:36:24,253:INFO:NearestNeighborsWithMetricTensor: kneighbors query minkowski\n",
      "2024-08-22 10:36:24,255:INFO:Lee: simplex sampling with n_dim 2\n",
      "2024-08-22 10:36:24,256:INFO:NearestNeighborsWithMetricTensor: kneighbors query minkowski\n",
      "2024-08-22 10:36:24,264:INFO:Lee: Running sampling via ('Lee', \"{'proportion': 1.0, 'n_neighbors': 5, 'nn_params': {}, 'rejection_level': 0.5, 'n_jobs': 1, 'ss_params': {'n_dim': 2, 'simplex_sampling': 'random', 'within_simplex_sampling': 'random', 'gaussian_component': {}}, 'random_state': None, 'class_name': 'Lee'}\")\n",
      "2024-08-22 10:36:24,264:INFO:NearestNeighborsWithMetricTensor: NN fitting with metric minkowski\n",
      "2024-08-22 10:36:24,277:INFO:NearestNeighborsWithMetricTensor: NN fitting with metric minkowski\n",
      "2024-08-22 10:36:24,279:INFO:NearestNeighborsWithMetricTensor: kneighbors query minkowski\n",
      "2024-08-22 10:36:24,281:INFO:Lee: simplex sampling with n_dim 2\n",
      "2024-08-22 10:36:24,283:INFO:NearestNeighborsWithMetricTensor: kneighbors query minkowski\n",
      "2024-08-22 10:36:24,283:INFO:Lee: simplex sampling with n_dim 2\n",
      "2024-08-22 10:36:24,283:INFO:NearestNeighborsWithMetricTensor: kneighbors query minkowski\n",
      "2024-08-22 10:36:24,295:INFO:Lee: simplex sampling with n_dim 2\n",
      "2024-08-22 10:36:24,296:INFO:NearestNeighborsWithMetricTensor: kneighbors query minkowski\n",
      "2024-08-22 10:36:24,298:INFO:Lee: simplex sampling with n_dim 2\n",
      "2024-08-22 10:36:24,298:INFO:NearestNeighborsWithMetricTensor: kneighbors query minkowski\n",
      "2024-08-22 10:36:24,298:INFO:Lee: simplex sampling with n_dim 2\n",
      "2024-08-22 10:36:24,298:INFO:NearestNeighborsWithMetricTensor: kneighbors query minkowski\n",
      "2024-08-22 10:36:24,319:INFO:Lee: Running sampling via ('Lee', \"{'proportion': 1.0, 'n_neighbors': 5, 'nn_params': {}, 'rejection_level': 0.5, 'n_jobs': 1, 'ss_params': {'n_dim': 2, 'simplex_sampling': 'random', 'within_simplex_sampling': 'random', 'gaussian_component': {}}, 'random_state': None, 'class_name': 'Lee'}\")\n",
      "2024-08-22 10:36:24,319:INFO:NearestNeighborsWithMetricTensor: NN fitting with metric minkowski\n",
      "2024-08-22 10:36:24,319:INFO:NearestNeighborsWithMetricTensor: NN fitting with metric minkowski\n",
      "2024-08-22 10:36:24,319:INFO:NearestNeighborsWithMetricTensor: kneighbors query minkowski\n",
      "2024-08-22 10:36:24,328:INFO:Lee: simplex sampling with n_dim 2\n",
      "2024-08-22 10:36:24,330:INFO:NearestNeighborsWithMetricTensor: kneighbors query minkowski\n",
      "2024-08-22 10:36:24,337:INFO:Lee: simplex sampling with n_dim 2\n",
      "2024-08-22 10:36:24,339:INFO:NearestNeighborsWithMetricTensor: kneighbors query minkowski\n",
      "2024-08-22 10:36:24,343:INFO:Lee: simplex sampling with n_dim 2\n",
      "2024-08-22 10:36:24,344:INFO:NearestNeighborsWithMetricTensor: kneighbors query minkowski\n",
      "2024-08-22 10:36:24,346:INFO:Lee: simplex sampling with n_dim 2\n",
      "2024-08-22 10:36:24,346:INFO:NearestNeighborsWithMetricTensor: kneighbors query minkowski\n",
      "2024-08-22 10:36:24,346:INFO:Lee: simplex sampling with n_dim 2\n",
      "2024-08-22 10:36:24,346:INFO:NearestNeighborsWithMetricTensor: kneighbors query minkowski\n",
      "2024-08-22 10:36:24,367:INFO:Lee: Running sampling via ('Lee', \"{'proportion': 1.0, 'n_neighbors': 5, 'nn_params': {}, 'rejection_level': 0.5, 'n_jobs': 1, 'ss_params': {'n_dim': 2, 'simplex_sampling': 'random', 'within_simplex_sampling': 'random', 'gaussian_component': {}}, 'random_state': None, 'class_name': 'Lee'}\")\n",
      "2024-08-22 10:36:24,368:INFO:NearestNeighborsWithMetricTensor: NN fitting with metric minkowski\n",
      "2024-08-22 10:36:24,368:INFO:NearestNeighborsWithMetricTensor: NN fitting with metric minkowski\n",
      "2024-08-22 10:36:24,368:INFO:NearestNeighborsWithMetricTensor: kneighbors query minkowski\n",
      "2024-08-22 10:36:24,378:INFO:Lee: simplex sampling with n_dim 2\n",
      "2024-08-22 10:36:24,380:INFO:NearestNeighborsWithMetricTensor: kneighbors query minkowski\n",
      "2024-08-22 10:36:24,386:INFO:Lee: simplex sampling with n_dim 2\n",
      "2024-08-22 10:36:24,387:INFO:NearestNeighborsWithMetricTensor: kneighbors query minkowski\n",
      "2024-08-22 10:36:24,389:INFO:Lee: simplex sampling with n_dim 2\n",
      "2024-08-22 10:36:24,390:INFO:NearestNeighborsWithMetricTensor: kneighbors query minkowski\n",
      "2024-08-22 10:36:24,391:INFO:Lee: simplex sampling with n_dim 2\n",
      "2024-08-22 10:36:24,393:INFO:NearestNeighborsWithMetricTensor: kneighbors query minkowski\n"
     ]
    },
    {
     "data": {
      "application/vnd.jupyter.widget-view+json": {
       "model_id": "607eabfffedf4ed38c40b6d9aa3092b3",
       "version_major": 2,
       "version_minor": 0
      },
      "text/plain": [
       "  0%|          | 0/10500 [00:00<?, ?it/s]"
      ]
     },
     "metadata": {},
     "output_type": "display_data"
    },
    {
     "data": {
      "application/vnd.jupyter.widget-view+json": {
       "model_id": "9d72362abdc146e1ae14742245110496",
       "version_major": 2,
       "version_minor": 0
      },
      "text/plain": [
       "  0%|          | 0/10494 [00:00<?, ?it/s]"
      ]
     },
     "metadata": {},
     "output_type": "display_data"
    },
    {
     "data": {
      "application/vnd.jupyter.widget-view+json": {
       "model_id": "fc239b18feae4e109792af9573906986",
       "version_major": 2,
       "version_minor": 0
      },
      "text/plain": [
       "  0%|          | 0/10512 [00:00<?, ?it/s]"
      ]
     },
     "metadata": {},
     "output_type": "display_data"
    },
    {
     "data": {
      "application/vnd.jupyter.widget-view+json": {
       "model_id": "1e1ef7a472d845b0addecd54cad85d8c",
       "version_major": 2,
       "version_minor": 0
      },
      "text/plain": [
       "  0%|          | 0/10510 [00:00<?, ?it/s]"
      ]
     },
     "metadata": {},
     "output_type": "display_data"
    },
    {
     "data": {
      "application/vnd.jupyter.widget-view+json": {
       "model_id": "63668b16656f433d844ec2c7f08a5c82",
       "version_major": 2,
       "version_minor": 0
      },
      "text/plain": [
       "  0%|          | 0/10488 [00:00<?, ?it/s]"
      ]
     },
     "metadata": {},
     "output_type": "display_data"
    }
   ],
   "source": [
    "summary_performace_for_all_oversampling_algorithms_all_folds=[]\n",
    "for i in range(len(oversampler_object_list)):\n",
    "  summary_performace_for_all_oversampling_algorithms_all_folds.append(get_results_all_folds(i,clf))"
   ]
  },
  {
   "cell_type": "code",
   "execution_count": 37,
   "id": "022f3891-a8d2-48b0-a69e-6b31f5dde94f",
   "metadata": {},
   "outputs": [],
   "source": [
    "summary_performace_for_all_oversampling_algorithms_all_folds_list=np.array([[[round(i,3) for i in summary_performace_for_all_oversampling_algorithms_all_folds[oversampler_index][key]] for key in summary_performace_for_all_oversampling_algorithms_all_folds[0].keys()] for oversampler_index in range(len(oversampler_name_list))])"
   ]
  },
  {
   "cell_type": "code",
   "execution_count": 38,
   "id": "207c3c65-8a8a-40dc-b703-0cbe90d847bb",
   "metadata": {},
   "outputs": [],
   "source": [
    "oversamplers_result_summary_list=[]\n",
    "for i in range(summary_performace_for_all_oversampling_algorithms_all_folds_list.shape[0]):\n",
    "  performance_results_summary_list=[]\n",
    "  for j in range(summary_performace_for_all_oversampling_algorithms_all_folds_list.shape[1]):\n",
    "    performance_results_summary_list.append(str(summary_performace_for_all_oversampling_algorithms_all_folds_list[i][j][0])+\"\\u00B1\"+str(summary_performace_for_all_oversampling_algorithms_all_folds_list[i][j][1]))\n",
    "  oversamplers_result_summary_list.append(performance_results_summary_list)\n",
    "oversamplers_result_summary_list=np.array(oversamplers_result_summary_list)"
   ]
  },
  {
   "cell_type": "code",
   "execution_count": 39,
   "id": "eebec35a-4af3-46a6-b405-40a7ddb00fe0",
   "metadata": {},
   "outputs": [
    {
     "data": {
      "text/plain": [
       "['0.708±0.016', '0.653±0.025', '0.708±0.016', '0.708±0.016', '0.301±0.051']"
      ]
     },
     "execution_count": 39,
     "metadata": {},
     "output_type": "execute_result"
    }
   ],
   "source": [
    "performance_results_summary_list"
   ]
  },
  {
   "cell_type": "code",
   "execution_count": 40,
   "id": "4c3c80df-124e-400f-8e19-463de17f43fd",
   "metadata": {},
   "outputs": [
    {
     "data": {
      "text/plain": [
       "array([['0.699±0.017', '0.656±0.015', '0.699±0.017', '0.699±0.017',\n",
       "        '0.299±0.035'],\n",
       "       ['0.704±0.027', '0.64±0.035', '0.704±0.027', '0.704±0.027',\n",
       "        '0.279±0.069'],\n",
       "       ['0.718±0.023', '0.679±0.031', '0.718±0.023', '0.718±0.023',\n",
       "        '0.342±0.056'],\n",
       "       ['0.703±0.029', '0.654±0.034', '0.703±0.029', '0.703±0.029',\n",
       "        '0.299±0.071'],\n",
       "       ['0.708±0.016', '0.653±0.025', '0.708±0.016', '0.708±0.016',\n",
       "        '0.301±0.051']], dtype='<U11')"
      ]
     },
     "execution_count": 40,
     "metadata": {},
     "output_type": "execute_result"
    }
   ],
   "source": [
    "oversamplers_result_summary_list"
   ]
  },
  {
   "cell_type": "code",
   "execution_count": 41,
   "id": "13d8e568-ab29-463c-9514-2ab373981add",
   "metadata": {},
   "outputs": [],
   "source": [
    "df=pd.DataFrame(oversamplers_result_summary_list,columns=perfromance_measures,index=oversampler_name_list)"
   ]
  },
  {
   "cell_type": "code",
   "execution_count": 42,
   "id": "7c91bed1-ac2c-43b8-bbba-76058bb6f772",
   "metadata": {},
   "outputs": [
    {
     "data": {
      "text/html": [
       "<div>\n",
       "<style scoped>\n",
       "    .dataframe tbody tr th:only-of-type {\n",
       "        vertical-align: middle;\n",
       "    }\n",
       "\n",
       "    .dataframe tbody tr th {\n",
       "        vertical-align: top;\n",
       "    }\n",
       "\n",
       "    .dataframe thead th {\n",
       "        text-align: right;\n",
       "    }\n",
       "</style>\n",
       "<table border=\"1\" class=\"dataframe\">\n",
       "  <thead>\n",
       "    <tr style=\"text-align: right;\">\n",
       "      <th></th>\n",
       "      <th>accuracy</th>\n",
       "      <th>balanced accuracy</th>\n",
       "      <th>g-mean</th>\n",
       "      <th>f1-score</th>\n",
       "      <th>cohen_kappa</th>\n",
       "    </tr>\n",
       "  </thead>\n",
       "  <tbody>\n",
       "    <tr>\n",
       "      <th>SMOTE</th>\n",
       "      <td>0.699±0.017</td>\n",
       "      <td>0.656±0.015</td>\n",
       "      <td>0.699±0.017</td>\n",
       "      <td>0.699±0.017</td>\n",
       "      <td>0.299±0.035</td>\n",
       "    </tr>\n",
       "    <tr>\n",
       "      <th>polynome_fit_SMOTE</th>\n",
       "      <td>0.704±0.027</td>\n",
       "      <td>0.64±0.035</td>\n",
       "      <td>0.704±0.027</td>\n",
       "      <td>0.704±0.027</td>\n",
       "      <td>0.279±0.069</td>\n",
       "    </tr>\n",
       "    <tr>\n",
       "      <th>ProWSyn</th>\n",
       "      <td>0.718±0.023</td>\n",
       "      <td>0.679±0.031</td>\n",
       "      <td>0.718±0.023</td>\n",
       "      <td>0.718±0.023</td>\n",
       "      <td>0.342±0.056</td>\n",
       "    </tr>\n",
       "    <tr>\n",
       "      <th>Lee</th>\n",
       "      <td>0.703±0.029</td>\n",
       "      <td>0.654±0.034</td>\n",
       "      <td>0.703±0.029</td>\n",
       "      <td>0.703±0.029</td>\n",
       "      <td>0.299±0.071</td>\n",
       "    </tr>\n",
       "    <tr>\n",
       "      <th>Metropolis_hastings</th>\n",
       "      <td>0.708±0.016</td>\n",
       "      <td>0.653±0.025</td>\n",
       "      <td>0.708±0.016</td>\n",
       "      <td>0.708±0.016</td>\n",
       "      <td>0.301±0.051</td>\n",
       "    </tr>\n",
       "  </tbody>\n",
       "</table>\n",
       "</div>"
      ],
      "text/plain": [
       "                        accuracy balanced accuracy       g-mean     f1-score  \\\n",
       "SMOTE                0.699±0.017       0.656±0.015  0.699±0.017  0.699±0.017   \n",
       "polynome_fit_SMOTE   0.704±0.027        0.64±0.035  0.704±0.027  0.704±0.027   \n",
       "ProWSyn              0.718±0.023       0.679±0.031  0.718±0.023  0.718±0.023   \n",
       "Lee                  0.703±0.029       0.654±0.034  0.703±0.029  0.703±0.029   \n",
       "Metropolis_hastings  0.708±0.016       0.653±0.025  0.708±0.016  0.708±0.016   \n",
       "\n",
       "                     cohen_kappa  \n",
       "SMOTE                0.299±0.035  \n",
       "polynome_fit_SMOTE   0.279±0.069  \n",
       "ProWSyn              0.342±0.056  \n",
       "Lee                  0.299±0.071  \n",
       "Metropolis_hastings  0.301±0.051  "
      ]
     },
     "execution_count": 42,
     "metadata": {},
     "output_type": "execute_result"
    }
   ],
   "source": [
    "df"
   ]
  },
  {
   "cell_type": "code",
   "execution_count": 82,
   "id": "6a61660c-6986-4f80-847c-f5ef3b2149c9",
   "metadata": {},
   "outputs": [],
   "source": [
    "with pd.ExcelWriter('Decision_tree_clf_result_for_d2.xlsx') as excel_writer:\n",
    "  df.to_excel(excel_writer,sheet_name='sheet_1')"
   ]
  },
  {
   "cell_type": "code",
   "execution_count": null,
   "id": "114f9597-0b83-4f50-bb8b-b0767aed1308",
   "metadata": {
    "editable": true,
    "slideshow": {
     "slide_type": ""
    },
    "tags": []
   },
   "outputs": [],
   "source": []
  }
 ],
 "metadata": {
  "kernelspec": {
   "display_name": "Python 3 (ipykernel)",
   "language": "python",
   "name": "python3"
  },
  "language_info": {
   "codemirror_mode": {
    "name": "ipython",
    "version": 3
   },
   "file_extension": ".py",
   "mimetype": "text/x-python",
   "name": "python",
   "nbconvert_exporter": "python",
   "pygments_lexer": "ipython3",
   "version": "3.12.4"
  }
 },
 "nbformat": 4,
 "nbformat_minor": 5
}

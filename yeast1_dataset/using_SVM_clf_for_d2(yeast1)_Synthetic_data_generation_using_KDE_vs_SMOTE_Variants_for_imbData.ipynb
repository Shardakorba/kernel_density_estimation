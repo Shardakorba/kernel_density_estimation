{
 "cells": [
  {
   "cell_type": "code",
   "execution_count": 1,
   "id": "8656760b-6b54-4c14-950e-1da119ba1196",
   "metadata": {
    "editable": true,
    "slideshow": {
     "slide_type": ""
    },
    "tags": []
   },
   "outputs": [],
   "source": [
    "import numpy as np\n",
    "import pandas as pd\n",
    "from tqdm.notebook import tqdm\n",
    "from sklearn.preprocessing import StandardScaler\n",
    "from sklearn.decomposition import PCA\n",
    "import matplotlib.pyplot as plt\n",
    "from sklearn import svm\n",
    "from sklearn.metrics import confusion_matrix\n",
    "from sklearn.metrics import accuracy_score\n",
    "from sklearn.metrics import balanced_accuracy_score\n",
    "from sklearn.metrics import f1_score\n",
    "from imblearn.metrics import geometric_mean_score\n",
    "from sklearn.metrics import cohen_kappa_score\n",
    "from imblearn.over_sampling import SMOTE\n",
    "from collections import Counter"
   ]
  },
  {
   "cell_type": "code",
   "execution_count": 2,
   "id": "7304f51b-0cf3-4117-9b2f-5d242440e1ac",
   "metadata": {},
   "outputs": [],
   "source": [
    "with open ('yeast1.dat') as f:\n",
    "     lines = [line.rstrip('\\n')for line in f]"
   ]
  },
  {
   "cell_type": "code",
   "execution_count": 3,
   "id": "609280e6-c68b-4f0a-aaca-b49ebfb6dbb9",
   "metadata": {},
   "outputs": [],
   "source": [
    "del lines[0:13]\n",
    "data_string_list = []\n",
    "for i in range(len(lines)):\n",
    "    data_string_list.append(lines[i].split(','))"
   ]
  },
  {
   "cell_type": "code",
   "execution_count": 4,
   "id": "75fcdf2b-d5d7-43a4-afe6-75ce42f0ab7e",
   "metadata": {},
   "outputs": [],
   "source": [
    "labels=[]\n",
    "for i in range(len(data_string_list)):\n",
    "    if data_string_list[i][-1] == ' negative':\n",
    "        labels.append(0)\n",
    "    else:\n",
    "        labels.append(1)\n",
    "labels=np.array(labels)"
   ]
  },
  {
   "cell_type": "code",
   "execution_count": 5,
   "id": "49161847-4a63-4585-a514-dc830d52d0f4",
   "metadata": {},
   "outputs": [
    {
     "data": {
      "text/plain": [
       "array([0, 1])"
      ]
     },
     "execution_count": 5,
     "metadata": {},
     "output_type": "execute_result"
    }
   ],
   "source": [
    "np.unique(labels)"
   ]
  },
  {
   "cell_type": "code",
   "execution_count": 6,
   "id": "c8b42a31-2467-4f06-be06-b3522b2f81ff",
   "metadata": {},
   "outputs": [],
   "source": [
    "data_string_list=np.array(data_string_list)\n",
    "data_string_list=data_string_list[:,:-1]"
   ]
  },
  {
   "cell_type": "code",
   "execution_count": 7,
   "id": "0b3a84d0-698a-4cfb-9740-82817d15a57e",
   "metadata": {},
   "outputs": [],
   "source": [
    "data_list=[]\n",
    "for i in range(len(data_string_list)):\n",
    "    row_list=[]\n",
    "    for j in range(len(data_string_list[0])):\n",
    "        f= float(data_string_list[i][j])\n",
    "        row_list.append(f)\n",
    "    data_list.append(row_list)\n",
    "data = np.array(data_list)"
   ]
  },
  {
   "cell_type": "code",
   "execution_count": 8,
   "id": "8fa9fe4f-3e2b-4299-9f8e-7ee75ab7fba9",
   "metadata": {},
   "outputs": [
    {
     "data": {
      "text/plain": [
       "(1484, 8)"
      ]
     },
     "execution_count": 8,
     "metadata": {},
     "output_type": "execute_result"
    }
   ],
   "source": [
    "data.shape"
   ]
  },
  {
   "cell_type": "markdown",
   "id": "c5b42384-47d2-42a9-a723-ad817827c934",
   "metadata": {},
   "source": [
    "### K-fold:"
   ]
  },
  {
   "cell_type": "code",
   "execution_count": 10,
   "id": "d08e4baa-2c78-45ac-bdd8-8bd3839f04fa",
   "metadata": {},
   "outputs": [],
   "source": [
    "def get_folds(data,labels,k):\n",
    "  np.random.seed(42)\n",
    "  shuffle=np.random.permutation(len(data))\n",
    "  data=data[shuffle]\n",
    "  labels=labels[shuffle]\n",
    "\n",
    "  block_length=int(len(data)/k)\n",
    "  data_folds=[]\n",
    "  label_folds=[]\n",
    "  for i in range(k):\n",
    "    if i==(k-1):\n",
    "      data_fold=data[i*block_length:]\n",
    "      data_folds.append(data_fold)\n",
    "      label_fold=labels[i*block_length:]\n",
    "      label_folds.append(label_fold)\n",
    "    else:\n",
    "      data_fold=data[i*block_length:block_length*(i+1)]\n",
    "      data_folds.append(data_fold)\n",
    "      label_fold=labels[i*block_length:block_length*(i+1)]\n",
    "      label_folds.append(label_fold)\n",
    "  return np.array(data_folds,dtype=object),np.array(label_folds,dtype=object)"
   ]
  },
  {
   "cell_type": "code",
   "execution_count": 11,
   "id": "c75fc7ca-ef1e-44c6-b471-ab072b719a60",
   "metadata": {},
   "outputs": [],
   "source": [
    "def divide_data_into_k_folds(data,labels,k):\n",
    "  data_folds_array,label_folds_array=get_folds(data,labels,k)\n",
    "  all_data_folds_list=[]\n",
    "  all_labels_folds_list=[]\n",
    "  for i in range(k):\n",
    "    data_fold_k=[np.concatenate(data_folds_array[np.where(np.array(list(range(k)))!=i)[0]]), data_folds_array[i]]\n",
    "    all_data_folds_list.append(data_fold_k)\n",
    "\n",
    "    label_fold_k=[np.concatenate(label_folds_array[np.where(np.array(list(range(k)))!=i)[0]]), label_folds_array[i]]\n",
    "    all_labels_folds_list.append(label_fold_k)\n",
    "\n",
    "  return all_data_folds_list, all_labels_folds_list"
   ]
  },
  {
   "cell_type": "code",
   "execution_count": 12,
   "id": "c9596316-7701-41e9-9823-c1238100405a",
   "metadata": {},
   "outputs": [],
   "source": [
    "all_data_folds_list, all_labels_folds_list=divide_data_into_k_folds(data,labels,5)"
   ]
  },
  {
   "cell_type": "code",
   "execution_count": 13,
   "id": "89ae6206-2650-48e8-a9bf-b30d26a016cb",
   "metadata": {},
   "outputs": [],
   "source": [
    "X_train,X_test=all_data_folds_list[0][0],all_data_folds_list[0][1]"
   ]
  },
  {
   "cell_type": "code",
   "execution_count": 14,
   "id": "b87f8568-d248-4041-9561-9f6a3cd7d62e",
   "metadata": {},
   "outputs": [
    {
     "data": {
      "text/plain": [
       "(1188, 8)"
      ]
     },
     "execution_count": 14,
     "metadata": {},
     "output_type": "execute_result"
    }
   ],
   "source": [
    "X_train.shape"
   ]
  },
  {
   "cell_type": "code",
   "execution_count": 15,
   "id": "a267204a-9303-445b-93dc-a8d031fde18b",
   "metadata": {},
   "outputs": [],
   "source": [
    "y_train,y_test=all_labels_folds_list[0][0],all_labels_folds_list[0][1]"
   ]
  },
  {
   "cell_type": "code",
   "execution_count": 16,
   "id": "20314b64-da76-435d-9e28-7ed76e974f27",
   "metadata": {},
   "outputs": [],
   "source": [
    "X_train_minority=[]\n",
    "for i in np.where(y_train==1):\n",
    "    a=X_train[i]\n",
    "    X_train_minority.append(a)"
   ]
  },
  {
   "cell_type": "code",
   "execution_count": 17,
   "id": "c82367de-9396-47b5-a823-2de071e11974",
   "metadata": {},
   "outputs": [],
   "source": [
    "X_train_minority_class=np.array(X_train_minority[0])"
   ]
  },
  {
   "cell_type": "code",
   "execution_count": 18,
   "id": "6be6c248-66c7-4d11-8899-fc5adf12b2ae",
   "metadata": {},
   "outputs": [
    {
     "data": {
      "text/plain": [
       "(344, 8)"
      ]
     },
     "execution_count": 18,
     "metadata": {},
     "output_type": "execute_result"
    }
   ],
   "source": [
    "X_train_minority_class.shape"
   ]
  },
  {
   "cell_type": "code",
   "execution_count": 19,
   "id": "2e70af42-2594-4577-9793-ad199fd66f71",
   "metadata": {},
   "outputs": [],
   "source": [
    "X_train_majority=[]\n",
    "for i in np.where(y_train==0):\n",
    "    a=X_train[i]\n",
    "    X_train_majority.append(a)"
   ]
  },
  {
   "cell_type": "code",
   "execution_count": 20,
   "id": "5def2c1e-e051-4d1c-b3f2-7790649de3f5",
   "metadata": {},
   "outputs": [],
   "source": [
    "X_train_majority_class=np.array(X_train_majority[0])"
   ]
  },
  {
   "cell_type": "code",
   "execution_count": 21,
   "id": "5efcdcc9-6772-4f54-b377-9decb11906ef",
   "metadata": {},
   "outputs": [
    {
     "data": {
      "text/plain": [
       "(844, 8)"
      ]
     },
     "execution_count": 21,
     "metadata": {},
     "output_type": "execute_result"
    }
   ],
   "source": [
    "X_train_majority_class.shape"
   ]
  },
  {
   "cell_type": "markdown",
   "id": "e4dbbdc8-6103-4ce0-ae2e-31eb6fb83802",
   "metadata": {},
   "source": [
    "### Kernel Density Functon:"
   ]
  },
  {
   "cell_type": "code",
   "execution_count": 23,
   "id": "e74cb08f-6706-4224-bff8-66bbbb3d026a",
   "metadata": {},
   "outputs": [],
   "source": [
    "def k(H,x,d):\n",
    "  H_inv = np.linalg.inv(H)\n",
    "  x_tras=np.matrix.transpose(x)\n",
    "  h= np.linalg.det(H)\n",
    "  m=np.matmul(x_tras,H_inv)\n",
    "  m1=np.matmul(m,x)\n",
    "  e=np.exp(-0.5*m1)\n",
    "  n=2*(np.pi)**(-d/2)\n",
    "  v=n*(h)**(-1/2)*(e)\n",
    "  return v"
   ]
  },
  {
   "cell_type": "code",
   "execution_count": 24,
   "id": "34942e44-4f3f-4f23-9b20-a275c2b0d2b2",
   "metadata": {},
   "outputs": [],
   "source": [
    "def density_gen(X, X_minority):\n",
    "    density_list=[]\n",
    "    for j in range(len(X)):\n",
    "        s=0\n",
    "        for i in range(len(X_minority)):\n",
    "            xi=X_minority[i]\n",
    "            dif=X[j]-xi\n",
    "            s=s+k(np.identity(X_minority.shape[1]), dif, X_minority.shape[1])\n",
    "        density_list.append(s/len(X_minority))\n",
    "    return np.array(density_list)"
   ]
  },
  {
   "cell_type": "code",
   "execution_count": 25,
   "id": "e660fa00-f2c8-41d4-ae5a-5b8cd9a7004c",
   "metadata": {},
   "outputs": [],
   "source": [
    "unique_labels,counts=np.unique(y_train, return_counts=True)"
   ]
  },
  {
   "cell_type": "code",
   "execution_count": 26,
   "id": "ac77f0f1-158c-47a9-a890-a56354a63227",
   "metadata": {},
   "outputs": [],
   "source": [
    "def metropolis_hastings(target_density, X_minority, size=100):\n",
    "    np.random.seed(43)\n",
    "    burnin_size = 10000\n",
    "    size += burnin_size\n",
    "    x0 =X_minority[np.random.choice(list(range(len(X_train_minority_class))),1)]\n",
    "    xt = x0\n",
    "    samples = []\n",
    "    for i in tqdm(range(size)):\n",
    "        xt_candidate = np.array([np.random.multivariate_normal(xt[0], 0.2*np.eye(X_minority.shape[1]))])\n",
    "        accept_odds = (target_density(xt_candidate,X_minority))/(target_density(xt,X_minority))\n",
    "        if np.random.uniform(0, 1) < accept_odds:\n",
    "            xt = xt_candidate\n",
    "        samples.append(xt)\n",
    "    samples = np.array(samples[burnin_size:])\n",
    "    samples = np.reshape(samples, [samples.shape[0], X_minority.shape[1]])\n",
    "    return samples"
   ]
  },
  {
   "cell_type": "code",
   "execution_count": 27,
   "id": "06cd6050-802e-4a6c-8c0e-5c4ce7d96097",
   "metadata": {},
   "outputs": [],
   "source": [
    "import smote_variants as sv\n",
    "\n",
    "oversampler_SMOTE=sv.SMOTE()\n",
    "oversampler_polynome_fit = sv.polynom_fit_SMOTE_star()\n",
    "oversampler_ProWSyn= sv.ProWSyn()\n",
    "oversampler_SMOTE_IPF= sv.SMOTE_IPF()\n",
    "oversampler_Lee= sv.Lee()\n"
   ]
  },
  {
   "cell_type": "code",
   "execution_count": 28,
   "id": "660c96a3-12e7-4e39-a384-3903ba39d597",
   "metadata": {},
   "outputs": [],
   "source": [
    "oversampler_object_list = [oversampler_SMOTE,oversampler_polynome_fit,oversampler_ProWSyn, oversampler_Lee, metropolis_hastings]"
   ]
  },
  {
   "cell_type": "code",
   "execution_count": 29,
   "id": "048a3654-996d-452e-9169-8d4ee149342f",
   "metadata": {},
   "outputs": [],
   "source": [
    "oversampler_name_list = ['SMOTE','polynome_fit_SMOTE','ProWSyn', 'Lee', 'Metropolis_hastings']"
   ]
  },
  {
   "cell_type": "code",
   "execution_count": 30,
   "id": "7c5c91c1-a591-4f19-838d-ac6b2effe130",
   "metadata": {},
   "outputs": [],
   "source": [
    "def get_imb_oversampling(X_train,y_train,X_test,y_test,oversampler_index,classifier,visualize=True):\n",
    "  ## MH is in the end of the list oversampler_object_list\n",
    "  if oversampler_index!=len(oversampler_object_list)-1:\n",
    "    X_samp, y_samp = oversampler_object_list[oversampler_index].sample(X_train, y_train)\n",
    "\n",
    "  else:\n",
    "    X_train_minority=[]\n",
    "    for i in np.where(y_train==1):\n",
    "      a=X_train[i]\n",
    "      X_train_minority.append(a)\n",
    "\n",
    "    X_train_majority=[]\n",
    "    for i in np.where(y_train==0):\n",
    "      a=X_train[i]\n",
    "      X_train_majority.append(a)\n",
    "    X_train_minority_class=np.array(X_train_minority[0])\n",
    "    X_train_majority_class=np.array(X_train_majority[0])\n",
    "\n",
    "    unique_labels,counts=np.unique(y_train, return_counts=True)\n",
    "\n",
    "    synthetic_minority_data = metropolis_hastings(density_gen, X_train_minority_class, size=counts[0]-counts[1])\n",
    "    balanced_minority=np.concatenate([X_train_minority_class, synthetic_minority_data])\n",
    "    balanced_data=np.concatenate([X_train_majority_class,balanced_minority])\n",
    "    balanced_labels_for_classification=np.concatenate([np.zeros(len(X_train_majority_class)),np.ones(len(balanced_minority))])\n",
    "    X_samp=balanced_data\n",
    "    y_samp=balanced_labels_for_classification\n",
    "\n",
    "  classifier.fit(X_samp,y_samp)\n",
    "  y_pred=classifier.predict(X_test)\n",
    "  cm=confusion_matrix(y_test, y_pred)\n",
    "  acc=accuracy_score(y_test, y_pred)\n",
    "  b_acc=balanced_accuracy_score(y_test, y_pred)\n",
    "  gm=geometric_mean_score(y_test, y_pred,average='micro')\n",
    "  f1=f1_score(y_test, y_pred,average='micro')\n",
    "  ck=cohen_kappa_score(y_test, y_pred)\n",
    "\n",
    "  if visualize==True:\n",
    "    scaler = StandardScaler()\n",
    "    scaler.fit(X_samp)\n",
    "    scaled_X_samp = scaler.transform(X_samp)\n",
    "    pca = PCA(n_components =2)\n",
    "    X_samp_pca=pca.fit_transform(scaled_X_samp)\n",
    "\n",
    "    plt.figure(figsize=(8,6))\n",
    "    color=[\"r\",\"b\"]\n",
    "    color_counter=0\n",
    "    for i in [-1,1]:\n",
    "      plt.scatter(X_samp_pca[:,0][np.where(y_samp==i)],X_samp_pca[:,1][np.where(y_samp==i)], s=10, c=color[color_counter])\n",
    "      color_counter=color_counter+1\n",
    "    plt.legend(['Majority','Manority'],fontsize=10, loc='lower right')\n",
    "    plt.xlabel(\"Principal Component 1\",fontsize=12)\n",
    "    plt.ylabel(\"Principlal Component 2 \",fontsize=12)\n",
    "    plt.title(\"PCA plot of majority class + minority class using\"+\"\"+ oversampler_name_list[oversampler_index]+\"technique\",fontsize=14)\n",
    "\n",
    "\n",
    "  return [cm, acc,b_acc,gm, f1, ck]"
   ]
  },
  {
   "cell_type": "code",
   "execution_count": 31,
   "id": "ed74120b-0f93-447e-ad41-7e7e7b1ef673",
   "metadata": {},
   "outputs": [],
   "source": [
    "def calc_avg_performance(performance_index,results_all_folds):\n",
    "  ## performance index takes the index of the performance measure foe which we want to average over folds\n",
    "  ## results_all_folds are the results of a particular oversampler run over all folds recording all performance measures\n",
    "  s=0\n",
    "  for result in results_all_folds:\n",
    "    s=s+result[performance_index]\n",
    "  avg=s/len(results_all_folds)\n",
    "\n",
    "  s=0\n",
    "  for result in results_all_folds:\n",
    "    s=s+(result[performance_index]-avg)**2\n",
    "  std=np.sqrt(s/len(results_all_folds))\n",
    "  return avg, std"
   ]
  },
  {
   "cell_type": "code",
   "execution_count": 32,
   "id": "ad6b7d46-229b-4a2f-a53d-a682da7c5d22",
   "metadata": {},
   "outputs": [],
   "source": [
    "clf = svm.SVC()"
   ]
  },
  {
   "cell_type": "code",
   "execution_count": 33,
   "id": "483ccdd8-3fdc-4869-8d42-22a0aa065871",
   "metadata": {},
   "outputs": [],
   "source": [
    "perfromance_measures=['accuracy','balanced accuracy','g-mean','f1-score','cohen_kappa']\n",
    "def get_results_all_folds(oversampler_index,classifier, visualize=False, get_detailed_results=False):\n",
    "\n",
    "  results_all_folds=[]\n",
    "  for i in range(len(all_data_folds_list)):\n",
    "    X_train,X_test=all_data_folds_list[i][0],all_data_folds_list[i][1]\n",
    "    y_train,y_test=all_labels_folds_list[i][0],all_labels_folds_list[i][1]\n",
    "    results_single_fold=get_imb_oversampling(X_train,y_train,X_test,y_test,oversampler_index,clf,visualize=visualize)\n",
    "    results_all_folds.append(results_single_fold)\n",
    "\n",
    "  performance_summary_oversampler_classifer={}\n",
    "  for performance_index in range(1,6):\n",
    "    avg_std=calc_avg_performance(performance_index,results_all_folds)\n",
    "    performance_summary_oversampler_classifer[perfromance_measures[performance_index-1]]=avg_std\n",
    "\n",
    "  if get_detailed_results==True:\n",
    "    return results_all_folds, performance_summary_oversampler_classifer\n",
    "  else:\n",
    "    return performance_summary_oversampler_classifer"
   ]
  },
  {
   "cell_type": "code",
   "execution_count": 34,
   "id": "728f239c-7616-4021-ab63-5a2e2e4c718f",
   "metadata": {},
   "outputs": [
    {
     "name": "stderr",
     "output_type": "stream",
     "text": [
      "2024-08-20 16:01:34,021:INFO:SMOTE: Running sampling via ('SMOTE', \"{'proportion': 1.0, 'n_neighbors': 5, 'nn_params': {}, 'n_jobs': 1, 'ss_params': {'n_dim': 2, 'simplex_sampling': 'random', 'within_simplex_sampling': 'random', 'gaussian_component': {}}, 'random_state': None, 'class_name': 'SMOTE'}\")\n",
      "2024-08-20 16:01:34,027:INFO:NearestNeighborsWithMetricTensor: NN fitting with metric minkowski\n",
      "2024-08-20 16:01:34,029:INFO:NearestNeighborsWithMetricTensor: kneighbors query minkowski\n",
      "2024-08-20 16:01:34,029:INFO:SMOTE: simplex sampling with n_dim 2\n",
      "2024-08-20 16:01:34,119:INFO:SMOTE: Running sampling via ('SMOTE', \"{'proportion': 1.0, 'n_neighbors': 5, 'nn_params': {}, 'n_jobs': 1, 'ss_params': {'n_dim': 2, 'simplex_sampling': 'random', 'within_simplex_sampling': 'random', 'gaussian_component': {}}, 'random_state': None, 'class_name': 'SMOTE'}\")\n",
      "2024-08-20 16:01:34,120:INFO:NearestNeighborsWithMetricTensor: NN fitting with metric minkowski\n",
      "2024-08-20 16:01:34,121:INFO:NearestNeighborsWithMetricTensor: kneighbors query minkowski\n",
      "2024-08-20 16:01:34,123:INFO:SMOTE: simplex sampling with n_dim 2\n",
      "2024-08-20 16:01:34,209:INFO:SMOTE: Running sampling via ('SMOTE', \"{'proportion': 1.0, 'n_neighbors': 5, 'nn_params': {}, 'n_jobs': 1, 'ss_params': {'n_dim': 2, 'simplex_sampling': 'random', 'within_simplex_sampling': 'random', 'gaussian_component': {}}, 'random_state': None, 'class_name': 'SMOTE'}\")\n",
      "2024-08-20 16:01:34,209:INFO:NearestNeighborsWithMetricTensor: NN fitting with metric minkowski\n",
      "2024-08-20 16:01:34,209:INFO:NearestNeighborsWithMetricTensor: kneighbors query minkowski\n",
      "2024-08-20 16:01:34,209:INFO:SMOTE: simplex sampling with n_dim 2\n",
      "2024-08-20 16:01:34,323:INFO:SMOTE: Running sampling via ('SMOTE', \"{'proportion': 1.0, 'n_neighbors': 5, 'nn_params': {}, 'n_jobs': 1, 'ss_params': {'n_dim': 2, 'simplex_sampling': 'random', 'within_simplex_sampling': 'random', 'gaussian_component': {}}, 'random_state': None, 'class_name': 'SMOTE'}\")\n",
      "2024-08-20 16:01:34,324:INFO:NearestNeighborsWithMetricTensor: NN fitting with metric minkowski\n",
      "2024-08-20 16:01:34,326:INFO:NearestNeighborsWithMetricTensor: kneighbors query minkowski\n",
      "2024-08-20 16:01:34,328:INFO:SMOTE: simplex sampling with n_dim 2\n",
      "2024-08-20 16:01:34,436:INFO:SMOTE: Running sampling via ('SMOTE', \"{'proportion': 1.0, 'n_neighbors': 5, 'nn_params': {}, 'n_jobs': 1, 'ss_params': {'n_dim': 2, 'simplex_sampling': 'random', 'within_simplex_sampling': 'random', 'gaussian_component': {}}, 'random_state': None, 'class_name': 'SMOTE'}\")\n",
      "2024-08-20 16:01:34,438:INFO:NearestNeighborsWithMetricTensor: NN fitting with metric minkowski\n",
      "2024-08-20 16:01:34,439:INFO:NearestNeighborsWithMetricTensor: kneighbors query minkowski\n",
      "2024-08-20 16:01:34,442:INFO:SMOTE: simplex sampling with n_dim 2\n"
     ]
    },
    {
     "data": {
      "text/plain": [
       "{'accuracy': (0.7020990990990992, 0.028027584473824783),\n",
       " 'balanced accuracy': (0.7191327251298973, 0.031686784620243935),\n",
       " 'g-mean': (0.7020990990990992, 0.028027584473824783),\n",
       " 'f1-score': (0.7020990990990992, 0.028027584473824783),\n",
       " 'cohen_kappa': (0.3766895181430471, 0.05630534494154595)}"
      ]
     },
     "execution_count": 34,
     "metadata": {},
     "output_type": "execute_result"
    }
   ],
   "source": [
    "get_results_all_folds(0,clf)"
   ]
  },
  {
   "cell_type": "code",
   "execution_count": 35,
   "id": "6cece8f5-0651-4b08-90aa-276b3b1de648",
   "metadata": {},
   "outputs": [
    {
     "name": "stderr",
     "output_type": "stream",
     "text": [
      "2024-08-20 16:01:34,537:INFO:SMOTE: Running sampling via ('SMOTE', \"{'proportion': 1.0, 'n_neighbors': 5, 'nn_params': {}, 'n_jobs': 1, 'ss_params': {'n_dim': 2, 'simplex_sampling': 'random', 'within_simplex_sampling': 'random', 'gaussian_component': {}}, 'random_state': None, 'class_name': 'SMOTE'}\")\n",
      "2024-08-20 16:01:34,538:INFO:NearestNeighborsWithMetricTensor: NN fitting with metric minkowski\n",
      "2024-08-20 16:01:34,540:INFO:NearestNeighborsWithMetricTensor: kneighbors query minkowski\n",
      "2024-08-20 16:01:34,543:INFO:SMOTE: simplex sampling with n_dim 2\n",
      "2024-08-20 16:01:34,638:INFO:SMOTE: Running sampling via ('SMOTE', \"{'proportion': 1.0, 'n_neighbors': 5, 'nn_params': {}, 'n_jobs': 1, 'ss_params': {'n_dim': 2, 'simplex_sampling': 'random', 'within_simplex_sampling': 'random', 'gaussian_component': {}}, 'random_state': None, 'class_name': 'SMOTE'}\")\n",
      "2024-08-20 16:01:34,640:INFO:NearestNeighborsWithMetricTensor: NN fitting with metric minkowski\n",
      "2024-08-20 16:01:34,642:INFO:NearestNeighborsWithMetricTensor: kneighbors query minkowski\n",
      "2024-08-20 16:01:34,646:INFO:SMOTE: simplex sampling with n_dim 2\n",
      "2024-08-20 16:01:34,745:INFO:SMOTE: Running sampling via ('SMOTE', \"{'proportion': 1.0, 'n_neighbors': 5, 'nn_params': {}, 'n_jobs': 1, 'ss_params': {'n_dim': 2, 'simplex_sampling': 'random', 'within_simplex_sampling': 'random', 'gaussian_component': {}}, 'random_state': None, 'class_name': 'SMOTE'}\")\n",
      "2024-08-20 16:01:34,746:INFO:NearestNeighborsWithMetricTensor: NN fitting with metric minkowski\n",
      "2024-08-20 16:01:34,747:INFO:NearestNeighborsWithMetricTensor: kneighbors query minkowski\n",
      "2024-08-20 16:01:34,752:INFO:SMOTE: simplex sampling with n_dim 2\n",
      "2024-08-20 16:01:34,843:INFO:SMOTE: Running sampling via ('SMOTE', \"{'proportion': 1.0, 'n_neighbors': 5, 'nn_params': {}, 'n_jobs': 1, 'ss_params': {'n_dim': 2, 'simplex_sampling': 'random', 'within_simplex_sampling': 'random', 'gaussian_component': {}}, 'random_state': None, 'class_name': 'SMOTE'}\")\n",
      "2024-08-20 16:01:34,845:INFO:NearestNeighborsWithMetricTensor: NN fitting with metric minkowski\n",
      "2024-08-20 16:01:34,846:INFO:NearestNeighborsWithMetricTensor: kneighbors query minkowski\n",
      "2024-08-20 16:01:34,848:INFO:SMOTE: simplex sampling with n_dim 2\n",
      "2024-08-20 16:01:34,923:INFO:SMOTE: Running sampling via ('SMOTE', \"{'proportion': 1.0, 'n_neighbors': 5, 'nn_params': {}, 'n_jobs': 1, 'ss_params': {'n_dim': 2, 'simplex_sampling': 'random', 'within_simplex_sampling': 'random', 'gaussian_component': {}}, 'random_state': None, 'class_name': 'SMOTE'}\")\n",
      "2024-08-20 16:01:34,923:INFO:NearestNeighborsWithMetricTensor: NN fitting with metric minkowski\n",
      "2024-08-20 16:01:34,937:INFO:NearestNeighborsWithMetricTensor: kneighbors query minkowski\n",
      "2024-08-20 16:01:34,939:INFO:SMOTE: simplex sampling with n_dim 2\n",
      "2024-08-20 16:01:35,006:INFO:polynom_fit_SMOTE_star: Running sampling via ('polynom_fit_SMOTE_star', \"{'proportion': 1.0, 'topology': 'star', 'random_state': None, 'class_name': 'polynom_fit_SMOTE_star'}\")\n",
      "2024-08-20 16:01:35,006:INFO:polynom_fit_SMOTE: Running sampling via ('polynom_fit_SMOTE', \"{'proportion': 1.0, 'topology': 'star', 'random_state': None, 'class_name': 'polynom_fit_SMOTE'}\")\n",
      "2024-08-20 16:01:35,081:INFO:polynom_fit_SMOTE_star: Running sampling via ('polynom_fit_SMOTE_star', \"{'proportion': 1.0, 'topology': 'star', 'random_state': None, 'class_name': 'polynom_fit_SMOTE_star'}\")\n",
      "2024-08-20 16:01:35,081:INFO:polynom_fit_SMOTE: Running sampling via ('polynom_fit_SMOTE', \"{'proportion': 1.0, 'topology': 'star', 'random_state': None, 'class_name': 'polynom_fit_SMOTE'}\")\n",
      "2024-08-20 16:01:35,153:INFO:polynom_fit_SMOTE_star: Running sampling via ('polynom_fit_SMOTE_star', \"{'proportion': 1.0, 'topology': 'star', 'random_state': None, 'class_name': 'polynom_fit_SMOTE_star'}\")\n",
      "2024-08-20 16:01:35,155:INFO:polynom_fit_SMOTE: Running sampling via ('polynom_fit_SMOTE', \"{'proportion': 1.0, 'topology': 'star', 'random_state': None, 'class_name': 'polynom_fit_SMOTE'}\")\n",
      "2024-08-20 16:01:35,239:INFO:polynom_fit_SMOTE_star: Running sampling via ('polynom_fit_SMOTE_star', \"{'proportion': 1.0, 'topology': 'star', 'random_state': None, 'class_name': 'polynom_fit_SMOTE_star'}\")\n",
      "2024-08-20 16:01:35,239:INFO:polynom_fit_SMOTE: Running sampling via ('polynom_fit_SMOTE', \"{'proportion': 1.0, 'topology': 'star', 'random_state': None, 'class_name': 'polynom_fit_SMOTE'}\")\n",
      "2024-08-20 16:01:35,322:INFO:polynom_fit_SMOTE_star: Running sampling via ('polynom_fit_SMOTE_star', \"{'proportion': 1.0, 'topology': 'star', 'random_state': None, 'class_name': 'polynom_fit_SMOTE_star'}\")\n",
      "2024-08-20 16:01:35,322:INFO:polynom_fit_SMOTE: Running sampling via ('polynom_fit_SMOTE', \"{'proportion': 1.0, 'topology': 'star', 'random_state': None, 'class_name': 'polynom_fit_SMOTE'}\")\n",
      "2024-08-20 16:01:35,390:INFO:ProWSyn: Running sampling via ('ProWSyn', \"{'proportion': 1.0, 'n_neighbors': 5, 'nn_params': {}, 'L': 5, 'theta': 1.0, 'n_jobs': 1, 'ss_params': {'n_dim': 2, 'simplex_sampling': 'random', 'within_simplex_sampling': 'random', 'gaussian_component': {}}, 'random_state': None, 'class_name': 'ProWSyn'}\")\n",
      "2024-08-20 16:01:35,390:INFO:NearestNeighborsWithMetricTensor: NN fitting with metric minkowski\n",
      "2024-08-20 16:01:35,390:INFO:NearestNeighborsWithMetricTensor: kneighbors query minkowski\n",
      "2024-08-20 16:01:35,404:INFO:NearestNeighborsWithMetricTensor: NN fitting with metric minkowski\n",
      "2024-08-20 16:01:35,405:INFO:NearestNeighborsWithMetricTensor: kneighbors query minkowski\n",
      "2024-08-20 16:01:35,408:INFO:ProWSyn: simplex sampling with n_dim 2\n",
      "2024-08-20 16:01:35,465:INFO:ProWSyn: simplex sampling with n_dim 2\n",
      "2024-08-20 16:01:35,544:INFO:ProWSyn: Running sampling via ('ProWSyn', \"{'proportion': 1.0, 'n_neighbors': 5, 'nn_params': {}, 'L': 5, 'theta': 1.0, 'n_jobs': 1, 'ss_params': {'n_dim': 2, 'simplex_sampling': 'random', 'within_simplex_sampling': 'random', 'gaussian_component': {}}, 'random_state': None, 'class_name': 'ProWSyn'}\")\n",
      "2024-08-20 16:01:35,544:INFO:NearestNeighborsWithMetricTensor: NN fitting with metric minkowski\n",
      "2024-08-20 16:01:35,544:INFO:NearestNeighborsWithMetricTensor: kneighbors query minkowski\n",
      "2024-08-20 16:01:35,558:INFO:NearestNeighborsWithMetricTensor: NN fitting with metric minkowski\n",
      "2024-08-20 16:01:35,559:INFO:NearestNeighborsWithMetricTensor: kneighbors query minkowski\n",
      "2024-08-20 16:01:35,561:INFO:ProWSyn: simplex sampling with n_dim 2\n",
      "2024-08-20 16:01:35,629:INFO:ProWSyn: simplex sampling with n_dim 2\n",
      "2024-08-20 16:01:35,728:INFO:ProWSyn: Running sampling via ('ProWSyn', \"{'proportion': 1.0, 'n_neighbors': 5, 'nn_params': {}, 'L': 5, 'theta': 1.0, 'n_jobs': 1, 'ss_params': {'n_dim': 2, 'simplex_sampling': 'random', 'within_simplex_sampling': 'random', 'gaussian_component': {}}, 'random_state': None, 'class_name': 'ProWSyn'}\")\n",
      "2024-08-20 16:01:35,728:INFO:NearestNeighborsWithMetricTensor: NN fitting with metric minkowski\n",
      "2024-08-20 16:01:35,728:INFO:NearestNeighborsWithMetricTensor: kneighbors query minkowski\n",
      "2024-08-20 16:01:35,742:INFO:NearestNeighborsWithMetricTensor: NN fitting with metric minkowski\n",
      "2024-08-20 16:01:35,743:INFO:NearestNeighborsWithMetricTensor: kneighbors query minkowski\n",
      "2024-08-20 16:01:35,744:INFO:ProWSyn: simplex sampling with n_dim 2\n",
      "2024-08-20 16:01:35,795:INFO:ProWSyn: simplex sampling with n_dim 2\n",
      "2024-08-20 16:01:35,883:INFO:ProWSyn: Running sampling via ('ProWSyn', \"{'proportion': 1.0, 'n_neighbors': 5, 'nn_params': {}, 'L': 5, 'theta': 1.0, 'n_jobs': 1, 'ss_params': {'n_dim': 2, 'simplex_sampling': 'random', 'within_simplex_sampling': 'random', 'gaussian_component': {}}, 'random_state': None, 'class_name': 'ProWSyn'}\")\n",
      "2024-08-20 16:01:35,884:INFO:NearestNeighborsWithMetricTensor: NN fitting with metric minkowski\n",
      "2024-08-20 16:01:35,885:INFO:NearestNeighborsWithMetricTensor: kneighbors query minkowski\n",
      "2024-08-20 16:01:35,892:INFO:NearestNeighborsWithMetricTensor: NN fitting with metric minkowski\n",
      "2024-08-20 16:01:35,894:INFO:NearestNeighborsWithMetricTensor: kneighbors query minkowski\n",
      "2024-08-20 16:01:35,894:INFO:NearestNeighborsWithMetricTensor: NN fitting with metric minkowski\n",
      "2024-08-20 16:01:35,894:INFO:NearestNeighborsWithMetricTensor: kneighbors query minkowski\n",
      "2024-08-20 16:01:36,058:INFO:ProWSyn: simplex sampling with n_dim 2\n",
      "2024-08-20 16:01:36,107:INFO:ProWSyn: simplex sampling with n_dim 2\n",
      "2024-08-20 16:01:36,108:INFO:ProWSyn: simplex sampling with n_dim 2\n",
      "2024-08-20 16:01:36,207:INFO:ProWSyn: Running sampling via ('ProWSyn', \"{'proportion': 1.0, 'n_neighbors': 5, 'nn_params': {}, 'L': 5, 'theta': 1.0, 'n_jobs': 1, 'ss_params': {'n_dim': 2, 'simplex_sampling': 'random', 'within_simplex_sampling': 'random', 'gaussian_component': {}}, 'random_state': None, 'class_name': 'ProWSyn'}\")\n",
      "2024-08-20 16:01:36,208:INFO:NearestNeighborsWithMetricTensor: NN fitting with metric minkowski\n",
      "2024-08-20 16:01:36,210:INFO:NearestNeighborsWithMetricTensor: kneighbors query minkowski\n",
      "2024-08-20 16:01:36,214:INFO:NearestNeighborsWithMetricTensor: NN fitting with metric minkowski\n",
      "2024-08-20 16:01:36,215:INFO:NearestNeighborsWithMetricTensor: kneighbors query minkowski\n",
      "2024-08-20 16:01:36,217:INFO:ProWSyn: simplex sampling with n_dim 2\n",
      "2024-08-20 16:01:36,275:INFO:ProWSyn: simplex sampling with n_dim 2\n",
      "2024-08-20 16:01:36,350:INFO:Lee: Running sampling via ('Lee', \"{'proportion': 1.0, 'n_neighbors': 5, 'nn_params': {}, 'rejection_level': 0.5, 'n_jobs': 1, 'ss_params': {'n_dim': 2, 'simplex_sampling': 'random', 'within_simplex_sampling': 'random', 'gaussian_component': {}}, 'random_state': None, 'class_name': 'Lee'}\")\n",
      "2024-08-20 16:01:36,351:INFO:NearestNeighborsWithMetricTensor: NN fitting with metric minkowski\n",
      "2024-08-20 16:01:36,353:INFO:NearestNeighborsWithMetricTensor: NN fitting with metric minkowski\n",
      "2024-08-20 16:01:36,354:INFO:NearestNeighborsWithMetricTensor: kneighbors query minkowski\n",
      "2024-08-20 16:01:36,357:INFO:Lee: simplex sampling with n_dim 2\n",
      "2024-08-20 16:01:36,358:INFO:NearestNeighborsWithMetricTensor: kneighbors query minkowski\n",
      "2024-08-20 16:01:36,364:INFO:Lee: simplex sampling with n_dim 2\n",
      "2024-08-20 16:01:36,365:INFO:NearestNeighborsWithMetricTensor: kneighbors query minkowski\n",
      "2024-08-20 16:01:36,367:INFO:Lee: simplex sampling with n_dim 2\n",
      "2024-08-20 16:01:36,368:INFO:NearestNeighborsWithMetricTensor: kneighbors query minkowski\n",
      "2024-08-20 16:01:36,370:INFO:Lee: simplex sampling with n_dim 2\n",
      "2024-08-20 16:01:36,371:INFO:NearestNeighborsWithMetricTensor: kneighbors query minkowski\n",
      "2024-08-20 16:01:36,372:INFO:Lee: simplex sampling with n_dim 2\n",
      "2024-08-20 16:01:36,372:INFO:NearestNeighborsWithMetricTensor: kneighbors query minkowski\n",
      "2024-08-20 16:01:36,514:INFO:Lee: Running sampling via ('Lee', \"{'proportion': 1.0, 'n_neighbors': 5, 'nn_params': {}, 'rejection_level': 0.5, 'n_jobs': 1, 'ss_params': {'n_dim': 2, 'simplex_sampling': 'random', 'within_simplex_sampling': 'random', 'gaussian_component': {}}, 'random_state': None, 'class_name': 'Lee'}\")\n",
      "2024-08-20 16:01:36,515:INFO:NearestNeighborsWithMetricTensor: NN fitting with metric minkowski\n",
      "2024-08-20 16:01:36,517:INFO:NearestNeighborsWithMetricTensor: NN fitting with metric minkowski\n",
      "2024-08-20 16:01:36,519:INFO:NearestNeighborsWithMetricTensor: kneighbors query minkowski\n",
      "2024-08-20 16:01:36,522:INFO:Lee: simplex sampling with n_dim 2\n",
      "2024-08-20 16:01:36,523:INFO:NearestNeighborsWithMetricTensor: kneighbors query minkowski\n",
      "2024-08-20 16:01:36,526:INFO:Lee: simplex sampling with n_dim 2\n",
      "2024-08-20 16:01:36,526:INFO:NearestNeighborsWithMetricTensor: kneighbors query minkowski\n",
      "2024-08-20 16:01:36,526:INFO:Lee: simplex sampling with n_dim 2\n",
      "2024-08-20 16:01:36,526:INFO:NearestNeighborsWithMetricTensor: kneighbors query minkowski\n",
      "2024-08-20 16:01:36,526:INFO:Lee: simplex sampling with n_dim 2\n",
      "2024-08-20 16:01:36,526:INFO:NearestNeighborsWithMetricTensor: kneighbors query minkowski\n",
      "2024-08-20 16:01:36,607:INFO:Lee: Running sampling via ('Lee', \"{'proportion': 1.0, 'n_neighbors': 5, 'nn_params': {}, 'rejection_level': 0.5, 'n_jobs': 1, 'ss_params': {'n_dim': 2, 'simplex_sampling': 'random', 'within_simplex_sampling': 'random', 'gaussian_component': {}}, 'random_state': None, 'class_name': 'Lee'}\")\n",
      "2024-08-20 16:01:36,623:INFO:NearestNeighborsWithMetricTensor: NN fitting with metric minkowski\n",
      "2024-08-20 16:01:36,625:INFO:NearestNeighborsWithMetricTensor: NN fitting with metric minkowski\n",
      "2024-08-20 16:01:36,627:INFO:NearestNeighborsWithMetricTensor: kneighbors query minkowski\n",
      "2024-08-20 16:01:36,629:INFO:Lee: simplex sampling with n_dim 2\n",
      "2024-08-20 16:01:36,631:INFO:NearestNeighborsWithMetricTensor: kneighbors query minkowski\n",
      "2024-08-20 16:01:36,637:INFO:Lee: simplex sampling with n_dim 2\n",
      "2024-08-20 16:01:36,638:INFO:NearestNeighborsWithMetricTensor: kneighbors query minkowski\n",
      "2024-08-20 16:01:36,642:INFO:Lee: simplex sampling with n_dim 2\n",
      "2024-08-20 16:01:36,643:INFO:NearestNeighborsWithMetricTensor: kneighbors query minkowski\n",
      "2024-08-20 16:01:36,645:INFO:Lee: simplex sampling with n_dim 2\n",
      "2024-08-20 16:01:36,647:INFO:NearestNeighborsWithMetricTensor: kneighbors query minkowski\n",
      "2024-08-20 16:01:36,648:INFO:Lee: simplex sampling with n_dim 2\n",
      "2024-08-20 16:01:36,650:INFO:NearestNeighborsWithMetricTensor: kneighbors query minkowski\n",
      "2024-08-20 16:01:36,721:INFO:Lee: Running sampling via ('Lee', \"{'proportion': 1.0, 'n_neighbors': 5, 'nn_params': {}, 'rejection_level': 0.5, 'n_jobs': 1, 'ss_params': {'n_dim': 2, 'simplex_sampling': 'random', 'within_simplex_sampling': 'random', 'gaussian_component': {}}, 'random_state': None, 'class_name': 'Lee'}\")\n",
      "2024-08-20 16:01:36,721:INFO:NearestNeighborsWithMetricTensor: NN fitting with metric minkowski\n",
      "2024-08-20 16:01:36,733:INFO:NearestNeighborsWithMetricTensor: NN fitting with metric minkowski\n",
      "2024-08-20 16:01:36,735:INFO:NearestNeighborsWithMetricTensor: kneighbors query minkowski\n",
      "2024-08-20 16:01:36,738:INFO:Lee: simplex sampling with n_dim 2\n",
      "2024-08-20 16:01:36,739:INFO:NearestNeighborsWithMetricTensor: kneighbors query minkowski\n",
      "2024-08-20 16:01:36,745:INFO:Lee: simplex sampling with n_dim 2\n",
      "2024-08-20 16:01:36,746:INFO:NearestNeighborsWithMetricTensor: kneighbors query minkowski\n",
      "2024-08-20 16:01:36,750:INFO:Lee: simplex sampling with n_dim 2\n",
      "2024-08-20 16:01:36,751:INFO:NearestNeighborsWithMetricTensor: kneighbors query minkowski\n",
      "2024-08-20 16:01:36,753:INFO:Lee: simplex sampling with n_dim 2\n",
      "2024-08-20 16:01:36,755:INFO:NearestNeighborsWithMetricTensor: kneighbors query minkowski\n",
      "2024-08-20 16:01:36,757:INFO:Lee: simplex sampling with n_dim 2\n",
      "2024-08-20 16:01:36,758:INFO:NearestNeighborsWithMetricTensor: kneighbors query minkowski\n",
      "2024-08-20 16:01:36,838:INFO:Lee: Running sampling via ('Lee', \"{'proportion': 1.0, 'n_neighbors': 5, 'nn_params': {}, 'rejection_level': 0.5, 'n_jobs': 1, 'ss_params': {'n_dim': 2, 'simplex_sampling': 'random', 'within_simplex_sampling': 'random', 'gaussian_component': {}}, 'random_state': None, 'class_name': 'Lee'}\")\n",
      "2024-08-20 16:01:36,838:INFO:NearestNeighborsWithMetricTensor: NN fitting with metric minkowski\n",
      "2024-08-20 16:01:36,838:INFO:NearestNeighborsWithMetricTensor: NN fitting with metric minkowski\n",
      "2024-08-20 16:01:36,845:INFO:NearestNeighborsWithMetricTensor: kneighbors query minkowski\n",
      "2024-08-20 16:01:36,848:INFO:Lee: simplex sampling with n_dim 2\n",
      "2024-08-20 16:01:36,849:INFO:NearestNeighborsWithMetricTensor: kneighbors query minkowski\n",
      "2024-08-20 16:01:36,855:INFO:Lee: simplex sampling with n_dim 2\n",
      "2024-08-20 16:01:36,857:INFO:NearestNeighborsWithMetricTensor: kneighbors query minkowski\n",
      "2024-08-20 16:01:36,860:INFO:Lee: simplex sampling with n_dim 2\n",
      "2024-08-20 16:01:36,861:INFO:NearestNeighborsWithMetricTensor: kneighbors query minkowski\n",
      "2024-08-20 16:01:36,863:INFO:Lee: simplex sampling with n_dim 2\n",
      "2024-08-20 16:01:36,864:INFO:NearestNeighborsWithMetricTensor: kneighbors query minkowski\n"
     ]
    },
    {
     "data": {
      "application/vnd.jupyter.widget-view+json": {
       "model_id": "149ea496d21c451a9d36d8f9e48dd45f",
       "version_major": 2,
       "version_minor": 0
      },
      "text/plain": [
       "  0%|          | 0/10500 [00:00<?, ?it/s]"
      ]
     },
     "metadata": {},
     "output_type": "display_data"
    },
    {
     "data": {
      "application/vnd.jupyter.widget-view+json": {
       "model_id": "d22798ee881b44eba3887d9121dc1e47",
       "version_major": 2,
       "version_minor": 0
      },
      "text/plain": [
       "  0%|          | 0/10494 [00:00<?, ?it/s]"
      ]
     },
     "metadata": {},
     "output_type": "display_data"
    },
    {
     "data": {
      "application/vnd.jupyter.widget-view+json": {
       "model_id": "7fb2f091b1d24ad88b3120c5cbcdafa0",
       "version_major": 2,
       "version_minor": 0
      },
      "text/plain": [
       "  0%|          | 0/10512 [00:00<?, ?it/s]"
      ]
     },
     "metadata": {},
     "output_type": "display_data"
    },
    {
     "data": {
      "application/vnd.jupyter.widget-view+json": {
       "model_id": "08d92f8b748549fda8752cb127328681",
       "version_major": 2,
       "version_minor": 0
      },
      "text/plain": [
       "  0%|          | 0/10510 [00:00<?, ?it/s]"
      ]
     },
     "metadata": {},
     "output_type": "display_data"
    },
    {
     "data": {
      "application/vnd.jupyter.widget-view+json": {
       "model_id": "432bbb06346948e594ba74f40544c8bb",
       "version_major": 2,
       "version_minor": 0
      },
      "text/plain": [
       "  0%|          | 0/10488 [00:00<?, ?it/s]"
      ]
     },
     "metadata": {},
     "output_type": "display_data"
    }
   ],
   "source": [
    "summary_performace_for_all_oversampling_algorithms_all_folds=[]\n",
    "for i in range(len(oversampler_object_list)):\n",
    "  summary_performace_for_all_oversampling_algorithms_all_folds.append(get_results_all_folds(i,clf))"
   ]
  },
  {
   "cell_type": "code",
   "execution_count": 36,
   "id": "022f3891-a8d2-48b0-a69e-6b31f5dde94f",
   "metadata": {},
   "outputs": [],
   "source": [
    "summary_performace_for_all_oversampling_algorithms_all_folds_list=np.array([[[round(i,3) for i in summary_performace_for_all_oversampling_algorithms_all_folds[oversampler_index][key]] for key in summary_performace_for_all_oversampling_algorithms_all_folds[0].keys()] for oversampler_index in range(len(oversampler_name_list))])"
   ]
  },
  {
   "cell_type": "code",
   "execution_count": 37,
   "id": "207c3c65-8a8a-40dc-b703-0cbe90d847bb",
   "metadata": {},
   "outputs": [],
   "source": [
    "oversamplers_result_summary_list=[]\n",
    "for i in range(summary_performace_for_all_oversampling_algorithms_all_folds_list.shape[0]):\n",
    "  performance_results_summary_list=[]\n",
    "  for j in range(summary_performace_for_all_oversampling_algorithms_all_folds_list.shape[1]):\n",
    "    performance_results_summary_list.append(str(summary_performace_for_all_oversampling_algorithms_all_folds_list[i][j][0])+\"\\u00B1\"+str(summary_performace_for_all_oversampling_algorithms_all_folds_list[i][j][1]))\n",
    "  oversamplers_result_summary_list.append(performance_results_summary_list)\n",
    "oversamplers_result_summary_list=np.array(oversamplers_result_summary_list)"
   ]
  },
  {
   "cell_type": "code",
   "execution_count": 38,
   "id": "eebec35a-4af3-46a6-b405-40a7ddb00fe0",
   "metadata": {},
   "outputs": [
    {
     "data": {
      "text/plain": [
       "['0.74±0.024', '0.57±0.025', '0.74±0.024', '0.74±0.024', '0.181±0.063']"
      ]
     },
     "execution_count": 38,
     "metadata": {},
     "output_type": "execute_result"
    }
   ],
   "source": [
    "performance_results_summary_list"
   ]
  },
  {
   "cell_type": "code",
   "execution_count": 39,
   "id": "4c3c80df-124e-400f-8e19-463de17f43fd",
   "metadata": {},
   "outputs": [
    {
     "data": {
      "text/plain": [
       "array([['0.706±0.023', '0.719±0.028', '0.706±0.023', '0.706±0.023',\n",
       "        '0.38±0.048'],\n",
       "       ['0.75±0.013', '0.701±0.025', '0.75±0.013', '0.75±0.013',\n",
       "        '0.396±0.048'],\n",
       "       ['0.752±0.017', '0.72±0.017', '0.752±0.017', '0.752±0.017',\n",
       "        '0.422±0.04'],\n",
       "       ['0.725±0.025', '0.72±0.031', '0.725±0.025', '0.725±0.025',\n",
       "        '0.396±0.056'],\n",
       "       ['0.74±0.024', '0.57±0.025', '0.74±0.024', '0.74±0.024',\n",
       "        '0.181±0.063']], dtype='<U11')"
      ]
     },
     "execution_count": 39,
     "metadata": {},
     "output_type": "execute_result"
    }
   ],
   "source": [
    "oversamplers_result_summary_list"
   ]
  },
  {
   "cell_type": "code",
   "execution_count": 40,
   "id": "13d8e568-ab29-463c-9514-2ab373981add",
   "metadata": {},
   "outputs": [],
   "source": [
    "df=pd.DataFrame(oversamplers_result_summary_list,columns=perfromance_measures,index=oversampler_name_list)"
   ]
  },
  {
   "cell_type": "code",
   "execution_count": 41,
   "id": "7c91bed1-ac2c-43b8-bbba-76058bb6f772",
   "metadata": {},
   "outputs": [
    {
     "data": {
      "text/html": [
       "<div>\n",
       "<style scoped>\n",
       "    .dataframe tbody tr th:only-of-type {\n",
       "        vertical-align: middle;\n",
       "    }\n",
       "\n",
       "    .dataframe tbody tr th {\n",
       "        vertical-align: top;\n",
       "    }\n",
       "\n",
       "    .dataframe thead th {\n",
       "        text-align: right;\n",
       "    }\n",
       "</style>\n",
       "<table border=\"1\" class=\"dataframe\">\n",
       "  <thead>\n",
       "    <tr style=\"text-align: right;\">\n",
       "      <th></th>\n",
       "      <th>accuracy</th>\n",
       "      <th>balanced accuracy</th>\n",
       "      <th>g-mean</th>\n",
       "      <th>f1-score</th>\n",
       "      <th>cohen_kappa</th>\n",
       "    </tr>\n",
       "  </thead>\n",
       "  <tbody>\n",
       "    <tr>\n",
       "      <th>SMOTE</th>\n",
       "      <td>0.706±0.023</td>\n",
       "      <td>0.719±0.028</td>\n",
       "      <td>0.706±0.023</td>\n",
       "      <td>0.706±0.023</td>\n",
       "      <td>0.38±0.048</td>\n",
       "    </tr>\n",
       "    <tr>\n",
       "      <th>polynome_fit_SMOTE</th>\n",
       "      <td>0.75±0.013</td>\n",
       "      <td>0.701±0.025</td>\n",
       "      <td>0.75±0.013</td>\n",
       "      <td>0.75±0.013</td>\n",
       "      <td>0.396±0.048</td>\n",
       "    </tr>\n",
       "    <tr>\n",
       "      <th>ProWSyn</th>\n",
       "      <td>0.752±0.017</td>\n",
       "      <td>0.72±0.017</td>\n",
       "      <td>0.752±0.017</td>\n",
       "      <td>0.752±0.017</td>\n",
       "      <td>0.422±0.04</td>\n",
       "    </tr>\n",
       "    <tr>\n",
       "      <th>Lee</th>\n",
       "      <td>0.725±0.025</td>\n",
       "      <td>0.72±0.031</td>\n",
       "      <td>0.725±0.025</td>\n",
       "      <td>0.725±0.025</td>\n",
       "      <td>0.396±0.056</td>\n",
       "    </tr>\n",
       "    <tr>\n",
       "      <th>Metropolis_hastings</th>\n",
       "      <td>0.74±0.024</td>\n",
       "      <td>0.57±0.025</td>\n",
       "      <td>0.74±0.024</td>\n",
       "      <td>0.74±0.024</td>\n",
       "      <td>0.181±0.063</td>\n",
       "    </tr>\n",
       "  </tbody>\n",
       "</table>\n",
       "</div>"
      ],
      "text/plain": [
       "                        accuracy balanced accuracy       g-mean     f1-score  \\\n",
       "SMOTE                0.706±0.023       0.719±0.028  0.706±0.023  0.706±0.023   \n",
       "polynome_fit_SMOTE    0.75±0.013       0.701±0.025   0.75±0.013   0.75±0.013   \n",
       "ProWSyn              0.752±0.017        0.72±0.017  0.752±0.017  0.752±0.017   \n",
       "Lee                  0.725±0.025        0.72±0.031  0.725±0.025  0.725±0.025   \n",
       "Metropolis_hastings   0.74±0.024        0.57±0.025   0.74±0.024   0.74±0.024   \n",
       "\n",
       "                     cohen_kappa  \n",
       "SMOTE                 0.38±0.048  \n",
       "polynome_fit_SMOTE   0.396±0.048  \n",
       "ProWSyn               0.422±0.04  \n",
       "Lee                  0.396±0.056  \n",
       "Metropolis_hastings  0.181±0.063  "
      ]
     },
     "execution_count": 41,
     "metadata": {},
     "output_type": "execute_result"
    }
   ],
   "source": [
    "df"
   ]
  },
  {
   "cell_type": "code",
   "execution_count": 42,
   "id": "6a61660c-6986-4f80-847c-f5ef3b2149c9",
   "metadata": {},
   "outputs": [],
   "source": [
    "with pd.ExcelWriter('SVM_clf_result_for_d2.xlsx') as excel_writer:\n",
    "  df.to_excel(excel_writer,sheet_name='sheet_1')"
   ]
  },
  {
   "cell_type": "code",
   "execution_count": null,
   "id": "114f9597-0b83-4f50-bb8b-b0767aed1308",
   "metadata": {},
   "outputs": [],
   "source": []
  }
 ],
 "metadata": {
  "kernelspec": {
   "display_name": "Python 3 (ipykernel)",
   "language": "python",
   "name": "python3"
  },
  "language_info": {
   "codemirror_mode": {
    "name": "ipython",
    "version": 3
   },
   "file_extension": ".py",
   "mimetype": "text/x-python",
   "name": "python",
   "nbconvert_exporter": "python",
   "pygments_lexer": "ipython3",
   "version": "3.12.4"
  }
 },
 "nbformat": 4,
 "nbformat_minor": 5
}
